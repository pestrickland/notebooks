{
 "metadata": {
  "name": ""
 },
 "nbformat": 3,
 "nbformat_minor": 0,
 "worksheets": [
  {
   "cells": [
    {
     "cell_type": "heading",
     "level": 1,
     "metadata": {},
     "source": [
      "The Python Control Environment"
     ]
    },
    {
     "cell_type": "markdown",
     "metadata": {},
     "source": [
      "This notebook uses SymPy and the python-control libraries. \n",
      "\n",
      "SymPy provides symbolic mathematics whilst python-control contains tools to help design and analyse control systems. It implements some of the features available in the MATLAB control systems toolbox. Links for each library are below:\n",
      "\n",
      "* http://sympy.org/en/index.html\n",
      "* https://www.cds.caltech.edu/~murray/wiki/Control_Systems_Library_for_Python"
     ]
    },
    {
     "cell_type": "heading",
     "level": 2,
     "metadata": {},
     "source": [
      "Basics of SymPy and python-control"
     ]
    },
    {
     "cell_type": "markdown",
     "metadata": {},
     "source": [
      "This example comes from http://www.jairusmartin.com/2013/02/control-systems-in-python-part-1.html.\n",
      "\n",
      "First, some basics to test the use of the control library."
     ]
    },
    {
     "cell_type": "code",
     "collapsed": false,
     "input": [
      "import sympy\n",
      "from sympy import *\n",
      "sympy.init_printing()"
     ],
     "language": "python",
     "metadata": {},
     "outputs": [],
     "prompt_number": 1
    },
    {
     "cell_type": "markdown",
     "metadata": {},
     "source": [
      "Create a symbol s:"
     ]
    },
    {
     "cell_type": "code",
     "collapsed": false,
     "input": [
      "s = Symbol(\"s\")"
     ],
     "language": "python",
     "metadata": {},
     "outputs": [],
     "prompt_number": 2
    },
    {
     "cell_type": "markdown",
     "metadata": {},
     "source": [
      "We can now use our symbol to define a transfer function:"
     ]
    },
    {
     "cell_type": "code",
     "collapsed": false,
     "input": [
      "G1 = 1 / (s + 1)"
     ],
     "language": "python",
     "metadata": {},
     "outputs": [],
     "prompt_number": 3
    },
    {
     "cell_type": "markdown",
     "metadata": {},
     "source": [
      "And it prints in a nice way using $\\LaTeX$:"
     ]
    },
    {
     "cell_type": "code",
     "collapsed": false,
     "input": [
      "G1"
     ],
     "language": "python",
     "metadata": {},
     "outputs": [
      {
       "latex": [
        "$$\\frac{1}{s + 1}$$"
       ],
       "metadata": {},
       "output_type": "pyout",
       "prompt_number": 4,
       "text": [
        "  1  \n",
        "\u2500\u2500\u2500\u2500\u2500\n",
        "s + 1"
       ]
      }
     ],
     "prompt_number": 4
    },
    {
     "cell_type": "code",
     "collapsed": false,
     "input": [
      "G2 = 10 * s / (s + 10)"
     ],
     "language": "python",
     "metadata": {},
     "outputs": [],
     "prompt_number": 5
    },
    {
     "cell_type": "code",
     "collapsed": false,
     "input": [
      "G2"
     ],
     "language": "python",
     "metadata": {},
     "outputs": [
      {
       "latex": [
        "$$\\frac{10 s}{s + 10}$$"
       ],
       "metadata": {},
       "output_type": "pyout",
       "prompt_number": 6,
       "text": [
        " 10\u22c5s \n",
        "\u2500\u2500\u2500\u2500\u2500\u2500\n",
        "s + 10"
       ]
      }
     ],
     "prompt_number": 6
    },
    {
     "cell_type": "code",
     "collapsed": false,
     "input": [
      "G = G1 * G2"
     ],
     "language": "python",
     "metadata": {},
     "outputs": [],
     "prompt_number": 7
    },
    {
     "cell_type": "code",
     "collapsed": false,
     "input": [
      "G"
     ],
     "language": "python",
     "metadata": {},
     "outputs": [
      {
       "latex": [
        "$$\\frac{10 s}{\\left(s + 1\\right) \\left(s + 10\\right)}$$"
       ],
       "metadata": {},
       "output_type": "pyout",
       "prompt_number": 8,
       "text": [
        "      10\u22c5s      \n",
        "\u2500\u2500\u2500\u2500\u2500\u2500\u2500\u2500\u2500\u2500\u2500\u2500\u2500\u2500\u2500\u2500\n",
        "(s + 1)\u22c5(s + 10)"
       ]
      }
     ],
     "prompt_number": 8
    },
    {
     "cell_type": "markdown",
     "metadata": {},
     "source": [
      "Let's try simplifying:"
     ]
    },
    {
     "cell_type": "code",
     "collapsed": false,
     "input": [
      "G.simplify()"
     ],
     "language": "python",
     "metadata": {},
     "outputs": [
      {
       "latex": [
        "$$\\frac{10 s}{\\left(s + 1\\right) \\left(s + 10\\right)}$$"
       ],
       "metadata": {},
       "output_type": "pyout",
       "prompt_number": 9,
       "text": [
        "      10\u22c5s      \n",
        "\u2500\u2500\u2500\u2500\u2500\u2500\u2500\u2500\u2500\u2500\u2500\u2500\u2500\u2500\u2500\u2500\n",
        "(s + 1)\u22c5(s + 10)"
       ]
      }
     ],
     "prompt_number": 9
    },
    {
     "cell_type": "markdown",
     "metadata": {},
     "source": [
      "Nothing to be done then, it seems."
     ]
    },
    {
     "cell_type": "code",
     "collapsed": false,
     "input": [
      "G = 0.3 * (s + 0.05) * (s ** 2 + 1600.0) / ((s ** 2 + 0.05 * s + 16.0) * (s + 70.0))"
     ],
     "language": "python",
     "metadata": {},
     "outputs": [],
     "prompt_number": 10
    },
    {
     "cell_type": "code",
     "collapsed": false,
     "input": [
      "G"
     ],
     "language": "python",
     "metadata": {},
     "outputs": [
      {
       "latex": [
        "$$\\frac{\\left(0.3 s + 0.015\\right) \\left(s^{2} + 1600.0\\right)}{\\left(s + 70.0\\right) \\left(s^{2} + 0.05 s + 16.0\\right)}$$"
       ],
       "metadata": {},
       "output_type": "pyout",
       "prompt_number": 11,
       "text": [
        "                 \u239b 2         \u239e \n",
        " (0.3\u22c5s + 0.015)\u22c5\u239ds  + 1600.0\u23a0 \n",
        "\u2500\u2500\u2500\u2500\u2500\u2500\u2500\u2500\u2500\u2500\u2500\u2500\u2500\u2500\u2500\u2500\u2500\u2500\u2500\u2500\u2500\u2500\u2500\u2500\u2500\u2500\u2500\u2500\u2500\u2500\u2500\n",
        "           \u239b 2                \u239e\n",
        "(s + 70.0)\u22c5\u239ds  + 0.05\u22c5s + 16.0\u23a0"
       ]
      }
     ],
     "prompt_number": 11
    },
    {
     "cell_type": "code",
     "collapsed": false,
     "input": [
      "G.simplify()"
     ],
     "language": "python",
     "metadata": {},
     "outputs": [
      {
       "latex": [
        "$$\\frac{\\left(0.3 s + 0.015\\right) \\left(s^{2} + 1600.0\\right)}{\\left(s + 70.0\\right) \\left(s^{2} + 0.05 s + 16.0\\right)}$$"
       ],
       "metadata": {},
       "output_type": "pyout",
       "prompt_number": 12,
       "text": [
        "                 \u239b 2         \u239e \n",
        " (0.3\u22c5s + 0.015)\u22c5\u239ds  + 1600.0\u23a0 \n",
        "\u2500\u2500\u2500\u2500\u2500\u2500\u2500\u2500\u2500\u2500\u2500\u2500\u2500\u2500\u2500\u2500\u2500\u2500\u2500\u2500\u2500\u2500\u2500\u2500\u2500\u2500\u2500\u2500\u2500\u2500\u2500\n",
        "           \u239b 2                \u239e\n",
        "(s + 70.0)\u22c5\u239ds  + 0.05\u22c5s + 16.0\u23a0"
       ]
      }
     ],
     "prompt_number": 12
    },
    {
     "cell_type": "markdown",
     "metadata": {},
     "source": [
      "Again, simplifying doesn't do anything."
     ]
    },
    {
     "cell_type": "code",
     "collapsed": false,
     "input": [
      "factor(G)"
     ],
     "language": "python",
     "metadata": {},
     "outputs": [
      {
       "latex": [
        "$$\\frac{0.3 \\left(20.0 s + 1.0\\right) \\left(1.0 s^{2} + 1600.0\\right)}{\\left(1.0 s + 70.0\\right) \\left(20.0 s^{2} + 1.0 s + 320.0\\right)}$$"
       ],
       "metadata": {},
       "output_type": "pyout",
       "prompt_number": 13,
       "text": [
        "                     \u239b     2         \u239e  \n",
        "  0.3\u22c5(20.0\u22c5s + 1.0)\u22c5\u239d1.0\u22c5s  + 1600.0\u23a0  \n",
        "\u2500\u2500\u2500\u2500\u2500\u2500\u2500\u2500\u2500\u2500\u2500\u2500\u2500\u2500\u2500\u2500\u2500\u2500\u2500\u2500\u2500\u2500\u2500\u2500\u2500\u2500\u2500\u2500\u2500\u2500\u2500\u2500\u2500\u2500\u2500\u2500\u2500\u2500\u2500\u2500\n",
        "               \u239b      2                \u239e\n",
        "(1.0\u22c5s + 70.0)\u22c5\u239d20.0\u22c5s  + 1.0\u22c5s + 320.0\u23a0"
       ]
      }
     ],
     "prompt_number": 13
    },
    {
     "cell_type": "markdown",
     "metadata": {},
     "source": [
      "Now a system in feedback form:"
     ]
    },
    {
     "cell_type": "code",
     "collapsed": false,
     "input": [
      "H = 50"
     ],
     "language": "python",
     "metadata": {},
     "outputs": [],
     "prompt_number": 14
    },
    {
     "cell_type": "code",
     "collapsed": false,
     "input": [
      "G1"
     ],
     "language": "python",
     "metadata": {},
     "outputs": [
      {
       "latex": [
        "$$\\frac{1}{s + 1}$$"
       ],
       "metadata": {},
       "output_type": "pyout",
       "prompt_number": 15,
       "text": [
        "  1  \n",
        "\u2500\u2500\u2500\u2500\u2500\n",
        "s + 1"
       ]
      }
     ],
     "prompt_number": 15
    },
    {
     "cell_type": "code",
     "collapsed": false,
     "input": [
      "G2"
     ],
     "language": "python",
     "metadata": {},
     "outputs": [
      {
       "latex": [
        "$$\\frac{10 s}{s + 10}$$"
       ],
       "metadata": {},
       "output_type": "pyout",
       "prompt_number": 16,
       "text": [
        " 10\u22c5s \n",
        "\u2500\u2500\u2500\u2500\u2500\u2500\n",
        "s + 10"
       ]
      }
     ],
     "prompt_number": 16
    },
    {
     "cell_type": "code",
     "collapsed": false,
     "input": [
      "Ts = G1 * G2 / (1 + H * G1 * G2)"
     ],
     "language": "python",
     "metadata": {},
     "outputs": [],
     "prompt_number": 17
    },
    {
     "cell_type": "code",
     "collapsed": false,
     "input": [
      "Ts"
     ],
     "language": "python",
     "metadata": {},
     "outputs": [
      {
       "latex": [
        "$$\\frac{10 s}{\\left(s + 1\\right) \\left(s + 10\\right) \\left(\\frac{500 s}{\\left(s + 1\\right) \\left(s + 10\\right)} + 1\\right)}$$"
       ],
       "metadata": {},
       "output_type": "pyout",
       "prompt_number": 18,
       "text": [
        "                  10\u22c5s                 \n",
        "\u2500\u2500\u2500\u2500\u2500\u2500\u2500\u2500\u2500\u2500\u2500\u2500\u2500\u2500\u2500\u2500\u2500\u2500\u2500\u2500\u2500\u2500\u2500\u2500\u2500\u2500\u2500\u2500\u2500\u2500\u2500\u2500\u2500\u2500\u2500\u2500\u2500\u2500\u2500\n",
        "                 \u239b     500\u22c5s          \u239e\n",
        "(s + 1)\u22c5(s + 10)\u22c5\u239c\u2500\u2500\u2500\u2500\u2500\u2500\u2500\u2500\u2500\u2500\u2500\u2500\u2500\u2500\u2500\u2500 + 1\u239f\n",
        "                 \u239d(s + 1)\u22c5(s + 10)    \u23a0"
       ]
      }
     ],
     "prompt_number": 18
    },
    {
     "cell_type": "code",
     "collapsed": false,
     "input": [
      "Ts.simplify()"
     ],
     "language": "python",
     "metadata": {},
     "outputs": [
      {
       "latex": [
        "$$\\frac{10 s}{s^{2} + 511 s + 10}$$"
       ],
       "metadata": {},
       "output_type": "pyout",
       "prompt_number": 19,
       "text": [
        "      10\u22c5s     \n",
        "\u2500\u2500\u2500\u2500\u2500\u2500\u2500\u2500\u2500\u2500\u2500\u2500\u2500\u2500\u2500\n",
        " 2             \n",
        "s  + 511\u22c5s + 10"
       ]
      }
     ],
     "prompt_number": 19
    },
    {
     "cell_type": "markdown",
     "metadata": {},
     "source": [
      "Simplify works with this one!"
     ]
    },
    {
     "cell_type": "heading",
     "level": 3,
     "metadata": {},
     "source": [
      "Step Response Plots"
     ]
    },
    {
     "cell_type": "markdown",
     "metadata": {},
     "source": [
      "Let's import the control library."
     ]
    },
    {
     "cell_type": "code",
     "collapsed": false,
     "input": [
      "from control import matlab"
     ],
     "language": "python",
     "metadata": {},
     "outputs": [
      {
       "ename": "ImportError",
       "evalue": "No module named 'control'",
       "output_type": "pyerr",
       "traceback": [
        "\u001b[1;31m---------------------------------------------------------------------------\u001b[0m\n\u001b[1;31mImportError\u001b[0m                               Traceback (most recent call last)",
        "\u001b[1;32m<ipython-input-22-eca90828c18d>\u001b[0m in \u001b[0;36m<module>\u001b[1;34m()\u001b[0m\n\u001b[1;32m----> 1\u001b[1;33m \u001b[1;32mfrom\u001b[0m \u001b[0mcontrol\u001b[0m \u001b[1;32mimport\u001b[0m \u001b[0mmatlab\u001b[0m\u001b[1;33m\u001b[0m\u001b[0m\n\u001b[0m",
        "\u001b[1;31mImportError\u001b[0m: No module named 'control'"
       ]
      }
     ],
     "prompt_number": 22
    },
    {
     "cell_type": "code",
     "collapsed": false,
     "input": [
      "import matplotlib.pyplot as plt"
     ],
     "language": "python",
     "metadata": {},
     "outputs": [],
     "prompt_number": 20
    },
    {
     "cell_type": "markdown",
     "metadata": {},
     "source": [
      "A quick helper function:"
     ]
    },
    {
     "cell_type": "code",
     "collapsed": false,
     "input": [
      "def step_response(Ts, *args, **kwargs):\n",
      "    num = Poly(Ts.as_numer_denom()[0], s).all_coeffs()\n",
      "    den = Poly(Ts.as_numer_denom()[1], s).all_coeffs()\n",
      "    tf = matlab.tf([float(i) for i in num], [float(i) for i in den])\n",
      "    y, t = matlab.step(tf, *args, **kwargs)  # Doesn't work if passed as a list (as used in example).\n",
      "    plt.plot(t, y)\n",
      "    plt.title(\"Step Response\")\n",
      "    plt.grid()\n",
      "    plt.xlabel(\"Time (s)\")\n",
      "    plt.ylabel(\"y(t)\")\n",
      "    info = \"OS: {:f}{:s}\".format(round((y.max() / y[-1] - 1) * 100, 2), \"%\")\n",
      "    try:\n",
      "        i10 = next(i for i in range(0, len(y) - 1) if y[i] >= y[-1] * 0.1)\n",
      "        Tr = round(t[next(i for i in range(i10, len(y) - 1) if y[i] * 0.9)] - t[i10], 2)\n",
      "    except StopIteration:\n",
      "        Tr = \"unknown\"\n",
      "    try:\n",
      "        Ts = round(t[next(len(y) - i for i in range(2, len(y) - 1) if abs(y[-i] / y[-1]) > 1.02)] - t[0], 2)\n",
      "    except StopIteration:\n",
      "        Ts = \"unknown\"\n",
      "        \n",
      "    info += \"\\nTr: {}\".format(Tr)\n",
      "    info += \"\\nTs: {}\".format(Ts)\n",
      "    print(info)\n",
      "    plt.legend([info], loc=4)\n",
      "    plt.show()"
     ],
     "language": "python",
     "metadata": {},
     "outputs": [],
     "prompt_number": 21
    },
    {
     "cell_type": "code",
     "collapsed": false,
     "input": [
      "step_response(G)"
     ],
     "language": "python",
     "metadata": {},
     "outputs": [
      {
       "output_type": "stream",
       "stream": "stdout",
       "text": [
        "OS: 5268.130000%\n",
        "Tr: 0.0\n",
        "Ts: 265.86\n"
       ]
      },
      {
       "output_type": "display_data",
       "png": "[encoded data removed]"
      }
     ],
     "prompt_number": 22
    },
    {
     "cell_type": "markdown",
     "metadata": {},
     "source": [
      "Note that `map()` returns an iterator in Python 3, so I used list comprehension to convert the numerator and denominators to floats. Also the example code sent `tf` as a list to the step function, but that failed."
     ]
    },
    {
     "cell_type": "code",
     "collapsed": false,
     "input": [
      "step_response(G1)"
     ],
     "language": "python",
     "metadata": {},
     "outputs": [
      {
       "output_type": "stream",
       "stream": "stdout",
       "text": [
        "OS: 0.000000%\n",
        "Tr: 0.0\n",
        "Ts: unknown\n"
       ]
      },
      {
       "output_type": "display_data",
       "png": "[encoded data removed]"
      }
     ],
     "prompt_number": 23
    },
    {
     "cell_type": "heading",
     "level": 3,
     "metadata": {},
     "source": [
      "Bode, Magnitude/Phase Plots"
     ]
    },
    {
     "cell_type": "markdown",
     "metadata": {},
     "source": [
      "Firstly I don't yet understand these &ndash; control theory was banished from my brain several years ago..."
     ]
    },
    {
     "cell_type": "code",
     "collapsed": false,
     "input": [
      "def freq_response(Ts, *args, **kwargs):\n",
      "    num = Poly(Ts.as_numer_denom()[0], s).all_coeffs()\n",
      "    den = Poly(Ts.as_numer_denom()[1], s).all_coeffs()\n",
      "    tf = matlab.tf([float(i) for i in num], [float(i) for i in den])\n",
      "    matlab.bode([tf], *args, **kwargs)  # tf needs to be passed as a list here for some reason.\n",
      "    plt.show()"
     ],
     "language": "python",
     "metadata": {},
     "outputs": [],
     "prompt_number": 24
    },
    {
     "cell_type": "markdown",
     "metadata": {},
     "source": [
      "So as before, we can send the function a transfer function such as G1:"
     ]
    },
    {
     "cell_type": "code",
     "collapsed": false,
     "input": [
      "G1"
     ],
     "language": "python",
     "metadata": {},
     "outputs": [
      {
       "latex": [
        "$$\\frac{1}{s + 1}$$"
       ],
       "output_type": "pyout",
       "prompt_number": 25,
       "text": [
        "  1  \n",
        "\u2500\u2500\u2500\u2500\u2500\n",
        "s + 1"
       ]
      }
     ],
     "prompt_number": 25
    },
    {
     "cell_type": "code",
     "collapsed": false,
     "input": [
      "freq_response(G1)"
     ],
     "language": "python",
     "metadata": {},
     "outputs": [
      {
       "output_type": "display_data",
       "png": "[encoded data removed]"
      }
     ],
     "prompt_number": 26
    },
    {
     "cell_type": "markdown",
     "metadata": {},
     "source": [
      "Arguments can also be passed through to `matlab.bode` like this:"
     ]
    },
    {
     "cell_type": "code",
     "collapsed": false,
     "input": [
      "freq_response(G, dB=True, Hz=True)"
     ],
     "language": "python",
     "metadata": {},
     "outputs": [
      {
       "output_type": "display_data",
       "png": "[encoded data removed]"
      }
     ],
     "prompt_number": 27
    },
    {
     "cell_type": "markdown",
     "metadata": {},
     "source": [
      "We can smooth this out by passing your own omega values to the function:"
     ]
    },
    {
     "cell_type": "code",
     "collapsed": false,
     "input": [
      "freq_response(G, omega=logspace(-3, 3, 500), dB=True, Hz=True)"
     ],
     "language": "python",
     "metadata": {},
     "outputs": [
      {
       "output_type": "display_data",
       "png": "[encoded data removed]"
      }
     ],
     "prompt_number": 28
    },
    {
     "cell_type": "heading",
     "level": 3,
     "metadata": {},
     "source": [
      "Solving a Problem"
     ]
    },
    {
     "cell_type": "markdown",
     "metadata": {},
     "source": [
      "This example of sorts is taken from http://www.jairusmartin.com/2013/02/control-systems-in-python-part-2.html, stated to be DP 9.11 from *Modern Control Systems* by Dorf and Bishop."
     ]
    },
    {
     "cell_type": "code",
     "collapsed": false,
     "input": [
      "Ki = Symbol(\"Ki\")\n",
      "Kp = Symbol(\"Kp\")"
     ],
     "language": "python",
     "metadata": {},
     "outputs": [],
     "prompt_number": 29
    },
    {
     "cell_type": "markdown",
     "metadata": {},
     "source": [
      "The controller is:"
     ]
    },
    {
     "cell_type": "code",
     "collapsed": false,
     "input": [
      "Gc = (Ki + Kp * s) / s\n",
      "Gc"
     ],
     "language": "python",
     "metadata": {},
     "outputs": [
      {
       "latex": [
        "$$\\frac{Ki + Kp s}{s}$$"
       ],
       "output_type": "pyout",
       "prompt_number": 30,
       "text": [
        "Ki + Kp\u22c5s\n",
        "\u2500\u2500\u2500\u2500\u2500\u2500\u2500\u2500\u2500\n",
        "    s    "
       ]
      }
     ],
     "prompt_number": 30
    },
    {
     "cell_type": "markdown",
     "metadata": {},
     "source": [
      "And the system is:"
     ]
    },
    {
     "cell_type": "code",
     "collapsed": false,
     "input": [
      "G = exp(-0.4 * s) / (0.2 * s + 1.0)\n",
      "G"
     ],
     "language": "python",
     "metadata": {},
     "outputs": [
      {
       "latex": [
        "$$\\frac{e^{- 0.4 s}}{0.2 s + 1.0}$$"
       ],
       "output_type": "pyout",
       "prompt_number": 31,
       "text": [
        "   -0.4\u22c5s  \n",
        "  \u212f        \n",
        "\u2500\u2500\u2500\u2500\u2500\u2500\u2500\u2500\u2500\u2500\u2500\n",
        "0.2\u22c5s + 1.0"
       ]
      }
     ],
     "prompt_number": 31
    },
    {
     "cell_type": "markdown",
     "metadata": {},
     "source": [
      "The exponential term is approximated as a second order polynomial using `matlab.pade`:"
     ]
    },
    {
     "cell_type": "code",
     "collapsed": false,
     "input": [
      "matlab.pade(0.4, 2)"
     ],
     "language": "python",
     "metadata": {},
     "outputs": [
      {
       "latex": [
        "$$\\begin{pmatrix}\\begin{bmatrix}1.0, & -14.999999999999998, & 74.99999999999999\\end{bmatrix}, & \\begin{bmatrix}1.0, & 14.999999999999998, & 74.99999999999999\\end{bmatrix}\\end{pmatrix}$$"
       ],
       "output_type": "pyout",
       "prompt_number": 32,
       "text": [
        "([1.0, -14.999999999999998, 74.99999999999999], [1.0, 14.999999999999998, 74.9\n",
        "9999999999999])"
       ]
      }
     ],
     "prompt_number": 32
    },
    {
     "cell_type": "markdown",
     "metadata": {},
     "source": [
      "And so the system can be approximated as:"
     ]
    },
    {
     "cell_type": "code",
     "collapsed": false,
     "input": [
      "Gapprox = (s ** 2 - 15 * s + 75) / ((0.2 * s + 1) * (s ** 2 + 15 * s + 75))\n",
      "Gapprox"
     ],
     "language": "python",
     "metadata": {},
     "outputs": [
      {
       "latex": [
        "$$\\frac{s^{2} - 15 s + 75}{\\left(0.2 s + 1\\right) \\left(s^{2} + 15 s + 75\\right)}$$"
       ],
       "output_type": "pyout",
       "prompt_number": 33,
       "text": [
        "        2                   \n",
        "       s  - 15\u22c5s + 75       \n",
        "\u2500\u2500\u2500\u2500\u2500\u2500\u2500\u2500\u2500\u2500\u2500\u2500\u2500\u2500\u2500\u2500\u2500\u2500\u2500\u2500\u2500\u2500\u2500\u2500\u2500\u2500\u2500\u2500\n",
        "            \u239b 2            \u239e\n",
        "(0.2\u22c5s + 1)\u22c5\u239ds  + 15\u22c5s + 75\u23a0"
       ]
      }
     ],
     "prompt_number": 33
    },
    {
     "cell_type": "markdown",
     "metadata": {},
     "source": [
      ">*Using frequency response methods, design the controller so that the overshoot of the system is P.O. &lt;= From this we determine 0.59. When we plot the poles and zeros of the system we see that there are 3 poles in the LHP and two zeros in the RHP. The controller adds another pole at 0, so the zero of our controller should be somewhere to the left of the -5 pole on the real axis.*\n",
      "\n",
      ">*Thus Ki/Kp &gt; 5. If Ki/Kp = 6. Using a Routh Hurwitz table we can see that 0&gt;Kp&gt;0.66 makes the system stable.*"
     ]
    },
    {
     "cell_type": "code",
     "collapsed": false,
     "input": [
      "def routh_hurwitz(Ts, *args):\n",
      "    den = Poly(Ts.as_numer_denom()[1], s).all_coeffs()\n",
      "    n = len(den) - 1\n",
      "    if n < 2:\n",
      "        return None\n",
      "    m = matrices.zeros(n + 1)\n",
      "    \n",
      "    # Insert the first two rows.\n",
      "    c = [den[i] for i in range(0, n + 1, 2)]\n",
      "    for i in range(0, len(c)):\n",
      "        m[0, i] = c[i]\n",
      "    c = [den[i] for i in range(1, n + 1, 2)]\n",
      "    for i in range(0, len(c)):\n",
      "        m[1, i] = c[i]\n",
      "        \n",
      "    # Compute the rest of the entries\n",
      "    for i in range(2, n + 1):\n",
      "        for j in range(1, n):\n",
      "            if m[i - 1, j] == 0:\n",
      "                m[i, j - 1] = m[i - 2, j]\n",
      "            elif m[i -1, 0] != 0:\n",
      "                m[i, j - 1] = ((m[i - 1, 0] * m[i - 2, j] - m[i - 2, 0] * m[i - 1, j]) / m[i - 1, 0]).together().simplify()\n",
      "    \n",
      "    m = m.col_insert(0, Matrix(([s ** (n - 1) for i in range(0, n + 1)])))\n",
      "    return m"
     ],
     "language": "python",
     "metadata": {},
     "outputs": [],
     "prompt_number": 34
    },
    {
     "cell_type": "code",
     "collapsed": false,
     "input": [
      "routh_hurwitz(Gapprox.subs(Ki, Kp*6))"
     ],
     "language": "python",
     "metadata": {},
     "outputs": [
      {
       "latex": [
        "$$\\left[\\begin{smallmatrix}s^{2} & 0.2 & 30.0 & 0 & 0\\\\s^{2} & 4.0 & 75.0 & 0 & 0\\\\s^{2} & 26.25 & 0 & 0 & 0\\\\s^{2} & 75.0 & 0 & 0 & 0\\end{smallmatrix}\\right]$$"
       ],
       "output_type": "pyout",
       "prompt_number": 35,
       "text": [
        "\u23a1 2                   \u23a4\n",
        "\u23a2s    0.2   30.0  0  0\u23a5\n",
        "\u23a2                     \u23a5\n",
        "\u23a2 2                   \u23a5\n",
        "\u23a2s    4.0   75.0  0  0\u23a5\n",
        "\u23a2                     \u23a5\n",
        "\u23a2 2                   \u23a5\n",
        "\u23a2s   26.25   0    0  0\u23a5\n",
        "\u23a2                     \u23a5\n",
        "\u23a2 2                   \u23a5\n",
        "\u23a3s   75.0    0    0  0\u23a6"
       ]
      }
     ],
     "prompt_number": 35
    },
    {
     "cell_type": "markdown",
     "metadata": {},
     "source": [
      "Not the answer I was looking for, but quite cool to see what can be produced."
     ]
    },
    {
     "cell_type": "heading",
     "level": 2,
     "metadata": {},
     "source": [
      "SymPy Tutorial"
     ]
    },
    {
     "cell_type": "markdown",
     "metadata": {},
     "source": [
      "Roots are left unevaluated by default:"
     ]
    },
    {
     "cell_type": "code",
     "collapsed": false,
     "input": [
      "sympy.sqrt(3)"
     ],
     "language": "python",
     "metadata": {},
     "outputs": [
      {
       "latex": [
        "$$\\sqrt{3}$$"
       ],
       "output_type": "pyout",
       "prompt_number": 42,
       "text": [
        "  ___\n",
        "\u2572\u2571 3 "
       ]
      }
     ],
     "prompt_number": 42
    },
    {
     "cell_type": "markdown",
     "metadata": {},
     "source": [
      "But simplification is possible:"
     ]
    },
    {
     "cell_type": "code",
     "collapsed": false,
     "input": [
      "sympy.sqrt(8)"
     ],
     "language": "python",
     "metadata": {},
     "outputs": [
      {
       "latex": [
        "$$2 \\sqrt{2}$$"
       ],
       "output_type": "pyout",
       "prompt_number": 43,
       "text": [
        "    ___\n",
        "2\u22c5\u2572\u2571 2 "
       ]
      }
     ],
     "prompt_number": 43
    },
    {
     "cell_type": "heading",
     "level": 3,
     "metadata": {},
     "source": [
      "Symbols"
     ]
    },
    {
     "cell_type": "markdown",
     "metadata": {},
     "source": [
      "Symbols must be defined before being used, just like any other Python variable."
     ]
    },
    {
     "cell_type": "code",
     "collapsed": false,
     "input": [
      "x, y = symbols(\"x y\")"
     ],
     "language": "python",
     "metadata": {},
     "outputs": [],
     "prompt_number": 44
    },
    {
     "cell_type": "code",
     "collapsed": false,
     "input": [
      "expr = x + 2 * y\n",
      "expr"
     ],
     "language": "python",
     "metadata": {},
     "outputs": [
      {
       "latex": [
        "$$x + 2 y$$"
       ],
       "output_type": "pyout",
       "prompt_number": 46,
       "text": [
        "x + 2\u22c5y"
       ]
      }
     ],
     "prompt_number": 46
    },
    {
     "cell_type": "code",
     "collapsed": false,
     "input": [
      "expr + 1"
     ],
     "language": "python",
     "metadata": {},
     "outputs": [
      {
       "latex": [
        "$$x + 2 y + 1$$"
       ],
       "output_type": "pyout",
       "prompt_number": 47,
       "text": [
        "x + 2\u22c5y + 1"
       ]
      }
     ],
     "prompt_number": 47
    },
    {
     "cell_type": "code",
     "collapsed": false,
     "input": [
      "expr - x"
     ],
     "language": "python",
     "metadata": {},
     "outputs": [
      {
       "latex": [
        "$$2 y$$"
       ],
       "output_type": "pyout",
       "prompt_number": 48,
       "text": [
        "2\u22c5y"
       ]
      }
     ],
     "prompt_number": 48
    },
    {
     "cell_type": "code",
     "collapsed": false,
     "input": [
      "x * expr"
     ],
     "language": "python",
     "metadata": {},
     "outputs": [
      {
       "latex": [
        "$$x \\left(x + 2 y\\right)$$"
       ],
       "output_type": "pyout",
       "prompt_number": 49,
       "text": [
        "x\u22c5(x + 2\u22c5y)"
       ]
      }
     ],
     "prompt_number": 49
    },
    {
     "cell_type": "markdown",
     "metadata": {},
     "source": [
      "Note that the expression has not been automatically expanded. However, the `expand` function can do that:"
     ]
    },
    {
     "cell_type": "code",
     "collapsed": false,
     "input": [
      "expanded_expr = expand(x * expr)\n",
      "expanded_expr"
     ],
     "language": "python",
     "metadata": {},
     "outputs": [
      {
       "latex": [
        "$$x^{2} + 2 x y$$"
       ],
       "output_type": "pyout",
       "prompt_number": 52,
       "text": [
        " 2        \n",
        "x  + 2\u22c5x\u22c5y"
       ]
      }
     ],
     "prompt_number": 52
    },
    {
     "cell_type": "markdown",
     "metadata": {},
     "source": [
      "And `factor` can be used to factor:"
     ]
    },
    {
     "cell_type": "code",
     "collapsed": false,
     "input": [
      "factor(expanded_expr)"
     ],
     "language": "python",
     "metadata": {},
     "outputs": [
      {
       "latex": [
        "$$x \\left(x + 2 y\\right)$$"
       ],
       "output_type": "pyout",
       "prompt_number": 53,
       "text": [
        "x\u22c5(x + 2\u22c5y)"
       ]
      }
     ],
     "prompt_number": 53
    },
    {
     "cell_type": "code",
     "collapsed": false,
     "input": [
      "x, t, z, nu = symbols(\"x t z nu\")\n",
      "nu"
     ],
     "language": "python",
     "metadata": {},
     "outputs": [
      {
       "latex": [
        "$$\\nu$$"
       ],
       "output_type": "pyout",
       "prompt_number": 57,
       "text": [
        "\u03bd"
       ]
      }
     ],
     "prompt_number": 57
    },
    {
     "cell_type": "markdown",
     "metadata": {},
     "source": [
      "Note that greek characters are supported.\n",
      "\n",
      "Now we can take the derivative of $\\sin(x)e^x$ with respect to $x$:"
     ]
    },
    {
     "cell_type": "code",
     "collapsed": false,
     "input": [
      "diff(sin(x) * exp(x), x)"
     ],
     "language": "python",
     "metadata": {},
     "outputs": [
      {
       "latex": [
        "$$e^{x} \\sin{\\left (x \\right )} + e^{x} \\cos{\\left (x \\right )}$$"
       ],
       "output_type": "pyout",
       "prompt_number": 56,
       "text": [
        " x           x       \n",
        "\u212f \u22c5sin(x) + \u212f \u22c5cos(x)"
       ]
      }
     ],
     "prompt_number": 56
    },
    {
     "cell_type": "markdown",
     "metadata": {},
     "source": [
      "Similarly we can integrate:"
     ]
    },
    {
     "cell_type": "code",
     "collapsed": false,
     "input": [
      "integrate(exp(x) * sin(x) + exp(x) * cos(x), x)"
     ],
     "language": "python",
     "metadata": {},
     "outputs": [
      {
       "latex": [
        "$$e^{x} \\sin{\\left (x \\right )}$$"
       ],
       "output_type": "pyout",
       "prompt_number": 58,
       "text": [
        " x       \n",
        "\u212f \u22c5sin(x)"
       ]
      }
     ],
     "prompt_number": 58
    },
    {
     "cell_type": "markdown",
     "metadata": {},
     "source": [
      "We can even calculate definite integrals (declaring infinity using `oo`):"
     ]
    },
    {
     "cell_type": "code",
     "collapsed": false,
     "input": [
      "integrate(sin(x ** 2), (x, -oo, oo))"
     ],
     "language": "python",
     "metadata": {},
     "outputs": [
      {
       "latex": [
        "$$\\frac{1}{2} \\sqrt{2} \\sqrt{\\pi}$$"
       ],
       "output_type": "pyout",
       "prompt_number": 61,
       "text": [
        "  ___   ___\n",
        "\u2572\u2571 2 \u22c5\u2572\u2571 \u03c0 \n",
        "\u2500\u2500\u2500\u2500\u2500\u2500\u2500\u2500\u2500\u2500\u2500\n",
        "     2     "
       ]
      }
     ],
     "prompt_number": 61
    },
    {
     "cell_type": "markdown",
     "metadata": {},
     "source": [
      "Limits:"
     ]
    },
    {
     "cell_type": "code",
     "collapsed": false,
     "input": [
      "limit(sin(x) / x, x, 0)"
     ],
     "language": "python",
     "metadata": {},
     "outputs": [
      {
       "latex": [
        "$$1$$"
       ],
       "output_type": "pyout",
       "prompt_number": 62,
       "text": [
        "1"
       ]
      }
     ],
     "prompt_number": 62
    },
    {
     "cell_type": "markdown",
     "metadata": {},
     "source": [
      "Solutions:"
     ]
    },
    {
     "cell_type": "code",
     "collapsed": false,
     "input": [
      "solve(x ** 2 - 2, x)"
     ],
     "language": "python",
     "metadata": {},
     "outputs": [
      {
       "latex": [
        "$$\\begin{bmatrix}- \\sqrt{2}, & \\sqrt{2}\\end{bmatrix}$$"
       ],
       "output_type": "pyout",
       "prompt_number": 63,
       "text": [
        "\u23a1   ___    ___\u23a4\n",
        "\u23a3-\u2572\u2571 2 , \u2572\u2571 2 \u23a6"
       ]
      }
     ],
     "prompt_number": 63
    },
    {
     "cell_type": "markdown",
     "metadata": {},
     "source": [
      "Differential equations:"
     ]
    },
    {
     "cell_type": "code",
     "collapsed": false,
     "input": [
      "y = Function(\"y\")"
     ],
     "language": "python",
     "metadata": {},
     "outputs": [],
     "prompt_number": 64
    },
    {
     "cell_type": "code",
     "collapsed": false,
     "input": [
      "dsolve(Eq(y(t).diff(t, t) - y(t), exp(t)), y(t))"
     ],
     "language": "python",
     "metadata": {},
     "outputs": [
      {
       "latex": [
        "$$\\operatorname{y}{\\left (t \\right )} = C_{2} e^{- t} + \\left(C_{1} + \\frac{1}{2} t\\right) e^{t}$$"
       ],
       "output_type": "pyout",
       "prompt_number": 65,
       "text": [
        "           -t   \u239b     t\u239e  t\n",
        "y(t) = C\u2082\u22c5\u212f   + \u239cC\u2081 + \u2500\u239f\u22c5\u212f \n",
        "                \u239d     2\u23a0   "
       ]
      }
     ],
     "prompt_number": 65
    },
    {
     "cell_type": "markdown",
     "metadata": {},
     "source": [
      "Eigenvalues:"
     ]
    },
    {
     "cell_type": "code",
     "collapsed": false,
     "input": [
      "Matrix([[1, 2], [2, 2]]).eigenvals()"
     ],
     "language": "python",
     "metadata": {},
     "outputs": [
      {
       "output_type": "pyout",
       "prompt_number": 66,
       "text": [
        "\u23a7      ____         ____       \u23ab\n",
        "\u23aa3   \u2572\u2571 17        \u2572\u2571 17    3   \u23aa\n",
        "\u23a8\u2500 + \u2500\u2500\u2500\u2500\u2500\u2500: 1, - \u2500\u2500\u2500\u2500\u2500\u2500 + \u2500: 1\u23ac\n",
        "\u23aa2     2            2      2   \u23aa\n",
        "\u23a9                              \u23ad"
       ]
      }
     ],
     "prompt_number": 66
    },
    {
     "cell_type": "markdown",
     "metadata": {},
     "source": [
      "Rewriting the Bessel function in terms of the spherical Bessel function:"
     ]
    },
    {
     "cell_type": "code",
     "collapsed": false,
     "input": [
      "besselj(nu, z).rewrite(jn)"
     ],
     "language": "python",
     "metadata": {},
     "outputs": [
      {
       "latex": [
        "$$\\frac{\\sqrt{2} \\sqrt{z} j_{\\nu - \\frac{1}{2}}\\left(z\\right)}{\\sqrt{\\pi}}$$"
       ],
       "output_type": "pyout",
       "prompt_number": 67,
       "text": [
        "  ___   ___               \n",
        "\u2572\u2571 2 \u22c5\u2572\u2571 z \u22c5jn(\u03bd - 1/2, z)\n",
        "\u2500\u2500\u2500\u2500\u2500\u2500\u2500\u2500\u2500\u2500\u2500\u2500\u2500\u2500\u2500\u2500\u2500\u2500\u2500\u2500\u2500\u2500\u2500\u2500\u2500\u2500\n",
        "            ___           \n",
        "          \u2572\u2571 \u03c0            "
       ]
      }
     ],
     "prompt_number": 67
    },
    {
     "cell_type": "markdown",
     "metadata": {},
     "source": [
      "Outputting as raw $\\LaTeX$:"
     ]
    },
    {
     "cell_type": "code",
     "collapsed": false,
     "input": [
      "latex(Integral(cos(x) ** 2, (x, 0, pi)))"
     ],
     "language": "python",
     "metadata": {},
     "outputs": [
      {
       "output_type": "pyout",
       "prompt_number": 68,
       "text": [
        "\\int_{0}^{\\pi} \\cos^{2}{\\left (x \\right )}\\, dx"
       ]
      }
     ],
     "prompt_number": 68
    },
    {
     "cell_type": "markdown",
     "metadata": {},
     "source": [
      "So it seems pretty powerful..."
     ]
    },
    {
     "cell_type": "code",
     "collapsed": false,
     "input": [],
     "language": "python",
     "metadata": {},
     "outputs": []
    }
   ],
   "metadata": {}
  }
 ]
}