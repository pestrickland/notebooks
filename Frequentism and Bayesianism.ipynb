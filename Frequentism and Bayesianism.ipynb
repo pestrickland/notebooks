{
 "metadata": {
  "name": ""
 },
 "nbformat": 3,
 "nbformat_minor": 0,
 "worksheets": [
  {
   "cells": [
    {
     "cell_type": "heading",
     "level": 2,
     "metadata": {},
     "source": [
      "Counting Photons"
     ]
    },
    {
     "cell_type": "markdown",
     "metadata": {},
     "source": [
      "Based on reading this article:\n",
      "\n",
      "http://jakevdp.github.io/blog/2014/03/11/frequentism-and-bayesianism-a-practical-intro/"
     ]
    },
    {
     "cell_type": "code",
     "collapsed": false,
     "input": [
      "from scipy import stats\n",
      "np.random.seed(1)  # Set the seed for repeatability."
     ],
     "language": "python",
     "metadata": {},
     "outputs": [],
     "prompt_number": 1
    },
    {
     "cell_type": "code",
     "collapsed": false,
     "input": [
      "F_true = 1000\n",
      "N = 50"
     ],
     "language": "python",
     "metadata": {},
     "outputs": [],
     "prompt_number": 2
    },
    {
     "cell_type": "markdown",
     "metadata": {},
     "source": [
      "Produce a poisson distribution around `F_true` and take `N` random samples?"
     ]
    },
    {
     "cell_type": "code",
     "collapsed": false,
     "input": [
      "F = stats.poisson(F_true).rvs(N)"
     ],
     "language": "python",
     "metadata": {},
     "outputs": [],
     "prompt_number": 3
    },
    {
     "cell_type": "markdown",
     "metadata": {},
     "source": [
      "Estimate the error (using the square-root rule is apparently standard for [Poisson distributions](http://en.wikipedia.org/wiki/Poisson_distribution)):"
     ]
    },
    {
     "cell_type": "code",
     "collapsed": false,
     "input": [
      "e = np.sqrt(F)"
     ],
     "language": "python",
     "metadata": {},
     "outputs": [],
     "prompt_number": 4
    },
    {
     "cell_type": "markdown",
     "metadata": {},
     "source": [
      "Visualise the data:"
     ]
    },
    {
     "cell_type": "code",
     "collapsed": false,
     "input": [
      "fig, ax = plt.subplots()\n",
      "ax.errorbar(F, np.arange(N), xerr=e, fmt=\"ob\", ecolor=\"gray\", alpha=0.5)\n",
      "ax.vlines([F_true], 0, N, linewidth=5, alpha=0.2)\n",
      "ax.set_xlabel(\"Flux\")\n",
      "ax.set_ylabel(\"Measurement Number\")"
     ],
     "language": "python",
     "metadata": {},
     "outputs": [
      {
       "metadata": {},
       "output_type": "pyout",
       "prompt_number": 5,
       "text": [
        "<matplotlib.text.Text at 0xa9370b8>"
       ]
      },
      {
       "metadata": {},
       "output_type": "display_data",
       "png": "[encoded data removed]",
       "text": [
        "<matplotlib.figure.Figure at 0xa92e940>"
       ]
      }
     ],
     "prompt_number": 5
    },
    {
     "cell_type": "markdown",
     "metadata": {},
     "source": [
      "If we just take the samples and errors, what is the best estimate of the true value?"
     ]
    },
    {
     "cell_type": "heading",
     "level": 3,
     "metadata": {},
     "source": [
      "Frequentist approach"
     ]
    },
    {
     "cell_type": "markdown",
     "metadata": {},
     "source": [
      "A normal distribution with mean $F_\\mathrm{true}$ and with standard deviation $e_i$ is given by:"
     ]
    },
    {
     "cell_type": "heading",
     "level": 4,
     "metadata": {},
     "source": [
      "$$\n",
      "P\\left(D_i~|~F_{\\rm true}\\right) = \\frac{1}{\\sqrt{2\\pi e^2_i}} \\exp\\left[-\\frac{\\left(F_i - F_{\\rm true}\\right)^2}{2e_i^2}\\right]\n",
      "$$"
     ]
    },
    {
     "cell_type": "markdown",
     "metadata": {},
     "source": [
      "In other words, the equation calculates the probability a single observation $D_i = \\left(F_i, e_i\\right)$ given a mean of $F_{\\rm true}$ and an error (standard deviation) of $e_i$, assuming the errors are normally distributed."
     ]
    },
    {
     "cell_type": "markdown",
     "metadata": {},
     "source": [
      "The `scipy.stats` module includes a normal probability density function:"
     ]
    },
    {
     "cell_type": "code",
     "collapsed": false,
     "input": [
      "from scipy.stats import norm\n",
      "norm.pdf(0, loc=0, scale=1)"
     ],
     "language": "python",
     "metadata": {},
     "outputs": [
      {
       "metadata": {},
       "output_type": "pyout",
       "prompt_number": 6,
       "text": [
        "0.3989422804014327"
       ]
      }
     ],
     "prompt_number": 6
    },
    {
     "cell_type": "markdown",
     "metadata": {},
     "source": []
    },
    {
     "cell_type": "markdown",
     "metadata": {},
     "source": [
      "The keywords `loc` and `scale` specify the mean and standard deviation respectively."
     ]
    },
    {
     "cell_type": "markdown",
     "metadata": {},
     "source": [
      "A *likelihood function* can be constructed by calculating the product of probabilities for each data point, i.e.:\n",
      "\n",
      "$P(D_1~|~F_{\\rm true}) \\times P(D_2~|~F_{\\rm true}) \\times P(D_3~|~F_{\\rm true}) \\ldots \\times P(D_n~|~F_{\\rm true})$"
     ]
    },
    {
     "cell_type": "markdown",
     "metadata": {},
     "source": [
      "$$\n",
      "\\mathcal{L}(D~|~F_{\\rm true}) = \\prod_{i=1}^N P(D_i~|~F_{\\rm true})\n",
      "$$"
     ]
    },
    {
     "cell_type": "markdown",
     "metadata": {},
     "source": [
      "Often the log-likelihood is used instead, as the values can be very small. Before taking logs, we can substitute the probability density function into the likelihood function:"
     ]
    },
    {
     "cell_type": "markdown",
     "metadata": {},
     "source": [
      "$$\n",
      "\\begin{align}\n",
      "\\mathcal{L}(D~|~F_{\\rm true}) &= \\prod_{i=1}^N P(D_i~|~F_{\\rm true}) \\\\\n",
      "\\mathcal{L}(D~|~F_{\\rm true}) &= \\prod_{i=1}^N \\left[\\frac{1}{\\sqrt{2\\pi e^2_i}} \\exp\\left[-\\frac{\\left(F_i - F_{\\rm true}\\right)^2}{2e_i^2}\\right]\\right] \\\\\n",
      "\\log \\mathcal{L} &= \\log\\prod_{i=1}^N \\left[\\frac{1}{\\sqrt{2\\pi e^2_i}} \\exp\\left[-\\frac{\\left(F_i - F_{\\rm true}\\right)^2}{2e_i^2}\\right]\\right] \\\\\n",
      "\\log \\mathcal{L} &= \\sum_{i=1}^N \\left[\\log(2\\pi e^2_i)^{-\\frac12} + \\log e^{-\\frac{\\left(F_i - F_{\\rm true}\\right)^2}{2e_i^2}}\\right] \\\\\n",
      "\\log \\mathcal{L} &= \\sum_{i=1}^N \\left[-\\frac12\\log(2\\pi e^2_i) -\\frac{\\left(F_i - F_{\\rm true}\\right)^2}{2e_i^2}\\right] \\\\\n",
      "\\log \\mathcal{L} &= -\\frac12 \\sum_{i=1}^N \\left[\\log(2\\pi e^2_i) + \\frac{\\left(F_i - F_{\\rm true}\\right)^2}{e_i^2}\\right] \\\\\n",
      "\\end{align}\n",
      "$$"
     ]
    },
    {
     "cell_type": "markdown",
     "metadata": {},
     "source": [
      "To determine $F_{\\rm true}$ such that the likelihood is maximised, $d\\log\\mathcal{L}/dF_{\\rm true}$ can be set to zero. \n",
      "\n",
      "Is that the same as calculating the derivative of the function above with respect to $F_{\\rm true}$?"
     ]
    },
    {
     "cell_type": "markdown",
     "metadata": {},
     "source": [
      "$$\n",
      "\\begin{align}\n",
      "\\frac{\\mathrm d}{\\mathrm d F_{\\rm true}}\\frac{\\left(F_i - F_{\\rm true}\\right)^2}{e_i^2} \n",
      "&= \\frac{\\mathrm d}{\\mathrm d F_{\\rm true}} \\frac{F_i^2 - 2F_iF_{\\rm true} + F_{\\rm true}^2}{e_i^2} \\\\\n",
      "&= \\frac{-2F_i + 2F_{\\rm true}}{e_i^2}\n",
      "\\end{align}\n",
      "$$"
     ]
    },
    {
     "cell_type": "markdown",
     "metadata": {},
     "source": [
      "Setting to zero and solving:\n",
      "\n",
      "$$\n",
      "\\begin{align}\n",
      "-\\frac12 \\left[\\sum^N_{i=1}\\frac{-2F_i + 2F_{\\rm true}}{e_i^2}\\right] &= 0 \\\\\n",
      "F_{\\rm true}\\sum^N_{i=1}\\frac{1}{e_i^2} &= \\sum^N_{i=1}\\frac{F_i}{e_i^2}\n",
      "\\end{align}\n",
      "$$"
     ]
    },
    {
     "cell_type": "markdown",
     "metadata": {},
     "source": [
      "The resulting estimate of $F_{\\rm true}$ is stated to be:\n",
      "\n",
      "$$\n",
      "F_{\\rm est} = \\frac{\\sum w_i F_i}{\\sum w_i}\n",
      "$$\n",
      "\n",
      "where $w_i = \\frac{1}{e_i^2}$, so that seems to agree with my bad working."
     ]
    },
    {
     "cell_type": "markdown",
     "metadata": {},
     "source": [
      "If all errors are equal, it is stated that the equation reduces to:\n",
      "\n",
      "$$\n",
      "F_{\\rm est} = \\frac 1 N \\sum^N_{i=1} F_i\n",
      "$$\n",
      "\n",
      "In this case, $F_{\\rm est}$ is simply the mean of the observed data (when the errors are equal), something that makes intuitive sense."
     ]
    },
    {
     "cell_type": "markdown",
     "metadata": {},
     "source": [
      "What is the error of the estimate? This can be accomplished by fitting a Gaussian (normal) approximation to the likelihood curve. It can apparently be shown that the standard deviaion of this approximation is:\n",
      "\n",
      "$$\n",
      "\\sigma_{\\rm est} = \\left(\\sum^N_{i=1} w_i \\right)^{-1/2}\n",
      "$$"
     ]
    },
    {
     "cell_type": "markdown",
     "metadata": {},
     "source": [
      "For the dataset we have used, we can evaluate the parameters derived above:"
     ]
    },
    {
     "cell_type": "code",
     "collapsed": false,
     "input": [
      "w = 1 / e ** 2\n",
      "print(\"\"\"\n",
      "      F_true = {0}\n",
      "      F_est = {1:.0f} +/- {2:.0f} (based on {3} measurements)\n",
      "      \"\"\".format(F_true, (w * F).sum() / w.sum(), w.sum() ** -0.5, N))"
     ],
     "language": "python",
     "metadata": {},
     "outputs": [
      {
       "output_type": "stream",
       "stream": "stdout",
       "text": [
        "\n",
        "      F_true = 1000\n",
        "      F_est = 998 +/- 4 (based on 50 measurements)\n",
        "      \n"
       ]
      }
     ],
     "prompt_number": 7
    },
    {
     "cell_type": "heading",
     "level": 3,
     "metadata": {},
     "source": [
      "Bayesian approach"
     ]
    }
   ],
   "metadata": {}
  }
 ]
}