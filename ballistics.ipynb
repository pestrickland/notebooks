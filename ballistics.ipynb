{
 "metadata": {
  "name": ""
 },
 "nbformat": 3,
 "nbformat_minor": 0,
 "worksheets": [
  {
   "cells": [
    {
     "cell_type": "heading",
     "level": 1,
     "metadata": {},
     "source": [
      "Ballistic Trajectory Modelling"
     ]
    },
    {
     "cell_type": "heading",
     "level": 2,
     "metadata": {},
     "source": [
      "Zero Drag"
     ]
    },
    {
     "cell_type": "markdown",
     "metadata": {},
     "source": [
      "When drag is not considered, the equations become quite simple. Gravity acts on the mass of the object in the z direction. In the x direction, the object maintains its initial horizontal speed without slowing down. "
     ]
    },
    {
     "cell_type": "markdown",
     "metadata": {},
     "source": [
      "The horizontal velocity component is found by:\n",
      "\n",
      "$$v_x = v\\cos\\theta$$"
     ]
    },
    {
     "cell_type": "markdown",
     "metadata": {},
     "source": [
      "The vertical component of the velocity is found by:\n",
      "\n",
      "$$v_z = v\\sin\\theta$$"
     ]
    },
    {
     "cell_type": "markdown",
     "metadata": {},
     "source": [
      "where $\\theta$ is the initial angle of the store relative to the horizontal plane."
     ]
    },
    {
     "cell_type": "heading",
     "level": 3,
     "metadata": {},
     "source": [
      "Zero initial height"
     ]
    },
    {
     "cell_type": "markdown",
     "metadata": {},
     "source": [
      "At time $t$, the horizontal distance is found by:\n",
      "\n",
      "$$x(t) = vt\\cos\\theta$$"
     ]
    },
    {
     "cell_type": "markdown",
     "metadata": {},
     "source": [
      "Similarly, the vertical distance travelled is found by:\n",
      "\n",
      "$$z(t) = vt\\sin\\theta - \\frac{1}{2}gt^2$$"
     ]
    },
    {
     "cell_type": "markdown",
     "metadata": {},
     "source": [
      "Since we have assumed flat ground ($z_0 = 0$), the starting and ending values will be the same. We can solve for $t$:\n",
      "\n",
      "$$\n",
      "\\begin{align}\n",
      "z & = vt\\sin\\theta - \\frac{1}{2}gt^2 \\\\\\\\\n",
      "z & = t\\left(v\\sin\\theta - \\frac{1}{2}gt\\right) \\\\\\\\\n",
      "\\end{align}\n",
      "$$\n",
      "\n",
      "So, $t=0$ or $t = \\frac{2v\\sin\\theta}{g}$\n",
      "\n",
      "Substituting $t$ into the equation for $x$ yields:\n",
      "\n",
      "$$x = \\frac{2v^2\\sin\\theta\\cos\\theta}{g}$$"
     ]
    },
    {
     "cell_type": "markdown",
     "metadata": {},
     "source": [
      "Simplifying:\n",
      "\n",
      "$$x = \\frac{v^2\\sin2\\theta}{g}$$"
     ]
    },
    {
     "cell_type": "heading",
     "level": 3,
     "metadata": {},
     "source": [
      "Trajectory from a starting height"
     ]
    },
    {
     "cell_type": "markdown",
     "metadata": {},
     "source": [
      "If the start point from the trajectory is at a height other than zero, the equations of motion change slightly. $x(t)$ is unaffected, but for $z(t)$ an initial $z$ component is introduced:\n",
      "\n",
      "$$x(t) = vt\\cos\\theta$$\n",
      "$$z(t) = z_0 + vt\\sin\\theta - \\frac{1}{2}gt^2$$"
     ]
    },
    {
     "cell_type": "markdown",
     "metadata": {},
     "source": [
      "Setting $z=0$ we can solve for $t$:"
     ]
    },
    {
     "cell_type": "markdown",
     "metadata": {},
     "source": [
      "$$\n",
      "\\begin{align}\n",
      "0 & = z_0 + vt\\sin\\theta - \\frac{1}{2}gt^2 \\\\\\\\\n",
      "t & = \\frac{- v\\sin\\theta \\pm \\sqrt{v^2\\sin^2\\theta + 2gz_0}}{-g} \\\\\\\\\n",
      "t & = \\frac{v\\sin\\theta}{g} \\pm \\frac{\\sqrt{v^2\\sin^2\\theta + 2gz_0}}{g} \\\\\\\\\n",
      "t & = \\frac{v\\sin\\theta}{g} + \\frac{\\sqrt{v^2\\sin^2\\theta + 2gz_0}}{g} \\\\\\\\\n",
      "\\end{align}\n",
      "$$"
     ]
    },
    {
     "cell_type": "markdown",
     "metadata": {},
     "source": [
      "Solving for $x$:"
     ]
    },
    {
     "cell_type": "markdown",
     "metadata": {},
     "source": [
      "$$\n",
      "\\begin{align}\n",
      "x & = vt\\cos\\theta \\\\\\\\\n",
      "x & = v\\cos\\theta\\left[\\frac{v\\sin\\theta}{g} + \\frac{\\sqrt{v^2\\sin^2\\theta + 2gz_0}}{g}\\right] \\\\\\\\\n",
      "x & = \\frac{v\\cos\\theta}{g}\\left[v\\sin\\theta + \\sqrt{v^2\\sin^2\\theta + 2gz_0}\\right] \\\\\\\\\n",
      "\\end{align}\n",
      "$$"
     ]
    },
    {
     "cell_type": "markdown",
     "metadata": {},
     "source": [
      "Let's try plotting something. First, we need functions that calculate time and position."
     ]
    },
    {
     "cell_type": "code",
     "collapsed": false,
     "input": [
      "def calc_time(v, z, theta):\n",
      "    \"\"\"Calculate time of flight.\"\"\"\n",
      "    t = v * sin(deg2rad(theta)) / 9.81 + (sqrt(v ** 2 * sin(deg2rad(theta)) ** 2 + 2 * 9.81 * z) / 9.81)\n",
      "    return t"
     ],
     "language": "python",
     "metadata": {},
     "outputs": [],
     "prompt_number": 1
    },
    {
     "cell_type": "code",
     "collapsed": false,
     "input": [
      "def calc_distance(v, z, theta):\n",
      "    \"\"\"Calculate distance of flight.\"\"\"\n",
      "    x = v * cos(deg2rad(theta)) / 9.81 * (v * sin(deg2rad(theta)) + sqrt(v ** 2 * sin(deg2rad(theta)) ** 2 + 2 * 9.81 * z))\n",
      "    return x"
     ],
     "language": "python",
     "metadata": {},
     "outputs": [],
     "prompt_number": 2
    },
    {
     "cell_type": "code",
     "collapsed": false,
     "input": [
      "def calculate_x(v, t, theta):\n",
      "    \"\"\"Calculate x at time t.\"\"\"\n",
      "    x = v * t * cos(deg2rad(theta))\n",
      "    return x\n",
      "    "
     ],
     "language": "python",
     "metadata": {},
     "outputs": [],
     "prompt_number": 3
    },
    {
     "cell_type": "code",
     "collapsed": false,
     "input": [
      "def calculate_z(v, t, theta, z0):\n",
      "    \"\"\"Calculate z at time t, given initial height z0.\"\"\"\n",
      "    z = z0 + v * t * sin(deg2rad(theta)) - 0.5 * 9.81 * t ** 2\n",
      "    return z"
     ],
     "language": "python",
     "metadata": {},
     "outputs": [],
     "prompt_number": 4
    },
    {
     "cell_type": "code",
     "collapsed": false,
     "input": [
      "v = 250\n",
      "z0 = 5000\n",
      "theta = -10\n",
      "time_of_flight = calc_time(v, z0, theta)\n",
      "time = arange(0, time_of_flight, 0.1)\n",
      "x = []\n",
      "z = []\n",
      "\n",
      "for t in time:\n",
      "    x.append(calculate_x(v, t, theta))\n",
      "    z.append(calculate_z(v, t, theta, z0))"
     ],
     "language": "python",
     "metadata": {},
     "outputs": [],
     "prompt_number": 5
    },
    {
     "cell_type": "code",
     "collapsed": false,
     "input": [
      "axis(\"equal\")\n",
      "plot(x,z)\n",
      "axis()"
     ],
     "language": "python",
     "metadata": {},
     "outputs": [
      {
       "metadata": {},
       "output_type": "pyout",
       "prompt_number": 6,
       "text": [
        "(0.0, 7000.0, 0.0, 5000.0)"
       ]
      },
      {
       "metadata": {},
       "output_type": "display_data",
       "png": "[encoded data removed]",
       "text": [
        "<matplotlib.figure.Figure at 0x7f5f6db3a050>"
       ]
      }
     ],
     "prompt_number": 6
    },
    {
     "cell_type": "heading",
     "level": 2,
     "metadata": {},
     "source": [
      "Introducing drag"
     ]
    },
    {
     "cell_type": "markdown",
     "metadata": {},
     "source": [
      "The drag of a body is defined by the following equation:\n",
      "\n",
      "$$\n",
      "D = C_d\\rho A v^2\n",
      "$$"
     ]
    },
    {
     "cell_type": "markdown",
     "metadata": {},
     "source": [
      "where $C_d$ is the dimensionless coefficient of drag and $A$ is the cross-sectional area of the body."
     ]
    },
    {
     "cell_type": "heading",
     "level": 3,
     "metadata": {},
     "source": [
      "Terminal velocity"
     ]
    },
    {
     "cell_type": "markdown",
     "metadata": {},
     "source": [
      "When a body is travelling downwards, gravity acts to increase the body's speed whilst drag acts to slow it down: \n",
      "\n",
      "$$\n",
      "F_{\\mathrm{net}} = D - mg\n",
      "$$\n",
      "\n",
      "The drag will increase until its force equals the weight of the body, making the net force zero. The velocity of the body at this point will be its terminal velocity.\n",
      "\n",
      "$$\n",
      "\\begin{align}\n",
      "F_{\\mathrm{net}} &= D - mg = 0 \\\\\\\\\n",
      "mg &= D \\\\\\\\\n",
      "mg &= \\frac{C_d \\rho A V_t^2}{2} \\\\\\\\\n",
      "V_t^2 &= \\frac{2mg}{C_d \\rho A} \\\\\\\\\n",
      "V_t &= \\left[\\frac{2mg}{C_d \\rho A}\\right]^\\frac{1}{2} \\\\\\\\\n",
      "\\end{align}\n",
      "$$"
     ]
    },
    {
     "cell_type": "code",
     "collapsed": false,
     "input": [
      "def calc_terminal_velocity(m, cd, a, rho=1.225):\n",
      "    \"\"\"Calculate the terminal velocity of a body with known drag coefficient\"\"\"\n",
      "    g = 9.81\n",
      "    vt = (2 * m * g / cd / rho / a) ** 0.5\n",
      "    return vt"
     ],
     "language": "python",
     "metadata": {},
     "outputs": [],
     "prompt_number": 7
    },
    {
     "cell_type": "heading",
     "level": 3,
     "metadata": {},
     "source": [
      "Velocity of a falling body"
     ]
    },
    {
     "cell_type": "markdown",
     "metadata": {},
     "source": [
      "Two forces act on a falling body: gravity and drag. Gravity acts to accelerate the body towards the earth and its force is defined as:\n",
      "\n",
      "$$\n",
      "F_g = mg\n",
      "$$"
     ]
    },
    {
     "cell_type": "markdown",
     "metadata": {},
     "source": [
      "Drag acts on the body to slow it down. As described above it is a function of $v^2$, but to simplify things at first we will assume it is proportional to the velocity:\n",
      "\n",
      "$$\n",
      "F_d = -kv\n",
      "$$\n",
      "\n",
      "The net force acting on the body is the sum of the forces due to gravity and drag:\n",
      "\n",
      "$$\n",
      "F_\\mathrm{net} = F_g + F_d = mg - kv\n",
      "$$"
     ]
    },
    {
     "cell_type": "markdown",
     "metadata": {},
     "source": [
      "The force acting on the body results in an acceleration $a$. Acceleration is equal to the rate of change of velocity, therefore:\n",
      "\n",
      "$$\n",
      "a = \\frac{\\mathrm{d}v}{\\mathrm{d}t} = v^\\prime(t)\n",
      "$$\n",
      "\n",
      "The net force is associated with a net acceleration, therefore we have a differential equation that relates speed and acceleration:\n",
      "\n",
      "$$\n",
      "ma = mv^\\prime(t)= mg - kv\n",
      "$$\n",
      "\n",
      "Rearranging in terms of $v^\\prime$:\n",
      "\n",
      "$$\n",
      "\\begin{align}\n",
      "v^\\prime(t) &= g - \\frac{k}{m}v \\\\\n",
      "v^\\prime(t) &= \\frac{k}{m}\\left[\\frac{mg}{k} - v\\right]\n",
      "\\end{align}\n",
      "$$"
     ]
    },
    {
     "cell_type": "markdown",
     "metadata": {},
     "source": [
      "Let an auxilliary function $p$ be defined such that:\n",
      "\n",
      "$$\n",
      "p = \\frac{mg}{k} - v\n",
      "$$\n",
      "\n",
      "and calculate its derivative with respect to time:\n",
      "\n",
      "$$\n",
      "p^\\prime(t) = -v^\\prime(t)\n",
      "$$"
     ]
    },
    {
     "cell_type": "markdown",
     "metadata": {},
     "source": [
      "If we substitute $p$ into our differential equation we get:\n",
      "\n",
      "$$\n",
      "\\begin{align}\n",
      "-p^\\prime(t) &= \\frac{k}{m}p \\\\\n",
      "p^\\prime(t) &= -\\frac{k}{m}p\n",
      "\\end{align}\n",
      "$$"
     ]
    },
    {
     "cell_type": "markdown",
     "metadata": {},
     "source": [
      "This equation is separable, so can be integrated in a straightforward manner:\n",
      "\n",
      "$$\n",
      "\\begin{align}\n",
      "\\frac{\\mathrm{d}p}{\\mathrm{d}t} &= -\\frac k m p \\\\\n",
      "\\frac 1 p \\mathrm d p &= -\\frac k m \\mathrm d t \\\\\n",
      "\\int \\frac 1 p \\mathrm d p &= -\\frac k m \\int \\mathrm d t \\\\\n",
      "\\ln | p | &= -\\frac k m \\left( t + C \\right)\\\\\n",
      "\\ln | p | &= -\\frac k m t + C \\\\\n",
      "p &= e^{-\\frac k m t + C} \\\\\n",
      "p &= e^Ce^{-\\frac k m t} \\\\\n",
      "p &= Ce^{-\\frac k m t}\n",
      "\\end{align}\n",
      "$$"
     ]
    },
    {
     "cell_type": "markdown",
     "metadata": {},
     "source": [
      "Re-substituting $p = \\frac{mg} k - v$ and rearranging in terms of $v$:\n",
      "\n",
      "$$\n",
      "\\begin{align}\n",
      "\\frac{mg}{k} - v &= Ce^{-\\frac k m t} \\\\\n",
      "v &= \\frac{mg}{k} - Ce^{-\\frac k m t}\n",
      "\\end{align}\n",
      "$$\n",
      "\n",
      "Assuming the falling body has an initial vertical velocity $v_0$ we can solve for $C$. $v\\left(0\\right)=v_0$, so:\n",
      "\n",
      "$$\n",
      "\\begin{align}\n",
      "v_0 &= \\frac{mg} k - Ce^0 \\\\\n",
      "C &= \\frac{mg} k - v_0\n",
      "\\end{align}\n",
      "$$\n",
      "\n",
      "Finally, the solution to the differential equation is:\n",
      "\n",
      "$$\n",
      "\\begin{align}\n",
      "v &= \\frac{mg} k - \\left(\\frac{mg} k - v_0\\right) e^{-\\frac k m t} \n",
      "\\end{align}\n",
      "$$"
     ]
    },
    {
     "cell_type": "code",
     "collapsed": false,
     "input": [
      "m = 0.6\n",
      "g = 9.81\n",
      "k = 0.5\n",
      "v0 = 0\n",
      "\n",
      "t = arange(0, 10, 0.1)\n",
      "\n",
      "v = [m * g / k - (m * g / k - v0) * exp(- k / m * i) for i in t]"
     ],
     "language": "python",
     "metadata": {},
     "outputs": [],
     "prompt_number": 25
    },
    {
     "cell_type": "code",
     "collapsed": false,
     "input": [
      "fig, ax = plt.subplots(1)\n",
      "plot(t, v,lw=\"2\")\n",
      "ax.set_ylabel(\"Velocity [$ms^{-1}$]\")\n",
      "ax.set_xlabel(\"Time [$s$]\")"
     ],
     "language": "python",
     "metadata": {},
     "outputs": [
      {
       "metadata": {},
       "output_type": "pyout",
       "prompt_number": 26,
       "text": [
        "<matplotlib.text.Text at 0x7f8f611cb850>"
       ]
      },
      {
       "metadata": {},
       "output_type": "display_data",
       "png": "[encoded data removed]",
       "text": [
        "<matplotlib.figure.Figure at 0x7f8f611f1050>"
       ]
      }
     ],
     "prompt_number": 26
    },
    {
     "cell_type": "markdown",
     "metadata": {},
     "source": [
      "Note that the velocity is asymptotic towards a value slightly less than 12. This is the terminal velocity of the object, although it cannot be compared to the terminal velocity equation derived earlier as we are using linear drag."
     ]
    },
    {
     "cell_type": "markdown",
     "metadata": {},
     "source": [
      "Can we now calculate the trajectory of the object?\n",
      "\n",
      "We know that $v = \\frac{\\mathrm d z}{\\mathrm d t}$, so we could write:\n",
      "\n",
      "$$\n",
      "\\frac{\\mathrm d z}{\\mathrm d t} = \\frac{mg} k - \\left(\\frac{mg} k - v_0\\right) e^{-\\frac k m t} \n",
      "$$\n",
      "\n",
      "Integration of this equation should yield $z$:\n",
      "\n",
      "$$\n",
      "\\begin{align}\n",
      "\\int \\mathrm d z &= \\int \\frac{mg} k - \\left(\\frac{mg} k - v_0\\right) e^{-\\frac k m t}\\ \\mathrm d t \\\\\n",
      "z &= \\frac{mg}{k} t + \\frac m k \\left(\\frac{mg}{k} - v_0\\right) e^{-\\frac k m t} + C\n",
      "\\end{align}\n",
      "$$"
     ]
    },
    {
     "cell_type": "markdown",
     "metadata": {},
     "source": [
      "Assuming that $z(0)$ = $z_0$ we solve for $C$:\n",
      "\n",
      "$$\n",
      "\\begin{align}\n",
      "z_0 &= \\frac{mg}{k}(0) + \\frac m k \\left(\\frac{mg}{k} - v_0\\right) e^0 + C \\\\\n",
      "z_0 &= \\frac m k \\left(\\frac{mg}{k} - v_0\\right) + C \\\\\n",
      "C &= z_0 -\\frac{m}{k} \\left(\\frac{mg}{k} -v_0\\right)\n",
      "\\end{align}\n",
      "$$\n",
      "\n",
      "And our final equation becomes:\n",
      "\n",
      "$$\n",
      "\\begin{align}\n",
      "z &= \\frac{mg}{k} t + \\frac m k \\left(\\frac{mg}{k} - v_0\\right) e^{-\\frac k m t} + z_0 - \\frac{m}{k} \\left(\\frac{mg}{k} -v_0\\right) \\\\\n",
      "z &= \\frac{mg}{k} t + \\frac m k \\left(\\frac{mg}{k} - v_0\\right)\\left(e^{-\\frac k m t} - 1\\right) + z_0\n",
      "\\end{align}\n",
      "$$"
     ]
    },
    {
     "cell_type": "code",
     "collapsed": false,
     "input": [
      "m = 0.6\n",
      "g = 9.81\n",
      "k = 0.5\n",
      "v0 = 0\n",
      "z0 = -100\n",
      "\n",
      "t = arange(0, 10, 0.1)\n",
      "\n",
      "z = [(m * g * i / k) + (m / k * ((m * g / k) - v0) * (exp(- k / m * i) - 1)) + z0 for i in t]"
     ],
     "language": "python",
     "metadata": {},
     "outputs": [],
     "prompt_number": 30
    },
    {
     "cell_type": "code",
     "collapsed": false,
     "input": [
      "fig, ax = plt.subplots(1)\n",
      "plot(t, z,\"r-\", lw=\"2\")\n",
      "ax.set_ylabel(\"Distance [$m$]\")\n",
      "ax.set_xlabel(\"Time [$s$]\")"
     ],
     "language": "python",
     "metadata": {},
     "outputs": [
      {
       "metadata": {},
       "output_type": "pyout",
       "prompt_number": 33,
       "text": [
        "<matplotlib.text.Text at 0x64d56f0>"
       ]
      },
      {
       "metadata": {},
       "output_type": "display_data",
       "png": "[encoded data removed]",
       "text": [
        "<matplotlib.figure.Figure at 0x62b4690>"
       ]
      }
     ],
     "prompt_number": 33
    },
    {
     "cell_type": "markdown",
     "metadata": {},
     "source": [
      "It can be seen that the exponential function only has influence at the very beginning of the trajectory. This suggests that the object reaches terminal velocity quite quickly in this case. It is also apparent that the postive-down convention is not conducive to simple understanding. "
     ]
    },
    {
     "cell_type": "heading",
     "level": 3,
     "metadata": {},
     "source": [
      "Realistic drag"
     ]
    },
    {
     "cell_type": "markdown",
     "metadata": {},
     "source": [
      "In reality, drag is defined as:\n",
      "\n",
      "$$\n",
      "F_d = \\frac12 C_d \\rho A v^2\n",
      "$$\n",
      "\n",
      "Since it acts against the motion of the body, we will use as a negative force."
     ]
    },
    {
     "cell_type": "markdown",
     "metadata": {},
     "source": [
      "The net force acting on the body is the sum of the forces due to gravity and drag:\n",
      "\n",
      "$$\n",
      "F_\\mathrm{net} = F_g + F_d = mg - \\frac12 C_d \\rho A v^2\n",
      "$$"
     ]
    },
    {
     "cell_type": "markdown",
     "metadata": {},
     "source": [
      "The force acting on the body results in an acceleration $a$. Acceleration is equal to the rate of change of velocity, therefore:\n",
      "\n",
      "$$\n",
      "a(t) = v^\\prime (t)\n",
      "$$\n",
      "\n",
      "The net force is associated with a net acceleration, therefore:\n",
      "\n",
      "$$\n",
      "ma = mg - \\frac12 C_d \\rho A v^2\n",
      "$$\n",
      "\n",
      "and in terms of velocity:\n",
      "\n",
      "$$\n",
      "mv^\\prime \\left(t\\right) = mg - \\frac12 C_d \\rho A v\\left(t\\right)^2\n",
      "$$\n",
      "\n",
      "Rearranging in terms of $v^\\prime$:\n",
      "\n",
      "$$\n",
      "\\begin{align}\n",
      "v^\\prime \\left(t\\right) &= g - \\frac{C_d \\rho A v \\left(t\\right)^2}{2m} \\\\\n",
      "v^\\prime \\left(t\\right) &= \\frac{C_d \\rho A}{2m} \\left[\\frac{2mg}{C_d \\rho A} - v\\left(t\\right)^2\\right]\n",
      "\\end{align}\n",
      "$$"
     ]
    },
    {
     "cell_type": "markdown",
     "metadata": {},
     "source": [
      "We can introduce an auxilliary function [described here](http://oregonstate.edu/instruct/mth252h/Bogley/w02/resist.html) $p(t)$:\n",
      "\n",
      "$$\n",
      "p(t) = \\frac{2mg}{C_d \\rho A} - v(t)^2\n",
      "$$\n",
      "\n",
      "and its derivative:\n",
      "\n",
      "$$\n",
      "p^\\prime(t) = -2v(t)v^\\prime(t)\n",
      "$$\n"
     ]
    },
    {
     "cell_type": "markdown",
     "metadata": {},
     "source": [
      "Rewriting the equation of motion in terms of $p\\left(t\\right)$ and $p^\\prime\\left(t\\right)$:\n",
      "\n",
      "$$\n",
      "\\begin{align}\n",
      "v^\\prime \\left(t\\right) &= \\frac{C_d \\rho A}{2m}p(t) \\\\\n",
      "-\\frac{p^\\prime(t)}{2v(t)} &= \\frac{C_d \\rho A}{2m}p(t) \\\\\n",
      "p^\\prime\\left(t\\right) &= -\\frac{v\\left(t\\right) C_d \\rho A}{m}p\\left(t\\right)\n",
      "\\end{align}\n",
      "$$"
     ]
    },
    {
     "cell_type": "markdown",
     "metadata": {},
     "source": [
      "Note that there is still a $v\\left(t\\right)$ term, so let's substitute the equation for $p\\left(t\\right)$ into the equation once again:\n",
      "\n",
      "$$\n",
      "p^\\prime\\left(t\\right) = - \\frac{C_d \\rho A}{m}p\\left(t\\right)\\cdot\\pm\\sqrt{\\frac{2mg}{C_d \\rho A} - p\\left(t\\right)}\n",
      "$$"
     ]
    },
    {
     "cell_type": "markdown",
     "metadata": {},
     "source": [
      "This is a messy equation and it doesn't appear to be in a form that lends itself to a simple solution."
     ]
    },
    {
     "cell_type": "markdown",
     "metadata": {},
     "source": [
      "Let's try to simplify it:\n",
      "\n",
      "$$\n",
      "\\begin{align}\n",
      "p^\\prime\\left(t\\right) &= - \\frac{C_d \\rho A}{m}p\\left(t\\right)\\cdot\\sqrt{\\frac{2mg}{C_d \\rho A} - p\\left(t\\right)} \\\\\n",
      "&= \\sqrt{-\\frac{C_d^2 \\rho^2 A^2}{m^2}p(t)^2} \\cdot \\sqrt{\\frac{2mg}{C_d \\rho A} - p\\left(t\\right)} \\\\\n",
      "&= \\sqrt{\\left(-\\frac{C_d^2 \\rho^2 A^2}{m^2}p(t)^2 \\cdot \\frac{2mg}{C_d \\rho A}\\right) + \\frac{C_d^2 \\rho^2 A^2}{m^2}p(t)^3} \\\\\n",
      "&= \\sqrt{\\left(-\\frac{2gC_d \\rho A}{m}p(t)^2\\right) + \\frac{C_d^2 \\rho^2 A^2}{m^2}p(t)^3} \\\\\n",
      "p^\\prime(t) &= \\sqrt{\\frac{C_d^2 \\rho^2 A^2}{m^2}p(t)^3 - \\frac{2gC_d \\rho A}{m}p(t)^2} \\\\\n",
      "\\end{align}\n",
      "$$"
     ]
    },
    {
     "cell_type": "code",
     "collapsed": false,
     "input": [
      "from IPython.core.display import HTML\n",
      "def css_styling():\n",
      "    styles = open(\"styles/custom.css\", \"r\").read()\n",
      "    return HTML(styles)\n",
      "css_styling()"
     ],
     "language": "python",
     "metadata": {},
     "outputs": [
      {
       "html": [
        "<style>\n",
        "    @font-face {\n",
        "        font-family: \"Computer Modern\";\n",
        "        src: url('http://mirrors.ctan.org/fonts/cm-unicode/fonts/otf/cmunss.otf');\n",
        "    }\n",
        "    div.cell{\n",
        "        width:800px;\n",
        "        margin-left:16% !important;\n",
        "        margin-right:auto;\n",
        "    }\n",
        "    h1 {\n",
        "        font-family: Helvetica, serif;\n",
        "    }\n",
        "    h2 {\n",
        "        font-family: Helvetica, serif;\n",
        "    }\n",
        "    h4{\n",
        "        margin-top:12px;\n",
        "        margin-bottom: 3px;\n",
        "       }\n",
        "    div.text_cell_render{\n",
        "        font-family: \"Open Sans\", Computer Modern, \"Helvetica Neue\", Arial, Helvetica, Geneva, sans-serif;\n",
        "        line-height: 135%;\n",
        "        font-size: 120%;\n",
        "        width:600px;\n",
        "        margin-left:auto;\n",
        "        margin-right:auto;\n",
        "    }\n",
        "    .CodeMirror{\n",
        "            font-family: \"Source Code Pro\", \"Ubuntu Mono\", source-code-pro,Consolas, monospace;\n",
        "    }\n",
        "/*    .prompt{\n",
        "        display: None;\n",
        "    }*/\n",
        "    .text_cell_render h5 {\n",
        "        font-weight: 300;\n",
        "        font-size: 16pt;\n",
        "        color: #4057A1;\n",
        "        font-style: italic;\n",
        "        margin-bottom: .5em;\n",
        "        margin-top: 0.5em;\n",
        "        display: block;\n",
        "    }\n",
        "\n",
        "    .warning{\n",
        "        color: rgb( 240, 20, 20 )\n",
        "        }\n",
        "</style>\n",
        "<script>\n",
        "    MathJax.Hub.Config({\n",
        "                        TeX: {\n",
        "                           extensions: [\"AMSmath.js\"]\n",
        "                           },\n",
        "                tex2jax: {\n",
        "                    inlineMath: [ ['$','$'], [\"\\\\(\",\"\\\\)\"] ],\n",
        "                    displayMath: [ ['$$','$$'], [\"\\\\[\",\"\\\\]\"] ]\n",
        "                },\n",
        "                displayAlign: 'center', // Change this to 'center' to center equations.\n",
        "                \"HTML-CSS\": {\n",
        "                    styles: {'.MathJax_Display': {\"margin\": 4}}\n",
        "                }\n",
        "        });\n",
        "</script>"
       ],
       "metadata": {},
       "output_type": "pyout",
       "prompt_number": 11,
       "text": [
        "<IPython.core.display.HTML at 0x7f5f6cf695d0>"
       ]
      }
     ],
     "prompt_number": 11
    }
   ],
   "metadata": {}
  }
 ]
}