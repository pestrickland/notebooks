{
 "metadata": {
  "name": ""
 },
 "nbformat": 3,
 "nbformat_minor": 0,
 "worksheets": [
  {
   "cells": [
    {
     "cell_type": "heading",
     "level": 1,
     "metadata": {},
     "source": [
      "Ballistic Trajectory Modelling"
     ]
    },
    {
     "cell_type": "heading",
     "level": 2,
     "metadata": {},
     "source": [
      "Zero Drag"
     ]
    },
    {
     "cell_type": "markdown",
     "metadata": {},
     "source": [
      "When drag is not considered, the equations become quite simple. Gravity acts on the mass of the object in the $z$ direction. In the $x$ direction, the object maintains its initial horizontal speed without slowing down. "
     ]
    },
    {
     "cell_type": "markdown",
     "metadata": {},
     "source": [
      "The horizontal velocity component is found by:\n",
      "\n",
      "$$v_x = v\\cos\\theta$$"
     ]
    },
    {
     "cell_type": "markdown",
     "metadata": {},
     "source": [
      "Similarly, the vertical component of the velocity is found by:\n",
      "\n",
      "$$v_z = v\\sin\\theta$$"
     ]
    },
    {
     "cell_type": "markdown",
     "metadata": {},
     "source": [
      "where $\\theta$ is the initial angle of the store relative to the horizontal plane."
     ]
    },
    {
     "cell_type": "heading",
     "level": 3,
     "metadata": {},
     "source": [
      "Zero initial height"
     ]
    },
    {
     "cell_type": "markdown",
     "metadata": {},
     "source": [
      "At time $t$, the horizontal distance is found by:\n",
      "\n",
      "$$x(t) = vt\\cos\\theta$$"
     ]
    },
    {
     "cell_type": "markdown",
     "metadata": {},
     "source": [
      "Similarly, the vertical distance travelled is found by:\n",
      "\n",
      "$$z(t) = vt\\sin\\theta - \\frac{1}{2}gt^2$$"
     ]
    },
    {
     "cell_type": "markdown",
     "metadata": {},
     "source": [
      "Since we have assumed flat ground $\\left(z_0 = 0\\right)$, the starting and ending values will be the same. We can solve for $t$:\n",
      "\n",
      "$$\n",
      "\\begin{align}\n",
      "z & = vt\\sin\\theta - \\frac{1}{2}gt^2 \\\\\\\\\n",
      "z & = t\\left(v\\sin\\theta - \\frac{1}{2}gt\\right) \\\\\\\\\n",
      "\\end{align}\n",
      "$$\n",
      "\n",
      "So, $t=0$ or $t = \\frac{2v\\sin\\theta}{g}$\n",
      "\n",
      "Substituting $t$ into the equation for $x$ yields:\n",
      "\n",
      "$$x = \\frac{2v^2\\sin\\theta\\cos\\theta}{g}$$"
     ]
    },
    {
     "cell_type": "markdown",
     "metadata": {},
     "source": [
      "Simplifying:\n",
      "\n",
      "$$x = \\frac{v^2\\sin2\\theta}{g}$$"
     ]
    },
    {
     "cell_type": "heading",
     "level": 3,
     "metadata": {},
     "source": [
      "Trajectory from a starting height"
     ]
    },
    {
     "cell_type": "markdown",
     "metadata": {},
     "source": [
      "If the start point from the trajectory is at a height other than zero, the equations of motion change slightly. $x(t)$ is unaffected, but for $z(t)$ an initial $z$ component is introduced:\n",
      "\n",
      "$$x(t) = vt\\cos\\theta$$\n",
      "$$z(t) = z_0 + vt\\sin\\theta - \\frac{1}{2}gt^2$$"
     ]
    },
    {
     "cell_type": "markdown",
     "metadata": {},
     "source": [
      "Setting $z=0$ we can solve for $t$:"
     ]
    },
    {
     "cell_type": "markdown",
     "metadata": {},
     "source": [
      "$$\n",
      "\\begin{align}\n",
      "0 & = z_0 + vt\\sin\\theta - \\frac{1}{2}gt^2 \\\\\\\\\n",
      "t & = \\frac{- v\\sin\\theta \\pm \\sqrt{v^2\\sin^2\\theta + 2gz_0}}{-g} \\\\\\\\\n",
      "t & = \\frac{v\\sin\\theta}{g} \\pm \\frac{\\sqrt{v^2\\sin^2\\theta + 2gz_0}}{g} \\\\\\\\\n",
      "t & = \\frac{v\\sin\\theta}{g} + \\frac{\\sqrt{v^2\\sin^2\\theta + 2gz_0}}{g} \\\\\\\\\n",
      "\\end{align}\n",
      "$$"
     ]
    },
    {
     "cell_type": "markdown",
     "metadata": {},
     "source": [
      "Solving for $x$:"
     ]
    },
    {
     "cell_type": "markdown",
     "metadata": {},
     "source": [
      "$$\n",
      "\\begin{align}\n",
      "x & = vt\\cos\\theta \\\\\\\\\n",
      "x & = v\\cos\\theta\\left[\\frac{v\\sin\\theta}{g} + \\frac{\\sqrt{v^2\\sin^2\\theta + 2gz_0}}{g}\\right] \\\\\\\\\n",
      "x & = \\frac{v\\cos\\theta}{g}\\left[v\\sin\\theta + \\sqrt{v^2\\sin^2\\theta + 2gz_0}\\right] \\\\\\\\\n",
      "\\end{align}\n",
      "$$"
     ]
    },
    {
     "cell_type": "markdown",
     "metadata": {},
     "source": [
      "Let's try plotting something. First, we need functions that calculate time and position."
     ]
    },
    {
     "cell_type": "code",
     "collapsed": false,
     "input": [
      "def calc_time(v, z, theta):\n",
      "    \"\"\"Calculate time of flight.\"\"\"\n",
      "    t = v * sin(deg2rad(theta)) / 9.81 + (sqrt(v ** 2 * sin(deg2rad(theta)) ** 2 + 2 * 9.81 * z) / 9.81)\n",
      "    return t"
     ],
     "language": "python",
     "metadata": {},
     "outputs": [],
     "prompt_number": 1
    },
    {
     "cell_type": "code",
     "collapsed": false,
     "input": [
      "def calc_distance(v, z, theta):\n",
      "    \"\"\"Calculate distance of flight.\"\"\"\n",
      "    x = v * cos(deg2rad(theta)) / 9.81 * (v * sin(deg2rad(theta)) + sqrt(v ** 2 * sin(deg2rad(theta)) ** 2 + 2 * 9.81 * z))\n",
      "    return x"
     ],
     "language": "python",
     "metadata": {},
     "outputs": [],
     "prompt_number": 2
    },
    {
     "cell_type": "code",
     "collapsed": false,
     "input": [
      "def calculate_x(v, t, theta):\n",
      "    \"\"\"Calculate x at time t.\"\"\"\n",
      "    x = v * t * cos(deg2rad(theta))\n",
      "    return x\n",
      "    "
     ],
     "language": "python",
     "metadata": {},
     "outputs": [],
     "prompt_number": 3
    },
    {
     "cell_type": "code",
     "collapsed": false,
     "input": [
      "def calculate_z(v, t, theta, z0):\n",
      "    \"\"\"Calculate z at time t, given initial height z0.\"\"\"\n",
      "    z = z0 + v * t * sin(deg2rad(theta)) - 0.5 * 9.81 * t ** 2\n",
      "    return z"
     ],
     "language": "python",
     "metadata": {},
     "outputs": [],
     "prompt_number": 4
    },
    {
     "cell_type": "code",
     "collapsed": false,
     "input": [
      "v = 250\n",
      "z0 = 5000\n",
      "theta = -10\n",
      "time_of_flight = calc_time(v, z0, theta)\n",
      "time = arange(0, time_of_flight, 0.1)\n",
      "x = []\n",
      "z = []\n",
      "\n",
      "for t in time:\n",
      "    x.append(calculate_x(v, t, theta))\n",
      "    z.append(calculate_z(v, t, theta, z0))"
     ],
     "language": "python",
     "metadata": {},
     "outputs": [],
     "prompt_number": 5
    },
    {
     "cell_type": "code",
     "collapsed": false,
     "input": [
      "axis(\"equal\")\n",
      "plot(x,z)\n",
      "axis()"
     ],
     "language": "python",
     "metadata": {},
     "outputs": [
      {
       "metadata": {},
       "output_type": "pyout",
       "prompt_number": 6,
       "text": [
        "(0.0, 7000.0, 0.0, 5000.0)"
       ]
      },
      {
       "metadata": {},
       "output_type": "display_data",
       "png": "[encoded data removed]",
       "text": [
        "<matplotlib.figure.Figure at 0x7f07fc6db3d0>"
       ]
      }
     ],
     "prompt_number": 6
    },
    {
     "cell_type": "heading",
     "level": 2,
     "metadata": {},
     "source": [
      "Introducing drag"
     ]
    },
    {
     "cell_type": "markdown",
     "metadata": {},
     "source": [
      "The drag of a body is defined by the following equation:\n",
      "\n",
      "$$\n",
      "D = \\frac12 C_d\\rho A v^2\n",
      "$$"
     ]
    },
    {
     "cell_type": "markdown",
     "metadata": {},
     "source": [
      "where $C_d$ is the dimensionless coefficient of drag and $A$ is the cross-sectional area of the body."
     ]
    },
    {
     "cell_type": "heading",
     "level": 3,
     "metadata": {},
     "source": [
      "Terminal velocity"
     ]
    },
    {
     "cell_type": "markdown",
     "metadata": {},
     "source": [
      "When a body is travelling downwards, gravity acts to increase the body's speed whilst drag acts to slow it down: \n",
      "\n",
      "$$\n",
      "F_{\\mathrm{net}} = D - mg\n",
      "$$\n",
      "\n",
      "The drag will increase until its force equals the weight of the body, making the net force zero. The velocity of the body at this point will be its terminal velocity.\n",
      "\n",
      "$$\n",
      "\\begin{align}\n",
      "F_{\\mathrm{net}} &= D - mg = 0 \\\\\\\\\n",
      "mg &= D \\\\\\\\\n",
      "mg &= \\frac{C_d \\rho A V_t^2}{2} \\\\\\\\\n",
      "V_t^2 &= \\frac{2mg}{C_d \\rho A} \\\\\\\\\n",
      "V_t &= \\left[\\frac{2mg}{C_d \\rho A}\\right]^\\frac{1}{2} \\\\\\\\\n",
      "\\end{align}\n",
      "$$"
     ]
    },
    {
     "cell_type": "code",
     "collapsed": false,
     "input": [
      "def calc_terminal_velocity(m, cd, a, rho=1.225):\n",
      "    \"\"\"Calculate the terminal velocity of a body with known drag coefficient\"\"\"\n",
      "    g = 9.81\n",
      "    vt = (2*m*g/(cd*rho*a))**0.5\n",
      "    return vt"
     ],
     "language": "python",
     "metadata": {},
     "outputs": [],
     "prompt_number": 7
    },
    {
     "cell_type": "heading",
     "level": 3,
     "metadata": {},
     "source": [
      "Motion of a falling body"
     ]
    },
    {
     "cell_type": "heading",
     "level": 4,
     "metadata": {},
     "source": [
      "Calculating change in speed"
     ]
    },
    {
     "cell_type": "markdown",
     "metadata": {},
     "source": [
      "Two forces act on a falling body: gravity and drag. Gravity acts to accelerate the body towards the earth and its force is defined as:\n",
      "\n",
      "$$\n",
      "F_g = mg\n",
      "$$\n",
      "\n",
      "Drag acts on the body to slow it down. As described above it is a function of $v^2$, but to simplify things at first we will assume it is proportional but opposite to the velocity:\n",
      "\n",
      "$$\n",
      "F_d = -kv\n",
      "$$"
     ]
    },
    {
     "cell_type": "markdown",
     "metadata": {},
     "source": [
      "The net force acting on the body is the sum of the forces due to gravity and drag. We assume forces acting upwards to be positive and so:\n",
      "\n",
      "$$\n",
      "F_\\mathrm{net} = -F_g + F_d = -mg - kv\n",
      "$$"
     ]
    },
    {
     "cell_type": "markdown",
     "metadata": {},
     "source": [
      "The force acting on the body results in an acceleration $a$. Acceleration is equal to the rate of change of velocity, therefore:\n",
      "\n",
      "$$\n",
      "a = \\frac{\\mathrm{d}v}{\\mathrm{d}t}\n",
      "$$\n",
      "\n",
      "The net force is associated with a net acceleration, therefore we have a differential equation that relates speed and acceleration:\n",
      "\n",
      "$$\n",
      "\\begin{align}\n",
      "ma &= -mg - kv \\\\\n",
      "\\frac{\\mathrm d v}{\\mathrm d t} m &= -mg - kv\n",
      "\\end{align}\n",
      "$$\n",
      "\n",
      "Rearranging in terms of $\\frac{\\mathrm d v}{\\mathrm d t}$:\n",
      "\n",
      "$$\n",
      "\\begin{align}\n",
      "\\frac{\\mathrm d v}{\\mathrm d t} &= -g - \\frac{k}{m}v \\\\\n",
      "\\frac{\\mathrm d v}{\\mathrm d t} &= -\\frac k m \\left[ \\frac m k g + v \\right]\n",
      "\\end{align}\n",
      "$$"
     ]
    },
    {
     "cell_type": "markdown",
     "metadata": {},
     "source": [
      "Let an auxilliary function $p$ be defined such that $p=\\frac k m$ and:\n",
      "\n",
      "$$\n",
      "\\frac{\\mathrm d v}{\\mathrm d t} = -g -pv\n",
      "$$\n"
     ]
    },
    {
     "cell_type": "markdown",
     "metadata": {},
     "source": [
      "This equation can be integrated in a fairly straightforward manner:\n",
      "\n",
      "$$\n",
      "\\begin{align}\n",
      "\\frac{\\mathrm d v}{\\mathrm d t} &= -g - pv \\\\\n",
      "\\int \\frac{1}{g + pv} \\mathrm d v &= -\\int \\mathrm d t \\\\\n",
      "\\end{align}\n",
      "$$\n",
      "\n",
      "Letting $u = g + pv$ so that $\\frac{\\mathrm d u}{p} = \\mathrm d v$:\n",
      "\n",
      "$$\n",
      "\\begin{align}\n",
      "\\int \\frac{1}{u} \\mathrm d v &= -\\int \\mathrm d t \\\\\n",
      "\\int \\frac{1}{u} \\frac 1 p \\mathrm d u &= -\\int \\mathrm d t \\\\\n",
      "\\frac 1 p \\int \\frac{1}{u} \\mathrm d u &= -\\int \\mathrm d t \\\\\n",
      "\\frac 1 p \\ln | u | &= -t + C \\\\\n",
      "\\frac 1 p \\ln | g + pv | &= -t + C \\\\\n",
      "\\ln | g + pv | &= -pt + C \\\\\n",
      "| g + pv | &= e^{-pt + C} \\\\\n",
      "| g + pv | &= e^Ce^{-pt} \\\\\n",
      "g + pv &= Ce^{-pt}\n",
      "\\end{align}\n",
      "$$"
     ]
    },
    {
     "cell_type": "markdown",
     "metadata": {},
     "source": [
      "_TODO: Determine why we can disregard the modulus at this point._"
     ]
    },
    {
     "cell_type": "markdown",
     "metadata": {},
     "source": [
      "Rearranging in terms of $v$:\n",
      "\n",
      "$$\n",
      "\\begin{align}\n",
      "pv &= Ce^{-pt} - g\\\\\n",
      "v &= \\frac C p e^{-pt} - \\frac g p \\\\\n",
      "v &= Ce^{-pt} - \\frac g p\n",
      "\\end{align}\n",
      "$$\n",
      "\n",
      "Assuming the falling body has an initial vertical velocity $v_0$ we can solve for $C$. \n",
      "\n",
      "$v\\left(0\\right)=v_0$, so:\n",
      "\n",
      "$$\n",
      "\\begin{align}\n",
      "v_0 &= Ce^0 - \\frac g p \\\\\n",
      "C &= v_0 + \\frac g p\n",
      "\\end{align}\n",
      "$$\n",
      "\n",
      "Finally, the solution to the differential equation is:\n",
      "\n",
      "$$\n",
      "v = \\left(v_0 + \\frac g p \\right) e^{-pt} - \\frac g p \n",
      "$$\n",
      "\n",
      "And if we replace $p$ with $\\frac k m$ we have:\n",
      "\n",
      "$$\n",
      "v = \\left(v_0 + \\frac{mg}{k} \\right) e^{-\\frac k m t} - \\frac{mg}{k}\n",
      "$$"
     ]
    },
    {
     "cell_type": "markdown",
     "metadata": {},
     "source": [
      "We can now plot velocity (and speed) against time for some nominal falling object. First we will import some _nice_ colours from [colorbrewer2](http://colorbrewer2.org/) using `brewer2mpl`."
     ]
    },
    {
     "cell_type": "code",
     "collapsed": false,
     "input": [
      "import brewer2mpl\n",
      "my_map = brewer2mpl.get_map(\"Paired\", \"Qualitative\", 4)"
     ],
     "language": "python",
     "metadata": {},
     "outputs": [],
     "prompt_number": 8
    },
    {
     "cell_type": "code",
     "collapsed": false,
     "input": [
      "m = 0.6\n",
      "g = 9.81\n",
      "k = 0.5\n",
      "v0 = 0\n",
      "\n",
      "t = arange(0, 10, 0.1)\n",
      "\n",
      "v = [(v0 + m*g/k)*exp(-k/m*i) - m*g/k for i in t]\n",
      "speed = [abs(i) for i in v]"
     ],
     "language": "python",
     "metadata": {},
     "outputs": [],
     "prompt_number": 9
    },
    {
     "cell_type": "code",
     "collapsed": false,
     "input": [
      "fig, (ax1, ax2) = plt.subplots(2,1, sharex=True)\n",
      "\n",
      "colour1 = my_map.hex_colors[0]\n",
      "colour2 = my_map.hex_colors[1]\n",
      "\n",
      "ax1.plot(t, v, lw=2, color=colour1)\n",
      "ax1.set_ylabel(\"Velocity [$ms^{-1}$]\")\n",
      "\n",
      "ax2.plot(t, speed, lw=2, color=colour2)\n",
      "ax2.set_ylabel(\"Speed [$ms^{-1}$]\")\n",
      "ax2.set_xlabel(\"Time [$s$]\")\n",
      "\n",
      "fig.tight_layout()"
     ],
     "language": "python",
     "metadata": {},
     "outputs": [
      {
       "metadata": {},
       "output_type": "display_data",
       "png": "[encoded data removed]",
       "text": [
        "<matplotlib.figure.Figure at 0x7f07fc689d50>"
       ]
      }
     ],
     "prompt_number": 10
    },
    {
     "cell_type": "markdown",
     "metadata": {},
     "source": [
      "Note that the velocity becomes more negative and is asymptotic towards a value slightly less than $-12\\ ms^{-1}$. This is the terminal velocity of the object, although it cannot be compared to the terminal velocity equation derived earlier as we are using linear drag."
     ]
    },
    {
     "cell_type": "heading",
     "level": 4,
     "metadata": {},
     "source": [
      "Calculating change in height"
     ]
    },
    {
     "cell_type": "markdown",
     "metadata": {},
     "source": [
      "We know that $v = \\frac{\\mathrm d z}{\\mathrm d t}$, so we could write:\n",
      "\n",
      "$$\n",
      "\\frac{\\mathrm d z}{\\mathrm d t} = \\left(v_0 + \\frac{mg}{k} \\right) e^{-\\frac k m t} - \\frac{mg}{k}\n",
      "$$\n",
      "\n",
      "Integration of this equation should yield $z$:\n",
      "\n",
      "$$\n",
      "\\begin{align}\n",
      "\\int \\mathrm d z &= \\int \\left[ \\left(v_0 + \\frac{mg}{k} \\right) e^{-\\frac k m t} - \\frac{mg}{k}\\right]\\mathrm d t \\\\\n",
      "z &= -\\frac m k \\left(v_0 + \\frac{mg}{k} \\right) e^{-\\frac k m t} -\\frac{mg}{k}t + C\n",
      "\\end{align}\n",
      "$$"
     ]
    },
    {
     "cell_type": "markdown",
     "metadata": {},
     "source": [
      "Assuming that $z(0)$ = $z_0$ we solve for $C$:\n",
      "\n",
      "$$\n",
      "\\begin{align}\n",
      "z_0 &= -\\frac m k \\left(v_0 + \\frac{mg}{k} \\right) e^{0} - 0 + C \\\\\n",
      "z_0 &= -\\frac m k \\left(v_0 + \\frac{mg}{k} \\right) + C \\\\\n",
      "C &= z_0 + \\frac{m}{k} \\left(v_0 + \\frac{mg}{k} \\right)\n",
      "\\end{align}\n",
      "$$\n",
      "\n",
      "And our final equation becomes:\n",
      "\n",
      "$$\n",
      "\\begin{align}\n",
      "z &= - \\frac m k \\left(v_0 + \\frac{mg}{k} \\right) e^{-\\frac k m t} - \\frac{mg}{k}t + z_0 + \\frac{m}{k} \\left(v_0 + \\frac{mg}{k} \\right) \\\\\n",
      "z &= z_0 - \\frac{mg}{k}t + \\frac m k \\left(v_0 + \\frac{mg}{k} \\right) \\left(1 - e^{-\\frac k m t} \\right)\n",
      "\\end{align}\n",
      "$$"
     ]
    },
    {
     "cell_type": "markdown",
     "metadata": {},
     "source": [
      "We can plot the change in height over time as follows."
     ]
    },
    {
     "cell_type": "code",
     "collapsed": false,
     "input": [
      "m = 0.6\n",
      "g = 9.81\n",
      "k = 0.5\n",
      "v0 = 0\n",
      "z0 = 100\n",
      "\n",
      "t = arange(0, 10, 0.1)\n",
      "\n",
      "z = [z0 - m*g*i/k + m/k*(v0 + m*g/k)*(1 - exp(-k/m*i)) for i in t]"
     ],
     "language": "python",
     "metadata": {},
     "outputs": [],
     "prompt_number": 11
    },
    {
     "cell_type": "code",
     "collapsed": false,
     "input": [
      "colour3 = my_map.hex_colors[2]\n",
      "fig, ax = plt.subplots(1)\n",
      "ax.plot(t, z, lw=2, color=colour3)\n",
      "ax.set_ylabel(\"Height [$m$]\")\n",
      "ax.set_xlabel(\"Time [$s$]\")"
     ],
     "language": "python",
     "metadata": {},
     "outputs": [
      {
       "metadata": {},
       "output_type": "pyout",
       "prompt_number": 12,
       "text": [
        "<matplotlib.text.Text at 0x7f07fc497690>"
       ]
      },
      {
       "metadata": {},
       "output_type": "display_data",
       "png": "[encoded data removed]",
       "text": [
        "<matplotlib.figure.Figure at 0x7f07fc4f7090>"
       ]
      }
     ],
     "prompt_number": 12
    },
    {
     "cell_type": "markdown",
     "metadata": {},
     "source": [
      "It can be seen that the exponential function only has influence at the very beginning of the trajectory. This suggests that the object reaches terminal velocity quite quickly in this case."
     ]
    },
    {
     "cell_type": "heading",
     "level": 4,
     "metadata": {},
     "source": [
      "Calculating time of flight"
     ]
    },
    {
     "cell_type": "markdown",
     "metadata": {},
     "source": [
      "Let us calculate the time of flight by setting $z=0$ and try to solve for $t$:\n",
      "\n",
      "$$\n",
      "\\begin{align}\n",
      "0 &= z_0 - \\frac{mg}{k}t + \\frac m k \\left(v_0 + \\frac{mg}{k} \\right) \\left(1 - e^{-\\frac k m t} \\right) \\\\\n",
      "\\end{align}\n",
      "$$"
     ]
    },
    {
     "cell_type": "markdown",
     "metadata": {},
     "source": [
      "It doesn't look very friendly does it? Perhaps SymPy could help us:"
     ]
    },
    {
     "cell_type": "code",
     "collapsed": false,
     "input": [
      "import sympy\n",
      "from sympy.solvers import solve\n",
      "from sympy import symbols, exp\n",
      "sympy.init_printing()\n",
      "\n",
      "z0, m, g, k, t, v0 = symbols(\"z_0, m, g, k, t, v_0\")\n",
      "f = z0 - m*g*t/k + m/k*(v0 + m*g/k)*(1 - exp(-k*t/m))\n",
      "solution = solve(f,t)"
     ],
     "language": "python",
     "metadata": {},
     "outputs": [],
     "prompt_number": 13
    },
    {
     "cell_type": "markdown",
     "metadata": {},
     "source": [
      "SymPy offers an algebraic solver, so what does our apparent solution look like?"
     ]
    },
    {
     "cell_type": "code",
     "collapsed": false,
     "input": [
      "solution"
     ],
     "language": "python",
     "metadata": {},
     "outputs": [
      {
       "latex": [
        "$$\\begin{bmatrix}\\frac{1}{g k m} \\left(g m^{2} \\left(\\operatorname{LambertW}{\\left (\\frac{1}{g m} \\left(- g m - k v_{0}\\right) e^{\\frac{1}{g m^{2}} \\left(- g m^{2} - k^{2} z_{0} - k m v_{0}\\right)} \\right )} + 1\\right) + k^{2} z_{0} + k m v_{0}\\right)\\end{bmatrix}$$"
       ],
       "metadata": {},
       "output_type": "pyout",
       "prompt_number": 14,
       "text": [
        "\u23a1     \u239b        \u239b                    2    2            \u239e    \u239e                 \u23a4\n",
        "\u23a2     \u239c        \u239c               - g\u22c5m  - k \u22c5z\u2080 - k\u22c5m\u22c5v\u2080\u239f    \u239f                 \u23a5\n",
        "\u23a2     \u239c        \u239c               \u2500\u2500\u2500\u2500\u2500\u2500\u2500\u2500\u2500\u2500\u2500\u2500\u2500\u2500\u2500\u2500\u2500\u2500\u2500\u2500\u2500\u2500\u2500\u239f    \u239f                 \u23a5\n",
        "\u23a2     \u239c        \u239c                            2         \u239f    \u239f                 \u23a5\n",
        "\u23a2     \u239c        \u239c                         g\u22c5m          \u239f    \u239f                 \u23a5\n",
        "\u23a2   2 \u239c        \u239c(-g\u22c5m - k\u22c5v\u2080)\u22c5\u212f                       \u239f    \u239f    2            \u23a5\n",
        "\u23a2g\u22c5m \u22c5\u239c        \u239c\u2500\u2500\u2500\u2500\u2500\u2500\u2500\u2500\u2500\u2500\u2500\u2500\u2500\u2500\u2500\u2500\u2500\u2500\u2500\u2500\u2500\u2500\u2500\u2500\u2500\u2500\u2500\u2500\u2500\u2500\u2500\u2500\u2500\u2500\u2500\u2500\u2500\u2500\u239f + 1\u239f + k \u22c5z\u2080 + k\u22c5m\u22c5v\u2080\u23a5\n",
        "\u23a2     \u239c        \u239d                 g\u22c5m                  \u23a0    \u239f                 \u23a5\n",
        "\u23a2     \u239c                                                    \u239f                 \u23a5\n",
        "\u23a2     \u239dLambertW                                            \u23a0                 \u23a5\n",
        "\u23a2\u2500\u2500\u2500\u2500\u2500\u2500\u2500\u2500\u2500\u2500\u2500\u2500\u2500\u2500\u2500\u2500\u2500\u2500\u2500\u2500\u2500\u2500\u2500\u2500\u2500\u2500\u2500\u2500\u2500\u2500\u2500\u2500\u2500\u2500\u2500\u2500\u2500\u2500\u2500\u2500\u2500\u2500\u2500\u2500\u2500\u2500\u2500\u2500\u2500\u2500\u2500\u2500\u2500\u2500\u2500\u2500\u2500\u2500\u2500\u2500\u2500\u2500\u2500\u2500\u2500\u2500\u2500\u2500\u2500\u2500\u2500\u2500\u2500\u2500\u2500\u2500\u23a5\n",
        "\u23a3                                   g\u22c5k\u22c5m                                    \u23a6"
       ]
      }
     ],
     "prompt_number": 14
    },
    {
     "cell_type": "markdown",
     "metadata": {},
     "source": [
      "I don't think I could have worked that out manually... What happens if we substitute our nominal values into the solution for $t$? We should be given time of flight in seconds:"
     ]
    },
    {
     "cell_type": "code",
     "collapsed": false,
     "input": [
      "solution[0].subs([(g,9.81),(k,0.5),(m,0.6),(v0,0),(z0,100)])"
     ],
     "language": "python",
     "metadata": {},
     "outputs": [
      {
       "latex": [
        "$$9.69436115228259$$"
       ],
       "metadata": {},
       "output_type": "pyout",
       "png": "[encoded data removed]",
       "prompt_number": 15,
       "text": [
        "9.69436115228259"
       ]
      }
     ],
     "prompt_number": 15
    },
    {
     "cell_type": "markdown",
     "metadata": {},
     "source": [
      "Recall earlier the `calc_time` function for time of flight with no drag. If we enter the same parameters (in fact $z$ is the only required parameter), we get the following answer:"
     ]
    },
    {
     "cell_type": "code",
     "collapsed": false,
     "input": [
      "calc_time(0, 100, 0)"
     ],
     "language": "python",
     "metadata": {},
     "outputs": [
      {
       "latex": [
        "$$4.51523640986$$"
       ],
       "metadata": {},
       "output_type": "pyout",
       "png": "[encoded data removed]",
       "prompt_number": 16,
       "text": [
        "4.51523640986"
       ]
      }
     ],
     "prompt_number": 16
    },
    {
     "cell_type": "markdown",
     "metadata": {},
     "source": [
      "This suggests that drag is causing the object to take twice as long to reach the ground. Perhaps that is reasonable, but it is hard to tell at this stage. What we can do, however, is substitute the value for $t$ back into our original expression:"
     ]
    },
    {
     "cell_type": "code",
     "collapsed": false,
     "input": [
      "f.subs([(g, 9.81), (k, 0.5), (m, 0.6), (v0, 0), (t, 9.69436115228259)])"
     ],
     "language": "python",
     "metadata": {},
     "outputs": [
      {
       "latex": [
        "$$z_{0} - 100.0$$"
       ],
       "metadata": {},
       "output_type": "pyout",
       "png": "[encoded data removed]",
       "prompt_number": 17,
       "text": [
        "z\u2080 - 100.0"
       ]
      }
     ],
     "prompt_number": 17
    },
    {
     "cell_type": "markdown",
     "metadata": {},
     "source": [
      "So $z_0 = 100$, which is what we expect. I think we'll take our solution for $t$ as valid for now.\n",
      "\n",
      "Let's try to write a couple of functions to help with future work. First, the velocity equation:"
     ]
    },
    {
     "cell_type": "code",
     "collapsed": false,
     "input": [
      "def vz_drag(t, m, k, z0, vz0=0):\n",
      "    \"\"\"Calculate vertical velocity at time t.\n",
      "    \n",
      "    Parameters\n",
      "    ----------\n",
      "    t : float\n",
      "        Time in seconds\n",
      "    m : float\n",
      "        Mass in kilograms\n",
      "    k : float\n",
      "        Drag coefficient in Ns/m\n",
      "    z0 : float\n",
      "        Height above ground at t = 0\n",
      "    vz0 : float, optional\n",
      "        Initial vertical velocity\n",
      "    \n",
      "    Returns\n",
      "    -------\n",
      "    vz : float\n",
      "        Vertical velocity at time t\n",
      "    \n",
      "    \"\"\"\n",
      "    g = 9.81\n",
      "    vz = (vz0 + m*g/k) * exp(-k/m*t) - m*g/k\n",
      "    return vz\n",
      "    "
     ],
     "language": "python",
     "metadata": {},
     "outputs": [],
     "prompt_number": 18
    },
    {
     "cell_type": "markdown",
     "metadata": {},
     "source": [
      "Next, we will define a function to calculate the time of flight of an object. Let's get the equation printed as source code to minimise errors:"
     ]
    },
    {
     "cell_type": "code",
     "collapsed": false,
     "input": [
      "print(solution[0])"
     ],
     "language": "python",
     "metadata": {},
     "outputs": [
      {
       "output_type": "stream",
       "stream": "stdout",
       "text": [
        "(g*m**2*(LambertW((-g*m - k*v_0)*exp((-g*m**2 - k**2*z_0 - k*m*v_0)/(g*m**2))/(g*m)) + 1) + k**2*z_0 + k*m*v_0)/(g*k*m)\n"
       ]
      }
     ],
     "prompt_number": 19
    },
    {
     "cell_type": "markdown",
     "metadata": {},
     "source": [
      "And now define the function:"
     ]
    },
    {
     "cell_type": "code",
     "collapsed": false,
     "input": [
      "def calc_time_drag(m, k, z0, vz0=0):\n",
      "    \"\"\"Calculate time of flight from initial conditions.\n",
      "    \n",
      "    Parameters\n",
      "    ----------\n",
      "    m : float\n",
      "        Mass in kilograms\n",
      "    k : float\n",
      "        Drag coefficient in Ns/m\n",
      "    z0 : float\n",
      "        Height above ground at t = 0\n",
      "    vz0 : float, optional\n",
      "        Initial vertical velocity\n",
      "    \n",
      "    Returns\n",
      "    -------\n",
      "    t : float\n",
      "        Time of flight in seconds\n",
      "        \n",
      "    \"\"\"\n",
      "    from sympy import LambertW\n",
      "    g = 9.81\n",
      "    t = (g*m**2*(LambertW((-g*m - k*vz0)*exp((-g*m**2 - k**2*z0 - k*m*vz0)/\n",
      "        (g*m**2))/(g*m)) + 1) + k**2*z0 + k*m*vz0)/(g*k*m)\n",
      "    return float(t)"
     ],
     "language": "python",
     "metadata": {},
     "outputs": [],
     "prompt_number": 20
    },
    {
     "cell_type": "markdown",
     "metadata": {},
     "source": [
      "Checking it works as above:"
     ]
    },
    {
     "cell_type": "code",
     "collapsed": false,
     "input": [
      "calc_time_drag(0.6, 0.5, 100)"
     ],
     "language": "python",
     "metadata": {},
     "outputs": [
      {
       "latex": [
        "$$9.694361152282587$$"
       ],
       "metadata": {},
       "output_type": "pyout",
       "png": "[encoded data removed]",
       "prompt_number": 21,
       "text": [
        "9.694361152282587"
       ]
      }
     ],
     "prompt_number": 21
    },
    {
     "cell_type": "markdown",
     "metadata": {},
     "source": [
      "Now we'll define a function for $z(t)$:"
     ]
    },
    {
     "cell_type": "code",
     "collapsed": false,
     "input": [
      "def z_drag(t, m, k, z0, vz0=0):\n",
      "    \"\"\"Calculate height z at time t.\n",
      "    \n",
      "    Parameters\n",
      "    ----------\n",
      "    t : float\n",
      "        Time in seconds\n",
      "    m : float\n",
      "        Mass in kilograms\n",
      "    k : float\n",
      "        Drag coefficient in Ns/m\n",
      "    z0 : float\n",
      "        Height above ground at t = 0\n",
      "    vz0 : float, optional\n",
      "        Initial vertical velocity\n",
      "        \n",
      "    Returns\n",
      "    -------\n",
      "    z : float\n",
      "        Height above ground in metres\n",
      "    \n",
      "    \"\"\"\n",
      "    g = 9.81\n",
      "    z = z0 - m*g*t/k + m/k*(vz0 + m*g/k)*(1 - exp(-k/m*t))\n",
      "    return z"
     ],
     "language": "python",
     "metadata": {},
     "outputs": [],
     "prompt_number": 22
    },
    {
     "cell_type": "heading",
     "level": 4,
     "metadata": {},
     "source": [
      "Putting it all together"
     ]
    },
    {
     "cell_type": "markdown",
     "metadata": {},
     "source": [
      "We have a functions for the change in velocity and height with respect to time, and a means to calculate the time of flight. Can we now calculate the forward throw of an object with an initial horizontal velocity?"
     ]
    },
    {
     "cell_type": "markdown",
     "metadata": {},
     "source": [
      "Recall the original equation we had:\n",
      "\n",
      "$$\n",
      "x(t) = vt\\cos\\theta\n",
      "$$\n",
      "\n",
      "We know that $v$ changes as a function of time, due to drag. But we can't use our recently derived equation $\\left(v = \\left(v_0 + \\frac{mg}{k} \\right) e^{-\\frac k m t} - \\frac{mg}{k}\\right)$, since in the $x$ axis gravity has no effect. We must derive a new equation:\n",
      "\n",
      "$$\n",
      "\\begin{align}\n",
      "ma &= -F_d \\\\\n",
      "ma &= -kv \\\\\n",
      "\\frac{\\mathrm{d}v}{\\mathrm{d}t} &= -\\frac k m v \\\\\n",
      "\\int \\frac 1 v \\mathrm{d}v &= -\\frac k m \\int \\mathrm{d}t \\\\\n",
      "\\ln |v | &= -\\frac k m t + C \\\\\n",
      "|v| &= Ce^{-\\frac k m t}\n",
      "\\end{align}\n",
      "$$\n",
      "\n",
      "Setting our initial conditions $v(0) = v_0$:\n",
      "\n",
      "$$\n",
      "\\begin{align}\n",
      "v_0 &= Ce^0 \\\\\n",
      "C &= v_0\n",
      "\\end{align}\n",
      "$$\n",
      "\n",
      "Therefore our final equation for velocity in the $x$ axis, which we will denote as $v_x$ becomes:\n",
      "\n",
      "$$\n",
      "v_x = v_{x_0}e^{-\\frac k m t}\n",
      "$$"
     ]
    },
    {
     "cell_type": "markdown",
     "metadata": {},
     "source": [
      "Let's visualise this to see if it is sensible:"
     ]
    },
    {
     "cell_type": "code",
     "collapsed": false,
     "input": [
      "m = 0.6\n",
      "g = 9.81\n",
      "k = 0.5\n",
      "vx0 = 100\n",
      "\n",
      "t = arange(0, 10, 0.1)\n",
      "\n",
      "vx = [vx0 * exp(-k / m * i) for i in t]\n",
      "speed = [abs(i) for i in vx]"
     ],
     "language": "python",
     "metadata": {},
     "outputs": [],
     "prompt_number": 23
    },
    {
     "cell_type": "code",
     "collapsed": false,
     "input": [
      "fig, (ax1, ax2) = plt.subplots(2,1, sharex=True)\n",
      "\n",
      "colour1 = my_map.hex_colors[0]\n",
      "colour2 = my_map.hex_colors[1]\n",
      "\n",
      "ax1.plot(t, vx, lw=2, color=colour1)\n",
      "ax1.set_ylabel(\"Velocity [$ms^{-1}$]\")\n",
      "\n",
      "ax2.plot(t, speed, lw=2, color=colour2)\n",
      "ax2.set_ylabel(\"Speed [$ms^{-1}$]\")\n",
      "ax2.set_xlabel(\"Time [$s$]\")\n",
      "\n",
      "fig.tight_layout()"
     ],
     "language": "python",
     "metadata": {},
     "outputs": [
      {
       "metadata": {},
       "output_type": "display_data",
       "png": "[encoded data removed]",
       "text": [
        "<matplotlib.figure.Figure at 0x7f07f29f4950>"
       ]
      }
     ],
     "prompt_number": 24
    },
    {
     "cell_type": "markdown",
     "metadata": {},
     "source": [
      "Our initial velocity is positive in the positive $x$ direction, so both speed and velocity tend toward zero. In other words, drag acts to slow the object down in the horizontal direction, which is what we expect.\n",
      "\n",
      "We can write a function to calculate this:"
     ]
    },
    {
     "cell_type": "code",
     "collapsed": false,
     "input": [
      "def vx_drag(t, m, k, z0, vx0=0):\n",
      "    \"\"\"Calculate horizontal velocity at time t.\n",
      "    \n",
      "    Parameters\n",
      "    ----------\n",
      "    t : float\n",
      "        Time in seconds\n",
      "    m : float\n",
      "        Mass in kilograms\n",
      "    k : float\n",
      "        Drag coefficient in Ns/m\n",
      "    z0 : float\n",
      "        Height above ground at t = 0\n",
      "    vx0 : float, optional\n",
      "        Initial horizontal velocity in m/s\n",
      "    \n",
      "    Returns\n",
      "    -------\n",
      "    v : float\n",
      "        Horizontal velocity at time t\n",
      "    \n",
      "    \"\"\"\n",
      "    g = 9.81\n",
      "    vx = vx0 * exp(-k / m * t)\n",
      "    return vx\n",
      "    "
     ],
     "language": "python",
     "metadata": {},
     "outputs": [],
     "prompt_number": 25
    },
    {
     "cell_type": "markdown",
     "metadata": {},
     "source": [
      "To find position $x$ at time $t$, we need to integrate our equation for $v_x$:\n",
      "\n",
      "$$\n",
      "\\begin{align}\n",
      "v_x &= v_{x_0}e^{-\\frac k m t} \\\\\n",
      "\\frac{\\mathrm{d}x}{\\mathrm{d}t} &= v_{x_0}e^{-\\frac k m t} \\\\\n",
      "\\int \\mathrm{d}x &= v_{x_0} \\int e^{-\\frac k m t} \\mathrm{d}t \\\\\n",
      "x &= v_{x_0}\\left(-\\frac m k e^{-\\frac k m t} + C \\right) \\\\\n",
      "x &= -\\frac{m}{k}v_{x_0} e^{-\\frac k m t} + C \\\\\n",
      "\\end{align}\n",
      "$$"
     ]
    },
    {
     "cell_type": "markdown",
     "metadata": {},
     "source": [
      "Setting initial conditions of $x(0) = x_0$:\n",
      "\n",
      "$$\n",
      "\\begin{align}\n",
      "x_0 &= -\\frac{m}{k} v_{x_0}e^0 + C \\\\\n",
      "x_0 &= -\\frac{m}{k} v_{x_0} + C \\\\\n",
      "C &= x_0 + \\frac{m}{k} v_{x_0}\n",
      "\\end{align}\n",
      "$$\n",
      "\n",
      "Therefore,\n",
      "\n",
      "$$\n",
      "x = x_0 + \\frac{m}{k} v_{x_0} - \\frac m k v_{x_0}e^{-\\frac k m t}\n",
      "$$\n",
      "\n",
      "And we'll put this into a function as well:"
     ]
    },
    {
     "cell_type": "code",
     "collapsed": false,
     "input": [
      "def x_drag(t, m, k, x0=0, vx0=0):\n",
      "    \"\"\"Calculate forward throw x at time t.\n",
      "    \n",
      "    Parameters\n",
      "    ----------\n",
      "    t : float\n",
      "        Time in seconds\n",
      "    m : float\n",
      "        Mass in kilograms\n",
      "    k : float\n",
      "        Drag coefficient in Ns/m\n",
      "    x0 : float, optional\n",
      "        Initial x position at t = 0\n",
      "    vx0 : float, optional\n",
      "        Initial horizontal velocity\n",
      "        \n",
      "    Returns\n",
      "    -------\n",
      "    x : float\n",
      "        Forward throw in metres\n",
      "    \n",
      "    \"\"\"\n",
      "    g = 9.81\n",
      "    x = x0 + m*vx0/k - m/k*vx0*exp(-k/m*t)\n",
      "    return x"
     ],
     "language": "python",
     "metadata": {},
     "outputs": [],
     "prompt_number": 26
    },
    {
     "cell_type": "markdown",
     "metadata": {},
     "source": [
      "Let's assume our object has an initial velocity $v_0$ that has a direction at an angle $\\theta$ to the horizontal. If we decompose this vector we have two components:\n",
      "\n",
      "$$\n",
      "v_{x_0} = v \\cos \\theta \\\\\n",
      "v_{z_0} = v \\sin \\theta\n",
      "$$\n",
      "\n",
      "So we should have all we need to be able to define a function that calculates the trajectory of an object."
     ]
    },
    {
     "cell_type": "code",
     "collapsed": false,
     "input": [
      "import brewer2mpl\n",
      "import numpy as np\n",
      "from matplotlib import pyplot as plt\n",
      "\n",
      "my_map = brewer2mpl.get_map(\"Paired\", \"Qualitative\", 4)\n",
      "\n",
      "def calc_traj(v0, theta, m, k, z0, x0=0):\n",
      "    \"\"\"Plot the trajectory of an object\n",
      "    \n",
      "    Parameters\n",
      "    ----------\n",
      "    v0: float\n",
      "        Initial speed in m/s\n",
      "    theta: float\n",
      "        Angle from horizontal in degrees of initial speed\n",
      "    m: float\n",
      "        Mass of object in kilograms\n",
      "    k: float\n",
      "        Drag coefficient in Ns/m\n",
      "    z0: float\n",
      "        Initial height above ground in m\n",
      "    \n",
      "    \"\"\"\n",
      "    g = 9.81\n",
      "    vx0 = v0 * np.cos(np.deg2rad(theta))\n",
      "    vz0 = v0 * np.sin(np.deg2rad(theta))\n",
      "    \n",
      "    # Calculate time of flight and generate timesteps.\n",
      "    time_of_flight = calc_time_drag(m, k, z0, vz0)\n",
      "    time = np.linspace(0, time_of_flight, 1000)\n",
      "    \n",
      "    x = [x_drag(i, m, k, x0, vx0) for i in time]\n",
      "    z = [z_drag(i, m, k, z0, vz0) for i in time]\n",
      "    vx = [abs(vx_drag(i, m, k, z0, vx0)) for i in time]\n",
      "    vz = [abs(vz_drag(i, m, k, z0, vz0)) for i in time]\n",
      "    \n",
      "    # Assign colours from ColorBrewer.\n",
      "    colour1 = my_map.hex_colors[0]\n",
      "    colour2 = my_map.hex_colors[1]\n",
      "    colour3 = my_map.hex_colors[2]\n",
      "    colour4 = my_map.hex_colors[3]\n",
      "    \n",
      "    fig, (ax1, ax2) = plt.subplots(1, 2, sharey=False)    \n",
      "    ax1.plot(x, z, lw=2, color=colour1)\n",
      "    ax1.set_ylabel(\"Height [$m$]\")\n",
      "    ax1.set_xlabel(\"Forward throw [$m$]\")\n",
      "    ax1.set_ylim(bottom=0)\n",
      "    \n",
      "    ax2.plot(time, vx, lw=2, label=\"$v_x$\", color=colour3)\n",
      "    ax2.plot(time, vz, lw=2, label=\"$v_z$\", color=colour4)\n",
      "    ax2.set_ylabel(\"Speed [$ms^{-1}$]\")\n",
      "    ax2.set_xlabel(\"Time [$s$]\")\n",
      "    ax2.legend()\n",
      "    \n",
      "    fig.tight_layout()"
     ],
     "language": "python",
     "metadata": {},
     "outputs": [],
     "prompt_number": 27
    },
    {
     "cell_type": "markdown",
     "metadata": {},
     "source": [
      "Let's test the function with an initial velocity of 100 m/s at an angle of 5&deg; up from horizontal:"
     ]
    },
    {
     "cell_type": "code",
     "collapsed": false,
     "input": [
      "calc_traj(100, 5, 0.5, 0.5, 100)"
     ],
     "language": "python",
     "metadata": {},
     "outputs": [
      {
       "metadata": {},
       "output_type": "display_data",
       "png": "[encoded data removed]",
       "text": [
        "<matplotlib.figure.Figure at 0x7f07fc4e1090>"
       ]
      }
     ],
     "prompt_number": 28
    },
    {
     "cell_type": "markdown",
     "metadata": {},
     "source": [
      "It all looks about right:\n",
      "\n",
      "* The trajectory continues upwards before rapidly dropping\n",
      "* The final trajectory is nearly vertical\n",
      "* The speed in the $x$ axis decays exponentially\n",
      "* The vertical speed initially reduces but then increases exponentially until it approaches terminal velocity"
     ]
    },
    {
     "cell_type": "heading",
     "level": 2,
     "metadata": {},
     "source": [
      "Improvements"
     ]
    },
    {
     "cell_type": "heading",
     "level": 3,
     "metadata": {},
     "source": [
      "Using NumPy arrays"
     ]
    },
    {
     "cell_type": "markdown",
     "metadata": {},
     "source": [
      "The code so far has used loops in the form of list comprehensions, such as:"
     ]
    },
    {
     "cell_type": "code",
     "collapsed": true,
     "input": [
      "x = [x_drag(i, m, k, x0, vx0) for i in time]"
     ],
     "language": "python",
     "metadata": {},
     "outputs": [],
     "prompt_number": 29
    },
    {
     "cell_type": "markdown",
     "metadata": {},
     "source": [
      "This is quick an easy to write, but it is also relatively slow to run. NumPy arrays can be operated on element-by-element directly. We already use arrays, such as when we generate a time array:"
     ]
    },
    {
     "cell_type": "code",
     "collapsed": false,
     "input": [
      "time = np.linspace(0, time_of_flight, 1000)"
     ],
     "language": "python",
     "metadata": {},
     "outputs": []
    },
    {
     "cell_type": "markdown",
     "metadata": {},
     "source": [
      "Until now, however, we have been iterating over one time value at a time and substituting that into our equations of motion. With NumPy, we can operate directly on the array.\n",
      "\n",
      "We need to rewrite the two functions of position to use arrays. We change the time argument in the function from a specific time to the total time, and the array generated (with a default resolution of 1000 points) is passed directly to our functions for position:"
     ]
    },
    {
     "cell_type": "code",
     "collapsed": false,
     "input": [
      "def x_drag_array(t, m, k, x0=0, vx0=0, res=1000):\n",
      "    \"\"\"Calculate horizontal trajectory over t seconds.\n",
      "    \n",
      "    Parameters\n",
      "    ----------\n",
      "    t : float\n",
      "        Total time in seconds\n",
      "    m : float\n",
      "        Mass in kilograms\n",
      "    k : float\n",
      "        Drag coefficient in Ns/m\n",
      "    x0 : float, optional\n",
      "        Initial x position at t = 0\n",
      "    vx0 : float, optional\n",
      "        Initial horizontal velocity\n",
      "    res : integer, optional\n",
      "        Resolution of result\n",
      "        \n",
      "    Returns\n",
      "    -------\n",
      "    x : ndarray\n",
      "        Horizontal position array in metres\n",
      "    \n",
      "    \"\"\"\n",
      "    g = 9.81\n",
      "    t = linspace(0, t, res)\n",
      "    x = x0 + m*vx0/k - m/k*vx0*np.exp(-k/m*t)\n",
      "    return x"
     ],
     "language": "python",
     "metadata": {},
     "outputs": [],
     "prompt_number": 30
    },
    {
     "cell_type": "code",
     "collapsed": false,
     "input": [
      "def z_drag_array(t, m, k, z0, vz0=0, res=1000):\n",
      "    \"\"\"Calculate vertical trajectory over t seconds.\n",
      "    \n",
      "    Parameters\n",
      "    ----------\n",
      "    t : float\n",
      "        Total time in seconds\n",
      "    m : float\n",
      "        Mass in kilograms\n",
      "    k : float\n",
      "        Drag coefficient in Ns/m\n",
      "    z0 : float\n",
      "        Height above ground at t = 0\n",
      "    vz0 : float, optional\n",
      "        Initial vertical velocity\n",
      "    res : integer, optional\n",
      "        Resolution of result\n",
      "        \n",
      "    Returns\n",
      "    -------\n",
      "    z : ndarray\n",
      "        Vertical position array in metres\n",
      "    \n",
      "    \"\"\"\n",
      "    g = 9.81\n",
      "    t = linspace(0, t, res)\n",
      "    z = z0 - m*g*t/k + m/k*(vz0 + m*g/k)*(1 - np.exp(-k/m*t))\n",
      "    return z"
     ],
     "language": "python",
     "metadata": {},
     "outputs": [],
     "prompt_number": 31
    },
    {
     "cell_type": "markdown",
     "metadata": {},
     "source": [
      "Improving the two functions for $v_x$ and $v_z$ in the same way gives us the following."
     ]
    },
    {
     "cell_type": "code",
     "collapsed": false,
     "input": [
      "def vx_drag_array(t, m, k, z0, vx0=0, res=1000):\n",
      "    \"\"\"Calculate horizontal velocity at time t.\n",
      "    \n",
      "    Parameters\n",
      "    ----------\n",
      "    t : float\n",
      "        Total time in seconds\n",
      "    m : float\n",
      "        Mass in kilograms\n",
      "    k : float\n",
      "        Drag coefficient in Ns/m\n",
      "    z0 : float\n",
      "        Height above ground at t = 0\n",
      "    vx0 : float, optional\n",
      "        Initial horizontal velocity in m/s\n",
      "    res : integer, optional\n",
      "        Resolution of result\n",
      "    \n",
      "    Returns\n",
      "    -------\n",
      "    vx : ndarray\n",
      "        Horizontal velocity array in m/s\n",
      "    \n",
      "    \"\"\"\n",
      "    g = 9.81\n",
      "    t = linspace(0, t, res)\n",
      "    vx = vx0 * np.exp(-k / m * t)\n",
      "    return vx"
     ],
     "language": "python",
     "metadata": {},
     "outputs": [],
     "prompt_number": 32
    },
    {
     "cell_type": "code",
     "collapsed": false,
     "input": [
      "def vz_drag_array(t, m, k, z0, vz0=0, res=1000):\n",
      "    \"\"\"Calculate vertical velocity at time t.\n",
      "    \n",
      "    Parameters\n",
      "    ----------\n",
      "    t : float\n",
      "        Total time in seconds\n",
      "    m : float\n",
      "        Mass in kilograms\n",
      "    k : float\n",
      "        Drag coefficient in Ns/m\n",
      "    z0 : float\n",
      "        Height above ground at t = 0\n",
      "    vz0 : float, optional\n",
      "        Initial vertical velocity\n",
      "    res : integer, optional\n",
      "        Resolution of result\n",
      "    \n",
      "    Returns\n",
      "    -------\n",
      "    vz : ndarray\n",
      "        Vertical velocity array in m/s\n",
      "    \n",
      "    \"\"\"\n",
      "    g = 9.81\n",
      "    t = linspace(0, t, res)\n",
      "    vz = (vz0 + m*g/k) * np.exp(-k/m*t) - m*g/k\n",
      "    return vz\n",
      "    "
     ],
     "language": "python",
     "metadata": {},
     "outputs": [],
     "prompt_number": 33
    },
    {
     "cell_type": "markdown",
     "metadata": {},
     "source": [
      "Some modification to our `calc_traj` function is also required. We no longer need to use list comprehension as we will get an array back for both $x$ and $z$ trajectories, which we can then pass to the plot function."
     ]
    },
    {
     "cell_type": "code",
     "collapsed": false,
     "input": [
      "import brewer2mpl\n",
      "import numpy as np\n",
      "from matplotlib import pyplot as plt\n",
      "\n",
      "my_map = brewer2mpl.get_map(\"Paired\", \"Qualitative\", 4)\n",
      "\n",
      "def calc_traj_array(v0, theta, m, k, z0, x0=0):\n",
      "    \"\"\"Plot the trajectory of an object\n",
      "    \n",
      "    Parameters\n",
      "    ----------\n",
      "    v0: float\n",
      "        Initial speed in m/s\n",
      "    theta: float\n",
      "        Angle from horizontal in degrees of initial speed\n",
      "    m: float\n",
      "        Mass of object in kilograms\n",
      "    k: float\n",
      "        Drag coefficient in Ns/m\n",
      "    z0: float\n",
      "        Initial height above ground in m\n",
      "    \n",
      "    \"\"\"\n",
      "    g = 9.81\n",
      "    vx0 = v0 * np.cos(np.deg2rad(theta))\n",
      "    vz0 = v0 * np.sin(np.deg2rad(theta))\n",
      "    \n",
      "    # Calculate time of flight and generate timesteps.\n",
      "    time_of_flight = calc_time_drag(m, k, z0, vz0)\n",
      "    time = np.linspace(0, time_of_flight, 1000)\n",
      "    \n",
      "    # time_of_flight is passed directly to functions, rather than using\n",
      "    # list comprehension.\n",
      "    x = x_drag_array(time_of_flight, m, k, x0, vx0)\n",
      "    z = z_drag_array(time_of_flight, m, k, z0, vz0)\n",
      "    vx = abs(vx_drag_array(time_of_flight, m, k, z0, vx0))\n",
      "    vz = abs(vz_drag_array(time_of_flight, m, k, z0, vz0))\n",
      "    \n",
      "    # These functions still use list comprehension with the time array.\n",
      "#     vx = [abs(vx_drag(i, m, k, z0, vx0)) for i in time]\n",
      "#     vz = [abs(vz_drag(i, m, k, z0, vz0)) for i in time]\n",
      "    \n",
      "    # Assign colours from ColorBrewer.\n",
      "    colour1 = my_map.hex_colors[0]\n",
      "    colour2 = my_map.hex_colors[1]\n",
      "    colour3 = my_map.hex_colors[2]\n",
      "    colour4 = my_map.hex_colors[3]\n",
      "    \n",
      "    fig, (ax1, ax2) = plt.subplots(1, 2, sharey=False)    \n",
      "    ax1.plot(x, z, lw=2, color=colour1)\n",
      "    ax1.set_ylabel(\"Height [$m$]\")\n",
      "    ax1.set_xlabel(\"Forward throw [$m$]\")\n",
      "    ax1.set_ylim(bottom=0)\n",
      "    \n",
      "    ax2.plot(time, vx, lw=2, label=\"$v_x$\", color=colour3)\n",
      "    ax2.plot(time, vz, lw=2, label=\"$v_z$\", color=colour4)\n",
      "    ax2.set_ylabel(\"Speed [$ms^{-1}$]\")\n",
      "    ax2.set_xlabel(\"Time [$s$]\")\n",
      "    ax2.legend()\n",
      "    \n",
      "    fig.tight_layout()"
     ],
     "language": "python",
     "metadata": {},
     "outputs": [],
     "prompt_number": 34
    },
    {
     "cell_type": "code",
     "collapsed": false,
     "input": [
      "calc_traj_array(100, 5, 0.5, 0.5, 100)"
     ],
     "language": "python",
     "metadata": {},
     "outputs": [
      {
       "metadata": {},
       "output_type": "display_data",
       "png": "[encoded data removed]",
       "text": [
        "<matplotlib.figure.Figure at 0x7f07fc609950>"
       ]
      }
     ],
     "prompt_number": 35
    },
    {
     "cell_type": "markdown",
     "metadata": {},
     "source": [
      "So it still works. Now let's time the two approaches to see if there is a noticeable difference."
     ]
    },
    {
     "cell_type": "code",
     "collapsed": false,
     "input": [
      "time = np.linspace(0, 10, 1000)\n",
      "m = 1\n",
      "k = 0.5\n",
      "x0 = 0\n",
      "vx0 = 100"
     ],
     "language": "python",
     "metadata": {},
     "outputs": [],
     "prompt_number": 36
    },
    {
     "cell_type": "code",
     "collapsed": false,
     "input": [
      "%timeit x = [x_drag(i, m, k, x0, vx0) for i in time]"
     ],
     "language": "python",
     "metadata": {},
     "outputs": [
      {
       "output_type": "stream",
       "stream": "stdout",
       "text": [
        "1 loops, best of 3: 51.8 ms per loop\n"
       ]
      }
     ],
     "prompt_number": 37
    },
    {
     "cell_type": "code",
     "collapsed": false,
     "input": [
      "%timeit x = x_drag_array(10, m, k, x0, vx0)"
     ],
     "language": "python",
     "metadata": {},
     "outputs": [
      {
       "output_type": "stream",
       "stream": "stdout",
       "text": [
        "10000 loops, best of 3: 47 \u00b5s per loop\n"
       ]
      }
     ],
     "prompt_number": 38
    },
    {
     "cell_type": "markdown",
     "metadata": {},
     "source": [
      "From these two results, it is quite clear that using arrays in our functions is much faster than looping. Something to be remembered!\n",
      "\n"
     ]
    },
    {
     "cell_type": "heading",
     "level": 2,
     "metadata": {},
     "source": [
      "Animation"
     ]
    },
    {
     "cell_type": "markdown",
     "metadata": {},
     "source": [
      "Can we animate the trajectory?"
     ]
    },
    {
     "cell_type": "code",
     "collapsed": false,
     "input": [
      "# This doesn't work in Windows so far; Notebook must not be started with\n",
      "# --inline set if pop-up windows are required.\n",
      "%pylab qt"
     ],
     "language": "python",
     "metadata": {},
     "outputs": [
      {
       "output_type": "stream",
       "stream": "stdout",
       "text": [
        "Populating the interactive namespace from numpy and matplotlib\n"
       ]
      },
      {
       "output_type": "stream",
       "stream": "stderr",
       "text": [
        "WARNING: pylab import has clobbered these variables: ['exp', 'solve', 'f']\n",
        "`%pylab --no-import-all` prevents importing * from pylab and numpy\n"
       ]
      }
     ],
     "prompt_number": 36
    },
    {
     "cell_type": "code",
     "collapsed": false,
     "input": [
      "import numpy as np\n",
      "import brewer2mpl\n",
      "from matplotlib import pyplot as plt\n",
      "from matplotlib import animation\n",
      "\n",
      "# Initial conditions.\n",
      "v0 = 100\n",
      "theta = 5\n",
      "m = 0.5\n",
      "k = 0.5\n",
      "z0 = 100\n",
      "x0 = 0\n",
      "dt = 1/30\n",
      "interval = dt * 1000\n",
      "\n",
      "g = 9.81\n",
      "vx0 = v0 * np.cos(np.deg2rad(theta))\n",
      "vz0 = v0 * np.sin(np.deg2rad(theta))\n",
      "\n",
      "tof = calc_time_drag(m, k, z0, vz0)\n",
      "frames = int(tof / dt)\n",
      "\n",
      "my_map = brewer2mpl.get_map(\"Paired\", \"Qualitative\", 4)\n",
      "colour1 = my_map.hex_colors[0]\n",
      "colour2 = my_map.hex_colors[1]\n",
      "colour3 = my_map.hex_colors[2]\n",
      "colour4 = my_map.hex_colors[3]\n",
      "\n",
      "fig = plt.figure()\n",
      "ax = plt.axes(xlim=(0,100), ylim=(0,120))\n",
      "line, = ax.plot([], [], \"-\", lw=2, color=colour1)\n",
      "ax.set_xlabel(\"Forward throw [$m$]\")\n",
      "ax.set_ylabel(\"Height [$m$]\")\n",
      "\n",
      "def init():\n",
      "    line.set_data([], [])\n",
      "    return line,\n",
      "\n",
      "x = x_drag_array(tof, m, k, x0, vx0, frames)\n",
      "z = z_drag_array(tof, m, k, z0, vz0, frames)\n",
      "\n",
      "def animate(i, x, z):\n",
      "    line.set_data(x[:i], z[:i])\n",
      "    return line,\n",
      "\n",
      "anim = animation.FuncAnimation(fig, animate, fargs=(x, z), init_func=init,\n",
      "                               frames=frames, interval=interval, blit=True)\n",
      "\n",
      "plt.show()"
     ],
     "language": "python",
     "metadata": {},
     "outputs": [
      {
       "metadata": {},
       "output_type": "display_data",
       "png": "[encoded data removed]",
       "text": [
        "<matplotlib.figure.Figure at 0x7fa72c817910>"
       ]
      }
     ],
     "prompt_number": 38
    },
    {
     "cell_type": "markdown",
     "metadata": {},
     "source": [
      "After a bit of trial and error, the above code will produce an animation that illustrates the trajectory in real time. Note that this will not work if IPython Notebook is started with the `--pylab=inline` argument. Removing the `inline` parameter from the notebook start-up command (or setting an alternative backend) means that plots are opened in separate windows, and this allows the animation to be displayed.\n",
      "\n",
      "The code below uses the `JSAnimation` library located [here](https://github.com/jakevdp/JSAnimation) and described [here](http://jakevdp.github.io/blog/2013/05/19/a-javascript-viewer-for-matplotlib-animations/) is designed to display animations directly in the notebook using Javascript. Unfortunately it doesn't work properly with Python 3 at the moment."
     ]
    },
    {
     "cell_type": "code",
     "collapsed": false,
     "input": [
      "from JSAnimation import IPython_display\n",
      "\n",
      "fig = plt.figure()\n",
      "ax = plt.axes(xlim=(0, 100), ylim=(0, 120))\n",
      "line, = ax.plot([], [], lw=2, color=colour2)\n",
      "\n",
      "def init():\n",
      "    line.set_data([], [])\n",
      "    return line,\n",
      "\n",
      "x = x_drag_array(tof, m, k, x0, vx0, frames)\n",
      "z = z_drag_array(tof, m, k, z0, vz0, frames)\n",
      "\n",
      "def animate(i, x, z):\n",
      "    line.set_data(x[:i], z[:i])\n",
      "    return line,\n",
      "\n",
      "animation.FuncAnimation(fig, animate, fargs=(x, z), init_func=init,\n",
      "                               frames=frames, interval=interval)"
     ],
     "language": "python",
     "metadata": {},
     "outputs": [
      {
       "metadata": {},
       "output_type": "pyout",
       "prompt_number": 39,
       "text": [
        "<matplotlib.animation.FuncAnimation at 0x7fa723d19a50>"
       ]
      }
     ],
     "prompt_number": 39
    },
    {
     "cell_type": "heading",
     "level": 2,
     "metadata": {},
     "source": [
      "XKCD-style"
     ]
    },
    {
     "cell_type": "markdown",
     "metadata": {},
     "source": [
      "Just for fun of course..."
     ]
    },
    {
     "cell_type": "code",
     "collapsed": false,
     "input": [
      "import brewer2mpl\n",
      "import numpy as np\n",
      "from matplotlib import pyplot as plt\n",
      "\n",
      "try:\n",
      "    import brewer2mpl\n",
      "    # Assign colours from ColorBrewer.\n",
      "    my_map = brewer2mpl.get_map(\"Paired\", \"Qualitative\", 4)\n",
      "    colour1 = my_map.hex_colors[0]\n",
      "    colour2 = my_map.hex_colors[1]\n",
      "    colour3 = my_map.hex_colors[2]\n",
      "    colour4 = my_map.hex_colors[3]\n",
      "\n",
      "except ImportError:\n",
      "    colour1 = \"#A6CEE3\"\n",
      "    colour2 = \"#1F78B4\"\n",
      "    colour3 = \"#B2DF8A\"\n",
      "    colour4 = \"#33A02C\"\n",
      "        \n",
      "def calc_traj_xkcd(v0, theta, m, k, z0, x0=0):\n",
      "    \"\"\"Plot the trajectory of an object in an XKCD style.\n",
      "    \n",
      "    Parameters\n",
      "    ----------\n",
      "    v0: float\n",
      "        Initial speed in m/s\n",
      "    theta: float\n",
      "        Angle from horizontal in degrees of initial speed\n",
      "    m: float\n",
      "        Mass of object in kilograms\n",
      "    k: float\n",
      "        Drag coefficient in Ns/m\n",
      "    z0: float\n",
      "        Initial height above ground in m\n",
      "    \n",
      "    \"\"\"\n",
      "    g = 9.81\n",
      "    vx0 = v0 * np.cos(np.deg2rad(theta))\n",
      "    vz0 = v0 * np.sin(np.deg2rad(theta))\n",
      "    \n",
      "    # Calculate time of flight and generate timesteps.\n",
      "    time_of_flight = calc_time_drag(m, k, z0, vz0)\n",
      "    time = np.linspace(0, time_of_flight, 1000)\n",
      "    \n",
      "    # time_of_flight is passed directly to functions, rather than using\n",
      "    # list comprehension.\n",
      "    x = x_drag_array(time_of_flight, m, k, x0, vx0)\n",
      "    z = z_drag_array(time_of_flight, m, k, z0, vz0)\n",
      "    vx = abs(vx_drag_array(time_of_flight, m, k, z0, vx0))\n",
      "    vz = abs(vz_drag_array(time_of_flight, m, k, z0, vz0))\n",
      "    \n",
      "    # These functions still use list comprehension with the time array.\n",
      "#     vx = [abs(vx_drag(i, m, k, z0, vx0)) for i in time]\n",
      "#     vz = [abs(vz_drag(i, m, k, z0, vz0)) for i in time]\n",
      "                  \n",
      "    # Turn on the XKCD filter.\n",
      "    with plt.xkcd():\n",
      "        fig, (ax1, ax2) = plt.subplots(1, 2, sharey=False)    \n",
      "        ax1.plot(x, z, lw=2, color=colour1)\n",
      "        ax1.set_ylabel(\"Height, m\")\n",
      "        ax1.set_xlabel(\"Forward throw, m\")\n",
      "        ax1.set_ylim(bottom=0)\n",
      "        \n",
      "        ax2.plot(time, vx, lw=2, label=\"horizontal speed\", color=colour3)\n",
      "        ax2.plot(time, vz, lw=2, label=\"vertical speed\", color=colour4)\n",
      "        ax2.set_ylabel(\"Speed, m/s\")\n",
      "        ax2.set_xlabel(\"Time, s\")\n",
      "        ax2.legend()\n",
      "        \n",
      "        fig.tight_layout()"
     ],
     "language": "python",
     "metadata": {},
     "outputs": [],
     "prompt_number": 39
    },
    {
     "cell_type": "code",
     "collapsed": false,
     "input": [
      "calc_traj_xkcd(100, 5, 0.5, 0.5, 100)"
     ],
     "language": "python",
     "metadata": {},
     "outputs": [
      {
       "metadata": {},
       "output_type": "display_data",
       "png": "[encoded data removed]",
       "text": [
        "<matplotlib.figure.Figure at 0x7f07fc6d8bd0>"
       ]
      }
     ],
     "prompt_number": 40
    },
    {
     "cell_type": "heading",
     "level": 2,
     "metadata": {},
     "source": [
      "Realistic drag"
     ]
    },
    {
     "cell_type": "markdown",
     "metadata": {},
     "source": [
      "In reality, drag is defined as:\n",
      "\n",
      "$$\n",
      "F_d = \\frac12 C_d \\rho A v^2\n",
      "$$"
     ]
    },
    {
     "cell_type": "markdown",
     "metadata": {},
     "source": [
      "The net force acting on the body is the sum of the forces due to gravity and drag, defining positive forces as acting upwards:\n",
      "\n",
      "$$\n",
      "F_\\mathrm{net} = F_d - F_g = \\frac12 C_d \\rho A v^2 - mg\n",
      "$$"
     ]
    },
    {
     "cell_type": "markdown",
     "metadata": {},
     "source": [
      "To simplify the equation, we'll make the subsitution $b = \\frac 1 2 C_d \\rho A $.\n",
      "\n",
      "$$\n",
      "F = bv^2 - mg\n",
      "$$\n",
      "\n",
      "As we did for linear drag above, we can form a differential equation:\n",
      "\n",
      "$$\n",
      "\\begin{align}\n",
      "F &= bv^2 - mg \\\\\n",
      "ma &= bv^2 - mg \\\\\n",
      "a = &= \\frac b m v^2 - g \\\\\n",
      "\\frac{\\mathrm d v}{\\mathrm d t} &= \\frac b m v^2 - g\n",
      "\\end{align}\n",
      "$$\n",
      "\n",
      "Let's make one more substitution of $k = \\frac b m$ and start to solve the equation:\n",
      "\n",
      "$$\n",
      "\\begin{align}\n",
      "\\frac{\\mathrm d v}{\\mathrm d t} & = kv^2 - g \\\\\n",
      "\\int \\frac{1}{kv^2 - g} \\mathrm d v &= \\int \\mathrm d t \\\\\n",
      "\\end{align}\n",
      "$$"
     ]
    },
    {
     "cell_type": "heading",
     "level": 3,
     "metadata": {},
     "source": [
      "Analytical solution"
     ]
    },
    {
     "cell_type": "markdown",
     "metadata": {},
     "source": [
      "The left hand side of the differential equation above is difficult to solve. Can SymPy help?"
     ]
    },
    {
     "cell_type": "code",
     "collapsed": false,
     "input": [
      "from sympy import *\n",
      "init_printing()\n",
      "k, v, g, t, C = symbols(\"k, v, g, t, C\")"
     ],
     "language": "python",
     "metadata": {},
     "outputs": [],
     "prompt_number": 41
    },
    {
     "cell_type": "code",
     "collapsed": false,
     "input": [
      "f = 1 / (k * v ** 2 - g) - t\n",
      "f"
     ],
     "language": "python",
     "metadata": {},
     "outputs": [
      {
       "latex": [
        "$$- t + \\frac{1}{- g + k v^{2}}$$"
       ],
       "metadata": {},
       "output_type": "pyout",
       "png": "[encoded data removed]",
       "prompt_number": 42,
       "text": [
        "         1    \n",
        "-t + \u2500\u2500\u2500\u2500\u2500\u2500\u2500\u2500\u2500\n",
        "             2\n",
        "     -g + k\u22c5v "
       ]
      }
     ],
     "prompt_number": 42
    },
    {
     "cell_type": "code",
     "collapsed": false,
     "input": [
      "solution_1 = integrate(f, v)\n",
      "solution_1"
     ],
     "language": "python",
     "metadata": {},
     "outputs": [
      {
       "latex": [
        "$$- t v + \\frac{\\sqrt{\\frac{1}{g k}}}{2} \\log{\\left (- g \\sqrt{\\frac{1}{g k}} + v \\right )} - \\frac{\\sqrt{\\frac{1}{g k}}}{2} \\log{\\left (g \\sqrt{\\frac{1}{g k}} + v \\right )}$$"
       ],
       "metadata": {},
       "output_type": "pyout",
       "png": "[encoded data removed]",
       "prompt_number": 43,
       "text": [
        "           _____    \u239b        _____    \u239e       _____    \u239b      _____    \u239e\n",
        "          \u2571  1      \u239c       \u2571  1      \u239f      \u2571  1      \u239c     \u2571  1      \u239f\n",
        "         \u2571  \u2500\u2500\u2500 \u22c5log\u239c- g\u22c5  \u2571  \u2500\u2500\u2500  + v\u239f     \u2571  \u2500\u2500\u2500 \u22c5log\u239cg\u22c5  \u2571  \u2500\u2500\u2500  + v\u239f\n",
        "       \u2572\u2571   g\u22c5k     \u239d    \u2572\u2571   g\u22c5k     \u23a0   \u2572\u2571   g\u22c5k     \u239d  \u2572\u2571   g\u22c5k     \u23a0\n",
        "-t\u22c5v + \u2500\u2500\u2500\u2500\u2500\u2500\u2500\u2500\u2500\u2500\u2500\u2500\u2500\u2500\u2500\u2500\u2500\u2500\u2500\u2500\u2500\u2500\u2500\u2500\u2500\u2500\u2500\u2500\u2500\u2500\u2500\u2500 - \u2500\u2500\u2500\u2500\u2500\u2500\u2500\u2500\u2500\u2500\u2500\u2500\u2500\u2500\u2500\u2500\u2500\u2500\u2500\u2500\u2500\u2500\u2500\u2500\u2500\u2500\u2500\u2500\u2500\u2500\n",
        "                      2                                 2               "
       ]
      }
     ],
     "prompt_number": 43
    },
    {
     "cell_type": "markdown",
     "metadata": {},
     "source": [
      "This doesn't look like a nice equation. Let's try to confirm whether it is correct."
     ]
    },
    {
     "cell_type": "markdown",
     "metadata": {},
     "source": [
      "According to [Wikipedia](https://en.wikipedia.org/wiki/List_of_integrals_of_rational_functions#Integrands_of_the_form_xm_.2F_.28a_x2_.2B_b_x_.2B_c.29n), integrands of the form $\\int \\frac{1}{ax^2 + bx + c} \\mathrm d x$ have a solution depending on the result of $4ac - b^2$.\n",
      "\n",
      "In the equation above, $a=k$, $b=0$ and $c=-g$, so the expression $4ac - b^2 = -4kg$. Since this is less than zero the solution is stated to be:\n",
      "\n",
      "$$\n",
      "\\frac{1}{\\sqrt{b^2 - 4ac}} \\ln \\left| \\frac{2ax + b - \\sqrt{b^2 - 4ac}}{2ax + b + \\sqrt{b^2 - 4ac}} \\right| + C\n",
      "$$"
     ]
    },
    {
     "cell_type": "markdown",
     "metadata": {},
     "source": [
      "Substituting the values of our equation:\n",
      "\n",
      "$$\n",
      "\\begin{align}\n",
      "\\frac{1}{\\sqrt{4kg}} \\ln \\left| \\frac{2kv - \\sqrt{4kg}}{2kv + \\sqrt{4kg}} \\right| + C\n",
      "\\end{align}\n",
      "$$"
     ]
    },
    {
     "cell_type": "markdown",
     "metadata": {},
     "source": [
      "The two potential solutions so far look very different to each other. [Wolfram|Alpha](http://www.wolframalpha.com) provides yet another [solution](http://www.wolframalpha.com/input/?i=integrate+1+%2F+%28k+*+v+%5E+2+-+g%29+-t):\n",
      "\n",
      "$$\n",
      "-\\frac{\\tanh^{-1}\\left(\\frac{\\sqrt{k}v}{\\sqrt{g}}\\right)}{\\sqrt{g}\\sqrt{k}} - t + C\n",
      "$$"
     ]
    },
    {
     "cell_type": "markdown",
     "metadata": {},
     "source": [
      "We could try to compare these three solutions by substituting arbitrary values for $g, k, t$ and $v$."
     ]
    },
    {
     "cell_type": "code",
     "collapsed": false,
     "input": [
      "solution_2 = 1 / sqrt(4 * k * g) * ln((2*k*v - sqrt(4*k*g)) / (2*k*v + sqrt(4*k*g))) - t*v + C\n",
      "solution_2"
     ],
     "language": "python",
     "metadata": {},
     "outputs": [
      {
       "latex": [
        "$$C - t v + \\frac{1}{2 \\sqrt{g k}} \\log{\\left (\\frac{2 k v - 2 \\sqrt{g k}}{2 k v + 2 \\sqrt{g k}} \\right )}$$"
       ],
       "metadata": {},
       "output_type": "pyout",
       "png": "[encoded data removed]",
       "prompt_number": 44,
       "text": [
        "             \u239b            _____\u239e\n",
        "             \u239c2\u22c5k\u22c5v - 2\u22c5\u2572\u2571 g\u22c5k \u239f\n",
        "          log\u239c\u2500\u2500\u2500\u2500\u2500\u2500\u2500\u2500\u2500\u2500\u2500\u2500\u2500\u2500\u2500\u2500\u2500\u239f\n",
        "             \u239c            _____\u239f\n",
        "             \u239d2\u22c5k\u22c5v + 2\u22c5\u2572\u2571 g\u22c5k \u23a0\n",
        "C - t\u22c5v + \u2500\u2500\u2500\u2500\u2500\u2500\u2500\u2500\u2500\u2500\u2500\u2500\u2500\u2500\u2500\u2500\u2500\u2500\u2500\u2500\u2500\u2500\n",
        "                    _____       \n",
        "                2\u22c5\u2572\u2571 g\u22c5k        "
       ]
      }
     ],
     "prompt_number": 44
    },
    {
     "cell_type": "code",
     "collapsed": false,
     "input": [
      "solution_3 = - atanh(sqrt(k*v) / sqrt(g)) / (sqrt(g)*sqrt(k)) - t*v + C\n",
      "solution_3"
     ],
     "language": "python",
     "metadata": {},
     "outputs": [
      {
       "latex": [
        "$$C - t v - \\frac{1}{\\sqrt{g} \\sqrt{k}} \\operatorname{atanh}{\\left (\\frac{\\sqrt{k v}}{\\sqrt{g}} \\right )}$$"
       ],
       "metadata": {},
       "output_type": "pyout",
       "png": "[encoded data removed]",
       "prompt_number": 45,
       "text": [
        "               \u239b  _____\u239e\n",
        "               \u239c\u2572\u2571 k\u22c5v \u239f\n",
        "          atanh\u239c\u2500\u2500\u2500\u2500\u2500\u2500\u2500\u239f\n",
        "               \u239c   ___ \u239f\n",
        "               \u239d \u2572\u2571 g  \u23a0\n",
        "C - t\u22c5v - \u2500\u2500\u2500\u2500\u2500\u2500\u2500\u2500\u2500\u2500\u2500\u2500\u2500\u2500\n",
        "             ___   ___  \n",
        "           \u2572\u2571 g \u22c5\u2572\u2571 k   "
       ]
      }
     ],
     "prompt_number": 45
    },
    {
     "cell_type": "markdown",
     "metadata": {},
     "source": [
      "First, the SymPy solution (with the constant of integration also added):"
     ]
    },
    {
     "cell_type": "code",
     "collapsed": false,
     "input": [
      "solution_1.subs([(g, 9.81), (k, 0.5), (t, 10), (v, 10)]) + C"
     ],
     "language": "python",
     "metadata": {},
     "outputs": [
      {
       "latex": [
        "$$C - 100.214874840009$$"
       ],
       "metadata": {},
       "output_type": "pyout",
       "png": "[encoded data removed]",
       "prompt_number": 46,
       "text": [
        "C - 100.214874840009"
       ]
      }
     ],
     "prompt_number": 46
    },
    {
     "cell_type": "markdown",
     "metadata": {},
     "source": [
      "Second, the Wikipedia solution:"
     ]
    },
    {
     "cell_type": "code",
     "collapsed": false,
     "input": [
      "solution_2.subs([(g, 9.81), (k, 0.5), (t, 10), (v, 10)])"
     ],
     "language": "python",
     "metadata": {},
     "outputs": [
      {
       "latex": [
        "$$C - 100.214874840009$$"
       ],
       "metadata": {},
       "output_type": "pyout",
       "png": "[encoded data removed]",
       "prompt_number": 47,
       "text": [
        "C - 100.214874840009"
       ]
      }
     ],
     "prompt_number": 47
    },
    {
     "cell_type": "markdown",
     "metadata": {},
     "source": [
      "That's quite surprising, but promising. Finally, the Wolfram|Alpha solution:"
     ]
    },
    {
     "cell_type": "code",
     "collapsed": false,
     "input": [
      "N(solution_3.subs([(g, 9.81), (k, 0.5), (t, 10), (v, 10)]))"
     ],
     "language": "python",
     "metadata": {},
     "outputs": [
      {
       "latex": [
        "$$C - 100.404175359577$$"
       ],
       "metadata": {},
       "output_type": "pyout",
       "png": "[encoded data removed]",
       "prompt_number": 48,
       "text": [
        "C - 100.404175359577"
       ]
      }
     ],
     "prompt_number": 48
    },
    {
     "cell_type": "markdown",
     "metadata": {},
     "source": [
      "This one doesn't quite match. Let's try to solve for $C$ using an initial velocity of zero at time zero: "
     ]
    },
    {
     "cell_type": "code",
     "collapsed": false,
     "input": [
      "solution_1.subs([(g, 9.81), (k, 0.5), (t, 0), (v, 0)]) + C"
     ],
     "language": "python",
     "metadata": {},
     "outputs": [
      {
       "latex": [
        "$$C + 0.225761820492865 i \\pi$$"
       ],
       "metadata": {},
       "output_type": "pyout",
       "png": "[encoded data removed]",
       "prompt_number": 49,
       "text": [
        "C + 0.225761820492865\u22c5\u2148\u22c5\u03c0"
       ]
      }
     ],
     "prompt_number": 49
    },
    {
     "cell_type": "code",
     "collapsed": false,
     "input": [
      "solution_2.subs([(g, 9.81), (k, 0.5), (t, 0), (v, 0)])"
     ],
     "language": "python",
     "metadata": {},
     "outputs": [
      {
       "latex": [
        "$$C + 5.3362023969869 \\cdot 10^{-126} + 0.225761820492865 i \\pi$$"
       ],
       "metadata": {},
       "output_type": "pyout",
       "png": "[encoded data removed]",
       "prompt_number": 50,
       "text": [
        "C + 5.3362023969869e-126 + 0.225761820492865\u22c5\u2148\u22c5\u03c0"
       ]
      }
     ],
     "prompt_number": 50
    },
    {
     "cell_type": "code",
     "collapsed": false,
     "input": [
      "N(solution_3.subs([(g, 9.81), (k, 0.5), (t, 0), (v, 0)]))"
     ],
     "language": "python",
     "metadata": {},
     "outputs": [
      {
       "latex": [
        "$$C$$"
       ],
       "metadata": {},
       "output_type": "pyout",
       "png": "[encoded data removed]",
       "prompt_number": 51,
       "text": [
        "C"
       ]
      }
     ],
     "prompt_number": 51
    },
    {
     "cell_type": "markdown",
     "metadata": {},
     "source": [
      "Three different results. However, closer inspection of the first two suggests that they could be similar except for some floating point imprecision.\n",
      "\n",
      "However, solving the first solution for $C$ yields a different answer of $C=0$."
     ]
    },
    {
     "cell_type": "heading",
     "level": 3,
     "metadata": {},
     "source": [
      "Numerical solution"
     ]
    },
    {
     "cell_type": "markdown",
     "metadata": {},
     "source": [
      "Returning to the original differential equation, we have:\n",
      "\n",
      "$$\n",
      "\\frac{\\mathrm d v}{\\mathrm d t} = \\frac b m v^2 - g\n",
      "$$\n",
      "\n",
      "If we replace $b$ with the original constants, and re-write slightly, we have:\n",
      "\n",
      "$$\n",
      "\\dot{v} = \\frac{C_d \\rho A}{2m}v^2 - g\n",
      "$$"
     ]
    },
    {
     "cell_type": "markdown",
     "metadata": {},
     "source": [
      "Using SciPy, we can solve differential equations. First, create a function for $\\dot v$. We also define some nominal values for the constants."
     ]
    },
    {
     "cell_type": "code",
     "collapsed": false,
     "input": [
      "from scipy.integrate import odeint\n",
      "\n",
      "cd = 0.8\n",
      "rho = 1.225\n",
      "A = 0.0025\n",
      "m = 1\n",
      "g = 9.81\n",
      "\n",
      "def dv(v, t):\n",
      "    \"\"\"Return derivative of v.\"\"\"\n",
      "    dv = (cd * rho * A) / (2 * m) * v**2 - g\n",
      "    \n",
      "    return dv"
     ],
     "language": "python",
     "metadata": {},
     "outputs": [],
     "prompt_number": 57
    },
    {
     "cell_type": "markdown",
     "metadata": {},
     "source": [
      "We need to set the initial state for $v$ and $t$. For now, assume that both are zero. We will also define an array of time values."
     ]
    },
    {
     "cell_type": "code",
     "collapsed": false,
     "input": [
      "v0 = 0\n",
      "t = np.linspace(0, 30, 500)"
     ],
     "language": "python",
     "metadata": {},
     "outputs": [],
     "prompt_number": 2
    },
    {
     "cell_type": "markdown",
     "metadata": {},
     "source": [
      "Now, we can solve the differential equation."
     ]
    },
    {
     "cell_type": "code",
     "collapsed": false,
     "input": [
      "v = odeint(dv, v0, t)"
     ],
     "language": "python",
     "metadata": {},
     "outputs": [],
     "prompt_number": 3
    },
    {
     "cell_type": "markdown",
     "metadata": {},
     "source": [
      "Let's plot $v$ against $t$:"
     ]
    },
    {
     "cell_type": "code",
     "collapsed": false,
     "input": [
      "import brewer2mpl\n",
      "from matplotlib import pyplot as plt\n",
      "\n",
      "my_map = brewer2mpl.get_map(\"Paired\", \"Qualitative\", 4)\n",
      "\n",
      "colour1 = my_map.hex_colors[0]\n",
      "colour2 = my_map.hex_colors[1]\n",
      "colour3 = my_map.hex_colors[2]\n",
      "colour4 = my_map.hex_colors[3]\n",
      "    \n",
      "fig, ax1 = plt.subplots(1)    \n",
      "ax1.plot(t, v, lw=2, color=colour1)\n",
      "ax1.set_ylabel(\"Speed [$ms^{-1}$]\")\n",
      "ax1.set_xlabel(\"Time [$s$]\")\n",
      "\n",
      "fig.tight_layout()"
     ],
     "language": "python",
     "metadata": {},
     "outputs": [
      {
       "metadata": {},
       "output_type": "display_data",
       "png": "[encoded data removed]",
       "text": [
        "<matplotlib.figure.Figure at 0x7f58ac73e890>"
       ]
      }
     ],
     "prompt_number": 4
    },
    {
     "cell_type": "markdown",
     "metadata": {},
     "source": [
      "Now, what if we re-write the velocity differential equation in terms of displacement? We know that $v = \\frac{\\mathrm d s}{\\mathrm d t}$ (where $s$ is simple displacement), so by substitution it becomes a second-order differential equation:\n",
      "\n",
      "$$\n",
      "\\begin{align}\n",
      "\\frac{\\mathrm d}{\\mathrm d t}\\left(\\frac{\\mathrm d s}{\\mathrm d t}\\right) &= \\frac{C_d \\rho A}{2m}\\frac{\\mathrm d s}{\\mathrm d t}^2 - g \\\\\n",
      "\\frac{\\mathrm d^2 s}{\\mathrm d t} &= \\frac{C_d \\rho A}{2m}\\frac{\\mathrm d s}{\\mathrm d t}^2 - g \n",
      "\\end{align}\n",
      "$$"
     ]
    },
    {
     "cell_type": "markdown",
     "metadata": {},
     "source": [
      "In order for `scipy.integrate.odeint` to be able to solve this equation, it needs to be re-written as a system of first-order differential equations.\n",
      "\n",
      "Let's define a new function $S$, such that:\n",
      "\n",
      "$$\n",
      "\\begin{align}\n",
      "S &= \\dot{s} \\\\\n",
      "\\dot{S} &= \\ddot{s}\n",
      "\\end{align}\n",
      "$$\n",
      "\n",
      "The second-order differential equation can now be re-written as first-order:\n",
      "\n",
      "$$\n",
      "\\dot{S} = \\frac{C_d \\rho A}{2m} S^2 - g\n",
      "$$\n",
      "\n",
      "As before, we can write a function to solve this:"
     ]
    },
    {
     "cell_type": "code",
     "collapsed": false,
     "input": [
      "def dS(S, t):\n",
      "    \"\"\"Return derivative of S.\"\"\"\n",
      "    dS = (cd * rho * A) / (2 * m) * S**2 - g\n",
      "    \n",
      "    return dS"
     ],
     "language": "python",
     "metadata": {},
     "outputs": [],
     "prompt_number": 57
    },
    {
     "cell_type": "markdown",
     "metadata": {},
     "source": [
      "This is identical to the original equation we had, except that $S$ has replaced $v$. Is that correct? Quite possibly; all we have done really is substitute $S$ for $\\dot{s}$. To be more realistic, how about we consider the initial position $s_0$."
     ]
    },
    {
     "cell_type": "markdown",
     "metadata": {},
     "source": [
      "$$\n",
      "\\frac{\\mathrm d^2 s}{\\mathrm d t^2} = \\frac{C_d \\rho A}{2m}\\frac{\\mathrm d s}{\\mathrm d t}^2 + s_0 - g\n",
      "$$\n",
      "\n",
      "Re-writing again in terms of $\\dot{S}$:\n",
      "\n",
      "$$\n",
      "\\dot{S} = \\frac{C_d \\rho A}{2m}S^2 + s_0 - g\n",
      "$$"
     ]
    },
    {
     "cell_type": "code",
     "collapsed": false,
     "input": [
      "def dy(y, t):\n",
      "    \"\"\"Return derivative of S.\"\"\"\n",
      "    s, S = y[0], y[1]\n",
      "    ds = S\n",
      "    dS = (cd * rho * A) / (2 * m) * S**2 + s - g\n",
      "    \n",
      "    return [ds, dS]"
     ],
     "language": "python",
     "metadata": {},
     "outputs": [],
     "prompt_number": 58
    },
    {
     "cell_type": "code",
     "collapsed": false,
     "input": [
      "y0 = [100, 0]\n",
      "t = np.linspace(0, 50, 500)"
     ],
     "language": "python",
     "metadata": {},
     "outputs": [],
     "prompt_number": 59
    },
    {
     "cell_type": "code",
     "collapsed": false,
     "input": [
      "s = odeint(dy, y0, t)"
     ],
     "language": "python",
     "metadata": {},
     "outputs": [
      {
       "ename": "NameError",
       "evalue": "name 'full_output' is not defined",
       "output_type": "pyerr",
       "traceback": [
        "\u001b[1;31m---------------------------------------------------------------------------\u001b[0m\n\u001b[1;31mNameError\u001b[0m                                 Traceback (most recent call last)",
        "\u001b[1;32m<ipython-input-68-6fb76febcf0d>\u001b[0m in \u001b[0;36m<module>\u001b[1;34m()\u001b[0m\n\u001b[1;32m----> 1\u001b[1;33m \u001b[0ms\u001b[0m \u001b[1;33m=\u001b[0m \u001b[0modeint\u001b[0m\u001b[1;33m(\u001b[0m\u001b[0mdy\u001b[0m\u001b[1;33m,\u001b[0m \u001b[0my0\u001b[0m\u001b[1;33m,\u001b[0m \u001b[0mt\u001b[0m\u001b[1;33m,\u001b[0m \u001b[0mfull_output\u001b[0m\u001b[1;33m)\u001b[0m\u001b[1;33m\u001b[0m\u001b[0m\n\u001b[0m",
        "\u001b[1;31mNameError\u001b[0m: name 'full_output' is not defined"
       ]
      }
     ],
     "prompt_number": 68
    },
    {
     "cell_type": "code",
     "collapsed": false,
     "input": [
      "import brewer2mpl\n",
      "from matplotlib import pyplot as plt\n",
      "\n",
      "my_map = brewer2mpl.get_map(\"Paired\", \"Qualitative\", 4)\n",
      "\n",
      "colour1 = my_map.hex_colors[0]\n",
      "colour2 = my_map.hex_colors[1]\n",
      "colour3 = my_map.hex_colors[2]\n",
      "colour4 = my_map.hex_colors[3]\n",
      "    \n",
      "fig, ax1 = plt.subplots(1)    \n",
      "ax1.plot(t, s, lw=2, color=colour1)\n",
      "ax1.set_ylabel(\"Height [$m$]\")\n",
      "ax1.set_xlabel(\"Time [$s$]\")\n",
      "\n",
      "fig.tight_layout()"
     ],
     "language": "python",
     "metadata": {},
     "outputs": [
      {
       "ename": "ValueError",
       "evalue": "x and y must have same first dimension",
       "output_type": "pyerr",
       "traceback": [
        "\u001b[1;31m---------------------------------------------------------------------------\u001b[0m\n\u001b[1;31mValueError\u001b[0m                                Traceback (most recent call last)",
        "\u001b[1;32m<ipython-input-67-8df17e5899a9>\u001b[0m in \u001b[0;36m<module>\u001b[1;34m()\u001b[0m\n\u001b[0;32m     10\u001b[0m \u001b[1;33m\u001b[0m\u001b[0m\n\u001b[0;32m     11\u001b[0m \u001b[0mfig\u001b[0m\u001b[1;33m,\u001b[0m \u001b[0max1\u001b[0m \u001b[1;33m=\u001b[0m \u001b[0mplt\u001b[0m\u001b[1;33m.\u001b[0m\u001b[0msubplots\u001b[0m\u001b[1;33m(\u001b[0m\u001b[1;36m1\u001b[0m\u001b[1;33m)\u001b[0m\u001b[1;33m\u001b[0m\u001b[0m\n\u001b[1;32m---> 12\u001b[1;33m \u001b[0max1\u001b[0m\u001b[1;33m.\u001b[0m\u001b[0mplot\u001b[0m\u001b[1;33m(\u001b[0m\u001b[0mt\u001b[0m\u001b[1;33m,\u001b[0m \u001b[0ms\u001b[0m\u001b[1;33m,\u001b[0m \u001b[0mlw\u001b[0m\u001b[1;33m=\u001b[0m\u001b[1;36m2\u001b[0m\u001b[1;33m,\u001b[0m \u001b[0mcolor\u001b[0m\u001b[1;33m=\u001b[0m\u001b[0mcolour1\u001b[0m\u001b[1;33m)\u001b[0m\u001b[1;33m\u001b[0m\u001b[0m\n\u001b[0m\u001b[0;32m     13\u001b[0m \u001b[0max1\u001b[0m\u001b[1;33m.\u001b[0m\u001b[0mset_ylabel\u001b[0m\u001b[1;33m(\u001b[0m\u001b[1;34m\"Height [$m$]\"\u001b[0m\u001b[1;33m)\u001b[0m\u001b[1;33m\u001b[0m\u001b[0m\n\u001b[0;32m     14\u001b[0m \u001b[0max1\u001b[0m\u001b[1;33m.\u001b[0m\u001b[0mset_xlabel\u001b[0m\u001b[1;33m(\u001b[0m\u001b[1;34m\"Time [$s$]\"\u001b[0m\u001b[1;33m)\u001b[0m\u001b[1;33m\u001b[0m\u001b[0m\n",
        "\u001b[1;32m/home/paul/.virtualenvs/notebook/lib/python3.3/site-packages/matplotlib/axes.py\u001b[0m in \u001b[0;36mplot\u001b[1;34m(self, *args, **kwargs)\u001b[0m\n\u001b[0;32m   4137\u001b[0m         \u001b[0mlines\u001b[0m \u001b[1;33m=\u001b[0m \u001b[1;33m[\u001b[0m\u001b[1;33m]\u001b[0m\u001b[1;33m\u001b[0m\u001b[0m\n\u001b[0;32m   4138\u001b[0m \u001b[1;33m\u001b[0m\u001b[0m\n\u001b[1;32m-> 4139\u001b[1;33m         \u001b[1;32mfor\u001b[0m \u001b[0mline\u001b[0m \u001b[1;32min\u001b[0m \u001b[0mself\u001b[0m\u001b[1;33m.\u001b[0m\u001b[0m_get_lines\u001b[0m\u001b[1;33m(\u001b[0m\u001b[1;33m*\u001b[0m\u001b[0margs\u001b[0m\u001b[1;33m,\u001b[0m \u001b[1;33m**\u001b[0m\u001b[0mkwargs\u001b[0m\u001b[1;33m)\u001b[0m\u001b[1;33m:\u001b[0m\u001b[1;33m\u001b[0m\u001b[0m\n\u001b[0m\u001b[0;32m   4140\u001b[0m             \u001b[0mself\u001b[0m\u001b[1;33m.\u001b[0m\u001b[0madd_line\u001b[0m\u001b[1;33m(\u001b[0m\u001b[0mline\u001b[0m\u001b[1;33m)\u001b[0m\u001b[1;33m\u001b[0m\u001b[0m\n\u001b[0;32m   4141\u001b[0m             \u001b[0mlines\u001b[0m\u001b[1;33m.\u001b[0m\u001b[0mappend\u001b[0m\u001b[1;33m(\u001b[0m\u001b[0mline\u001b[0m\u001b[1;33m)\u001b[0m\u001b[1;33m\u001b[0m\u001b[0m\n",
        "\u001b[1;32m/home/paul/.virtualenvs/notebook/lib/python3.3/site-packages/matplotlib/axes.py\u001b[0m in \u001b[0;36m_grab_next_args\u001b[1;34m(self, *args, **kwargs)\u001b[0m\n\u001b[0;32m    317\u001b[0m                 \u001b[1;32mreturn\u001b[0m\u001b[1;33m\u001b[0m\u001b[0m\n\u001b[0;32m    318\u001b[0m             \u001b[1;32mif\u001b[0m \u001b[0mlen\u001b[0m\u001b[1;33m(\u001b[0m\u001b[0mremaining\u001b[0m\u001b[1;33m)\u001b[0m \u001b[1;33m<=\u001b[0m \u001b[1;36m3\u001b[0m\u001b[1;33m:\u001b[0m\u001b[1;33m\u001b[0m\u001b[0m\n\u001b[1;32m--> 319\u001b[1;33m                 \u001b[1;32mfor\u001b[0m \u001b[0mseg\u001b[0m \u001b[1;32min\u001b[0m \u001b[0mself\u001b[0m\u001b[1;33m.\u001b[0m\u001b[0m_plot_args\u001b[0m\u001b[1;33m(\u001b[0m\u001b[0mremaining\u001b[0m\u001b[1;33m,\u001b[0m \u001b[0mkwargs\u001b[0m\u001b[1;33m)\u001b[0m\u001b[1;33m:\u001b[0m\u001b[1;33m\u001b[0m\u001b[0m\n\u001b[0m\u001b[0;32m    320\u001b[0m                     \u001b[1;32myield\u001b[0m \u001b[0mseg\u001b[0m\u001b[1;33m\u001b[0m\u001b[0m\n\u001b[0;32m    321\u001b[0m                 \u001b[1;32mreturn\u001b[0m\u001b[1;33m\u001b[0m\u001b[0m\n",
        "\u001b[1;32m/home/paul/.virtualenvs/notebook/lib/python3.3/site-packages/matplotlib/axes.py\u001b[0m in \u001b[0;36m_plot_args\u001b[1;34m(self, tup, kwargs)\u001b[0m\n\u001b[0;32m    295\u001b[0m             \u001b[0mx\u001b[0m \u001b[1;33m=\u001b[0m \u001b[0mnp\u001b[0m\u001b[1;33m.\u001b[0m\u001b[0marange\u001b[0m\u001b[1;33m(\u001b[0m\u001b[0my\u001b[0m\u001b[1;33m.\u001b[0m\u001b[0mshape\u001b[0m\u001b[1;33m[\u001b[0m\u001b[1;36m0\u001b[0m\u001b[1;33m]\u001b[0m\u001b[1;33m,\u001b[0m \u001b[0mdtype\u001b[0m\u001b[1;33m=\u001b[0m\u001b[0mfloat\u001b[0m\u001b[1;33m)\u001b[0m\u001b[1;33m\u001b[0m\u001b[0m\n\u001b[0;32m    296\u001b[0m \u001b[1;33m\u001b[0m\u001b[0m\n\u001b[1;32m--> 297\u001b[1;33m         \u001b[0mx\u001b[0m\u001b[1;33m,\u001b[0m \u001b[0my\u001b[0m \u001b[1;33m=\u001b[0m \u001b[0mself\u001b[0m\u001b[1;33m.\u001b[0m\u001b[0m_xy_from_xy\u001b[0m\u001b[1;33m(\u001b[0m\u001b[0mx\u001b[0m\u001b[1;33m,\u001b[0m \u001b[0my\u001b[0m\u001b[1;33m)\u001b[0m\u001b[1;33m\u001b[0m\u001b[0m\n\u001b[0m\u001b[0;32m    298\u001b[0m \u001b[1;33m\u001b[0m\u001b[0m\n\u001b[0;32m    299\u001b[0m         \u001b[1;32mif\u001b[0m \u001b[0mself\u001b[0m\u001b[1;33m.\u001b[0m\u001b[0mcommand\u001b[0m \u001b[1;33m==\u001b[0m \u001b[1;34m'plot'\u001b[0m\u001b[1;33m:\u001b[0m\u001b[1;33m\u001b[0m\u001b[0m\n",
        "\u001b[1;32m/home/paul/.virtualenvs/notebook/lib/python3.3/site-packages/matplotlib/axes.py\u001b[0m in \u001b[0;36m_xy_from_xy\u001b[1;34m(self, x, y)\u001b[0m\n\u001b[0;32m    237\u001b[0m         \u001b[0my\u001b[0m \u001b[1;33m=\u001b[0m \u001b[0mnp\u001b[0m\u001b[1;33m.\u001b[0m\u001b[0matleast_1d\u001b[0m\u001b[1;33m(\u001b[0m\u001b[0my\u001b[0m\u001b[1;33m)\u001b[0m\u001b[1;33m\u001b[0m\u001b[0m\n\u001b[0;32m    238\u001b[0m         \u001b[1;32mif\u001b[0m \u001b[0mx\u001b[0m\u001b[1;33m.\u001b[0m\u001b[0mshape\u001b[0m\u001b[1;33m[\u001b[0m\u001b[1;36m0\u001b[0m\u001b[1;33m]\u001b[0m \u001b[1;33m!=\u001b[0m \u001b[0my\u001b[0m\u001b[1;33m.\u001b[0m\u001b[0mshape\u001b[0m\u001b[1;33m[\u001b[0m\u001b[1;36m0\u001b[0m\u001b[1;33m]\u001b[0m\u001b[1;33m:\u001b[0m\u001b[1;33m\u001b[0m\u001b[0m\n\u001b[1;32m--> 239\u001b[1;33m             \u001b[1;32mraise\u001b[0m \u001b[0mValueError\u001b[0m\u001b[1;33m(\u001b[0m\u001b[1;34m\"x and y must have same first dimension\"\u001b[0m\u001b[1;33m)\u001b[0m\u001b[1;33m\u001b[0m\u001b[0m\n\u001b[0m\u001b[0;32m    240\u001b[0m         \u001b[1;32mif\u001b[0m \u001b[0mx\u001b[0m\u001b[1;33m.\u001b[0m\u001b[0mndim\u001b[0m \u001b[1;33m>\u001b[0m \u001b[1;36m2\u001b[0m \u001b[1;32mor\u001b[0m \u001b[0my\u001b[0m\u001b[1;33m.\u001b[0m\u001b[0mndim\u001b[0m \u001b[1;33m>\u001b[0m \u001b[1;36m2\u001b[0m\u001b[1;33m:\u001b[0m\u001b[1;33m\u001b[0m\u001b[0m\n\u001b[0;32m    241\u001b[0m             \u001b[1;32mraise\u001b[0m \u001b[0mValueError\u001b[0m\u001b[1;33m(\u001b[0m\u001b[1;34m\"x and y can be no greater than 2-D\"\u001b[0m\u001b[1;33m)\u001b[0m\u001b[1;33m\u001b[0m\u001b[0m\n",
        "\u001b[1;31mValueError\u001b[0m: x and y must have same first dimension"
       ]
      },
      {
       "metadata": {},
       "output_type": "display_data",
       "png": "[encoded data removed]",
       "text": [
        "<matplotlib.figure.Figure at 0x7f58a3848610>"
       ]
      }
     ],
     "prompt_number": 67
    },
    {
     "cell_type": "code",
     "collapsed": false,
     "input": [
      "s.shape"
     ],
     "language": "python",
     "metadata": {},
     "outputs": [
      {
       "metadata": {},
       "output_type": "pyout",
       "prompt_number": 64,
       "text": [
        "(500, 2)"
       ]
      }
     ],
     "prompt_number": 64
    },
    {
     "cell_type": "code",
     "collapsed": false,
     "input": [],
     "language": "python",
     "metadata": {},
     "outputs": []
    }
   ],
   "metadata": {}
  }
 ]
}