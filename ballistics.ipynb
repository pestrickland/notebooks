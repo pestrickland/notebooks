{
 "metadata": {
  "name": ""
 },
 "nbformat": 3,
 "nbformat_minor": 0,
 "worksheets": [
  {
   "cells": [
    {
     "cell_type": "heading",
     "level": 1,
     "metadata": {},
     "source": [
      "Ballistic Trajectory Modelling"
     ]
    },
    {
     "cell_type": "heading",
     "level": 2,
     "metadata": {},
     "source": [
      "Zero Drag"
     ]
    },
    {
     "cell_type": "markdown",
     "metadata": {},
     "source": [
      "When drag is not considered, the equations become quite simple. Gravity acts on the mass of the object in the z direction. In the x direction, the object maintains its initial horizontal speed without slowing down. "
     ]
    },
    {
     "cell_type": "markdown",
     "metadata": {},
     "source": [
      "The horizontal velocity component is found by:\n",
      "\n",
      "$$v_x = v\\cos\\theta$$"
     ]
    },
    {
     "cell_type": "markdown",
     "metadata": {},
     "source": [
      "Similarly, the vertical component of the velocity is found by:\n",
      "\n",
      "$$v_z = v\\sin\\theta$$"
     ]
    },
    {
     "cell_type": "markdown",
     "metadata": {},
     "source": [
      "where $\\theta$ is the initial angle of the store relative to the horizontal plane."
     ]
    },
    {
     "cell_type": "heading",
     "level": 3,
     "metadata": {},
     "source": [
      "Zero initial height"
     ]
    },
    {
     "cell_type": "markdown",
     "metadata": {},
     "source": [
      "At time $t$, the horizontal distance is found by:\n",
      "\n",
      "$$x(t) = vt\\cos\\theta$$"
     ]
    },
    {
     "cell_type": "markdown",
     "metadata": {},
     "source": [
      "Similarly, the vertical distance travelled is found by:\n",
      "\n",
      "$$z(t) = vt\\sin\\theta - \\frac{1}{2}gt^2$$"
     ]
    },
    {
     "cell_type": "markdown",
     "metadata": {},
     "source": [
      "Since we have assumed flat ground ($z_0 = 0$), the starting and ending values will be the same. We can solve for $t$:\n",
      "\n",
      "$$\n",
      "\\begin{align}\n",
      "z & = vt\\sin\\theta - \\frac{1}{2}gt^2 \\\\\\\\\n",
      "z & = t\\left(v\\sin\\theta - \\frac{1}{2}gt\\right) \\\\\\\\\n",
      "\\end{align}\n",
      "$$\n",
      "\n",
      "So, $t=0$ or $t = \\frac{2v\\sin\\theta}{g}$\n",
      "\n",
      "Substituting $t$ into the equation for $x$ yields:\n",
      "\n",
      "$$x = \\frac{2v^2\\sin\\theta\\cos\\theta}{g}$$"
     ]
    },
    {
     "cell_type": "markdown",
     "metadata": {},
     "source": [
      "Simplifying:\n",
      "\n",
      "$$x = \\frac{v^2\\sin2\\theta}{g}$$"
     ]
    },
    {
     "cell_type": "heading",
     "level": 3,
     "metadata": {},
     "source": [
      "Trajectory from a starting height"
     ]
    },
    {
     "cell_type": "markdown",
     "metadata": {},
     "source": [
      "If the start point from the trajectory is at a height other than zero, the equations of motion change slightly. $x(t)$ is unaffected, but for $z(t)$ an initial $z$ component is introduced:\n",
      "\n",
      "$$x(t) = vt\\cos\\theta$$\n",
      "$$z(t) = z_0 + vt\\sin\\theta - \\frac{1}{2}gt^2$$"
     ]
    },
    {
     "cell_type": "markdown",
     "metadata": {},
     "source": [
      "Setting $z=0$ we can solve for $t$:"
     ]
    },
    {
     "cell_type": "markdown",
     "metadata": {},
     "source": [
      "$$\n",
      "\\begin{align}\n",
      "0 & = z_0 + vt\\sin\\theta - \\frac{1}{2}gt^2 \\\\\\\\\n",
      "t & = \\frac{- v\\sin\\theta \\pm \\sqrt{v^2\\sin^2\\theta + 2gz_0}}{-g} \\\\\\\\\n",
      "t & = \\frac{v\\sin\\theta}{g} \\pm \\frac{\\sqrt{v^2\\sin^2\\theta + 2gz_0}}{g} \\\\\\\\\n",
      "t & = \\frac{v\\sin\\theta}{g} + \\frac{\\sqrt{v^2\\sin^2\\theta + 2gz_0}}{g} \\\\\\\\\n",
      "\\end{align}\n",
      "$$"
     ]
    },
    {
     "cell_type": "markdown",
     "metadata": {},
     "source": [
      "Solving for $x$:"
     ]
    },
    {
     "cell_type": "markdown",
     "metadata": {},
     "source": [
      "$$\n",
      "\\begin{align}\n",
      "x & = vt\\cos\\theta \\\\\\\\\n",
      "x & = v\\cos\\theta\\left[\\frac{v\\sin\\theta}{g} + \\frac{\\sqrt{v^2\\sin^2\\theta + 2gz_0}}{g}\\right] \\\\\\\\\n",
      "x & = \\frac{v\\cos\\theta}{g}\\left[v\\sin\\theta + \\sqrt{v^2\\sin^2\\theta + 2gz_0}\\right] \\\\\\\\\n",
      "\\end{align}\n",
      "$$"
     ]
    },
    {
     "cell_type": "markdown",
     "metadata": {},
     "source": [
      "Let's try plotting something. First, we need functions that calculate time and position."
     ]
    },
    {
     "cell_type": "code",
     "collapsed": false,
     "input": [
      "def calc_time(v, z, theta):\n",
      "    \"\"\"Calculate time of flight.\"\"\"\n",
      "    t = v * sin(deg2rad(theta)) / 9.81 + (sqrt(v ** 2 * sin(deg2rad(theta)) ** 2 + 2 * 9.81 * z) / 9.81)\n",
      "    return t"
     ],
     "language": "python",
     "metadata": {},
     "outputs": [],
     "prompt_number": 4
    },
    {
     "cell_type": "code",
     "collapsed": false,
     "input": [
      "def calc_distance(v, z, theta):\n",
      "    \"\"\"Calculate distance of flight.\"\"\"\n",
      "    x = v * cos(deg2rad(theta)) / 9.81 * (v * sin(deg2rad(theta)) + sqrt(v ** 2 * sin(deg2rad(theta)) ** 2 + 2 * 9.81 * z))\n",
      "    return x"
     ],
     "language": "python",
     "metadata": {},
     "outputs": [],
     "prompt_number": 5
    },
    {
     "cell_type": "code",
     "collapsed": false,
     "input": [
      "def calculate_x(v, t, theta):\n",
      "    \"\"\"Calculate x at time t.\"\"\"\n",
      "    x = v * t * cos(deg2rad(theta))\n",
      "    return x\n",
      "    "
     ],
     "language": "python",
     "metadata": {},
     "outputs": [],
     "prompt_number": 6
    },
    {
     "cell_type": "code",
     "collapsed": false,
     "input": [
      "def calculate_z(v, t, theta, z0):\n",
      "    \"\"\"Calculate z at time t, given initial height z0.\"\"\"\n",
      "    z = z0 + v * t * sin(deg2rad(theta)) - 0.5 * 9.81 * t ** 2\n",
      "    return z"
     ],
     "language": "python",
     "metadata": {},
     "outputs": [],
     "prompt_number": 7
    },
    {
     "cell_type": "code",
     "collapsed": false,
     "input": [
      "v = 250\n",
      "z0 = 5000\n",
      "theta = -10\n",
      "time_of_flight = calc_time(v, z0, theta)\n",
      "time = arange(0, time_of_flight, 0.1)\n",
      "x = []\n",
      "z = []\n",
      "\n",
      "for t in time:\n",
      "    x.append(calculate_x(v, t, theta))\n",
      "    z.append(calculate_z(v, t, theta, z0))"
     ],
     "language": "python",
     "metadata": {},
     "outputs": [],
     "prompt_number": 8
    },
    {
     "cell_type": "code",
     "collapsed": false,
     "input": [
      "axis(\"equal\")\n",
      "plot(x,z)\n",
      "axis()"
     ],
     "language": "python",
     "metadata": {},
     "outputs": [
      {
       "metadata": {},
       "output_type": "pyout",
       "prompt_number": 9,
       "text": [
        "(0.0, 7000.0, 0.0, 5000.0)"
       ]
      },
      {
       "metadata": {},
       "output_type": "display_data",
       "png": "[encoded data removed]",
       "text": [
        "<matplotlib.figure.Figure at 0x7f77d2b787d0>"
       ]
      }
     ],
     "prompt_number": 9
    },
    {
     "cell_type": "heading",
     "level": 2,
     "metadata": {},
     "source": [
      "Introducing drag"
     ]
    },
    {
     "cell_type": "markdown",
     "metadata": {},
     "source": [
      "The drag of a body is defined by the following equation:\n",
      "\n",
      "$$\n",
      "D = C_d\\rho A v^2\n",
      "$$"
     ]
    },
    {
     "cell_type": "markdown",
     "metadata": {},
     "source": [
      "where $C_d$ is the dimensionless coefficient of drag and $A$ is the cross-sectional area of the body."
     ]
    },
    {
     "cell_type": "heading",
     "level": 3,
     "metadata": {},
     "source": [
      "Terminal velocity"
     ]
    },
    {
     "cell_type": "markdown",
     "metadata": {},
     "source": [
      "When a body is travelling downwards, gravity acts to increase the body's speed whilst drag acts to slow it down: \n",
      "\n",
      "$$\n",
      "F_{\\mathrm{net}} = D - mg\n",
      "$$\n",
      "\n",
      "The drag will increase until its force equals the weight of the body, making the net force zero. The velocity of the body at this point will be its terminal velocity.\n",
      "\n",
      "$$\n",
      "\\begin{align}\n",
      "F_{\\mathrm{net}} &= D - mg = 0 \\\\\\\\\n",
      "mg &= D \\\\\\\\\n",
      "mg &= \\frac{C_d \\rho A V_t^2}{2} \\\\\\\\\n",
      "V_t^2 &= \\frac{2mg}{C_d \\rho A} \\\\\\\\\n",
      "V_t &= \\left[\\frac{2mg}{C_d \\rho A}\\right]^\\frac{1}{2} \\\\\\\\\n",
      "\\end{align}\n",
      "$$"
     ]
    },
    {
     "cell_type": "code",
     "collapsed": false,
     "input": [
      "def calc_terminal_velocity(m, cd, a, rho=1.225):\n",
      "    \"\"\"Calculate the terminal velocity of a body with known drag coefficient\"\"\"\n",
      "    g = 9.81\n",
      "    vt = (2*m*g/(cd*rho*a))**0.5\n",
      "    return vt"
     ],
     "language": "python",
     "metadata": {},
     "outputs": [],
     "prompt_number": 10
    },
    {
     "cell_type": "heading",
     "level": 3,
     "metadata": {},
     "source": [
      "Motion of a falling body"
     ]
    },
    {
     "cell_type": "heading",
     "level": 4,
     "metadata": {},
     "source": [
      "Calculating change in speed"
     ]
    },
    {
     "cell_type": "markdown",
     "metadata": {},
     "source": [
      "Two forces act on a falling body: gravity and drag. Gravity acts to accelerate the body towards the earth and its force is defined as:\n",
      "\n",
      "$$\n",
      "F_g = mg\n",
      "$$\n",
      "\n",
      "Drag acts on the body to slow it down. As described above it is a function of $v^2$, but to simplify things at first we will assume it is proportional but opposite to the velocity:\n",
      "\n",
      "$$\n",
      "F_d = -kv\n",
      "$$"
     ]
    },
    {
     "cell_type": "markdown",
     "metadata": {},
     "source": [
      "The net force acting on the body is the sum of the forces due to gravity and drag. We assume forces acting upwards to be positive and so:\n",
      "\n",
      "$$\n",
      "F_\\mathrm{net} = -F_g + F_d = -mg - kv\n",
      "$$"
     ]
    },
    {
     "cell_type": "markdown",
     "metadata": {},
     "source": [
      "The force acting on the body results in an acceleration $a$. Acceleration is equal to the rate of change of velocity, therefore:\n",
      "\n",
      "$$\n",
      "a = \\frac{\\mathrm{d}v}{\\mathrm{d}t}\n",
      "$$\n",
      "\n",
      "The net force is associated with a net acceleration, therefore we have a differential equation that relates speed and acceleration:\n",
      "\n",
      "$$\n",
      "\\begin{align}\n",
      "ma &= -mg - kv \\\\\n",
      "\\frac{\\mathrm d v}{\\mathrm d t} m &= -mg - kv\n",
      "\\end{align}\n",
      "$$\n",
      "\n",
      "Rearranging in terms of $\\frac{\\mathrm d v}{\\mathrm d t}$:\n",
      "\n",
      "$$\n",
      "\\begin{align}\n",
      "\\frac{\\mathrm d v}{\\mathrm d t} &= -g - \\frac{k}{m}v \\\\\n",
      "\\frac{\\mathrm d v}{\\mathrm d t} &= -\\frac k m \\left[ \\frac m k g + v \\right]\n",
      "\\end{align}\n",
      "$$"
     ]
    },
    {
     "cell_type": "markdown",
     "metadata": {},
     "source": [
      "Let an auxilliary function $p$ be defined such that $p=\\frac k m$ and:\n",
      "\n",
      "$$\n",
      "\\frac{\\mathrm d v}{\\mathrm d t} = -g -pv\n",
      "$$\n"
     ]
    },
    {
     "cell_type": "markdown",
     "metadata": {},
     "source": [
      "This equation can be integrated in a fairly straightforward manner:\n",
      "\n",
      "$$\n",
      "\\begin{align}\n",
      "\\frac{\\mathrm d v}{\\mathrm d t} &= -g - pv \\\\\n",
      "\\int \\frac{1}{g + pv} \\mathrm d v &= -\\int \\mathrm d t \\\\\n",
      "\\end{align}\n",
      "$$\n",
      "\n",
      "Letting $u = g + pv$ so that $\\frac{\\mathrm d u}{p} = \\mathrm d v$:\n",
      "\n",
      "$$\n",
      "\\begin{align}\n",
      "\\int \\frac{1}{u} \\mathrm d v &= -\\int \\mathrm d t \\\\\n",
      "\\int \\frac{1}{u} \\frac 1 p \\mathrm d u &= -\\int \\mathrm d t \\\\\n",
      "\\frac 1 p \\int \\frac{1}{u} \\mathrm d u &= -\\int \\mathrm d t \\\\\n",
      "\\frac 1 p \\ln | u | &= -t + C \\\\\n",
      "\\frac 1 p \\ln | g + pv | &= -t + C \\\\\n",
      "\\ln | g + pv | &= -pt + C \\\\\n",
      "| g + pv | &= e^{-pt + C} \\\\\n",
      "| g + pv | &= e^Ce^{-pt} \\\\\n",
      "g + pv &= Ce^{-pt}\n",
      "\\end{align}\n",
      "$$"
     ]
    },
    {
     "cell_type": "markdown",
     "metadata": {},
     "source": [
      "_TODO: Determine why we can disregard the modulus at this point._"
     ]
    },
    {
     "cell_type": "markdown",
     "metadata": {},
     "source": [
      "Rearranging in terms of $v$:\n",
      "\n",
      "$$\n",
      "\\begin{align}\n",
      "pv &= Ce^{-pt} - g\\\\\n",
      "v &= \\frac C p e^{-pt} - \\frac g p \\\\\n",
      "v &= Ce^{-pt} - \\frac g p\n",
      "\\end{align}\n",
      "$$\n",
      "\n",
      "Assuming the falling body has an initial vertical velocity $v_0$ we can solve for $C$. $v\\left(0\\right)=v_0$, so:\n",
      "\n",
      "$$\n",
      "\\begin{align}\n",
      "v_0 &= Ce^0 - \\frac g p \\\\\n",
      "C &= v_0 + \\frac g p\n",
      "\\end{align}\n",
      "$$\n",
      "\n",
      "Finally, the solution to the differential equation is:\n",
      "\n",
      "$$\n",
      "v = \\left(v_0 + \\frac g p \\right) e^{-pt} - \\frac g p \n",
      "$$\n",
      "\n",
      "And if we replace $p$ with $\\frac k m$ we have:\n",
      "\n",
      "$$\n",
      "v = \\left(v_0 + \\frac{mg}{k} \\right) e^{-\\frac k m t} - \\frac{mg}{k}\n",
      "$$"
     ]
    },
    {
     "cell_type": "markdown",
     "metadata": {},
     "source": [
      "We can now plot velocity (and speed) against time for some nominal falling object. First we will import some _nice_ colours from [colorbrewer2](http://colorbrewer2.org/) using `brewer2mpl`."
     ]
    },
    {
     "cell_type": "code",
     "collapsed": false,
     "input": [
      "import brewer2mpl\n",
      "my_map = brewer2mpl.get_map(\"Paired\", \"Qualitative\", 4)"
     ],
     "language": "python",
     "metadata": {},
     "outputs": [],
     "prompt_number": 11
    },
    {
     "cell_type": "code",
     "collapsed": false,
     "input": [
      "m = 0.6\n",
      "g = 9.81\n",
      "k = 0.5\n",
      "v0 = 0\n",
      "\n",
      "t = arange(0, 10, 0.1)\n",
      "\n",
      "v = [(v0 + m*g/k)*exp(-k/m*i) - m*g/k for i in t]\n",
      "speed = [abs(i) for i in v]"
     ],
     "language": "python",
     "metadata": {},
     "outputs": [],
     "prompt_number": 12
    },
    {
     "cell_type": "code",
     "collapsed": false,
     "input": [
      "fig, (ax1, ax2) = plt.subplots(2,1, sharex=True)\n",
      "\n",
      "colour1 = my_map.hex_colors[0]\n",
      "colour2 = my_map.hex_colors[1]\n",
      "\n",
      "ax1.plot(t, v, lw=2, color=colour1)\n",
      "ax1.set_ylabel(\"Velocity [$ms^{-1}$]\")\n",
      "\n",
      "ax2.plot(t, speed, lw=2, color=colour2)\n",
      "ax2.set_ylabel(\"Speed [$ms^{-1}$]\")\n",
      "ax2.set_xlabel(\"Time [$s$]\")\n",
      "\n",
      "fig.tight_layout()"
     ],
     "language": "python",
     "metadata": {},
     "outputs": [
      {
       "metadata": {},
       "output_type": "display_data",
       "png": "[encoded data removed]",
       "text": [
        "<matplotlib.figure.Figure at 0x7f77d2b258d0>"
       ]
      }
     ],
     "prompt_number": 13
    },
    {
     "cell_type": "markdown",
     "metadata": {},
     "source": [
      "Note that the velocity becomes more negative and is asymptotic towards a value slightly less than $-12\\ ms^{-1}$. This is the terminal velocity of the object, although it cannot be compared to the terminal velocity equation derived earlier as we are using linear drag."
     ]
    },
    {
     "cell_type": "heading",
     "level": 4,
     "metadata": {},
     "source": [
      "Calculating change in height"
     ]
    },
    {
     "cell_type": "markdown",
     "metadata": {},
     "source": [
      "We know that $v = \\frac{\\mathrm d z}{\\mathrm d t}$, so we could write:\n",
      "\n",
      "$$\n",
      "\\frac{\\mathrm d z}{\\mathrm d t} = \\left(v_0 + \\frac{mg}{k} \\right) e^{-\\frac k m t} - \\frac{mg}{k}\n",
      "$$\n",
      "\n",
      "Integration of this equation should yield $z$:\n",
      "\n",
      "$$\n",
      "\\begin{align}\n",
      "\\int \\mathrm d z &= \\int \\left[ \\left(v_0 + \\frac{mg}{k} \\right) e^{-\\frac k m t} - \\frac{mg}{k}\\right]\\mathrm d t \\\\\n",
      "z &= -\\frac m k \\left(v_0 + \\frac{mg}{k} \\right) e^{-\\frac k m t} -\\frac{mg}{k}t + C\n",
      "\\end{align}\n",
      "$$"
     ]
    },
    {
     "cell_type": "markdown",
     "metadata": {},
     "source": [
      "Assuming that $z(0)$ = $z_0$ we solve for $C$:\n",
      "\n",
      "$$\n",
      "\\begin{align}\n",
      "z_0 &= -\\frac m k \\left(v_0 + \\frac{mg}{k} \\right) e^{0} - 0 + C \\\\\n",
      "z_0 &= -\\frac m k \\left(v_0 + \\frac{mg}{k} \\right) + C \\\\\n",
      "C &= z_0 + \\frac{m}{k} \\left(v_0 + \\frac{mg}{k} \\right)\n",
      "\\end{align}\n",
      "$$\n",
      "\n",
      "And our final equation becomes:\n",
      "\n",
      "$$\n",
      "\\begin{align}\n",
      "z &= - \\frac m k \\left(v_0 + \\frac{mg}{k} \\right) e^{-\\frac k m t} - \\frac{mg}{k}t + z_0 + \\frac{m}{k} \\left(v_0 + \\frac{mg}{k} \\right) \\\\\n",
      "z &= z_0 - \\frac{mg}{k}t + \\frac m k \\left(v_0 + \\frac{mg}{k} \\right) \\left(1 - e^{-\\frac k m t} \\right)\n",
      "\\end{align}\n",
      "$$"
     ]
    },
    {
     "cell_type": "markdown",
     "metadata": {},
     "source": [
      "We can plot the change in height over time as follows."
     ]
    },
    {
     "cell_type": "code",
     "collapsed": false,
     "input": [
      "m = 0.6\n",
      "g = 9.81\n",
      "k = 0.5\n",
      "v0 = 0\n",
      "z0 = 100\n",
      "\n",
      "t = arange(0, 10, 0.1)\n",
      "\n",
      "z = [z0 - m*g*i/k + m/k*(v0 + m*g/k)*(1 - exp(-k/m*i)) for i in t]"
     ],
     "language": "python",
     "metadata": {},
     "outputs": [],
     "prompt_number": 14
    },
    {
     "cell_type": "code",
     "collapsed": false,
     "input": [
      "colour3 = my_map.hex_colors[2]\n",
      "fig, ax = plt.subplots(1)\n",
      "ax.plot(t, z, lw=2, color=colour3)\n",
      "ax.set_ylabel(\"Height [$m$]\")\n",
      "ax.set_xlabel(\"Time [$s$]\")"
     ],
     "language": "python",
     "metadata": {},
     "outputs": [
      {
       "metadata": {},
       "output_type": "pyout",
       "prompt_number": 15,
       "text": [
        "<matplotlib.text.Text at 0x7f77d2ac5450>"
       ]
      },
      {
       "metadata": {},
       "output_type": "display_data",
       "png": "[encoded data removed]",
       "text": [
        "<matplotlib.figure.Figure at 0x7f77d2b3ff50>"
       ]
      }
     ],
     "prompt_number": 15
    },
    {
     "cell_type": "markdown",
     "metadata": {},
     "source": [
      "It can be seen that the exponential function only has influence at the very beginning of the trajectory. This suggests that the object reaches terminal velocity quite quickly in this case."
     ]
    },
    {
     "cell_type": "heading",
     "level": 4,
     "metadata": {},
     "source": [
      "Calculating time of flight"
     ]
    },
    {
     "cell_type": "markdown",
     "metadata": {},
     "source": [
      "Let us calculate the time of flight by setting $z=0$ and try to solve for $t$:\n",
      "\n",
      "$$\n",
      "\\begin{align}\n",
      "0 &= z_0 - \\frac{mg}{k}t + \\frac m k \\left(v_0 + \\frac{mg}{k} \\right) \\left(1 - e^{-\\frac k m t} \\right) \\\\\n",
      "\\end{align}\n",
      "$$"
     ]
    },
    {
     "cell_type": "markdown",
     "metadata": {},
     "source": [
      "It doesn't look very friendly does it? Perhaps SymPy could help us:"
     ]
    },
    {
     "cell_type": "code",
     "collapsed": false,
     "input": [
      "import sympy\n",
      "from sympy.solvers import solve\n",
      "from sympy import symbols, exp\n",
      "sympy.init_printing()\n",
      "\n",
      "z0, m, g, k, t, v0 = symbols(\"z_0, m, g, k, t, v_0\")\n",
      "f = z0 - m*g*t/k + m/k*(v0 + m*g/k)*(1 - exp(-k*t/m))\n",
      "solution = solve(f,t)"
     ],
     "language": "python",
     "metadata": {},
     "outputs": [],
     "prompt_number": 16
    },
    {
     "cell_type": "markdown",
     "metadata": {},
     "source": [
      "SymPy offers an algebraic solver, so what does our apparent solution look like?"
     ]
    },
    {
     "cell_type": "code",
     "collapsed": false,
     "input": [
      "solution"
     ],
     "language": "python",
     "metadata": {},
     "outputs": [
      {
       "latex": [
        "$$\\begin{bmatrix}\\frac{1}{g k m} \\left(g m^{2} \\left(\\operatorname{LambertW}{\\left (\\frac{1}{g m} \\left(- g m - k v_{0}\\right) e^{\\frac{1}{g m^{2}} \\left(- g m^{2} - k^{2} z_{0} - k m v_{0}\\right)} \\right )} + 1\\right) + k^{2} z_{0} + k m v_{0}\\right)\\end{bmatrix}$$"
       ],
       "metadata": {},
       "output_type": "pyout",
       "prompt_number": 17,
       "text": [
        "\u23a1     \u239b        \u239b                    2    2            \u239e    \u239e                 \u23a4\n",
        "\u23a2     \u239c        \u239c               - g\u22c5m  - k \u22c5z\u2080 - k\u22c5m\u22c5v\u2080\u239f    \u239f                 \u23a5\n",
        "\u23a2     \u239c        \u239c               \u2500\u2500\u2500\u2500\u2500\u2500\u2500\u2500\u2500\u2500\u2500\u2500\u2500\u2500\u2500\u2500\u2500\u2500\u2500\u2500\u2500\u2500\u2500\u239f    \u239f                 \u23a5\n",
        "\u23a2     \u239c        \u239c                            2         \u239f    \u239f                 \u23a5\n",
        "\u23a2     \u239c        \u239c                         g\u22c5m          \u239f    \u239f                 \u23a5\n",
        "\u23a2   2 \u239c        \u239c(-g\u22c5m - k\u22c5v\u2080)\u22c5\u212f                       \u239f    \u239f    2            \u23a5\n",
        "\u23a2g\u22c5m \u22c5\u239c        \u239c\u2500\u2500\u2500\u2500\u2500\u2500\u2500\u2500\u2500\u2500\u2500\u2500\u2500\u2500\u2500\u2500\u2500\u2500\u2500\u2500\u2500\u2500\u2500\u2500\u2500\u2500\u2500\u2500\u2500\u2500\u2500\u2500\u2500\u2500\u2500\u2500\u2500\u2500\u239f + 1\u239f + k \u22c5z\u2080 + k\u22c5m\u22c5v\u2080\u23a5\n",
        "\u23a2     \u239c        \u239d                 g\u22c5m                  \u23a0    \u239f                 \u23a5\n",
        "\u23a2     \u239c                                                    \u239f                 \u23a5\n",
        "\u23a2     \u239dLambertW                                            \u23a0                 \u23a5\n",
        "\u23a2\u2500\u2500\u2500\u2500\u2500\u2500\u2500\u2500\u2500\u2500\u2500\u2500\u2500\u2500\u2500\u2500\u2500\u2500\u2500\u2500\u2500\u2500\u2500\u2500\u2500\u2500\u2500\u2500\u2500\u2500\u2500\u2500\u2500\u2500\u2500\u2500\u2500\u2500\u2500\u2500\u2500\u2500\u2500\u2500\u2500\u2500\u2500\u2500\u2500\u2500\u2500\u2500\u2500\u2500\u2500\u2500\u2500\u2500\u2500\u2500\u2500\u2500\u2500\u2500\u2500\u2500\u2500\u2500\u2500\u2500\u2500\u2500\u2500\u2500\u2500\u2500\u23a5\n",
        "\u23a3                                   g\u22c5k\u22c5m                                    \u23a6"
       ]
      }
     ],
     "prompt_number": 17
    },
    {
     "cell_type": "markdown",
     "metadata": {},
     "source": [
      "I don't think I could have worked that out manually... What happens if we substitute our nominal values into the solution for $t$? We should be given time of flight in seconds:"
     ]
    },
    {
     "cell_type": "code",
     "collapsed": false,
     "input": [
      "solution[0].subs([(g,9.81),(k,0.5),(m,0.6),(v0,0),(z0,100)])"
     ],
     "language": "python",
     "metadata": {},
     "outputs": [
      {
       "latex": [
        "$$9.69436115228259$$"
       ],
       "metadata": {},
       "output_type": "pyout",
       "prompt_number": 18,
       "text": [
        "9.69436115228259"
       ]
      }
     ],
     "prompt_number": 18
    },
    {
     "cell_type": "markdown",
     "metadata": {},
     "source": [
      "Recall earlier the `calc_time` function for time of flight with no drag. If we enter the same parameters (in fact $z$ is the only required parameter), we get the following answer:"
     ]
    },
    {
     "cell_type": "code",
     "collapsed": false,
     "input": [
      "calc_time(0, 100, 0)"
     ],
     "language": "python",
     "metadata": {},
     "outputs": [
      {
       "latex": [
        "$$4.51523640986$$"
       ],
       "metadata": {},
       "output_type": "pyout",
       "prompt_number": 19,
       "text": [
        "4.51523640986"
       ]
      }
     ],
     "prompt_number": 19
    },
    {
     "cell_type": "markdown",
     "metadata": {},
     "source": [
      "This suggests that drag is causing the object to take twice as long to reach the ground. Perhaps that is reasonable, but it is hard to tell at this stage. What we can do, however, is substitute the value for $t$ back into our original expression:"
     ]
    },
    {
     "cell_type": "code",
     "collapsed": false,
     "input": [
      "f.subs([(g, 9.81), (k, 0.5), (m, 0.6), (v0, 0), (t, 9.69436115228259)])"
     ],
     "language": "python",
     "metadata": {},
     "outputs": [
      {
       "latex": [
        "$$z_{0} - 100.0$$"
       ],
       "metadata": {},
       "output_type": "pyout",
       "prompt_number": 20,
       "text": [
        "z\u2080 - 100.0"
       ]
      }
     ],
     "prompt_number": 20
    },
    {
     "cell_type": "markdown",
     "metadata": {},
     "source": [
      "So $z_0 = 100$, which is what we expect. I think we'll take our solution for $t$ as valid for now.\n",
      "\n",
      "Let's try to write a couple of functions to help with future work. First, the velocity equation:"
     ]
    },
    {
     "cell_type": "code",
     "collapsed": false,
     "input": [
      "def vz_drag(t, m, k, z0, vz0=0):\n",
      "    \"\"\"Calculate vertical velocity at time t.\n",
      "    \n",
      "    Parameters\n",
      "    ----------\n",
      "    t : float\n",
      "        Time in seconds\n",
      "    m : float\n",
      "        Mass in kilograms\n",
      "    k : float\n",
      "        Drag coefficient in Ns/m\n",
      "    z0 : float\n",
      "        Height above ground at t = 0\n",
      "    vz0 : float, optional\n",
      "        Initial vertical velocity\n",
      "    \n",
      "    Returns\n",
      "    -------\n",
      "    vz : float\n",
      "        Vertical velocity at time t\n",
      "    \n",
      "    \"\"\"\n",
      "    g = 9.81\n",
      "    vz = (vz0 + m*g/k) * exp(-k/m*t) - m*g/k\n",
      "    return vz\n",
      "    "
     ],
     "language": "python",
     "metadata": {},
     "outputs": [],
     "prompt_number": 8
    },
    {
     "cell_type": "markdown",
     "metadata": {},
     "source": [
      "Next, we will define a function to calculate the time of flight of an object. Let's get the equation printed as source code to minimise errors:"
     ]
    },
    {
     "cell_type": "code",
     "collapsed": false,
     "input": [
      "print(solution[0])"
     ],
     "language": "python",
     "metadata": {},
     "outputs": [
      {
       "output_type": "stream",
       "stream": "stdout",
       "text": [
        "(g*m**2*(LambertW((-g*m - k*v_0)*exp((-g*m**2 - k**2*z_0 - k*m*v_0)/(g*m**2))/(g*m)) + 1) + k**2*z_0 + k*m*v_0)/(g*k*m)\n"
       ]
      }
     ],
     "prompt_number": 22
    },
    {
     "cell_type": "markdown",
     "metadata": {},
     "source": [
      "And now define the function:"
     ]
    },
    {
     "cell_type": "code",
     "collapsed": false,
     "input": [
      "def calc_time_drag(m, k, z0, vz0=0):\n",
      "    \"\"\"Calculate time of flight from initial conditions.\n",
      "    \n",
      "    Parameters\n",
      "    ----------\n",
      "    m : float\n",
      "        Mass in kilograms\n",
      "    k : float\n",
      "        Drag coefficient in Ns/m\n",
      "    z0 : float\n",
      "        Height above ground at t = 0\n",
      "    vz0 : float, optional\n",
      "        Initial vertical velocity\n",
      "    \n",
      "    Returns\n",
      "    -------\n",
      "    t : float\n",
      "        Time of flight in seconds\n",
      "        \n",
      "    \"\"\"\n",
      "    from sympy import LambertW\n",
      "    g = 9.81\n",
      "    t = (g*m**2*(LambertW((-g*m - k*vz0)*exp((-g*m**2 - k**2*z0 - k*m*vz0)/\n",
      "        (g*m**2))/(g*m)) + 1) + k**2*z0 + k*m*vz0)/(g*k*m)\n",
      "    return float(t)"
     ],
     "language": "python",
     "metadata": {},
     "outputs": [],
     "prompt_number": 1
    },
    {
     "cell_type": "markdown",
     "metadata": {},
     "source": [
      "Checking it works as above:"
     ]
    },
    {
     "cell_type": "code",
     "collapsed": false,
     "input": [
      "calc_time_drag(0.6, 0.5, 100)"
     ],
     "language": "python",
     "metadata": {},
     "outputs": [
      {
       "latex": [
        "$$9.694361152282587$$"
       ],
       "metadata": {},
       "output_type": "pyout",
       "prompt_number": 62,
       "text": [
        "9.694361152282587"
       ]
      }
     ],
     "prompt_number": 62
    },
    {
     "cell_type": "markdown",
     "metadata": {},
     "source": [
      "Now we'll define a function for $z(t)$:"
     ]
    },
    {
     "cell_type": "code",
     "collapsed": false,
     "input": [
      "def z_drag(t, m, k, z0, vz0=0):\n",
      "    \"\"\"Calculate height z at time t.\n",
      "    \n",
      "    Parameters\n",
      "    ----------\n",
      "    t : float\n",
      "        Time in seconds\n",
      "    m : float\n",
      "        Mass in kilograms\n",
      "    k : float\n",
      "        Drag coefficient in Ns/m\n",
      "    z0 : float\n",
      "        Height above ground at t = 0\n",
      "    vz0 : float, optional\n",
      "        Initial vertical velocity\n",
      "        \n",
      "    Returns\n",
      "    -------\n",
      "    z : float\n",
      "        Height above ground in metres\n",
      "    \n",
      "    \"\"\"\n",
      "    g = 9.81\n",
      "    z = z0 - m*g*t/k + m/k*(vz0 + m*g/k)*(1 - exp(-k/m*t))\n",
      "    return z"
     ],
     "language": "python",
     "metadata": {},
     "outputs": [],
     "prompt_number": 81
    },
    {
     "cell_type": "heading",
     "level": 4,
     "metadata": {},
     "source": [
      "Putting it all together"
     ]
    },
    {
     "cell_type": "markdown",
     "metadata": {},
     "source": [
      "We have a functions for the change in velocity and height with respect to time, and a means to calculate the time of flight. Can we now calculate the forward throw of an object with an initial horizontal velocity?"
     ]
    },
    {
     "cell_type": "markdown",
     "metadata": {},
     "source": [
      "Recall the original equation we had:\n",
      "\n",
      "$$\n",
      "x(t) = vt\\cos\\theta\n",
      "$$\n",
      "\n",
      "We know that $v$ changes as a function of time, due to drag. But we can't use our recently derived equation $\\left(v = \\left(v_0 + \\frac{mg}{k} \\right) e^{-\\frac k m t} - \\frac{mg}{k}\\right)$, since in the $x$ axis gravity has no effect. We must derive a new equation:\n",
      "\n",
      "$$\n",
      "\\begin{align}\n",
      "ma &= -F_d \\\\\n",
      "ma &= -kv \\\\\n",
      "\\frac{\\mathrm{d}v}{\\mathrm{d}t} &= -\\frac k m v \\\\\n",
      "\\int \\frac 1 v \\mathrm{d}v &= -\\frac k m \\int \\mathrm{d}t \\\\\n",
      "\\ln |v | &= -\\frac k m t + C \\\\\n",
      "|v| &= Ce^{-\\frac k m t}\n",
      "\\end{align}\n",
      "$$\n",
      "\n",
      "Setting our initial conditions $v(0) = v_0$:\n",
      "\n",
      "$$\n",
      "\\begin{align}\n",
      "v_0 &= Ce^0 \\\\\n",
      "C &= v_0\n",
      "\\end{align}\n",
      "$$\n",
      "\n",
      "Therefore our final equation for velocity in the $x$ axis, which we will denote as $v_x$ becomes:\n",
      "\n",
      "$$\n",
      "v_x = v_{x_0}e^{-\\frac k m t}\n",
      "$$"
     ]
    },
    {
     "cell_type": "markdown",
     "metadata": {},
     "source": [
      "Let's visualise this to see if it is sensible:"
     ]
    },
    {
     "cell_type": "code",
     "collapsed": false,
     "input": [
      "m = 0.6\n",
      "g = 9.81\n",
      "k = 0.5\n",
      "vx0 = 100\n",
      "\n",
      "t = arange(0, 10, 0.1)\n",
      "\n",
      "vx = [vx0 * exp(-k / m * i) for i in t]\n",
      "speed = [abs(i) for i in vx]"
     ],
     "language": "python",
     "metadata": {},
     "outputs": [],
     "prompt_number": 26
    },
    {
     "cell_type": "code",
     "collapsed": false,
     "input": [
      "fig, (ax1, ax2) = plt.subplots(2,1, sharex=True)\n",
      "\n",
      "colour1 = my_map.hex_colors[0]\n",
      "colour2 = my_map.hex_colors[1]\n",
      "\n",
      "ax1.plot(t, vx, lw=2, color=colour1)\n",
      "ax1.set_ylabel(\"Velocity [$ms^{-1}$]\")\n",
      "\n",
      "ax2.plot(t, speed, lw=2, color=colour2)\n",
      "ax2.set_ylabel(\"Speed [$ms^{-1}$]\")\n",
      "ax2.set_xlabel(\"Time [$s$]\")\n",
      "\n",
      "fig.tight_layout()"
     ],
     "language": "python",
     "metadata": {},
     "outputs": [
      {
       "metadata": {},
       "output_type": "display_data",
       "png": "[encoded data removed]",
       "text": [
        "<matplotlib.figure.Figure at 0x7f77d17482d0>"
       ]
      }
     ],
     "prompt_number": 27
    },
    {
     "cell_type": "markdown",
     "metadata": {},
     "source": [
      "Our initial velocity is positive in the positive $x$ direction, so both speed and velocity tend toward zero. In other words, drag acts to slow the object down in the horizontal direction, which is what we expect.\n",
      "\n",
      "We can write a function to calculate this:"
     ]
    },
    {
     "cell_type": "code",
     "collapsed": false,
     "input": [
      "def vx_drag(t, m, k, z0, vx0=0):\n",
      "    \"\"\"Calculate horizontal velocity at time t.\n",
      "    \n",
      "    Parameters\n",
      "    ----------\n",
      "    t : float\n",
      "        Time in seconds\n",
      "    m : float\n",
      "        Mass in kilograms\n",
      "    k : float\n",
      "        Drag coefficient in Ns/m\n",
      "    z0 : float\n",
      "        Height above ground at t = 0\n",
      "    vx0 : float, optional\n",
      "        Initial horizontal velocity in m/s\n",
      "    \n",
      "    Returns\n",
      "    -------\n",
      "    v : float\n",
      "        Horizontal velocity at time t\n",
      "    \n",
      "    \"\"\"\n",
      "    g = 9.81\n",
      "    vx = vx0 * exp(-k / m * t)\n",
      "    return vx\n",
      "    "
     ],
     "language": "python",
     "metadata": {},
     "outputs": [],
     "prompt_number": 7
    },
    {
     "cell_type": "markdown",
     "metadata": {},
     "source": [
      "To find position $x$ at time $t$, we need to integrate our equation for $v_x$:\n",
      "\n",
      "$$\n",
      "\\begin{align}\n",
      "v_x &= v_{x_0}e^{-\\frac k m t} \\\\\n",
      "\\frac{\\mathrm{d}x}{\\mathrm{d}t} &= v_{x_0}e^{-\\frac k m t} \\\\\n",
      "\\int \\mathrm{d}x &= v_{x_0} \\int e^{-\\frac k m t} \\mathrm{d}t \\\\\n",
      "x &= v_{x_0}\\left(-\\frac m k e^{-\\frac k m t} + C \\right) \\\\\n",
      "x &= -\\frac{m}{k}v_{x_0} e^{-\\frac k m t} + C \\\\\n",
      "\\end{align}\n",
      "$$"
     ]
    },
    {
     "cell_type": "markdown",
     "metadata": {},
     "source": [
      "Setting initial conditions of $x(0) = x_0$:\n",
      "\n",
      "$$\n",
      "\\begin{align}\n",
      "x_0 &= -\\frac{m}{k} v_{x_0}e^0 + C \\\\\n",
      "x_0 &= -\\frac{m}{k} v_{x_0} + C \\\\\n",
      "C &= x_0 + \\frac{m}{k} v_{x_0}\n",
      "\\end{align}\n",
      "$$\n",
      "\n",
      "Therefore,\n",
      "\n",
      "$$\n",
      "x = x_0 + \\frac{m}{k} v_{x_0} - \\frac m k v_{x_0}e^{-\\frac k m t}\n",
      "$$\n",
      "\n",
      "And we'll put this into a function as well:"
     ]
    },
    {
     "cell_type": "code",
     "collapsed": false,
     "input": [
      "def x_drag(t, m, k, x0=0, vx0=0):\n",
      "    \"\"\"Calculate forward throw x at time t.\n",
      "    \n",
      "    Parameters\n",
      "    ----------\n",
      "    t : float\n",
      "        Time in seconds\n",
      "    m : float\n",
      "        Mass in kilograms\n",
      "    k : float\n",
      "        Drag coefficient in Ns/m\n",
      "    x0 : float, optional\n",
      "        Initial x position at t = 0\n",
      "    vx0 : float, optional\n",
      "        Initial horizontal velocity\n",
      "        \n",
      "    Returns\n",
      "    -------\n",
      "    x : float\n",
      "        Forward throw in metres\n",
      "    \n",
      "    \"\"\"\n",
      "    g = 9.81\n",
      "    x = x0 + m*vx0/k - m/k*vx0*exp(-k/m*t)\n",
      "    return x"
     ],
     "language": "python",
     "metadata": {},
     "outputs": [],
     "prompt_number": 75
    },
    {
     "cell_type": "markdown",
     "metadata": {},
     "source": [
      "Let's assume our object has an initial velocity $v_0$ that has a direction at an angle $\\theta$ to the horizontal. If we decompose this vector we have two components:\n",
      "\n",
      "$$\n",
      "v_{x_0} = v \\cos \\theta \\\\\n",
      "v_{z_0} = v \\sin \\theta\n",
      "$$\n",
      "\n",
      "So we should have all we need to be able to define a function that calculates the trajectory of an object."
     ]
    },
    {
     "cell_type": "code",
     "collapsed": false,
     "input": [
      "import brewer2mpl\n",
      "import numpy as np\n",
      "from matplotlib import pyplot as plt\n",
      "\n",
      "my_map = brewer2mpl.get_map(\"Paired\", \"Qualitative\", 4)\n",
      "\n",
      "def calc_traj(v0, theta, m, k, z0, x0=0):\n",
      "    \"\"\"Plot the trajectory of an object\n",
      "    \n",
      "    Parameters\n",
      "    ----------\n",
      "    v0: float\n",
      "        Initial speed in m/s\n",
      "    theta: float\n",
      "        Angle from horizontal in degrees of initial speed\n",
      "    m: float\n",
      "        Mass of object in kilograms\n",
      "    k: float\n",
      "        Drag coefficient in Ns/m\n",
      "    z0: float\n",
      "        Initial height above ground in m\n",
      "    \n",
      "    \"\"\"\n",
      "    g = 9.81\n",
      "    vx0 = v0 * np.cos(np.deg2rad(theta))\n",
      "    vz0 = v0 * np.sin(np.deg2rad(theta))\n",
      "    \n",
      "    # Calculate time of flight and generate timesteps.\n",
      "    time_of_flight = calc_time_drag(m, k, z0, vz0)\n",
      "    time = np.linspace(0, time_of_flight, 1000)\n",
      "    \n",
      "    x = [x_drag(i, m, k, x0, vx0) for i in time]\n",
      "    z = [z_drag(i, m, k, z0, vz0) for i in time]\n",
      "    vx = [abs(vx_drag(i, m, k, z0, vx0)) for i in time]\n",
      "    vz = [abs(vz_drag(i, m, k, z0, vz0)) for i in time]\n",
      "    \n",
      "    # Assign colours from ColorBrewer.\n",
      "    colour1 = my_map.hex_colors[0]\n",
      "    colour2 = my_map.hex_colors[1]\n",
      "    colour3 = my_map.hex_colors[2]\n",
      "    colour4 = my_map.hex_colors[3]\n",
      "    \n",
      "    fig, (ax1, ax2) = plt.subplots(1, 2, sharey=False)    \n",
      "    ax1.plot(x, z, lw=2, color=colour1)\n",
      "    ax1.set_ylabel(\"Height [$m$]\")\n",
      "    ax1.set_xlabel(\"Forward throw [$m$]\")\n",
      "    ax1.set_ylim(bottom=0)\n",
      "    \n",
      "    ax2.plot(time, vx, lw=2, label=\"$v_x$\", color=colour3)\n",
      "    ax2.plot(time, vz, lw=2, label=\"$v_z$\", color=colour4)\n",
      "    ax2.set_ylabel(\"Speed [$ms^{-1}$]\")\n",
      "    ax2.set_xlabel(\"Time [$s$]\")\n",
      "    ax2.legend()\n",
      "    \n",
      "    fig.tight_layout()"
     ],
     "language": "python",
     "metadata": {},
     "outputs": [],
     "prompt_number": 69
    },
    {
     "cell_type": "markdown",
     "metadata": {},
     "source": [
      "Let's test the function with an initial velocity of 100 m/s at an angle of 5&deg; up from horizontal:"
     ]
    },
    {
     "cell_type": "code",
     "collapsed": false,
     "input": [
      "calc_traj(100, 5, 0.5, 0.5, 100)"
     ],
     "language": "python",
     "metadata": {},
     "outputs": [
      {
       "metadata": {},
       "output_type": "display_data",
       "png": "[encoded data removed]",
       "text": [
        "<matplotlib.figure.Figure at 0x7f77d29e3150>"
       ]
      }
     ],
     "prompt_number": 70
    },
    {
     "cell_type": "markdown",
     "metadata": {},
     "source": [
      "It all looks about right:\n",
      "\n",
      "* The trajectory continues upwards before rapidly dropping\n",
      "* The final trajectory is nearly vertical\n",
      "* The speed in the $x$ axis decays exponentially\n",
      "* The vertical speed initially reduces but then increases exponentially until it approaches terminal velocity"
     ]
    },
    {
     "cell_type": "heading",
     "level": 2,
     "metadata": {},
     "source": [
      "Improvements"
     ]
    },
    {
     "cell_type": "heading",
     "level": 3,
     "metadata": {},
     "source": [
      "Using NumPy arrays"
     ]
    },
    {
     "cell_type": "markdown",
     "metadata": {},
     "source": [
      "The code so far has used loops in the form of list comprehensions, such as:"
     ]
    },
    {
     "cell_type": "code",
     "collapsed": false,
     "input": [
      "x = [x_drag(i, m, k, x0, vx0) for i in time]"
     ],
     "language": "python",
     "metadata": {},
     "outputs": []
    },
    {
     "cell_type": "markdown",
     "metadata": {},
     "source": [
      "This is quick an easy to write, but it is also relatively slow to run. NumPy arrays can be operated on element-by-element directly. We already use arrays, such as when we generate a time array:"
     ]
    },
    {
     "cell_type": "code",
     "collapsed": false,
     "input": [
      "time = np.linspace(0, time_of_flight, 1000)"
     ],
     "language": "python",
     "metadata": {},
     "outputs": []
    },
    {
     "cell_type": "markdown",
     "metadata": {},
     "source": [
      "Until now, however, we have been iterating over one time value at a time and substituting that into our equations of motion. With NumPy, we can operate directly on the array.\n",
      "\n",
      "We need to rewrite the two functions of position to use arrays. We change the time argument in the function from a specific time to the total time, and the array generated (with a default resolution of 1000 points) is passed directly to our functions for position:"
     ]
    },
    {
     "cell_type": "code",
     "collapsed": false,
     "input": [
      "def x_drag_array(t, m, k, x0=0, vx0=0, res=1000):\n",
      "    \"\"\"Calculate horizontal trajectory over t seconds.\n",
      "    \n",
      "    Parameters\n",
      "    ----------\n",
      "    t : float\n",
      "        Total time in seconds\n",
      "    m : float\n",
      "        Mass in kilograms\n",
      "    k : float\n",
      "        Drag coefficient in Ns/m\n",
      "    x0 : float, optional\n",
      "        Initial x position at t = 0\n",
      "    vx0 : float, optional\n",
      "        Initial horizontal velocity\n",
      "    res : integer, optional\n",
      "        Resolution of result\n",
      "        \n",
      "    Returns\n",
      "    -------\n",
      "    x : ndarray\n",
      "        Horizontal position array in metres\n",
      "    \n",
      "    \"\"\"\n",
      "    g = 9.81\n",
      "    t = linspace(0, t, res)\n",
      "    x = x0 + m*vx0/k - m/k*vx0*np.exp(-k/m*t)\n",
      "    return x"
     ],
     "language": "python",
     "metadata": {},
     "outputs": [],
     "prompt_number": 2
    },
    {
     "cell_type": "code",
     "collapsed": false,
     "input": [
      "def z_drag_array(t, m, k, z0, vz0=0, res=1000):\n",
      "    \"\"\"Calculate vertical trajectory over t seconds.\n",
      "    \n",
      "    Parameters\n",
      "    ----------\n",
      "    t : float\n",
      "        Total time in seconds\n",
      "    m : float\n",
      "        Mass in kilograms\n",
      "    k : float\n",
      "        Drag coefficient in Ns/m\n",
      "    z0 : float\n",
      "        Height above ground at t = 0\n",
      "    vz0 : float, optional\n",
      "        Initial vertical velocity\n",
      "    res : integer, optional\n",
      "        Resolution of result\n",
      "        \n",
      "    Returns\n",
      "    -------\n",
      "    z : ndarray\n",
      "        Vertical position array in metres\n",
      "    \n",
      "    \"\"\"\n",
      "    g = 9.81\n",
      "    t = linspace(0, t, res)\n",
      "    z = z0 - m*g*t/k + m/k*(vz0 + m*g/k)*(1 - np.exp(-k/m*t))\n",
      "    return z"
     ],
     "language": "python",
     "metadata": {},
     "outputs": [],
     "prompt_number": 3
    },
    {
     "cell_type": "markdown",
     "metadata": {},
     "source": [
      "Some modification to our `calc_traj` function is also required. We no longer need to use list comprehension as we will get an array back for both $x$ and $z$ trajectories, which we can then pass to the plot function."
     ]
    },
    {
     "cell_type": "code",
     "collapsed": false,
     "input": [
      "import brewer2mpl\n",
      "import numpy as np\n",
      "from matplotlib import pyplot as plt\n",
      "\n",
      "my_map = brewer2mpl.get_map(\"Paired\", \"Qualitative\", 4)\n",
      "\n",
      "def calc_traj_array(v0, theta, m, k, z0, x0=0):\n",
      "    \"\"\"Plot the trajectory of an object\n",
      "    \n",
      "    Parameters\n",
      "    ----------\n",
      "    v0: float\n",
      "        Initial speed in m/s\n",
      "    theta: float\n",
      "        Angle from horizontal in degrees of initial speed\n",
      "    m: float\n",
      "        Mass of object in kilograms\n",
      "    k: float\n",
      "        Drag coefficient in Ns/m\n",
      "    z0: float\n",
      "        Initial height above ground in m\n",
      "    \n",
      "    \"\"\"\n",
      "    g = 9.81\n",
      "    vx0 = v0 * np.cos(np.deg2rad(theta))\n",
      "    vz0 = v0 * np.sin(np.deg2rad(theta))\n",
      "    \n",
      "    # Calculate time of flight and generate timesteps.\n",
      "    time_of_flight = calc_time_drag(m, k, z0, vz0)\n",
      "    time = np.linspace(0, time_of_flight, 1000)\n",
      "    \n",
      "    # time_of_flight is passed directly to functions, rather than using\n",
      "    # list comprehension.\n",
      "    x = x_drag_array(time_of_flight, m, k, x0, vx0)\n",
      "    z = z_drag_array(time_of_flight, m, k, z0, vz0)\n",
      "    vx = abs(vx_drag_array(time_of_flight, m, k, z0, vx0))\n",
      "    vz = abs(vz_drag_array(time_of_flight, m, k, z0, vz0))\n",
      "    \n",
      "    # These functions still use list comprehension with the time array.\n",
      "#     vx = [abs(vx_drag(i, m, k, z0, vx0)) for i in time]\n",
      "#     vz = [abs(vz_drag(i, m, k, z0, vz0)) for i in time]\n",
      "    \n",
      "    # Assign colours from ColorBrewer.\n",
      "    colour1 = my_map.hex_colors[0]\n",
      "    colour2 = my_map.hex_colors[1]\n",
      "    colour3 = my_map.hex_colors[2]\n",
      "    colour4 = my_map.hex_colors[3]\n",
      "    \n",
      "    fig, (ax1, ax2) = plt.subplots(1, 2, sharey=False)    \n",
      "    ax1.plot(x, z, lw=2, color=colour1)\n",
      "    ax1.set_ylabel(\"Height [$m$]\")\n",
      "    ax1.set_xlabel(\"Forward throw [$m$]\")\n",
      "    ax1.set_ylim(bottom=0)\n",
      "    \n",
      "    ax2.plot(time, vx, lw=2, label=\"$v_x$\", color=colour3)\n",
      "    ax2.plot(time, vz, lw=2, label=\"$v_z$\", color=colour4)\n",
      "    ax2.set_ylabel(\"Speed [$ms^{-1}$]\")\n",
      "    ax2.set_xlabel(\"Time [$s$]\")\n",
      "    ax2.legend()\n",
      "    \n",
      "    fig.tight_layout()"
     ],
     "language": "python",
     "metadata": {},
     "outputs": [],
     "prompt_number": 13
    },
    {
     "cell_type": "code",
     "collapsed": false,
     "input": [
      "calc_traj_array(100, 5, 0.5, 0.5, 100)"
     ],
     "language": "python",
     "metadata": {},
     "outputs": [],
     "prompt_number": 14
    },
    {
     "cell_type": "markdown",
     "metadata": {},
     "source": [
      "So it still works. Now let's time the two approaches to see if there is a noticeable difference."
     ]
    },
    {
     "cell_type": "code",
     "collapsed": false,
     "input": [
      "time = np.linspace(0, 10, 1000)\n",
      "m = 1\n",
      "k = 0.5\n",
      "x0 = 0\n",
      "vx0 = 100"
     ],
     "language": "python",
     "metadata": {},
     "outputs": [],
     "prompt_number": 111
    },
    {
     "cell_type": "code",
     "collapsed": false,
     "input": [
      "%timeit x = [x_drag(i, m, k, x0, vx0) for i in time]"
     ],
     "language": "python",
     "metadata": {},
     "outputs": [
      {
       "output_type": "stream",
       "stream": "stdout",
       "text": [
        "10 loops, best of 3: 53.4 ms per loop\n"
       ]
      }
     ],
     "prompt_number": 121
    },
    {
     "cell_type": "code",
     "collapsed": false,
     "input": [
      "%timeit x = x_drag_array(10, m, k, x0, vx0)"
     ],
     "language": "python",
     "metadata": {},
     "outputs": [
      {
       "output_type": "stream",
       "stream": "stdout",
       "text": [
        "10000 loops, best of 3: 47.3 \u00b5s per loop\n"
       ]
      }
     ],
     "prompt_number": 122
    },
    {
     "cell_type": "markdown",
     "metadata": {},
     "source": [
      "From these two results, it is quite clear that using arrays in our functions is much faster than looping. Something to be remembered!\n",
      "\n",
      "Improving the two functions for $v_x$ and $v_z$ in the same way gives us the following."
     ]
    },
    {
     "cell_type": "code",
     "collapsed": false,
     "input": [
      "def vx_drag_array(t, m, k, z0, vx0=0, res=1000):\n",
      "    \"\"\"Calculate horizontal velocity at time t.\n",
      "    \n",
      "    Parameters\n",
      "    ----------\n",
      "    t : float\n",
      "        Total time in seconds\n",
      "    m : float\n",
      "        Mass in kilograms\n",
      "    k : float\n",
      "        Drag coefficient in Ns/m\n",
      "    z0 : float\n",
      "        Height above ground at t = 0\n",
      "    vx0 : float, optional\n",
      "        Initial horizontal velocity in m/s\n",
      "    res : integer, optional\n",
      "        Resolution of result\n",
      "    \n",
      "    Returns\n",
      "    -------\n",
      "    vx : ndarray\n",
      "        Horizontal velocity array in m/s\n",
      "    \n",
      "    \"\"\"\n",
      "    g = 9.81\n",
      "    t = linspace(0, t, res)\n",
      "    vx = vx0 * exp(-k / m * t)\n",
      "    return vx"
     ],
     "language": "python",
     "metadata": {},
     "outputs": [],
     "prompt_number": 4
    },
    {
     "cell_type": "code",
     "collapsed": false,
     "input": [
      "def vz_drag_array(t, m, k, z0, vz0=0, res=1000):\n",
      "    \"\"\"Calculate vertical velocity at time t.\n",
      "    \n",
      "    Parameters\n",
      "    ----------\n",
      "    t : float\n",
      "        Total time in seconds\n",
      "    m : float\n",
      "        Mass in kilograms\n",
      "    k : float\n",
      "        Drag coefficient in Ns/m\n",
      "    z0 : float\n",
      "        Height above ground at t = 0\n",
      "    vz0 : float, optional\n",
      "        Initial vertical velocity\n",
      "    res : integer, optional\n",
      "        Resolution of result\n",
      "    \n",
      "    Returns\n",
      "    -------\n",
      "    vz : ndarray\n",
      "        Vertical velocity array in m/s\n",
      "    \n",
      "    \"\"\"\n",
      "    g = 9.81\n",
      "    t = linspace(0, t, res)\n",
      "    vz = (vz0 + m*g/k) * exp(-k/m*t) - m*g/k\n",
      "    return vz\n",
      "    "
     ],
     "language": "python",
     "metadata": {},
     "outputs": [],
     "prompt_number": 5
    },
    {
     "cell_type": "heading",
     "level": 2,
     "metadata": {},
     "source": [
      "Animation"
     ]
    },
    {
     "cell_type": "markdown",
     "metadata": {},
     "source": [
      "Can we animate the trajectory?"
     ]
    },
    {
     "cell_type": "code",
     "collapsed": false,
     "input": [
      "# This doesn't work in Windows so far; Notebook must not be started with\n",
      "# --inline set if pop-up windows are required.\n",
      "%pylab qt"
     ],
     "language": "python",
     "metadata": {},
     "outputs": []
    },
    {
     "cell_type": "code",
     "collapsed": false,
     "input": [
      "import numpy as np\n",
      "import brewer2mpl\n",
      "from matplotlib import pyplot as plt\n",
      "from matplotlib import animation\n",
      "\n",
      "# Initial conditions.\n",
      "v0 = 100\n",
      "theta = 5\n",
      "m = 0.5\n",
      "k = 0.5\n",
      "z0 = 100\n",
      "x0 = 0\n",
      "dt = 1/30\n",
      "interval = dt * 1000\n",
      "\n",
      "g = 9.81\n",
      "vx0 = v0 * np.cos(np.deg2rad(theta))\n",
      "vz0 = v0 * np.sin(np.deg2rad(theta))\n",
      "\n",
      "tof = calc_time_drag(m, k, z0, vz0)\n",
      "frames = int(tof / dt)\n",
      "\n",
      "my_map = brewer2mpl.get_map(\"Paired\", \"Qualitative\", 4)\n",
      "colour1 = my_map.hex_colors[0]\n",
      "colour2 = my_map.hex_colors[1]\n",
      "colour3 = my_map.hex_colors[2]\n",
      "colour4 = my_map.hex_colors[3]\n",
      "\n",
      "fig = plt.figure()\n",
      "ax = plt.axes(xlim=(0,100), ylim=(0,120))\n",
      "line, = ax.plot([], [], \"-\", lw=2, color=colour1)\n",
      "ax.set_xlabel(\"Forward throw [$m$]\")\n",
      "ax.set_ylabel(\"Height [$m$]\")\n",
      "\n",
      "def init():\n",
      "    line.set_data([], [])\n",
      "    return line,\n",
      "\n",
      "x = x_drag_array(tof, m, k, x0, vx0, frames)\n",
      "z = z_drag_array(tof, m, k, z0, vz0, frames)\n",
      "\n",
      "def animate(i, x, z):\n",
      "    line.set_data(x[:i], z[:i])\n",
      "    return line,\n",
      "\n",
      "anim = animation.FuncAnimation(fig, animate, fargs=(x, z), init_func=init,\n",
      "                               frames=frames, interval=interval, blit=True)\n",
      "\n",
      "plt.show()"
     ],
     "language": "python",
     "metadata": {},
     "outputs": [],
     "prompt_number": 22
    },
    {
     "cell_type": "markdown",
     "metadata": {},
     "source": [
      "After a bit of trial and error, the above code will produce an animation that illustrates the trajectory in real time. Note that this will not work if IPython Notebook is started with the `--pylab=inline` argument. Removing the `inline` parameter from the notebook start-up command (or setting an alternative backend) means that plots are opened in separate windows, and this allows the animation to be displayed.\n",
      "\n",
      "The code below uses the `JSAnimation` library located [here](https://github.com/jakevdp/JSAnimation) and described [here](http://jakevdp.github.io/blog/2013/05/19/a-javascript-viewer-for-matplotlib-animations/) is designed to display animations directly in the notebook using Javascript. Unfortunately it doesn't work properly with Python 3 at the moment."
     ]
    },
    {
     "cell_type": "code",
     "collapsed": false,
     "input": [
      "from JSAnimation import IPython_display\n",
      "\n",
      "fig = plt.figure()\n",
      "ax = plt.axes(xlim=(0, 100), ylim=(0, 120))\n",
      "line, = ax.plot([], [], lw=2, color=colour2)\n",
      "\n",
      "def init():\n",
      "    line.set_data([], [])\n",
      "    return line,\n",
      "\n",
      "x = x_drag_array(tof, m, k, x0, vx0, frames)\n",
      "z = z_drag_array(tof, m, k, z0, vz0, frames)\n",
      "\n",
      "def animate(i, x, z):\n",
      "    line.set_data(x[:i], z[:i])\n",
      "    return line,\n",
      "\n",
      "animation.FuncAnimation(fig, animate, fargs=(x, z), init_func=init,\n",
      "                               frames=frames, interval=interval)"
     ],
     "language": "python",
     "metadata": {},
     "outputs": [
      {
       "metadata": {},
       "output_type": "pyout",
       "prompt_number": 19,
       "text": [
        "<matplotlib.animation.FuncAnimation at 0x7f6db04680d0>"
       ]
      }
     ],
     "prompt_number": 19
    },
    {
     "cell_type": "heading",
     "level": 2,
     "metadata": {},
     "source": [
      "XKCD-style"
     ]
    },
    {
     "cell_type": "markdown",
     "metadata": {},
     "source": [
      "Just for fun of course..."
     ]
    },
    {
     "cell_type": "code",
     "collapsed": false,
     "input": [
      "import brewer2mpl\n",
      "import numpy as np\n",
      "from matplotlib import pyplot as plt\n",
      "\n",
      "my_map = brewer2mpl.get_map(\"Paired\", \"Qualitative\", 4)\n",
      "\n",
      "def calc_traj_xkcd(v0, theta, m, k, z0, x0=0):\n",
      "    \"\"\"Plot the trajectory of an object in an XKCD style.\n",
      "    \n",
      "    Parameters\n",
      "    ----------\n",
      "    v0: float\n",
      "        Initial speed in m/s\n",
      "    theta: float\n",
      "        Angle from horizontal in degrees of initial speed\n",
      "    m: float\n",
      "        Mass of object in kilograms\n",
      "    k: float\n",
      "        Drag coefficient in Ns/m\n",
      "    z0: float\n",
      "        Initial height above ground in m\n",
      "    \n",
      "    \"\"\"\n",
      "    g = 9.81\n",
      "    vx0 = v0 * np.cos(np.deg2rad(theta))\n",
      "    vz0 = v0 * np.sin(np.deg2rad(theta))\n",
      "    \n",
      "    # Calculate time of flight and generate timesteps.\n",
      "    time_of_flight = calc_time_drag(m, k, z0, vz0)\n",
      "    time = np.linspace(0, time_of_flight, 1000)\n",
      "    \n",
      "    # time_of_flight is passed directly to functions, rather than using\n",
      "    # list comprehension.\n",
      "    x = x_drag_array(time_of_flight, m, k, x0, vx0)\n",
      "    z = z_drag_array(time_of_flight, m, k, z0, vz0)\n",
      "    vx = abs(vx_drag_array(time_of_flight, m, k, z0, vx0))\n",
      "    vz = abs(vz_drag_array(time_of_flight, m, k, z0, vz0))\n",
      "    \n",
      "    # These functions still use list comprehension with the time array.\n",
      "#     vx = [abs(vx_drag(i, m, k, z0, vx0)) for i in time]\n",
      "#     vz = [abs(vz_drag(i, m, k, z0, vz0)) for i in time]\n",
      "    \n",
      "    # Assign colours from ColorBrewer.\n",
      "    colour1 = my_map.hex_colors[0]\n",
      "    colour2 = my_map.hex_colors[1]\n",
      "    colour3 = my_map.hex_colors[2]\n",
      "    colour4 = my_map.hex_colors[3]\n",
      "    \n",
      "    # Turn on the XKCD filter.\n",
      "    plt.xkcd()\n",
      "    \n",
      "    fig, (ax1, ax2) = plt.subplots(1, 2, sharey=False)    \n",
      "    ax1.plot(x, z, lw=2, color=colour1)\n",
      "    ax1.set_ylabel(\"Height, m\")\n",
      "    ax1.set_xlabel(\"Forward throw, m\")\n",
      "    ax1.set_ylim(bottom=0)\n",
      "    \n",
      "    ax2.plot(time, vx, lw=2, label=\"horizontal speed\", color=colour3)\n",
      "    ax2.plot(time, vz, lw=2, label=\"vertical speed\", color=colour4)\n",
      "    ax2.set_ylabel(\"Speed, m/s\")\n",
      "    ax2.set_xlabel(\"Time, s\")\n",
      "    ax2.legend()\n",
      "    \n",
      "    fig.tight_layout()"
     ],
     "language": "python",
     "metadata": {},
     "outputs": [],
     "prompt_number": 6
    },
    {
     "cell_type": "code",
     "collapsed": false,
     "input": [
      "calc_traj_xkcd(100, 5, 0.5, 0.5, 100)"
     ],
     "language": "python",
     "metadata": {},
     "outputs": [
      {
       "metadata": {},
       "output_type": "display_data",
       "png": "[encoded data removed]",
       "text": [
        "<matplotlib.figure.Figure at 0x7f5e08098f90>"
       ]
      }
     ],
     "prompt_number": 7
    },
    {
     "cell_type": "heading",
     "level": 2,
     "metadata": {},
     "source": [
      "Realistic drag"
     ]
    },
    {
     "cell_type": "markdown",
     "metadata": {},
     "source": [
      "In reality, drag is defined as:\n",
      "\n",
      "$$\n",
      "F_d = \\frac12 C_d \\rho A v^2\n",
      "$$\n",
      "\n",
      "Since it acts against the motion of the body, we will use as a negative force."
     ]
    },
    {
     "cell_type": "markdown",
     "metadata": {},
     "source": [
      "The net force acting on the body is the sum of the forces due to gravity and drag:\n",
      "\n",
      "$$\n",
      "F_\\mathrm{net} = F_g + F_d = mg - \\frac12 C_d \\rho A v^2\n",
      "$$"
     ]
    },
    {
     "cell_type": "markdown",
     "metadata": {},
     "source": [
      "The force acting on the body results in an acceleration $a$. Acceleration is equal to the rate of change of velocity, therefore:\n",
      "\n",
      "$$\n",
      "a(t) = v^\\prime (t)\n",
      "$$\n",
      "\n",
      "The net force is associated with a net acceleration, therefore:\n",
      "\n",
      "$$\n",
      "ma = mg - \\frac12 C_d \\rho A v^2\n",
      "$$\n",
      "\n",
      "and in terms of velocity:\n",
      "\n",
      "$$\n",
      "mv^\\prime \\left(t\\right) = mg - \\frac12 C_d \\rho A v\\left(t\\right)^2\n",
      "$$\n",
      "\n",
      "Rearranging in terms of $v^\\prime$:\n",
      "\n",
      "$$\n",
      "\\begin{align}\n",
      "v^\\prime \\left(t\\right) &= g - \\frac{C_d \\rho A v \\left(t\\right)^2}{2m} \\\\\n",
      "v^\\prime \\left(t\\right) &= \\frac{C_d \\rho A}{2m} \\left[\\frac{2mg}{C_d \\rho A} - v\\left(t\\right)^2\\right]\n",
      "\\end{align}\n",
      "$$"
     ]
    },
    {
     "cell_type": "markdown",
     "metadata": {},
     "source": [
      "We can introduce an auxilliary function [described here](http://oregonstate.edu/instruct/mth252h/Bogley/w02/resist.html) $p(t)$:\n",
      "\n",
      "$$\n",
      "p(t) = \\frac{2mg}{C_d \\rho A} - v(t)^2\n",
      "$$\n",
      "\n",
      "and its derivative:\n",
      "\n",
      "$$\n",
      "p^\\prime(t) = -2v(t)v^\\prime(t)\n",
      "$$\n"
     ]
    },
    {
     "cell_type": "markdown",
     "metadata": {},
     "source": [
      "Rewriting the equation of motion in terms of $p\\left(t\\right)$ and $p^\\prime\\left(t\\right)$:\n",
      "\n",
      "$$\n",
      "\\begin{align}\n",
      "v^\\prime \\left(t\\right) &= \\frac{C_d \\rho A}{2m}p(t) \\\\\n",
      "-\\frac{p^\\prime(t)}{2v(t)} &= \\frac{C_d \\rho A}{2m}p(t) \\\\\n",
      "p^\\prime\\left(t\\right) &= -\\frac{v\\left(t\\right) C_d \\rho A}{m}p\\left(t\\right)\n",
      "\\end{align}\n",
      "$$"
     ]
    },
    {
     "cell_type": "markdown",
     "metadata": {},
     "source": [
      "Note that there is still a $v\\left(t\\right)$ term, so let's substitute the equation for $p\\left(t\\right)$ into the equation once again:\n",
      "\n",
      "$$\n",
      "p^\\prime\\left(t\\right) = - \\frac{C_d \\rho A}{m}p\\left(t\\right)\\cdot\\pm\\sqrt{\\frac{2mg}{C_d \\rho A} - p\\left(t\\right)}\n",
      "$$"
     ]
    },
    {
     "cell_type": "markdown",
     "metadata": {},
     "source": [
      "This is a messy equation and it doesn't appear to be in a form that lends itself to a simple solution."
     ]
    },
    {
     "cell_type": "markdown",
     "metadata": {},
     "source": [
      "Let's try to simplify it:\n",
      "\n",
      "$$\n",
      "\\begin{align}\n",
      "p^\\prime\\left(t\\right) &= - \\frac{C_d \\rho A}{m}p\\left(t\\right)\\cdot\\sqrt{\\frac{2mg}{C_d \\rho A} - p\\left(t\\right)} \\\\\n",
      "&= \\sqrt{-\\frac{C_d^2 \\rho^2 A^2}{m^2}p(t)^2} \\cdot \\sqrt{\\frac{2mg}{C_d \\rho A} - p\\left(t\\right)} \\\\\n",
      "&= \\sqrt{\\left(-\\frac{C_d^2 \\rho^2 A^2}{m^2}p(t)^2 \\cdot \\frac{2mg}{C_d \\rho A}\\right) + \\frac{C_d^2 \\rho^2 A^2}{m^2}p(t)^3} \\\\\n",
      "&= \\sqrt{\\left(-\\frac{2gC_d \\rho A}{m}p(t)^2\\right) + \\frac{C_d^2 \\rho^2 A^2}{m^2}p(t)^3} \\\\\n",
      "p^\\prime(t) &= \\sqrt{\\frac{C_d^2 \\rho^2 A^2}{m^2}p(t)^3 - \\frac{2gC_d \\rho A}{m}p(t)^2} \\\\\n",
      "\\end{align}\n",
      "$$"
     ]
    }
   ],
   "metadata": {}
  }
 ]
}