{
 "metadata": {
  "name": ""
 },
 "nbformat": 3,
 "nbformat_minor": 0,
 "worksheets": [
  {
   "cells": [
    {
     "cell_type": "heading",
     "level": 1,
     "metadata": {},
     "source": [
      "Maths and Physics Reference"
     ]
    },
    {
     "cell_type": "heading",
     "level": 2,
     "metadata": {},
     "source": [
      "Dot Product"
     ]
    },
    {
     "cell_type": "heading",
     "level": 3,
     "metadata": {},
     "source": [
      "Algebraic Definition"
     ]
    },
    {
     "cell_type": "markdown",
     "metadata": {},
     "source": [
      "The dot product of two vectors $\\mathbf a = \\left[a_1, a_2, \\dots , a_n\\right]$ and $\\mathbf b = \\left[b_1, b_2, \\dots , b_n\\right]$ is defined as:\n",
      "\n",
      "$$\n",
      "a \\cdot b = \\sum_{i=1}^n a_i b_i = a_1b_1 + a_2b_2 + \\dots + a_nb_n\n",
      "$$"
     ]
    },
    {
     "cell_type": "heading",
     "level": 3,
     "metadata": {},
     "source": [
      "Geometric Definition"
     ]
    },
    {
     "cell_type": "markdown",
     "metadata": {},
     "source": [
      "The dot product of two Euclidean vectors $\\mathbf A$ and $\\mathbf B$ is defined as:\n",
      "\n",
      "$$\n",
      "\\mathbf A \\cdot \\mathbf B = \\|\\mathbf A \\| \\ \\| \\mathbf B \\| \\cos\\theta\n",
      "$$\n",
      "\n",
      "where $\\|\\mathbf A\\|$ is the magnitude of vector $\\mathbf A$ and $\\theta$ is the angle between vectors $\\mathbf A$ and $\\mathbf B$.\n",
      "\n",
      "The dot product of vector $\\mathbf A$ with itself is:\n",
      "\n",
      "$$\n",
      "\\mathbf{A} \\cdot \\mathbf{A} = \\|\\mathbf{A}\\|^2\n",
      "$$"
     ]
    },
    {
     "cell_type": "heading",
     "level": 2,
     "metadata": {},
     "source": [
      "Angular Velocity"
     ]
    },
    {
     "cell_type": "markdown",
     "metadata": {},
     "source": [
      "Angular velocity $\\omega$ has units of $\\mathrm{rad}\\cdot s^{-1}$."
     ]
    },
    {
     "cell_type": "markdown",
     "metadata": {},
     "source": [
      "$$\n",
      "v = \\omega r\n",
      "$$"
     ]
    },
    {
     "cell_type": "heading",
     "level": 2,
     "metadata": {},
     "source": [
      "Relating Rotational and Stationary Frames of Reference"
     ]
    },
    {
     "cell_type": "markdown",
     "metadata": {},
     "source": [
      "###References\n",
      "\n",
      "* http://en.wikipedia.org/wiki/Rotating_reference_frame#Relating_rotating_frames_to_stationary_frames"
     ]
    },
    {
     "cell_type": "markdown",
     "metadata": {},
     "source": [
      "If we have an inertial frame with the coordinate system $\\left(x, y, z\\right)$ and a rotating frame with the coordinate system $\\left(x^\\prime, y^\\prime, z^\\prime\\right)$, we need a way to convert between them. This is similar to the derivation of rotation matrices detailed elsewhere in this notebook, but for clarity here we will consider a rotation about the $z$ axis. If the rotation has an angular velocity $\\Omega$, and the two frames of reference are identical at $t=0$, we can produce the following relationship:\n",
      "\n",
      "$$\n",
      "\\begin{align}\n",
      "x &= x^\\prime \\cos \\left( \\Omega t \\right) - y^\\prime \\sin \\left( \\Omega t \\right) \\\\\n",
      "y &= x^\\prime \\sin \\left( \\Omega t \\right) + y^\\prime \\cos \\left( \\Omega t \\right) \n",
      "\\end{align}\n",
      "$$\n",
      "\n",
      "The reverse relationship follows as:\n",
      "\n",
      "$$\n",
      "\\begin{align}\n",
      "x^\\prime &= x \\cos \\left( - \\Omega t \\right) - y \\sin \\left( - \\Omega t \\right) \\\\\n",
      "y^\\prime &= x \\sin \\left( - \\Omega t \\right) + y \\cos \\left( - \\Omega t \\right) \n",
      "\\end{align}\n",
      "$$"
     ]
    },
    {
     "cell_type": "markdown",
     "metadata": {},
     "source": [
      "Let $\\hat{\\boldsymbol{\\imath}}, \\hat{\\boldsymbol{\\jmath}}, \\hat{\\boldsymbol{k}}$ be unit vectors representing standard basis unit vectors in the rotating frame. Again we will assume that the two frames of reference are aligned at $t=0$ and determine the derivatives with respect to time. We also assume the rotation is about the $z$ axis and at an angular velocity of $\\Omega$. So at time $t$, the angle rotated is equal to $\\Omega t$:\n",
      "\n",
      "$$\n",
      "\\begin{align}\n",
      "\\hat{\\boldsymbol{\\imath}} \\left( t \\right) &= \\left( \\cos \\Omega t, \\sin \\Omega t \\right) \\\\\n",
      "\\hat{\\boldsymbol{\\jmath}} \\left( t \\right) &= \\left( - \\sin \\Omega t, \\cos \\Omega t \\right)\n",
      "\\end{align}\n",
      "$$\n",
      "\n",
      "The $\\left( x, y \\right)$ coordinates of each vector are in the inertial frame."
     ]
    },
    {
     "cell_type": "code",
     "collapsed": false,
     "input": [],
     "language": "python",
     "metadata": {},
     "outputs": []
    }
   ],
   "metadata": {}
  }
 ]
}