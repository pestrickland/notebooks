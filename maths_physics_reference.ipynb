{
 "metadata": {
  "name": ""
 },
 "nbformat": 3,
 "nbformat_minor": 0,
 "worksheets": [
  {
   "cells": [
    {
     "cell_type": "heading",
     "level": 1,
     "metadata": {},
     "source": [
      "Maths and Physics Reference"
     ]
    },
    {
     "cell_type": "heading",
     "level": 2,
     "metadata": {},
     "source": [
      "Dot Product"
     ]
    },
    {
     "cell_type": "heading",
     "level": 3,
     "metadata": {},
     "source": [
      "Algebraic Definition"
     ]
    },
    {
     "cell_type": "markdown",
     "metadata": {},
     "source": [
      "The dot product of two vectors $\\mathbf a = \\left[a_1, a_2, \\dots , a_n\\right]$ and $\\mathbf b = \\left[b_1, b_2, \\dots , b_n\\right]$ is defined as:\n",
      "\n",
      "$$\n",
      "a \\cdot b = \\sum_{i=1}^n a_i b_i = a_1b_1 + a_2b_2 + \\dots + a_nb_n\n",
      "$$"
     ]
    },
    {
     "cell_type": "heading",
     "level": 3,
     "metadata": {},
     "source": [
      "Geometric Definition"
     ]
    },
    {
     "cell_type": "markdown",
     "metadata": {},
     "source": [
      "The dot product of two Euclidean vectors $\\mathbf A$ and $\\mathbf B$ is defined as:\n",
      "\n",
      "$$\n",
      "\\mathbf A \\cdot \\mathbf B = \\|\\mathbf A \\| \\ \\| \\mathbf B \\| \\cos\\theta\n",
      "$$\n",
      "\n",
      "where $\\|\\mathbf A\\|$ is the magnitude of vector $\\mathbf A$ and $\\theta$ is the angle between vectors $\\mathbf A$ and $\\mathbf B$.\n",
      "\n",
      "The dot product of vector $\\mathbf A$ with itself is:\n",
      "\n",
      "$$\n",
      "\\mathbf{A} \\cdot \\mathbf{A} = \\|\\mathbf{A}\\|^2\n",
      "$$"
     ]
    },
    {
     "cell_type": "heading",
     "level": 2,
     "metadata": {},
     "source": [
      "Angular Velocity"
     ]
    },
    {
     "cell_type": "markdown",
     "metadata": {},
     "source": [
      "Angular velocity $\\omega$ has units of $\\mathrm{rad}\\cdot s^{-1}$."
     ]
    },
    {
     "cell_type": "markdown",
     "metadata": {},
     "source": [
      "$$\n",
      "v = \\omega r\n",
      "$$"
     ]
    },
    {
     "cell_type": "heading",
     "level": 2,
     "metadata": {},
     "source": [
      "Relating Rotational and Stationary Frames of Reference"
     ]
    },
    {
     "cell_type": "markdown",
     "metadata": {},
     "source": [
      "###References\n",
      "\n",
      "* http://en.wikipedia.org/wiki/Rotating_reference_frame#Relating_rotating_frames_to_stationary_frames"
     ]
    },
    {
     "cell_type": "markdown",
     "metadata": {},
     "source": [
      "If we have an inertial frame with the coordinate system $\\left(x,y,z\\right)$ and a rotating frame with the coordinate system $\\left(x^\\prime, y^\\prime, z^\\prime\\right)$, we need a way to convert between them. This is similar to the derivation of rotation matrices detailed elsewhere in this notebook, but for clarity here we will consider a rotation about the $z$ axis. If the rotation has an angular velocity $\\Omega$, and the two frames of reference are identical at $t=0$, we can produce the following relationship:\n",
      "\n",
      "$$\n",
      "\\begin{align}\n",
      "x &= x^\\prime \\cos \\left( \\Omega t \\right) - y^\\prime \\sin \\left( \\Omega t \\right) \\\\\n",
      "y &= x^\\prime \\sin \\left( \\Omega t \\right) + y^\\prime \\cos \\left( \\Omega t \\right) \n",
      "\\end{align}\n",
      "$$\n",
      "\n",
      "The reverse relationship follows as:\n",
      "\n",
      "$$\n",
      "\\begin{align}\n",
      "x^\\prime &= x \\cos \\left( - \\Omega t \\right) - y \\sin \\left( - \\Omega t \\right) \\\\\n",
      "y^\\prime &= x \\sin \\left( - \\Omega t \\right) + y \\cos \\left( - \\Omega t \\right) \n",
      "\\end{align}\n",
      "$$"
     ]
    },
    {
     "cell_type": "markdown",
     "metadata": {},
     "source": [
      "Let $\\hat{\\boldsymbol{\\imath}}, \\hat{\\boldsymbol{\\jmath}}, \\hat{\\boldsymbol{k}}$ be unit vectors representing standard basis unit vectors in the rotating frame. Again we will assume that the two frames of reference are aligned at $t=0$ and determine the derivatives with respect to time. We also assume the rotation is about the $z$ axis and at an angular velocity of $\\Omega$. So at time $t$, the angle rotated is equal to $\\Omega t$:\n",
      "\n",
      "$$\n",
      "\\begin{align}\n",
      "\\hat{\\boldsymbol{\\imath}} \\left( t \\right) &= \\left( \\cos \\Omega t, \\sin \\Omega t \\right) \\\\\n",
      "\\hat{\\boldsymbol{\\jmath}} \\left( t \\right) &= \\left( - \\sin \\Omega t, \\cos \\Omega t \\right)\n",
      "\\end{align}\n",
      "$$\n",
      "\n",
      "The $\\left( x, y \\right)$ coordinates of each vector are in the inertial frame."
     ]
    },
    {
     "cell_type": "markdown",
     "metadata": {},
     "source": [
      "The time derivatives of the vectors above are displayed below. These derivatives relate to the rate of rotation about the $z$ axis; the magntitude of each vector is unchanged.\n",
      "\n",
      "$$\n",
      "\\begin{align}\n",
      "\\frac{\\mathrm{d}}{\\mathrm{d} t} \\hat{\\boldsymbol{\\imath}}\\left( t \\right) &= \\Omega \\left( - \\sin \\Omega t, \\cos \\Omega t \\right) = \\Omega \\hat{\\boldsymbol{\\jmath}} \\\\\n",
      "\\frac{\\mathrm{d}}{\\mathrm{d} t} \\hat{\\boldsymbol{\\jmath}}\\left( t \\right) &= \\Omega \\left( - \\cos \\Omega t, - \\sin \\Omega t \\right) = - \\Omega \\hat{\\boldsymbol{\\imath}}\n",
      "\\end{align}\n",
      "$$\n",
      "\n",
      "*Note use of chain rule here*\n",
      "\n",
      "This result is the same as calculating the cross product of either unit vector and the rotation vector $\\boldsymbol{\\Omega} = \\left( 0,\\ 0,\\ \\Omega \\right)$ pointing along the $z$ axis:\n",
      "\n",
      "$$\n",
      "\\begin{align}\n",
      "\\frac{\\mathrm{d}}{\\mathrm{d}t}\\hat{\\boldsymbol{u}} = \\boldsymbol{\\Omega} \\times \\hat{\\boldsymbol{u}}\n",
      "\\end{align}\n",
      "$$"
     ]
    },
    {
     "cell_type": "heading",
     "level": 2,
     "metadata": {},
     "source": [
      "Euler's Equations for Rigid Body Dynamics"
     ]
    },
    {
     "cell_type": "markdown",
     "metadata": {},
     "source": [
      "[Euler's second law][1] states that the rate of change of angular momentum $\\mathbf L$ is equal to the sum of moments of force acting on the body:\n",
      "\n",
      "$$\n",
      "\\frac{\\mathrm{d}\\mathbf L}{\\mathrm{d}t} = \\mathbf M\n",
      "$$\n",
      "\n",
      "Angular momentum of a fixed mass rotating about a fixed symmetry axis is defined as:\n",
      "\n",
      "$$\n",
      "\\mathbf L = I\\omega\n",
      "$$\n",
      "\n",
      "where $I$ is the body's moment of inertia. In these equations we are dealing with the inertial frame of reference, but it is useful to convert to the body frame of reference.\n",
      "\n",
      "[1]: http://en.wikipedia.org/wiki/Euler%27s_second_law"
     ]
    },
    {
     "cell_type": "markdown",
     "metadata": {},
     "source": [
      "Decomposing the vector, angular momentum can also be written as:\n",
      "\n",
      "$$\n",
      "\\begin{align}\n",
      "\\mathbf L &\\equiv L_1 \\mathbf{e}_1 + L_2\\mathbf{e}_2 +L_3\\mathbf{e}_3 \\\\\n",
      "&= I_1\\omega_1\\mathbf{e}_1 + I_2\\omega_2\\mathbf{e}_2 +I_3\\omega_3\\mathbf{e}_3 \\\\\n",
      "&= I_x\\omega_x\\mathbf{e}_x + I_y\\omega_y\\mathbf{e}_y +I_z\\omega_z\\mathbf{e}_z\n",
      "\\end{align}\n",
      "$$\n",
      "\n",
      "where $\\mathbf{e}_n$ is a unit vector for each axis. There is more information on Wikipedia about [standard basis vectors][3]. \n",
      "\n",
      "[2]: http://en.wikipedia.org/wiki/Euler%27s_equations_(rigid_body_dynamics)\n",
      "[3]: http://en.wikipedia.org/wiki/Standard_basis\n",
      "[4]: http://en.wikipedia.org/wiki/Rotating_reference_frame#Relating_rotating_frames_to_stationary_frames"
     ]
    },
    {
     "cell_type": "markdown",
     "metadata": {},
     "source": [
      "In the body frame of reference, we can define a new set of unit vectors $\\hat{\\boldsymbol{\\imath}}, \\hat{\\boldsymbol{\\jmath}}, \\hat{\\boldsymbol{k}}$. These vectors remain normalised during rotation of the body. If a unit vector $\\hat{\\boldsymbol{u}}$ rotates with  a speed $\\Omega$ about an axis $\\boldsymbol{\\Omega}$, the following equation will be true:\n",
      "\n",
      "$$\n",
      "\\frac{\\mathrm{d}}{\\mathrm{d}t} \\hat{\\boldsymbol{u}} = \\boldsymbol{\\Omega} \\times \\hat{\\boldsymbol{u}}\n",
      "$$\n",
      "\n",
      "What is this actually saying? The rate of change of the unit vector with respect to time is equal to the cross product of the axis and the unit vector. It represents the rate of rotation of the body axes with respect to the inertial axes. [This section][4] in Wikipedia provides more information, and it is also being developed in my reference notebook.\n",
      "\n",
      "More work should be done to understand unit vectors and their application once again.\n",
      "\n",
      "Now suppose there is a vector function $\\boldsymbol{f}$ such that\n",
      "\n",
      "$$\n",
      "\\boldsymbol{f} \\left(t\\right) = f_x \\left(t\\right)\\hat{\\boldsymbol{\\imath}} + f_y \\left(t\\right)\\hat{\\boldsymbol{\\jmath}} + f_z \\left(t\\right)\\hat{\\boldsymbol{k}}\n",
      "$$\n",
      "\n",
      "and we take the first derivative with respect to $t$, using the product rule and making use of $\\frac{\\mathrm{d}}{\\mathrm{d}t} \\hat{\\boldsymbol{u}} = \\boldsymbol{\\Omega} \\times \\hat{\\boldsymbol{u}}$:\n",
      "\n",
      "$$\n",
      "\\begin{align}\n",
      "\\frac{\\mathrm{d}}{\\mathrm{d}t}\\boldsymbol{f} &= \\frac{\\mathrm{d}\\hat{\\boldsymbol{\\imath}}}{\\mathrm{d}t}f_x + \\frac{\\mathrm{d}f_x}{\\mathrm{d}t}\\hat{\\boldsymbol{\\imath}} + \\frac{\\mathrm{d}\\hat{\\boldsymbol{\\jmath}}}{\\mathrm{d}t}f_y + \\frac{\\mathrm{d}f_y}{\\mathrm{d}t}\\hat{\\boldsymbol{\\jmath}} + \\frac{\\mathrm{d}\\hat{\\boldsymbol{k}}}{\\mathrm{d}t}f_z + \\frac{\\mathrm{d}f_z}{\\mathrm{d}t}\\hat{\\boldsymbol{k}}\\\\\n",
      "&= \\frac{\\mathrm{d}f_x}{\\mathrm{d}t}\\hat{\\boldsymbol{\\imath}} + \n",
      "   \\frac{\\mathrm{d}f_y}{\\mathrm{d}t}\\hat{\\boldsymbol{\\jmath}} + \n",
      "   \\frac{\\mathrm{d}f_z}{\\mathrm{d}t}\\hat{\\boldsymbol{k}} + \\frac{\\mathrm{d}\\hat{\\boldsymbol{\\imath}}}{\\mathrm{d}t}f_x + \\frac{\\mathrm{d}\\hat{\\boldsymbol{\\jmath}}}{\\mathrm{d}t}f_y + \\frac{\\mathrm{d}\\hat{\\boldsymbol{k}}}{\\mathrm{d}t}f_z \\\\\n",
      "&= \\frac{\\mathrm{d}f_x}{\\mathrm{d}t}\\hat{\\boldsymbol{\\imath}} +\n",
      "   \\frac{\\mathrm{d}f_y}{\\mathrm{d}t}\\hat{\\boldsymbol{\\jmath}} +\n",
      "   \\frac{\\mathrm{d}f_z}{\\mathrm{d}t}\\hat{\\boldsymbol{k}} +\n",
      "\\left(\\boldsymbol{\\Omega} \\times \\hat{\\boldsymbol{\\imath}}f_x \\right) +\n",
      "\\left(\\boldsymbol{\\Omega} \\times \\hat{\\boldsymbol{\\jmath}}f_y \\right) +\n",
      "\\left(\\boldsymbol{\\Omega} \\times \\hat{\\boldsymbol{k}}f_z \\right) \\\\\n",
      "&= \\frac{\\mathrm{d}f_x}{\\mathrm{d}t}\\hat{\\boldsymbol{\\imath}} +\n",
      "   \\frac{\\mathrm{d}f_y}{\\mathrm{d}t}\\hat{\\boldsymbol{\\jmath}} +\n",
      "   \\frac{\\mathrm{d}f_z}{\\mathrm{d}t}\\hat{\\boldsymbol{k}} +\n",
      "\\left[\\boldsymbol{\\Omega} \\times \\left(f_x\\hat{\\boldsymbol{\\imath}} +                              f_y\\hat{\\boldsymbol{\\jmath}} +\n",
      "   f_z\\hat{\\boldsymbol{k}} \\right)\\right] \\\\\n",
      "&= \\left( \\frac{\\mathrm{d}\\boldsymbol{f}}{\\mathrm{d}t}\\right)_r + \\boldsymbol{\\Omega} \\times \\boldsymbol{f}\\left(t\\right)\n",
      "\\end{align}\n",
      "$$\n",
      "\n",
      "[2]: http://en.wikipedia.org/wiki/Euler%27s_equations_(rigid_body_dynamics)\n",
      "[3]: http://en.wikipedia.org/wiki/Standard_basis\n",
      "[4]: http://en.wikipedia.org/wiki/Rotating_reference_frame#Relating_rotating_frames_to_stationary_frames"
     ]
    },
    {
     "cell_type": "code",
     "collapsed": false,
     "input": [
      "from IPython.core.display import HTML\n",
      "def css_styling():\n",
      "    styles = open(\"styles/custom.css\", \"r\").read()\n",
      "    return HTML(styles)\n",
      "css_styling()"
     ],
     "language": "python",
     "metadata": {},
     "outputs": [
      {
       "html": [
        "<style>\n",
        "    @font-face {\n",
        "        font-family: \"Computer Modern\";\n",
        "        src: url('http://mirrors.ctan.org/fonts/cm-unicode/fonts/otf/cmunss.otf');\n",
        "    }\n",
        "    div.cell{\n",
        "        width:800px;\n",
        "        margin-left:16% !important;\n",
        "        margin-right:auto;\n",
        "    }\n",
        "    h1 {\n",
        "        font-family: Helvetica, serif;\n",
        "    }\n",
        "    h2 {\n",
        "        font-family: Helvetica, serif;\n",
        "    }\n",
        "    h4{\n",
        "        margin-top:12px;\n",
        "        margin-bottom: 3px;\n",
        "       }\n",
        "    div.text_cell_render{\n",
        "        font-family: \"Open Sans\", Computer Modern, \"Helvetica Neue\", Arial, Helvetica, Geneva, sans-serif;\n",
        "        line-height: 135%;\n",
        "        font-size: 120%;\n",
        "        width:600px;\n",
        "        margin-left:auto;\n",
        "        margin-right:auto;\n",
        "    }\n",
        "    .CodeMirror{\n",
        "            font-family: \"Source Code Pro\", \"Ubuntu Mono\", source-code-pro,Consolas, monospace;\n",
        "    }\n",
        "/*    .prompt{\n",
        "        display: None;\n",
        "    }*/\n",
        "    .text_cell_render h5 {\n",
        "        font-weight: 300;\n",
        "        font-size: 16pt;\n",
        "        color: #4057A1;\n",
        "        font-style: italic;\n",
        "        margin-bottom: .5em;\n",
        "        margin-top: 0.5em;\n",
        "        display: block;\n",
        "    }\n",
        "\n",
        "    .warning{\n",
        "        color: rgb( 240, 20, 20 )\n",
        "        }\n",
        "</style>\n",
        "<script>\n",
        "    MathJax.Hub.Config({\n",
        "                        TeX: {\n",
        "                           extensions: [\"AMSmath.js\"]\n",
        "                           },\n",
        "                tex2jax: {\n",
        "                    inlineMath: [ ['$','$'], [\"\\\\(\",\"\\\\)\"] ],\n",
        "                    displayMath: [ ['$$','$$'], [\"\\\\[\",\"\\\\]\"] ]\n",
        "                },\n",
        "                displayAlign: 'center', // Change this to 'center' to center equations.\n",
        "                \"HTML-CSS\": {\n",
        "                    styles: {'.MathJax_Display': {\"margin\": 4}}\n",
        "                }\n",
        "        });\n",
        "</script>"
       ],
       "metadata": {},
       "output_type": "pyout",
       "prompt_number": 1,
       "text": [
        "<IPython.core.display.HTML at 0x68115f8>"
       ]
      }
     ],
     "prompt_number": 1
    },
    {
     "cell_type": "code",
     "collapsed": false,
     "input": [],
     "language": "python",
     "metadata": {},
     "outputs": []
    }
   ],
   "metadata": {}
  }
 ]
}