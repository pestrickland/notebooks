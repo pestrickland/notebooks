{
 "metadata": {
  "name": ""
 },
 "nbformat": 3,
 "nbformat_minor": 0,
 "worksheets": [
  {
   "cells": [
    {
     "cell_type": "heading",
     "level": 1,
     "metadata": {},
     "source": [
      "Maths and Physics Reference"
     ]
    },
    {
     "cell_type": "heading",
     "level": 2,
     "metadata": {},
     "source": [
      "Dot Product"
     ]
    },
    {
     "cell_type": "heading",
     "level": 3,
     "metadata": {},
     "source": [
      "Algebraic Definition"
     ]
    },
    {
     "cell_type": "markdown",
     "metadata": {},
     "source": [
      "The dot product of two vectors $\\mathbf a = \\left[a_1, a_2, \\dots , a_n\\right]$ and $\\mathbf b = \\left[b_1, b_2, \\dots , b_n\\right]$ is defined as:\n",
      "\n",
      "$$\n",
      "a \\cdot b = \\sum_{i=1}^n a_i b_i = a_1b_1 + a_2b_2 + \\dots + a_nb_n\n",
      "$$"
     ]
    },
    {
     "cell_type": "heading",
     "level": 3,
     "metadata": {},
     "source": [
      "Geometric Definition"
     ]
    },
    {
     "cell_type": "markdown",
     "metadata": {},
     "source": [
      "The dot product of two Euclidean vectors $\\mathbf A$ and $\\mathbf B$ is defined as:\n",
      "\n",
      "$$\n",
      "\\mathbf A \\cdot \\mathbf B = \\|\\mathbf A \\| \\ \\| \\mathbf B \\| \\cos\\theta\n",
      "$$\n",
      "\n",
      "where $\\|\\mathbf A\\|$ is the magnitude of vector $\\mathbf A$ and $\\theta$ is the angle between vectors $\\mathbf A$ and $\\mathbf B$."
     ]
    },
    {
     "cell_type": "code",
     "collapsed": false,
     "input": [],
     "language": "python",
     "metadata": {},
     "outputs": []
    }
   ],
   "metadata": {}
  }
 ]
}