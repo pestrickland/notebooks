{
 "cells": [
  {
   "cell_type": "markdown",
   "metadata": {},
   "source": [
    "# Building an image retrieval system with deep features\n",
    "\n",
    "\n",
    "# Fire up GraphLab Create"
   ]
  },
  {
   "cell_type": "code",
   "execution_count": 1,
   "metadata": {
    "collapsed": true
   },
   "outputs": [],
   "source": [
    "import graphlab"
   ]
  },
  {
   "cell_type": "markdown",
   "metadata": {},
   "source": [
    "# Load the CIFAR-10 dataset\n",
    "\n",
    "We will use a popular benchmark dataset in computer vision called CIFAR-10.  \n",
    "\n",
    "(We've reduced the data to just 4 categories = {'cat','bird','automobile','dog'}.)\n",
    "\n",
    "This dataset is already split into a training set and test set. In this simple retrieval example, there is no notion of \"testing\", so we will only use the training data."
   ]
  },
  {
   "cell_type": "code",
   "execution_count": 2,
   "metadata": {
    "collapsed": false
   },
   "outputs": [
    {
     "name": "stderr",
     "output_type": "stream",
     "text": [
      "[INFO] This non-commercial license of GraphLab Create is assigned to p.e.strickland@gmail.com and will expire on January 15, 2017. For commercial licensing options, visit https://dato.com/buy/.\n",
      "\n",
      "[INFO] Start server at: ipc:///tmp/graphlab_server-23424 - Server binary: /home/paul/anaconda3/envs/dato/lib/python2.7/site-packages/graphlab/unity_server - Server log: /tmp/graphlab_server_1455361717.log\n",
      "[INFO] GraphLab Server Version: 1.8.1\n"
     ]
    }
   ],
   "source": [
    "image_train = graphlab.SFrame('image_train_data/')"
   ]
  },
  {
   "cell_type": "markdown",
   "metadata": {},
   "source": [
    "# Computing deep features for our images\n",
    "\n",
    "The two lines below allow us to compute deep features.  This computation takes a little while, so we have already computed them and saved the results as a column in the data you loaded. \n",
    "\n",
    "(Note that if you would like to compute such deep features and have a GPU on your machine, you should use the GPU enabled GraphLab Create, which will be significantly faster for this task.)"
   ]
  },
  {
   "cell_type": "code",
   "execution_count": 3,
   "metadata": {
    "collapsed": false
   },
   "outputs": [
    {
     "name": "stdout",
     "output_type": "stream",
     "text": [
      "PROGRESS: Downloading http://s3.amazonaws.com/GraphLab-Datasets/deeplearning/imagenet_model_iter45/dir_archive.ini to /var/tmp/graphlab-paul/23424/ed2c71e5-2db7-4fde-bf2d-82ee27d8bebd.ini\n",
      "PROGRESS: Downloading http://s3.amazonaws.com/GraphLab-Datasets/deeplearning/imagenet_model_iter45/objects.bin to /var/tmp/graphlab-paul/23424/4db2e234-c2d5-4fdc-9130-7229716aa802.bin\n"
     ]
    },
    {
     "ename": "RuntimeError",
     "evalue": "Runtime Exception. Unable to load model from http://s3.amazonaws.com/GraphLab-Datasets/deeplearning/imagenet_model_iter45: CUDA Error: out of memory",
     "output_type": "error",
     "traceback": [
      "\u001b[1;31m---------------------------------------------------------------------------\u001b[0m",
      "\u001b[1;31mRuntimeError\u001b[0m                              Traceback (most recent call last)",
      "\u001b[1;32m<ipython-input-3-6d726cbc38e2>\u001b[0m in \u001b[0;36m<module>\u001b[1;34m()\u001b[0m\n\u001b[1;32m----> 1\u001b[1;33m \u001b[0mdeep_learning_model\u001b[0m \u001b[1;33m=\u001b[0m \u001b[0mgraphlab\u001b[0m\u001b[1;33m.\u001b[0m\u001b[0mload_model\u001b[0m\u001b[1;33m(\u001b[0m\u001b[1;34m'http://s3.amazonaws.com/GraphLab-Datasets/deeplearning/imagenet_model_iter45'\u001b[0m\u001b[1;33m)\u001b[0m\u001b[1;33m\u001b[0m\u001b[0m\n\u001b[0m\u001b[0;32m      2\u001b[0m \u001b[1;31m#image_train['deep_features'] = deep_learning_model.extract_features(image_train)\u001b[0m\u001b[1;33m\u001b[0m\u001b[1;33m\u001b[0m\u001b[0m\n",
      "\u001b[1;32m/home/paul/anaconda3/envs/dato/lib/python2.7/site-packages/graphlab/toolkits/_model.pyc\u001b[0m in \u001b[0;36mload_model\u001b[1;34m(location)\u001b[0m\n\u001b[0;32m     98\u001b[0m     \u001b[1;32melse\u001b[0m\u001b[1;33m:\u001b[0m\u001b[1;33m\u001b[0m\u001b[0m\n\u001b[0;32m     99\u001b[0m         \u001b[0m_internal_url\u001b[0m \u001b[1;33m=\u001b[0m \u001b[0m_make_internal_url\u001b[0m\u001b[1;33m(\u001b[0m\u001b[0mlocation\u001b[0m\u001b[1;33m)\u001b[0m\u001b[1;33m\u001b[0m\u001b[0m\n\u001b[1;32m--> 100\u001b[1;33m         \u001b[1;32mreturn\u001b[0m \u001b[0mglconnect\u001b[0m\u001b[1;33m.\u001b[0m\u001b[0mget_unity\u001b[0m\u001b[1;33m(\u001b[0m\u001b[1;33m)\u001b[0m\u001b[1;33m.\u001b[0m\u001b[0mload_model\u001b[0m\u001b[1;33m(\u001b[0m\u001b[0m_internal_url\u001b[0m\u001b[1;33m)\u001b[0m\u001b[1;33m\u001b[0m\u001b[0m\n\u001b[0m\u001b[0;32m    101\u001b[0m \u001b[1;33m\u001b[0m\u001b[0m\n\u001b[0;32m    102\u001b[0m \u001b[1;33m\u001b[0m\u001b[0m\n",
      "\u001b[1;32mgraphlab/cython/cy_unity.pyx\u001b[0m in \u001b[0;36mgraphlab.cython.cy_unity.UnityGlobalProxy.load_model\u001b[1;34m()\u001b[0m\n",
      "\u001b[1;32mgraphlab/cython/cy_unity.pyx\u001b[0m in \u001b[0;36mgraphlab.cython.cy_unity.UnityGlobalProxy.load_model\u001b[1;34m()\u001b[0m\n",
      "\u001b[1;31mRuntimeError\u001b[0m: Runtime Exception. Unable to load model from http://s3.amazonaws.com/GraphLab-Datasets/deeplearning/imagenet_model_iter45: CUDA Error: out of memory"
     ]
    }
   ],
   "source": [
    "#deep_learning_model = graphlab.load_model('http://s3.amazonaws.com/GraphLab-Datasets/deeplearning/imagenet_model_iter45')\n",
    "#image_train['deep_features'] = deep_learning_model.extract_features(image_train)"
   ]
  },
  {
   "cell_type": "code",
   "execution_count": 101,
   "metadata": {
    "collapsed": false
   },
   "outputs": [
    {
     "data": {
      "text/html": [
       "<div style=\"max-height:1000px;max-width:1500px;overflow:auto;\"><table frame=\"box\" rules=\"cols\">\n",
       "    <tr>\n",
       "        <th style=\"padding-left: 1em; padding-right: 1em; text-align: center\">id</th>\n",
       "        <th style=\"padding-left: 1em; padding-right: 1em; text-align: center\">image</th>\n",
       "        <th style=\"padding-left: 1em; padding-right: 1em; text-align: center\">label</th>\n",
       "        <th style=\"padding-left: 1em; padding-right: 1em; text-align: center\">deep_features</th>\n",
       "        <th style=\"padding-left: 1em; padding-right: 1em; text-align: center\">image_array</th>\n",
       "    </tr>\n",
       "    <tr>\n",
       "        <td style=\"padding-left: 1em; padding-right: 1em; text-align: center; vertical-align: top\">24</td>\n",
       "        <td style=\"padding-left: 1em; padding-right: 1em; text-align: center; vertical-align: top\">Height: 32 Width: 32</td>\n",
       "        <td style=\"padding-left: 1em; padding-right: 1em; text-align: center; vertical-align: top\">bird</td>\n",
       "        <td style=\"padding-left: 1em; padding-right: 1em; text-align: center; vertical-align: top\">[0.242871761322,<br>1.09545373917, 0.0, ...</td>\n",
       "        <td style=\"padding-left: 1em; padding-right: 1em; text-align: center; vertical-align: top\">[73.0, 77.0, 58.0, 71.0,<br>68.0, 50.0, 77.0, 69.0, ...</td>\n",
       "    </tr>\n",
       "    <tr>\n",
       "        <td style=\"padding-left: 1em; padding-right: 1em; text-align: center; vertical-align: top\">33</td>\n",
       "        <td style=\"padding-left: 1em; padding-right: 1em; text-align: center; vertical-align: top\">Height: 32 Width: 32</td>\n",
       "        <td style=\"padding-left: 1em; padding-right: 1em; text-align: center; vertical-align: top\">cat</td>\n",
       "        <td style=\"padding-left: 1em; padding-right: 1em; text-align: center; vertical-align: top\">[0.525087952614, 0.0,<br>0.0, 0.0, 0.0, 0.0, ...</td>\n",
       "        <td style=\"padding-left: 1em; padding-right: 1em; text-align: center; vertical-align: top\">[7.0, 5.0, 8.0, 7.0, 5.0,<br>8.0, 5.0, 4.0, 6.0, 7.0, ...</td>\n",
       "    </tr>\n",
       "    <tr>\n",
       "        <td style=\"padding-left: 1em; padding-right: 1em; text-align: center; vertical-align: top\">36</td>\n",
       "        <td style=\"padding-left: 1em; padding-right: 1em; text-align: center; vertical-align: top\">Height: 32 Width: 32</td>\n",
       "        <td style=\"padding-left: 1em; padding-right: 1em; text-align: center; vertical-align: top\">cat</td>\n",
       "        <td style=\"padding-left: 1em; padding-right: 1em; text-align: center; vertical-align: top\">[0.566015958786, 0.0,<br>0.0, 0.0, 0.0, 0.0, ...</td>\n",
       "        <td style=\"padding-left: 1em; padding-right: 1em; text-align: center; vertical-align: top\">[169.0, 122.0, 65.0,<br>131.0, 108.0, 75.0, ...</td>\n",
       "    </tr>\n",
       "    <tr>\n",
       "        <td style=\"padding-left: 1em; padding-right: 1em; text-align: center; vertical-align: top\">70</td>\n",
       "        <td style=\"padding-left: 1em; padding-right: 1em; text-align: center; vertical-align: top\">Height: 32 Width: 32</td>\n",
       "        <td style=\"padding-left: 1em; padding-right: 1em; text-align: center; vertical-align: top\">dog</td>\n",
       "        <td style=\"padding-left: 1em; padding-right: 1em; text-align: center; vertical-align: top\">[1.12979578972, 0.0, 0.0,<br>0.778194487095, 0.0, ...</td>\n",
       "        <td style=\"padding-left: 1em; padding-right: 1em; text-align: center; vertical-align: top\">[154.0, 179.0, 152.0,<br>159.0, 183.0, 157.0, ...</td>\n",
       "    </tr>\n",
       "    <tr>\n",
       "        <td style=\"padding-left: 1em; padding-right: 1em; text-align: center; vertical-align: top\">90</td>\n",
       "        <td style=\"padding-left: 1em; padding-right: 1em; text-align: center; vertical-align: top\">Height: 32 Width: 32</td>\n",
       "        <td style=\"padding-left: 1em; padding-right: 1em; text-align: center; vertical-align: top\">bird</td>\n",
       "        <td style=\"padding-left: 1em; padding-right: 1em; text-align: center; vertical-align: top\">[1.71786928177, 0.0, 0.0,<br>0.0, 0.0, 0.0, ...</td>\n",
       "        <td style=\"padding-left: 1em; padding-right: 1em; text-align: center; vertical-align: top\">[216.0, 195.0, 180.0,<br>201.0, 178.0, 160.0, ...</td>\n",
       "    </tr>\n",
       "    <tr>\n",
       "        <td style=\"padding-left: 1em; padding-right: 1em; text-align: center; vertical-align: top\">97</td>\n",
       "        <td style=\"padding-left: 1em; padding-right: 1em; text-align: center; vertical-align: top\">Height: 32 Width: 32</td>\n",
       "        <td style=\"padding-left: 1em; padding-right: 1em; text-align: center; vertical-align: top\">automobile</td>\n",
       "        <td style=\"padding-left: 1em; padding-right: 1em; text-align: center; vertical-align: top\">[1.57818555832, 0.0, 0.0,<br>0.0, 0.0, 0.0, ...</td>\n",
       "        <td style=\"padding-left: 1em; padding-right: 1em; text-align: center; vertical-align: top\">[33.0, 44.0, 27.0, 29.0,<br>44.0, 31.0, 32.0, 45.0, ...</td>\n",
       "    </tr>\n",
       "    <tr>\n",
       "        <td style=\"padding-left: 1em; padding-right: 1em; text-align: center; vertical-align: top\">107</td>\n",
       "        <td style=\"padding-left: 1em; padding-right: 1em; text-align: center; vertical-align: top\">Height: 32 Width: 32</td>\n",
       "        <td style=\"padding-left: 1em; padding-right: 1em; text-align: center; vertical-align: top\">dog</td>\n",
       "        <td style=\"padding-left: 1em; padding-right: 1em; text-align: center; vertical-align: top\">[0.0, 0.0,<br>0.220677852631, 0.0,  ...</td>\n",
       "        <td style=\"padding-left: 1em; padding-right: 1em; text-align: center; vertical-align: top\">[97.0, 51.0, 31.0, 104.0,<br>58.0, 38.0, 107.0, 61.0, ...</td>\n",
       "    </tr>\n",
       "    <tr>\n",
       "        <td style=\"padding-left: 1em; padding-right: 1em; text-align: center; vertical-align: top\">121</td>\n",
       "        <td style=\"padding-left: 1em; padding-right: 1em; text-align: center; vertical-align: top\">Height: 32 Width: 32</td>\n",
       "        <td style=\"padding-left: 1em; padding-right: 1em; text-align: center; vertical-align: top\">bird</td>\n",
       "        <td style=\"padding-left: 1em; padding-right: 1em; text-align: center; vertical-align: top\">[0.0, 0.23753464222, 0.0,<br>0.0, 0.0, 0.0, ...</td>\n",
       "        <td style=\"padding-left: 1em; padding-right: 1em; text-align: center; vertical-align: top\">[93.0, 96.0, 88.0, 102.0,<br>106.0, 97.0, 117.0, ...</td>\n",
       "    </tr>\n",
       "    <tr>\n",
       "        <td style=\"padding-left: 1em; padding-right: 1em; text-align: center; vertical-align: top\">136</td>\n",
       "        <td style=\"padding-left: 1em; padding-right: 1em; text-align: center; vertical-align: top\">Height: 32 Width: 32</td>\n",
       "        <td style=\"padding-left: 1em; padding-right: 1em; text-align: center; vertical-align: top\">automobile</td>\n",
       "        <td style=\"padding-left: 1em; padding-right: 1em; text-align: center; vertical-align: top\">[0.0, 0.0, 0.0, 0.0, 0.0,<br>0.0, 7.5737862587, 0.0, ...</td>\n",
       "        <td style=\"padding-left: 1em; padding-right: 1em; text-align: center; vertical-align: top\">[35.0, 59.0, 53.0, 36.0,<br>56.0, 56.0, 42.0, 62.0, ...</td>\n",
       "    </tr>\n",
       "    <tr>\n",
       "        <td style=\"padding-left: 1em; padding-right: 1em; text-align: center; vertical-align: top\">138</td>\n",
       "        <td style=\"padding-left: 1em; padding-right: 1em; text-align: center; vertical-align: top\">Height: 32 Width: 32</td>\n",
       "        <td style=\"padding-left: 1em; padding-right: 1em; text-align: center; vertical-align: top\">bird</td>\n",
       "        <td style=\"padding-left: 1em; padding-right: 1em; text-align: center; vertical-align: top\">[0.658935725689, 0.0,<br>0.0, 0.0, 0.0, 0.0, ...</td>\n",
       "        <td style=\"padding-left: 1em; padding-right: 1em; text-align: center; vertical-align: top\">[205.0, 193.0, 195.0,<br>200.0, 187.0, 193.0, ...</td>\n",
       "    </tr>\n",
       "</table>\n",
       "[10 rows x 5 columns]<br/>\n",
       "</div>"
      ],
      "text/plain": [
       "Columns:\n",
       "\tid\tint\n",
       "\timage\tImage\n",
       "\tlabel\tstr\n",
       "\tdeep_features\tarray\n",
       "\timage_array\tarray\n",
       "\n",
       "Rows: 10\n",
       "\n",
       "Data:\n",
       "+-----+----------------------+------------+-------------------------------+\n",
       "|  id |        image         |   label    |         deep_features         |\n",
       "+-----+----------------------+------------+-------------------------------+\n",
       "|  24 | Height: 32 Width: 32 |    bird    | [0.242871761322, 1.0954537... |\n",
       "|  33 | Height: 32 Width: 32 |    cat     | [0.525087952614, 0.0, 0.0,... |\n",
       "|  36 | Height: 32 Width: 32 |    cat     | [0.566015958786, 0.0, 0.0,... |\n",
       "|  70 | Height: 32 Width: 32 |    dog     | [1.12979578972, 0.0, 0.0, ... |\n",
       "|  90 | Height: 32 Width: 32 |    bird    | [1.71786928177, 0.0, 0.0, ... |\n",
       "|  97 | Height: 32 Width: 32 | automobile | [1.57818555832, 0.0, 0.0, ... |\n",
       "| 107 | Height: 32 Width: 32 |    dog     | [0.0, 0.0, 0.220677852631,... |\n",
       "| 121 | Height: 32 Width: 32 |    bird    | [0.0, 0.23753464222, 0.0, ... |\n",
       "| 136 | Height: 32 Width: 32 | automobile | [0.0, 0.0, 0.0, 0.0, 0.0, ... |\n",
       "| 138 | Height: 32 Width: 32 |    bird    | [0.658935725689, 0.0, 0.0,... |\n",
       "+-----+----------------------+------------+-------------------------------+\n",
       "+-------------------------------+\n",
       "|          image_array          |\n",
       "+-------------------------------+\n",
       "| [73.0, 77.0, 58.0, 71.0, 6... |\n",
       "| [7.0, 5.0, 8.0, 7.0, 5.0, ... |\n",
       "| [169.0, 122.0, 65.0, 131.0... |\n",
       "| [154.0, 179.0, 152.0, 159.... |\n",
       "| [216.0, 195.0, 180.0, 201.... |\n",
       "| [33.0, 44.0, 27.0, 29.0, 4... |\n",
       "| [97.0, 51.0, 31.0, 104.0, ... |\n",
       "| [93.0, 96.0, 88.0, 102.0, ... |\n",
       "| [35.0, 59.0, 53.0, 36.0, 5... |\n",
       "| [205.0, 193.0, 195.0, 200.... |\n",
       "+-------------------------------+\n",
       "[10 rows x 5 columns]"
      ]
     },
     "execution_count": 101,
     "metadata": {},
     "output_type": "execute_result"
    }
   ],
   "source": [
    "image_train.head()"
   ]
  },
  {
   "cell_type": "markdown",
   "metadata": {},
   "source": [
    "# Train a nearest-neighbors model for retrieving images using deep features\n",
    "\n",
    "We will now build a simple image retrieval system that finds the nearest neighbors for any image."
   ]
  },
  {
   "cell_type": "code",
   "execution_count": 102,
   "metadata": {
    "collapsed": false
   },
   "outputs": [
    {
     "name": "stdout",
     "output_type": "stream",
     "text": [
      "PROGRESS: Starting brute force nearest neighbors model training.\n"
     ]
    }
   ],
   "source": [
    "knn_model = graphlab.nearest_neighbors.create(image_train,features=['deep_features'],\n",
    "                                             label='id')"
   ]
  },
  {
   "cell_type": "markdown",
   "metadata": {},
   "source": [
    "# Use image retrieval model with deep features to find similar images\n",
    "\n",
    "Let's find similar images to this cat picture."
   ]
  },
  {
   "cell_type": "code",
   "execution_count": 103,
   "metadata": {
    "collapsed": false
   },
   "outputs": [
    {
     "data": {
      "application/javascript": [
       "$(\"head\").append($(\"<link/>\").attr({\n",
       "  rel:  \"stylesheet\",\n",
       "  type: \"text/css\",\n",
       "  href: \"//cdnjs.cloudflare.com/ajax/libs/font-awesome/4.1.0/css/font-awesome.min.css\"\n",
       "}));\n",
       "$(\"head\").append($(\"<link/>\").attr({\n",
       "  rel:  \"stylesheet\",\n",
       "  type: \"text/css\",\n",
       "  href: \"//dato.com/files/canvas/1.8.1/css/canvas.css\"\n",
       "}));\n",
       "\n",
       "            (function(){\n",
       "\n",
       "                var e = null;\n",
       "                if (typeof element == 'undefined') {\n",
       "                    var scripts = document.getElementsByTagName('script');\n",
       "                    var thisScriptTag = scripts[scripts.length-1];\n",
       "                    var parentDiv = thisScriptTag.parentNode;\n",
       "                    e = document.createElement('div');\n",
       "                    parentDiv.appendChild(e);\n",
       "                } else {\n",
       "                    e = element[0];\n",
       "                }\n",
       "\n",
       "                if (typeof requirejs !== 'undefined') {\n",
       "                    // disable load timeout; ipython_app.js is large and can take a while to load.\n",
       "                    requirejs.config({waitSeconds: 0});\n",
       "                }\n",
       "\n",
       "                require(['//dato.com/files/canvas/1.8.1/js/ipython_app.js'], function(IPythonApp){\n",
       "                    var app = new IPythonApp();\n",
       "                    app.attachView('sarray','Images', {\"ipython\": true, \"rows\": [{\"format\": \"raw\", \"value\": [46, 45, 50, 47, 45, 51, 45, 44, 49, 41, 40, 45, 35, 34, 39, 28, 27, 32, 22, 21, 25, 16, 15, 18, 12, 12, 14, 12, 11, 14, 10, 10, 13, 8, 8, 10, 5, 5, 7, 3, 2, 4, 2, 2, 3, 2, 2, 2, 3, 3, 3, 4, 4, 4, 3, 3, 3, 3, 3, 3, 4, 4, 4, 5, 5, 6, 4, 3, 7, 4, 3, 8, 4, 3, 8, 4, 3, 8, 4, 3, 8, 4, 3, 8, 4, 3, 8, 4, 3, 9, 4, 3, 11, 4, 3, 11, 40, 39, 44, 43, 42, 47, 43, 42, 47, 39, 38, 43, 35, 34, 39, 30, 29, 34, 34, 32, 34, 52, 49, 47, 54, 52, 48, 31, 29, 27, 11, 11, 9, 8, 8, 7, 5, 6, 5, 3, 4, 4, 2, 3, 3, 2, 2, 2, 2, 2, 2, 2, 2, 2, 3, 3, 3, 4, 4, 4, 5, 5, 5, 6, 6, 6, 5, 5, 7, 5, 4, 7, 5, 5, 7, 5, 5, 7, 4, 4, 6, 4, 4, 6, 4, 4, 6, 4, 3, 9, 4, 3, 12, 5, 3, 12, 38, 37, 42, 41, 40, 45, 42, 41, 46, 40, 39, 44, 36, 35, 40, 37, 36, 40, 62, 57, 58, 101, 91, 84, 119, 108, 101, 108, 100, 94, 59, 52, 49, 18, 14, 12, 9, 6, 6, 8, 6, 6, 5, 5, 5, 3, 3, 3, 2, 2, 2, 2, 2, 2, 4, 4, 4, 5, 5, 5, 7, 7, 6, 7, 7, 7, 6, 6, 6, 6, 6, 7, 8, 8, 8, 6, 6, 6, 4, 4, 4, 3, 3, 4, 3, 4, 4, 4, 4, 6, 3, 3, 7, 2, 2, 6, 38, 37, 42, 41, 40, 46, 43, 42, 47, 41, 40, 46, 38, 37, 42, 41, 40, 44, 72, 65, 64, 107, 91, 85, 123, 105, 97, 139, 123, 116, 135, 122, 117, 77, 66, 64, 21, 14, 13, 9, 5, 5, 7, 5, 7, 5, 5, 6, 4, 4, 5, 4, 5, 6, 5, 6, 7, 6, 6, 7, 8, 8, 9, 8, 8, 9, 8, 7, 7, 9, 9, 8, 9, 9, 9, 6, 7, 6, 5, 5, 4, 6, 5, 5, 7, 5, 4, 5, 3, 2, 7, 5, 2, 31, 29, 26, 36, 37, 42, 39, 39, 46, 40, 39, 48, 41, 40, 47, 38, 36, 41, 41, 39, 40, 72, 65, 63, 109, 95, 90, 129, 113, 105, 143, 126, 115, 154, 137, 125, 143, 130, 119, 84, 75, 66, 26, 21, 15, 12, 8, 6, 9, 6, 6, 2, 1, 1, 0, 0, 0, 0, 0, 0, 2, 3, 3, 7, 5, 6, 7, 4, 6, 8, 5, 7, 6, 8, 7, 3, 9, 6, 2, 9, 5, 3, 8, 4, 5, 4, 2, 13, 5, 5, 38, 26, 21, 87, 75, 64, 129, 119, 108, 34, 36, 41, 37, 37, 45, 39, 37, 47, 39, 38, 45, 37, 35, 40, 38, 35, 37, 65, 57, 54, 102, 88, 81, 124, 107, 96, 145, 126, 111, 162, 141, 123, 164, 143, 124, 154, 133, 114, 122, 102, 84, 106, 87, 70, 97, 80, 64, 77, 65, 50, 68, 60, 46, 61, 55, 42, 47, 41, 29, 46, 39, 29, 54, 44, 36, 52, 44, 37, 38, 34, 26, 23, 23, 14, 13, 15, 6, 16, 15, 8, 35, 29, 23, 73, 61, 56, 121, 106, 95, 160, 146, 133, 167, 157, 147, 35, 37, 41, 37, 37, 45, 39, 37, 47, 39, 37, 45, 38, 35, 40, 38, 35, 36, 62, 53, 48, 103, 86, 73, 132, 112, 95, 156, 134, 116, 173, 148, 128, 187, 159, 136, 194, 162, 137, 195, 161, 135, 192, 160, 132, 191, 163, 133, 197, 173, 144, 205, 186, 157, 186, 169, 141, 165, 147, 122, 170, 150, 126, 173, 150, 126, 169, 143, 116, 152, 127, 99, 128, 106, 78, 108, 86, 60, 108, 85, 61, 130, 105, 83, 155, 129, 108, 169, 148, 133, 178, 164, 153, 176, 167, 161, 35, 37, 41, 37, 36, 44, 39, 37, 47, 40, 39, 46, 41, 39, 44, 47, 44, 46, 83, 73, 65, 129, 109, 89, 153, 131, 108, 163, 141, 121, 160, 135, 116, 158, 130, 109, 183, 150, 127, 196, 160, 135, 204, 171, 145, 194, 166, 139, 205, 179, 150, 211, 187, 156, 187, 162, 130, 198, 170, 137, 199, 166, 134, 194, 158, 124, 199, 163, 125, 199, 164, 125, 196, 162, 124, 191, 157, 122, 180, 147, 114, 171, 140, 109, 175, 146, 117, 180, 160, 143, 187, 175, 167, 180, 172, 168, 37, 38, 43, 38, 39, 46, 39, 40, 48, 42, 40, 46, 50, 44, 44, 76, 66, 60, 108, 92, 78, 109, 85, 65, 96, 71, 52, 109, 85, 69, 141, 120, 104, 155, 134, 117, 180, 155, 136, 200, 169, 149, 210, 184, 162, 218, 196, 175, 229, 206, 185, 207, 183, 161, 167, 140, 117, 161, 130, 104, 166, 132, 104, 182, 147, 116, 196, 163, 129, 199, 167, 131, 198, 165, 131, 198, 165, 133, 197, 167, 137, 196, 169, 141, 193, 170, 145, 183, 169, 154, 182, 174, 166, 179, 172, 166, 38, 39, 44, 37, 39, 46, 37, 38, 43, 46, 41, 40, 74, 59, 48, 124, 100, 79, 139, 111, 86, 96, 66, 44, 73, 37, 20, 106, 67, 53, 149, 114, 100, 173, 147, 128, 191, 166, 145, 197, 168, 146, 208, 182, 157, 210, 187, 163, 191, 166, 146, 134, 107, 90, 82, 54, 38, 80, 52, 35, 105, 76, 55, 128, 97, 70, 174, 141, 110, 195, 160, 126, 193, 155, 120, 193, 155, 120, 194, 159, 126, 199, 168, 138, 198, 171, 145, 169, 149, 131, 154, 137, 124, 163, 145, 134, 42, 42, 49, 43, 43, 47, 48, 44, 42, 62, 51, 42, 85, 63, 46, 113, 82, 58, 137, 108, 80, 142, 114, 88, 122, 80, 63, 131, 74, 64, 138, 83, 73, 142, 99, 84, 169, 137, 116, 187, 160, 135, 190, 161, 131, 164, 133, 101, 160, 128, 97, 147, 114, 83, 144, 110, 78, 155, 120, 85, 176, 141, 103, 169, 134, 95, 184, 148, 111, 199, 161, 125, 195, 157, 120, 191, 153, 116, 196, 159, 123, 195, 160, 125, 190, 156, 124, 169, 135, 112, 140, 106, 89, 148, 113, 97, 42, 42, 50, 50, 48, 48, 71, 64, 56, 95, 81, 67, 98, 77, 58, 117, 90, 70, 140, 118, 100, 167, 153, 139, 182, 154, 150, 166, 123, 127, 188, 146, 152, 215, 186, 186, 220, 203, 196, 211, 197, 185, 202, 178, 155, 193, 161, 131, 184, 151, 119, 177, 144, 107, 170, 137, 97, 174, 140, 98, 183, 148, 106, 186, 151, 111, 187, 153, 116, 197, 163, 127, 205, 172, 137, 196, 163, 128, 192, 158, 122, 200, 165, 128, 198, 162, 124, 192, 159, 127, 191, 159, 131, 189, 158, 129, 53, 50, 59, 65, 61, 59, 90, 83, 72, 106, 96, 81, 119, 105, 92, 149, 133, 123, 158, 144, 138, 162, 152, 149, 169, 151, 154, 152, 128, 136, 171, 152, 160, 203, 194, 197, 216, 210, 209, 205, 195, 192, 201, 181, 171, 209, 184, 167, 213, 187, 164, 203, 177, 147, 191, 164, 129, 182, 154, 118, 185, 156, 121, 191, 162, 128, 198, 169, 135, 215, 188, 156, 234, 208, 177, 226, 201, 170, 196, 169, 136, 194, 162, 126, 203, 168, 130, 198, 164, 128, 197, 166, 132, 204, 175, 142, 58, 57, 63, 78, 72, 69, 104, 93, 83, 117, 104, 90, 130, 116, 104, 141, 127, 120, 140, 125, 120, 128, 110, 107, 117, 96, 96, 122, 102, 103, 139, 122, 123, 156, 143, 143, 182, 168, 167, 192, 174, 173, 191, 172, 164, 196, 177, 163, 218, 200, 183, 225, 208, 186, 218, 200, 177, 204, 186, 161, 188, 167, 140, 179, 155, 127, 181, 155, 124, 183, 157, 127, 197, 173, 144, 225, 201, 172, 222, 197, 168, 190, 163, 132, 180, 151, 119, 188, 156, 120, 196, 161, 125, 198, 163, 129, 72, 73, 76, 86, 78, 74, 99, 83, 73, 107, 86, 73, 112, 91, 78, 111, 93, 80, 106, 88, 81, 113, 95, 92, 143, 125, 124, 172, 155, 154, 180, 164, 164, 171, 154, 155, 156, 141, 142, 157, 142, 143, 167, 153, 144, 180, 168, 154, 194, 183, 170, 216, 207, 194, 231, 223, 207, 232, 220, 202, 210, 196, 174, 190, 171, 146, 186, 163, 135, 181, 156, 127, 170, 145, 115, 187, 161, 131, 218, 190, 161, 217, 189, 159, 197, 168, 138, 188, 156, 121, 189, 155, 117, 186, 152, 115, 55, 54, 55, 71, 62, 57, 87, 69, 58, 96, 75, 60, 96, 74, 59, 94, 74, 61, 93, 76, 67, 117, 103, 99, 154, 141, 139, 176, 165, 163, 200, 190, 190, 212, 204, 206, 196, 190, 193, 167, 162, 165, 150, 145, 142, 160, 156, 148, 164, 162, 155, 191, 189, 181, 226, 223, 213, 238, 232, 217, 221, 212, 193, 205, 190, 168, 193, 173, 148, 192, 169, 143, 190, 166, 138, 177, 150, 120, 181, 151, 119, 197, 164, 130, 209, 175, 139, 207, 173, 136, 200, 167, 129, 189, 156, 119, 48, 46, 46, 73, 62, 56, 87, 68, 56, 91, 68, 52, 94, 71, 55, 101, 79, 65, 113, 95, 84, 129, 115, 105, 141, 130, 122, 155, 146, 140, 182, 176, 172, 198, 195, 193, 206, 206, 206, 210, 211, 213, 204, 205, 203, 211, 212, 208, 206, 208, 204, 211, 213, 208, 239, 239, 230, 247, 242, 228, 230, 219, 201, 214, 198, 176, 192, 169, 144, 180, 155, 127, 184, 157, 127, 183, 154, 122, 174, 142, 109, 167, 133, 98, 171, 136, 100, 177, 144, 108, 193, 161, 124, 191, 160, 124, 51, 47, 48, 65, 53, 46, 78, 59, 45, 88, 63, 47, 92, 67, 51, 98, 75, 60, 111, 92, 77, 122, 106, 90, 127, 113, 99, 131, 121, 108, 145, 137, 128, 158, 155, 148, 162, 162, 157, 175, 177, 174, 192, 194, 191, 214, 215, 212, 219, 221, 217, 226, 227, 220, 237, 234, 224, 237, 229, 213, 226, 213, 192, 212, 193, 167, 193, 166, 136, 180, 150, 119, 180, 150, 118, 184, 154, 122, 191, 161, 128, 192, 162, 130, 190, 159, 127, 186, 156, 122, 194, 164, 129, 193, 163, 129, 52, 48, 51, 64, 54, 49, 82, 65, 53, 95, 72, 56, 97, 71, 56, 95, 69, 56, 99, 75, 62, 105, 87, 72, 112, 96, 82, 120, 106, 93, 124, 114, 102, 131, 123, 112, 141, 135, 126, 152, 148, 139, 170, 169, 161, 180, 180, 171, 192, 189, 177, 207, 200, 185, 215, 204, 186, 213, 200, 179, 204, 190, 168, 203, 188, 164, 205, 187, 160, 209, 189, 162, 209, 187, 160, 209, 187, 160, 211, 188, 160, 209, 184, 157, 204, 178, 151, 198, 172, 143, 195, 168, 138, 186, 159, 130, 55, 51, 56, 62, 53, 50, 78, 63, 51, 98, 76, 61, 108, 83, 66, 110, 82, 69, 106, 80, 66, 102, 79, 64, 108, 87, 71, 116, 97, 82, 119, 103, 88, 124, 111, 96, 132, 121, 106, 152, 142, 128, 169, 162, 147, 172, 165, 149, 187, 176, 158, 185, 172, 151, 194, 179, 156, 213, 200, 178, 215, 203, 184, 222, 212, 192, 229, 217, 194, 229, 216, 192, 224, 209, 184, 221, 203, 179, 219, 199, 173, 211, 188, 162, 203, 180, 154, 196, 171, 145, 193, 167, 140, 187, 160, 133, 54, 50, 53, 60, 52, 46, 68, 53, 39, 84, 63, 45, 102, 77, 58, 111, 84, 68, 110, 82, 66, 110, 84, 65, 120, 94, 74, 124, 101, 82, 126, 106, 87, 127, 110, 91, 122, 105, 87, 122, 106, 89, 122, 108, 90, 139, 124, 106, 148, 132, 111, 138, 121, 98, 160, 143, 121, 175, 161, 141, 182, 170, 153, 208, 198, 180, 222, 209, 187, 221, 206, 182, 210, 194, 170, 201, 182, 158, 200, 179, 153, 200, 178, 151, 200, 176, 150, 197, 171, 144, 197, 169, 141, 190, 161, 134, 52, 49, 50, 62, 54, 46, 68, 54, 38, 77, 56, 36, 91, 66, 45, 101, 74, 56, 103, 76, 59, 110, 84, 65, 126, 101, 82, 137, 114, 94, 139, 119, 100, 141, 123, 105, 138, 122, 104, 131, 116, 99, 129, 115, 98, 141, 126, 108, 135, 117, 96, 127, 107, 84, 147, 126, 103, 140, 119, 98, 149, 132, 112, 181, 167, 146, 183, 169, 147, 183, 169, 145, 190, 175, 150, 193, 175, 150, 197, 177, 151, 196, 173, 147, 199, 175, 149, 199, 172, 143, 194, 164, 132, 187, 157, 125, 54, 51, 50, 68, 59, 49, 78, 63, 45, 86, 64, 43, 94, 68, 47, 99, 72, 53, 102, 76, 59, 110, 87, 71, 128, 107, 90, 145, 126, 108, 151, 134, 116, 153, 137, 121, 156, 142, 125, 158, 145, 129, 161, 149, 135, 173, 160, 145, 173, 156, 138, 153, 133, 111, 157, 135, 111, 153, 129, 104, 158, 136, 111, 157, 137, 113, 164, 148, 124, 186, 171, 147, 205, 188, 163, 209, 190, 165, 207, 186, 160, 204, 181, 154, 196, 171, 144, 184, 156, 123, 188, 158, 120, 193, 162, 124, 57, 53, 50, 83, 71, 56, 92, 72, 50, 93, 66, 46, 93, 64, 46, 103, 75, 55, 113, 88, 68, 113, 92, 75, 122, 102, 85, 138, 119, 99, 154, 137, 115, 179, 163, 141, 187, 171, 151, 177, 162, 145, 164, 148, 133, 174, 158, 142, 190, 176, 160, 190, 177, 158, 194, 180, 158, 179, 163, 136, 174, 156, 125, 169, 148, 117, 177, 154, 126, 178, 155, 127, 182, 157, 129, 189, 163, 135, 194, 167, 137, 190, 162, 132, 180, 151, 120, 191, 158, 124, 202, 166, 130, 196, 159, 122, 50, 45, 41, 77, 64, 46, 87, 65, 42, 97, 67, 47, 107, 75, 57, 113, 84, 62, 115, 87, 63, 120, 92, 70, 137, 110, 87, 159, 135, 110, 177, 157, 131, 193, 176, 152, 202, 187, 167, 196, 181, 165, 185, 172, 154, 184, 170, 151, 188, 175, 156, 208, 195, 175, 193, 179, 156, 196, 177, 150, 199, 175, 144, 198, 171, 137, 192, 162, 129, 186, 155, 122, 181, 149, 116, 177, 144, 110, 174, 140, 105, 180, 145, 110, 192, 157, 121, 202, 163, 126, 201, 160, 122, 196, 154, 116, 47, 40, 35, 87, 73, 54, 104, 80, 56, 113, 82, 61, 119, 86, 66, 122, 91, 67, 129, 97, 70, 138, 103, 75, 142, 108, 80, 150, 120, 90, 169, 144, 115, 190, 170, 143, 198, 181, 159, 199, 183, 165, 204, 190, 168, 211, 197, 174, 207, 193, 170, 194, 178, 154, 185, 166, 141, 203, 178, 149, 198, 167, 134, 199, 165, 130, 202, 167, 131, 197, 161, 124, 192, 154, 117, 195, 157, 118, 202, 163, 123, 208, 168, 127, 205, 164, 123, 190, 148, 107, 179, 137, 95, 180, 138, 96, 67, 59, 52, 106, 89, 69, 117, 91, 66, 117, 84, 62, 120, 85, 64, 131, 98, 73, 136, 103, 74, 138, 101, 73, 141, 105, 75, 153, 119, 87, 167, 137, 103, 181, 154, 122, 187, 161, 133, 196, 171, 145, 211, 188, 163, 201, 180, 156, 187, 167, 143, 205, 186, 160, 194, 173, 144, 190, 165, 132, 195, 165, 129, 201, 168, 130, 208, 172, 135, 211, 175, 138, 208, 170, 133, 198, 159, 121, 187, 147, 108, 187, 146, 106, 196, 155, 114, 196, 157, 116, 197, 159, 118, 200, 163, 123, 71, 63, 54, 113, 97, 77, 130, 105, 81, 134, 103, 81, 144, 113, 91, 151, 122, 97, 150, 122, 94, 152, 121, 93, 161, 129, 99, 173, 142, 110, 182, 151, 117, 188, 157, 124, 187, 157, 125, 183, 153, 123, 189, 161, 135, 193, 167, 143, 188, 164, 138, 213, 189, 163, 206, 182, 153, 196, 172, 139, 199, 173, 136, 211, 181, 144, 217, 183, 148, 217, 181, 147, 210, 174, 138, 197, 161, 123, 195, 158, 119, 200, 163, 121, 202, 164, 123, 201, 165, 125, 205, 171, 132, 219, 186, 148, 60, 56, 42, 101, 88, 70, 119, 97, 76, 135, 109, 85, 148, 124, 98, 147, 126, 99, 153, 132, 105, 166, 142, 116, 174, 149, 122, 180, 155, 128, 185, 159, 133, 193, 167, 141, 206, 180, 154, 191, 165, 139, 185, 163, 138, 208, 187, 163, 186, 165, 140, 221, 199, 173, 222, 199, 172, 193, 169, 141, 207, 182, 153, 227, 200, 170, 227, 195, 165, 226, 192, 160, 224, 190, 155, 221, 188, 150, 214, 181, 141, 213, 181, 138, 221, 189, 144, 217, 186, 145, 212, 181, 144, 208, 177, 141, 60, 55, 41, 83, 69, 52, 94, 72, 49, 111, 83, 56, 120, 90, 61, 132, 103, 73, 153, 126, 96, 163, 136, 109, 164, 137, 111, 175, 148, 122, 188, 161, 135, 195, 168, 142, 202, 176, 150, 189, 162, 136, 184, 157, 130, 199, 171, 143, 166, 137, 108, 189, 160, 130, 232, 202, 170, 219, 187, 156, 176, 144, 112, 196, 164, 130, 221, 188, 153, 223, 190, 154, 219, 186, 148, 214, 181, 141, 211, 179, 137, 209, 177, 133, 211, 179, 134, 205, 171, 130, 191, 155, 118, 175, 140, 103, 52, 46, 36, 77, 66, 52, 87, 70, 51, 92, 71, 48, 95, 71, 47, 110, 84, 60, 135, 108, 83, 151, 122, 95, 152, 122, 96, 149, 119, 92, 151, 121, 95, 170, 140, 113, 188, 158, 132, 192, 162, 136, 182, 150, 121, 172, 138, 108, 169, 135, 104, 162, 127, 95, 176, 140, 106, 194, 157, 122, 180, 143, 108, 154, 117, 82, 173, 137, 102, 188, 153, 117, 193, 158, 121, 180, 146, 108, 168, 133, 95, 169, 134, 95, 173, 139, 99, 175, 139, 102, 171, 132, 97, 154, 116, 81, 41, 38, 36, 52, 49, 43, 49, 45, 36, 35, 30, 21, 35, 27, 19, 37, 28, 22, 46, 35, 29, 70, 57, 49, 75, 62, 53, 73, 60, 52, 79, 66, 58, 84, 70, 61, 88, 75, 65, 89, 75, 67, 90, 75, 65, 81, 65, 53, 84, 68, 57, 82, 66, 54, 76, 58, 46, 78, 59, 44, 81, 62, 48, 83, 63, 49, 78, 60, 48, 78, 59, 48, 69, 51, 40, 58, 40, 30, 50, 32, 22, 60, 42, 31, 86, 68, 55, 95, 77, 64, 87, 69, 59, 87, 69, 58], \"height\": 32, \"channels\": 3, \"width\": 32, \"type\": \"image\", \"id\": 140365507236496}], \"selected_variable\": {\"name\": [\"<SArray>\"], \"dtype\": \"Image\", \"view_component\": \"Images\", \"view_file\": \"sarray\", \"descriptives\": {\"rows\": 1}, \"type\": \"SArray\", \"view_components\": [\"Images\"]}}, e);\n",
       "                });\n",
       "            })();\n",
       "        "
      ]
     },
     "metadata": {},
     "output_type": "display_data"
    }
   ],
   "source": [
    "graphlab.canvas.set_target('ipynb')\n",
    "cat = image_train[18:19]\n",
    "cat['image'].show()"
   ]
  },
  {
   "cell_type": "code",
   "execution_count": 104,
   "metadata": {
    "collapsed": false
   },
   "outputs": [
    {
     "name": "stdout",
     "output_type": "stream",
     "text": [
      "PROGRESS: Starting pairwise querying.\n",
      "PROGRESS: +--------------+---------+-------------+--------------+\n",
      "PROGRESS: | Query points | # Pairs | % Complete. | Elapsed Time |\n",
      "PROGRESS: +--------------+---------+-------------+--------------+\n",
      "PROGRESS: | 0            | 1       | 0.0498753   | 3.32ms       |\n",
      "PROGRESS: | Done         |         | 100         | 116.927ms    |\n",
      "PROGRESS: +--------------+---------+-------------+--------------+\n"
     ]
    },
    {
     "data": {
      "text/html": [
       "<div style=\"max-height:1000px;max-width:1500px;overflow:auto;\"><table frame=\"box\" rules=\"cols\">\n",
       "    <tr>\n",
       "        <th style=\"padding-left: 1em; padding-right: 1em; text-align: center\">query_label</th>\n",
       "        <th style=\"padding-left: 1em; padding-right: 1em; text-align: center\">reference_label</th>\n",
       "        <th style=\"padding-left: 1em; padding-right: 1em; text-align: center\">distance</th>\n",
       "        <th style=\"padding-left: 1em; padding-right: 1em; text-align: center\">rank</th>\n",
       "    </tr>\n",
       "    <tr>\n",
       "        <td style=\"padding-left: 1em; padding-right: 1em; text-align: center; vertical-align: top\">0</td>\n",
       "        <td style=\"padding-left: 1em; padding-right: 1em; text-align: center; vertical-align: top\">384</td>\n",
       "        <td style=\"padding-left: 1em; padding-right: 1em; text-align: center; vertical-align: top\">0.0</td>\n",
       "        <td style=\"padding-left: 1em; padding-right: 1em; text-align: center; vertical-align: top\">1</td>\n",
       "    </tr>\n",
       "    <tr>\n",
       "        <td style=\"padding-left: 1em; padding-right: 1em; text-align: center; vertical-align: top\">0</td>\n",
       "        <td style=\"padding-left: 1em; padding-right: 1em; text-align: center; vertical-align: top\">6910</td>\n",
       "        <td style=\"padding-left: 1em; padding-right: 1em; text-align: center; vertical-align: top\">36.9403137951</td>\n",
       "        <td style=\"padding-left: 1em; padding-right: 1em; text-align: center; vertical-align: top\">2</td>\n",
       "    </tr>\n",
       "    <tr>\n",
       "        <td style=\"padding-left: 1em; padding-right: 1em; text-align: center; vertical-align: top\">0</td>\n",
       "        <td style=\"padding-left: 1em; padding-right: 1em; text-align: center; vertical-align: top\">39777</td>\n",
       "        <td style=\"padding-left: 1em; padding-right: 1em; text-align: center; vertical-align: top\">38.4634888975</td>\n",
       "        <td style=\"padding-left: 1em; padding-right: 1em; text-align: center; vertical-align: top\">3</td>\n",
       "    </tr>\n",
       "    <tr>\n",
       "        <td style=\"padding-left: 1em; padding-right: 1em; text-align: center; vertical-align: top\">0</td>\n",
       "        <td style=\"padding-left: 1em; padding-right: 1em; text-align: center; vertical-align: top\">36870</td>\n",
       "        <td style=\"padding-left: 1em; padding-right: 1em; text-align: center; vertical-align: top\">39.7559623119</td>\n",
       "        <td style=\"padding-left: 1em; padding-right: 1em; text-align: center; vertical-align: top\">4</td>\n",
       "    </tr>\n",
       "    <tr>\n",
       "        <td style=\"padding-left: 1em; padding-right: 1em; text-align: center; vertical-align: top\">0</td>\n",
       "        <td style=\"padding-left: 1em; padding-right: 1em; text-align: center; vertical-align: top\">41734</td>\n",
       "        <td style=\"padding-left: 1em; padding-right: 1em; text-align: center; vertical-align: top\">39.7866014148</td>\n",
       "        <td style=\"padding-left: 1em; padding-right: 1em; text-align: center; vertical-align: top\">5</td>\n",
       "    </tr>\n",
       "</table>\n",
       "[5 rows x 4 columns]<br/>\n",
       "</div>"
      ],
      "text/plain": [
       "Columns:\n",
       "\tquery_label\tint\n",
       "\treference_label\tint\n",
       "\tdistance\tfloat\n",
       "\trank\tint\n",
       "\n",
       "Rows: 5\n",
       "\n",
       "Data:\n",
       "+-------------+-----------------+---------------+------+\n",
       "| query_label | reference_label |    distance   | rank |\n",
       "+-------------+-----------------+---------------+------+\n",
       "|      0      |       384       |      0.0      |  1   |\n",
       "|      0      |       6910      | 36.9403137951 |  2   |\n",
       "|      0      |      39777      | 38.4634888975 |  3   |\n",
       "|      0      |      36870      | 39.7559623119 |  4   |\n",
       "|      0      |      41734      | 39.7866014148 |  5   |\n",
       "+-------------+-----------------+---------------+------+\n",
       "[5 rows x 4 columns]"
      ]
     },
     "execution_count": 104,
     "metadata": {},
     "output_type": "execute_result"
    }
   ],
   "source": [
    "knn_model.query(cat)"
   ]
  },
  {
   "cell_type": "markdown",
   "metadata": {},
   "source": [
    "We are going to create a simple function to view the nearest neighbors to save typing:"
   ]
  },
  {
   "cell_type": "code",
   "execution_count": 105,
   "metadata": {
    "collapsed": true
   },
   "outputs": [],
   "source": [
    "def get_images_from_ids(query_result):\n",
    "    return image_train.filter_by(query_result['reference_label'],'id')"
   ]
  },
  {
   "cell_type": "code",
   "execution_count": 106,
   "metadata": {
    "collapsed": false
   },
   "outputs": [
    {
     "name": "stdout",
     "output_type": "stream",
     "text": [
      "PROGRESS: Starting pairwise querying.\n",
      "PROGRESS: +--------------+---------+-------------+--------------+\n",
      "PROGRESS: | Query points | # Pairs | % Complete. | Elapsed Time |\n",
      "PROGRESS: +--------------+---------+-------------+--------------+\n",
      "PROGRESS: | 0            | 1       | 0.0498753   | 6.354ms      |\n",
      "PROGRESS: | Done         |         | 100         | 126.445ms    |\n",
      "PROGRESS: +--------------+---------+-------------+--------------+\n"
     ]
    }
   ],
   "source": [
    "cat_neighbors = get_images_from_ids(knn_model.query(cat))"
   ]
  },
  {
   "cell_type": "code",
   "execution_count": 107,
   "metadata": {
    "collapsed": false
   },
   "outputs": [
    {
     "data": {
      "application/javascript": [
       "$(\"head\").append($(\"<link/>\").attr({\n",
       "  rel:  \"stylesheet\",\n",
       "  type: \"text/css\",\n",
       "  href: \"//cdnjs.cloudflare.com/ajax/libs/font-awesome/4.1.0/css/font-awesome.min.css\"\n",
       "}));\n",
       "$(\"head\").append($(\"<link/>\").attr({\n",
       "  rel:  \"stylesheet\",\n",
       "  type: \"text/css\",\n",
       "  href: \"//dato.com/files/canvas/1.8.1/css/canvas.css\"\n",
       "}));\n",
       "\n",
       "            (function(){\n",
       "\n",
       "                var e = null;\n",
       "                if (typeof element == 'undefined') {\n",
       "                    var scripts = document.getElementsByTagName('script');\n",
       "                    var thisScriptTag = scripts[scripts.length-1];\n",
       "                    var parentDiv = thisScriptTag.parentNode;\n",
       "                    e = document.createElement('div');\n",
       "                    parentDiv.appendChild(e);\n",
       "                } else {\n",
       "                    e = element[0];\n",
       "                }\n",
       "\n",
       "                if (typeof requirejs !== 'undefined') {\n",
       "                    // disable load timeout; ipython_app.js is large and can take a while to load.\n",
       "                    requirejs.config({waitSeconds: 0});\n",
       "                }\n",
       "\n",
       "                require(['//dato.com/files/canvas/1.8.1/js/ipython_app.js'], function(IPythonApp){\n",
       "                    var app = new IPythonApp();\n",
       "                    app.attachView('sarray','Images', {\"ipython\": true, \"rows\": [{\"format\": \"raw\", \"value\": [46, 45, 50, 47, 45, 51, 45, 44, 49, 41, 40, 45, 35, 34, 39, 28, 27, 32, 22, 21, 25, 16, 15, 18, 12, 12, 14, 12, 11, 14, 10, 10, 13, 8, 8, 10, 5, 5, 7, 3, 2, 4, 2, 2, 3, 2, 2, 2, 3, 3, 3, 4, 4, 4, 3, 3, 3, 3, 3, 3, 4, 4, 4, 5, 5, 6, 4, 3, 7, 4, 3, 8, 4, 3, 8, 4, 3, 8, 4, 3, 8, 4, 3, 8, 4, 3, 8, 4, 3, 9, 4, 3, 11, 4, 3, 11, 40, 39, 44, 43, 42, 47, 43, 42, 47, 39, 38, 43, 35, 34, 39, 30, 29, 34, 34, 32, 34, 52, 49, 47, 54, 52, 48, 31, 29, 27, 11, 11, 9, 8, 8, 7, 5, 6, 5, 3, 4, 4, 2, 3, 3, 2, 2, 2, 2, 2, 2, 2, 2, 2, 3, 3, 3, 4, 4, 4, 5, 5, 5, 6, 6, 6, 5, 5, 7, 5, 4, 7, 5, 5, 7, 5, 5, 7, 4, 4, 6, 4, 4, 6, 4, 4, 6, 4, 3, 9, 4, 3, 12, 5, 3, 12, 38, 37, 42, 41, 40, 45, 42, 41, 46, 40, 39, 44, 36, 35, 40, 37, 36, 40, 62, 57, 58, 101, 91, 84, 119, 108, 101, 108, 100, 94, 59, 52, 49, 18, 14, 12, 9, 6, 6, 8, 6, 6, 5, 5, 5, 3, 3, 3, 2, 2, 2, 2, 2, 2, 4, 4, 4, 5, 5, 5, 7, 7, 6, 7, 7, 7, 6, 6, 6, 6, 6, 7, 8, 8, 8, 6, 6, 6, 4, 4, 4, 3, 3, 4, 3, 4, 4, 4, 4, 6, 3, 3, 7, 2, 2, 6, 38, 37, 42, 41, 40, 46, 43, 42, 47, 41, 40, 46, 38, 37, 42, 41, 40, 44, 72, 65, 64, 107, 91, 85, 123, 105, 97, 139, 123, 116, 135, 122, 117, 77, 66, 64, 21, 14, 13, 9, 5, 5, 7, 5, 7, 5, 5, 6, 4, 4, 5, 4, 5, 6, 5, 6, 7, 6, 6, 7, 8, 8, 9, 8, 8, 9, 8, 7, 7, 9, 9, 8, 9, 9, 9, 6, 7, 6, 5, 5, 4, 6, 5, 5, 7, 5, 4, 5, 3, 2, 7, 5, 2, 31, 29, 26, 36, 37, 42, 39, 39, 46, 40, 39, 48, 41, 40, 47, 38, 36, 41, 41, 39, 40, 72, 65, 63, 109, 95, 90, 129, 113, 105, 143, 126, 115, 154, 137, 125, 143, 130, 119, 84, 75, 66, 26, 21, 15, 12, 8, 6, 9, 6, 6, 2, 1, 1, 0, 0, 0, 0, 0, 0, 2, 3, 3, 7, 5, 6, 7, 4, 6, 8, 5, 7, 6, 8, 7, 3, 9, 6, 2, 9, 5, 3, 8, 4, 5, 4, 2, 13, 5, 5, 38, 26, 21, 87, 75, 64, 129, 119, 108, 34, 36, 41, 37, 37, 45, 39, 37, 47, 39, 38, 45, 37, 35, 40, 38, 35, 37, 65, 57, 54, 102, 88, 81, 124, 107, 96, 145, 126, 111, 162, 141, 123, 164, 143, 124, 154, 133, 114, 122, 102, 84, 106, 87, 70, 97, 80, 64, 77, 65, 50, 68, 60, 46, 61, 55, 42, 47, 41, 29, 46, 39, 29, 54, 44, 36, 52, 44, 37, 38, 34, 26, 23, 23, 14, 13, 15, 6, 16, 15, 8, 35, 29, 23, 73, 61, 56, 121, 106, 95, 160, 146, 133, 167, 157, 147, 35, 37, 41, 37, 37, 45, 39, 37, 47, 39, 37, 45, 38, 35, 40, 38, 35, 36, 62, 53, 48, 103, 86, 73, 132, 112, 95, 156, 134, 116, 173, 148, 128, 187, 159, 136, 194, 162, 137, 195, 161, 135, 192, 160, 132, 191, 163, 133, 197, 173, 144, 205, 186, 157, 186, 169, 141, 165, 147, 122, 170, 150, 126, 173, 150, 126, 169, 143, 116, 152, 127, 99, 128, 106, 78, 108, 86, 60, 108, 85, 61, 130, 105, 83, 155, 129, 108, 169, 148, 133, 178, 164, 153, 176, 167, 161, 35, 37, 41, 37, 36, 44, 39, 37, 47, 40, 39, 46, 41, 39, 44, 47, 44, 46, 83, 73, 65, 129, 109, 89, 153, 131, 108, 163, 141, 121, 160, 135, 116, 158, 130, 109, 183, 150, 127, 196, 160, 135, 204, 171, 145, 194, 166, 139, 205, 179, 150, 211, 187, 156, 187, 162, 130, 198, 170, 137, 199, 166, 134, 194, 158, 124, 199, 163, 125, 199, 164, 125, 196, 162, 124, 191, 157, 122, 180, 147, 114, 171, 140, 109, 175, 146, 117, 180, 160, 143, 187, 175, 167, 180, 172, 168, 37, 38, 43, 38, 39, 46, 39, 40, 48, 42, 40, 46, 50, 44, 44, 76, 66, 60, 108, 92, 78, 109, 85, 65, 96, 71, 52, 109, 85, 69, 141, 120, 104, 155, 134, 117, 180, 155, 136, 200, 169, 149, 210, 184, 162, 218, 196, 175, 229, 206, 185, 207, 183, 161, 167, 140, 117, 161, 130, 104, 166, 132, 104, 182, 147, 116, 196, 163, 129, 199, 167, 131, 198, 165, 131, 198, 165, 133, 197, 167, 137, 196, 169, 141, 193, 170, 145, 183, 169, 154, 182, 174, 166, 179, 172, 166, 38, 39, 44, 37, 39, 46, 37, 38, 43, 46, 41, 40, 74, 59, 48, 124, 100, 79, 139, 111, 86, 96, 66, 44, 73, 37, 20, 106, 67, 53, 149, 114, 100, 173, 147, 128, 191, 166, 145, 197, 168, 146, 208, 182, 157, 210, 187, 163, 191, 166, 146, 134, 107, 90, 82, 54, 38, 80, 52, 35, 105, 76, 55, 128, 97, 70, 174, 141, 110, 195, 160, 126, 193, 155, 120, 193, 155, 120, 194, 159, 126, 199, 168, 138, 198, 171, 145, 169, 149, 131, 154, 137, 124, 163, 145, 134, 42, 42, 49, 43, 43, 47, 48, 44, 42, 62, 51, 42, 85, 63, 46, 113, 82, 58, 137, 108, 80, 142, 114, 88, 122, 80, 63, 131, 74, 64, 138, 83, 73, 142, 99, 84, 169, 137, 116, 187, 160, 135, 190, 161, 131, 164, 133, 101, 160, 128, 97, 147, 114, 83, 144, 110, 78, 155, 120, 85, 176, 141, 103, 169, 134, 95, 184, 148, 111, 199, 161, 125, 195, 157, 120, 191, 153, 116, 196, 159, 123, 195, 160, 125, 190, 156, 124, 169, 135, 112, 140, 106, 89, 148, 113, 97, 42, 42, 50, 50, 48, 48, 71, 64, 56, 95, 81, 67, 98, 77, 58, 117, 90, 70, 140, 118, 100, 167, 153, 139, 182, 154, 150, 166, 123, 127, 188, 146, 152, 215, 186, 186, 220, 203, 196, 211, 197, 185, 202, 178, 155, 193, 161, 131, 184, 151, 119, 177, 144, 107, 170, 137, 97, 174, 140, 98, 183, 148, 106, 186, 151, 111, 187, 153, 116, 197, 163, 127, 205, 172, 137, 196, 163, 128, 192, 158, 122, 200, 165, 128, 198, 162, 124, 192, 159, 127, 191, 159, 131, 189, 158, 129, 53, 50, 59, 65, 61, 59, 90, 83, 72, 106, 96, 81, 119, 105, 92, 149, 133, 123, 158, 144, 138, 162, 152, 149, 169, 151, 154, 152, 128, 136, 171, 152, 160, 203, 194, 197, 216, 210, 209, 205, 195, 192, 201, 181, 171, 209, 184, 167, 213, 187, 164, 203, 177, 147, 191, 164, 129, 182, 154, 118, 185, 156, 121, 191, 162, 128, 198, 169, 135, 215, 188, 156, 234, 208, 177, 226, 201, 170, 196, 169, 136, 194, 162, 126, 203, 168, 130, 198, 164, 128, 197, 166, 132, 204, 175, 142, 58, 57, 63, 78, 72, 69, 104, 93, 83, 117, 104, 90, 130, 116, 104, 141, 127, 120, 140, 125, 120, 128, 110, 107, 117, 96, 96, 122, 102, 103, 139, 122, 123, 156, 143, 143, 182, 168, 167, 192, 174, 173, 191, 172, 164, 196, 177, 163, 218, 200, 183, 225, 208, 186, 218, 200, 177, 204, 186, 161, 188, 167, 140, 179, 155, 127, 181, 155, 124, 183, 157, 127, 197, 173, 144, 225, 201, 172, 222, 197, 168, 190, 163, 132, 180, 151, 119, 188, 156, 120, 196, 161, 125, 198, 163, 129, 72, 73, 76, 86, 78, 74, 99, 83, 73, 107, 86, 73, 112, 91, 78, 111, 93, 80, 106, 88, 81, 113, 95, 92, 143, 125, 124, 172, 155, 154, 180, 164, 164, 171, 154, 155, 156, 141, 142, 157, 142, 143, 167, 153, 144, 180, 168, 154, 194, 183, 170, 216, 207, 194, 231, 223, 207, 232, 220, 202, 210, 196, 174, 190, 171, 146, 186, 163, 135, 181, 156, 127, 170, 145, 115, 187, 161, 131, 218, 190, 161, 217, 189, 159, 197, 168, 138, 188, 156, 121, 189, 155, 117, 186, 152, 115, 55, 54, 55, 71, 62, 57, 87, 69, 58, 96, 75, 60, 96, 74, 59, 94, 74, 61, 93, 76, 67, 117, 103, 99, 154, 141, 139, 176, 165, 163, 200, 190, 190, 212, 204, 206, 196, 190, 193, 167, 162, 165, 150, 145, 142, 160, 156, 148, 164, 162, 155, 191, 189, 181, 226, 223, 213, 238, 232, 217, 221, 212, 193, 205, 190, 168, 193, 173, 148, 192, 169, 143, 190, 166, 138, 177, 150, 120, 181, 151, 119, 197, 164, 130, 209, 175, 139, 207, 173, 136, 200, 167, 129, 189, 156, 119, 48, 46, 46, 73, 62, 56, 87, 68, 56, 91, 68, 52, 94, 71, 55, 101, 79, 65, 113, 95, 84, 129, 115, 105, 141, 130, 122, 155, 146, 140, 182, 176, 172, 198, 195, 193, 206, 206, 206, 210, 211, 213, 204, 205, 203, 211, 212, 208, 206, 208, 204, 211, 213, 208, 239, 239, 230, 247, 242, 228, 230, 219, 201, 214, 198, 176, 192, 169, 144, 180, 155, 127, 184, 157, 127, 183, 154, 122, 174, 142, 109, 167, 133, 98, 171, 136, 100, 177, 144, 108, 193, 161, 124, 191, 160, 124, 51, 47, 48, 65, 53, 46, 78, 59, 45, 88, 63, 47, 92, 67, 51, 98, 75, 60, 111, 92, 77, 122, 106, 90, 127, 113, 99, 131, 121, 108, 145, 137, 128, 158, 155, 148, 162, 162, 157, 175, 177, 174, 192, 194, 191, 214, 215, 212, 219, 221, 217, 226, 227, 220, 237, 234, 224, 237, 229, 213, 226, 213, 192, 212, 193, 167, 193, 166, 136, 180, 150, 119, 180, 150, 118, 184, 154, 122, 191, 161, 128, 192, 162, 130, 190, 159, 127, 186, 156, 122, 194, 164, 129, 193, 163, 129, 52, 48, 51, 64, 54, 49, 82, 65, 53, 95, 72, 56, 97, 71, 56, 95, 69, 56, 99, 75, 62, 105, 87, 72, 112, 96, 82, 120, 106, 93, 124, 114, 102, 131, 123, 112, 141, 135, 126, 152, 148, 139, 170, 169, 161, 180, 180, 171, 192, 189, 177, 207, 200, 185, 215, 204, 186, 213, 200, 179, 204, 190, 168, 203, 188, 164, 205, 187, 160, 209, 189, 162, 209, 187, 160, 209, 187, 160, 211, 188, 160, 209, 184, 157, 204, 178, 151, 198, 172, 143, 195, 168, 138, 186, 159, 130, 55, 51, 56, 62, 53, 50, 78, 63, 51, 98, 76, 61, 108, 83, 66, 110, 82, 69, 106, 80, 66, 102, 79, 64, 108, 87, 71, 116, 97, 82, 119, 103, 88, 124, 111, 96, 132, 121, 106, 152, 142, 128, 169, 162, 147, 172, 165, 149, 187, 176, 158, 185, 172, 151, 194, 179, 156, 213, 200, 178, 215, 203, 184, 222, 212, 192, 229, 217, 194, 229, 216, 192, 224, 209, 184, 221, 203, 179, 219, 199, 173, 211, 188, 162, 203, 180, 154, 196, 171, 145, 193, 167, 140, 187, 160, 133, 54, 50, 53, 60, 52, 46, 68, 53, 39, 84, 63, 45, 102, 77, 58, 111, 84, 68, 110, 82, 66, 110, 84, 65, 120, 94, 74, 124, 101, 82, 126, 106, 87, 127, 110, 91, 122, 105, 87, 122, 106, 89, 122, 108, 90, 139, 124, 106, 148, 132, 111, 138, 121, 98, 160, 143, 121, 175, 161, 141, 182, 170, 153, 208, 198, 180, 222, 209, 187, 221, 206, 182, 210, 194, 170, 201, 182, 158, 200, 179, 153, 200, 178, 151, 200, 176, 150, 197, 171, 144, 197, 169, 141, 190, 161, 134, 52, 49, 50, 62, 54, 46, 68, 54, 38, 77, 56, 36, 91, 66, 45, 101, 74, 56, 103, 76, 59, 110, 84, 65, 126, 101, 82, 137, 114, 94, 139, 119, 100, 141, 123, 105, 138, 122, 104, 131, 116, 99, 129, 115, 98, 141, 126, 108, 135, 117, 96, 127, 107, 84, 147, 126, 103, 140, 119, 98, 149, 132, 112, 181, 167, 146, 183, 169, 147, 183, 169, 145, 190, 175, 150, 193, 175, 150, 197, 177, 151, 196, 173, 147, 199, 175, 149, 199, 172, 143, 194, 164, 132, 187, 157, 125, 54, 51, 50, 68, 59, 49, 78, 63, 45, 86, 64, 43, 94, 68, 47, 99, 72, 53, 102, 76, 59, 110, 87, 71, 128, 107, 90, 145, 126, 108, 151, 134, 116, 153, 137, 121, 156, 142, 125, 158, 145, 129, 161, 149, 135, 173, 160, 145, 173, 156, 138, 153, 133, 111, 157, 135, 111, 153, 129, 104, 158, 136, 111, 157, 137, 113, 164, 148, 124, 186, 171, 147, 205, 188, 163, 209, 190, 165, 207, 186, 160, 204, 181, 154, 196, 171, 144, 184, 156, 123, 188, 158, 120, 193, 162, 124, 57, 53, 50, 83, 71, 56, 92, 72, 50, 93, 66, 46, 93, 64, 46, 103, 75, 55, 113, 88, 68, 113, 92, 75, 122, 102, 85, 138, 119, 99, 154, 137, 115, 179, 163, 141, 187, 171, 151, 177, 162, 145, 164, 148, 133, 174, 158, 142, 190, 176, 160, 190, 177, 158, 194, 180, 158, 179, 163, 136, 174, 156, 125, 169, 148, 117, 177, 154, 126, 178, 155, 127, 182, 157, 129, 189, 163, 135, 194, 167, 137, 190, 162, 132, 180, 151, 120, 191, 158, 124, 202, 166, 130, 196, 159, 122, 50, 45, 41, 77, 64, 46, 87, 65, 42, 97, 67, 47, 107, 75, 57, 113, 84, 62, 115, 87, 63, 120, 92, 70, 137, 110, 87, 159, 135, 110, 177, 157, 131, 193, 176, 152, 202, 187, 167, 196, 181, 165, 185, 172, 154, 184, 170, 151, 188, 175, 156, 208, 195, 175, 193, 179, 156, 196, 177, 150, 199, 175, 144, 198, 171, 137, 192, 162, 129, 186, 155, 122, 181, 149, 116, 177, 144, 110, 174, 140, 105, 180, 145, 110, 192, 157, 121, 202, 163, 126, 201, 160, 122, 196, 154, 116, 47, 40, 35, 87, 73, 54, 104, 80, 56, 113, 82, 61, 119, 86, 66, 122, 91, 67, 129, 97, 70, 138, 103, 75, 142, 108, 80, 150, 120, 90, 169, 144, 115, 190, 170, 143, 198, 181, 159, 199, 183, 165, 204, 190, 168, 211, 197, 174, 207, 193, 170, 194, 178, 154, 185, 166, 141, 203, 178, 149, 198, 167, 134, 199, 165, 130, 202, 167, 131, 197, 161, 124, 192, 154, 117, 195, 157, 118, 202, 163, 123, 208, 168, 127, 205, 164, 123, 190, 148, 107, 179, 137, 95, 180, 138, 96, 67, 59, 52, 106, 89, 69, 117, 91, 66, 117, 84, 62, 120, 85, 64, 131, 98, 73, 136, 103, 74, 138, 101, 73, 141, 105, 75, 153, 119, 87, 167, 137, 103, 181, 154, 122, 187, 161, 133, 196, 171, 145, 211, 188, 163, 201, 180, 156, 187, 167, 143, 205, 186, 160, 194, 173, 144, 190, 165, 132, 195, 165, 129, 201, 168, 130, 208, 172, 135, 211, 175, 138, 208, 170, 133, 198, 159, 121, 187, 147, 108, 187, 146, 106, 196, 155, 114, 196, 157, 116, 197, 159, 118, 200, 163, 123, 71, 63, 54, 113, 97, 77, 130, 105, 81, 134, 103, 81, 144, 113, 91, 151, 122, 97, 150, 122, 94, 152, 121, 93, 161, 129, 99, 173, 142, 110, 182, 151, 117, 188, 157, 124, 187, 157, 125, 183, 153, 123, 189, 161, 135, 193, 167, 143, 188, 164, 138, 213, 189, 163, 206, 182, 153, 196, 172, 139, 199, 173, 136, 211, 181, 144, 217, 183, 148, 217, 181, 147, 210, 174, 138, 197, 161, 123, 195, 158, 119, 200, 163, 121, 202, 164, 123, 201, 165, 125, 205, 171, 132, 219, 186, 148, 60, 56, 42, 101, 88, 70, 119, 97, 76, 135, 109, 85, 148, 124, 98, 147, 126, 99, 153, 132, 105, 166, 142, 116, 174, 149, 122, 180, 155, 128, 185, 159, 133, 193, 167, 141, 206, 180, 154, 191, 165, 139, 185, 163, 138, 208, 187, 163, 186, 165, 140, 221, 199, 173, 222, 199, 172, 193, 169, 141, 207, 182, 153, 227, 200, 170, 227, 195, 165, 226, 192, 160, 224, 190, 155, 221, 188, 150, 214, 181, 141, 213, 181, 138, 221, 189, 144, 217, 186, 145, 212, 181, 144, 208, 177, 141, 60, 55, 41, 83, 69, 52, 94, 72, 49, 111, 83, 56, 120, 90, 61, 132, 103, 73, 153, 126, 96, 163, 136, 109, 164, 137, 111, 175, 148, 122, 188, 161, 135, 195, 168, 142, 202, 176, 150, 189, 162, 136, 184, 157, 130, 199, 171, 143, 166, 137, 108, 189, 160, 130, 232, 202, 170, 219, 187, 156, 176, 144, 112, 196, 164, 130, 221, 188, 153, 223, 190, 154, 219, 186, 148, 214, 181, 141, 211, 179, 137, 209, 177, 133, 211, 179, 134, 205, 171, 130, 191, 155, 118, 175, 140, 103, 52, 46, 36, 77, 66, 52, 87, 70, 51, 92, 71, 48, 95, 71, 47, 110, 84, 60, 135, 108, 83, 151, 122, 95, 152, 122, 96, 149, 119, 92, 151, 121, 95, 170, 140, 113, 188, 158, 132, 192, 162, 136, 182, 150, 121, 172, 138, 108, 169, 135, 104, 162, 127, 95, 176, 140, 106, 194, 157, 122, 180, 143, 108, 154, 117, 82, 173, 137, 102, 188, 153, 117, 193, 158, 121, 180, 146, 108, 168, 133, 95, 169, 134, 95, 173, 139, 99, 175, 139, 102, 171, 132, 97, 154, 116, 81, 41, 38, 36, 52, 49, 43, 49, 45, 36, 35, 30, 21, 35, 27, 19, 37, 28, 22, 46, 35, 29, 70, 57, 49, 75, 62, 53, 73, 60, 52, 79, 66, 58, 84, 70, 61, 88, 75, 65, 89, 75, 67, 90, 75, 65, 81, 65, 53, 84, 68, 57, 82, 66, 54, 76, 58, 46, 78, 59, 44, 81, 62, 48, 83, 63, 49, 78, 60, 48, 78, 59, 48, 69, 51, 40, 58, 40, 30, 50, 32, 22, 60, 42, 31, 86, 68, 55, 95, 77, 64, 87, 69, 59, 87, 69, 58], \"height\": 32, \"channels\": 3, \"width\": 32, \"type\": \"image\", \"id\": 140365507079440}, {\"format\": \"raw\", \"value\": [154, 133, 92, 134, 112, 75, 108, 87, 53, 98, 78, 45, 104, 86, 51, 109, 92, 57, 103, 86, 54, 97, 82, 53, 89, 76, 47, 111, 99, 70, 132, 119, 88, 139, 124, 90, 146, 129, 94, 124, 108, 75, 86, 73, 44, 104, 93, 68, 89, 79, 56, 72, 60, 37, 112, 99, 73, 120, 108, 75, 134, 122, 89, 149, 138, 107, 136, 127, 99, 94, 87, 61, 83, 77, 53, 94, 86, 60, 104, 94, 64, 111, 100, 71, 101, 90, 61, 96, 84, 57, 100, 88, 61, 113, 101, 75, 151, 125, 76, 138, 112, 68, 112, 87, 48, 97, 75, 38, 106, 85, 48, 114, 95, 59, 104, 86, 53, 89, 72, 38, 87, 71, 35, 132, 115, 75, 151, 131, 85, 153, 130, 79, 163, 140, 91, 154, 134, 91, 102, 86, 51, 88, 74, 47, 77, 65, 42, 75, 62, 38, 95, 81, 52, 108, 92, 55, 148, 131, 92, 158, 143, 106, 132, 120, 83, 122, 112, 77, 118, 110, 76, 103, 94, 61, 109, 97, 67, 113, 101, 71, 100, 88, 57, 89, 78, 47, 87, 76, 44, 109, 97, 65, 152, 119, 68, 151, 120, 72, 145, 117, 73, 143, 119, 76, 137, 115, 70, 133, 111, 67, 121, 97, 56, 97, 74, 34, 80, 57, 18, 124, 101, 59, 149, 125, 78, 138, 111, 60, 158, 132, 77, 162, 140, 88, 143, 124, 84, 108, 91, 63, 64, 49, 25, 79, 65, 40, 106, 92, 63, 129, 112, 74, 157, 139, 98, 137, 120, 80, 114, 98, 58, 144, 128, 89, 147, 131, 93, 112, 96, 59, 106, 89, 54, 112, 95, 60, 127, 110, 73, 124, 107, 69, 110, 93, 54, 110, 93, 53, 146, 112, 62, 154, 122, 72, 153, 125, 77, 156, 131, 85, 160, 137, 93, 151, 127, 85, 143, 116, 74, 119, 92, 51, 78, 53, 15, 140, 116, 75, 179, 153, 108, 152, 122, 74, 142, 112, 60, 166, 137, 85, 165, 139, 95, 117, 97, 64, 67, 52, 24, 102, 86, 54, 148, 128, 88, 147, 126, 81, 144, 123, 77, 121, 100, 57, 130, 110, 68, 168, 148, 108, 132, 113, 76, 104, 86, 46, 124, 105, 64, 140, 120, 83, 148, 127, 91, 135, 115, 73, 129, 108, 63, 132, 111, 67, 160, 128, 74, 155, 124, 69, 138, 110, 57, 125, 100, 51, 129, 106, 63, 149, 126, 86, 154, 132, 90, 139, 117, 74, 114, 93, 47, 176, 152, 102, 208, 180, 124, 185, 153, 93, 149, 118, 63, 151, 120, 71, 178, 148, 102, 132, 108, 70, 80, 62, 27, 122, 100, 59, 169, 138, 89, 149, 120, 73, 130, 103, 57, 140, 116, 66, 172, 150, 101, 171, 150, 106, 104, 84, 49, 110, 93, 56, 145, 131, 89, 155, 139, 105, 131, 113, 79, 114, 95, 53, 121, 100, 53, 127, 106, 61, 173, 139, 81, 176, 142, 83, 157, 125, 69, 131, 103, 51, 104, 80, 33, 113, 92, 47, 141, 120, 77, 137, 117, 73, 128, 107, 60, 189, 163, 110, 214, 183, 124, 203, 168, 103, 159, 127, 69, 140, 112, 61, 168, 138, 91, 122, 97, 55, 78, 55, 17, 110, 81, 35, 169, 130, 76, 145, 111, 67, 128, 99, 54, 168, 142, 87, 200, 176, 119, 163, 141, 91, 109, 86, 48, 135, 116, 80, 152, 138, 98, 126, 111, 77, 101, 84, 51, 108, 89, 47, 127, 106, 58, 136, 113, 67, 169, 134, 77, 174, 137, 80, 169, 132, 78, 162, 130, 80, 132, 107, 62, 117, 94, 47, 141, 114, 60, 144, 116, 61, 125, 97, 43, 163, 131, 77, 201, 164, 108, 191, 150, 90, 160, 126, 66, 153, 123, 65, 141, 110, 56, 104, 76, 30, 86, 62, 20, 112, 80, 32, 152, 111, 54, 146, 111, 57, 141, 110, 56, 168, 139, 84, 171, 144, 88, 130, 105, 51, 133, 109, 58, 154, 131, 81, 137, 115, 67, 122, 99, 60, 136, 113, 74, 152, 130, 84, 157, 134, 85, 146, 123, 77, 140, 104, 51, 141, 101, 45, 131, 90, 36, 112, 75, 33, 104, 76, 39, 142, 117, 60, 183, 154, 78, 180, 150, 80, 162, 129, 64, 158, 125, 52, 164, 129, 60, 160, 116, 56, 153, 110, 50, 150, 114, 53, 127, 91, 36, 99, 68, 21, 88, 60, 18, 104, 73, 28, 132, 95, 40, 137, 100, 38, 137, 106, 49, 137, 106, 55, 128, 97, 44, 124, 98, 41, 129, 108, 48, 148, 123, 57, 158, 127, 64, 122, 93, 49, 109, 81, 48, 139, 110, 66, 147, 117, 68, 137, 110, 63, 139, 103, 50, 139, 99, 35, 125, 85, 22, 83, 43, 8, 109, 78, 39, 211, 187, 109, 235, 214, 123, 207, 188, 110, 202, 172, 97, 222, 195, 98, 177, 151, 71, 141, 93, 36, 143, 91, 37, 104, 65, 20, 97, 60, 18, 83, 48, 13, 65, 34, 4, 71, 44, 11, 77, 47, 14, 99, 57, 17, 97, 65, 27, 112, 82, 33, 177, 141, 64, 183, 158, 80, 139, 121, 59, 187, 161, 87, 217, 187, 106, 130, 104, 55, 56, 26, 0, 108, 68, 23, 132, 91, 34, 123, 89, 33, 155, 121, 63, 147, 111, 48, 147, 111, 52, 141, 106, 61, 103, 75, 34, 158, 134, 74, 217, 196, 113, 221, 203, 106, 226, 196, 99, 217, 186, 103, 129, 103, 57, 113, 74, 30, 153, 108, 58, 81, 40, 13, 85, 46, 14, 96, 60, 26, 72, 41, 13, 54, 29, 8, 44, 19, 2, 107, 73, 28, 78, 52, 20, 74, 45, 17, 165, 125, 66, 200, 169, 95, 195, 172, 88, 219, 193, 106, 184, 159, 88, 112, 81, 35, 151, 109, 60, 174, 128, 68, 163, 123, 60, 152, 122, 65, 140, 108, 49, 121, 89, 33, 110, 78, 32, 118, 88, 39, 114, 88, 40, 91, 65, 32, 111, 86, 44, 142, 118, 55, 172, 131, 63, 153, 112, 58, 63, 37, 21, 54, 25, 11, 82, 43, 10, 103, 59, 14, 123, 77, 24, 120, 74, 22, 107, 66, 18, 90, 54, 15, 70, 38, 7, 65, 33, 9, 41, 20, 9, 61, 36, 21, 122, 84, 44, 136, 104, 56, 133, 106, 55, 132, 104, 52, 111, 86, 43, 131, 96, 53, 151, 108, 61, 128, 90, 40, 132, 100, 49, 145, 115, 67, 141, 111, 55, 109, 79, 30, 87, 58, 21, 89, 64, 15, 90, 66, 17, 88, 61, 32, 84, 57, 29, 93, 63, 25, 134, 88, 44, 121, 80, 36, 52, 30, 13, 36, 15, 5, 78, 40, 9, 115, 64, 19, 123, 70, 17, 125, 71, 13, 123, 69, 15, 112, 61, 16, 93, 47, 12, 62, 27, 9, 35, 16, 10, 42, 21, 9, 95, 64, 27, 105, 80, 34, 84, 61, 25, 102, 77, 39, 122, 97, 52, 131, 100, 53, 111, 80, 34, 99, 77, 30, 118, 96, 46, 144, 113, 61, 149, 120, 65, 130, 101, 48, 114, 86, 38, 111, 85, 35, 103, 78, 29, 96, 69, 29, 87, 59, 25, 82, 53, 22, 84, 52, 22, 71, 39, 11, 62, 32, 6, 74, 42, 12, 82, 43, 15, 90, 46, 16, 109, 61, 21, 122, 71, 24, 119, 70, 25, 98, 54, 20, 80, 41, 15, 73, 40, 11, 77, 49, 19, 73, 46, 19, 71, 43, 12, 102, 79, 40, 111, 90, 48, 107, 85, 41, 110, 88, 41, 120, 95, 48, 136, 111, 63, 143, 117, 69, 138, 110, 61, 143, 112, 61, 155, 125, 68, 143, 113, 57, 131, 102, 50, 122, 93, 44, 114, 85, 40, 112, 83, 38, 116, 86, 40, 120, 90, 48, 101, 70, 31, 98, 63, 23, 129, 88, 43, 152, 108, 57, 139, 101, 55, 122, 86, 45, 118, 67, 34, 139, 76, 43, 130, 72, 40, 106, 64, 33, 124, 95, 54, 151, 114, 64, 155, 114, 62, 136, 98, 50, 114, 79, 35, 129, 98, 53, 159, 131, 84, 144, 120, 74, 113, 91, 48, 109, 87, 43, 121, 97, 51, 137, 111, 63, 145, 118, 68, 149, 121, 70, 182, 149, 89, 160, 127, 70, 133, 101, 47, 111, 80, 29, 111, 80, 32, 130, 101, 53, 127, 102, 54, 103, 77, 34, 94, 66, 23, 118, 86, 40, 159, 121, 71, 199, 157, 100, 224, 181, 119, 229, 190, 129, 195, 159, 109, 132, 98, 58, 126, 93, 54, 197, 162, 116, 238, 202, 147, 226, 188, 130, 190, 154, 98, 150, 115, 65, 114, 82, 38, 97, 68, 26, 114, 88, 45, 146, 122, 77, 144, 121, 76, 124, 100, 54, 115, 91, 43, 127, 102, 52, 146, 120, 68, 152, 127, 73, 190, 155, 93, 165, 130, 68, 146, 112, 50, 141, 109, 48, 152, 121, 59, 154, 122, 63, 133, 102, 48, 113, 82, 38, 122, 90, 45, 128, 95, 46, 158, 120, 68, 187, 145, 87, 205, 161, 100, 216, 176, 113, 212, 180, 121, 174, 147, 94, 168, 140, 90, 197, 163, 113, 202, 163, 114, 203, 169, 120, 178, 147, 100, 156, 124, 80, 126, 95, 52, 124, 94, 50, 126, 97, 50, 138, 110, 59, 162, 133, 78, 159, 130, 75, 149, 121, 66, 151, 122, 69, 158, 128, 75, 152, 123, 71, 184, 148, 87, 177, 138, 76, 176, 137, 74, 178, 139, 75, 167, 130, 66, 171, 133, 68, 182, 139, 72, 179, 135, 71, 162, 119, 62, 144, 103, 49, 143, 103, 47, 150, 110, 53, 149, 113, 55, 149, 116, 60, 138, 102, 51, 129, 91, 44, 130, 91, 47, 139, 104, 59, 139, 107, 61, 138, 106, 61, 138, 108, 63, 150, 122, 76, 144, 116, 68, 151, 121, 72, 154, 121, 72, 151, 115, 62, 159, 123, 62, 160, 127, 65, 165, 134, 75, 164, 133, 76, 169, 137, 80, 172, 139, 83, 186, 152, 91, 180, 142, 80, 171, 132, 70, 172, 132, 70, 181, 143, 79, 199, 161, 94, 203, 162, 94, 184, 143, 79, 163, 125, 69, 142, 107, 59, 118, 87, 45, 108, 80, 39, 108, 81, 33, 139, 111, 59, 162, 134, 85, 160, 132, 86, 171, 142, 97, 179, 150, 103, 157, 128, 82, 115, 88, 49, 97, 71, 36, 106, 81, 46, 128, 103, 63, 145, 117, 68, 169, 138, 79, 178, 144, 80, 178, 143, 79, 171, 138, 76, 163, 133, 73, 171, 142, 84, 182, 152, 92, 186, 156, 96, 180, 150, 91, 181, 149, 90, 186, 153, 94, 211, 178, 115, 225, 191, 125, 222, 186, 116, 212, 172, 100, 188, 147, 82, 161, 124, 68, 130, 96, 49, 99, 69, 28, 96, 69, 30, 120, 95, 50, 171, 148, 96, 215, 192, 140, 215, 192, 141, 215, 192, 140, 227, 204, 152, 196, 173, 121, 147, 127, 78, 109, 88, 45, 91, 66, 31, 108, 80, 46, 144, 115, 71, 180, 150, 94, 193, 164, 100, 198, 170, 108, 202, 175, 116, 185, 159, 103, 179, 154, 99, 177, 152, 96, 170, 146, 88, 177, 149, 97, 189, 163, 112, 203, 177, 126, 213, 185, 129, 200, 170, 107, 191, 158, 89, 196, 159, 90, 188, 151, 86, 179, 143, 84, 158, 124, 68, 156, 123, 69, 180, 150, 95, 205, 181, 129, 223, 204, 153, 242, 224, 170, 241, 223, 166, 230, 212, 154, 237, 219, 162, 227, 208, 153, 201, 182, 123, 182, 161, 104, 161, 137, 84, 155, 129, 80, 164, 138, 90, 178, 154, 106, 185, 164, 113, 179, 158, 105, 176, 153, 103, 181, 157, 111, 183, 159, 115, 194, 173, 126, 179, 161, 112, 178, 152, 107, 172, 147, 100, 165, 141, 90, 164, 140, 86, 174, 148, 89, 193, 167, 106, 201, 177, 118, 204, 179, 122, 208, 181, 126, 203, 177, 121, 213, 188, 130, 231, 208, 148, 244, 225, 169, 250, 235, 182, 248, 233, 177, 234, 219, 160, 220, 205, 145, 231, 215, 157, 242, 225, 169, 235, 215, 161, 218, 195, 139, 206, 183, 123, 198, 176, 114, 197, 177, 118, 198, 182, 126, 199, 183, 131, 191, 174, 123, 179, 160, 114, 178, 157, 116, 177, 156, 116, 192, 174, 132, 197, 181, 138, 170, 146, 100, 167, 142, 88, 173, 149, 89, 189, 167, 108, 209, 189, 133, 222, 205, 151, 228, 210, 155, 226, 206, 151, 221, 197, 143, 210, 187, 132, 215, 193, 138, 227, 208, 152, 233, 216, 160, 229, 212, 155, 212, 194, 137, 199, 180, 123, 184, 165, 108, 192, 171, 115, 216, 195, 139, 226, 206, 148, 224, 203, 145, 210, 190, 132, 200, 181, 124, 204, 187, 131, 214, 197, 143, 212, 195, 140, 198, 183, 128, 196, 180, 129, 192, 175, 129, 166, 149, 105, 167, 150, 105, 185, 168, 123, 167, 143, 88, 178, 154, 96, 190, 167, 109, 200, 178, 121, 214, 193, 141, 229, 209, 158, 224, 205, 150, 222, 202, 146, 217, 197, 142, 202, 181, 126, 203, 183, 128, 209, 190, 134, 215, 195, 138, 206, 186, 128, 202, 180, 123, 195, 173, 116, 181, 157, 101, 176, 151, 95, 192, 167, 111, 200, 179, 120, 205, 184, 126, 203, 183, 126, 209, 190, 133, 213, 195, 139, 214, 197, 142, 211, 195, 140, 207, 190, 135, 197, 180, 126, 195, 178, 127, 190, 173, 125, 156, 139, 91, 168, 150, 105, 173, 149, 90, 183, 161, 102, 202, 182, 124, 217, 197, 141, 227, 206, 153, 214, 193, 140, 211, 191, 136, 222, 204, 148, 225, 209, 153, 227, 211, 154, 218, 200, 144, 214, 195, 139, 219, 200, 142, 225, 206, 147, 221, 201, 142, 213, 191, 133, 206, 184, 126, 200, 176, 119, 206, 181, 124, 205, 184, 125, 203, 182, 124, 200, 180, 123, 211, 192, 135, 230, 212, 157, 221, 204, 149, 215, 197, 143, 213, 195, 139, 209, 191, 134, 197, 178, 122, 197, 179, 125, 190, 171, 120, 158, 139, 91, 166, 141, 85, 193, 170, 113, 212, 193, 135, 218, 199, 141, 208, 187, 130, 207, 185, 129, 215, 195, 139, 213, 196, 139, 223, 209, 152, 230, 216, 159, 216, 200, 144, 228, 209, 153, 239, 222, 163, 234, 219, 158, 235, 218, 158, 234, 217, 157, 222, 204, 144, 216, 198, 138, 216, 197, 137, 211, 191, 131, 211, 191, 132, 204, 184, 126, 194, 174, 117, 210, 192, 136, 219, 202, 147, 219, 201, 147, 218, 199, 143, 216, 197, 139, 208, 189, 130, 195, 176, 118, 198, 178, 124, 187, 166, 115, 188, 163, 107, 207, 182, 126, 212, 189, 132, 206, 185, 128, 208, 187, 130, 216, 195, 138, 208, 187, 132, 201, 182, 126, 220, 202, 146, 220, 203, 147, 215, 198, 142, 225, 209, 152, 230, 214, 156, 235, 220, 162, 239, 224, 168, 232, 217, 160, 223, 208, 149, 220, 205, 144, 218, 203, 140, 214, 195, 135, 216, 195, 136, 206, 185, 125, 202, 182, 122, 205, 185, 127, 205, 184, 130, 211, 191, 138, 213, 193, 138, 210, 190, 133, 209, 188, 130, 196, 175, 117, 193, 170, 113, 193, 170, 113, 198, 172, 116, 210, 185, 128, 212, 187, 130, 209, 185, 128, 212, 190, 132, 208, 186, 128, 196, 174, 118, 204, 183, 126, 218, 197, 140, 219, 199, 142, 216, 197, 140, 216, 199, 141, 227, 212, 153, 234, 219, 162, 231, 216, 161, 210, 194, 141, 211, 196, 141, 221, 207, 148, 220, 205, 144, 223, 205, 145, 219, 200, 138, 215, 196, 132, 217, 198, 134, 210, 191, 129, 205, 185, 127, 201, 180, 125, 204, 183, 128, 202, 181, 125, 199, 177, 120, 199, 175, 118, 198, 174, 116, 186, 162, 104, 199, 171, 115, 208, 181, 123, 209, 183, 125, 215, 190, 133, 214, 190, 132, 202, 178, 120, 199, 174, 117, 205, 180, 123, 215, 191, 134, 221, 198, 141, 214, 192, 134, 210, 190, 132, 227, 209, 150, 233, 218, 160, 229, 214, 159, 200, 185, 132, 195, 179, 126, 215, 199, 144, 216, 201, 144, 223, 209, 150, 221, 206, 146, 224, 208, 146, 226, 209, 145, 208, 189, 126, 199, 179, 120, 188, 167, 110, 189, 166, 112, 200, 177, 121, 185, 161, 105, 191, 166, 109, 200, 175, 117, 197, 171, 114, 197, 167, 110, 201, 172, 114, 203, 176, 117, 213, 187, 128, 213, 188, 129, 206, 181, 122, 204, 176, 119, 206, 178, 121, 215, 189, 132, 217, 192, 134, 215, 191, 133, 217, 194, 135, 229, 210, 151, 230, 216, 156, 219, 204, 149, 204, 188, 136, 190, 174, 123, 210, 194, 142, 212, 197, 143, 215, 202, 149, 223, 210, 156, 229, 215, 157, 225, 208, 149, 208, 188, 130, 187, 166, 110, 172, 150, 95, 171, 147, 93, 182, 158, 102, 186, 161, 105, 183, 157, 101, 191, 164, 107, 191, 162, 106, 193, 164, 104, 196, 166, 105, 199, 169, 109, 204, 176, 115, 206, 178, 117, 204, 176, 116, 199, 171, 111, 206, 178, 117, 216, 187, 125, 213, 186, 124, 215, 190, 130, 218, 195, 137, 224, 204, 146, 226, 207, 151, 208, 190, 135, 199, 181, 128, 190, 173, 121, 206, 190, 138, 213, 197, 145, 209, 192, 141, 220, 205, 152, 217, 203, 149, 212, 197, 142, 215, 197, 143, 188, 167, 114, 167, 144, 91, 160, 137, 83, 162, 138, 83, 167, 141, 86, 174, 148, 92, 173, 146, 90, 172, 145, 89, 179, 150, 89, 183, 153, 91, 184, 154, 92, 189, 159, 98, 197, 167, 105, 189, 160, 98, 182, 154, 93, 195, 166, 105, 202, 172, 109, 212, 182, 120, 218, 191, 131, 213, 190, 133, 212, 191, 134, 206, 185, 129, 201, 181, 125, 198, 179, 123, 195, 177, 122, 201, 184, 130, 208, 191, 138, 210, 192, 138, 214, 197, 143, 212, 198, 143, 204, 190, 136, 208, 191, 137, 187, 167, 114, 170, 148, 95, 160, 137, 82, 165, 140, 85, 154, 129, 73, 159, 133, 77, 168, 142, 84, 171, 144, 87, 172, 142, 82, 172, 142, 81, 171, 140, 80, 186, 155, 95, 188, 158, 97, 177, 147, 86, 173, 144, 83, 185, 154, 93, 197, 165, 101, 192, 161, 98, 199, 171, 110, 206, 180, 123, 204, 180, 123, 206, 183, 125, 202, 181, 123, 204, 183, 126, 204, 184, 127, 204, 185, 129, 202, 183, 128, 215, 196, 142, 214, 197, 142, 214, 200, 144, 211, 196, 140, 202, 185, 130, 190, 169, 115, 179, 155, 101, 170, 145, 89, 176, 150, 93, 158, 132, 74, 159, 131, 73, 177, 148, 89, 176, 147, 88], \"height\": 32, \"channels\": 3, \"width\": 32, \"type\": \"image\", \"id\": 140365507080144}, {\"format\": \"raw\", \"value\": [16, 20, 19, 14, 19, 17, 11, 15, 14, 9, 15, 13, 14, 21, 20, 23, 31, 31, 21, 30, 31, 21, 31, 33, 21, 32, 35, 20, 33, 36, 26, 42, 46, 33, 51, 57, 40, 58, 66, 38, 56, 66, 38, 55, 66, 38, 55, 66, 36, 50, 60, 29, 43, 54, 28, 42, 55, 40, 53, 68, 39, 52, 68, 40, 51, 65, 41, 51, 61, 42, 50, 60, 40, 49, 58, 36, 45, 55, 29, 38, 48, 27, 33, 42, 27, 32, 40, 28, 34, 42, 24, 31, 39, 20, 27, 35, 25, 33, 31, 23, 31, 28, 14, 23, 20, 11, 19, 16, 14, 21, 19, 22, 30, 29, 26, 36, 37, 32, 45, 49, 37, 53, 59, 38, 56, 63, 35, 54, 59, 35, 54, 58, 39, 57, 62, 42, 61, 68, 46, 64, 73, 48, 66, 77, 44, 61, 73, 36, 52, 66, 34, 51, 66, 48, 63, 80, 47, 61, 78, 48, 59, 75, 50, 58, 70, 43, 54, 68, 38, 49, 63, 34, 44, 57, 31, 39, 50, 25, 35, 45, 25, 36, 45, 31, 41, 51, 34, 41, 52, 30, 36, 47, 27, 37, 33, 24, 35, 31, 24, 36, 32, 20, 32, 28, 16, 28, 25, 14, 24, 23, 17, 29, 30, 32, 48, 52, 45, 66, 70, 44, 65, 70, 44, 66, 64, 46, 67, 63, 51, 67, 66, 51, 67, 70, 53, 70, 76, 55, 73, 82, 53, 71, 83, 44, 62, 74, 43, 59, 72, 58, 69, 82, 62, 67, 79, 60, 64, 77, 51, 60, 74, 41, 55, 73, 35, 50, 68, 35, 47, 63, 41, 49, 60, 33, 45, 55, 26, 41, 51, 22, 38, 49, 30, 39, 52, 31, 38, 51, 23, 33, 30, 25, 38, 33, 31, 49, 42, 30, 51, 44, 26, 47, 41, 22, 40, 36, 24, 40, 39, 40, 60, 59, 50, 74, 74, 34, 53, 53, 40, 61, 54, 54, 72, 64, 73, 84, 82, 78, 89, 94, 77, 92, 100, 71, 92, 101, 65, 85, 95, 56, 74, 83, 58, 69, 76, 80, 76, 80, 91, 76, 77, 86, 74, 77, 67, 69, 79, 55, 65, 80, 48, 62, 80, 45, 59, 78, 46, 57, 74, 42, 56, 71, 34, 52, 67, 23, 45, 60, 28, 40, 56, 31, 39, 53, 26, 35, 33, 34, 48, 46, 34, 53, 49, 27, 50, 41, 23, 48, 37, 23, 46, 37, 29, 46, 41, 45, 65, 62, 52, 74, 71, 26, 40, 40, 32, 45, 42, 46, 57, 54, 63, 73, 73, 83, 95, 98, 88, 104, 110, 83, 103, 110, 76, 94, 100, 73, 81, 86, 85, 80, 82, 120, 101, 99, 132, 104, 99, 128, 100, 94, 113, 92, 86, 101, 89, 89, 85, 83, 90, 70, 75, 90, 58, 67, 86, 56, 67, 85, 50, 64, 82, 36, 56, 74, 37, 48, 65, 36, 46, 60, 41, 54, 51, 45, 58, 59, 27, 40, 40, 25, 43, 34, 25, 48, 35, 27, 53, 40, 30, 50, 41, 35, 56, 49, 36, 57, 52, 26, 38, 37, 46, 58, 56, 64, 75, 74, 73, 84, 85, 91, 101, 104, 96, 106, 109, 95, 102, 105, 93, 92, 93, 98, 83, 80, 113, 86, 77, 141, 106, 92, 148, 112, 97, 152, 115, 98, 152, 114, 97, 147, 111, 97, 135, 106, 97, 119, 98, 96, 99, 85, 89, 89, 79, 88, 75, 73, 85, 56, 64, 78, 48, 54, 70, 42, 51, 64, 42, 56, 53, 29, 40, 40, 14, 23, 22, 23, 38, 27, 29, 50, 35, 31, 58, 43, 34, 60, 46, 32, 58, 46, 29, 55, 44, 28, 49, 40, 54, 74, 68, 79, 98, 95, 98, 113, 115, 103, 111, 112, 106, 106, 105, 109, 100, 95, 115, 93, 87, 125, 94, 83, 136, 97, 81, 145, 101, 80, 146, 104, 82, 143, 102, 81, 139, 96, 79, 142, 98, 82, 150, 107, 92, 153, 115, 100, 141, 108, 95, 128, 105, 100, 105, 93, 97, 71, 72, 83, 59, 62, 75, 49, 56, 70, 29, 39, 36, 14, 22, 20, 13, 22, 16, 30, 44, 33, 36, 56, 42, 33, 58, 44, 28, 53, 40, 26, 53, 39, 27, 57, 42, 34, 67, 51, 46, 78, 65, 64, 93, 84, 89, 110, 108, 109, 116, 114, 125, 119, 113, 138, 119, 108, 144, 117, 105, 144, 112, 99, 142, 106, 90, 139, 99, 80, 145, 104, 85, 139, 99, 84, 127, 90, 80, 130, 98, 89, 152, 121, 110, 169, 137, 124, 157, 121, 105, 150, 124, 116, 125, 113, 114, 81, 82, 94, 70, 72, 84, 58, 64, 78, 40, 47, 44, 41, 46, 41, 51, 57, 50, 77, 88, 79, 77, 92, 83, 55, 72, 63, 26, 42, 34, 18, 37, 28, 21, 46, 35, 33, 66, 53, 43, 76, 63, 54, 82, 72, 67, 87, 80, 94, 98, 91, 126, 115, 107, 155, 133, 124, 164, 140, 131, 158, 134, 124, 150, 124, 113, 143, 115, 102, 156, 128, 116, 166, 139, 131, 172, 149, 146, 170, 156, 151, 177, 160, 153, 178, 152, 142, 156, 118, 104, 152, 122, 112, 130, 116, 115, 88, 91, 103, 76, 78, 89, 67, 70, 83, 82, 87, 83, 84, 86, 80, 107, 110, 103, 134, 142, 136, 135, 145, 140, 109, 118, 116, 50, 56, 54, 31, 42, 39, 34, 54, 48, 50, 79, 70, 59, 82, 73, 58, 73, 65, 48, 57, 47, 77, 74, 65, 117, 104, 96, 158, 137, 131, 171, 153, 147, 166, 148, 142, 156, 139, 133, 149, 132, 126, 160, 145, 138, 173, 159, 154, 185, 173, 170, 185, 169, 166, 184, 162, 157, 180, 152, 142, 169, 134, 118, 153, 123, 111, 125, 109, 107, 87, 89, 102, 79, 80, 92, 73, 74, 84, 91, 96, 94, 95, 95, 91, 127, 126, 122, 148, 152, 150, 156, 162, 161, 146, 152, 151, 85, 91, 90, 80, 89, 86, 94, 108, 104, 100, 119, 113, 89, 103, 97, 70, 77, 70, 46, 47, 38, 85, 80, 72, 126, 115, 111, 159, 147, 144, 167, 154, 150, 154, 142, 137, 145, 133, 128, 152, 140, 136, 160, 149, 144, 166, 153, 147, 170, 152, 147, 169, 145, 141, 178, 155, 149, 187, 166, 156, 185, 159, 148, 162, 137, 130, 131, 114, 115, 94, 92, 104, 88, 88, 100, 84, 83, 93, 70, 72, 69, 87, 85, 81, 122, 118, 117, 144, 146, 147, 156, 161, 162, 157, 162, 161, 137, 144, 142, 142, 150, 147, 150, 159, 156, 142, 152, 148, 103, 110, 105, 69, 71, 64, 50, 45, 36, 85, 76, 70, 119, 110, 106, 148, 139, 137, 160, 151, 147, 160, 151, 146, 159, 150, 145, 162, 153, 148, 168, 160, 154, 173, 163, 156, 176, 165, 156, 182, 166, 158, 185, 172, 164, 188, 176, 167, 189, 169, 162, 177, 155, 152, 152, 135, 136, 114, 107, 115, 101, 99, 108, 95, 94, 102, 48, 52, 43, 61, 65, 56, 96, 100, 95, 127, 133, 133, 149, 155, 156, 162, 168, 166, 169, 174, 172, 171, 176, 174, 166, 169, 168, 146, 148, 146, 102, 99, 96, 76, 69, 62, 77, 65, 56, 125, 113, 105, 160, 149, 143, 183, 175, 171, 192, 186, 180, 196, 190, 184, 196, 190, 184, 191, 185, 179, 192, 187, 180, 193, 189, 182, 196, 191, 183, 200, 190, 184, 202, 194, 187, 202, 196, 188, 202, 187, 181, 192, 174, 170, 167, 151, 149, 128, 118, 120, 106, 102, 106, 95, 94, 98, 41, 51, 37, 51, 65, 50, 73, 89, 77, 110, 126, 118, 137, 150, 145, 154, 161, 160, 171, 176, 174, 164, 166, 166, 136, 135, 136, 79, 76, 76, 60, 52, 49, 69, 55, 49, 103, 84, 75, 146, 128, 118, 175, 159, 152, 193, 182, 177, 207, 201, 195, 213, 209, 203, 216, 212, 206, 215, 211, 205, 216, 212, 205, 217, 211, 205, 217, 208, 203, 213, 202, 199, 209, 203, 198, 206, 203, 197, 204, 195, 191, 184, 171, 168, 155, 142, 140, 121, 111, 109, 111, 106, 106, 99, 97, 100, 40, 48, 40, 47, 60, 47, 66, 84, 64, 79, 99, 76, 85, 100, 83, 89, 96, 92, 130, 135, 134, 106, 108, 108, 59, 59, 60, 25, 24, 25, 28, 22, 21, 40, 28, 24, 58, 37, 29, 94, 69, 60, 139, 114, 106, 181, 161, 155, 199, 188, 184, 210, 205, 199, 216, 214, 208, 218, 216, 209, 220, 216, 209, 221, 217, 210, 220, 219, 212, 218, 217, 210, 212, 210, 203, 205, 202, 196, 197, 193, 189, 163, 159, 160, 132, 129, 131, 110, 107, 106, 109, 108, 107, 102, 101, 103, 25, 32, 28, 28, 40, 32, 43, 60, 44, 53, 73, 52, 57, 73, 56, 54, 63, 57, 47, 53, 49, 33, 35, 32, 19, 19, 17, 18, 16, 15, 19, 15, 16, 23, 16, 16, 32, 18, 16, 64, 44, 40, 111, 88, 83, 160, 138, 132, 186, 169, 163, 202, 193, 186, 212, 210, 201, 214, 215, 206, 216, 216, 208, 218, 218, 210, 218, 219, 211, 218, 217, 209, 213, 210, 203, 205, 200, 194, 193, 188, 185, 158, 158, 163, 129, 134, 140, 114, 118, 120, 109, 108, 107, 106, 101, 99, 23, 29, 29, 23, 33, 32, 29, 44, 38, 21, 40, 28, 27, 45, 32, 41, 54, 44, 24, 32, 25, 18, 20, 14, 17, 14, 10, 21, 14, 11, 22, 14, 13, 25, 16, 16, 31, 19, 19, 43, 25, 22, 61, 36, 30, 88, 56, 48, 129, 95, 88, 171, 146, 138, 201, 187, 178, 212, 206, 199, 216, 212, 206, 219, 216, 210, 222, 219, 212, 223, 218, 212, 215, 208, 202, 200, 191, 187, 177, 168, 166, 151, 148, 151, 129, 132, 138, 115, 122, 127, 114, 117, 118, 113, 108, 108, 25, 30, 32, 27, 36, 37, 43, 54, 53, 27, 42, 36, 23, 39, 30, 30, 47, 36, 34, 49, 37, 43, 48, 39, 53, 48, 43, 66, 53, 50, 64, 48, 44, 55, 37, 33, 41, 21, 18, 48, 22, 16, 60, 26, 16, 79, 36, 24, 111, 64, 53, 152, 116, 106, 186, 162, 154, 204, 191, 185, 209, 199, 194, 215, 207, 202, 220, 216, 209, 222, 217, 210, 218, 210, 204, 205, 195, 191, 180, 168, 167, 153, 146, 146, 132, 131, 133, 119, 125, 129, 117, 121, 126, 113, 113, 117, 24, 27, 26, 21, 25, 24, 25, 29, 28, 19, 24, 22, 24, 33, 29, 38, 55, 45, 53, 74, 57, 82, 89, 73, 115, 104, 93, 147, 126, 120, 142, 116, 110, 119, 90, 83, 84, 50, 41, 76, 36, 25, 87, 42, 28, 112, 63, 46, 146, 99, 79, 171, 137, 120, 188, 168, 155, 197, 185, 177, 201, 189, 183, 208, 199, 192, 216, 212, 204, 218, 213, 203, 213, 206, 198, 200, 191, 187, 175, 164, 167, 148, 143, 146, 130, 130, 133, 124, 125, 129, 120, 121, 128, 115, 115, 122, 26, 26, 26, 21, 21, 21, 17, 17, 17, 15, 15, 16, 23, 26, 24, 38, 47, 41, 60, 69, 53, 89, 81, 64, 121, 95, 80, 154, 122, 109, 166, 134, 122, 161, 127, 113, 137, 98, 83, 107, 62, 45, 112, 63, 44, 138, 87, 67, 167, 121, 100, 178, 144, 126, 185, 163, 148, 191, 178, 168, 194, 182, 176, 201, 192, 187, 212, 204, 197, 210, 200, 191, 201, 190, 183, 185, 174, 171, 160, 153, 154, 141, 138, 141, 129, 129, 133, 125, 126, 130, 123, 123, 129, 117, 117, 125, 27, 25, 25, 22, 20, 20, 19, 17, 17, 24, 20, 20, 39, 32, 29, 60, 51, 43, 81, 69, 54, 108, 83, 67, 136, 99, 84, 159, 123, 109, 179, 147, 133, 187, 155, 141, 181, 145, 129, 141, 99, 80, 135, 89, 68, 153, 104, 83, 176, 132, 112, 184, 149, 128, 190, 164, 146, 198, 181, 170, 199, 187, 182, 203, 193, 189, 208, 196, 191, 206, 188, 182, 197, 179, 175, 180, 167, 165, 152, 147, 148, 140, 139, 140, 132, 133, 136, 128, 129, 133, 124, 125, 131, 118, 118, 126, 28, 24, 25, 24, 20, 21, 26, 19, 18, 55, 42, 39, 90, 71, 65, 126, 103, 93, 141, 114, 101, 153, 120, 106, 163, 126, 113, 172, 140, 126, 186, 157, 143, 195, 166, 152, 195, 165, 150, 156, 119, 101, 146, 102, 82, 153, 105, 83, 167, 121, 99, 179, 138, 116, 191, 159, 139, 207, 186, 172, 210, 198, 191, 213, 204, 200, 216, 205, 199, 214, 197, 190, 209, 192, 185, 199, 186, 181, 182, 177, 175, 174, 172, 172, 165, 164, 166, 151, 151, 155, 134, 134, 140, 120, 121, 127, 28, 24, 25, 33, 24, 25, 50, 33, 31, 95, 70, 65, 137, 109, 101, 171, 144, 134, 180, 149, 139, 182, 151, 138, 183, 154, 139, 190, 164, 148, 199, 174, 158, 205, 180, 164, 204, 180, 165, 174, 141, 123, 158, 113, 93, 153, 100, 78, 167, 117, 93, 183, 137, 113, 197, 160, 139, 209, 185, 168, 216, 203, 193, 221, 214, 206, 224, 216, 209, 218, 205, 196, 215, 202, 192, 213, 203, 195, 214, 208, 203, 211, 207, 205, 202, 199, 200, 185, 184, 186, 148, 148, 152, 124, 125, 130, 31, 27, 22, 47, 33, 27, 76, 52, 45, 112, 82, 73, 145, 114, 103, 172, 142, 128, 167, 136, 122, 170, 140, 125, 180, 154, 138, 201, 181, 164, 208, 192, 176, 212, 198, 183, 215, 201, 187, 197, 170, 155, 176, 136, 120, 161, 111, 93, 173, 128, 108, 190, 148, 128, 203, 169, 149, 211, 187, 171, 220, 206, 195, 224, 216, 208, 224, 216, 209, 215, 204, 194, 213, 201, 191, 214, 203, 195, 212, 206, 201, 209, 205, 203, 198, 195, 196, 176, 175, 178, 142, 142, 146, 121, 122, 127, 68, 44, 32, 90, 58, 44, 118, 79, 64, 133, 93, 79, 148, 109, 93, 161, 123, 107, 161, 123, 107, 163, 128, 113, 171, 142, 127, 192, 171, 156, 203, 188, 175, 212, 201, 190, 220, 211, 201, 216, 198, 187, 194, 165, 152, 167, 130, 115, 170, 133, 118, 185, 150, 134, 201, 171, 154, 214, 192, 177, 223, 210, 199, 226, 218, 210, 224, 216, 209, 217, 206, 197, 217, 205, 196, 217, 207, 199, 213, 207, 202, 208, 204, 202, 190, 188, 188, 157, 156, 158, 130, 131, 134, 116, 118, 122, 113, 66, 51, 136, 85, 68, 160, 109, 91, 167, 118, 100, 170, 125, 108, 171, 129, 114, 172, 133, 118, 175, 141, 125, 181, 152, 135, 191, 168, 151, 200, 180, 168, 209, 193, 184, 217, 206, 199, 223, 211, 202, 210, 194, 184, 190, 170, 158, 186, 165, 155, 200, 180, 170, 216, 197, 186, 226, 210, 200, 230, 218, 210, 229, 220, 213, 226, 219, 212, 224, 215, 207, 222, 213, 205, 220, 212, 205, 217, 210, 205, 207, 203, 200, 183, 181, 180, 143, 143, 144, 123, 124, 127, 113, 115, 119, 133, 77, 58, 140, 84, 64, 162, 108, 87, 165, 114, 92, 168, 119, 99, 170, 125, 107, 168, 127, 108, 169, 132, 112, 176, 142, 121, 193, 162, 141, 199, 172, 156, 205, 183, 172, 212, 197, 190, 219, 208, 201, 214, 204, 196, 204, 193, 184, 202, 191, 184, 213, 201, 195, 225, 213, 207, 231, 220, 213, 231, 220, 214, 229, 220, 214, 226, 219, 213, 225, 217, 211, 223, 216, 209, 221, 214, 208, 220, 214, 209, 208, 203, 201, 180, 177, 178, 137, 135, 139, 120, 119, 124, 111, 112, 118, 152, 95, 75, 149, 91, 70, 161, 106, 83, 157, 105, 82, 156, 105, 83, 156, 109, 87, 161, 115, 94, 166, 122, 100, 173, 130, 107, 182, 141, 118, 191, 156, 136, 199, 172, 156, 206, 187, 177, 213, 201, 193, 211, 200, 193, 203, 193, 185, 203, 192, 186, 209, 198, 192, 217, 206, 200, 225, 214, 208, 224, 214, 208, 223, 214, 208, 222, 215, 209, 222, 215, 209, 221, 214, 208, 220, 213, 207, 220, 213, 208, 215, 207, 206, 198, 192, 193, 170, 165, 167, 147, 144, 148, 135, 133, 138, 170, 118, 100, 167, 116, 97, 169, 119, 100, 164, 117, 98, 158, 112, 93, 152, 108, 88, 161, 117, 98, 173, 129, 110, 183, 139, 120, 186, 142, 122, 190, 153, 132, 197, 167, 149, 206, 186, 173, 211, 198, 189, 211, 201, 194, 208, 199, 193, 209, 198, 192, 209, 199, 193, 211, 200, 194, 214, 203, 197, 213, 203, 197, 212, 203, 197, 211, 203, 197, 211, 204, 198, 210, 203, 197, 209, 202, 196, 209, 201, 195, 209, 201, 196, 207, 200, 195, 202, 195, 191, 195, 190, 187, 186, 183, 181, 169, 129, 110, 172, 131, 114, 172, 132, 115, 167, 127, 111, 160, 120, 104, 154, 114, 98, 163, 124, 107, 175, 137, 120, 187, 151, 133, 194, 160, 142, 199, 171, 154, 206, 183, 168, 213, 196, 184, 212, 201, 192, 210, 202, 196, 208, 202, 197, 208, 200, 195, 207, 199, 193, 206, 198, 192, 206, 198, 192, 205, 197, 191, 204, 196, 190, 203, 196, 190, 202, 196, 190, 202, 195, 189, 202, 195, 189, 202, 194, 188, 203, 195, 189, 204, 196, 190, 205, 198, 192, 206, 199, 194, 201, 195, 190, 163, 133, 123, 169, 137, 126, 167, 135, 122, 163, 130, 116, 156, 124, 110, 152, 120, 107, 166, 136, 122, 180, 152, 138, 194, 168, 153, 204, 181, 166, 213, 194, 180, 218, 203, 191, 220, 207, 198, 217, 208, 201, 215, 208, 202, 214, 208, 202, 214, 207, 201, 214, 206, 201, 214, 206, 200, 214, 207, 201, 213, 206, 200, 212, 205, 199, 211, 204, 198, 212, 205, 199, 212, 205, 199, 212, 205, 199, 213, 206, 200, 215, 208, 202, 216, 209, 203, 216, 209, 203, 217, 210, 204, 211, 204, 199, 167, 150, 148, 166, 146, 143, 154, 131, 128, 149, 124, 120, 146, 123, 117, 148, 127, 120, 163, 145, 137, 182, 165, 157, 198, 184, 175, 208, 195, 186, 213, 202, 194, 214, 205, 198, 213, 205, 198, 211, 204, 198, 211, 203, 197, 211, 204, 198, 212, 205, 199, 212, 205, 199, 212, 205, 199, 212, 205, 199, 212, 205, 199, 211, 204, 198, 210, 203, 197, 210, 203, 197, 210, 203, 197, 211, 204, 198, 213, 206, 200, 213, 206, 201, 214, 207, 201, 214, 207, 201, 214, 207, 201, 210, 203, 197], \"height\": 32, \"channels\": 3, \"width\": 32, \"type\": \"image\", \"id\": 140365507078928}, {\"format\": \"raw\", \"value\": [145, 166, 165, 164, 185, 184, 185, 206, 205, 198, 218, 218, 200, 221, 221, 195, 220, 219, 190, 219, 217, 193, 216, 214, 200, 214, 210, 204, 214, 206, 203, 213, 201, 201, 214, 197, 202, 212, 190, 200, 206, 182, 197, 204, 179, 197, 203, 179, 193, 200, 175, 191, 197, 172, 188, 195, 171, 182, 193, 171, 181, 191, 166, 183, 188, 161, 183, 187, 157, 184, 190, 163, 179, 189, 167, 180, 191, 170, 190, 201, 178, 187, 200, 179, 185, 201, 186, 197, 217, 207, 205, 228, 223, 207, 233, 231, 173, 197, 196, 190, 213, 210, 190, 211, 208, 185, 205, 200, 188, 206, 200, 189, 209, 205, 190, 210, 209, 191, 203, 196, 186, 187, 167, 178, 170, 138, 175, 162, 122, 170, 157, 112, 167, 150, 103, 164, 144, 95, 161, 140, 91, 155, 135, 86, 149, 129, 80, 156, 136, 87, 158, 139, 89, 154, 144, 92, 154, 144, 90, 142, 128, 73, 138, 121, 68, 148, 133, 86, 146, 135, 95, 125, 116, 76, 119, 112, 67, 113, 108, 64, 112, 110, 73, 138, 145, 116, 173, 191, 173, 189, 216, 208, 183, 211, 210, 189, 215, 211, 184, 206, 200, 187, 206, 197, 194, 210, 198, 193, 206, 193, 189, 194, 177, 179, 174, 146, 162, 146, 103, 152, 127, 73, 153, 122, 66, 158, 125, 71, 162, 132, 76, 167, 140, 82, 172, 145, 87, 166, 139, 81, 152, 124, 66, 163, 135, 77, 179, 152, 95, 185, 167, 111, 177, 159, 102, 145, 123, 64, 140, 116, 57, 144, 121, 66, 140, 122, 72, 130, 118, 70, 101, 92, 45, 89, 78, 30, 92, 81, 35, 97, 94, 59, 138, 151, 129, 178, 204, 194, 187, 217, 215, 186, 213, 208, 188, 208, 199, 190, 204, 189, 181, 190, 172, 164, 166, 140, 155, 144, 104, 155, 136, 84, 157, 130, 68, 161, 127, 62, 166, 128, 69, 170, 132, 81, 169, 140, 89, 167, 146, 92, 173, 151, 97, 176, 155, 100, 167, 146, 91, 157, 136, 82, 178, 159, 106, 191, 176, 133, 163, 147, 105, 143, 124, 76, 146, 126, 74, 145, 127, 75, 122, 107, 57, 116, 108, 64, 115, 112, 74, 102, 95, 55, 91, 80, 41, 98, 94, 62, 139, 149, 130, 177, 201, 194, 191, 219, 215, 187, 207, 196, 173, 179, 159, 157, 148, 117, 152, 131, 91, 149, 121, 73, 150, 122, 65, 156, 127, 67, 156, 127, 66, 155, 126, 66, 156, 128, 70, 159, 133, 79, 158, 134, 84, 151, 127, 79, 145, 119, 68, 147, 120, 66, 148, 124, 70, 139, 119, 67, 148, 133, 84, 168, 154, 110, 141, 129, 85, 142, 134, 88, 137, 130, 82, 119, 108, 63, 133, 115, 73, 136, 118, 79, 124, 114, 76, 112, 107, 71, 99, 100, 68, 116, 126, 102, 151, 172, 156, 175, 204, 195, 194, 219, 213, 179, 192, 176, 139, 136, 108, 135, 116, 76, 147, 115, 65, 146, 111, 55, 151, 120, 60, 157, 128, 69, 157, 130, 73, 152, 128, 72, 153, 131, 75, 170, 149, 95, 179, 160, 109, 168, 149, 99, 147, 124, 71, 133, 110, 52, 121, 100, 43, 109, 95, 40, 113, 105, 54, 132, 125, 83, 135, 132, 92, 151, 151, 111, 140, 140, 100, 119, 113, 76, 139, 126, 91, 155, 141, 104, 140, 131, 92, 125, 122, 87, 119, 125, 96, 136, 153, 132, 155, 181, 167, 173, 203, 194, 195, 215, 207, 166, 172, 150, 133, 124, 88, 144, 123, 75, 141, 114, 59, 136, 108, 51, 145, 118, 60, 157, 131, 73, 162, 137, 81, 156, 134, 79, 152, 132, 78, 151, 132, 79, 143, 129, 77, 134, 123, 70, 132, 118, 61, 126, 112, 52, 112, 100, 41, 93, 87, 30, 85, 85, 33, 117, 120, 86, 151, 154, 127, 158, 160, 131, 156, 156, 126, 161, 159, 128, 150, 146, 114, 130, 126, 91, 125, 124, 85, 116, 119, 84, 103, 113, 85, 126, 143, 124, 151, 176, 165, 170, 198, 193, 192, 208, 197, 158, 157, 129, 137, 121, 76, 143, 120, 63, 131, 107, 47, 132, 109, 50, 135, 112, 55, 142, 119, 63, 148, 127, 71, 149, 129, 75, 148, 131, 79, 148, 133, 82, 138, 125, 75, 121, 109, 57, 125, 111, 54, 125, 109, 49, 113, 100, 41, 97, 90, 33, 88, 87, 36, 131, 136, 106, 167, 170, 149, 166, 163, 140, 179, 172, 147, 183, 177, 148, 145, 143, 109, 102, 104, 66, 104, 109, 70, 101, 110, 76, 84, 98, 72, 117, 135, 120, 147, 171, 164, 168, 195, 193, 183, 195, 181, 144, 137, 103, 135, 114, 63, 133, 109, 49, 121, 99, 37, 123, 103, 43, 128, 106, 50, 133, 111, 58, 134, 114, 62, 132, 114, 63, 134, 118, 67, 141, 125, 75, 144, 128, 78, 131, 113, 62, 128, 107, 52, 123, 102, 44, 113, 96, 39, 102, 90, 36, 100, 95, 46, 145, 147, 119, 178, 177, 157, 177, 168, 146, 173, 160, 134, 155, 144, 111, 125, 119, 81, 105, 106, 65, 107, 114, 75, 86, 98, 63, 73, 88, 61, 109, 129, 112, 144, 167, 160, 166, 192, 191, 169, 174, 150, 135, 119, 75, 129, 106, 53, 120, 99, 46, 119, 97, 39, 125, 98, 40, 129, 104, 53, 136, 114, 66, 144, 127, 81, 141, 125, 77, 135, 117, 66, 134, 113, 58, 133, 108, 52, 125, 100, 44, 119, 96, 40, 114, 95, 40, 106, 92, 39, 102, 93, 40, 98, 93, 45, 132, 133, 103, 155, 155, 131, 143, 139, 113, 139, 132, 102, 129, 120, 85, 124, 115, 77, 128, 121, 81, 130, 128, 87, 127, 130, 89, 123, 133, 96, 127, 144, 116, 148, 170, 154, 167, 192, 185, 156, 156, 128, 130, 110, 63, 129, 106, 54, 118, 99, 50, 118, 97, 42, 123, 96, 40, 131, 106, 57, 138, 118, 72, 140, 125, 81, 143, 128, 83, 137, 120, 69, 130, 108, 52, 123, 101, 43, 108, 89, 31, 101, 85, 28, 98, 86, 30, 100, 92, 38, 108, 104, 49, 89, 88, 36, 95, 94, 53, 110, 109, 72, 96, 93, 55, 101, 97, 57, 103, 96, 54, 109, 100, 58, 134, 125, 83, 156, 147, 107, 155, 151, 112, 148, 151, 115, 141, 152, 124, 151, 168, 152, 169, 189, 184, 145, 142, 112, 125, 104, 56, 125, 101, 49, 116, 100, 51, 115, 98, 45, 127, 105, 51, 152, 130, 83, 165, 148, 105, 152, 139, 97, 137, 124, 81, 129, 114, 66, 127, 108, 55, 119, 104, 48, 109, 99, 43, 102, 94, 38, 98, 92, 35, 99, 95, 37, 97, 95, 37, 85, 84, 26, 92, 89, 33, 105, 99, 46, 95, 90, 39, 99, 93, 44, 106, 100, 53, 120, 113, 68, 146, 137, 96, 147, 137, 101, 127, 121, 86, 127, 129, 95, 126, 135, 110, 145, 160, 148, 166, 186, 183, 141, 135, 102, 128, 104, 54, 125, 101, 49, 114, 100, 53, 123, 109, 60, 148, 129, 78, 168, 149, 104, 177, 161, 120, 170, 160, 120, 158, 148, 106, 149, 136, 89, 138, 121, 70, 127, 113, 61, 132, 121, 69, 130, 119, 66, 117, 107, 51, 102, 93, 35, 98, 89, 29, 116, 106, 45, 121, 111, 48, 116, 105, 44, 116, 106, 51, 119, 110, 61, 113, 106, 62, 127, 121, 81, 143, 137, 101, 124, 120, 85, 107, 108, 73, 108, 117, 84, 107, 123, 99, 135, 157, 145, 160, 185, 183, 142, 134, 99, 130, 107, 57, 127, 104, 51, 118, 104, 56, 126, 113, 65, 149, 133, 84, 164, 148, 104, 170, 157, 117, 170, 161, 122, 167, 159, 118, 169, 158, 113, 163, 149, 100, 147, 132, 84, 134, 120, 73, 137, 121, 73, 139, 123, 72, 133, 117, 63, 127, 110, 54, 133, 116, 58, 135, 120, 59, 124, 110, 52, 115, 103, 51, 120, 111, 66, 98, 91, 54, 96, 91, 60, 121, 120, 88, 104, 109, 73, 82, 92, 55, 74, 91, 57, 85, 109, 84, 125, 154, 142, 153, 185, 182, 136, 131, 95, 124, 110, 61, 126, 107, 51, 128, 109, 52, 125, 108, 55, 141, 126, 78, 161, 147, 104, 166, 153, 111, 167, 155, 113, 174, 162, 120, 179, 167, 124, 181, 168, 124, 175, 162, 118, 169, 156, 113, 166, 153, 109, 163, 150, 106, 165, 151, 106, 159, 145, 100, 134, 120, 74, 112, 101, 53, 112, 103, 56, 107, 101, 57, 103, 100, 60, 96, 97, 61, 78, 83, 49, 80, 87, 50, 61, 71, 27, 38, 52, 9, 41, 60, 22, 76, 99, 71, 125, 151, 138, 154, 181, 180, 133, 128, 92, 125, 113, 65, 130, 112, 55, 130, 110, 51, 122, 103, 48, 126, 108, 58, 139, 120, 71, 142, 122, 74, 144, 124, 76, 146, 126, 77, 153, 133, 84, 155, 135, 87, 157, 140, 93, 169, 155, 109, 183, 168, 123, 176, 162, 117, 171, 157, 112, 171, 156, 111, 159, 145, 99, 142, 128, 81, 140, 129, 82, 136, 127, 83, 131, 126, 84, 135, 134, 95, 109, 110, 74, 85, 89, 50, 58, 65, 20, 34, 44, 1, 40, 55, 17, 76, 97, 69, 127, 152, 139, 154, 181, 179, 134, 128, 93, 129, 117, 68, 130, 112, 55, 128, 108, 49, 123, 105, 50, 120, 101, 49, 127, 103, 47, 129, 104, 47, 128, 103, 46, 125, 100, 43, 127, 102, 45, 134, 109, 52, 138, 116, 62, 136, 116, 67, 140, 120, 71, 138, 118, 69, 136, 116, 66, 138, 118, 69, 158, 137, 87, 187, 166, 115, 185, 164, 114, 175, 157, 110, 173, 159, 114, 164, 154, 113, 138, 131, 92, 112, 107, 67, 88, 87, 44, 55, 60, 17, 44, 55, 18, 77, 96, 69, 128, 152, 139, 154, 182, 181, 138, 132, 97, 141, 129, 81, 137, 119, 61, 129, 109, 49, 125, 107, 52, 124, 107, 53, 128, 106, 48, 129, 106, 46, 133, 110, 50, 133, 110, 50, 130, 107, 48, 135, 112, 54, 137, 113, 57, 129, 103, 49, 125, 100, 46, 130, 105, 51, 135, 109, 56, 139, 114, 61, 166, 140, 87, 185, 156, 103, 180, 151, 99, 171, 145, 95, 168, 146, 99, 161, 142, 98, 141, 125, 83, 122, 109, 68, 104, 95, 54, 88, 86, 46, 62, 70, 34, 80, 98, 71, 130, 155, 141, 156, 185, 184, 140, 135, 99, 139, 126, 78, 133, 115, 59, 122, 104, 47, 122, 104, 51, 135, 118, 66, 139, 123, 70, 133, 117, 63, 145, 127, 72, 155, 136, 80, 140, 120, 63, 134, 113, 55, 132, 109, 53, 135, 110, 56, 141, 115, 61, 144, 118, 62, 140, 113, 57, 142, 115, 58, 166, 138, 81, 179, 145, 90, 176, 142, 88, 168, 137, 86, 163, 137, 88, 154, 132, 85, 143, 124, 79, 135, 119, 76, 113, 101, 60, 101, 95, 54, 82, 86, 49, 93, 108, 81, 135, 159, 145, 156, 185, 184, 141, 137, 100, 138, 120, 72, 131, 114, 66, 121, 110, 67, 127, 112, 66, 149, 131, 84, 152, 141, 99, 145, 135, 92, 146, 131, 86, 146, 127, 77, 142, 118, 65, 141, 116, 61, 141, 121, 70, 150, 136, 89, 154, 138, 88, 141, 123, 69, 132, 112, 54, 130, 109, 47, 147, 123, 61, 162, 129, 73, 159, 125, 72, 152, 122, 69, 149, 124, 72, 138, 119, 68, 128, 113, 62, 127, 114, 66, 117, 107, 61, 114, 107, 60, 106, 103, 59, 110, 118, 86, 140, 158, 144, 157, 184, 185, 137, 134, 99, 136, 120, 73, 141, 127, 82, 126, 118, 79, 118, 106, 63, 131, 112, 64, 132, 115, 69, 129, 114, 69, 128, 112, 66, 124, 107, 61, 126, 109, 63, 139, 123, 76, 157, 143, 97, 157, 145, 99, 148, 135, 86, 136, 122, 69, 126, 110, 55, 115, 99, 40, 118, 99, 39, 136, 110, 54, 141, 112, 60, 137, 112, 59, 134, 113, 61, 129, 112, 62, 123, 110, 60, 115, 103, 55, 112, 101, 53, 123, 113, 63, 111, 106, 59, 108, 112, 78, 138, 153, 138, 157, 181, 182, 132, 132, 98, 125, 111, 66, 131, 119, 75, 119, 113, 76, 115, 105, 64, 122, 103, 55, 124, 103, 52, 128, 109, 60, 126, 110, 64, 122, 110, 67, 128, 119, 79, 140, 134, 95, 149, 140, 97, 137, 124, 76, 126, 113, 64, 125, 112, 61, 120, 108, 56, 107, 96, 41, 96, 84, 28, 112, 94, 40, 128, 109, 56, 130, 112, 60, 124, 108, 58, 128, 114, 66, 140, 128, 81, 129, 116, 69, 114, 101, 51, 119, 107, 56, 119, 112, 63, 117, 118, 83, 138, 150, 133, 158, 180, 179, 134, 136, 103, 123, 111, 68, 126, 117, 76, 113, 111, 76, 117, 110, 71, 129, 114, 68, 133, 116, 69, 131, 115, 70, 122, 109, 65, 117, 107, 66, 129, 121, 82, 127, 121, 82, 121, 111, 68, 124, 109, 61, 121, 109, 59, 120, 109, 59, 115, 106, 56, 98, 92, 41, 87, 82, 31, 97, 89, 35, 106, 96, 42, 110, 100, 48, 113, 102, 53, 120, 109, 62, 140, 129, 83, 141, 128, 81, 123, 107, 56, 120, 106, 52, 127, 117, 67, 110, 109, 71, 127, 137, 118, 159, 178, 176, 135, 141, 114, 119, 111, 71, 127, 118, 76, 111, 107, 69, 112, 106, 67, 130, 119, 77, 128, 119, 75, 113, 105, 61, 108, 100, 57, 115, 106, 64, 123, 115, 73, 113, 104, 62, 112, 101, 56, 119, 107, 58, 118, 108, 59, 114, 106, 58, 105, 100, 52, 95, 92, 44, 91, 89, 41, 106, 105, 54, 107, 105, 53, 101, 97, 46, 111, 104, 55, 120, 110, 63, 129, 117, 72, 141, 127, 82, 126, 111, 62, 112, 98, 46, 105, 95, 44, 90, 89, 49, 119, 128, 106, 156, 175, 170, 139, 155, 139, 107, 108, 73, 119, 109, 61, 119, 106, 58, 111, 101, 61, 110, 104, 64, 106, 102, 53, 96, 92, 41, 97, 93, 45, 105, 101, 54, 112, 107, 63, 104, 98, 56, 102, 97, 52, 101, 96, 49, 104, 99, 52, 99, 94, 47, 95, 91, 44, 94, 90, 42, 99, 97, 50, 110, 114, 71, 106, 110, 66, 92, 93, 43, 101, 98, 44, 117, 108, 56, 123, 109, 62, 136, 123, 82, 126, 116, 77, 103, 96, 49, 94, 91, 39, 85, 89, 45, 114, 127, 102, 153, 174, 168, 154, 175, 158, 106, 114, 79, 97, 94, 44, 104, 96, 42, 98, 91, 43, 91, 88, 42, 88, 87, 35, 90, 88, 36, 86, 84, 34, 90, 88, 40, 106, 103, 58, 107, 105, 61, 100, 98, 53, 92, 90, 42, 88, 86, 39, 83, 81, 33, 83, 81, 34, 93, 91, 43, 105, 104, 57, 104, 108, 65, 96, 102, 56, 89, 91, 40, 90, 89, 34, 100, 94, 42, 106, 96, 49, 121, 111, 70, 124, 118, 78, 114, 109, 61, 103, 102, 49, 86, 93, 48, 112, 128, 103, 150, 173, 168, 167, 191, 177, 119, 134, 104, 81, 88, 43, 79, 80, 27, 84, 83, 30, 84, 84, 31, 78, 80, 26, 81, 83, 30, 79, 81, 30, 83, 84, 36, 101, 102, 56, 103, 104, 59, 93, 94, 47, 84, 85, 36, 86, 87, 38, 82, 83, 34, 82, 83, 35, 89, 90, 42, 93, 95, 46, 86, 90, 43, 80, 85, 35, 79, 83, 29, 79, 81, 26, 79, 79, 28, 87, 85, 39, 107, 104, 62, 113, 111, 65, 107, 106, 53, 101, 103, 48, 84, 93, 49, 111, 129, 106, 147, 173, 171, 171, 197, 196, 141, 163, 146, 91, 106, 74, 67, 76, 31, 74, 75, 27, 74, 74, 23, 68, 72, 17, 71, 77, 22, 73, 79, 26, 81, 86, 36, 90, 95, 47, 87, 92, 45, 82, 86, 38, 74, 80, 29, 84, 90, 39, 82, 87, 36, 80, 85, 35, 82, 87, 36, 74, 79, 28, 75, 79, 28, 74, 79, 26, 69, 74, 17, 67, 73, 16, 71, 76, 25, 91, 94, 51, 101, 103, 61, 90, 91, 42, 79, 81, 24, 79, 85, 27, 77, 89, 44, 110, 131, 110, 146, 174, 175, 171, 199, 205, 152, 178, 171, 119, 140, 118, 89, 104, 70, 66, 73, 31, 62, 67, 19, 60, 67, 14, 61, 68, 16, 61, 69, 18, 68, 75, 26, 78, 84, 38, 73, 77, 33, 66, 71, 26, 67, 72, 25, 72, 77, 30, 70, 75, 27, 61, 66, 19, 63, 68, 21, 62, 67, 20, 65, 70, 19, 72, 78, 22, 70, 77, 20, 73, 82, 27, 87, 96, 47, 89, 99, 56, 81, 89, 44, 74, 79, 25, 71, 77, 20, 67, 76, 22, 82, 97, 59, 122, 144, 128, 147, 175, 179, 167, 199, 203, 152, 181, 177, 134, 160, 145, 122, 144, 119, 90, 109, 77, 62, 77, 38, 56, 69, 20, 53, 64, 14, 50, 60, 10, 54, 62, 13, 63, 68, 20, 61, 64, 18, 54, 58, 11, 56, 61, 12, 61, 66, 17, 65, 70, 21, 60, 64, 15, 56, 61, 12, 60, 65, 14, 67, 70, 14, 75, 79, 21, 76, 81, 26, 77, 83, 32, 80, 88, 40, 72, 82, 38, 64, 75, 28, 62, 76, 24, 62, 76, 30, 72, 89, 55, 101, 121, 102, 131, 156, 150, 148, 175, 179, 167, 197, 206, 157, 186, 189, 134, 161, 157, 119, 143, 132, 109, 131, 115, 91, 111, 87, 71, 91, 54, 56, 74, 32, 49, 66, 21, 46, 61, 12, 45, 58, 6, 45, 57, 4, 43, 56, 1, 43, 57, 0, 52, 66, 7, 56, 70, 11, 55, 68, 10, 52, 67, 8, 54, 67, 9, 60, 63, 11, 63, 63, 15, 67, 69, 23, 70, 73, 32, 70, 75, 38, 74, 80, 45, 76, 89, 57, 80, 102, 74, 91, 115, 92, 107, 133, 117, 125, 155, 146, 138, 171, 168, 142, 175, 177, 168, 197, 206, 165, 194, 201, 149, 177, 181, 130, 157, 159, 119, 145, 144, 116, 141, 138, 108, 134, 128, 96, 121, 111, 87, 111, 97, 78, 100, 81, 70, 91, 66, 65, 85, 56, 58, 79, 45, 56, 78, 40, 59, 81, 43, 60, 83, 44, 63, 85, 47, 67, 90, 51, 74, 96, 59, 80, 100, 72, 86, 105, 83, 94, 115, 95, 103, 126, 110, 115, 139, 127, 126, 151, 142, 133, 161, 155, 138, 169, 166, 142, 174, 172, 143, 177, 176, 145, 180, 180, 141, 178, 179, 135, 173, 175], \"height\": 32, \"channels\": 3, \"width\": 32, \"type\": \"image\", \"id\": 140365507236048}, {\"format\": \"raw\", \"value\": [122, 27, 34, 120, 24, 31, 119, 21, 29, 120, 19, 28, 121, 18, 28, 122, 18, 28, 122, 18, 28, 124, 17, 26, 129, 15, 23, 133, 14, 20, 132, 15, 21, 124, 20, 24, 99, 17, 20, 79, 13, 16, 92, 14, 17, 113, 19, 23, 125, 21, 28, 129, 15, 24, 134, 13, 22, 138, 15, 23, 138, 16, 22, 138, 17, 22, 139, 16, 23, 139, 16, 24, 139, 16, 23, 139, 17, 23, 140, 17, 24, 140, 18, 23, 141, 18, 23, 146, 16, 23, 150, 17, 25, 147, 16, 25, 123, 28, 32, 121, 23, 28, 120, 20, 26, 122, 19, 26, 122, 18, 26, 123, 18, 26, 122, 19, 25, 122, 19, 23, 128, 16, 20, 135, 12, 19, 134, 15, 21, 115, 20, 23, 67, 9, 8, 35, 5, 2, 46, 6, 5, 66, 8, 12, 101, 33, 38, 127, 47, 51, 129, 38, 40, 126, 26, 27, 127, 20, 20, 128, 18, 16, 130, 17, 16, 133, 16, 18, 136, 17, 20, 138, 16, 22, 138, 17, 24, 136, 18, 25, 133, 18, 25, 126, 18, 26, 124, 17, 26, 129, 15, 23, 127, 27, 32, 124, 22, 27, 123, 20, 25, 126, 20, 26, 126, 18, 25, 127, 18, 25, 127, 20, 25, 125, 20, 21, 127, 19, 19, 130, 20, 20, 126, 27, 26, 110, 36, 33, 65, 23, 19, 44, 26, 20, 52, 34, 30, 43, 19, 16, 51, 25, 20, 83, 51, 44, 131, 91, 82, 169, 121, 110, 164, 107, 96, 151, 87, 75, 143, 71, 60, 136, 56, 49, 128, 40, 37, 119, 27, 28, 114, 23, 27, 103, 19, 24, 85, 12, 15, 56, 11, 9, 45, 9, 5, 73, 12, 8, 130, 29, 32, 128, 24, 28, 127, 22, 26, 129, 22, 27, 129, 20, 25, 130, 19, 25, 132, 20, 24, 129, 19, 19, 127, 26, 21, 123, 38, 28, 111, 44, 32, 92, 41, 32, 69, 32, 28, 60, 31, 31, 66, 38, 36, 59, 33, 27, 39, 20, 12, 26, 13, 3, 72, 61, 50, 158, 144, 131, 199, 180, 168, 202, 181, 166, 189, 168, 148, 165, 137, 118, 116, 77, 67, 69, 24, 21, 54, 11, 11, 42, 8, 8, 31, 8, 7, 24, 11, 10, 30, 8, 7, 72, 16, 14, 135, 34, 36, 133, 29, 31, 131, 26, 29, 132, 24, 28, 132, 22, 26, 132, 22, 26, 134, 23, 24, 140, 34, 27, 144, 55, 43, 127, 63, 46, 95, 51, 35, 59, 27, 17, 53, 25, 22, 63, 32, 35, 80, 43, 41, 97, 60, 53, 64, 35, 24, 38, 17, 4, 32, 16, 6, 86, 73, 59, 176, 162, 146, 199, 188, 172, 169, 163, 147, 99, 90, 77, 47, 30, 23, 32, 11, 9, 31, 10, 9, 34, 19, 18, 37, 26, 25, 43, 23, 22, 56, 11, 13, 102, 20, 23, 134, 35, 35, 135, 30, 31, 135, 27, 29, 136, 24, 28, 136, 23, 27, 135, 24, 27, 133, 28, 24, 135, 41, 27, 138, 63, 45, 125, 73, 54, 85, 53, 35, 56, 34, 21, 82, 61, 56, 120, 97, 97, 138, 114, 109, 150, 127, 116, 117, 96, 83, 82, 64, 49, 78, 63, 47, 134, 122, 102, 190, 181, 157, 198, 188, 167, 177, 164, 149, 113, 98, 87, 51, 34, 26, 38, 21, 14, 41, 23, 18, 44, 25, 22, 48, 28, 26, 49, 25, 18, 63, 16, 10, 114, 26, 27, 134, 35, 35, 137, 29, 31, 139, 24, 29, 140, 21, 27, 139, 23, 28, 138, 27, 30, 131, 35, 31, 130, 55, 42, 138, 80, 63, 129, 86, 67, 84, 55, 35, 48, 26, 10, 72, 49, 36, 132, 108, 97, 160, 141, 127, 165, 149, 132, 162, 147, 129, 155, 141, 121, 161, 149, 126, 175, 165, 140, 183, 175, 147, 180, 170, 141, 177, 164, 132, 169, 155, 124, 137, 123, 96, 119, 103, 82, 114, 98, 83, 99, 83, 74, 78, 62, 55, 57, 39, 29, 64, 24, 17, 113, 32, 30, 136, 34, 35, 140, 27, 31, 142, 23, 29, 141, 22, 28, 136, 26, 30, 132, 35, 34, 141, 66, 59, 165, 116, 102, 166, 129, 112, 117, 87, 66, 76, 51, 28, 83, 59, 35, 128, 103, 78, 166, 139, 113, 180, 151, 120, 182, 153, 118, 177, 148, 112, 173, 144, 106, 167, 138, 98, 164, 134, 92, 168, 138, 95, 160, 132, 87, 154, 131, 85, 161, 141, 98, 170, 151, 113, 170, 151, 121, 160, 142, 119, 139, 122, 105, 115, 99, 86, 95, 79, 65, 83, 47, 37, 115, 36, 33, 141, 33, 36, 143, 27, 32, 142, 25, 31, 138, 30, 32, 130, 42, 38, 143, 75, 64, 170, 127, 113, 179, 159, 143, 168, 152, 134, 140, 122, 100, 133, 112, 84, 159, 135, 102, 170, 142, 106, 162, 133, 94, 165, 130, 91, 161, 123, 85, 147, 108, 68, 140, 100, 58, 134, 92, 48, 145, 102, 57, 147, 102, 56, 134, 90, 47, 124, 83, 45, 119, 81, 46, 123, 87, 55, 132, 99, 71, 144, 116, 91, 144, 118, 95, 111, 87, 67, 67, 44, 29, 63, 21, 14, 112, 29, 27, 146, 33, 36, 148, 27, 33, 145, 28, 33, 138, 39, 38, 142, 73, 64, 170, 131, 112, 186, 172, 151, 180, 179, 161, 172, 170, 151, 168, 159, 136, 174, 157, 127, 179, 154, 119, 157, 126, 84, 124, 92, 46, 107, 78, 42, 115, 88, 59, 115, 86, 58, 99, 66, 38, 102, 67, 38, 113, 76, 45, 110, 70, 39, 103, 59, 31, 97, 49, 28, 80, 32, 14, 72, 26, 7, 79, 37, 17, 101, 64, 43, 124, 89, 68, 127, 94, 73, 97, 66, 50, 73, 23, 17, 116, 25, 25, 147, 35, 31, 149, 31, 28, 145, 32, 30, 144, 54, 50, 164, 111, 102, 179, 162, 148, 177, 180, 162, 176, 183, 163, 175, 178, 159, 173, 171, 150, 175, 164, 139, 176, 153, 122, 155, 122, 83, 124, 84, 39, 103, 70, 30, 119, 94, 61, 144, 118, 92, 132, 105, 86, 132, 104, 88, 94, 64, 47, 74, 43, 23, 64, 33, 15, 62, 35, 24, 63, 36, 28, 82, 53, 44, 90, 58, 47, 77, 43, 30, 80, 43, 28, 91, 53, 37, 102, 66, 50, 101, 47, 36, 126, 31, 29, 134, 42, 33, 133, 46, 35, 135, 62, 47, 150, 98, 82, 173, 146, 131, 178, 172, 158, 174, 179, 164, 176, 181, 163, 181, 185, 166, 181, 182, 163, 179, 172, 150, 180, 163, 134, 169, 140, 105, 140, 102, 61, 122, 80, 40, 120, 79, 45, 123, 84, 58, 123, 88, 70, 110, 78, 66, 68, 40, 29, 42, 18, 6, 42, 20, 7, 74, 52, 39, 114, 89, 77, 124, 96, 83, 106, 74, 60, 81, 45, 31, 74, 34, 19, 83, 42, 26, 92, 59, 41, 106, 61, 45, 128, 42, 34, 153, 96, 83, 160, 120, 99, 164, 143, 117, 169, 161, 135, 171, 171, 150, 176, 176, 162, 178, 178, 166, 175, 177, 161, 177, 180, 164, 180, 182, 166, 176, 173, 154, 172, 162, 137, 166, 147, 116, 148, 121, 85, 139, 97, 61, 141, 92, 59, 125, 78, 51, 107, 63, 44, 67, 31, 19, 41, 14, 8, 29, 12, 7, 30, 13, 6, 62, 35, 21, 114, 81, 61, 119, 84, 64, 89, 53, 33, 73, 34, 14, 77, 35, 16, 93, 52, 33, 94, 67, 45, 103, 66, 47, 127, 48, 38, 193, 169, 155, 199, 187, 166, 190, 191, 164, 177, 184, 157, 171, 178, 157, 177, 180, 166, 181, 181, 170, 178, 177, 163, 174, 174, 161, 175, 177, 164, 178, 179, 165, 182, 180, 160, 180, 172, 146, 168, 154, 123, 163, 137, 105, 163, 129, 99, 146, 107, 81, 112, 71, 50, 58, 20, 7, 40, 10, 4, 34, 15, 12, 32, 14, 9, 55, 26, 10, 92, 58, 34, 105, 70, 47, 86, 51, 29, 74, 38, 18, 83, 46, 27, 96, 60, 41, 101, 71, 51, 112, 67, 51, 130, 46, 38, 199, 198, 183, 206, 202, 184, 198, 192, 171, 190, 185, 166, 183, 181, 165, 180, 182, 169, 184, 186, 174, 186, 184, 172, 182, 182, 170, 182, 185, 174, 189, 194, 182, 202, 205, 189, 212, 211, 189, 210, 207, 180, 199, 198, 170, 178, 173, 145, 148, 130, 104, 115, 83, 61, 72, 35, 19, 50, 17, 7, 42, 15, 11, 45, 21, 14, 68, 40, 20, 99, 69, 44, 107, 78, 55, 103, 74, 53, 101, 72, 54, 98, 69, 54, 100, 70, 56, 107, 70, 56, 121, 59, 49, 136, 36, 34, 207, 207, 192, 207, 202, 186, 204, 194, 179, 206, 195, 180, 197, 189, 175, 185, 182, 169, 187, 187, 173, 193, 193, 180, 193, 193, 181, 190, 193, 180, 193, 197, 184, 196, 200, 186, 202, 204, 187, 206, 208, 188, 201, 207, 187, 189, 195, 174, 176, 171, 148, 151, 134, 112, 115, 90, 68, 88, 59, 40, 80, 50, 33, 88, 57, 41, 104, 70, 51, 117, 84, 64, 117, 87, 67, 113, 86, 66, 118, 92, 73, 124, 98, 81, 123, 94, 78, 121, 74, 62, 117, 47, 40, 120, 30, 27, 202, 196, 181, 206, 200, 184, 209, 204, 188, 211, 205, 189, 202, 197, 181, 192, 186, 170, 188, 185, 169, 191, 192, 178, 196, 198, 184, 198, 200, 186, 200, 202, 188, 198, 200, 186, 199, 201, 187, 203, 206, 192, 199, 202, 188, 188, 192, 175, 190, 190, 172, 189, 183, 163, 166, 155, 131, 141, 123, 98, 123, 100, 72, 116, 88, 63, 116, 82, 63, 111, 80, 62, 107, 79, 60, 106, 80, 60, 107, 78, 59, 113, 80, 62, 119, 79, 63, 121, 66, 56, 104, 38, 33, 95, 26, 22, 194, 188, 172, 205, 199, 183, 211, 205, 189, 210, 204, 188, 204, 198, 182, 196, 190, 174, 184, 181, 166, 184, 185, 170, 194, 196, 182, 204, 206, 192, 208, 210, 196, 207, 209, 195, 207, 209, 195, 206, 209, 194, 199, 206, 191, 191, 200, 183, 193, 199, 181, 190, 192, 172, 191, 188, 167, 183, 175, 152, 158, 146, 122, 135, 120, 97, 126, 107, 86, 119, 101, 80, 113, 93, 73, 111, 86, 68, 107, 73, 57, 103, 57, 45, 100, 45, 37, 95, 36, 33, 93, 33, 34, 88, 26, 28, 195, 189, 173, 204, 198, 182, 207, 201, 185, 207, 201, 184, 203, 197, 181, 199, 193, 177, 190, 187, 172, 184, 185, 171, 188, 190, 176, 198, 200, 186, 203, 205, 191, 208, 210, 196, 211, 213, 199, 210, 213, 198, 203, 210, 195, 195, 204, 189, 200, 207, 191, 197, 201, 185, 195, 196, 180, 192, 190, 173, 180, 175, 158, 163, 157, 139, 157, 149, 129, 154, 144, 124, 147, 133, 114, 137, 113, 97, 125, 87, 76, 110, 56, 50, 96, 31, 30, 84, 21, 24, 83, 26, 30, 82, 25, 30, 200, 194, 179, 202, 196, 181, 194, 188, 173, 190, 184, 168, 191, 185, 169, 193, 187, 171, 193, 190, 175, 184, 185, 171, 177, 179, 165, 180, 182, 168, 182, 184, 170, 185, 187, 173, 191, 193, 179, 193, 196, 182, 194, 197, 183, 199, 202, 189, 208, 209, 197, 212, 212, 201, 205, 203, 193, 191, 187, 177, 180, 174, 165, 172, 166, 155, 165, 158, 142, 161, 152, 134, 158, 144, 128, 150, 126, 113, 129, 91, 83, 103, 48, 45, 87, 20, 22, 84, 19, 22, 81, 22, 24, 79, 19, 22, 193, 188, 170, 191, 185, 166, 179, 172, 154, 175, 168, 151, 185, 179, 162, 192, 186, 171, 194, 192, 177, 190, 191, 177, 183, 184, 170, 176, 177, 163, 173, 173, 160, 171, 171, 158, 163, 163, 150, 157, 156, 143, 162, 160, 148, 179, 175, 165, 188, 182, 173, 197, 191, 183, 199, 193, 186, 187, 179, 173, 170, 161, 156, 160, 150, 143, 151, 137, 125, 148, 132, 117, 144, 123, 110, 125, 95, 85, 102, 59, 53, 87, 31, 29, 82, 17, 19, 84, 18, 20, 85, 20, 21, 83, 18, 19, 179, 174, 149, 185, 178, 150, 186, 175, 149, 187, 176, 152, 194, 185, 166, 196, 189, 175, 192, 189, 177, 191, 189, 177, 186, 184, 172, 178, 174, 162, 173, 168, 157, 168, 161, 151, 156, 147, 138, 151, 142, 132, 146, 137, 124, 157, 149, 134, 154, 146, 131, 159, 149, 134, 166, 156, 142, 167, 156, 142, 156, 144, 131, 142, 125, 113, 134, 106, 96, 130, 95, 86, 113, 72, 66, 89, 40, 36, 80, 23, 22, 83, 18, 19, 84, 15, 18, 85, 16, 19, 87, 19, 21, 88, 18, 21, 163, 155, 127, 167, 155, 124, 171, 156, 125, 174, 158, 130, 180, 167, 143, 184, 175, 155, 185, 178, 162, 188, 182, 168, 189, 183, 169, 185, 177, 165, 172, 162, 150, 153, 142, 131, 143, 130, 119, 153, 138, 127, 149, 134, 117, 145, 128, 107, 136, 119, 98, 127, 107, 87, 128, 106, 87, 129, 105, 86, 115, 89, 71, 111, 79, 65, 117, 71, 65, 106, 55, 52, 86, 33, 31, 77, 20, 19, 77, 18, 17, 79, 17, 18, 81, 17, 18, 85, 18, 20, 90, 20, 23, 91, 19, 23, 172, 157, 127, 172, 153, 119, 168, 146, 111, 168, 145, 111, 168, 148, 116, 169, 153, 124, 173, 160, 137, 177, 167, 148, 179, 169, 152, 173, 161, 145, 162, 148, 133, 158, 142, 127, 141, 124, 109, 123, 103, 89, 122, 98, 78, 111, 84, 60, 109, 80, 56, 111, 78, 55, 109, 73, 51, 111, 71, 51, 111, 68, 49, 107, 57, 43, 99, 38, 36, 89, 24, 26, 82, 18, 19, 80, 18, 18, 80, 18, 19, 80, 20, 20, 81, 21, 21, 87, 20, 23, 92, 20, 24, 94, 20, 25, 172, 150, 118, 173, 145, 109, 173, 143, 103, 175, 145, 104, 170, 143, 103, 170, 148, 110, 166, 149, 117, 159, 144, 121, 156, 141, 121, 152, 136, 116, 149, 131, 112, 154, 133, 115, 153, 130, 113, 128, 104, 86, 120, 92, 71, 107, 76, 52, 121, 86, 63, 124, 84, 63, 119, 72, 54, 115, 63, 46, 114, 58, 43, 105, 43, 34, 93, 23, 24, 87, 15, 19, 84, 14, 18, 84, 15, 19, 84, 17, 20, 84, 19, 21, 85, 20, 22, 90, 20, 23, 93, 18, 23, 96, 19, 25, 172, 143, 111, 178, 144, 106, 175, 139, 96, 171, 135, 90, 164, 132, 86, 162, 135, 90, 161, 139, 101, 160, 141, 113, 160, 141, 118, 156, 136, 113, 141, 119, 97, 143, 119, 98, 153, 126, 106, 150, 123, 103, 132, 104, 84, 120, 89, 70, 130, 95, 77, 122, 80, 65, 119, 70, 57, 109, 54, 44, 98, 37, 29, 92, 27, 23, 89, 20, 21, 88, 17, 21, 87, 16, 20, 87, 15, 19, 88, 15, 19, 90, 16, 21, 91, 17, 22, 94, 18, 23, 96, 17, 23, 98, 19, 25, 172, 137, 102, 175, 138, 96, 172, 133, 87, 169, 128, 80, 159, 119, 72, 150, 110, 66, 152, 115, 78, 161, 128, 100, 165, 137, 112, 150, 127, 102, 128, 109, 85, 135, 115, 94, 145, 122, 104, 138, 112, 96, 122, 96, 78, 143, 114, 95, 134, 101, 82, 111, 71, 54, 98, 49, 38, 93, 36, 32, 90, 26, 29, 90, 22, 27, 89, 19, 21, 90, 18, 20, 91, 17, 20, 92, 16, 19, 93, 16, 19, 95, 15, 20, 96, 15, 20, 98, 17, 22, 99, 17, 23, 101, 19, 24, 176, 137, 101, 173, 135, 92, 168, 128, 81, 162, 119, 70, 145, 100, 54, 137, 91, 50, 147, 100, 66, 156, 114, 86, 152, 117, 91, 140, 113, 87, 134, 113, 89, 141, 121, 101, 143, 121, 105, 144, 119, 105, 150, 125, 104, 151, 124, 98, 128, 96, 70, 109, 69, 46, 101, 53, 36, 94, 37, 29, 90, 25, 27, 91, 21, 27, 94, 19, 23, 95, 18, 20, 96, 18, 21, 97, 17, 21, 98, 17, 21, 100, 16, 21, 100, 15, 21, 101, 16, 21, 102, 17, 22, 103, 18, 23, 169, 131, 95, 173, 134, 92, 180, 140, 93, 175, 133, 84, 159, 115, 69, 146, 100, 58, 147, 101, 66, 151, 108, 78, 141, 102, 75, 139, 106, 79, 142, 113, 89, 142, 115, 95, 152, 125, 108, 161, 135, 118, 155, 129, 103, 138, 109, 76, 136, 103, 69, 143, 102, 70, 134, 84, 59, 113, 54, 38, 95, 30, 24, 94, 22, 23, 98, 20, 23, 100, 19, 22, 101, 18, 22, 102, 18, 22, 103, 17, 22, 104, 16, 22, 105, 16, 22, 104, 16, 22, 103, 16, 22, 104, 18, 23, 163, 125, 89, 170, 131, 89, 182, 142, 95, 182, 139, 90, 169, 124, 78, 150, 103, 62, 141, 95, 58, 137, 93, 61, 132, 88, 60, 138, 97, 70, 137, 98, 75, 142, 107, 86, 160, 129, 110, 157, 129, 110, 155, 127, 99, 163, 133, 96, 157, 121, 84, 151, 107, 73, 141, 89, 62, 118, 57, 39, 97, 29, 21, 95, 20, 20, 102, 19, 23, 105, 18, 24, 106, 18, 24, 107, 17, 24, 108, 16, 23, 109, 15, 23, 110, 14, 23, 109, 17, 24, 107, 18, 24, 108, 18, 25, 157, 119, 82, 152, 114, 71, 167, 127, 80, 170, 129, 79, 157, 113, 66, 140, 93, 52, 129, 83, 46, 127, 83, 49, 129, 83, 52, 132, 83, 57, 127, 79, 56, 143, 101, 80, 156, 122, 102, 149, 121, 101, 182, 154, 127, 198, 165, 134, 164, 126, 94, 139, 93, 64, 132, 77, 54, 112, 48, 35, 96, 25, 21, 97, 18, 21, 105, 17, 23, 108, 17, 24, 110, 17, 25, 111, 17, 25, 112, 16, 25, 114, 14, 24, 114, 14, 24, 113, 17, 26, 111, 19, 26, 111, 19, 27, 155, 116, 82, 142, 101, 62, 156, 112, 69, 157, 111, 66, 143, 97, 53, 129, 82, 43, 120, 73, 37, 120, 72, 39, 125, 73, 44, 118, 62, 39, 115, 59, 39, 123, 72, 54, 131, 89, 70, 136, 101, 80, 170, 133, 106, 181, 140, 110, 140, 98, 67, 125, 78, 49, 125, 69, 48, 105, 41, 30, 94, 20, 21, 99, 16, 24, 106, 16, 24, 110, 16, 24, 113, 16, 24, 116, 15, 24, 118, 15, 24, 119, 14, 24, 119, 15, 24, 117, 17, 25, 116, 19, 27, 115, 20, 27], \"height\": 32, \"channels\": 3, \"width\": 32, \"type\": \"image\", \"id\": 140365507236240}], \"selected_variable\": {\"name\": [\"<SArray>\"], \"dtype\": \"Image\", \"view_component\": \"Images\", \"view_file\": \"sarray\", \"descriptives\": {\"rows\": 5}, \"type\": \"SArray\", \"view_components\": [\"Images\"]}}, e);\n",
       "                });\n",
       "            })();\n",
       "        "
      ]
     },
     "metadata": {},
     "output_type": "display_data"
    }
   ],
   "source": [
    "cat_neighbors['image'].show()"
   ]
  },
  {
   "cell_type": "markdown",
   "metadata": {},
   "source": [
    "Very cool results showing similar cats.\n",
    "\n",
    "## Finding similar images to a car"
   ]
  },
  {
   "cell_type": "code",
   "execution_count": 108,
   "metadata": {
    "collapsed": false
   },
   "outputs": [
    {
     "data": {
      "application/javascript": [
       "$(\"head\").append($(\"<link/>\").attr({\n",
       "  rel:  \"stylesheet\",\n",
       "  type: \"text/css\",\n",
       "  href: \"//cdnjs.cloudflare.com/ajax/libs/font-awesome/4.1.0/css/font-awesome.min.css\"\n",
       "}));\n",
       "$(\"head\").append($(\"<link/>\").attr({\n",
       "  rel:  \"stylesheet\",\n",
       "  type: \"text/css\",\n",
       "  href: \"//dato.com/files/canvas/1.8.1/css/canvas.css\"\n",
       "}));\n",
       "\n",
       "            (function(){\n",
       "\n",
       "                var e = null;\n",
       "                if (typeof element == 'undefined') {\n",
       "                    var scripts = document.getElementsByTagName('script');\n",
       "                    var thisScriptTag = scripts[scripts.length-1];\n",
       "                    var parentDiv = thisScriptTag.parentNode;\n",
       "                    e = document.createElement('div');\n",
       "                    parentDiv.appendChild(e);\n",
       "                } else {\n",
       "                    e = element[0];\n",
       "                }\n",
       "\n",
       "                if (typeof requirejs !== 'undefined') {\n",
       "                    // disable load timeout; ipython_app.js is large and can take a while to load.\n",
       "                    requirejs.config({waitSeconds: 0});\n",
       "                }\n",
       "\n",
       "                require(['//dato.com/files/canvas/1.8.1/js/ipython_app.js'], function(IPythonApp){\n",
       "                    var app = new IPythonApp();\n",
       "                    app.attachView('sarray','Images', {\"ipython\": true, \"rows\": [{\"format\": \"raw\", \"value\": [35, 59, 53, 36, 56, 56, 42, 62, 64, 40, 59, 63, 43, 60, 65, 79, 103, 89, 77, 104, 74, 67, 88, 65, 70, 93, 73, 61, 82, 69, 60, 80, 70, 56, 74, 74, 52, 69, 73, 46, 67, 63, 56, 77, 64, 55, 75, 63, 48, 68, 57, 41, 61, 57, 109, 132, 137, 115, 140, 140, 75, 101, 93, 78, 102, 94, 82, 103, 100, 104, 126, 133, 98, 125, 121, 89, 116, 103, 73, 99, 86, 75, 98, 101, 80, 100, 111, 101, 131, 143, 148, 186, 196, 145, 179, 185, 36, 59, 52, 31, 51, 48, 30, 49, 48, 41, 58, 60, 47, 60, 64, 73, 93, 80, 81, 107, 78, 61, 80, 62, 55, 74, 61, 60, 78, 67, 61, 78, 70, 54, 69, 70, 53, 67, 71, 47, 61, 61, 54, 69, 63, 48, 64, 58, 45, 62, 56, 32, 49, 50, 69, 90, 89, 80, 103, 93, 44, 65, 58, 54, 71, 68, 70, 86, 82, 88, 110, 105, 80, 108, 84, 58, 83, 62, 50, 73, 63, 55, 77, 72, 67, 87, 93, 83, 110, 109, 79, 108, 91, 77, 105, 94, 25, 47, 41, 24, 43, 39, 30, 48, 45, 35, 50, 49, 53, 63, 63, 78, 91, 83, 89, 105, 85, 79, 87, 74, 74, 82, 69, 72, 78, 72, 62, 65, 66, 60, 65, 69, 65, 71, 72, 54, 59, 60, 51, 61, 58, 41, 51, 51, 34, 47, 49, 31, 46, 47, 38, 55, 54, 55, 73, 62, 52, 68, 65, 61, 73, 74, 65, 76, 77, 67, 87, 75, 68, 95, 68, 52, 74, 60, 43, 63, 57, 42, 63, 55, 48, 69, 62, 62, 88, 70, 57, 81, 61, 48, 72, 57, 83, 96, 94, 81, 96, 96, 54, 62, 61, 106, 93, 97, 144, 126, 133, 156, 133, 140, 169, 144, 148, 175, 147, 153, 175, 149, 154, 172, 144, 154, 166, 138, 149, 161, 138, 149, 159, 140, 149, 148, 132, 141, 138, 124, 131, 121, 104, 113, 96, 85, 95, 73, 71, 79, 58, 64, 67, 57, 70, 63, 50, 63, 62, 62, 73, 72, 62, 72, 71, 58, 71, 68, 57, 79, 62, 49, 71, 58, 44, 60, 54, 38, 55, 52, 36, 57, 52, 58, 82, 63, 53, 74, 61, 48, 71, 57, 189, 196, 199, 173, 189, 195, 101, 101, 99, 131, 106, 102, 173, 140, 137, 187, 147, 141, 198, 152, 149, 201, 150, 155, 207, 148, 163, 221, 153, 172, 226, 165, 184, 230, 175, 192, 234, 181, 202, 226, 166, 186, 217, 135, 158, 209, 122, 146, 196, 115, 137, 181, 107, 130, 165, 106, 127, 149, 106, 120, 119, 89, 103, 91, 85, 89, 68, 76, 75, 52, 64, 62, 50, 68, 57, 43, 62, 53, 38, 56, 49, 35, 50, 49, 33, 51, 48, 52, 73, 56, 50, 70, 54, 40, 60, 49, 143, 152, 153, 122, 138, 146, 70, 71, 72, 81, 81, 75, 121, 123, 115, 120, 117, 106, 104, 96, 88, 103, 74, 74, 150, 67, 76, 139, 70, 80, 138, 78, 91, 143, 88, 105, 168, 103, 121, 177, 89, 112, 153, 83, 99, 147, 88, 100, 134, 74, 89, 128, 68, 87, 124, 66, 88, 125, 66, 87, 124, 66, 89, 124, 77, 99, 108, 78, 95, 62, 68, 66, 47, 64, 57, 36, 52, 50, 38, 52, 52, 71, 79, 83, 72, 86, 95, 64, 84, 83, 69, 89, 86, 69, 88, 89, 91, 69, 81, 62, 61, 70, 43, 40, 38, 74, 83, 90, 97, 117, 127, 89, 99, 100, 69, 76, 79, 94, 60, 64, 123, 54, 64, 88, 87, 81, 79, 77, 81, 98, 105, 114, 154, 121, 133, 163, 93, 108, 166, 164, 164, 132, 147, 161, 75, 80, 101, 77, 76, 92, 55, 52, 73, 59, 55, 78, 56, 53, 76, 72, 67, 84, 73, 60, 82, 72, 72, 73, 83, 92, 68, 101, 109, 93, 109, 110, 90, 112, 124, 137, 103, 137, 172, 96, 133, 169, 93, 134, 175, 90, 135, 177, 124, 100, 86, 78, 67, 62, 50, 49, 47, 94, 110, 92, 90, 109, 101, 76, 87, 74, 59, 59, 54, 104, 55, 52, 122, 63, 64, 91, 105, 88, 72, 78, 79, 98, 118, 110, 142, 140, 131, 163, 110, 116, 133, 141, 148, 98, 120, 145, 65, 82, 115, 70, 78, 103, 69, 77, 98, 88, 99, 118, 81, 91, 107, 103, 124, 123, 100, 128, 131, 91, 105, 112, 146, 151, 94, 152, 159, 110, 125, 139, 114, 76, 109, 105, 86, 126, 114, 99, 135, 126, 75, 105, 123, 40, 59, 90, 158, 165, 97, 102, 92, 65, 74, 68, 61, 112, 118, 95, 115, 121, 100, 106, 110, 80, 70, 60, 55, 118, 49, 55, 118, 69, 60, 111, 123, 87, 65, 65, 63, 101, 109, 81, 147, 146, 103, 160, 98, 99, 115, 114, 110, 107, 116, 121, 54, 72, 109, 44, 54, 86, 58, 66, 85, 109, 120, 110, 89, 91, 102, 56, 79, 117, 82, 111, 126, 100, 122, 134, 121, 130, 99, 135, 148, 95, 82, 103, 102, 72, 114, 103, 72, 114, 114, 89, 135, 129, 63, 92, 104, 37, 41, 48, 141, 140, 86, 160, 86, 75, 162, 107, 96, 130, 105, 99, 114, 99, 94, 96, 79, 76, 84, 65, 62, 131, 48, 52, 76, 37, 44, 64, 55, 55, 54, 49, 54, 74, 70, 60, 112, 104, 86, 155, 85, 91, 129, 117, 113, 115, 128, 128, 58, 71, 105, 51, 58, 85, 67, 72, 83, 123, 137, 115, 91, 95, 103, 48, 63, 102, 76, 99, 113, 107, 132, 136, 102, 116, 113, 110, 126, 104, 57, 80, 95, 74, 107, 103, 74, 107, 103, 76, 117, 111, 47, 66, 83, 45, 47, 51, 142, 104, 66, 207, 48, 63, 202, 78, 86, 187, 86, 93, 187, 108, 111, 167, 117, 116, 136, 97, 94, 156, 51, 59, 104, 48, 59, 80, 59, 65, 64, 53, 60, 49, 36, 46, 57, 41, 53, 140, 60, 78, 108, 82, 96, 76, 82, 99, 63, 65, 91, 60, 61, 85, 71, 72, 88, 119, 126, 117, 90, 92, 104, 71, 75, 103, 100, 115, 124, 125, 146, 142, 99, 112, 137, 89, 109, 139, 81, 109, 153, 86, 113, 143, 82, 108, 127, 70, 96, 119, 57, 69, 95, 61, 64, 70, 138, 87, 55, 204, 44, 50, 196, 53, 54, 221, 51, 66, 233, 68, 89, 223, 87, 103, 177, 93, 100, 200, 102, 115, 206, 101, 118, 175, 86, 101, 143, 70, 82, 110, 58, 72, 83, 54, 66, 144, 61, 78, 129, 68, 88, 64, 58, 79, 64, 54, 72, 65, 54, 71, 77, 61, 78, 110, 89, 97, 98, 77, 94, 83, 64, 86, 112, 96, 107, 131, 123, 126, 96, 95, 122, 77, 84, 126, 70, 91, 144, 72, 101, 152, 79, 113, 165, 90, 125, 171, 104, 133, 171, 97, 121, 155, 139, 80, 55, 178, 57, 46, 170, 66, 54, 214, 44, 51, 225, 37, 51, 224, 49, 65, 188, 59, 70, 208, 86, 98, 236, 97, 118, 243, 112, 136, 233, 115, 136, 213, 97, 117, 185, 80, 99, 193, 75, 98, 190, 74, 100, 154, 59, 81, 153, 49, 70, 155, 48, 69, 167, 59, 81, 174, 65, 89, 169, 64, 86, 171, 65, 89, 179, 83, 109, 175, 88, 114, 156, 84, 111, 128, 90, 124, 65, 61, 106, 35, 44, 87, 36, 54, 104, 59, 82, 126, 74, 100, 145, 69, 104, 160, 156, 80, 54, 117, 47, 34, 99, 61, 46, 200, 67, 59, 219, 44, 48, 203, 46, 50, 183, 42, 45, 220, 34, 49, 230, 47, 66, 239, 73, 95, 242, 95, 120, 246, 114, 139, 248, 124, 151, 233, 117, 144, 229, 126, 152, 237, 101, 131, 236, 68, 98, 234, 59, 88, 240, 67, 98, 241, 74, 104, 237, 80, 111, 239, 94, 128, 237, 108, 143, 232, 108, 144, 231, 123, 160, 215, 138, 173, 176, 109, 142, 138, 82, 114, 94, 61, 98, 53, 43, 80, 30, 39, 79, 23, 43, 89, 140, 97, 61, 73, 43, 36, 82, 75, 73, 171, 72, 62, 215, 45, 46, 193, 49, 47, 177, 45, 45, 224, 39, 49, 222, 39, 51, 226, 41, 59, 233, 46, 67, 237, 61, 86, 240, 89, 119, 231, 99, 127, 238, 135, 158, 249, 158, 183, 248, 147, 173, 247, 127, 155, 245, 103, 134, 243, 96, 130, 245, 109, 146, 245, 118, 156, 243, 122, 162, 243, 126, 167, 242, 128, 171, 240, 131, 172, 237, 130, 170, 222, 129, 164, 210, 119, 155, 191, 101, 139, 144, 78, 116, 75, 51, 85, 135, 137, 78, 71, 66, 49, 82, 78, 74, 144, 74, 66, 208, 43, 44, 188, 46, 44, 173, 41, 41, 219, 38, 43, 214, 44, 51, 216, 52, 64, 219, 42, 55, 229, 33, 53, 205, 38, 59, 189, 51, 68, 230, 66, 92, 246, 102, 131, 249, 144, 171, 252, 167, 193, 252, 167, 195, 252, 152, 183, 250, 130, 165, 247, 123, 160, 247, 119, 157, 250, 113, 150, 247, 110, 147, 242, 103, 141, 237, 98, 136, 234, 96, 134, 230, 99, 140, 226, 103, 143, 234, 107, 145, 223, 92, 128, 144, 156, 85, 106, 108, 68, 117, 115, 108, 141, 94, 86, 197, 47, 42, 183, 53, 46, 172, 48, 43, 218, 49, 49, 210, 45, 47, 211, 42, 47, 211, 38, 48, 217, 34, 49, 220, 34, 53, 215, 39, 60, 226, 39, 63, 235, 37, 64, 240, 56, 84, 244, 96, 124, 248, 135, 164, 250, 169, 194, 249, 197, 213, 249, 143, 171, 234, 98, 134, 223, 94, 129, 236, 67, 102, 226, 57, 90, 213, 48, 80, 204, 46, 78, 187, 58, 88, 170, 53, 88, 171, 65, 101, 198, 72, 102, 132, 145, 119, 117, 118, 82, 104, 104, 98, 110, 82, 73, 182, 66, 55, 178, 58, 48, 169, 49, 42, 215, 50, 48, 207, 46, 45, 209, 46, 45, 208, 41, 45, 214, 30, 42, 217, 29, 44, 218, 33, 51, 219, 35, 57, 228, 32, 54, 228, 31, 55, 231, 36, 61, 236, 52, 79, 239, 89, 115, 243, 131, 157, 239, 117, 147, 185, 129, 151, 134, 117, 137, 171, 50, 77, 174, 32, 58, 154, 34, 56, 136, 32, 55, 122, 67, 86, 108, 46, 65, 105, 28, 52, 109, 60, 81, 107, 133, 158, 119, 122, 116, 130, 126, 121, 68, 62, 55, 108, 64, 45, 150, 76, 57, 166, 48, 43, 210, 48, 46, 203, 46, 42, 206, 43, 43, 207, 37, 41, 209, 29, 39, 207, 27, 40, 209, 32, 45, 212, 36, 53, 216, 33, 51, 220, 33, 51, 222, 31, 53, 222, 32, 53, 224, 35, 57, 224, 44, 69, 195, 76, 98, 143, 146, 151, 115, 125, 117, 104, 60, 69, 116, 41, 63, 124, 70, 92, 115, 66, 85, 98, 64, 80, 97, 68, 80, 95, 60, 71, 84, 69, 78, 86, 115, 147, 93, 102, 127, 121, 115, 117, 42, 43, 42, 28, 19, 14, 68, 42, 30, 135, 47, 43, 197, 51, 51, 200, 46, 43, 202, 41, 40, 202, 35, 38, 202, 31, 38, 203, 27, 38, 210, 31, 44, 168, 33, 46, 123, 25, 38, 147, 32, 48, 201, 39, 56, 213, 29, 47, 209, 28, 45, 203, 26, 43, 144, 47, 55, 98, 112, 117, 123, 146, 154, 109, 102, 114, 101, 82, 100, 108, 103, 120, 100, 99, 114, 84, 88, 95, 79, 90, 94, 71, 83, 88, 66, 76, 76, 91, 120, 145, 71, 92, 123, 90, 88, 83, 62, 66, 40, 34, 36, 25, 28, 23, 16, 58, 26, 24, 121, 40, 39, 174, 47, 47, 198, 45, 45, 199, 39, 39, 199, 38, 42, 206, 43, 54, 193, 38, 48, 84, 23, 28, 42, 24, 29, 61, 41, 48, 125, 40, 52, 200, 30, 46, 201, 26, 40, 179, 24, 36, 120, 38, 38, 82, 90, 98, 108, 134, 160, 114, 130, 146, 72, 81, 84, 68, 75, 75, 63, 68, 68, 54, 56, 52, 49, 54, 49, 49, 55, 53, 50, 56, 51, 91, 115, 119, 84, 99, 110, 106, 101, 84, 120, 124, 67, 104, 111, 64, 68, 69, 42, 29, 29, 18, 35, 19, 16, 83, 29, 29, 153, 48, 50, 193, 50, 51, 194, 41, 42, 182, 45, 51, 137, 35, 40, 55, 29, 29, 79, 65, 67, 93, 83, 87, 77, 56, 65, 145, 34, 46, 182, 27, 39, 156, 29, 39, 115, 34, 34, 83, 41, 39, 103, 96, 105, 85, 96, 97, 48, 47, 41, 53, 52, 49, 56, 58, 54, 48, 53, 49, 47, 55, 55, 49, 57, 56, 50, 55, 51, 77, 92, 80, 79, 91, 84, 93, 97, 75, 125, 135, 67, 124, 135, 68, 115, 121, 69, 80, 84, 51, 35, 37, 24, 25, 19, 16, 50, 22, 23, 111, 35, 38, 171, 43, 46, 188, 44, 47, 104, 30, 31, 54, 43, 42, 66, 56, 56, 75, 67, 66, 81, 78, 82, 90, 45, 55, 165, 31, 42, 150, 30, 38, 104, 30, 32, 90, 38, 42, 96, 84, 86, 61, 65, 62, 47, 47, 43, 52, 56, 52, 52, 59, 56, 48, 52, 51, 48, 53, 51, 47, 53, 54, 55, 49, 53, 98, 126, 136, 103, 125, 127, 90, 102, 78, 127, 137, 75, 125, 137, 73, 125, 135, 78, 121, 129, 75, 95, 101, 55, 52, 54, 32, 24, 23, 16, 26, 14, 13, 60, 22, 22, 107, 34, 33, 69, 33, 31, 52, 47, 45, 60, 54, 46, 92, 84, 77, 88, 85, 88, 65, 49, 59, 135, 29, 39, 132, 26, 28, 100, 31, 33, 100, 52, 48, 78, 67, 61, 51, 57, 52, 50, 53, 50, 52, 58, 57, 53, 60, 58, 54, 56, 58, 57, 50, 56, 60, 45, 58, 62, 60, 86, 110, 162, 203, 136, 170, 186, 95, 103, 79, 129, 137, 79, 131, 142, 82, 126, 135, 66, 124, 134, 65, 119, 130, 70, 111, 120, 66, 75, 78, 47, 32, 32, 22, 13, 13, 11, 16, 14, 11, 34, 28, 25, 58, 51, 47, 93, 90, 78, 182, 182, 181, 115, 111, 115, 45, 44, 47, 93, 38, 44, 123, 42, 46, 105, 25, 31, 86, 18, 19, 66, 31, 37, 64, 48, 53, 63, 44, 52, 64, 47, 61, 64, 51, 71, 64, 66, 98, 65, 88, 129, 61, 96, 140, 62, 95, 115, 79, 112, 134, 75, 96, 102, 58, 62, 46, 119, 126, 66, 125, 135, 69, 128, 136, 71, 135, 141, 78, 130, 139, 74, 127, 138, 70, 120, 129, 68, 92, 98, 56, 48, 50, 32, 21, 23, 17, 19, 18, 16, 57, 55, 53, 95, 93, 86, 127, 129, 135, 95, 93, 98, 46, 42, 49, 107, 98, 102, 192, 167, 173, 125, 92, 115, 85, 69, 99, 66, 69, 98, 58, 75, 115, 74, 95, 132, 90, 113, 145, 72, 105, 143, 61, 89, 115, 56, 75, 81, 44, 54, 52, 62, 74, 51, 26, 40, 34, 19, 33, 27, 39, 45, 37, 111, 117, 64, 127, 137, 71, 120, 128, 66, 127, 134, 70, 130, 139, 72, 127, 137, 68, 123, 133, 58, 123, 131, 65, 112, 120, 68, 68, 76, 48, 37, 41, 29, 61, 60, 59, 106, 108, 106, 91, 90, 73, 74, 71, 65, 49, 49, 53, 67, 65, 69, 115, 121, 125, 90, 116, 131, 71, 98, 127, 66, 85, 109, 56, 71, 91, 57, 67, 77, 63, 71, 71, 48, 57, 54, 37, 45, 39, 37, 42, 38, 29, 36, 27, 48, 61, 40, 13, 34, 31, 15, 32, 26, 31, 40, 34, 96, 103, 61, 121, 130, 71, 113, 125, 62, 118, 128, 63, 126, 135, 69, 131, 140, 67, 127, 135, 61, 126, 134, 66, 134, 140, 81, 122, 131, 75, 95, 102, 62, 79, 79, 63, 141, 140, 142, 127, 126, 113, 72, 69, 63, 41, 43, 46, 19, 22, 23, 21, 16, 21, 22, 21, 22, 30, 22, 23, 36, 20, 19, 25, 13, 14, 17, 15, 16, 30, 36, 31, 31, 35, 33, 22, 28, 27, 21, 29, 27, 23, 35, 26, 36, 53, 34, 34, 52, 51, 17, 29, 23, 24, 35, 27, 68, 77, 43, 106, 115, 63, 115, 127, 68, 118, 128, 67, 121, 131, 62, 126, 134, 61, 125, 134, 63, 121, 133, 62, 125, 135, 70, 126, 134, 71, 125, 133, 75, 111, 115, 75, 128, 123, 117, 133, 130, 129, 73, 71, 70, 31, 32, 32, 17, 18, 20, 17, 12, 18, 15, 11, 16, 13, 10, 14, 12, 10, 14, 10, 10, 14, 12, 16, 16, 19, 25, 24, 18, 24, 25, 13, 21, 18, 12, 22, 16, 15, 28, 17, 23, 40, 22, 29, 39, 37, 12, 21, 20, 33, 44, 27, 58, 68, 36, 75, 83, 47, 107, 117, 66, 113, 124, 65, 114, 124, 61, 123, 134, 66, 120, 132, 65, 113, 126, 58, 120, 133, 67, 128, 138, 74, 125, 137, 76, 124, 135, 77, 109, 113, 80, 90, 87, 80, 51, 50, 48, 17, 21, 21, 12, 15, 17, 13, 15, 18, 15, 17, 19, 15, 18, 18, 14, 19, 18, 12, 19, 16, 12, 20, 15, 13, 21, 16, 13, 22, 17, 13, 26, 18, 16, 30, 20, 17, 34, 22, 22, 40, 24, 9, 20, 31, 11, 20, 29, 42, 49, 31, 63, 73, 42, 60, 69, 40, 70, 79, 43, 97, 107, 55, 119, 128, 67, 120, 132, 64, 117, 132, 64, 118, 129, 69, 122, 135, 76, 127, 140, 76, 124, 140, 76, 128, 140, 76, 126, 137, 80, 103, 114, 67, 68, 76, 48, 33, 42, 29, 22, 31, 24, 17, 26, 21, 17, 27, 21, 17, 27, 19, 19, 31, 21, 17, 31, 22, 18, 31, 22, 20, 33, 23, 21, 35, 24, 21, 37, 25, 24, 40, 27, 27, 43, 28, 28, 46, 28, 4, 19, 34, 9, 21, 31, 38, 47, 32, 61, 72, 41, 59, 72, 39, 59, 69, 39, 70, 80, 43, 106, 117, 64, 123, 134, 69, 115, 129, 65, 120, 134, 75, 119, 133, 76, 115, 130, 67, 116, 132, 66, 121, 133, 70, 128, 140, 83, 125, 138, 80, 111, 127, 69, 101, 116, 70, 79, 93, 53, 58, 73, 41, 47, 65, 39, 42, 57, 36, 32, 46, 31, 27, 43, 30, 25, 41, 29, 26, 41, 29, 29, 44, 30, 30, 47, 31, 33, 50, 32, 35, 52, 33, 35, 51, 32], \"height\": 32, \"channels\": 3, \"width\": 32, \"type\": \"image\", \"id\": 140365507235920}], \"selected_variable\": {\"name\": [\"<SArray>\"], \"dtype\": \"Image\", \"view_component\": \"Images\", \"view_file\": \"sarray\", \"descriptives\": {\"rows\": 1}, \"type\": \"SArray\", \"view_components\": [\"Images\"]}}, e);\n",
       "                });\n",
       "            })();\n",
       "        "
      ]
     },
     "metadata": {},
     "output_type": "display_data"
    }
   ],
   "source": [
    "car = image_train[8:9]\n",
    "car['image'].show()"
   ]
  },
  {
   "cell_type": "code",
   "execution_count": 109,
   "metadata": {
    "collapsed": false
   },
   "outputs": [
    {
     "name": "stdout",
     "output_type": "stream",
     "text": [
      "PROGRESS: Starting pairwise querying.\n",
      "PROGRESS: +--------------+---------+-------------+--------------+\n",
      "PROGRESS: | Query points | # Pairs | % Complete. | Elapsed Time |\n",
      "PROGRESS: +--------------+---------+-------------+--------------+\n",
      "PROGRESS: | 0            | 1       | 0.0498753   | 8.107ms      |\n",
      "PROGRESS: | Done         |         | 100         | 121.422ms    |\n",
      "PROGRESS: +--------------+---------+-------------+--------------+\n"
     ]
    },
    {
     "data": {
      "application/javascript": [
       "$(\"head\").append($(\"<link/>\").attr({\n",
       "  rel:  \"stylesheet\",\n",
       "  type: \"text/css\",\n",
       "  href: \"//cdnjs.cloudflare.com/ajax/libs/font-awesome/4.1.0/css/font-awesome.min.css\"\n",
       "}));\n",
       "$(\"head\").append($(\"<link/>\").attr({\n",
       "  rel:  \"stylesheet\",\n",
       "  type: \"text/css\",\n",
       "  href: \"//dato.com/files/canvas/1.8.1/css/canvas.css\"\n",
       "}));\n",
       "\n",
       "            (function(){\n",
       "\n",
       "                var e = null;\n",
       "                if (typeof element == 'undefined') {\n",
       "                    var scripts = document.getElementsByTagName('script');\n",
       "                    var thisScriptTag = scripts[scripts.length-1];\n",
       "                    var parentDiv = thisScriptTag.parentNode;\n",
       "                    e = document.createElement('div');\n",
       "                    parentDiv.appendChild(e);\n",
       "                } else {\n",
       "                    e = element[0];\n",
       "                }\n",
       "\n",
       "                if (typeof requirejs !== 'undefined') {\n",
       "                    // disable load timeout; ipython_app.js is large and can take a while to load.\n",
       "                    requirejs.config({waitSeconds: 0});\n",
       "                }\n",
       "\n",
       "                require(['//dato.com/files/canvas/1.8.1/js/ipython_app.js'], function(IPythonApp){\n",
       "                    var app = new IPythonApp();\n",
       "                    app.attachView('sarray','Images', {\"ipython\": true, \"rows\": [{\"format\": \"raw\", \"value\": [35, 59, 53, 36, 56, 56, 42, 62, 64, 40, 59, 63, 43, 60, 65, 79, 103, 89, 77, 104, 74, 67, 88, 65, 70, 93, 73, 61, 82, 69, 60, 80, 70, 56, 74, 74, 52, 69, 73, 46, 67, 63, 56, 77, 64, 55, 75, 63, 48, 68, 57, 41, 61, 57, 109, 132, 137, 115, 140, 140, 75, 101, 93, 78, 102, 94, 82, 103, 100, 104, 126, 133, 98, 125, 121, 89, 116, 103, 73, 99, 86, 75, 98, 101, 80, 100, 111, 101, 131, 143, 148, 186, 196, 145, 179, 185, 36, 59, 52, 31, 51, 48, 30, 49, 48, 41, 58, 60, 47, 60, 64, 73, 93, 80, 81, 107, 78, 61, 80, 62, 55, 74, 61, 60, 78, 67, 61, 78, 70, 54, 69, 70, 53, 67, 71, 47, 61, 61, 54, 69, 63, 48, 64, 58, 45, 62, 56, 32, 49, 50, 69, 90, 89, 80, 103, 93, 44, 65, 58, 54, 71, 68, 70, 86, 82, 88, 110, 105, 80, 108, 84, 58, 83, 62, 50, 73, 63, 55, 77, 72, 67, 87, 93, 83, 110, 109, 79, 108, 91, 77, 105, 94, 25, 47, 41, 24, 43, 39, 30, 48, 45, 35, 50, 49, 53, 63, 63, 78, 91, 83, 89, 105, 85, 79, 87, 74, 74, 82, 69, 72, 78, 72, 62, 65, 66, 60, 65, 69, 65, 71, 72, 54, 59, 60, 51, 61, 58, 41, 51, 51, 34, 47, 49, 31, 46, 47, 38, 55, 54, 55, 73, 62, 52, 68, 65, 61, 73, 74, 65, 76, 77, 67, 87, 75, 68, 95, 68, 52, 74, 60, 43, 63, 57, 42, 63, 55, 48, 69, 62, 62, 88, 70, 57, 81, 61, 48, 72, 57, 83, 96, 94, 81, 96, 96, 54, 62, 61, 106, 93, 97, 144, 126, 133, 156, 133, 140, 169, 144, 148, 175, 147, 153, 175, 149, 154, 172, 144, 154, 166, 138, 149, 161, 138, 149, 159, 140, 149, 148, 132, 141, 138, 124, 131, 121, 104, 113, 96, 85, 95, 73, 71, 79, 58, 64, 67, 57, 70, 63, 50, 63, 62, 62, 73, 72, 62, 72, 71, 58, 71, 68, 57, 79, 62, 49, 71, 58, 44, 60, 54, 38, 55, 52, 36, 57, 52, 58, 82, 63, 53, 74, 61, 48, 71, 57, 189, 196, 199, 173, 189, 195, 101, 101, 99, 131, 106, 102, 173, 140, 137, 187, 147, 141, 198, 152, 149, 201, 150, 155, 207, 148, 163, 221, 153, 172, 226, 165, 184, 230, 175, 192, 234, 181, 202, 226, 166, 186, 217, 135, 158, 209, 122, 146, 196, 115, 137, 181, 107, 130, 165, 106, 127, 149, 106, 120, 119, 89, 103, 91, 85, 89, 68, 76, 75, 52, 64, 62, 50, 68, 57, 43, 62, 53, 38, 56, 49, 35, 50, 49, 33, 51, 48, 52, 73, 56, 50, 70, 54, 40, 60, 49, 143, 152, 153, 122, 138, 146, 70, 71, 72, 81, 81, 75, 121, 123, 115, 120, 117, 106, 104, 96, 88, 103, 74, 74, 150, 67, 76, 139, 70, 80, 138, 78, 91, 143, 88, 105, 168, 103, 121, 177, 89, 112, 153, 83, 99, 147, 88, 100, 134, 74, 89, 128, 68, 87, 124, 66, 88, 125, 66, 87, 124, 66, 89, 124, 77, 99, 108, 78, 95, 62, 68, 66, 47, 64, 57, 36, 52, 50, 38, 52, 52, 71, 79, 83, 72, 86, 95, 64, 84, 83, 69, 89, 86, 69, 88, 89, 91, 69, 81, 62, 61, 70, 43, 40, 38, 74, 83, 90, 97, 117, 127, 89, 99, 100, 69, 76, 79, 94, 60, 64, 123, 54, 64, 88, 87, 81, 79, 77, 81, 98, 105, 114, 154, 121, 133, 163, 93, 108, 166, 164, 164, 132, 147, 161, 75, 80, 101, 77, 76, 92, 55, 52, 73, 59, 55, 78, 56, 53, 76, 72, 67, 84, 73, 60, 82, 72, 72, 73, 83, 92, 68, 101, 109, 93, 109, 110, 90, 112, 124, 137, 103, 137, 172, 96, 133, 169, 93, 134, 175, 90, 135, 177, 124, 100, 86, 78, 67, 62, 50, 49, 47, 94, 110, 92, 90, 109, 101, 76, 87, 74, 59, 59, 54, 104, 55, 52, 122, 63, 64, 91, 105, 88, 72, 78, 79, 98, 118, 110, 142, 140, 131, 163, 110, 116, 133, 141, 148, 98, 120, 145, 65, 82, 115, 70, 78, 103, 69, 77, 98, 88, 99, 118, 81, 91, 107, 103, 124, 123, 100, 128, 131, 91, 105, 112, 146, 151, 94, 152, 159, 110, 125, 139, 114, 76, 109, 105, 86, 126, 114, 99, 135, 126, 75, 105, 123, 40, 59, 90, 158, 165, 97, 102, 92, 65, 74, 68, 61, 112, 118, 95, 115, 121, 100, 106, 110, 80, 70, 60, 55, 118, 49, 55, 118, 69, 60, 111, 123, 87, 65, 65, 63, 101, 109, 81, 147, 146, 103, 160, 98, 99, 115, 114, 110, 107, 116, 121, 54, 72, 109, 44, 54, 86, 58, 66, 85, 109, 120, 110, 89, 91, 102, 56, 79, 117, 82, 111, 126, 100, 122, 134, 121, 130, 99, 135, 148, 95, 82, 103, 102, 72, 114, 103, 72, 114, 114, 89, 135, 129, 63, 92, 104, 37, 41, 48, 141, 140, 86, 160, 86, 75, 162, 107, 96, 130, 105, 99, 114, 99, 94, 96, 79, 76, 84, 65, 62, 131, 48, 52, 76, 37, 44, 64, 55, 55, 54, 49, 54, 74, 70, 60, 112, 104, 86, 155, 85, 91, 129, 117, 113, 115, 128, 128, 58, 71, 105, 51, 58, 85, 67, 72, 83, 123, 137, 115, 91, 95, 103, 48, 63, 102, 76, 99, 113, 107, 132, 136, 102, 116, 113, 110, 126, 104, 57, 80, 95, 74, 107, 103, 74, 107, 103, 76, 117, 111, 47, 66, 83, 45, 47, 51, 142, 104, 66, 207, 48, 63, 202, 78, 86, 187, 86, 93, 187, 108, 111, 167, 117, 116, 136, 97, 94, 156, 51, 59, 104, 48, 59, 80, 59, 65, 64, 53, 60, 49, 36, 46, 57, 41, 53, 140, 60, 78, 108, 82, 96, 76, 82, 99, 63, 65, 91, 60, 61, 85, 71, 72, 88, 119, 126, 117, 90, 92, 104, 71, 75, 103, 100, 115, 124, 125, 146, 142, 99, 112, 137, 89, 109, 139, 81, 109, 153, 86, 113, 143, 82, 108, 127, 70, 96, 119, 57, 69, 95, 61, 64, 70, 138, 87, 55, 204, 44, 50, 196, 53, 54, 221, 51, 66, 233, 68, 89, 223, 87, 103, 177, 93, 100, 200, 102, 115, 206, 101, 118, 175, 86, 101, 143, 70, 82, 110, 58, 72, 83, 54, 66, 144, 61, 78, 129, 68, 88, 64, 58, 79, 64, 54, 72, 65, 54, 71, 77, 61, 78, 110, 89, 97, 98, 77, 94, 83, 64, 86, 112, 96, 107, 131, 123, 126, 96, 95, 122, 77, 84, 126, 70, 91, 144, 72, 101, 152, 79, 113, 165, 90, 125, 171, 104, 133, 171, 97, 121, 155, 139, 80, 55, 178, 57, 46, 170, 66, 54, 214, 44, 51, 225, 37, 51, 224, 49, 65, 188, 59, 70, 208, 86, 98, 236, 97, 118, 243, 112, 136, 233, 115, 136, 213, 97, 117, 185, 80, 99, 193, 75, 98, 190, 74, 100, 154, 59, 81, 153, 49, 70, 155, 48, 69, 167, 59, 81, 174, 65, 89, 169, 64, 86, 171, 65, 89, 179, 83, 109, 175, 88, 114, 156, 84, 111, 128, 90, 124, 65, 61, 106, 35, 44, 87, 36, 54, 104, 59, 82, 126, 74, 100, 145, 69, 104, 160, 156, 80, 54, 117, 47, 34, 99, 61, 46, 200, 67, 59, 219, 44, 48, 203, 46, 50, 183, 42, 45, 220, 34, 49, 230, 47, 66, 239, 73, 95, 242, 95, 120, 246, 114, 139, 248, 124, 151, 233, 117, 144, 229, 126, 152, 237, 101, 131, 236, 68, 98, 234, 59, 88, 240, 67, 98, 241, 74, 104, 237, 80, 111, 239, 94, 128, 237, 108, 143, 232, 108, 144, 231, 123, 160, 215, 138, 173, 176, 109, 142, 138, 82, 114, 94, 61, 98, 53, 43, 80, 30, 39, 79, 23, 43, 89, 140, 97, 61, 73, 43, 36, 82, 75, 73, 171, 72, 62, 215, 45, 46, 193, 49, 47, 177, 45, 45, 224, 39, 49, 222, 39, 51, 226, 41, 59, 233, 46, 67, 237, 61, 86, 240, 89, 119, 231, 99, 127, 238, 135, 158, 249, 158, 183, 248, 147, 173, 247, 127, 155, 245, 103, 134, 243, 96, 130, 245, 109, 146, 245, 118, 156, 243, 122, 162, 243, 126, 167, 242, 128, 171, 240, 131, 172, 237, 130, 170, 222, 129, 164, 210, 119, 155, 191, 101, 139, 144, 78, 116, 75, 51, 85, 135, 137, 78, 71, 66, 49, 82, 78, 74, 144, 74, 66, 208, 43, 44, 188, 46, 44, 173, 41, 41, 219, 38, 43, 214, 44, 51, 216, 52, 64, 219, 42, 55, 229, 33, 53, 205, 38, 59, 189, 51, 68, 230, 66, 92, 246, 102, 131, 249, 144, 171, 252, 167, 193, 252, 167, 195, 252, 152, 183, 250, 130, 165, 247, 123, 160, 247, 119, 157, 250, 113, 150, 247, 110, 147, 242, 103, 141, 237, 98, 136, 234, 96, 134, 230, 99, 140, 226, 103, 143, 234, 107, 145, 223, 92, 128, 144, 156, 85, 106, 108, 68, 117, 115, 108, 141, 94, 86, 197, 47, 42, 183, 53, 46, 172, 48, 43, 218, 49, 49, 210, 45, 47, 211, 42, 47, 211, 38, 48, 217, 34, 49, 220, 34, 53, 215, 39, 60, 226, 39, 63, 235, 37, 64, 240, 56, 84, 244, 96, 124, 248, 135, 164, 250, 169, 194, 249, 197, 213, 249, 143, 171, 234, 98, 134, 223, 94, 129, 236, 67, 102, 226, 57, 90, 213, 48, 80, 204, 46, 78, 187, 58, 88, 170, 53, 88, 171, 65, 101, 198, 72, 102, 132, 145, 119, 117, 118, 82, 104, 104, 98, 110, 82, 73, 182, 66, 55, 178, 58, 48, 169, 49, 42, 215, 50, 48, 207, 46, 45, 209, 46, 45, 208, 41, 45, 214, 30, 42, 217, 29, 44, 218, 33, 51, 219, 35, 57, 228, 32, 54, 228, 31, 55, 231, 36, 61, 236, 52, 79, 239, 89, 115, 243, 131, 157, 239, 117, 147, 185, 129, 151, 134, 117, 137, 171, 50, 77, 174, 32, 58, 154, 34, 56, 136, 32, 55, 122, 67, 86, 108, 46, 65, 105, 28, 52, 109, 60, 81, 107, 133, 158, 119, 122, 116, 130, 126, 121, 68, 62, 55, 108, 64, 45, 150, 76, 57, 166, 48, 43, 210, 48, 46, 203, 46, 42, 206, 43, 43, 207, 37, 41, 209, 29, 39, 207, 27, 40, 209, 32, 45, 212, 36, 53, 216, 33, 51, 220, 33, 51, 222, 31, 53, 222, 32, 53, 224, 35, 57, 224, 44, 69, 195, 76, 98, 143, 146, 151, 115, 125, 117, 104, 60, 69, 116, 41, 63, 124, 70, 92, 115, 66, 85, 98, 64, 80, 97, 68, 80, 95, 60, 71, 84, 69, 78, 86, 115, 147, 93, 102, 127, 121, 115, 117, 42, 43, 42, 28, 19, 14, 68, 42, 30, 135, 47, 43, 197, 51, 51, 200, 46, 43, 202, 41, 40, 202, 35, 38, 202, 31, 38, 203, 27, 38, 210, 31, 44, 168, 33, 46, 123, 25, 38, 147, 32, 48, 201, 39, 56, 213, 29, 47, 209, 28, 45, 203, 26, 43, 144, 47, 55, 98, 112, 117, 123, 146, 154, 109, 102, 114, 101, 82, 100, 108, 103, 120, 100, 99, 114, 84, 88, 95, 79, 90, 94, 71, 83, 88, 66, 76, 76, 91, 120, 145, 71, 92, 123, 90, 88, 83, 62, 66, 40, 34, 36, 25, 28, 23, 16, 58, 26, 24, 121, 40, 39, 174, 47, 47, 198, 45, 45, 199, 39, 39, 199, 38, 42, 206, 43, 54, 193, 38, 48, 84, 23, 28, 42, 24, 29, 61, 41, 48, 125, 40, 52, 200, 30, 46, 201, 26, 40, 179, 24, 36, 120, 38, 38, 82, 90, 98, 108, 134, 160, 114, 130, 146, 72, 81, 84, 68, 75, 75, 63, 68, 68, 54, 56, 52, 49, 54, 49, 49, 55, 53, 50, 56, 51, 91, 115, 119, 84, 99, 110, 106, 101, 84, 120, 124, 67, 104, 111, 64, 68, 69, 42, 29, 29, 18, 35, 19, 16, 83, 29, 29, 153, 48, 50, 193, 50, 51, 194, 41, 42, 182, 45, 51, 137, 35, 40, 55, 29, 29, 79, 65, 67, 93, 83, 87, 77, 56, 65, 145, 34, 46, 182, 27, 39, 156, 29, 39, 115, 34, 34, 83, 41, 39, 103, 96, 105, 85, 96, 97, 48, 47, 41, 53, 52, 49, 56, 58, 54, 48, 53, 49, 47, 55, 55, 49, 57, 56, 50, 55, 51, 77, 92, 80, 79, 91, 84, 93, 97, 75, 125, 135, 67, 124, 135, 68, 115, 121, 69, 80, 84, 51, 35, 37, 24, 25, 19, 16, 50, 22, 23, 111, 35, 38, 171, 43, 46, 188, 44, 47, 104, 30, 31, 54, 43, 42, 66, 56, 56, 75, 67, 66, 81, 78, 82, 90, 45, 55, 165, 31, 42, 150, 30, 38, 104, 30, 32, 90, 38, 42, 96, 84, 86, 61, 65, 62, 47, 47, 43, 52, 56, 52, 52, 59, 56, 48, 52, 51, 48, 53, 51, 47, 53, 54, 55, 49, 53, 98, 126, 136, 103, 125, 127, 90, 102, 78, 127, 137, 75, 125, 137, 73, 125, 135, 78, 121, 129, 75, 95, 101, 55, 52, 54, 32, 24, 23, 16, 26, 14, 13, 60, 22, 22, 107, 34, 33, 69, 33, 31, 52, 47, 45, 60, 54, 46, 92, 84, 77, 88, 85, 88, 65, 49, 59, 135, 29, 39, 132, 26, 28, 100, 31, 33, 100, 52, 48, 78, 67, 61, 51, 57, 52, 50, 53, 50, 52, 58, 57, 53, 60, 58, 54, 56, 58, 57, 50, 56, 60, 45, 58, 62, 60, 86, 110, 162, 203, 136, 170, 186, 95, 103, 79, 129, 137, 79, 131, 142, 82, 126, 135, 66, 124, 134, 65, 119, 130, 70, 111, 120, 66, 75, 78, 47, 32, 32, 22, 13, 13, 11, 16, 14, 11, 34, 28, 25, 58, 51, 47, 93, 90, 78, 182, 182, 181, 115, 111, 115, 45, 44, 47, 93, 38, 44, 123, 42, 46, 105, 25, 31, 86, 18, 19, 66, 31, 37, 64, 48, 53, 63, 44, 52, 64, 47, 61, 64, 51, 71, 64, 66, 98, 65, 88, 129, 61, 96, 140, 62, 95, 115, 79, 112, 134, 75, 96, 102, 58, 62, 46, 119, 126, 66, 125, 135, 69, 128, 136, 71, 135, 141, 78, 130, 139, 74, 127, 138, 70, 120, 129, 68, 92, 98, 56, 48, 50, 32, 21, 23, 17, 19, 18, 16, 57, 55, 53, 95, 93, 86, 127, 129, 135, 95, 93, 98, 46, 42, 49, 107, 98, 102, 192, 167, 173, 125, 92, 115, 85, 69, 99, 66, 69, 98, 58, 75, 115, 74, 95, 132, 90, 113, 145, 72, 105, 143, 61, 89, 115, 56, 75, 81, 44, 54, 52, 62, 74, 51, 26, 40, 34, 19, 33, 27, 39, 45, 37, 111, 117, 64, 127, 137, 71, 120, 128, 66, 127, 134, 70, 130, 139, 72, 127, 137, 68, 123, 133, 58, 123, 131, 65, 112, 120, 68, 68, 76, 48, 37, 41, 29, 61, 60, 59, 106, 108, 106, 91, 90, 73, 74, 71, 65, 49, 49, 53, 67, 65, 69, 115, 121, 125, 90, 116, 131, 71, 98, 127, 66, 85, 109, 56, 71, 91, 57, 67, 77, 63, 71, 71, 48, 57, 54, 37, 45, 39, 37, 42, 38, 29, 36, 27, 48, 61, 40, 13, 34, 31, 15, 32, 26, 31, 40, 34, 96, 103, 61, 121, 130, 71, 113, 125, 62, 118, 128, 63, 126, 135, 69, 131, 140, 67, 127, 135, 61, 126, 134, 66, 134, 140, 81, 122, 131, 75, 95, 102, 62, 79, 79, 63, 141, 140, 142, 127, 126, 113, 72, 69, 63, 41, 43, 46, 19, 22, 23, 21, 16, 21, 22, 21, 22, 30, 22, 23, 36, 20, 19, 25, 13, 14, 17, 15, 16, 30, 36, 31, 31, 35, 33, 22, 28, 27, 21, 29, 27, 23, 35, 26, 36, 53, 34, 34, 52, 51, 17, 29, 23, 24, 35, 27, 68, 77, 43, 106, 115, 63, 115, 127, 68, 118, 128, 67, 121, 131, 62, 126, 134, 61, 125, 134, 63, 121, 133, 62, 125, 135, 70, 126, 134, 71, 125, 133, 75, 111, 115, 75, 128, 123, 117, 133, 130, 129, 73, 71, 70, 31, 32, 32, 17, 18, 20, 17, 12, 18, 15, 11, 16, 13, 10, 14, 12, 10, 14, 10, 10, 14, 12, 16, 16, 19, 25, 24, 18, 24, 25, 13, 21, 18, 12, 22, 16, 15, 28, 17, 23, 40, 22, 29, 39, 37, 12, 21, 20, 33, 44, 27, 58, 68, 36, 75, 83, 47, 107, 117, 66, 113, 124, 65, 114, 124, 61, 123, 134, 66, 120, 132, 65, 113, 126, 58, 120, 133, 67, 128, 138, 74, 125, 137, 76, 124, 135, 77, 109, 113, 80, 90, 87, 80, 51, 50, 48, 17, 21, 21, 12, 15, 17, 13, 15, 18, 15, 17, 19, 15, 18, 18, 14, 19, 18, 12, 19, 16, 12, 20, 15, 13, 21, 16, 13, 22, 17, 13, 26, 18, 16, 30, 20, 17, 34, 22, 22, 40, 24, 9, 20, 31, 11, 20, 29, 42, 49, 31, 63, 73, 42, 60, 69, 40, 70, 79, 43, 97, 107, 55, 119, 128, 67, 120, 132, 64, 117, 132, 64, 118, 129, 69, 122, 135, 76, 127, 140, 76, 124, 140, 76, 128, 140, 76, 126, 137, 80, 103, 114, 67, 68, 76, 48, 33, 42, 29, 22, 31, 24, 17, 26, 21, 17, 27, 21, 17, 27, 19, 19, 31, 21, 17, 31, 22, 18, 31, 22, 20, 33, 23, 21, 35, 24, 21, 37, 25, 24, 40, 27, 27, 43, 28, 28, 46, 28, 4, 19, 34, 9, 21, 31, 38, 47, 32, 61, 72, 41, 59, 72, 39, 59, 69, 39, 70, 80, 43, 106, 117, 64, 123, 134, 69, 115, 129, 65, 120, 134, 75, 119, 133, 76, 115, 130, 67, 116, 132, 66, 121, 133, 70, 128, 140, 83, 125, 138, 80, 111, 127, 69, 101, 116, 70, 79, 93, 53, 58, 73, 41, 47, 65, 39, 42, 57, 36, 32, 46, 31, 27, 43, 30, 25, 41, 29, 26, 41, 29, 29, 44, 30, 30, 47, 31, 33, 50, 32, 35, 52, 33, 35, 51, 32], \"height\": 32, \"channels\": 3, \"width\": 32, \"type\": \"image\", \"id\": 140365507236048}, {\"format\": \"raw\", \"value\": [186, 195, 199, 182, 192, 198, 184, 196, 203, 178, 190, 189, 191, 199, 201, 200, 202, 207, 198, 203, 210, 189, 199, 206, 188, 197, 206, 190, 199, 209, 195, 199, 211, 201, 203, 212, 210, 211, 219, 208, 210, 220, 209, 213, 218, 203, 209, 215, 199, 208, 214, 200, 211, 218, 192, 206, 216, 193, 204, 215, 208, 212, 219, 209, 210, 214, 205, 207, 216, 184, 198, 211, 179, 193, 208, 180, 190, 203, 174, 191, 203, 176, 187, 205, 168, 185, 203, 165, 187, 202, 168, 186, 201, 172, 187, 201, 98, 111, 101, 100, 113, 104, 119, 133, 126, 88, 103, 95, 158, 170, 170, 198, 202, 209, 196, 199, 206, 190, 198, 204, 191, 199, 207, 191, 198, 209, 193, 199, 209, 189, 194, 202, 192, 197, 203, 198, 203, 208, 196, 201, 206, 187, 199, 208, 188, 198, 206, 193, 202, 205, 193, 204, 207, 203, 205, 212, 202, 204, 212, 192, 200, 207, 190, 197, 208, 186, 197, 208, 166, 166, 176, 119, 111, 113, 162, 169, 174, 184, 192, 208, 171, 184, 197, 160, 177, 184, 155, 172, 178, 158, 174, 181, 38, 52, 29, 56, 69, 45, 70, 79, 60, 51, 59, 50, 117, 131, 134, 183, 196, 204, 186, 194, 201, 188, 197, 202, 191, 199, 206, 185, 194, 202, 184, 196, 202, 175, 188, 194, 169, 182, 185, 168, 182, 180, 148, 160, 161, 174, 192, 204, 171, 180, 191, 183, 180, 180, 161, 163, 160, 165, 168, 168, 190, 195, 202, 186, 196, 206, 187, 195, 206, 189, 200, 205, 133, 125, 124, 73, 49, 43, 138, 138, 141, 181, 190, 204, 161, 173, 178, 115, 126, 116, 83, 95, 85, 88, 103, 94, 60, 70, 54, 69, 77, 60, 76, 75, 60, 89, 75, 63, 116, 118, 117, 161, 173, 176, 167, 178, 180, 137, 148, 151, 162, 173, 177, 177, 187, 194, 173, 182, 187, 175, 183, 191, 144, 153, 158, 108, 116, 112, 112, 119, 111, 194, 204, 209, 203, 196, 200, 153, 128, 123, 119, 111, 103, 105, 114, 106, 167, 178, 182, 189, 196, 207, 185, 193, 201, 147, 159, 157, 108, 98, 90, 90, 60, 53, 130, 129, 134, 173, 187, 199, 126, 140, 135, 64, 70, 45, 49, 58, 31, 43, 57, 31, 66, 76, 82, 65, 77, 82, 73, 79, 78, 102, 86, 80, 132, 127, 128, 143, 150, 157, 125, 134, 138, 89, 94, 93, 88, 88, 90, 114, 115, 123, 150, 146, 143, 114, 114, 114, 115, 120, 126, 117, 117, 114, 158, 152, 143, 179, 167, 166, 197, 182, 181, 125, 98, 95, 144, 134, 123, 178, 176, 163, 186, 186, 185, 210, 207, 209, 182, 186, 183, 137, 151, 151, 120, 122, 126, 61, 45, 47, 87, 94, 100, 141, 157, 160, 104, 117, 99, 62, 67, 39, 52, 57, 24, 53, 66, 33, 61, 74, 87, 55, 71, 83, 70, 83, 90, 91, 90, 95, 99, 99, 106, 73, 77, 86, 64, 68, 70, 96, 95, 88, 112, 108, 102, 140, 138, 139, 182, 175, 169, 127, 127, 124, 120, 126, 131, 159, 157, 158, 183, 175, 176, 163, 148, 152, 176, 166, 167, 124, 110, 117, 129, 121, 126, 191, 177, 173, 186, 170, 165, 179, 165, 165, 169, 164, 168, 152, 160, 172, 125, 139, 152, 66, 71, 77, 70, 84, 95, 104, 112, 122, 124, 126, 122, 123, 120, 115, 93, 94, 76, 57, 73, 46, 95, 108, 115, 92, 106, 111, 95, 109, 114, 105, 116, 123, 102, 109, 115, 74, 75, 79, 100, 98, 98, 163, 161, 156, 206, 205, 198, 234, 234, 232, 240, 235, 232, 215, 217, 216, 187, 195, 198, 182, 184, 188, 180, 178, 185, 175, 171, 179, 173, 171, 178, 154, 156, 165, 128, 128, 137, 115, 110, 109, 125, 121, 119, 99, 102, 102, 101, 107, 115, 129, 138, 155, 123, 140, 153, 85, 98, 106, 75, 92, 106, 104, 116, 134, 137, 147, 157, 153, 155, 160, 122, 123, 114, 56, 65, 43, 72, 82, 78, 72, 81, 74, 73, 83, 77, 71, 84, 82, 42, 50, 47, 68, 70, 66, 131, 132, 128, 109, 114, 107, 100, 105, 96, 144, 145, 141, 190, 187, 186, 122, 126, 123, 89, 98, 95, 72, 78, 79, 70, 77, 77, 74, 79, 83, 119, 119, 130, 116, 130, 137, 108, 116, 115, 72, 69, 65, 87, 88, 89, 63, 71, 70, 79, 90, 93, 113, 127, 143, 102, 115, 128, 82, 92, 101, 67, 81, 92, 84, 95, 109, 102, 120, 128, 135, 140, 139, 110, 108, 100, 92, 91, 73, 46, 53, 33, 51, 57, 33, 51, 57, 36, 45, 55, 35, 49, 57, 41, 86, 90, 79, 121, 129, 115, 55, 71, 49, 57, 73, 48, 82, 86, 68, 140, 138, 133, 108, 115, 107, 98, 111, 100, 72, 83, 77, 78, 95, 80, 80, 91, 84, 127, 124, 133, 109, 120, 131, 130, 128, 136, 125, 95, 97, 127, 84, 86, 108, 64, 64, 114, 95, 98, 121, 131, 143, 114, 124, 134, 69, 79, 85, 57, 61, 66, 98, 79, 89, 114, 94, 103, 141, 117, 121, 135, 118, 118, 93, 93, 86, 63, 81, 29, 72, 79, 29, 80, 84, 39, 74, 95, 48, 80, 95, 61, 88, 92, 75, 98, 109, 92, 54, 69, 43, 67, 80, 54, 93, 90, 75, 153, 148, 145, 127, 140, 130, 94, 110, 97, 77, 90, 82, 81, 99, 86, 82, 92, 87, 87, 89, 98, 84, 90, 104, 116, 111, 124, 152, 118, 128, 146, 84, 90, 154, 69, 70, 153, 90, 91, 127, 114, 120, 123, 130, 139, 62, 70, 79, 54, 50, 52, 133, 86, 95, 159, 97, 108, 172, 110, 118, 173, 116, 125, 153, 113, 118, 71, 94, 41, 104, 76, 39, 128, 56, 35, 120, 64, 36, 121, 75, 56, 101, 66, 57, 90, 75, 62, 80, 70, 49, 82, 74, 54, 100, 84, 73, 151, 144, 133, 138, 139, 134, 84, 79, 88, 61, 66, 75, 67, 73, 78, 74, 71, 82, 73, 66, 84, 76, 69, 86, 87, 76, 82, 121, 94, 100, 114, 54, 59, 119, 15, 17, 150, 26, 27, 126, 73, 67, 121, 129, 130, 55, 67, 70, 44, 34, 34, 123, 65, 73, 153, 88, 97, 180, 111, 117, 178, 100, 105, 178, 95, 100, 73, 91, 44, 136, 70, 50, 187, 40, 46, 183, 46, 46, 186, 58, 62, 178, 63, 71, 162, 61, 69, 154, 74, 74, 110, 64, 55, 103, 77, 69, 165, 146, 129, 166, 159, 150, 107, 89, 99, 97, 62, 70, 111, 52, 58, 124, 45, 56, 144, 50, 68, 154, 53, 75, 158, 66, 86, 156, 88, 99, 145, 72, 77, 130, 35, 36, 155, 34, 30, 144, 65, 55, 68, 58, 58, 20, 23, 28, 42, 31, 30, 122, 57, 60, 153, 64, 66, 174, 85, 83, 180, 89, 90, 174, 83, 85, 83, 99, 48, 117, 51, 26, 165, 8, 10, 182, 13, 18, 188, 27, 33, 190, 49, 52, 200, 61, 70, 207, 73, 86, 183, 70, 80, 152, 62, 74, 179, 92, 96, 200, 99, 110, 178, 47, 69, 182, 35, 51, 191, 34, 57, 204, 51, 76, 208, 71, 91, 198, 75, 91, 203, 95, 111, 200, 108, 122, 195, 103, 114, 187, 86, 99, 182, 73, 81, 160, 43, 51, 105, 25, 39, 44, 11, 18, 37, 24, 18, 82, 24, 19, 114, 16, 13, 135, 34, 32, 181, 86, 85, 185, 91, 97, 79, 101, 51, 124, 73, 47, 145, 12, 7, 160, 1, 0, 169, 0, 1, 169, 5, 4, 185, 10, 14, 199, 26, 32, 206, 47, 53, 203, 52, 66, 208, 57, 76, 212, 60, 77, 208, 44, 64, 209, 44, 67, 211, 54, 76, 215, 60, 85, 213, 68, 93, 210, 79, 98, 207, 82, 99, 205, 88, 109, 202, 99, 116, 197, 103, 117, 188, 74, 92, 180, 46, 60, 185, 39, 51, 172, 27, 40, 148, 30, 43, 120, 24, 36, 64, 15, 17, 40, 13, 12, 77, 30, 27, 148, 62, 58, 72, 96, 46, 116, 96, 60, 122, 34, 20, 142, 11, 8, 162, 3, 2, 168, 1, 1, 181, 0, 0, 185, 0, 0, 190, 1, 2, 195, 17, 20, 207, 40, 51, 218, 66, 74, 226, 76, 89, 218, 68, 89, 203, 61, 76, 205, 57, 74, 210, 58, 77, 213, 61, 80, 213, 61, 81, 213, 64, 89, 212, 78, 102, 208, 92, 111, 208, 82, 96, 169, 39, 45, 148, 25, 30, 160, 26, 36, 206, 49, 72, 212, 35, 69, 171, 34, 56, 122, 31, 44, 75, 17, 24, 99, 15, 14, 66, 88, 36, 70, 89, 38, 81, 70, 34, 111, 52, 39, 145, 15, 15, 156, 1, 0, 165, 2, 0, 172, 2, 0, 180, 2, 0, 186, 0, 1, 195, 2, 9, 203, 15, 25, 213, 40, 57, 221, 59, 85, 223, 58, 87, 211, 64, 83, 209, 62, 77, 213, 46, 67, 210, 31, 60, 209, 27, 57, 213, 33, 62, 214, 46, 72, 208, 56, 77, 156, 28, 42, 139, 37, 50, 161, 66, 76, 189, 77, 92, 201, 36, 62, 210, 14, 43, 212, 40, 63, 183, 52, 74, 117, 44, 50, 71, 92, 41, 54, 87, 31, 51, 79, 32, 72, 84, 60, 103, 38, 30, 147, 3, 4, 155, 1, 0, 166, 1, 1, 169, 3, 0, 176, 1, 2, 185, 1, 2, 189, 0, 1, 193, 9, 15, 211, 32, 46, 218, 42, 65, 220, 47, 69, 221, 52, 74, 217, 53, 76, 209, 43, 67, 205, 22, 48, 202, 9, 34, 206, 6, 31, 202, 11, 38, 186, 19, 48, 190, 34, 62, 197, 62, 86, 187, 87, 99, 185, 59, 74, 193, 14, 39, 214, 45, 59, 190, 65, 74, 112, 87, 85, 67, 85, 35, 53, 77, 24, 50, 70, 23, 94, 107, 81, 79, 64, 50, 101, 9, 9, 141, 5, 7, 160, 0, 2, 162, 1, 0, 160, 3, 1, 172, 1, 2, 187, 0, 1, 184, 3, 2, 190, 10, 13, 203, 22, 32, 214, 29, 41, 219, 37, 58, 218, 43, 69, 219, 43, 65, 218, 38, 60, 207, 30, 50, 194, 11, 31, 199, 2, 22, 202, 2, 22, 196, 4, 27, 187, 10, 38, 180, 43, 63, 182, 65, 77, 172, 22, 39, 165, 0, 10, 113, 28, 24, 57, 62, 54, 63, 83, 32, 54, 80, 27, 49, 66, 16, 81, 92, 52, 60, 64, 46, 25, 14, 4, 78, 20, 9, 130, 10, 4, 154, 1, 1, 151, 2, 0, 164, 1, 1, 167, 3, 5, 115, 6, 7, 88, 7, 10, 133, 13, 19, 183, 12, 16, 204, 14, 18, 208, 30, 37, 217, 38, 52, 219, 43, 62, 211, 49, 72, 170, 53, 70, 151, 16, 26, 196, 1, 10, 189, 1, 16, 177, 2, 19, 173, 7, 26, 163, 32, 47, 154, 35, 44, 116, 10, 9, 71, 15, 11, 21, 22, 12, 55, 75, 26, 51, 74, 22, 49, 70, 17, 52, 74, 22, 40, 65, 21, 28, 51, 16, 28, 46, 10, 61, 24, 3, 122, 8, 7, 149, 2, 2, 159, 2, 0, 114, 6, 7, 24, 0, 1, 11, 9, 6, 70, 51, 39, 135, 33, 25, 195, 0, 0, 189, 1, 0, 195, 5, 11, 206, 18, 25, 181, 63, 70, 96, 87, 81, 95, 32, 26, 181, 6, 15, 184, 3, 14, 174, 1, 9, 170, 4, 18, 156, 21, 39, 134, 52, 63, 93, 42, 43, 78, 34, 20, 42, 52, 19, 57, 75, 29, 56, 73, 26, 59, 78, 29, 57, 84, 31, 49, 79, 25, 43, 70, 23, 39, 61, 22, 23, 43, 11, 36, 25, 5, 100, 12, 6, 145, 8, 8, 67, 4, 5, 0, 2, 1, 46, 42, 33, 73, 73, 58, 104, 73, 61, 163, 25, 26, 175, 1, 0, 172, 1, 0, 166, 0, 0, 116, 34, 33, 104, 109, 104, 115, 42, 44, 160, 11, 23, 171, 19, 35, 156, 20, 35, 130, 35, 44, 105, 52, 60, 83, 67, 72, 78, 47, 52, 83, 35, 28, 52, 66, 32, 56, 73, 30, 51, 68, 26, 60, 78, 34, 53, 77, 30, 39, 66, 18, 50, 77, 30, 39, 66, 22, 25, 54, 14, 22, 46, 14, 36, 33, 8, 79, 26, 15, 32, 8, 7, 0, 5, 2, 59, 55, 43, 70, 74, 64, 115, 121, 117, 136, 72, 67, 158, 1, 1, 153, 2, 1, 130, 3, 2, 91, 32, 33, 95, 80, 83, 102, 30, 38, 131, 45, 52, 117, 55, 66, 76, 55, 59, 49, 53, 50, 42, 50, 51, 50, 56, 58, 76, 51, 53, 130, 90, 97, 70, 76, 63, 49, 65, 27, 45, 60, 24, 50, 66, 29, 46, 62, 24, 39, 57, 18, 47, 69, 25, 48, 71, 21, 41, 60, 11, 46, 68, 24, 37, 63, 20, 23, 45, 11, 11, 20, 7, 6, 4, 1, 68, 63, 52, 85, 89, 82, 128, 140, 139, 113, 95, 87, 133, 10, 12, 146, 0, 1, 125, 3, 4, 91, 17, 20, 60, 10, 13, 102, 58, 62, 90, 82, 82, 60, 63, 65, 50, 61, 59, 48, 55, 53, 60, 63, 62, 71, 81, 78, 78, 83, 76, 85, 90, 85, 43, 55, 44, 48, 64, 28, 41, 56, 23, 44, 57, 26, 53, 62, 30, 56, 63, 32, 49, 64, 23, 49, 73, 23, 47, 70, 20, 42, 63, 17, 34, 61, 17, 29, 61, 17, 21, 45, 13, 11, 22, 6, 74, 78, 64, 91, 96, 87, 68, 75, 66, 85, 85, 72, 100, 24, 24, 140, 0, 0, 137, 1, 3, 123, 22, 23, 108, 34, 26, 100, 71, 70, 72, 66, 76, 79, 61, 65, 72, 50, 56, 69, 72, 73, 84, 93, 91, 79, 89, 87, 48, 54, 50, 9, 21, 8, 21, 37, 17, 51, 62, 31, 57, 64, 36, 56, 61, 35, 62, 61, 36, 71, 69, 41, 68, 76, 37, 60, 79, 33, 48, 72, 24, 37, 61, 14, 41, 64, 19, 40, 62, 18, 27, 52, 11, 29, 51, 15, 76, 89, 60, 132, 135, 123, 39, 50, 36, 61, 69, 49, 70, 33, 26, 135, 17, 17, 154, 8, 13, 130, 0, 1, 112, 20, 16, 98, 48, 49, 90, 47, 58, 93, 40, 52, 77, 46, 64, 72, 75, 85, 75, 82, 84, 40, 41, 41, 4, 10, 5, 3, 16, 0, 10, 34, 7, 52, 63, 33, 59, 67, 38, 58, 64, 37, 63, 65, 39, 70, 72, 41, 66, 76, 37, 62, 78, 33, 62, 80, 33, 55, 75, 28, 55, 77, 30, 44, 65, 21, 36, 57, 15, 40, 60, 18, 49, 67, 28, 147, 153, 133, 112, 119, 107, 84, 87, 72, 40, 31, 26, 90, 56, 55, 163, 100, 104, 132, 67, 68, 103, 72, 81, 110, 100, 121, 95, 87, 108, 78, 80, 100, 62, 68, 83, 41, 46, 53, 16, 22, 20, 3, 10, 1, 9, 21, 3, 16, 33, 8, 20, 42, 9, 49, 65, 32, 51, 66, 34, 50, 64, 32, 55, 67, 36, 60, 74, 39, 57, 75, 34, 58, 77, 33, 65, 84, 39, 62, 84, 38, 57, 81, 33, 50, 70, 25, 48, 68, 25, 44, 68, 23, 34, 60, 15, 92, 108, 75, 156, 155, 140, 101, 95, 86, 15, 13, 16, 11, 11, 17, 52, 52, 57, 66, 67, 69, 51, 58, 62, 44, 55, 62, 24, 35, 40, 9, 21, 25, 3, 8, 11, 0, 5, 2, 3, 15, 1, 13, 31, 7, 24, 45, 10, 34, 58, 18, 31, 59, 13, 57, 74, 39, 52, 72, 36, 42, 61, 25, 44, 63, 27, 46, 68, 30, 47, 70, 29, 47, 67, 26, 53, 73, 32, 56, 78, 33, 50, 75, 26, 42, 65, 18, 44, 66, 20, 42, 68, 21, 40, 66, 19, 46, 65, 24, 73, 76, 53, 42, 42, 26, 3, 6, 2, 0, 3, 0, 0, 4, 0, 3, 6, 1, 0, 2, 0, 0, 2, 0, 0, 3, 0, 2, 3, 0, 3, 9, 0, 8, 20, 4, 17, 36, 8, 26, 50, 12, 29, 54, 11, 35, 61, 15, 38, 66, 17, 55, 71, 35, 50, 68, 32, 43, 62, 25, 44, 65, 28, 43, 68, 28, 39, 61, 21, 41, 60, 22, 40, 61, 22, 51, 74, 29, 47, 74, 24, 42, 69, 20, 43, 69, 22, 42, 67, 20, 48, 70, 24, 48, 63, 23, 43, 55, 23, 33, 49, 15, 22, 37, 12, 20, 31, 9, 18, 32, 9, 13, 34, 9, 9, 26, 5, 7, 21, 4, 9, 24, 5, 10, 20, 4, 10, 22, 3, 22, 40, 12, 35, 57, 18, 38, 64, 18, 37, 62, 19, 38, 61, 19, 45, 68, 24, 46, 65, 28, 52, 70, 33, 52, 70, 32, 53, 74, 36, 54, 77, 38, 43, 65, 26, 42, 61, 24, 46, 64, 27, 49, 71, 30, 43, 68, 24, 38, 63, 17, 46, 69, 26, 48, 68, 26, 48, 64, 24, 58, 65, 31, 57, 65, 31, 45, 63, 22, 40, 66, 23, 28, 54, 14, 26, 47, 14, 26, 48, 14, 22, 49, 13, 18, 44, 12, 15, 40, 10, 15, 41, 10, 20, 43, 10, 33, 56, 18, 42, 66, 22, 46, 71, 24, 47, 72, 27, 46, 68, 25, 52, 73, 30, 42, 64, 25, 46, 65, 27, 49, 67, 27, 44, 66, 26, 41, 63, 23, 39, 62, 21, 36, 56, 18, 41, 58, 22, 47, 68, 29, 45, 68, 27, 42, 65, 23, 49, 69, 28, 52, 70, 31, 51, 66, 29, 58, 67, 33, 63, 67, 34, 58, 70, 31, 45, 69, 24, 29, 54, 11, 23, 48, 11, 27, 54, 15, 30, 58, 19, 21, 46, 10, 21, 43, 8, 25, 51, 14, 24, 50, 11, 35, 60, 19, 46, 72, 26, 51, 77, 29, 50, 75, 28, 51, 74, 29, 55, 76, 33, 37, 59, 21, 41, 63, 23, 51, 72, 31, 40, 63, 21, 37, 60, 18, 43, 66, 23, 31, 53, 13, 35, 54, 17, 49, 70, 32, 52, 74, 33, 50, 72, 31, 48, 69, 28, 53, 72, 31, 54, 72, 31, 57, 74, 36, 61, 70, 34, 60, 70, 33, 53, 69, 30, 42, 62, 22, 35, 58, 19, 37, 63, 23, 33, 58, 20, 30, 53, 16, 36, 60, 19, 32, 58, 18, 25, 51, 12, 32, 57, 17, 39, 64, 19, 46, 72, 24, 46, 73, 26, 44, 69, 24, 47, 70, 27], \"height\": 32, \"channels\": 3, \"width\": 32, \"type\": \"image\", \"id\": 140365507236112}, {\"format\": \"raw\", \"value\": [229, 231, 227, 232, 235, 231, 231, 235, 230, 233, 237, 231, 232, 236, 227, 233, 236, 229, 235, 236, 237, 234, 235, 239, 234, 236, 237, 236, 236, 235, 236, 235, 236, 232, 238, 232, 171, 173, 165, 148, 144, 139, 129, 136, 130, 113, 117, 107, 119, 117, 100, 89, 85, 64, 79, 79, 62, 67, 72, 66, 55, 62, 62, 61, 61, 57, 75, 71, 59, 145, 140, 121, 112, 109, 92, 86, 86, 75, 89, 88, 73, 75, 72, 66, 128, 125, 122, 135, 133, 118, 117, 116, 96, 80, 81, 63, 227, 231, 231, 226, 235, 233, 227, 231, 232, 236, 233, 236, 237, 237, 236, 233, 237, 236, 230, 233, 238, 229, 231, 238, 223, 226, 231, 220, 223, 227, 221, 226, 231, 215, 226, 225, 150, 154, 151, 158, 156, 155, 168, 176, 175, 186, 190, 189, 178, 174, 169, 173, 168, 157, 209, 206, 195, 209, 209, 205, 212, 215, 213, 220, 221, 212, 226, 223, 207, 166, 161, 142, 214, 212, 197, 170, 170, 162, 167, 166, 155, 130, 127, 124, 229, 225, 222, 235, 234, 216, 156, 155, 133, 119, 123, 110, 225, 233, 236, 223, 237, 237, 229, 238, 241, 222, 219, 228, 197, 197, 203, 173, 179, 183, 160, 166, 173, 157, 162, 172, 152, 157, 167, 152, 158, 169, 149, 159, 169, 144, 157, 162, 142, 146, 150, 145, 144, 149, 133, 144, 147, 147, 153, 156, 167, 163, 162, 214, 209, 201, 250, 246, 235, 246, 244, 235, 244, 245, 236, 245, 246, 232, 242, 240, 220, 174, 169, 149, 216, 213, 199, 170, 169, 163, 173, 172, 163, 163, 159, 157, 222, 219, 214, 221, 220, 199, 163, 163, 139, 145, 150, 145, 222, 234, 235, 221, 239, 237, 204, 217, 220, 126, 128, 140, 96, 100, 111, 99, 107, 115, 100, 108, 118, 120, 128, 139, 118, 125, 138, 106, 114, 130, 81, 94, 111, 67, 81, 93, 70, 73, 82, 101, 98, 108, 98, 111, 116, 106, 113, 116, 140, 139, 136, 195, 194, 184, 210, 208, 192, 210, 206, 189, 209, 206, 191, 204, 205, 189, 200, 197, 177, 163, 158, 136, 197, 194, 180, 216, 216, 210, 212, 210, 203, 228, 225, 222, 240, 237, 230, 218, 217, 196, 153, 152, 130, 124, 132, 126, 224, 232, 230, 227, 236, 231, 167, 175, 177, 57, 65, 75, 119, 128, 139, 181, 191, 200, 165, 175, 185, 161, 171, 182, 139, 149, 163, 100, 110, 129, 56, 72, 93, 29, 43, 59, 53, 53, 66, 153, 148, 160, 181, 192, 200, 191, 200, 201, 174, 178, 173, 163, 167, 156, 199, 200, 183, 200, 196, 177, 182, 178, 160, 182, 183, 167, 184, 182, 161, 160, 155, 132, 197, 194, 178, 213, 213, 204, 211, 209, 201, 235, 231, 227, 236, 233, 224, 221, 221, 200, 177, 175, 156, 141, 150, 146, 233, 224, 221, 226, 211, 208, 122, 112, 114, 38, 43, 51, 95, 107, 118, 107, 120, 129, 107, 121, 128, 139, 153, 161, 98, 111, 124, 70, 83, 102, 50, 67, 90, 22, 35, 53, 74, 70, 86, 152, 143, 157, 211, 220, 229, 226, 238, 241, 202, 211, 209, 164, 174, 167, 209, 213, 203, 214, 210, 197, 197, 191, 178, 196, 197, 183, 223, 220, 200, 171, 167, 144, 194, 191, 172, 195, 196, 182, 207, 206, 193, 212, 210, 201, 225, 223, 210, 214, 213, 192, 204, 201, 187, 176, 183, 190, 214, 181, 181, 194, 151, 152, 128, 99, 103, 65, 62, 69, 49, 61, 72, 24, 40, 49, 15, 32, 36, 98, 114, 120, 99, 113, 125, 51, 65, 85, 50, 66, 91, 22, 33, 52, 56, 49, 66, 85, 73, 88, 142, 148, 156, 178, 192, 200, 161, 173, 181, 147, 160, 165, 146, 152, 155, 183, 179, 179, 191, 184, 181, 193, 193, 182, 198, 195, 177, 160, 156, 131, 170, 168, 146, 184, 185, 168, 196, 196, 178, 198, 196, 182, 211, 209, 194, 211, 210, 189, 192, 190, 180, 172, 179, 190, 209, 163, 161, 197, 128, 129, 158, 93, 97, 123, 93, 97, 104, 104, 110, 75, 78, 84, 51, 49, 54, 85, 89, 96, 114, 129, 140, 44, 65, 81, 45, 67, 86, 43, 55, 72, 59, 56, 73, 52, 44, 60, 52, 59, 71, 80, 94, 108, 85, 99, 113, 91, 103, 114, 108, 113, 121, 164, 159, 164, 180, 171, 173, 167, 162, 156, 175, 168, 155, 152, 146, 125, 180, 177, 156, 202, 204, 185, 198, 200, 184, 198, 198, 186, 198, 196, 183, 197, 190, 175, 177, 164, 158, 163, 160, 164, 208, 162, 155, 201, 114, 113, 194, 82, 83, 164, 89, 86, 152, 118, 113, 150, 110, 110, 130, 76, 83, 112, 79, 87, 142, 144, 152, 75, 94, 102, 68, 87, 92, 76, 84, 94, 82, 81, 96, 91, 93, 111, 95, 107, 123, 85, 103, 120, 76, 93, 109, 96, 108, 120, 132, 137, 143, 156, 156, 156, 178, 176, 174, 166, 163, 160, 155, 147, 142, 147, 133, 125, 149, 134, 124, 123, 109, 98, 89, 77, 71, 100, 95, 88, 161, 163, 151, 168, 167, 153, 172, 159, 148, 181, 171, 165, 190, 143, 138, 162, 80, 78, 186, 76, 71, 185, 100, 90, 161, 101, 91, 170, 97, 92, 149, 67, 68, 108, 49, 49, 167, 137, 138, 146, 127, 131, 135, 112, 117, 105, 79, 87, 87, 65, 76, 89, 82, 93, 87, 97, 106, 94, 113, 127, 100, 119, 137, 92, 111, 126, 65, 83, 95, 73, 91, 99, 68, 87, 92, 66, 85, 84, 120, 128, 127, 146, 140, 138, 154, 135, 134, 116, 89, 89, 92, 59, 55, 92, 70, 61, 184, 183, 167, 190, 204, 183, 187, 204, 183, 196, 208, 194, 114, 73, 71, 143, 75, 73, 168, 67, 58, 182, 85, 71, 180, 88, 75, 178, 72, 62, 167, 60, 52, 152, 66, 57, 166, 97, 92, 194, 124, 126, 183, 109, 112, 161, 92, 97, 141, 87, 93, 124, 94, 98, 118, 111, 112, 113, 119, 130, 109, 119, 137, 108, 125, 142, 85, 109, 127, 55, 86, 103, 46, 77, 93, 70, 93, 105, 88, 110, 120, 110, 130, 136, 136, 152, 156, 142, 154, 155, 164, 160, 151, 177, 152, 144, 194, 155, 154, 195, 165, 163, 190, 187, 176, 180, 188, 177, 83, 60, 59, 128, 78, 74, 145, 52, 41, 158, 46, 30, 171, 52, 40, 180, 53, 43, 174, 50, 39, 167, 61, 48, 171, 69, 63, 189, 78, 79, 197, 87, 84, 189, 87, 86, 184, 99, 99, 182, 121, 120, 162, 122, 118, 142, 116, 122, 120, 103, 116, 106, 100, 116, 97, 104, 124, 83, 104, 126, 86, 107, 132, 90, 103, 133, 77, 100, 127, 67, 98, 120, 65, 101, 117, 69, 104, 115, 94, 120, 124, 151, 148, 155, 170, 133, 148, 168, 122, 136, 170, 142, 146, 190, 178, 176, 80, 79, 74, 101, 72, 68, 139, 58, 47, 156, 35, 23, 161, 32, 24, 166, 37, 31, 176, 49, 40, 176, 61, 50, 180, 62, 58, 179, 50, 52, 181, 59, 50, 189, 72, 65, 191, 84, 80, 208, 116, 113, 214, 135, 131, 205, 136, 137, 172, 113, 120, 154, 108, 118, 128, 98, 114, 105, 90, 110, 95, 92, 117, 84, 95, 129, 73, 93, 129, 65, 89, 127, 64, 81, 118, 70, 79, 113, 69, 83, 118, 75, 98, 126, 91, 117, 133, 93, 104, 112, 122, 105, 113, 166, 143, 147, 88, 104, 96, 91, 78, 77, 121, 62, 53, 147, 40, 30, 154, 38, 32, 154, 37, 33, 157, 35, 29, 157, 42, 33, 170, 51, 48, 182, 53, 54, 177, 59, 47, 174, 58, 47, 178, 61, 54, 185, 71, 68, 198, 87, 85, 208, 104, 101, 207, 111, 110, 195, 111, 114, 178, 109, 117, 156, 100, 112, 120, 84, 101, 82, 85, 108, 77, 98, 125, 83, 115, 147, 60, 88, 121, 62, 80, 113, 65, 76, 119, 58, 84, 120, 52, 91, 109, 63, 82, 92, 109, 82, 95, 161, 124, 133, 97, 116, 108, 109, 107, 109, 84, 53, 45, 114, 44, 33, 133, 45, 36, 143, 43, 35, 152, 37, 29, 155, 40, 30, 155, 39, 32, 160, 37, 34, 165, 52, 42, 172, 58, 49, 180, 63, 56, 185, 65, 60, 186, 64, 59, 189, 70, 65, 200, 88, 83, 208, 104, 102, 194, 99, 101, 185, 98, 104, 173, 100, 107, 134, 93, 102, 95, 88, 100, 69, 93, 108, 50, 87, 101, 44, 79, 90, 54, 62, 81, 69, 59, 81, 88, 64, 83, 129, 89, 107, 176, 121, 139, 155, 118, 127, 130, 143, 137, 143, 147, 152, 57, 51, 44, 94, 64, 50, 103, 44, 29, 129, 41, 26, 152, 41, 29, 155, 41, 28, 155, 41, 29, 154, 37, 29, 153, 41, 35, 170, 58, 52, 179, 66, 59, 181, 65, 58, 185, 66, 58, 185, 68, 60, 182, 68, 62, 192, 82, 77, 202, 97, 94, 188, 87, 88, 189, 86, 86, 188, 87, 86, 161, 93, 99, 110, 74, 86, 91, 67, 81, 96, 66, 79, 119, 68, 70, 141, 78, 79, 150, 87, 92, 149, 99, 104, 127, 98, 100, 55, 46, 45, 113, 130, 108, 114, 128, 116, 20, 33, 16, 41, 43, 26, 85, 66, 49, 102, 50, 37, 123, 37, 28, 143, 40, 31, 151, 45, 33, 158, 51, 39, 145, 54, 44, 119, 54, 48, 124, 55, 57, 155, 75, 72, 172, 58, 51, 184, 58, 57, 183, 69, 66, 186, 74, 70, 202, 90, 92, 202, 96, 97, 198, 91, 87, 201, 85, 81, 201, 95, 96, 176, 85, 92, 159, 82, 93, 160, 92, 104, 159, 100, 99, 138, 87, 84, 103, 67, 66, 59, 43, 42, 32, 36, 33, 39, 48, 46, 77, 103, 62, 66, 90, 55, 48, 72, 42, 41, 64, 40, 22, 34, 19, 76, 66, 56, 104, 57, 53, 112, 35, 33, 133, 46, 40, 159, 71, 61, 111, 47, 34, 24, 13, 10, 70, 53, 62, 96, 63, 64, 165, 69, 63, 171, 40, 42, 169, 49, 46, 177, 67, 61, 200, 103, 106, 215, 137, 135, 179, 106, 96, 175, 87, 81, 173, 83, 77, 180, 100, 95, 158, 102, 99, 109, 78, 77, 54, 44, 43, 21, 17, 19, 3, 1, 9, 0, 0, 9, 4, 8, 15, 83, 90, 94, 72, 100, 60, 67, 95, 57, 75, 101, 68, 76, 102, 71, 45, 66, 44, 17, 25, 10, 62, 45, 39, 109, 68, 64, 100, 43, 42, 119, 53, 51, 92, 37, 31, 60, 52, 48, 111, 109, 111, 84, 78, 73, 119, 70, 59, 163, 55, 46, 165, 41, 28, 157, 52, 39, 158, 101, 92, 145, 119, 107, 86, 47, 33, 99, 29, 22, 116, 60, 55, 124, 92, 88, 46, 34, 32, 1, 0, 0, 0, 0, 0, 1, 0, 2, 9, 10, 17, 11, 15, 24, 42, 50, 55, 163, 173, 172, 67, 97, 60, 70, 100, 62, 75, 105, 66, 70, 100, 62, 62, 91, 59, 53, 78, 53, 19, 34, 17, 35, 33, 24, 86, 66, 63, 93, 56, 57, 77, 40, 38, 98, 95, 89, 94, 103, 100, 78, 94, 86, 85, 79, 69, 137, 63, 47, 164, 42, 24, 159, 48, 36, 142, 90, 80, 151, 123, 114, 92, 34, 28, 117, 38, 36, 110, 68, 69, 101, 96, 101, 23, 29, 33, 1, 3, 5, 8, 9, 7, 18, 21, 22, 33, 38, 43, 42, 51, 56, 144, 156, 157, 153, 167, 158, 60, 92, 55, 61, 93, 54, 68, 101, 58, 66, 99, 55, 64, 95, 54, 62, 94, 56, 53, 88, 54, 38, 64, 39, 32, 39, 27, 66, 55, 51, 97, 83, 80, 108, 111, 105, 63, 77, 71, 41, 60, 55, 61, 71, 68, 113, 73, 60, 149, 45, 34, 159, 43, 39, 139, 71, 67, 144, 76, 76, 139, 32, 35, 148, 50, 51, 91, 46, 51, 30, 30, 39, 23, 27, 36, 42, 34, 39, 66, 65, 64, 98, 103, 103, 130, 138, 141, 154, 166, 168, 139, 154, 152, 96, 115, 99, 54, 86, 49, 53, 85, 45, 60, 93, 49, 59, 92, 46, 72, 101, 53, 69, 100, 51, 64, 104, 57, 65, 102, 62, 60, 81, 53, 23, 30, 14, 52, 56, 48, 93, 98, 91, 61, 75, 69, 47, 55, 56, 56, 60, 65, 83, 66, 64, 127, 52, 51, 141, 44, 46, 124, 62, 57, 126, 55, 49, 162, 53, 49, 154, 67, 61, 111, 77, 75, 75, 82, 84, 93, 103, 105, 135, 127, 126, 160, 159, 157, 167, 173, 173, 144, 152, 155, 96, 108, 108, 30, 46, 41, 60, 82, 60, 67, 96, 59, 68, 98, 58, 79, 110, 66, 79, 110, 64, 79, 106, 57, 74, 103, 49, 73, 110, 57, 73, 109, 61, 78, 104, 63, 69, 89, 55, 49, 65, 44, 92, 98, 88, 85, 101, 96, 93, 92, 98, 102, 95, 103, 84, 80, 85, 107, 68, 72, 195, 141, 141, 184, 156, 147, 187, 156, 140, 210, 152, 134, 212, 165, 152, 195, 185, 174, 186, 206, 196, 173, 194, 185, 162, 169, 160, 123, 126, 123, 66, 70, 72, 21, 28, 31, 1, 11, 9, 2, 17, 9, 25, 46, 24, 71, 98, 58, 73, 101, 60, 80, 108, 66, 82, 110, 66, 78, 105, 59, 69, 98, 49, 70, 102, 53, 79, 110, 62, 86, 116, 69, 91, 122, 76, 90, 107, 74, 89, 94, 82, 96, 118, 113, 96, 94, 100, 107, 101, 105, 59, 68, 69, 57, 53, 52, 134, 120, 116, 166, 162, 158, 165, 162, 150, 172, 159, 142, 171, 159, 149, 160, 163, 152, 129, 145, 134, 80, 97, 87, 29, 39, 33, 1, 4, 3, 0, 2, 4, 5, 11, 14, 7, 17, 14, 2, 14, 5, 12, 32, 11, 74, 100, 60, 76, 101, 61, 77, 102, 62, 75, 100, 60, 76, 105, 64, 75, 106, 64, 75, 103, 60, 83, 111, 66, 99, 132, 83, 95, 130, 78, 105, 117, 77, 94, 97, 81, 126, 154, 149, 134, 140, 144, 80, 82, 78, 76, 98, 89, 67, 87, 76, 29, 37, 29, 24, 16, 23, 12, 0, 7, 12, 3, 4, 10, 7, 9, 12, 7, 5, 7, 1, 0, 1, 0, 0, 2, 0, 5, 5, 4, 7, 11, 12, 15, 6, 10, 12, 2, 11, 7, 9, 21, 11, 46, 68, 46, 65, 96, 52, 66, 96, 53, 70, 98, 55, 68, 95, 53, 75, 104, 63, 75, 105, 64, 85, 112, 69, 91, 118, 73, 101, 128, 81, 101, 129, 79, 117, 132, 88, 96, 106, 80, 142, 160, 148, 211, 218, 219, 143, 147, 151, 111, 126, 122, 102, 116, 110, 64, 70, 69, 10, 5, 15, 17, 7, 21, 9, 2, 11, 3, 2, 4, 6, 2, 3, 8, 2, 3, 7, 2, 5, 4, 1, 7, 3, 4, 11, 2, 5, 9, 0, 9, 4, 9, 25, 11, 53, 77, 52, 86, 114, 81, 59, 95, 49, 64, 97, 52, 65, 95, 51, 67, 96, 52, 73, 101, 58, 74, 103, 60, 85, 113, 68, 91, 118, 72, 90, 115, 68, 97, 121, 74, 106, 125, 81, 85, 102, 67, 114, 128, 107, 216, 225, 219, 197, 204, 209, 133, 141, 139, 124, 133, 128, 80, 87, 86, 4, 6, 9, 30, 30, 37, 50, 50, 57, 14, 16, 17, 3, 5, 7, 2, 3, 6, 1, 3, 6, 1, 3, 6, 0, 4, 4, 6, 16, 9, 21, 38, 20, 38, 63, 34, 74, 106, 67, 83, 116, 72, 63, 98, 52, 62, 94, 49, 67, 97, 53, 77, 106, 62, 76, 106, 63, 77, 109, 65, 79, 110, 64, 83, 113, 66, 87, 115, 67, 95, 122, 73, 103, 128, 81, 91, 112, 72, 85, 103, 73, 151, 166, 146, 170, 182, 171, 138, 153, 138, 125, 139, 123, 71, 83, 70, 0, 9, 1, 11, 18, 14, 38, 44, 43, 41, 47, 50, 15, 21, 23, 1, 6, 7, 0, 5, 3, 4, 12, 8, 15, 27, 9, 46, 63, 36, 76, 100, 64, 76, 107, 63, 80, 117, 67, 86, 122, 71, 66, 98, 53, 71, 102, 58, 76, 106, 62, 85, 114, 70, 82, 115, 71, 73, 108, 63, 72, 105, 59, 69, 101, 54, 79, 110, 61, 85, 116, 66, 91, 120, 71, 96, 123, 78, 96, 121, 80, 108, 130, 96, 125, 144, 114, 115, 136, 106, 97, 117, 88, 57, 76, 50, 34, 51, 30, 21, 37, 18, 7, 19, 7, 12, 23, 19, 7, 19, 13, 4, 16, 6, 12, 26, 12, 40, 56, 38, 62, 84, 47, 80, 106, 61, 84, 113, 65, 78, 113, 61, 72, 112, 56, 80, 119, 65, 71, 102, 58, 70, 100, 56, 72, 101, 57, 77, 106, 62, 73, 107, 63, 65, 103, 57, 70, 106, 59, 68, 101, 53, 68, 100, 51, 78, 110, 60, 81, 114, 64, 82, 113, 64, 98, 127, 79, 103, 130, 84, 96, 122, 77, 89, 115, 71, 88, 114, 72, 87, 112, 73, 85, 110, 74, 74, 97, 65, 46, 69, 42, 25, 46, 26, 37, 59, 36, 50, 74, 45, 60, 85, 51, 78, 103, 65, 83, 110, 63, 80, 110, 59, 82, 115, 64, 72, 109, 57, 71, 111, 59, 78, 117, 66, 71, 98, 55, 75, 104, 60, 73, 102, 58, 72, 102, 58, 69, 103, 59, 71, 108, 62, 68, 103, 56, 69, 102, 55, 68, 100, 51, 75, 107, 57, 74, 108, 57, 68, 100, 50, 77, 109, 58, 87, 117, 64, 107, 136, 82, 98, 127, 75, 98, 126, 76, 88, 117, 70, 80, 109, 65, 73, 102, 61, 63, 91, 53, 62, 90, 52, 73, 102, 61, 74, 104, 58, 80, 111, 60, 77, 108, 53, 75, 105, 54, 76, 107, 58, 83, 116, 68, 82, 118, 72, 81, 119, 75, 86, 123, 78, 79, 105, 62, 78, 105, 62, 73, 102, 58, 72, 103, 59, 66, 99, 55, 70, 104, 59, 72, 104, 58, 73, 104, 57, 71, 99, 51, 70, 99, 51, 69, 102, 54, 70, 103, 54, 76, 107, 57, 91, 121, 68, 99, 128, 72, 103, 132, 77, 103, 131, 79, 101, 130, 81, 85, 116, 70, 71, 103, 60, 69, 101, 57, 79, 111, 62, 75, 108, 56, 70, 103, 49, 75, 109, 51, 76, 110, 51, 76, 107, 56, 80, 111, 65, 88, 120, 76, 82, 115, 73, 77, 111, 70, 82, 118, 74], \"height\": 32, \"channels\": 3, \"width\": 32, \"type\": \"image\", \"id\": 140365507235984}, {\"format\": \"raw\", \"value\": [110, 118, 104, 98, 104, 80, 92, 100, 68, 95, 110, 60, 112, 120, 99, 114, 116, 104, 107, 104, 68, 122, 118, 69, 122, 123, 78, 116, 121, 86, 108, 113, 97, 145, 147, 146, 148, 156, 157, 132, 142, 145, 130, 141, 142, 100, 116, 114, 82, 94, 94, 100, 108, 110, 94, 104, 104, 98, 109, 115, 164, 172, 181, 230, 232, 234, 240, 240, 238, 240, 240, 239, 240, 240, 240, 240, 239, 239, 233, 234, 235, 191, 203, 204, 153, 173, 156, 155, 177, 165, 152, 177, 178, 121, 159, 157, 129, 134, 137, 115, 118, 115, 103, 108, 91, 111, 113, 96, 107, 110, 95, 103, 108, 78, 104, 102, 70, 105, 105, 69, 116, 120, 71, 115, 120, 80, 111, 113, 93, 122, 126, 115, 122, 131, 111, 102, 117, 100, 93, 106, 97, 86, 95, 89, 84, 95, 88, 92, 103, 96, 94, 102, 97, 125, 129, 134, 184, 190, 195, 233, 233, 234, 242, 242, 243, 243, 243, 244, 242, 242, 242, 242, 242, 242, 201, 212, 219, 147, 170, 177, 133, 158, 133, 136, 158, 131, 138, 163, 161, 110, 144, 139, 138, 143, 148, 134, 134, 143, 116, 121, 113, 119, 123, 107, 108, 110, 82, 111, 115, 66, 117, 114, 67, 104, 106, 70, 108, 112, 73, 98, 102, 79, 98, 100, 84, 110, 115, 102, 104, 113, 93, 101, 115, 91, 95, 107, 95, 83, 89, 75, 77, 79, 65, 92, 103, 86, 120, 129, 114, 167, 171, 168, 178, 185, 186, 207, 210, 208, 229, 233, 230, 229, 234, 229, 239, 240, 237, 224, 225, 225, 166, 176, 188, 139, 156, 164, 127, 152, 122, 117, 143, 105, 121, 145, 128, 117, 137, 116, 160, 167, 165, 135, 136, 132, 103, 108, 90, 100, 106, 73, 111, 114, 73, 120, 120, 75, 118, 115, 70, 112, 112, 78, 116, 116, 80, 96, 97, 75, 92, 93, 76, 114, 118, 94, 96, 109, 90, 86, 101, 81, 84, 94, 78, 82, 86, 66, 81, 82, 66, 90, 99, 87, 115, 129, 113, 142, 149, 137, 155, 159, 156, 180, 187, 172, 196, 211, 188, 197, 213, 194, 221, 228, 218, 204, 206, 207, 147, 155, 158, 139, 152, 145, 121, 142, 111, 108, 134, 91, 114, 137, 99, 108, 124, 94, 110, 119, 112, 103, 110, 106, 103, 111, 105, 101, 108, 93, 104, 110, 83, 113, 115, 82, 122, 122, 75, 125, 126, 92, 137, 138, 103, 112, 114, 77, 96, 98, 76, 108, 112, 88, 99, 106, 83, 97, 105, 78, 92, 98, 77, 88, 92, 69, 82, 82, 66, 82, 89, 77, 96, 106, 93, 116, 116, 103, 145, 151, 143, 164, 179, 156, 172, 192, 165, 174, 196, 174, 179, 194, 174, 172, 177, 173, 149, 154, 155, 140, 148, 136, 114, 130, 109, 104, 128, 84, 108, 127, 80, 97, 113, 81, 97, 109, 100, 96, 101, 95, 92, 96, 86, 90, 94, 85, 94, 101, 96, 102, 108, 95, 121, 123, 96, 131, 134, 95, 146, 149, 118, 128, 134, 94, 97, 101, 77, 95, 103, 89, 98, 109, 91, 92, 105, 84, 80, 92, 75, 86, 91, 72, 92, 97, 80, 96, 100, 87, 123, 123, 113, 151, 148, 137, 146, 153, 138, 155, 172, 148, 160, 179, 139, 164, 186, 143, 169, 184, 153, 153, 158, 151, 148, 152, 155, 145, 146, 134, 118, 125, 104, 105, 126, 78, 101, 124, 67, 92, 109, 71, 97, 104, 88, 87, 91, 84, 97, 100, 94, 96, 98, 89, 95, 101, 92, 94, 102, 87, 91, 96, 81, 99, 101, 79, 123, 128, 114, 125, 133, 114, 101, 104, 89, 95, 97, 87, 94, 103, 93, 89, 99, 86, 95, 98, 80, 98, 97, 77, 86, 85, 68, 95, 94, 77, 112, 113, 100, 147, 152, 140, 159, 162, 149, 160, 170, 146, 147, 164, 117, 142, 159, 109, 150, 163, 126, 142, 146, 126, 140, 142, 134, 147, 147, 126, 129, 131, 94, 110, 129, 70, 95, 122, 59, 97, 115, 73, 104, 101, 87, 85, 92, 86, 100, 108, 96, 98, 107, 93, 104, 111, 102, 103, 110, 90, 97, 100, 83, 97, 97, 80, 111, 117, 105, 112, 120, 102, 103, 111, 94, 100, 103, 104, 105, 110, 111, 105, 112, 106, 101, 105, 92, 111, 107, 94, 115, 110, 102, 145, 142, 139, 166, 156, 157, 176, 166, 167, 192, 181, 182, 189, 183, 178, 179, 174, 163, 163, 165, 147, 151, 166, 139, 134, 145, 115, 129, 142, 95, 126, 137, 94, 121, 134, 104, 97, 116, 74, 85, 109, 56, 82, 104, 62, 106, 119, 104, 90, 98, 94, 80, 91, 78, 79, 93, 76, 138, 144, 123, 140, 143, 101, 100, 103, 86, 101, 105, 89, 112, 118, 112, 104, 111, 103, 106, 108, 94, 104, 106, 96, 99, 104, 96, 96, 100, 93, 124, 124, 123, 176, 168, 174, 182, 176, 184, 171, 171, 180, 162, 158, 173, 157, 148, 166, 159, 147, 164, 167, 149, 167, 182, 151, 171, 206, 168, 183, 216, 196, 203, 191, 186, 187, 148, 148, 130, 126, 143, 102, 117, 136, 116, 98, 109, 86, 84, 93, 59, 76, 89, 60, 84, 99, 79, 80, 92, 77, 81, 93, 79, 84, 92, 79, 99, 106, 86, 113, 112, 79, 102, 98, 81, 104, 105, 87, 114, 124, 110, 103, 114, 103, 114, 116, 109, 127, 127, 118, 109, 116, 97, 120, 123, 117, 184, 182, 188, 219, 222, 227, 203, 210, 214, 177, 193, 199, 176, 197, 208, 177, 204, 217, 180, 205, 219, 176, 202, 214, 166, 192, 204, 165, 144, 164, 162, 130, 143, 139, 129, 136, 157, 137, 145, 150, 142, 128, 112, 124, 80, 96, 111, 67, 92, 98, 64, 79, 86, 62, 85, 101, 81, 81, 100, 78, 86, 100, 80, 86, 88, 76, 91, 94, 80, 97, 92, 78, 104, 91, 83, 114, 110, 93, 103, 114, 103, 95, 111, 98, 100, 111, 106, 128, 140, 141, 115, 128, 110, 167, 174, 171, 229, 234, 240, 227, 232, 235, 191, 204, 207, 183, 200, 210, 183, 203, 217, 185, 213, 225, 183, 212, 225, 184, 213, 224, 183, 216, 226, 161, 159, 175, 157, 154, 162, 147, 170, 181, 128, 122, 135, 138, 112, 121, 111, 117, 89, 97, 114, 62, 98, 111, 67, 96, 109, 67, 85, 95, 83, 81, 92, 79, 85, 91, 78, 86, 84, 75, 90, 92, 79, 96, 90, 78, 106, 91, 81, 107, 95, 75, 109, 111, 106, 125, 136, 129, 122, 124, 117, 141, 145, 143, 146, 148, 145, 206, 210, 213, 228, 231, 235, 216, 220, 223, 193, 201, 205, 194, 199, 209, 195, 200, 212, 184, 205, 217, 166, 202, 216, 176, 209, 222, 176, 205, 218, 164, 159, 173, 176, 183, 183, 179, 207, 209, 150, 157, 164, 158, 135, 146, 126, 122, 120, 108, 116, 84, 99, 113, 79, 101, 114, 79, 81, 83, 77, 83, 82, 78, 92, 89, 85, 91, 87, 79, 85, 83, 73, 105, 93, 73, 131, 107, 84, 153, 118, 110, 176, 152, 161, 195, 173, 188, 197, 174, 183, 206, 188, 191, 213, 195, 199, 227, 215, 221, 229, 217, 223, 224, 215, 219, 217, 210, 214, 218, 207, 214, 215, 206, 214, 205, 206, 215, 190, 199, 211, 185, 199, 210, 173, 190, 203, 166, 160, 173, 168, 181, 183, 150, 176, 183, 139, 147, 155, 171, 141, 152, 144, 137, 146, 108, 113, 105, 100, 111, 110, 94, 106, 110, 84, 79, 74, 97, 83, 77, 115, 99, 92, 126, 113, 98, 129, 107, 95, 155, 124, 101, 177, 118, 105, 205, 126, 148, 219, 155, 185, 221, 152, 188, 224, 159, 192, 229, 172, 199, 230, 179, 200, 229, 182, 202, 229, 185, 204, 229, 187, 203, 229, 186, 202, 229, 186, 201, 227, 190, 203, 226, 190, 205, 224, 187, 202, 214, 185, 198, 196, 173, 186, 185, 163, 173, 176, 164, 174, 147, 145, 160, 152, 149, 161, 177, 160, 172, 164, 160, 173, 129, 127, 126, 94, 111, 123, 105, 120, 128, 159, 130, 99, 169, 141, 106, 173, 149, 140, 204, 160, 171, 215, 175, 186, 211, 162, 171, 201, 116, 133, 208, 130, 157, 210, 119, 152, 212, 110, 147, 217, 121, 162, 222, 142, 176, 227, 162, 187, 228, 172, 193, 229, 173, 193, 228, 171, 192, 226, 165, 186, 224, 162, 180, 225, 165, 184, 226, 164, 187, 225, 160, 179, 224, 154, 171, 211, 140, 157, 201, 143, 154, 209, 138, 154, 207, 161, 173, 214, 184, 195, 208, 177, 192, 202, 172, 189, 179, 153, 167, 116, 121, 129, 140, 139, 124, 203, 161, 103, 202, 177, 138, 189, 178, 187, 203, 120, 147, 220, 131, 163, 214, 123, 150, 195, 110, 134, 171, 154, 172, 187, 110, 132, 207, 93, 123, 217, 124, 158, 228, 166, 193, 224, 192, 206, 223, 194, 203, 227, 198, 207, 231, 206, 215, 232, 208, 215, 234, 208, 213, 234, 211, 219, 233, 210, 218, 231, 204, 210, 230, 201, 207, 229, 193, 204, 223, 180, 191, 226, 174, 187, 223, 160, 178, 216, 121, 146, 197, 99, 122, 191, 90, 113, 202, 128, 148, 190, 162, 169, 175, 154, 123, 191, 164, 97, 202, 184, 150, 171, 159, 159, 139, 39, 47, 177, 62, 86, 198, 97, 120, 198, 97, 121, 192, 95, 120, 200, 86, 113, 207, 93, 123, 211, 110, 143, 207, 125, 155, 207, 140, 163, 203, 174, 188, 200, 188, 199, 225, 175, 193, 228, 175, 194, 228, 175, 192, 227, 168, 184, 223, 155, 170, 219, 136, 151, 214, 118, 137, 211, 104, 124, 206, 92, 111, 204, 89, 107, 199, 76, 97, 196, 67, 88, 189, 69, 89, 181, 63, 80, 197, 96, 115, 205, 112, 136, 173, 114, 112, 191, 174, 98, 202, 185, 129, 137, 114, 100, 120, 38, 46, 160, 75, 94, 171, 137, 158, 177, 149, 166, 180, 142, 162, 186, 118, 141, 190, 95, 121, 187, 65, 93, 182, 60, 87, 185, 83, 106, 194, 180, 190, 182, 182, 186, 195, 113, 128, 210, 85, 108, 206, 77, 99, 202, 67, 87, 201, 62, 84, 201, 60, 82, 196, 55, 72, 187, 67, 83, 184, 67, 83, 190, 53, 68, 190, 54, 69, 188, 58, 72, 186, 63, 79, 180, 67, 81, 180, 62, 80, 186, 65, 83, 164, 81, 89, 186, 172, 102, 203, 182, 119, 127, 106, 93, 101, 78, 96, 120, 108, 124, 113, 121, 135, 125, 131, 141, 134, 140, 152, 150, 156, 169, 172, 160, 176, 171, 88, 105, 160, 38, 56, 155, 51, 63, 203, 191, 194, 174, 170, 168, 145, 51, 55, 180, 51, 67, 186, 69, 85, 189, 71, 89, 181, 71, 90, 173, 70, 88, 176, 68, 83, 170, 80, 95, 167, 74, 88, 181, 50, 65, 185, 51, 67, 179, 51, 66, 179, 55, 71, 170, 56, 71, 157, 51, 64, 155, 69, 84, 153, 88, 94, 176, 161, 101, 193, 175, 118, 132, 131, 128, 80, 79, 95, 70, 74, 90, 74, 77, 93, 81, 82, 93, 91, 93, 102, 109, 110, 118, 125, 130, 137, 149, 135, 145, 174, 119, 134, 169, 96, 108, 170, 140, 149, 134, 107, 110, 123, 24, 29, 163, 54, 67, 176, 86, 100, 154, 79, 93, 92, 64, 75, 70, 48, 56, 130, 45, 56, 175, 46, 57, 171, 41, 53, 174, 44, 55, 176, 47, 57, 174, 48, 59, 171, 52, 64, 159, 48, 62, 138, 47, 57, 119, 82, 85, 115, 73, 77, 169, 148, 92, 171, 157, 117, 122, 126, 135, 79, 81, 99, 69, 72, 89, 79, 84, 100, 93, 97, 112, 86, 92, 105, 84, 89, 101, 78, 80, 94, 88, 89, 101, 99, 100, 110, 136, 119, 131, 146, 128, 140, 120, 73, 82, 133, 17, 25, 162, 19, 30, 169, 25, 35, 121, 50, 58, 65, 60, 67, 21, 23, 27, 75, 14, 21, 175, 32, 43, 169, 34, 45, 167, 39, 48, 166, 43, 51, 163, 43, 51, 160, 48, 57, 149, 41, 52, 129, 42, 50, 142, 121, 111, 122, 110, 81, 155, 125, 76, 146, 140, 135, 157, 162, 173, 133, 139, 148, 87, 101, 128, 80, 91, 118, 86, 93, 112, 65, 67, 79, 91, 94, 108, 107, 108, 128, 85, 85, 102, 78, 83, 101, 83, 83, 99, 108, 110, 123, 154, 127, 141, 148, 36, 44, 162, 17, 26, 168, 44, 52, 125, 96, 97, 129, 116, 112, 85, 82, 87, 50, 16, 23, 156, 26, 37, 162, 31, 42, 153, 32, 41, 155, 33, 43, 152, 35, 47, 146, 49, 58, 130, 52, 61, 115, 54, 60, 178, 167, 158, 190, 191, 158, 133, 96, 63, 130, 119, 114, 169, 173, 188, 199, 208, 223, 123, 152, 204, 108, 131, 188, 128, 144, 177, 135, 138, 150, 115, 116, 127, 105, 107, 126, 81, 81, 99, 73, 77, 93, 65, 65, 77, 95, 93, 108, 162, 164, 180, 151, 63, 74, 160, 8, 16, 137, 49, 57, 74, 72, 76, 85, 75, 68, 139, 130, 124, 59, 33, 39, 137, 19, 25, 153, 26, 34, 144, 26, 34, 140, 36, 43, 131, 58, 67, 111, 74, 84, 59, 44, 50, 85, 74, 77, 176, 173, 177, 190, 191, 193, 133, 104, 76, 143, 113, 83, 119, 103, 97, 119, 117, 131, 99, 118, 169, 101, 112, 171, 141, 158, 202, 233, 239, 243, 215, 217, 219, 196, 201, 205, 170, 170, 179, 150, 144, 161, 132, 124, 142, 130, 127, 147, 151, 151, 170, 151, 75, 86, 149, 17, 24, 128, 84, 94, 172, 180, 184, 91, 87, 86, 132, 123, 110, 84, 55, 59, 129, 17, 23, 142, 39, 44, 135, 66, 73, 107, 77, 87, 59, 52, 60, 31, 29, 33, 13, 11, 13, 58, 56, 61, 118, 117, 125, 150, 153, 165, 151, 120, 85, 149, 115, 81, 155, 119, 84, 160, 129, 99, 85, 78, 87, 43, 53, 104, 103, 110, 145, 186, 186, 192, 195, 198, 210, 225, 228, 235, 252, 252, 252, 250, 251, 251, 237, 237, 242, 217, 219, 223, 209, 209, 218, 217, 206, 214, 200, 177, 181, 160, 158, 165, 203, 175, 187, 111, 80, 87, 127, 122, 109, 88, 65, 67, 110, 52, 61, 105, 84, 93, 57, 55, 62, 31, 31, 35, 35, 35, 36, 55, 51, 54, 75, 71, 74, 86, 85, 88, 102, 103, 110, 140, 140, 152, 150, 129, 109, 137, 120, 109, 122, 109, 101, 116, 104, 96, 80, 73, 72, 15, 16, 19, 8, 9, 13, 25, 22, 28, 73, 73, 89, 114, 114, 134, 161, 161, 172, 174, 180, 192, 184, 191, 205, 227, 229, 233, 234, 235, 237, 229, 233, 235, 189, 194, 204, 121, 119, 133, 124, 79, 90, 94, 67, 72, 140, 135, 130, 58, 55, 54, 30, 29, 30, 32, 32, 37, 37, 35, 37, 61, 56, 58, 90, 85, 89, 118, 114, 120, 132, 130, 137, 139, 138, 148, 144, 143, 155, 148, 148, 162, 115, 110, 117, 99, 96, 104, 82, 79, 87, 65, 62, 71, 46, 42, 50, 23, 21, 22, 8, 9, 9, 3, 4, 5, 10, 9, 11, 12, 9, 14, 19, 17, 22, 35, 33, 41, 62, 58, 71, 98, 92, 106, 115, 109, 124, 111, 103, 117, 102, 98, 110, 76, 71, 76, 84, 73, 77, 115, 107, 111, 153, 147, 149, 48, 44, 48, 40, 36, 38, 62, 56, 60, 91, 85, 88, 122, 116, 122, 140, 134, 143, 146, 142, 151, 149, 145, 155, 154, 152, 162, 159, 157, 166, 160, 159, 169, 110, 113, 125, 96, 96, 107, 83, 80, 88, 67, 65, 69, 50, 46, 52, 37, 34, 39, 28, 27, 31, 21, 21, 24, 13, 14, 15, 9, 9, 11, 5, 5, 6, 4, 4, 3, 6, 4, 5, 8, 5, 7, 10, 7, 9, 10, 8, 12, 69, 67, 72, 94, 91, 96, 90, 91, 97, 162, 158, 162, 129, 122, 131, 66, 61, 64, 88, 83, 88, 114, 109, 113, 133, 127, 132, 147, 140, 148, 158, 151, 160, 159, 156, 164, 161, 159, 169, 167, 164, 176, 168, 168, 179, 166, 167, 179, 130, 133, 145, 121, 121, 133, 110, 108, 120, 95, 93, 101, 77, 75, 82, 61, 58, 65, 50, 48, 53, 40, 39, 43, 32, 30, 34, 26, 23, 27, 19, 18, 21, 14, 14, 15, 12, 12, 12, 9, 8, 10, 6, 6, 6, 6, 5, 6, 45, 44, 50, 125, 123, 131, 162, 161, 166, 149, 146, 153, 101, 95, 101, 111, 105, 107, 131, 125, 129, 145, 138, 143, 152, 146, 151, 160, 153, 161, 166, 159, 168, 162, 159, 169, 160, 159, 172, 162, 162, 175, 160, 161, 176, 161, 163, 178, 144, 147, 158, 141, 140, 154, 134, 134, 147, 126, 124, 134, 111, 108, 118, 94, 91, 102, 79, 77, 86, 67, 64, 73, 57, 53, 62, 47, 44, 51, 39, 38, 43, 34, 33, 37, 31, 30, 33, 26, 26, 29, 22, 21, 25, 18, 18, 20, 26, 25, 30, 76, 74, 82, 120, 118, 126, 115, 111, 117, 131, 124, 127, 146, 139, 145, 154, 148, 154, 158, 152, 160, 160, 154, 163, 166, 160, 169, 169, 163, 172, 163, 161, 173, 157, 159, 173, 160, 162, 175, 161, 162, 178, 164, 166, 181, 149, 152, 164, 148, 148, 161, 146, 147, 162, 143, 144, 157, 139, 138, 152, 128, 125, 139, 114, 112, 124, 100, 98, 110, 88, 87, 99, 78, 77, 87, 72, 69, 79, 67, 65, 73, 65, 62, 69, 62, 59, 67, 64, 62, 69, 70, 67, 74, 81, 76, 83, 97, 92, 98, 118, 114, 119, 147, 141, 145, 158, 151, 157, 159, 153, 161, 164, 157, 167, 162, 157, 167, 160, 156, 166, 168, 164, 174, 167, 165, 177, 165, 165, 178, 164, 166, 180, 165, 168, 183, 166, 168, 184, 172, 174, 187, 150, 154, 168, 151, 155, 168, 157, 158, 173, 158, 158, 173, 153, 153, 168, 148, 148, 163, 141, 140, 155, 131, 130, 145, 126, 125, 139, 118, 116, 129, 109, 106, 118, 103, 100, 112, 99, 96, 107, 100, 95, 105, 107, 101, 110, 115, 109, 121, 123, 117, 128, 136, 129, 139, 153, 146, 155, 158, 152, 161, 160, 156, 165, 162, 156, 165, 164, 158, 164, 158, 154, 165, 157, 155, 168, 161, 160, 173, 163, 163, 178, 164, 164, 178, 165, 166, 180, 162, 164, 178, 163, 165, 179, 168, 170, 184], \"height\": 32, \"channels\": 3, \"width\": 32, \"type\": \"image\", \"id\": 140365507235920}, {\"format\": \"raw\", \"value\": [89, 95, 50, 83, 84, 43, 69, 70, 42, 64, 69, 39, 55, 63, 29, 64, 72, 36, 66, 75, 36, 72, 81, 38, 85, 93, 49, 84, 86, 43, 95, 92, 50, 88, 85, 40, 91, 92, 44, 81, 87, 44, 75, 85, 45, 83, 95, 55, 75, 84, 39, 76, 84, 34, 91, 98, 48, 97, 96, 53, 100, 90, 48, 108, 96, 51, 69, 75, 34, 78, 88, 46, 87, 90, 43, 89, 93, 44, 80, 88, 41, 77, 87, 47, 56, 63, 38, 28, 33, 19, 25, 28, 20, 11, 14, 6, 81, 81, 48, 74, 73, 43, 46, 49, 30, 64, 71, 47, 69, 75, 45, 51, 57, 26, 55, 61, 30, 60, 66, 36, 74, 81, 48, 95, 98, 60, 104, 102, 58, 101, 101, 50, 98, 101, 50, 74, 80, 40, 67, 77, 39, 79, 92, 50, 77, 85, 40, 79, 87, 39, 85, 90, 46, 86, 83, 47, 100, 89, 54, 111, 96, 59, 72, 70, 39, 69, 71, 39, 79, 78, 38, 83, 83, 42, 87, 89, 48, 82, 83, 45, 53, 55, 29, 27, 31, 16, 20, 27, 15, 16, 19, 7, 88, 86, 52, 68, 68, 36, 48, 52, 31, 63, 71, 45, 71, 77, 42, 71, 77, 40, 70, 76, 40, 68, 73, 43, 50, 58, 32, 67, 72, 39, 92, 94, 49, 102, 106, 52, 94, 101, 47, 78, 85, 42, 80, 90, 46, 75, 89, 40, 81, 91, 40, 86, 92, 41, 80, 81, 36, 73, 66, 30, 100, 85, 51, 112, 93, 59, 92, 85, 50, 82, 83, 42, 81, 83, 35, 82, 84, 36, 91, 92, 48, 84, 84, 50, 50, 48, 25, 33, 27, 13, 30, 23, 12, 40, 34, 22, 98, 100, 59, 74, 74, 37, 64, 68, 42, 63, 70, 41, 71, 77, 38, 81, 88, 41, 80, 87, 40, 89, 94, 55, 70, 78, 51, 56, 65, 32, 69, 74, 28, 102, 109, 54, 98, 106, 53, 73, 80, 32, 81, 93, 40, 83, 97, 42, 85, 94, 43, 88, 99, 48, 88, 102, 52, 92, 98, 58, 100, 96, 62, 101, 93, 58, 84, 90, 45, 83, 98, 45, 77, 96, 40, 74, 91, 38, 78, 93, 50, 76, 90, 62, 57, 66, 46, 41, 45, 29, 32, 31, 13, 49, 43, 26, 82, 86, 48, 83, 82, 49, 52, 52, 31, 57, 60, 37, 81, 84, 53, 89, 95, 49, 88, 94, 45, 77, 82, 41, 97, 106, 77, 84, 95, 60, 85, 93, 44, 98, 107, 54, 92, 101, 54, 85, 92, 48, 78, 89, 42, 81, 94, 47, 79, 87, 50, 91, 94, 60, 101, 100, 66, 112, 104, 81, 118, 100, 85, 118, 95, 80, 107, 86, 64, 115, 102, 74, 101, 95, 67, 98, 90, 72, 104, 90, 82, 111, 93, 89, 103, 89, 84, 75, 68, 56, 53, 53, 31, 65, 60, 38, 80, 87, 49, 83, 82, 51, 45, 41, 26, 44, 42, 29, 60, 61, 40, 77, 79, 46, 92, 95, 52, 78, 80, 42, 67, 77, 45, 62, 74, 39, 82, 88, 43, 102, 107, 57, 99, 103, 61, 87, 94, 54, 81, 87, 53, 94, 93, 67, 101, 90, 78, 130, 102, 100, 153, 109, 111, 159, 108, 119, 173, 113, 128, 179, 112, 125, 178, 110, 121, 176, 111, 122, 160, 96, 114, 157, 94, 122, 169, 97, 134, 162, 99, 130, 143, 94, 120, 122, 93, 104, 97, 82, 67, 107, 98, 75, 89, 95, 51, 93, 90, 54, 63, 56, 39, 36, 32, 22, 44, 47, 30, 50, 53, 28, 82, 87, 44, 86, 90, 49, 64, 73, 39, 62, 71, 41, 77, 80, 42, 114, 112, 62, 107, 101, 60, 86, 83, 55, 101, 86, 79, 132, 97, 104, 157, 103, 125, 177, 107, 142, 189, 111, 147, 199, 114, 152, 204, 113, 149, 209, 112, 143, 206, 109, 138, 196, 102, 137, 171, 91, 131, 152, 102, 140, 162, 108, 153, 142, 108, 153, 137, 112, 158, 133, 121, 154, 118, 104, 99, 100, 89, 63, 102, 98, 56, 101, 89, 55, 87, 70, 54, 42, 34, 24, 52, 59, 40, 43, 51, 25, 66, 77, 32, 79, 90, 44, 66, 76, 46, 70, 77, 51, 90, 94, 49, 116, 115, 57, 104, 100, 60, 88, 92, 85, 92, 86, 105, 99, 79, 107, 108, 75, 112, 112, 72, 116, 111, 68, 105, 115, 69, 99, 120, 71, 99, 125, 71, 102, 156, 74, 111, 177, 95, 137, 135, 101, 141, 106, 114, 146, 123, 135, 170, 120, 130, 171, 114, 129, 172, 134, 148, 184, 133, 123, 129, 88, 71, 45, 112, 103, 65, 96, 81, 50, 87, 69, 50, 55, 45, 33, 38, 40, 24, 59, 63, 41, 74, 82, 42, 80, 88, 49, 73, 81, 54, 69, 77, 45, 89, 96, 44, 108, 111, 56, 134, 135, 108, 122, 137, 145, 68, 82, 111, 45, 56, 85, 45, 54, 85, 54, 59, 98, 47, 50, 81, 51, 57, 72, 73, 77, 93, 48, 53, 79, 81, 56, 87, 139, 109, 147, 117, 128, 168, 100, 116, 161, 124, 137, 183, 142, 143, 191, 116, 129, 173, 137, 157, 193, 143, 137, 151, 125, 102, 84, 116, 112, 72, 98, 88, 55, 82, 73, 49, 79, 69, 54, 67, 54, 48, 80, 69, 58, 89, 84, 56, 77, 74, 48, 70, 74, 42, 87, 96, 55, 106, 115, 69, 118, 124, 88, 165, 165, 162, 119, 118, 130, 77, 75, 101, 49, 50, 73, 51, 54, 75, 46, 50, 85, 36, 42, 77, 49, 57, 78, 65, 72, 92, 44, 52, 79, 85, 61, 95, 130, 109, 151, 112, 129, 173, 101, 111, 159, 111, 122, 165, 139, 144, 187, 120, 126, 165, 118, 125, 160, 142, 120, 142, 177, 142, 139, 103, 98, 57, 90, 80, 48, 84, 77, 49, 101, 91, 70, 142, 121, 112, 138, 121, 107, 112, 101, 73, 77, 69, 43, 77, 79, 44, 86, 93, 59, 102, 109, 84, 153, 160, 145, 138, 145, 149, 91, 99, 104, 61, 69, 85, 44, 54, 69, 58, 70, 84, 37, 49, 77, 26, 38, 72, 28, 39, 68, 35, 44, 67, 44, 47, 66, 107, 69, 101, 140, 117, 157, 112, 121, 161, 79, 84, 121, 72, 89, 114, 96, 125, 146, 101, 100, 125, 108, 76, 111, 169, 97, 130, 198, 132, 147, 111, 94, 58, 97, 78, 50, 101, 87, 60, 106, 93, 66, 146, 130, 105, 150, 138, 109, 131, 126, 83, 103, 103, 62, 88, 90, 59, 68, 71, 59, 121, 125, 125, 162, 170, 165, 111, 123, 121, 88, 103, 110, 55, 67, 90, 45, 55, 81, 46, 54, 82, 33, 43, 75, 29, 40, 72, 26, 31, 69, 58, 60, 86, 114, 106, 116, 130, 90, 113, 128, 121, 149, 98, 105, 135, 63, 69, 88, 64, 67, 79, 102, 93, 114, 145, 88, 115, 194, 97, 138, 235, 106, 149, 214, 113, 141, 119, 87, 55, 98, 77, 46, 108, 96, 63, 115, 101, 70, 136, 124, 96, 130, 120, 86, 122, 118, 75, 99, 102, 62, 66, 68, 40, 70, 69, 63, 143, 145, 154, 123, 131, 138, 101, 112, 115, 103, 112, 126, 85, 93, 117, 51, 60, 87, 37, 46, 75, 31, 38, 69, 33, 38, 69, 30, 31, 67, 89, 88, 113, 160, 145, 157, 138, 88, 109, 99, 92, 112, 103, 107, 129, 96, 91, 104, 114, 70, 86, 191, 90, 126, 223, 99, 133, 232, 99, 134, 242, 79, 121, 212, 86, 121, 125, 86, 56, 104, 79, 47, 104, 89, 54, 132, 108, 79, 148, 123, 100, 103, 96, 62, 77, 80, 45, 71, 70, 43, 76, 58, 42, 106, 80, 79, 105, 81, 98, 101, 81, 105, 96, 79, 99, 86, 70, 89, 72, 60, 80, 59, 51, 73, 58, 55, 78, 46, 42, 65, 42, 36, 61, 37, 34, 59, 77, 73, 94, 117, 101, 117, 129, 79, 100, 96, 73, 90, 120, 90, 113, 161, 90, 116, 214, 86, 118, 253, 72, 115, 235, 73, 102, 211, 70, 88, 223, 62, 89, 211, 95, 124, 118, 81, 51, 116, 80, 53, 104, 80, 51, 112, 85, 57, 132, 112, 79, 96, 95, 58, 66, 54, 28, 95, 47, 44, 157, 72, 88, 192, 94, 124, 188, 88, 131, 193, 94, 140, 190, 92, 134, 178, 87, 124, 160, 73, 110, 158, 74, 112, 160, 81, 119, 150, 78, 111, 136, 76, 102, 125, 70, 97, 126, 72, 98, 147, 88, 110, 164, 85, 109, 138, 56, 82, 169, 71, 99, 230, 81, 115, 234, 65, 92, 237, 55, 77, 238, 62, 80, 233, 67, 84, 222, 77, 94, 173, 97, 113, 130, 94, 66, 123, 89, 64, 94, 76, 50, 83, 72, 41, 119, 111, 70, 115, 84, 59, 136, 61, 64, 190, 71, 100, 221, 86, 127, 229, 94, 140, 233, 94, 148, 236, 93, 147, 239, 95, 144, 239, 94, 141, 237, 93, 140, 234, 91, 139, 230, 91, 138, 232, 93, 134, 230, 93, 128, 222, 91, 129, 220, 92, 130, 224, 95, 129, 228, 87, 123, 231, 79, 115, 230, 74, 102, 240, 65, 89, 215, 60, 69, 218, 59, 64, 237, 60, 74, 226, 62, 82, 140, 49, 57, 95, 69, 78, 127, 95, 67, 112, 86, 61, 81, 69, 45, 95, 76, 52, 142, 93, 72, 176, 76, 83, 215, 76, 108, 234, 84, 127, 236, 87, 133, 238, 86, 136, 240, 85, 137, 244, 84, 136, 245, 83, 133, 244, 85, 131, 243, 86, 130, 243, 86, 130, 243, 88, 131, 247, 87, 125, 248, 85, 121, 244, 87, 126, 246, 91, 129, 249, 92, 126, 250, 84, 117, 251, 69, 100, 242, 59, 82, 232, 59, 76, 210, 68, 74, 217, 60, 69, 212, 57, 72, 170, 60, 74, 71, 42, 44, 70, 67, 78, 129, 101, 72, 123, 96, 74, 111, 78, 64, 132, 64, 64, 193, 75, 93, 228, 77, 115, 240, 76, 124, 234, 83, 127, 235, 85, 128, 239, 82, 126, 241, 82, 126, 243, 82, 126, 245, 81, 127, 249, 80, 128, 250, 80, 126, 251, 84, 128, 253, 85, 127, 246, 83, 120, 241, 88, 122, 243, 92, 128, 243, 93, 125, 244, 89, 116, 243, 75, 96, 241, 61, 77, 246, 54, 71, 228, 65, 83, 203, 80, 90, 192, 61, 67, 200, 48, 67, 165, 77, 89, 106, 99, 100, 120, 110, 119, 113, 91, 62, 139, 105, 88, 145, 74, 77, 181, 61, 85, 227, 75, 115, 230, 75, 121, 236, 74, 123, 242, 74, 120, 246, 74, 118, 244, 74, 117, 244, 74, 118, 247, 75, 120, 247, 76, 121, 243, 80, 121, 241, 81, 121, 244, 83, 121, 245, 82, 118, 245, 83, 120, 247, 89, 128, 245, 89, 128, 244, 85, 120, 245, 79, 105, 245, 64, 82, 239, 59, 68, 240, 55, 68, 203, 66, 80, 183, 64, 80, 204, 47, 60, 202, 42, 63, 170, 106, 111, 162, 160, 159, 178, 149, 153, 133, 106, 88, 169, 135, 124, 168, 109, 117, 189, 81, 109, 223, 63, 102, 224, 62, 101, 232, 64, 103, 241, 64, 104, 252, 64, 104, 246, 68, 107, 245, 70, 113, 252, 70, 115, 251, 72, 111, 244, 78, 106, 239, 81, 109, 243, 77, 111, 245, 81, 114, 245, 87, 122, 250, 86, 126, 253, 85, 126, 243, 79, 119, 235, 68, 89, 243, 57, 77, 222, 59, 72, 205, 61, 68, 192, 56, 66, 204, 49, 65, 229, 42, 58, 198, 50, 67, 154, 108, 116, 164, 161, 161, 194, 168, 161, 199, 162, 157, 189, 170, 162, 150, 133, 135, 170, 118, 134, 183, 65, 90, 178, 41, 70, 196, 49, 81, 201, 53, 83, 223, 50, 81, 227, 55, 80, 232, 59, 86, 236, 65, 94, 229, 79, 103, 230, 77, 107, 234, 72, 110, 241, 80, 119, 243, 87, 120, 245, 87, 121, 245, 91, 123, 231, 83, 116, 154, 46, 70, 158, 38, 49, 214, 60, 71, 199, 60, 67, 202, 52, 62, 216, 50, 66, 224, 52, 70, 210, 55, 68, 152, 57, 62, 122, 105, 106, 164, 155, 153, 203, 174, 162, 189, 174, 170, 164, 156, 154, 108, 93, 101, 142, 98, 116, 150, 73, 92, 96, 24, 40, 108, 39, 52, 140, 63, 77, 153, 45, 69, 165, 43, 63, 183, 47, 64, 203, 81, 101, 216, 140, 159, 211, 132, 156, 208, 118, 145, 230, 148, 168, 233, 107, 132, 250, 76, 113, 244, 81, 113, 175, 73, 91, 56, 28, 33, 72, 17, 18, 182, 53, 58, 202, 55, 63, 215, 51, 65, 223, 51, 67, 204, 49, 65, 126, 32, 40, 68, 32, 25, 82, 91, 79, 163, 145, 136, 196, 157, 141, 177, 165, 170, 134, 129, 135, 63, 50, 63, 91, 50, 70, 123, 47, 72, 84, 18, 38, 73, 28, 39, 101, 75, 79, 64, 37, 50, 64, 24, 35, 112, 41, 51, 189, 127, 144, 202, 188, 205, 196, 183, 191, 198, 181, 186, 230, 223, 218, 228, 136, 148, 241, 66, 102, 213, 67, 95, 128, 79, 84, 64, 65, 67, 66, 30, 33, 188, 45, 58, 229, 52, 70, 219, 52, 67, 200, 64, 68, 159, 73, 69, 75, 37, 36, 58, 40, 30, 83, 76, 62, 152, 124, 107, 163, 125, 101, 194, 167, 183, 124, 119, 132, 37, 40, 50, 50, 41, 52, 82, 50, 65, 98, 55, 72, 99, 54, 70, 105, 64, 77, 82, 37, 49, 75, 23, 30, 119, 36, 46, 192, 104, 123, 192, 135, 155, 182, 127, 144, 197, 129, 150, 207, 148, 162, 190, 98, 113, 185, 61, 87, 131, 69, 78, 97, 85, 85, 113, 96, 108, 112, 52, 63, 212, 55, 75, 237, 57, 78, 203, 66, 73, 194, 126, 109, 189, 166, 142, 186, 169, 154, 180, 149, 131, 156, 118, 104, 154, 121, 96, 149, 119, 86, 135, 126, 137, 67, 71, 83, 25, 25, 35, 30, 23, 31, 79, 73, 80, 123, 122, 126, 119, 115, 118, 124, 109, 114, 121, 86, 92, 109, 83, 84, 91, 57, 63, 97, 55, 66, 100, 66, 75, 104, 61, 74, 116, 63, 85, 131, 79, 103, 122, 77, 94, 100, 68, 81, 82, 74, 77, 109, 104, 108, 175, 161, 171, 159, 94, 103, 203, 68, 82, 195, 100, 97, 192, 148, 129, 204, 175, 150, 218, 189, 166, 206, 181, 155, 172, 139, 107, 162, 120, 96, 145, 116, 84, 136, 111, 72, 50, 56, 70, 30, 39, 53, 24, 26, 38, 15, 11, 20, 50, 45, 50, 117, 111, 115, 137, 132, 133, 162, 159, 158, 157, 142, 148, 148, 144, 152, 63, 64, 75, 59, 57, 69, 64, 60, 68, 72, 63, 71, 80, 75, 85, 95, 86, 101, 83, 75, 89, 63, 67, 75, 77, 71, 79, 132, 124, 133, 185, 182, 187, 161, 123, 122, 182, 119, 112, 196, 161, 142, 198, 179, 152, 209, 185, 157, 199, 168, 140, 156, 127, 92, 143, 117, 76, 141, 111, 77, 144, 118, 82, 140, 114, 76, 31, 39, 60, 31, 37, 56, 26, 30, 48, 20, 20, 33, 22, 16, 21, 47, 38, 41, 62, 53, 54, 81, 74, 74, 103, 96, 101, 114, 110, 117, 42, 39, 47, 35, 32, 40, 41, 37, 44, 51, 42, 53, 63, 58, 68, 69, 66, 74, 66, 64, 72, 65, 64, 68, 76, 71, 76, 134, 128, 136, 180, 171, 173, 163, 142, 134, 190, 163, 147, 203, 181, 158, 210, 180, 154, 186, 152, 121, 158, 131, 94, 139, 114, 74, 136, 111, 71, 143, 117, 81, 152, 127, 92, 145, 117, 84, 31, 34, 52, 26, 29, 47, 27, 30, 49, 25, 26, 41, 21, 18, 25, 16, 14, 18, 20, 18, 20, 26, 23, 24, 29, 28, 31, 37, 37, 41, 28, 27, 32, 27, 27, 31, 35, 34, 38, 41, 36, 43, 61, 55, 63, 62, 59, 66, 58, 58, 65, 66, 65, 67, 74, 71, 70, 130, 126, 128, 165, 154, 151, 158, 141, 127, 205, 183, 162, 219, 195, 170, 188, 147, 122, 160, 117, 87, 149, 121, 82, 139, 112, 73, 139, 112, 74, 144, 116, 82, 149, 121, 88, 145, 118, 87, 83, 78, 91, 43, 43, 57, 26, 28, 45, 17, 19, 34, 12, 13, 21, 9, 9, 15, 11, 12, 16, 13, 14, 17, 15, 16, 19, 23, 24, 27, 29, 30, 33, 36, 37, 40, 47, 48, 50, 49, 46, 49, 58, 55, 59, 65, 63, 68, 64, 62, 69, 61, 59, 62, 71, 68, 68, 115, 110, 114, 135, 124, 122, 175, 157, 145, 215, 194, 170, 178, 149, 122, 166, 115, 91, 149, 102, 72, 139, 112, 73, 153, 124, 87, 157, 128, 93, 149, 118, 86, 147, 117, 86, 148, 120, 90, 166, 156, 165, 134, 127, 138, 93, 89, 102, 59, 57, 70, 32, 32, 40, 13, 13, 19, 3, 3, 8, 1, 1, 5, 4, 4, 6, 5, 5, 7, 7, 7, 9, 11, 11, 13, 18, 17, 19, 29, 25, 25, 44, 39, 39, 50, 45, 46, 55, 49, 51, 43, 36, 37, 67, 58, 63, 92, 82, 90, 120, 104, 106, 186, 162, 153, 186, 159, 134, 160, 127, 97, 166, 116, 89, 146, 101, 68, 136, 111, 71, 157, 130, 94, 156, 127, 94, 155, 126, 95, 145, 116, 86, 141, 116, 86, 178, 166, 173, 175, 164, 172, 169, 158, 166, 152, 143, 151, 124, 118, 126, 99, 93, 99, 74, 68, 72, 51, 45, 48, 33, 29, 30, 19, 16, 17, 12, 9, 10, 8, 5, 6, 7, 4, 5, 14, 7, 6, 45, 37, 34, 89, 80, 73, 70, 60, 52, 43, 31, 24, 66, 52, 50, 94, 79, 80, 136, 115, 111, 179, 149, 134, 174, 134, 107, 155, 121, 87, 156, 118, 84, 145, 108, 72, 143, 119, 79, 151, 127, 91, 150, 125, 91, 151, 125, 94, 144, 118, 88, 142, 119, 89, 178, 165, 172, 176, 162, 167, 176, 160, 164, 174, 159, 162, 173, 160, 167, 171, 158, 163, 160, 148, 150, 147, 135, 136, 130, 120, 123, 113, 105, 107, 99, 91, 94, 89, 80, 83, 85, 76, 78, 91, 81, 80, 124, 112, 106, 173, 160, 147, 160, 145, 127, 152, 135, 116, 147, 130, 113, 139, 120, 106, 159, 135, 115, 166, 133, 104, 175, 127, 97, 154, 121, 85, 141, 118, 77, 141, 115, 75, 137, 116, 76, 139, 118, 83, 142, 120, 88, 140, 119, 87, 140, 119, 89, 134, 114, 85], \"height\": 32, \"channels\": 3, \"width\": 32, \"type\": \"image\", \"id\": 140365507236560}], \"selected_variable\": {\"name\": [\"<SArray>\"], \"dtype\": \"Image\", \"view_component\": \"Images\", \"view_file\": \"sarray\", \"descriptives\": {\"rows\": 5}, \"type\": \"SArray\", \"view_components\": [\"Images\"]}}, e);\n",
       "                });\n",
       "            })();\n",
       "        "
      ]
     },
     "metadata": {},
     "output_type": "display_data"
    }
   ],
   "source": [
    "get_images_from_ids(knn_model.query(car))['image'].show()"
   ]
  },
  {
   "cell_type": "markdown",
   "metadata": {},
   "source": [
    "# Just for fun, let's create a lambda to find and show nearest neighbor images"
   ]
  },
  {
   "cell_type": "code",
   "execution_count": 110,
   "metadata": {
    "collapsed": true
   },
   "outputs": [],
   "source": [
    "show_neighbors = lambda i: get_images_from_ids(knn_model.query(image_train[i:i+1]))['image'].show()"
   ]
  },
  {
   "cell_type": "code",
   "execution_count": 111,
   "metadata": {
    "collapsed": false
   },
   "outputs": [
    {
     "name": "stdout",
     "output_type": "stream",
     "text": [
      "PROGRESS: Starting pairwise querying.\n",
      "PROGRESS: +--------------+---------+-------------+--------------+\n",
      "PROGRESS: | Query points | # Pairs | % Complete. | Elapsed Time |\n",
      "PROGRESS: +--------------+---------+-------------+--------------+\n",
      "PROGRESS: | 0            | 1       | 0.0498753   | 3.626ms      |\n",
      "PROGRESS: | Done         |         | 100         | 132.369ms    |\n",
      "PROGRESS: +--------------+---------+-------------+--------------+\n"
     ]
    },
    {
     "data": {
      "application/javascript": [
       "$(\"head\").append($(\"<link/>\").attr({\n",
       "  rel:  \"stylesheet\",\n",
       "  type: \"text/css\",\n",
       "  href: \"//cdnjs.cloudflare.com/ajax/libs/font-awesome/4.1.0/css/font-awesome.min.css\"\n",
       "}));\n",
       "$(\"head\").append($(\"<link/>\").attr({\n",
       "  rel:  \"stylesheet\",\n",
       "  type: \"text/css\",\n",
       "  href: \"//dato.com/files/canvas/1.8.1/css/canvas.css\"\n",
       "}));\n",
       "\n",
       "            (function(){\n",
       "\n",
       "                var e = null;\n",
       "                if (typeof element == 'undefined') {\n",
       "                    var scripts = document.getElementsByTagName('script');\n",
       "                    var thisScriptTag = scripts[scripts.length-1];\n",
       "                    var parentDiv = thisScriptTag.parentNode;\n",
       "                    e = document.createElement('div');\n",
       "                    parentDiv.appendChild(e);\n",
       "                } else {\n",
       "                    e = element[0];\n",
       "                }\n",
       "\n",
       "                if (typeof requirejs !== 'undefined') {\n",
       "                    // disable load timeout; ipython_app.js is large and can take a while to load.\n",
       "                    requirejs.config({waitSeconds: 0});\n",
       "                }\n",
       "\n",
       "                require(['//dato.com/files/canvas/1.8.1/js/ipython_app.js'], function(IPythonApp){\n",
       "                    var app = new IPythonApp();\n",
       "                    app.attachView('sarray','Images', {\"ipython\": true, \"rows\": [{\"format\": \"raw\", \"value\": [35, 59, 53, 36, 56, 56, 42, 62, 64, 40, 59, 63, 43, 60, 65, 79, 103, 89, 77, 104, 74, 67, 88, 65, 70, 93, 73, 61, 82, 69, 60, 80, 70, 56, 74, 74, 52, 69, 73, 46, 67, 63, 56, 77, 64, 55, 75, 63, 48, 68, 57, 41, 61, 57, 109, 132, 137, 115, 140, 140, 75, 101, 93, 78, 102, 94, 82, 103, 100, 104, 126, 133, 98, 125, 121, 89, 116, 103, 73, 99, 86, 75, 98, 101, 80, 100, 111, 101, 131, 143, 148, 186, 196, 145, 179, 185, 36, 59, 52, 31, 51, 48, 30, 49, 48, 41, 58, 60, 47, 60, 64, 73, 93, 80, 81, 107, 78, 61, 80, 62, 55, 74, 61, 60, 78, 67, 61, 78, 70, 54, 69, 70, 53, 67, 71, 47, 61, 61, 54, 69, 63, 48, 64, 58, 45, 62, 56, 32, 49, 50, 69, 90, 89, 80, 103, 93, 44, 65, 58, 54, 71, 68, 70, 86, 82, 88, 110, 105, 80, 108, 84, 58, 83, 62, 50, 73, 63, 55, 77, 72, 67, 87, 93, 83, 110, 109, 79, 108, 91, 77, 105, 94, 25, 47, 41, 24, 43, 39, 30, 48, 45, 35, 50, 49, 53, 63, 63, 78, 91, 83, 89, 105, 85, 79, 87, 74, 74, 82, 69, 72, 78, 72, 62, 65, 66, 60, 65, 69, 65, 71, 72, 54, 59, 60, 51, 61, 58, 41, 51, 51, 34, 47, 49, 31, 46, 47, 38, 55, 54, 55, 73, 62, 52, 68, 65, 61, 73, 74, 65, 76, 77, 67, 87, 75, 68, 95, 68, 52, 74, 60, 43, 63, 57, 42, 63, 55, 48, 69, 62, 62, 88, 70, 57, 81, 61, 48, 72, 57, 83, 96, 94, 81, 96, 96, 54, 62, 61, 106, 93, 97, 144, 126, 133, 156, 133, 140, 169, 144, 148, 175, 147, 153, 175, 149, 154, 172, 144, 154, 166, 138, 149, 161, 138, 149, 159, 140, 149, 148, 132, 141, 138, 124, 131, 121, 104, 113, 96, 85, 95, 73, 71, 79, 58, 64, 67, 57, 70, 63, 50, 63, 62, 62, 73, 72, 62, 72, 71, 58, 71, 68, 57, 79, 62, 49, 71, 58, 44, 60, 54, 38, 55, 52, 36, 57, 52, 58, 82, 63, 53, 74, 61, 48, 71, 57, 189, 196, 199, 173, 189, 195, 101, 101, 99, 131, 106, 102, 173, 140, 137, 187, 147, 141, 198, 152, 149, 201, 150, 155, 207, 148, 163, 221, 153, 172, 226, 165, 184, 230, 175, 192, 234, 181, 202, 226, 166, 186, 217, 135, 158, 209, 122, 146, 196, 115, 137, 181, 107, 130, 165, 106, 127, 149, 106, 120, 119, 89, 103, 91, 85, 89, 68, 76, 75, 52, 64, 62, 50, 68, 57, 43, 62, 53, 38, 56, 49, 35, 50, 49, 33, 51, 48, 52, 73, 56, 50, 70, 54, 40, 60, 49, 143, 152, 153, 122, 138, 146, 70, 71, 72, 81, 81, 75, 121, 123, 115, 120, 117, 106, 104, 96, 88, 103, 74, 74, 150, 67, 76, 139, 70, 80, 138, 78, 91, 143, 88, 105, 168, 103, 121, 177, 89, 112, 153, 83, 99, 147, 88, 100, 134, 74, 89, 128, 68, 87, 124, 66, 88, 125, 66, 87, 124, 66, 89, 124, 77, 99, 108, 78, 95, 62, 68, 66, 47, 64, 57, 36, 52, 50, 38, 52, 52, 71, 79, 83, 72, 86, 95, 64, 84, 83, 69, 89, 86, 69, 88, 89, 91, 69, 81, 62, 61, 70, 43, 40, 38, 74, 83, 90, 97, 117, 127, 89, 99, 100, 69, 76, 79, 94, 60, 64, 123, 54, 64, 88, 87, 81, 79, 77, 81, 98, 105, 114, 154, 121, 133, 163, 93, 108, 166, 164, 164, 132, 147, 161, 75, 80, 101, 77, 76, 92, 55, 52, 73, 59, 55, 78, 56, 53, 76, 72, 67, 84, 73, 60, 82, 72, 72, 73, 83, 92, 68, 101, 109, 93, 109, 110, 90, 112, 124, 137, 103, 137, 172, 96, 133, 169, 93, 134, 175, 90, 135, 177, 124, 100, 86, 78, 67, 62, 50, 49, 47, 94, 110, 92, 90, 109, 101, 76, 87, 74, 59, 59, 54, 104, 55, 52, 122, 63, 64, 91, 105, 88, 72, 78, 79, 98, 118, 110, 142, 140, 131, 163, 110, 116, 133, 141, 148, 98, 120, 145, 65, 82, 115, 70, 78, 103, 69, 77, 98, 88, 99, 118, 81, 91, 107, 103, 124, 123, 100, 128, 131, 91, 105, 112, 146, 151, 94, 152, 159, 110, 125, 139, 114, 76, 109, 105, 86, 126, 114, 99, 135, 126, 75, 105, 123, 40, 59, 90, 158, 165, 97, 102, 92, 65, 74, 68, 61, 112, 118, 95, 115, 121, 100, 106, 110, 80, 70, 60, 55, 118, 49, 55, 118, 69, 60, 111, 123, 87, 65, 65, 63, 101, 109, 81, 147, 146, 103, 160, 98, 99, 115, 114, 110, 107, 116, 121, 54, 72, 109, 44, 54, 86, 58, 66, 85, 109, 120, 110, 89, 91, 102, 56, 79, 117, 82, 111, 126, 100, 122, 134, 121, 130, 99, 135, 148, 95, 82, 103, 102, 72, 114, 103, 72, 114, 114, 89, 135, 129, 63, 92, 104, 37, 41, 48, 141, 140, 86, 160, 86, 75, 162, 107, 96, 130, 105, 99, 114, 99, 94, 96, 79, 76, 84, 65, 62, 131, 48, 52, 76, 37, 44, 64, 55, 55, 54, 49, 54, 74, 70, 60, 112, 104, 86, 155, 85, 91, 129, 117, 113, 115, 128, 128, 58, 71, 105, 51, 58, 85, 67, 72, 83, 123, 137, 115, 91, 95, 103, 48, 63, 102, 76, 99, 113, 107, 132, 136, 102, 116, 113, 110, 126, 104, 57, 80, 95, 74, 107, 103, 74, 107, 103, 76, 117, 111, 47, 66, 83, 45, 47, 51, 142, 104, 66, 207, 48, 63, 202, 78, 86, 187, 86, 93, 187, 108, 111, 167, 117, 116, 136, 97, 94, 156, 51, 59, 104, 48, 59, 80, 59, 65, 64, 53, 60, 49, 36, 46, 57, 41, 53, 140, 60, 78, 108, 82, 96, 76, 82, 99, 63, 65, 91, 60, 61, 85, 71, 72, 88, 119, 126, 117, 90, 92, 104, 71, 75, 103, 100, 115, 124, 125, 146, 142, 99, 112, 137, 89, 109, 139, 81, 109, 153, 86, 113, 143, 82, 108, 127, 70, 96, 119, 57, 69, 95, 61, 64, 70, 138, 87, 55, 204, 44, 50, 196, 53, 54, 221, 51, 66, 233, 68, 89, 223, 87, 103, 177, 93, 100, 200, 102, 115, 206, 101, 118, 175, 86, 101, 143, 70, 82, 110, 58, 72, 83, 54, 66, 144, 61, 78, 129, 68, 88, 64, 58, 79, 64, 54, 72, 65, 54, 71, 77, 61, 78, 110, 89, 97, 98, 77, 94, 83, 64, 86, 112, 96, 107, 131, 123, 126, 96, 95, 122, 77, 84, 126, 70, 91, 144, 72, 101, 152, 79, 113, 165, 90, 125, 171, 104, 133, 171, 97, 121, 155, 139, 80, 55, 178, 57, 46, 170, 66, 54, 214, 44, 51, 225, 37, 51, 224, 49, 65, 188, 59, 70, 208, 86, 98, 236, 97, 118, 243, 112, 136, 233, 115, 136, 213, 97, 117, 185, 80, 99, 193, 75, 98, 190, 74, 100, 154, 59, 81, 153, 49, 70, 155, 48, 69, 167, 59, 81, 174, 65, 89, 169, 64, 86, 171, 65, 89, 179, 83, 109, 175, 88, 114, 156, 84, 111, 128, 90, 124, 65, 61, 106, 35, 44, 87, 36, 54, 104, 59, 82, 126, 74, 100, 145, 69, 104, 160, 156, 80, 54, 117, 47, 34, 99, 61, 46, 200, 67, 59, 219, 44, 48, 203, 46, 50, 183, 42, 45, 220, 34, 49, 230, 47, 66, 239, 73, 95, 242, 95, 120, 246, 114, 139, 248, 124, 151, 233, 117, 144, 229, 126, 152, 237, 101, 131, 236, 68, 98, 234, 59, 88, 240, 67, 98, 241, 74, 104, 237, 80, 111, 239, 94, 128, 237, 108, 143, 232, 108, 144, 231, 123, 160, 215, 138, 173, 176, 109, 142, 138, 82, 114, 94, 61, 98, 53, 43, 80, 30, 39, 79, 23, 43, 89, 140, 97, 61, 73, 43, 36, 82, 75, 73, 171, 72, 62, 215, 45, 46, 193, 49, 47, 177, 45, 45, 224, 39, 49, 222, 39, 51, 226, 41, 59, 233, 46, 67, 237, 61, 86, 240, 89, 119, 231, 99, 127, 238, 135, 158, 249, 158, 183, 248, 147, 173, 247, 127, 155, 245, 103, 134, 243, 96, 130, 245, 109, 146, 245, 118, 156, 243, 122, 162, 243, 126, 167, 242, 128, 171, 240, 131, 172, 237, 130, 170, 222, 129, 164, 210, 119, 155, 191, 101, 139, 144, 78, 116, 75, 51, 85, 135, 137, 78, 71, 66, 49, 82, 78, 74, 144, 74, 66, 208, 43, 44, 188, 46, 44, 173, 41, 41, 219, 38, 43, 214, 44, 51, 216, 52, 64, 219, 42, 55, 229, 33, 53, 205, 38, 59, 189, 51, 68, 230, 66, 92, 246, 102, 131, 249, 144, 171, 252, 167, 193, 252, 167, 195, 252, 152, 183, 250, 130, 165, 247, 123, 160, 247, 119, 157, 250, 113, 150, 247, 110, 147, 242, 103, 141, 237, 98, 136, 234, 96, 134, 230, 99, 140, 226, 103, 143, 234, 107, 145, 223, 92, 128, 144, 156, 85, 106, 108, 68, 117, 115, 108, 141, 94, 86, 197, 47, 42, 183, 53, 46, 172, 48, 43, 218, 49, 49, 210, 45, 47, 211, 42, 47, 211, 38, 48, 217, 34, 49, 220, 34, 53, 215, 39, 60, 226, 39, 63, 235, 37, 64, 240, 56, 84, 244, 96, 124, 248, 135, 164, 250, 169, 194, 249, 197, 213, 249, 143, 171, 234, 98, 134, 223, 94, 129, 236, 67, 102, 226, 57, 90, 213, 48, 80, 204, 46, 78, 187, 58, 88, 170, 53, 88, 171, 65, 101, 198, 72, 102, 132, 145, 119, 117, 118, 82, 104, 104, 98, 110, 82, 73, 182, 66, 55, 178, 58, 48, 169, 49, 42, 215, 50, 48, 207, 46, 45, 209, 46, 45, 208, 41, 45, 214, 30, 42, 217, 29, 44, 218, 33, 51, 219, 35, 57, 228, 32, 54, 228, 31, 55, 231, 36, 61, 236, 52, 79, 239, 89, 115, 243, 131, 157, 239, 117, 147, 185, 129, 151, 134, 117, 137, 171, 50, 77, 174, 32, 58, 154, 34, 56, 136, 32, 55, 122, 67, 86, 108, 46, 65, 105, 28, 52, 109, 60, 81, 107, 133, 158, 119, 122, 116, 130, 126, 121, 68, 62, 55, 108, 64, 45, 150, 76, 57, 166, 48, 43, 210, 48, 46, 203, 46, 42, 206, 43, 43, 207, 37, 41, 209, 29, 39, 207, 27, 40, 209, 32, 45, 212, 36, 53, 216, 33, 51, 220, 33, 51, 222, 31, 53, 222, 32, 53, 224, 35, 57, 224, 44, 69, 195, 76, 98, 143, 146, 151, 115, 125, 117, 104, 60, 69, 116, 41, 63, 124, 70, 92, 115, 66, 85, 98, 64, 80, 97, 68, 80, 95, 60, 71, 84, 69, 78, 86, 115, 147, 93, 102, 127, 121, 115, 117, 42, 43, 42, 28, 19, 14, 68, 42, 30, 135, 47, 43, 197, 51, 51, 200, 46, 43, 202, 41, 40, 202, 35, 38, 202, 31, 38, 203, 27, 38, 210, 31, 44, 168, 33, 46, 123, 25, 38, 147, 32, 48, 201, 39, 56, 213, 29, 47, 209, 28, 45, 203, 26, 43, 144, 47, 55, 98, 112, 117, 123, 146, 154, 109, 102, 114, 101, 82, 100, 108, 103, 120, 100, 99, 114, 84, 88, 95, 79, 90, 94, 71, 83, 88, 66, 76, 76, 91, 120, 145, 71, 92, 123, 90, 88, 83, 62, 66, 40, 34, 36, 25, 28, 23, 16, 58, 26, 24, 121, 40, 39, 174, 47, 47, 198, 45, 45, 199, 39, 39, 199, 38, 42, 206, 43, 54, 193, 38, 48, 84, 23, 28, 42, 24, 29, 61, 41, 48, 125, 40, 52, 200, 30, 46, 201, 26, 40, 179, 24, 36, 120, 38, 38, 82, 90, 98, 108, 134, 160, 114, 130, 146, 72, 81, 84, 68, 75, 75, 63, 68, 68, 54, 56, 52, 49, 54, 49, 49, 55, 53, 50, 56, 51, 91, 115, 119, 84, 99, 110, 106, 101, 84, 120, 124, 67, 104, 111, 64, 68, 69, 42, 29, 29, 18, 35, 19, 16, 83, 29, 29, 153, 48, 50, 193, 50, 51, 194, 41, 42, 182, 45, 51, 137, 35, 40, 55, 29, 29, 79, 65, 67, 93, 83, 87, 77, 56, 65, 145, 34, 46, 182, 27, 39, 156, 29, 39, 115, 34, 34, 83, 41, 39, 103, 96, 105, 85, 96, 97, 48, 47, 41, 53, 52, 49, 56, 58, 54, 48, 53, 49, 47, 55, 55, 49, 57, 56, 50, 55, 51, 77, 92, 80, 79, 91, 84, 93, 97, 75, 125, 135, 67, 124, 135, 68, 115, 121, 69, 80, 84, 51, 35, 37, 24, 25, 19, 16, 50, 22, 23, 111, 35, 38, 171, 43, 46, 188, 44, 47, 104, 30, 31, 54, 43, 42, 66, 56, 56, 75, 67, 66, 81, 78, 82, 90, 45, 55, 165, 31, 42, 150, 30, 38, 104, 30, 32, 90, 38, 42, 96, 84, 86, 61, 65, 62, 47, 47, 43, 52, 56, 52, 52, 59, 56, 48, 52, 51, 48, 53, 51, 47, 53, 54, 55, 49, 53, 98, 126, 136, 103, 125, 127, 90, 102, 78, 127, 137, 75, 125, 137, 73, 125, 135, 78, 121, 129, 75, 95, 101, 55, 52, 54, 32, 24, 23, 16, 26, 14, 13, 60, 22, 22, 107, 34, 33, 69, 33, 31, 52, 47, 45, 60, 54, 46, 92, 84, 77, 88, 85, 88, 65, 49, 59, 135, 29, 39, 132, 26, 28, 100, 31, 33, 100, 52, 48, 78, 67, 61, 51, 57, 52, 50, 53, 50, 52, 58, 57, 53, 60, 58, 54, 56, 58, 57, 50, 56, 60, 45, 58, 62, 60, 86, 110, 162, 203, 136, 170, 186, 95, 103, 79, 129, 137, 79, 131, 142, 82, 126, 135, 66, 124, 134, 65, 119, 130, 70, 111, 120, 66, 75, 78, 47, 32, 32, 22, 13, 13, 11, 16, 14, 11, 34, 28, 25, 58, 51, 47, 93, 90, 78, 182, 182, 181, 115, 111, 115, 45, 44, 47, 93, 38, 44, 123, 42, 46, 105, 25, 31, 86, 18, 19, 66, 31, 37, 64, 48, 53, 63, 44, 52, 64, 47, 61, 64, 51, 71, 64, 66, 98, 65, 88, 129, 61, 96, 140, 62, 95, 115, 79, 112, 134, 75, 96, 102, 58, 62, 46, 119, 126, 66, 125, 135, 69, 128, 136, 71, 135, 141, 78, 130, 139, 74, 127, 138, 70, 120, 129, 68, 92, 98, 56, 48, 50, 32, 21, 23, 17, 19, 18, 16, 57, 55, 53, 95, 93, 86, 127, 129, 135, 95, 93, 98, 46, 42, 49, 107, 98, 102, 192, 167, 173, 125, 92, 115, 85, 69, 99, 66, 69, 98, 58, 75, 115, 74, 95, 132, 90, 113, 145, 72, 105, 143, 61, 89, 115, 56, 75, 81, 44, 54, 52, 62, 74, 51, 26, 40, 34, 19, 33, 27, 39, 45, 37, 111, 117, 64, 127, 137, 71, 120, 128, 66, 127, 134, 70, 130, 139, 72, 127, 137, 68, 123, 133, 58, 123, 131, 65, 112, 120, 68, 68, 76, 48, 37, 41, 29, 61, 60, 59, 106, 108, 106, 91, 90, 73, 74, 71, 65, 49, 49, 53, 67, 65, 69, 115, 121, 125, 90, 116, 131, 71, 98, 127, 66, 85, 109, 56, 71, 91, 57, 67, 77, 63, 71, 71, 48, 57, 54, 37, 45, 39, 37, 42, 38, 29, 36, 27, 48, 61, 40, 13, 34, 31, 15, 32, 26, 31, 40, 34, 96, 103, 61, 121, 130, 71, 113, 125, 62, 118, 128, 63, 126, 135, 69, 131, 140, 67, 127, 135, 61, 126, 134, 66, 134, 140, 81, 122, 131, 75, 95, 102, 62, 79, 79, 63, 141, 140, 142, 127, 126, 113, 72, 69, 63, 41, 43, 46, 19, 22, 23, 21, 16, 21, 22, 21, 22, 30, 22, 23, 36, 20, 19, 25, 13, 14, 17, 15, 16, 30, 36, 31, 31, 35, 33, 22, 28, 27, 21, 29, 27, 23, 35, 26, 36, 53, 34, 34, 52, 51, 17, 29, 23, 24, 35, 27, 68, 77, 43, 106, 115, 63, 115, 127, 68, 118, 128, 67, 121, 131, 62, 126, 134, 61, 125, 134, 63, 121, 133, 62, 125, 135, 70, 126, 134, 71, 125, 133, 75, 111, 115, 75, 128, 123, 117, 133, 130, 129, 73, 71, 70, 31, 32, 32, 17, 18, 20, 17, 12, 18, 15, 11, 16, 13, 10, 14, 12, 10, 14, 10, 10, 14, 12, 16, 16, 19, 25, 24, 18, 24, 25, 13, 21, 18, 12, 22, 16, 15, 28, 17, 23, 40, 22, 29, 39, 37, 12, 21, 20, 33, 44, 27, 58, 68, 36, 75, 83, 47, 107, 117, 66, 113, 124, 65, 114, 124, 61, 123, 134, 66, 120, 132, 65, 113, 126, 58, 120, 133, 67, 128, 138, 74, 125, 137, 76, 124, 135, 77, 109, 113, 80, 90, 87, 80, 51, 50, 48, 17, 21, 21, 12, 15, 17, 13, 15, 18, 15, 17, 19, 15, 18, 18, 14, 19, 18, 12, 19, 16, 12, 20, 15, 13, 21, 16, 13, 22, 17, 13, 26, 18, 16, 30, 20, 17, 34, 22, 22, 40, 24, 9, 20, 31, 11, 20, 29, 42, 49, 31, 63, 73, 42, 60, 69, 40, 70, 79, 43, 97, 107, 55, 119, 128, 67, 120, 132, 64, 117, 132, 64, 118, 129, 69, 122, 135, 76, 127, 140, 76, 124, 140, 76, 128, 140, 76, 126, 137, 80, 103, 114, 67, 68, 76, 48, 33, 42, 29, 22, 31, 24, 17, 26, 21, 17, 27, 21, 17, 27, 19, 19, 31, 21, 17, 31, 22, 18, 31, 22, 20, 33, 23, 21, 35, 24, 21, 37, 25, 24, 40, 27, 27, 43, 28, 28, 46, 28, 4, 19, 34, 9, 21, 31, 38, 47, 32, 61, 72, 41, 59, 72, 39, 59, 69, 39, 70, 80, 43, 106, 117, 64, 123, 134, 69, 115, 129, 65, 120, 134, 75, 119, 133, 76, 115, 130, 67, 116, 132, 66, 121, 133, 70, 128, 140, 83, 125, 138, 80, 111, 127, 69, 101, 116, 70, 79, 93, 53, 58, 73, 41, 47, 65, 39, 42, 57, 36, 32, 46, 31, 27, 43, 30, 25, 41, 29, 26, 41, 29, 29, 44, 30, 30, 47, 31, 33, 50, 32, 35, 52, 33, 35, 51, 32], \"height\": 32, \"channels\": 3, \"width\": 32, \"type\": \"image\", \"id\": 140365569291472}, {\"format\": \"raw\", \"value\": [186, 195, 199, 182, 192, 198, 184, 196, 203, 178, 190, 189, 191, 199, 201, 200, 202, 207, 198, 203, 210, 189, 199, 206, 188, 197, 206, 190, 199, 209, 195, 199, 211, 201, 203, 212, 210, 211, 219, 208, 210, 220, 209, 213, 218, 203, 209, 215, 199, 208, 214, 200, 211, 218, 192, 206, 216, 193, 204, 215, 208, 212, 219, 209, 210, 214, 205, 207, 216, 184, 198, 211, 179, 193, 208, 180, 190, 203, 174, 191, 203, 176, 187, 205, 168, 185, 203, 165, 187, 202, 168, 186, 201, 172, 187, 201, 98, 111, 101, 100, 113, 104, 119, 133, 126, 88, 103, 95, 158, 170, 170, 198, 202, 209, 196, 199, 206, 190, 198, 204, 191, 199, 207, 191, 198, 209, 193, 199, 209, 189, 194, 202, 192, 197, 203, 198, 203, 208, 196, 201, 206, 187, 199, 208, 188, 198, 206, 193, 202, 205, 193, 204, 207, 203, 205, 212, 202, 204, 212, 192, 200, 207, 190, 197, 208, 186, 197, 208, 166, 166, 176, 119, 111, 113, 162, 169, 174, 184, 192, 208, 171, 184, 197, 160, 177, 184, 155, 172, 178, 158, 174, 181, 38, 52, 29, 56, 69, 45, 70, 79, 60, 51, 59, 50, 117, 131, 134, 183, 196, 204, 186, 194, 201, 188, 197, 202, 191, 199, 206, 185, 194, 202, 184, 196, 202, 175, 188, 194, 169, 182, 185, 168, 182, 180, 148, 160, 161, 174, 192, 204, 171, 180, 191, 183, 180, 180, 161, 163, 160, 165, 168, 168, 190, 195, 202, 186, 196, 206, 187, 195, 206, 189, 200, 205, 133, 125, 124, 73, 49, 43, 138, 138, 141, 181, 190, 204, 161, 173, 178, 115, 126, 116, 83, 95, 85, 88, 103, 94, 60, 70, 54, 69, 77, 60, 76, 75, 60, 89, 75, 63, 116, 118, 117, 161, 173, 176, 167, 178, 180, 137, 148, 151, 162, 173, 177, 177, 187, 194, 173, 182, 187, 175, 183, 191, 144, 153, 158, 108, 116, 112, 112, 119, 111, 194, 204, 209, 203, 196, 200, 153, 128, 123, 119, 111, 103, 105, 114, 106, 167, 178, 182, 189, 196, 207, 185, 193, 201, 147, 159, 157, 108, 98, 90, 90, 60, 53, 130, 129, 134, 173, 187, 199, 126, 140, 135, 64, 70, 45, 49, 58, 31, 43, 57, 31, 66, 76, 82, 65, 77, 82, 73, 79, 78, 102, 86, 80, 132, 127, 128, 143, 150, 157, 125, 134, 138, 89, 94, 93, 88, 88, 90, 114, 115, 123, 150, 146, 143, 114, 114, 114, 115, 120, 126, 117, 117, 114, 158, 152, 143, 179, 167, 166, 197, 182, 181, 125, 98, 95, 144, 134, 123, 178, 176, 163, 186, 186, 185, 210, 207, 209, 182, 186, 183, 137, 151, 151, 120, 122, 126, 61, 45, 47, 87, 94, 100, 141, 157, 160, 104, 117, 99, 62, 67, 39, 52, 57, 24, 53, 66, 33, 61, 74, 87, 55, 71, 83, 70, 83, 90, 91, 90, 95, 99, 99, 106, 73, 77, 86, 64, 68, 70, 96, 95, 88, 112, 108, 102, 140, 138, 139, 182, 175, 169, 127, 127, 124, 120, 126, 131, 159, 157, 158, 183, 175, 176, 163, 148, 152, 176, 166, 167, 124, 110, 117, 129, 121, 126, 191, 177, 173, 186, 170, 165, 179, 165, 165, 169, 164, 168, 152, 160, 172, 125, 139, 152, 66, 71, 77, 70, 84, 95, 104, 112, 122, 124, 126, 122, 123, 120, 115, 93, 94, 76, 57, 73, 46, 95, 108, 115, 92, 106, 111, 95, 109, 114, 105, 116, 123, 102, 109, 115, 74, 75, 79, 100, 98, 98, 163, 161, 156, 206, 205, 198, 234, 234, 232, 240, 235, 232, 215, 217, 216, 187, 195, 198, 182, 184, 188, 180, 178, 185, 175, 171, 179, 173, 171, 178, 154, 156, 165, 128, 128, 137, 115, 110, 109, 125, 121, 119, 99, 102, 102, 101, 107, 115, 129, 138, 155, 123, 140, 153, 85, 98, 106, 75, 92, 106, 104, 116, 134, 137, 147, 157, 153, 155, 160, 122, 123, 114, 56, 65, 43, 72, 82, 78, 72, 81, 74, 73, 83, 77, 71, 84, 82, 42, 50, 47, 68, 70, 66, 131, 132, 128, 109, 114, 107, 100, 105, 96, 144, 145, 141, 190, 187, 186, 122, 126, 123, 89, 98, 95, 72, 78, 79, 70, 77, 77, 74, 79, 83, 119, 119, 130, 116, 130, 137, 108, 116, 115, 72, 69, 65, 87, 88, 89, 63, 71, 70, 79, 90, 93, 113, 127, 143, 102, 115, 128, 82, 92, 101, 67, 81, 92, 84, 95, 109, 102, 120, 128, 135, 140, 139, 110, 108, 100, 92, 91, 73, 46, 53, 33, 51, 57, 33, 51, 57, 36, 45, 55, 35, 49, 57, 41, 86, 90, 79, 121, 129, 115, 55, 71, 49, 57, 73, 48, 82, 86, 68, 140, 138, 133, 108, 115, 107, 98, 111, 100, 72, 83, 77, 78, 95, 80, 80, 91, 84, 127, 124, 133, 109, 120, 131, 130, 128, 136, 125, 95, 97, 127, 84, 86, 108, 64, 64, 114, 95, 98, 121, 131, 143, 114, 124, 134, 69, 79, 85, 57, 61, 66, 98, 79, 89, 114, 94, 103, 141, 117, 121, 135, 118, 118, 93, 93, 86, 63, 81, 29, 72, 79, 29, 80, 84, 39, 74, 95, 48, 80, 95, 61, 88, 92, 75, 98, 109, 92, 54, 69, 43, 67, 80, 54, 93, 90, 75, 153, 148, 145, 127, 140, 130, 94, 110, 97, 77, 90, 82, 81, 99, 86, 82, 92, 87, 87, 89, 98, 84, 90, 104, 116, 111, 124, 152, 118, 128, 146, 84, 90, 154, 69, 70, 153, 90, 91, 127, 114, 120, 123, 130, 139, 62, 70, 79, 54, 50, 52, 133, 86, 95, 159, 97, 108, 172, 110, 118, 173, 116, 125, 153, 113, 118, 71, 94, 41, 104, 76, 39, 128, 56, 35, 120, 64, 36, 121, 75, 56, 101, 66, 57, 90, 75, 62, 80, 70, 49, 82, 74, 54, 100, 84, 73, 151, 144, 133, 138, 139, 134, 84, 79, 88, 61, 66, 75, 67, 73, 78, 74, 71, 82, 73, 66, 84, 76, 69, 86, 87, 76, 82, 121, 94, 100, 114, 54, 59, 119, 15, 17, 150, 26, 27, 126, 73, 67, 121, 129, 130, 55, 67, 70, 44, 34, 34, 123, 65, 73, 153, 88, 97, 180, 111, 117, 178, 100, 105, 178, 95, 100, 73, 91, 44, 136, 70, 50, 187, 40, 46, 183, 46, 46, 186, 58, 62, 178, 63, 71, 162, 61, 69, 154, 74, 74, 110, 64, 55, 103, 77, 69, 165, 146, 129, 166, 159, 150, 107, 89, 99, 97, 62, 70, 111, 52, 58, 124, 45, 56, 144, 50, 68, 154, 53, 75, 158, 66, 86, 156, 88, 99, 145, 72, 77, 130, 35, 36, 155, 34, 30, 144, 65, 55, 68, 58, 58, 20, 23, 28, 42, 31, 30, 122, 57, 60, 153, 64, 66, 174, 85, 83, 180, 89, 90, 174, 83, 85, 83, 99, 48, 117, 51, 26, 165, 8, 10, 182, 13, 18, 188, 27, 33, 190, 49, 52, 200, 61, 70, 207, 73, 86, 183, 70, 80, 152, 62, 74, 179, 92, 96, 200, 99, 110, 178, 47, 69, 182, 35, 51, 191, 34, 57, 204, 51, 76, 208, 71, 91, 198, 75, 91, 203, 95, 111, 200, 108, 122, 195, 103, 114, 187, 86, 99, 182, 73, 81, 160, 43, 51, 105, 25, 39, 44, 11, 18, 37, 24, 18, 82, 24, 19, 114, 16, 13, 135, 34, 32, 181, 86, 85, 185, 91, 97, 79, 101, 51, 124, 73, 47, 145, 12, 7, 160, 1, 0, 169, 0, 1, 169, 5, 4, 185, 10, 14, 199, 26, 32, 206, 47, 53, 203, 52, 66, 208, 57, 76, 212, 60, 77, 208, 44, 64, 209, 44, 67, 211, 54, 76, 215, 60, 85, 213, 68, 93, 210, 79, 98, 207, 82, 99, 205, 88, 109, 202, 99, 116, 197, 103, 117, 188, 74, 92, 180, 46, 60, 185, 39, 51, 172, 27, 40, 148, 30, 43, 120, 24, 36, 64, 15, 17, 40, 13, 12, 77, 30, 27, 148, 62, 58, 72, 96, 46, 116, 96, 60, 122, 34, 20, 142, 11, 8, 162, 3, 2, 168, 1, 1, 181, 0, 0, 185, 0, 0, 190, 1, 2, 195, 17, 20, 207, 40, 51, 218, 66, 74, 226, 76, 89, 218, 68, 89, 203, 61, 76, 205, 57, 74, 210, 58, 77, 213, 61, 80, 213, 61, 81, 213, 64, 89, 212, 78, 102, 208, 92, 111, 208, 82, 96, 169, 39, 45, 148, 25, 30, 160, 26, 36, 206, 49, 72, 212, 35, 69, 171, 34, 56, 122, 31, 44, 75, 17, 24, 99, 15, 14, 66, 88, 36, 70, 89, 38, 81, 70, 34, 111, 52, 39, 145, 15, 15, 156, 1, 0, 165, 2, 0, 172, 2, 0, 180, 2, 0, 186, 0, 1, 195, 2, 9, 203, 15, 25, 213, 40, 57, 221, 59, 85, 223, 58, 87, 211, 64, 83, 209, 62, 77, 213, 46, 67, 210, 31, 60, 209, 27, 57, 213, 33, 62, 214, 46, 72, 208, 56, 77, 156, 28, 42, 139, 37, 50, 161, 66, 76, 189, 77, 92, 201, 36, 62, 210, 14, 43, 212, 40, 63, 183, 52, 74, 117, 44, 50, 71, 92, 41, 54, 87, 31, 51, 79, 32, 72, 84, 60, 103, 38, 30, 147, 3, 4, 155, 1, 0, 166, 1, 1, 169, 3, 0, 176, 1, 2, 185, 1, 2, 189, 0, 1, 193, 9, 15, 211, 32, 46, 218, 42, 65, 220, 47, 69, 221, 52, 74, 217, 53, 76, 209, 43, 67, 205, 22, 48, 202, 9, 34, 206, 6, 31, 202, 11, 38, 186, 19, 48, 190, 34, 62, 197, 62, 86, 187, 87, 99, 185, 59, 74, 193, 14, 39, 214, 45, 59, 190, 65, 74, 112, 87, 85, 67, 85, 35, 53, 77, 24, 50, 70, 23, 94, 107, 81, 79, 64, 50, 101, 9, 9, 141, 5, 7, 160, 0, 2, 162, 1, 0, 160, 3, 1, 172, 1, 2, 187, 0, 1, 184, 3, 2, 190, 10, 13, 203, 22, 32, 214, 29, 41, 219, 37, 58, 218, 43, 69, 219, 43, 65, 218, 38, 60, 207, 30, 50, 194, 11, 31, 199, 2, 22, 202, 2, 22, 196, 4, 27, 187, 10, 38, 180, 43, 63, 182, 65, 77, 172, 22, 39, 165, 0, 10, 113, 28, 24, 57, 62, 54, 63, 83, 32, 54, 80, 27, 49, 66, 16, 81, 92, 52, 60, 64, 46, 25, 14, 4, 78, 20, 9, 130, 10, 4, 154, 1, 1, 151, 2, 0, 164, 1, 1, 167, 3, 5, 115, 6, 7, 88, 7, 10, 133, 13, 19, 183, 12, 16, 204, 14, 18, 208, 30, 37, 217, 38, 52, 219, 43, 62, 211, 49, 72, 170, 53, 70, 151, 16, 26, 196, 1, 10, 189, 1, 16, 177, 2, 19, 173, 7, 26, 163, 32, 47, 154, 35, 44, 116, 10, 9, 71, 15, 11, 21, 22, 12, 55, 75, 26, 51, 74, 22, 49, 70, 17, 52, 74, 22, 40, 65, 21, 28, 51, 16, 28, 46, 10, 61, 24, 3, 122, 8, 7, 149, 2, 2, 159, 2, 0, 114, 6, 7, 24, 0, 1, 11, 9, 6, 70, 51, 39, 135, 33, 25, 195, 0, 0, 189, 1, 0, 195, 5, 11, 206, 18, 25, 181, 63, 70, 96, 87, 81, 95, 32, 26, 181, 6, 15, 184, 3, 14, 174, 1, 9, 170, 4, 18, 156, 21, 39, 134, 52, 63, 93, 42, 43, 78, 34, 20, 42, 52, 19, 57, 75, 29, 56, 73, 26, 59, 78, 29, 57, 84, 31, 49, 79, 25, 43, 70, 23, 39, 61, 22, 23, 43, 11, 36, 25, 5, 100, 12, 6, 145, 8, 8, 67, 4, 5, 0, 2, 1, 46, 42, 33, 73, 73, 58, 104, 73, 61, 163, 25, 26, 175, 1, 0, 172, 1, 0, 166, 0, 0, 116, 34, 33, 104, 109, 104, 115, 42, 44, 160, 11, 23, 171, 19, 35, 156, 20, 35, 130, 35, 44, 105, 52, 60, 83, 67, 72, 78, 47, 52, 83, 35, 28, 52, 66, 32, 56, 73, 30, 51, 68, 26, 60, 78, 34, 53, 77, 30, 39, 66, 18, 50, 77, 30, 39, 66, 22, 25, 54, 14, 22, 46, 14, 36, 33, 8, 79, 26, 15, 32, 8, 7, 0, 5, 2, 59, 55, 43, 70, 74, 64, 115, 121, 117, 136, 72, 67, 158, 1, 1, 153, 2, 1, 130, 3, 2, 91, 32, 33, 95, 80, 83, 102, 30, 38, 131, 45, 52, 117, 55, 66, 76, 55, 59, 49, 53, 50, 42, 50, 51, 50, 56, 58, 76, 51, 53, 130, 90, 97, 70, 76, 63, 49, 65, 27, 45, 60, 24, 50, 66, 29, 46, 62, 24, 39, 57, 18, 47, 69, 25, 48, 71, 21, 41, 60, 11, 46, 68, 24, 37, 63, 20, 23, 45, 11, 11, 20, 7, 6, 4, 1, 68, 63, 52, 85, 89, 82, 128, 140, 139, 113, 95, 87, 133, 10, 12, 146, 0, 1, 125, 3, 4, 91, 17, 20, 60, 10, 13, 102, 58, 62, 90, 82, 82, 60, 63, 65, 50, 61, 59, 48, 55, 53, 60, 63, 62, 71, 81, 78, 78, 83, 76, 85, 90, 85, 43, 55, 44, 48, 64, 28, 41, 56, 23, 44, 57, 26, 53, 62, 30, 56, 63, 32, 49, 64, 23, 49, 73, 23, 47, 70, 20, 42, 63, 17, 34, 61, 17, 29, 61, 17, 21, 45, 13, 11, 22, 6, 74, 78, 64, 91, 96, 87, 68, 75, 66, 85, 85, 72, 100, 24, 24, 140, 0, 0, 137, 1, 3, 123, 22, 23, 108, 34, 26, 100, 71, 70, 72, 66, 76, 79, 61, 65, 72, 50, 56, 69, 72, 73, 84, 93, 91, 79, 89, 87, 48, 54, 50, 9, 21, 8, 21, 37, 17, 51, 62, 31, 57, 64, 36, 56, 61, 35, 62, 61, 36, 71, 69, 41, 68, 76, 37, 60, 79, 33, 48, 72, 24, 37, 61, 14, 41, 64, 19, 40, 62, 18, 27, 52, 11, 29, 51, 15, 76, 89, 60, 132, 135, 123, 39, 50, 36, 61, 69, 49, 70, 33, 26, 135, 17, 17, 154, 8, 13, 130, 0, 1, 112, 20, 16, 98, 48, 49, 90, 47, 58, 93, 40, 52, 77, 46, 64, 72, 75, 85, 75, 82, 84, 40, 41, 41, 4, 10, 5, 3, 16, 0, 10, 34, 7, 52, 63, 33, 59, 67, 38, 58, 64, 37, 63, 65, 39, 70, 72, 41, 66, 76, 37, 62, 78, 33, 62, 80, 33, 55, 75, 28, 55, 77, 30, 44, 65, 21, 36, 57, 15, 40, 60, 18, 49, 67, 28, 147, 153, 133, 112, 119, 107, 84, 87, 72, 40, 31, 26, 90, 56, 55, 163, 100, 104, 132, 67, 68, 103, 72, 81, 110, 100, 121, 95, 87, 108, 78, 80, 100, 62, 68, 83, 41, 46, 53, 16, 22, 20, 3, 10, 1, 9, 21, 3, 16, 33, 8, 20, 42, 9, 49, 65, 32, 51, 66, 34, 50, 64, 32, 55, 67, 36, 60, 74, 39, 57, 75, 34, 58, 77, 33, 65, 84, 39, 62, 84, 38, 57, 81, 33, 50, 70, 25, 48, 68, 25, 44, 68, 23, 34, 60, 15, 92, 108, 75, 156, 155, 140, 101, 95, 86, 15, 13, 16, 11, 11, 17, 52, 52, 57, 66, 67, 69, 51, 58, 62, 44, 55, 62, 24, 35, 40, 9, 21, 25, 3, 8, 11, 0, 5, 2, 3, 15, 1, 13, 31, 7, 24, 45, 10, 34, 58, 18, 31, 59, 13, 57, 74, 39, 52, 72, 36, 42, 61, 25, 44, 63, 27, 46, 68, 30, 47, 70, 29, 47, 67, 26, 53, 73, 32, 56, 78, 33, 50, 75, 26, 42, 65, 18, 44, 66, 20, 42, 68, 21, 40, 66, 19, 46, 65, 24, 73, 76, 53, 42, 42, 26, 3, 6, 2, 0, 3, 0, 0, 4, 0, 3, 6, 1, 0, 2, 0, 0, 2, 0, 0, 3, 0, 2, 3, 0, 3, 9, 0, 8, 20, 4, 17, 36, 8, 26, 50, 12, 29, 54, 11, 35, 61, 15, 38, 66, 17, 55, 71, 35, 50, 68, 32, 43, 62, 25, 44, 65, 28, 43, 68, 28, 39, 61, 21, 41, 60, 22, 40, 61, 22, 51, 74, 29, 47, 74, 24, 42, 69, 20, 43, 69, 22, 42, 67, 20, 48, 70, 24, 48, 63, 23, 43, 55, 23, 33, 49, 15, 22, 37, 12, 20, 31, 9, 18, 32, 9, 13, 34, 9, 9, 26, 5, 7, 21, 4, 9, 24, 5, 10, 20, 4, 10, 22, 3, 22, 40, 12, 35, 57, 18, 38, 64, 18, 37, 62, 19, 38, 61, 19, 45, 68, 24, 46, 65, 28, 52, 70, 33, 52, 70, 32, 53, 74, 36, 54, 77, 38, 43, 65, 26, 42, 61, 24, 46, 64, 27, 49, 71, 30, 43, 68, 24, 38, 63, 17, 46, 69, 26, 48, 68, 26, 48, 64, 24, 58, 65, 31, 57, 65, 31, 45, 63, 22, 40, 66, 23, 28, 54, 14, 26, 47, 14, 26, 48, 14, 22, 49, 13, 18, 44, 12, 15, 40, 10, 15, 41, 10, 20, 43, 10, 33, 56, 18, 42, 66, 22, 46, 71, 24, 47, 72, 27, 46, 68, 25, 52, 73, 30, 42, 64, 25, 46, 65, 27, 49, 67, 27, 44, 66, 26, 41, 63, 23, 39, 62, 21, 36, 56, 18, 41, 58, 22, 47, 68, 29, 45, 68, 27, 42, 65, 23, 49, 69, 28, 52, 70, 31, 51, 66, 29, 58, 67, 33, 63, 67, 34, 58, 70, 31, 45, 69, 24, 29, 54, 11, 23, 48, 11, 27, 54, 15, 30, 58, 19, 21, 46, 10, 21, 43, 8, 25, 51, 14, 24, 50, 11, 35, 60, 19, 46, 72, 26, 51, 77, 29, 50, 75, 28, 51, 74, 29, 55, 76, 33, 37, 59, 21, 41, 63, 23, 51, 72, 31, 40, 63, 21, 37, 60, 18, 43, 66, 23, 31, 53, 13, 35, 54, 17, 49, 70, 32, 52, 74, 33, 50, 72, 31, 48, 69, 28, 53, 72, 31, 54, 72, 31, 57, 74, 36, 61, 70, 34, 60, 70, 33, 53, 69, 30, 42, 62, 22, 35, 58, 19, 37, 63, 23, 33, 58, 20, 30, 53, 16, 36, 60, 19, 32, 58, 18, 25, 51, 12, 32, 57, 17, 39, 64, 19, 46, 72, 24, 46, 73, 26, 44, 69, 24, 47, 70, 27], \"height\": 32, \"channels\": 3, \"width\": 32, \"type\": \"image\", \"id\": 140365569292496}, {\"format\": \"raw\", \"value\": [229, 231, 227, 232, 235, 231, 231, 235, 230, 233, 237, 231, 232, 236, 227, 233, 236, 229, 235, 236, 237, 234, 235, 239, 234, 236, 237, 236, 236, 235, 236, 235, 236, 232, 238, 232, 171, 173, 165, 148, 144, 139, 129, 136, 130, 113, 117, 107, 119, 117, 100, 89, 85, 64, 79, 79, 62, 67, 72, 66, 55, 62, 62, 61, 61, 57, 75, 71, 59, 145, 140, 121, 112, 109, 92, 86, 86, 75, 89, 88, 73, 75, 72, 66, 128, 125, 122, 135, 133, 118, 117, 116, 96, 80, 81, 63, 227, 231, 231, 226, 235, 233, 227, 231, 232, 236, 233, 236, 237, 237, 236, 233, 237, 236, 230, 233, 238, 229, 231, 238, 223, 226, 231, 220, 223, 227, 221, 226, 231, 215, 226, 225, 150, 154, 151, 158, 156, 155, 168, 176, 175, 186, 190, 189, 178, 174, 169, 173, 168, 157, 209, 206, 195, 209, 209, 205, 212, 215, 213, 220, 221, 212, 226, 223, 207, 166, 161, 142, 214, 212, 197, 170, 170, 162, 167, 166, 155, 130, 127, 124, 229, 225, 222, 235, 234, 216, 156, 155, 133, 119, 123, 110, 225, 233, 236, 223, 237, 237, 229, 238, 241, 222, 219, 228, 197, 197, 203, 173, 179, 183, 160, 166, 173, 157, 162, 172, 152, 157, 167, 152, 158, 169, 149, 159, 169, 144, 157, 162, 142, 146, 150, 145, 144, 149, 133, 144, 147, 147, 153, 156, 167, 163, 162, 214, 209, 201, 250, 246, 235, 246, 244, 235, 244, 245, 236, 245, 246, 232, 242, 240, 220, 174, 169, 149, 216, 213, 199, 170, 169, 163, 173, 172, 163, 163, 159, 157, 222, 219, 214, 221, 220, 199, 163, 163, 139, 145, 150, 145, 222, 234, 235, 221, 239, 237, 204, 217, 220, 126, 128, 140, 96, 100, 111, 99, 107, 115, 100, 108, 118, 120, 128, 139, 118, 125, 138, 106, 114, 130, 81, 94, 111, 67, 81, 93, 70, 73, 82, 101, 98, 108, 98, 111, 116, 106, 113, 116, 140, 139, 136, 195, 194, 184, 210, 208, 192, 210, 206, 189, 209, 206, 191, 204, 205, 189, 200, 197, 177, 163, 158, 136, 197, 194, 180, 216, 216, 210, 212, 210, 203, 228, 225, 222, 240, 237, 230, 218, 217, 196, 153, 152, 130, 124, 132, 126, 224, 232, 230, 227, 236, 231, 167, 175, 177, 57, 65, 75, 119, 128, 139, 181, 191, 200, 165, 175, 185, 161, 171, 182, 139, 149, 163, 100, 110, 129, 56, 72, 93, 29, 43, 59, 53, 53, 66, 153, 148, 160, 181, 192, 200, 191, 200, 201, 174, 178, 173, 163, 167, 156, 199, 200, 183, 200, 196, 177, 182, 178, 160, 182, 183, 167, 184, 182, 161, 160, 155, 132, 197, 194, 178, 213, 213, 204, 211, 209, 201, 235, 231, 227, 236, 233, 224, 221, 221, 200, 177, 175, 156, 141, 150, 146, 233, 224, 221, 226, 211, 208, 122, 112, 114, 38, 43, 51, 95, 107, 118, 107, 120, 129, 107, 121, 128, 139, 153, 161, 98, 111, 124, 70, 83, 102, 50, 67, 90, 22, 35, 53, 74, 70, 86, 152, 143, 157, 211, 220, 229, 226, 238, 241, 202, 211, 209, 164, 174, 167, 209, 213, 203, 214, 210, 197, 197, 191, 178, 196, 197, 183, 223, 220, 200, 171, 167, 144, 194, 191, 172, 195, 196, 182, 207, 206, 193, 212, 210, 201, 225, 223, 210, 214, 213, 192, 204, 201, 187, 176, 183, 190, 214, 181, 181, 194, 151, 152, 128, 99, 103, 65, 62, 69, 49, 61, 72, 24, 40, 49, 15, 32, 36, 98, 114, 120, 99, 113, 125, 51, 65, 85, 50, 66, 91, 22, 33, 52, 56, 49, 66, 85, 73, 88, 142, 148, 156, 178, 192, 200, 161, 173, 181, 147, 160, 165, 146, 152, 155, 183, 179, 179, 191, 184, 181, 193, 193, 182, 198, 195, 177, 160, 156, 131, 170, 168, 146, 184, 185, 168, 196, 196, 178, 198, 196, 182, 211, 209, 194, 211, 210, 189, 192, 190, 180, 172, 179, 190, 209, 163, 161, 197, 128, 129, 158, 93, 97, 123, 93, 97, 104, 104, 110, 75, 78, 84, 51, 49, 54, 85, 89, 96, 114, 129, 140, 44, 65, 81, 45, 67, 86, 43, 55, 72, 59, 56, 73, 52, 44, 60, 52, 59, 71, 80, 94, 108, 85, 99, 113, 91, 103, 114, 108, 113, 121, 164, 159, 164, 180, 171, 173, 167, 162, 156, 175, 168, 155, 152, 146, 125, 180, 177, 156, 202, 204, 185, 198, 200, 184, 198, 198, 186, 198, 196, 183, 197, 190, 175, 177, 164, 158, 163, 160, 164, 208, 162, 155, 201, 114, 113, 194, 82, 83, 164, 89, 86, 152, 118, 113, 150, 110, 110, 130, 76, 83, 112, 79, 87, 142, 144, 152, 75, 94, 102, 68, 87, 92, 76, 84, 94, 82, 81, 96, 91, 93, 111, 95, 107, 123, 85, 103, 120, 76, 93, 109, 96, 108, 120, 132, 137, 143, 156, 156, 156, 178, 176, 174, 166, 163, 160, 155, 147, 142, 147, 133, 125, 149, 134, 124, 123, 109, 98, 89, 77, 71, 100, 95, 88, 161, 163, 151, 168, 167, 153, 172, 159, 148, 181, 171, 165, 190, 143, 138, 162, 80, 78, 186, 76, 71, 185, 100, 90, 161, 101, 91, 170, 97, 92, 149, 67, 68, 108, 49, 49, 167, 137, 138, 146, 127, 131, 135, 112, 117, 105, 79, 87, 87, 65, 76, 89, 82, 93, 87, 97, 106, 94, 113, 127, 100, 119, 137, 92, 111, 126, 65, 83, 95, 73, 91, 99, 68, 87, 92, 66, 85, 84, 120, 128, 127, 146, 140, 138, 154, 135, 134, 116, 89, 89, 92, 59, 55, 92, 70, 61, 184, 183, 167, 190, 204, 183, 187, 204, 183, 196, 208, 194, 114, 73, 71, 143, 75, 73, 168, 67, 58, 182, 85, 71, 180, 88, 75, 178, 72, 62, 167, 60, 52, 152, 66, 57, 166, 97, 92, 194, 124, 126, 183, 109, 112, 161, 92, 97, 141, 87, 93, 124, 94, 98, 118, 111, 112, 113, 119, 130, 109, 119, 137, 108, 125, 142, 85, 109, 127, 55, 86, 103, 46, 77, 93, 70, 93, 105, 88, 110, 120, 110, 130, 136, 136, 152, 156, 142, 154, 155, 164, 160, 151, 177, 152, 144, 194, 155, 154, 195, 165, 163, 190, 187, 176, 180, 188, 177, 83, 60, 59, 128, 78, 74, 145, 52, 41, 158, 46, 30, 171, 52, 40, 180, 53, 43, 174, 50, 39, 167, 61, 48, 171, 69, 63, 189, 78, 79, 197, 87, 84, 189, 87, 86, 184, 99, 99, 182, 121, 120, 162, 122, 118, 142, 116, 122, 120, 103, 116, 106, 100, 116, 97, 104, 124, 83, 104, 126, 86, 107, 132, 90, 103, 133, 77, 100, 127, 67, 98, 120, 65, 101, 117, 69, 104, 115, 94, 120, 124, 151, 148, 155, 170, 133, 148, 168, 122, 136, 170, 142, 146, 190, 178, 176, 80, 79, 74, 101, 72, 68, 139, 58, 47, 156, 35, 23, 161, 32, 24, 166, 37, 31, 176, 49, 40, 176, 61, 50, 180, 62, 58, 179, 50, 52, 181, 59, 50, 189, 72, 65, 191, 84, 80, 208, 116, 113, 214, 135, 131, 205, 136, 137, 172, 113, 120, 154, 108, 118, 128, 98, 114, 105, 90, 110, 95, 92, 117, 84, 95, 129, 73, 93, 129, 65, 89, 127, 64, 81, 118, 70, 79, 113, 69, 83, 118, 75, 98, 126, 91, 117, 133, 93, 104, 112, 122, 105, 113, 166, 143, 147, 88, 104, 96, 91, 78, 77, 121, 62, 53, 147, 40, 30, 154, 38, 32, 154, 37, 33, 157, 35, 29, 157, 42, 33, 170, 51, 48, 182, 53, 54, 177, 59, 47, 174, 58, 47, 178, 61, 54, 185, 71, 68, 198, 87, 85, 208, 104, 101, 207, 111, 110, 195, 111, 114, 178, 109, 117, 156, 100, 112, 120, 84, 101, 82, 85, 108, 77, 98, 125, 83, 115, 147, 60, 88, 121, 62, 80, 113, 65, 76, 119, 58, 84, 120, 52, 91, 109, 63, 82, 92, 109, 82, 95, 161, 124, 133, 97, 116, 108, 109, 107, 109, 84, 53, 45, 114, 44, 33, 133, 45, 36, 143, 43, 35, 152, 37, 29, 155, 40, 30, 155, 39, 32, 160, 37, 34, 165, 52, 42, 172, 58, 49, 180, 63, 56, 185, 65, 60, 186, 64, 59, 189, 70, 65, 200, 88, 83, 208, 104, 102, 194, 99, 101, 185, 98, 104, 173, 100, 107, 134, 93, 102, 95, 88, 100, 69, 93, 108, 50, 87, 101, 44, 79, 90, 54, 62, 81, 69, 59, 81, 88, 64, 83, 129, 89, 107, 176, 121, 139, 155, 118, 127, 130, 143, 137, 143, 147, 152, 57, 51, 44, 94, 64, 50, 103, 44, 29, 129, 41, 26, 152, 41, 29, 155, 41, 28, 155, 41, 29, 154, 37, 29, 153, 41, 35, 170, 58, 52, 179, 66, 59, 181, 65, 58, 185, 66, 58, 185, 68, 60, 182, 68, 62, 192, 82, 77, 202, 97, 94, 188, 87, 88, 189, 86, 86, 188, 87, 86, 161, 93, 99, 110, 74, 86, 91, 67, 81, 96, 66, 79, 119, 68, 70, 141, 78, 79, 150, 87, 92, 149, 99, 104, 127, 98, 100, 55, 46, 45, 113, 130, 108, 114, 128, 116, 20, 33, 16, 41, 43, 26, 85, 66, 49, 102, 50, 37, 123, 37, 28, 143, 40, 31, 151, 45, 33, 158, 51, 39, 145, 54, 44, 119, 54, 48, 124, 55, 57, 155, 75, 72, 172, 58, 51, 184, 58, 57, 183, 69, 66, 186, 74, 70, 202, 90, 92, 202, 96, 97, 198, 91, 87, 201, 85, 81, 201, 95, 96, 176, 85, 92, 159, 82, 93, 160, 92, 104, 159, 100, 99, 138, 87, 84, 103, 67, 66, 59, 43, 42, 32, 36, 33, 39, 48, 46, 77, 103, 62, 66, 90, 55, 48, 72, 42, 41, 64, 40, 22, 34, 19, 76, 66, 56, 104, 57, 53, 112, 35, 33, 133, 46, 40, 159, 71, 61, 111, 47, 34, 24, 13, 10, 70, 53, 62, 96, 63, 64, 165, 69, 63, 171, 40, 42, 169, 49, 46, 177, 67, 61, 200, 103, 106, 215, 137, 135, 179, 106, 96, 175, 87, 81, 173, 83, 77, 180, 100, 95, 158, 102, 99, 109, 78, 77, 54, 44, 43, 21, 17, 19, 3, 1, 9, 0, 0, 9, 4, 8, 15, 83, 90, 94, 72, 100, 60, 67, 95, 57, 75, 101, 68, 76, 102, 71, 45, 66, 44, 17, 25, 10, 62, 45, 39, 109, 68, 64, 100, 43, 42, 119, 53, 51, 92, 37, 31, 60, 52, 48, 111, 109, 111, 84, 78, 73, 119, 70, 59, 163, 55, 46, 165, 41, 28, 157, 52, 39, 158, 101, 92, 145, 119, 107, 86, 47, 33, 99, 29, 22, 116, 60, 55, 124, 92, 88, 46, 34, 32, 1, 0, 0, 0, 0, 0, 1, 0, 2, 9, 10, 17, 11, 15, 24, 42, 50, 55, 163, 173, 172, 67, 97, 60, 70, 100, 62, 75, 105, 66, 70, 100, 62, 62, 91, 59, 53, 78, 53, 19, 34, 17, 35, 33, 24, 86, 66, 63, 93, 56, 57, 77, 40, 38, 98, 95, 89, 94, 103, 100, 78, 94, 86, 85, 79, 69, 137, 63, 47, 164, 42, 24, 159, 48, 36, 142, 90, 80, 151, 123, 114, 92, 34, 28, 117, 38, 36, 110, 68, 69, 101, 96, 101, 23, 29, 33, 1, 3, 5, 8, 9, 7, 18, 21, 22, 33, 38, 43, 42, 51, 56, 144, 156, 157, 153, 167, 158, 60, 92, 55, 61, 93, 54, 68, 101, 58, 66, 99, 55, 64, 95, 54, 62, 94, 56, 53, 88, 54, 38, 64, 39, 32, 39, 27, 66, 55, 51, 97, 83, 80, 108, 111, 105, 63, 77, 71, 41, 60, 55, 61, 71, 68, 113, 73, 60, 149, 45, 34, 159, 43, 39, 139, 71, 67, 144, 76, 76, 139, 32, 35, 148, 50, 51, 91, 46, 51, 30, 30, 39, 23, 27, 36, 42, 34, 39, 66, 65, 64, 98, 103, 103, 130, 138, 141, 154, 166, 168, 139, 154, 152, 96, 115, 99, 54, 86, 49, 53, 85, 45, 60, 93, 49, 59, 92, 46, 72, 101, 53, 69, 100, 51, 64, 104, 57, 65, 102, 62, 60, 81, 53, 23, 30, 14, 52, 56, 48, 93, 98, 91, 61, 75, 69, 47, 55, 56, 56, 60, 65, 83, 66, 64, 127, 52, 51, 141, 44, 46, 124, 62, 57, 126, 55, 49, 162, 53, 49, 154, 67, 61, 111, 77, 75, 75, 82, 84, 93, 103, 105, 135, 127, 126, 160, 159, 157, 167, 173, 173, 144, 152, 155, 96, 108, 108, 30, 46, 41, 60, 82, 60, 67, 96, 59, 68, 98, 58, 79, 110, 66, 79, 110, 64, 79, 106, 57, 74, 103, 49, 73, 110, 57, 73, 109, 61, 78, 104, 63, 69, 89, 55, 49, 65, 44, 92, 98, 88, 85, 101, 96, 93, 92, 98, 102, 95, 103, 84, 80, 85, 107, 68, 72, 195, 141, 141, 184, 156, 147, 187, 156, 140, 210, 152, 134, 212, 165, 152, 195, 185, 174, 186, 206, 196, 173, 194, 185, 162, 169, 160, 123, 126, 123, 66, 70, 72, 21, 28, 31, 1, 11, 9, 2, 17, 9, 25, 46, 24, 71, 98, 58, 73, 101, 60, 80, 108, 66, 82, 110, 66, 78, 105, 59, 69, 98, 49, 70, 102, 53, 79, 110, 62, 86, 116, 69, 91, 122, 76, 90, 107, 74, 89, 94, 82, 96, 118, 113, 96, 94, 100, 107, 101, 105, 59, 68, 69, 57, 53, 52, 134, 120, 116, 166, 162, 158, 165, 162, 150, 172, 159, 142, 171, 159, 149, 160, 163, 152, 129, 145, 134, 80, 97, 87, 29, 39, 33, 1, 4, 3, 0, 2, 4, 5, 11, 14, 7, 17, 14, 2, 14, 5, 12, 32, 11, 74, 100, 60, 76, 101, 61, 77, 102, 62, 75, 100, 60, 76, 105, 64, 75, 106, 64, 75, 103, 60, 83, 111, 66, 99, 132, 83, 95, 130, 78, 105, 117, 77, 94, 97, 81, 126, 154, 149, 134, 140, 144, 80, 82, 78, 76, 98, 89, 67, 87, 76, 29, 37, 29, 24, 16, 23, 12, 0, 7, 12, 3, 4, 10, 7, 9, 12, 7, 5, 7, 1, 0, 1, 0, 0, 2, 0, 5, 5, 4, 7, 11, 12, 15, 6, 10, 12, 2, 11, 7, 9, 21, 11, 46, 68, 46, 65, 96, 52, 66, 96, 53, 70, 98, 55, 68, 95, 53, 75, 104, 63, 75, 105, 64, 85, 112, 69, 91, 118, 73, 101, 128, 81, 101, 129, 79, 117, 132, 88, 96, 106, 80, 142, 160, 148, 211, 218, 219, 143, 147, 151, 111, 126, 122, 102, 116, 110, 64, 70, 69, 10, 5, 15, 17, 7, 21, 9, 2, 11, 3, 2, 4, 6, 2, 3, 8, 2, 3, 7, 2, 5, 4, 1, 7, 3, 4, 11, 2, 5, 9, 0, 9, 4, 9, 25, 11, 53, 77, 52, 86, 114, 81, 59, 95, 49, 64, 97, 52, 65, 95, 51, 67, 96, 52, 73, 101, 58, 74, 103, 60, 85, 113, 68, 91, 118, 72, 90, 115, 68, 97, 121, 74, 106, 125, 81, 85, 102, 67, 114, 128, 107, 216, 225, 219, 197, 204, 209, 133, 141, 139, 124, 133, 128, 80, 87, 86, 4, 6, 9, 30, 30, 37, 50, 50, 57, 14, 16, 17, 3, 5, 7, 2, 3, 6, 1, 3, 6, 1, 3, 6, 0, 4, 4, 6, 16, 9, 21, 38, 20, 38, 63, 34, 74, 106, 67, 83, 116, 72, 63, 98, 52, 62, 94, 49, 67, 97, 53, 77, 106, 62, 76, 106, 63, 77, 109, 65, 79, 110, 64, 83, 113, 66, 87, 115, 67, 95, 122, 73, 103, 128, 81, 91, 112, 72, 85, 103, 73, 151, 166, 146, 170, 182, 171, 138, 153, 138, 125, 139, 123, 71, 83, 70, 0, 9, 1, 11, 18, 14, 38, 44, 43, 41, 47, 50, 15, 21, 23, 1, 6, 7, 0, 5, 3, 4, 12, 8, 15, 27, 9, 46, 63, 36, 76, 100, 64, 76, 107, 63, 80, 117, 67, 86, 122, 71, 66, 98, 53, 71, 102, 58, 76, 106, 62, 85, 114, 70, 82, 115, 71, 73, 108, 63, 72, 105, 59, 69, 101, 54, 79, 110, 61, 85, 116, 66, 91, 120, 71, 96, 123, 78, 96, 121, 80, 108, 130, 96, 125, 144, 114, 115, 136, 106, 97, 117, 88, 57, 76, 50, 34, 51, 30, 21, 37, 18, 7, 19, 7, 12, 23, 19, 7, 19, 13, 4, 16, 6, 12, 26, 12, 40, 56, 38, 62, 84, 47, 80, 106, 61, 84, 113, 65, 78, 113, 61, 72, 112, 56, 80, 119, 65, 71, 102, 58, 70, 100, 56, 72, 101, 57, 77, 106, 62, 73, 107, 63, 65, 103, 57, 70, 106, 59, 68, 101, 53, 68, 100, 51, 78, 110, 60, 81, 114, 64, 82, 113, 64, 98, 127, 79, 103, 130, 84, 96, 122, 77, 89, 115, 71, 88, 114, 72, 87, 112, 73, 85, 110, 74, 74, 97, 65, 46, 69, 42, 25, 46, 26, 37, 59, 36, 50, 74, 45, 60, 85, 51, 78, 103, 65, 83, 110, 63, 80, 110, 59, 82, 115, 64, 72, 109, 57, 71, 111, 59, 78, 117, 66, 71, 98, 55, 75, 104, 60, 73, 102, 58, 72, 102, 58, 69, 103, 59, 71, 108, 62, 68, 103, 56, 69, 102, 55, 68, 100, 51, 75, 107, 57, 74, 108, 57, 68, 100, 50, 77, 109, 58, 87, 117, 64, 107, 136, 82, 98, 127, 75, 98, 126, 76, 88, 117, 70, 80, 109, 65, 73, 102, 61, 63, 91, 53, 62, 90, 52, 73, 102, 61, 74, 104, 58, 80, 111, 60, 77, 108, 53, 75, 105, 54, 76, 107, 58, 83, 116, 68, 82, 118, 72, 81, 119, 75, 86, 123, 78, 79, 105, 62, 78, 105, 62, 73, 102, 58, 72, 103, 59, 66, 99, 55, 70, 104, 59, 72, 104, 58, 73, 104, 57, 71, 99, 51, 70, 99, 51, 69, 102, 54, 70, 103, 54, 76, 107, 57, 91, 121, 68, 99, 128, 72, 103, 132, 77, 103, 131, 79, 101, 130, 81, 85, 116, 70, 71, 103, 60, 69, 101, 57, 79, 111, 62, 75, 108, 56, 70, 103, 49, 75, 109, 51, 76, 110, 51, 76, 107, 56, 80, 111, 65, 88, 120, 76, 82, 115, 73, 77, 111, 70, 82, 118, 74], \"height\": 32, \"channels\": 3, \"width\": 32, \"type\": \"image\", \"id\": 140365569293584}, {\"format\": \"raw\", \"value\": [110, 118, 104, 98, 104, 80, 92, 100, 68, 95, 110, 60, 112, 120, 99, 114, 116, 104, 107, 104, 68, 122, 118, 69, 122, 123, 78, 116, 121, 86, 108, 113, 97, 145, 147, 146, 148, 156, 157, 132, 142, 145, 130, 141, 142, 100, 116, 114, 82, 94, 94, 100, 108, 110, 94, 104, 104, 98, 109, 115, 164, 172, 181, 230, 232, 234, 240, 240, 238, 240, 240, 239, 240, 240, 240, 240, 239, 239, 233, 234, 235, 191, 203, 204, 153, 173, 156, 155, 177, 165, 152, 177, 178, 121, 159, 157, 129, 134, 137, 115, 118, 115, 103, 108, 91, 111, 113, 96, 107, 110, 95, 103, 108, 78, 104, 102, 70, 105, 105, 69, 116, 120, 71, 115, 120, 80, 111, 113, 93, 122, 126, 115, 122, 131, 111, 102, 117, 100, 93, 106, 97, 86, 95, 89, 84, 95, 88, 92, 103, 96, 94, 102, 97, 125, 129, 134, 184, 190, 195, 233, 233, 234, 242, 242, 243, 243, 243, 244, 242, 242, 242, 242, 242, 242, 201, 212, 219, 147, 170, 177, 133, 158, 133, 136, 158, 131, 138, 163, 161, 110, 144, 139, 138, 143, 148, 134, 134, 143, 116, 121, 113, 119, 123, 107, 108, 110, 82, 111, 115, 66, 117, 114, 67, 104, 106, 70, 108, 112, 73, 98, 102, 79, 98, 100, 84, 110, 115, 102, 104, 113, 93, 101, 115, 91, 95, 107, 95, 83, 89, 75, 77, 79, 65, 92, 103, 86, 120, 129, 114, 167, 171, 168, 178, 185, 186, 207, 210, 208, 229, 233, 230, 229, 234, 229, 239, 240, 237, 224, 225, 225, 166, 176, 188, 139, 156, 164, 127, 152, 122, 117, 143, 105, 121, 145, 128, 117, 137, 116, 160, 167, 165, 135, 136, 132, 103, 108, 90, 100, 106, 73, 111, 114, 73, 120, 120, 75, 118, 115, 70, 112, 112, 78, 116, 116, 80, 96, 97, 75, 92, 93, 76, 114, 118, 94, 96, 109, 90, 86, 101, 81, 84, 94, 78, 82, 86, 66, 81, 82, 66, 90, 99, 87, 115, 129, 113, 142, 149, 137, 155, 159, 156, 180, 187, 172, 196, 211, 188, 197, 213, 194, 221, 228, 218, 204, 206, 207, 147, 155, 158, 139, 152, 145, 121, 142, 111, 108, 134, 91, 114, 137, 99, 108, 124, 94, 110, 119, 112, 103, 110, 106, 103, 111, 105, 101, 108, 93, 104, 110, 83, 113, 115, 82, 122, 122, 75, 125, 126, 92, 137, 138, 103, 112, 114, 77, 96, 98, 76, 108, 112, 88, 99, 106, 83, 97, 105, 78, 92, 98, 77, 88, 92, 69, 82, 82, 66, 82, 89, 77, 96, 106, 93, 116, 116, 103, 145, 151, 143, 164, 179, 156, 172, 192, 165, 174, 196, 174, 179, 194, 174, 172, 177, 173, 149, 154, 155, 140, 148, 136, 114, 130, 109, 104, 128, 84, 108, 127, 80, 97, 113, 81, 97, 109, 100, 96, 101, 95, 92, 96, 86, 90, 94, 85, 94, 101, 96, 102, 108, 95, 121, 123, 96, 131, 134, 95, 146, 149, 118, 128, 134, 94, 97, 101, 77, 95, 103, 89, 98, 109, 91, 92, 105, 84, 80, 92, 75, 86, 91, 72, 92, 97, 80, 96, 100, 87, 123, 123, 113, 151, 148, 137, 146, 153, 138, 155, 172, 148, 160, 179, 139, 164, 186, 143, 169, 184, 153, 153, 158, 151, 148, 152, 155, 145, 146, 134, 118, 125, 104, 105, 126, 78, 101, 124, 67, 92, 109, 71, 97, 104, 88, 87, 91, 84, 97, 100, 94, 96, 98, 89, 95, 101, 92, 94, 102, 87, 91, 96, 81, 99, 101, 79, 123, 128, 114, 125, 133, 114, 101, 104, 89, 95, 97, 87, 94, 103, 93, 89, 99, 86, 95, 98, 80, 98, 97, 77, 86, 85, 68, 95, 94, 77, 112, 113, 100, 147, 152, 140, 159, 162, 149, 160, 170, 146, 147, 164, 117, 142, 159, 109, 150, 163, 126, 142, 146, 126, 140, 142, 134, 147, 147, 126, 129, 131, 94, 110, 129, 70, 95, 122, 59, 97, 115, 73, 104, 101, 87, 85, 92, 86, 100, 108, 96, 98, 107, 93, 104, 111, 102, 103, 110, 90, 97, 100, 83, 97, 97, 80, 111, 117, 105, 112, 120, 102, 103, 111, 94, 100, 103, 104, 105, 110, 111, 105, 112, 106, 101, 105, 92, 111, 107, 94, 115, 110, 102, 145, 142, 139, 166, 156, 157, 176, 166, 167, 192, 181, 182, 189, 183, 178, 179, 174, 163, 163, 165, 147, 151, 166, 139, 134, 145, 115, 129, 142, 95, 126, 137, 94, 121, 134, 104, 97, 116, 74, 85, 109, 56, 82, 104, 62, 106, 119, 104, 90, 98, 94, 80, 91, 78, 79, 93, 76, 138, 144, 123, 140, 143, 101, 100, 103, 86, 101, 105, 89, 112, 118, 112, 104, 111, 103, 106, 108, 94, 104, 106, 96, 99, 104, 96, 96, 100, 93, 124, 124, 123, 176, 168, 174, 182, 176, 184, 171, 171, 180, 162, 158, 173, 157, 148, 166, 159, 147, 164, 167, 149, 167, 182, 151, 171, 206, 168, 183, 216, 196, 203, 191, 186, 187, 148, 148, 130, 126, 143, 102, 117, 136, 116, 98, 109, 86, 84, 93, 59, 76, 89, 60, 84, 99, 79, 80, 92, 77, 81, 93, 79, 84, 92, 79, 99, 106, 86, 113, 112, 79, 102, 98, 81, 104, 105, 87, 114, 124, 110, 103, 114, 103, 114, 116, 109, 127, 127, 118, 109, 116, 97, 120, 123, 117, 184, 182, 188, 219, 222, 227, 203, 210, 214, 177, 193, 199, 176, 197, 208, 177, 204, 217, 180, 205, 219, 176, 202, 214, 166, 192, 204, 165, 144, 164, 162, 130, 143, 139, 129, 136, 157, 137, 145, 150, 142, 128, 112, 124, 80, 96, 111, 67, 92, 98, 64, 79, 86, 62, 85, 101, 81, 81, 100, 78, 86, 100, 80, 86, 88, 76, 91, 94, 80, 97, 92, 78, 104, 91, 83, 114, 110, 93, 103, 114, 103, 95, 111, 98, 100, 111, 106, 128, 140, 141, 115, 128, 110, 167, 174, 171, 229, 234, 240, 227, 232, 235, 191, 204, 207, 183, 200, 210, 183, 203, 217, 185, 213, 225, 183, 212, 225, 184, 213, 224, 183, 216, 226, 161, 159, 175, 157, 154, 162, 147, 170, 181, 128, 122, 135, 138, 112, 121, 111, 117, 89, 97, 114, 62, 98, 111, 67, 96, 109, 67, 85, 95, 83, 81, 92, 79, 85, 91, 78, 86, 84, 75, 90, 92, 79, 96, 90, 78, 106, 91, 81, 107, 95, 75, 109, 111, 106, 125, 136, 129, 122, 124, 117, 141, 145, 143, 146, 148, 145, 206, 210, 213, 228, 231, 235, 216, 220, 223, 193, 201, 205, 194, 199, 209, 195, 200, 212, 184, 205, 217, 166, 202, 216, 176, 209, 222, 176, 205, 218, 164, 159, 173, 176, 183, 183, 179, 207, 209, 150, 157, 164, 158, 135, 146, 126, 122, 120, 108, 116, 84, 99, 113, 79, 101, 114, 79, 81, 83, 77, 83, 82, 78, 92, 89, 85, 91, 87, 79, 85, 83, 73, 105, 93, 73, 131, 107, 84, 153, 118, 110, 176, 152, 161, 195, 173, 188, 197, 174, 183, 206, 188, 191, 213, 195, 199, 227, 215, 221, 229, 217, 223, 224, 215, 219, 217, 210, 214, 218, 207, 214, 215, 206, 214, 205, 206, 215, 190, 199, 211, 185, 199, 210, 173, 190, 203, 166, 160, 173, 168, 181, 183, 150, 176, 183, 139, 147, 155, 171, 141, 152, 144, 137, 146, 108, 113, 105, 100, 111, 110, 94, 106, 110, 84, 79, 74, 97, 83, 77, 115, 99, 92, 126, 113, 98, 129, 107, 95, 155, 124, 101, 177, 118, 105, 205, 126, 148, 219, 155, 185, 221, 152, 188, 224, 159, 192, 229, 172, 199, 230, 179, 200, 229, 182, 202, 229, 185, 204, 229, 187, 203, 229, 186, 202, 229, 186, 201, 227, 190, 203, 226, 190, 205, 224, 187, 202, 214, 185, 198, 196, 173, 186, 185, 163, 173, 176, 164, 174, 147, 145, 160, 152, 149, 161, 177, 160, 172, 164, 160, 173, 129, 127, 126, 94, 111, 123, 105, 120, 128, 159, 130, 99, 169, 141, 106, 173, 149, 140, 204, 160, 171, 215, 175, 186, 211, 162, 171, 201, 116, 133, 208, 130, 157, 210, 119, 152, 212, 110, 147, 217, 121, 162, 222, 142, 176, 227, 162, 187, 228, 172, 193, 229, 173, 193, 228, 171, 192, 226, 165, 186, 224, 162, 180, 225, 165, 184, 226, 164, 187, 225, 160, 179, 224, 154, 171, 211, 140, 157, 201, 143, 154, 209, 138, 154, 207, 161, 173, 214, 184, 195, 208, 177, 192, 202, 172, 189, 179, 153, 167, 116, 121, 129, 140, 139, 124, 203, 161, 103, 202, 177, 138, 189, 178, 187, 203, 120, 147, 220, 131, 163, 214, 123, 150, 195, 110, 134, 171, 154, 172, 187, 110, 132, 207, 93, 123, 217, 124, 158, 228, 166, 193, 224, 192, 206, 223, 194, 203, 227, 198, 207, 231, 206, 215, 232, 208, 215, 234, 208, 213, 234, 211, 219, 233, 210, 218, 231, 204, 210, 230, 201, 207, 229, 193, 204, 223, 180, 191, 226, 174, 187, 223, 160, 178, 216, 121, 146, 197, 99, 122, 191, 90, 113, 202, 128, 148, 190, 162, 169, 175, 154, 123, 191, 164, 97, 202, 184, 150, 171, 159, 159, 139, 39, 47, 177, 62, 86, 198, 97, 120, 198, 97, 121, 192, 95, 120, 200, 86, 113, 207, 93, 123, 211, 110, 143, 207, 125, 155, 207, 140, 163, 203, 174, 188, 200, 188, 199, 225, 175, 193, 228, 175, 194, 228, 175, 192, 227, 168, 184, 223, 155, 170, 219, 136, 151, 214, 118, 137, 211, 104, 124, 206, 92, 111, 204, 89, 107, 199, 76, 97, 196, 67, 88, 189, 69, 89, 181, 63, 80, 197, 96, 115, 205, 112, 136, 173, 114, 112, 191, 174, 98, 202, 185, 129, 137, 114, 100, 120, 38, 46, 160, 75, 94, 171, 137, 158, 177, 149, 166, 180, 142, 162, 186, 118, 141, 190, 95, 121, 187, 65, 93, 182, 60, 87, 185, 83, 106, 194, 180, 190, 182, 182, 186, 195, 113, 128, 210, 85, 108, 206, 77, 99, 202, 67, 87, 201, 62, 84, 201, 60, 82, 196, 55, 72, 187, 67, 83, 184, 67, 83, 190, 53, 68, 190, 54, 69, 188, 58, 72, 186, 63, 79, 180, 67, 81, 180, 62, 80, 186, 65, 83, 164, 81, 89, 186, 172, 102, 203, 182, 119, 127, 106, 93, 101, 78, 96, 120, 108, 124, 113, 121, 135, 125, 131, 141, 134, 140, 152, 150, 156, 169, 172, 160, 176, 171, 88, 105, 160, 38, 56, 155, 51, 63, 203, 191, 194, 174, 170, 168, 145, 51, 55, 180, 51, 67, 186, 69, 85, 189, 71, 89, 181, 71, 90, 173, 70, 88, 176, 68, 83, 170, 80, 95, 167, 74, 88, 181, 50, 65, 185, 51, 67, 179, 51, 66, 179, 55, 71, 170, 56, 71, 157, 51, 64, 155, 69, 84, 153, 88, 94, 176, 161, 101, 193, 175, 118, 132, 131, 128, 80, 79, 95, 70, 74, 90, 74, 77, 93, 81, 82, 93, 91, 93, 102, 109, 110, 118, 125, 130, 137, 149, 135, 145, 174, 119, 134, 169, 96, 108, 170, 140, 149, 134, 107, 110, 123, 24, 29, 163, 54, 67, 176, 86, 100, 154, 79, 93, 92, 64, 75, 70, 48, 56, 130, 45, 56, 175, 46, 57, 171, 41, 53, 174, 44, 55, 176, 47, 57, 174, 48, 59, 171, 52, 64, 159, 48, 62, 138, 47, 57, 119, 82, 85, 115, 73, 77, 169, 148, 92, 171, 157, 117, 122, 126, 135, 79, 81, 99, 69, 72, 89, 79, 84, 100, 93, 97, 112, 86, 92, 105, 84, 89, 101, 78, 80, 94, 88, 89, 101, 99, 100, 110, 136, 119, 131, 146, 128, 140, 120, 73, 82, 133, 17, 25, 162, 19, 30, 169, 25, 35, 121, 50, 58, 65, 60, 67, 21, 23, 27, 75, 14, 21, 175, 32, 43, 169, 34, 45, 167, 39, 48, 166, 43, 51, 163, 43, 51, 160, 48, 57, 149, 41, 52, 129, 42, 50, 142, 121, 111, 122, 110, 81, 155, 125, 76, 146, 140, 135, 157, 162, 173, 133, 139, 148, 87, 101, 128, 80, 91, 118, 86, 93, 112, 65, 67, 79, 91, 94, 108, 107, 108, 128, 85, 85, 102, 78, 83, 101, 83, 83, 99, 108, 110, 123, 154, 127, 141, 148, 36, 44, 162, 17, 26, 168, 44, 52, 125, 96, 97, 129, 116, 112, 85, 82, 87, 50, 16, 23, 156, 26, 37, 162, 31, 42, 153, 32, 41, 155, 33, 43, 152, 35, 47, 146, 49, 58, 130, 52, 61, 115, 54, 60, 178, 167, 158, 190, 191, 158, 133, 96, 63, 130, 119, 114, 169, 173, 188, 199, 208, 223, 123, 152, 204, 108, 131, 188, 128, 144, 177, 135, 138, 150, 115, 116, 127, 105, 107, 126, 81, 81, 99, 73, 77, 93, 65, 65, 77, 95, 93, 108, 162, 164, 180, 151, 63, 74, 160, 8, 16, 137, 49, 57, 74, 72, 76, 85, 75, 68, 139, 130, 124, 59, 33, 39, 137, 19, 25, 153, 26, 34, 144, 26, 34, 140, 36, 43, 131, 58, 67, 111, 74, 84, 59, 44, 50, 85, 74, 77, 176, 173, 177, 190, 191, 193, 133, 104, 76, 143, 113, 83, 119, 103, 97, 119, 117, 131, 99, 118, 169, 101, 112, 171, 141, 158, 202, 233, 239, 243, 215, 217, 219, 196, 201, 205, 170, 170, 179, 150, 144, 161, 132, 124, 142, 130, 127, 147, 151, 151, 170, 151, 75, 86, 149, 17, 24, 128, 84, 94, 172, 180, 184, 91, 87, 86, 132, 123, 110, 84, 55, 59, 129, 17, 23, 142, 39, 44, 135, 66, 73, 107, 77, 87, 59, 52, 60, 31, 29, 33, 13, 11, 13, 58, 56, 61, 118, 117, 125, 150, 153, 165, 151, 120, 85, 149, 115, 81, 155, 119, 84, 160, 129, 99, 85, 78, 87, 43, 53, 104, 103, 110, 145, 186, 186, 192, 195, 198, 210, 225, 228, 235, 252, 252, 252, 250, 251, 251, 237, 237, 242, 217, 219, 223, 209, 209, 218, 217, 206, 214, 200, 177, 181, 160, 158, 165, 203, 175, 187, 111, 80, 87, 127, 122, 109, 88, 65, 67, 110, 52, 61, 105, 84, 93, 57, 55, 62, 31, 31, 35, 35, 35, 36, 55, 51, 54, 75, 71, 74, 86, 85, 88, 102, 103, 110, 140, 140, 152, 150, 129, 109, 137, 120, 109, 122, 109, 101, 116, 104, 96, 80, 73, 72, 15, 16, 19, 8, 9, 13, 25, 22, 28, 73, 73, 89, 114, 114, 134, 161, 161, 172, 174, 180, 192, 184, 191, 205, 227, 229, 233, 234, 235, 237, 229, 233, 235, 189, 194, 204, 121, 119, 133, 124, 79, 90, 94, 67, 72, 140, 135, 130, 58, 55, 54, 30, 29, 30, 32, 32, 37, 37, 35, 37, 61, 56, 58, 90, 85, 89, 118, 114, 120, 132, 130, 137, 139, 138, 148, 144, 143, 155, 148, 148, 162, 115, 110, 117, 99, 96, 104, 82, 79, 87, 65, 62, 71, 46, 42, 50, 23, 21, 22, 8, 9, 9, 3, 4, 5, 10, 9, 11, 12, 9, 14, 19, 17, 22, 35, 33, 41, 62, 58, 71, 98, 92, 106, 115, 109, 124, 111, 103, 117, 102, 98, 110, 76, 71, 76, 84, 73, 77, 115, 107, 111, 153, 147, 149, 48, 44, 48, 40, 36, 38, 62, 56, 60, 91, 85, 88, 122, 116, 122, 140, 134, 143, 146, 142, 151, 149, 145, 155, 154, 152, 162, 159, 157, 166, 160, 159, 169, 110, 113, 125, 96, 96, 107, 83, 80, 88, 67, 65, 69, 50, 46, 52, 37, 34, 39, 28, 27, 31, 21, 21, 24, 13, 14, 15, 9, 9, 11, 5, 5, 6, 4, 4, 3, 6, 4, 5, 8, 5, 7, 10, 7, 9, 10, 8, 12, 69, 67, 72, 94, 91, 96, 90, 91, 97, 162, 158, 162, 129, 122, 131, 66, 61, 64, 88, 83, 88, 114, 109, 113, 133, 127, 132, 147, 140, 148, 158, 151, 160, 159, 156, 164, 161, 159, 169, 167, 164, 176, 168, 168, 179, 166, 167, 179, 130, 133, 145, 121, 121, 133, 110, 108, 120, 95, 93, 101, 77, 75, 82, 61, 58, 65, 50, 48, 53, 40, 39, 43, 32, 30, 34, 26, 23, 27, 19, 18, 21, 14, 14, 15, 12, 12, 12, 9, 8, 10, 6, 6, 6, 6, 5, 6, 45, 44, 50, 125, 123, 131, 162, 161, 166, 149, 146, 153, 101, 95, 101, 111, 105, 107, 131, 125, 129, 145, 138, 143, 152, 146, 151, 160, 153, 161, 166, 159, 168, 162, 159, 169, 160, 159, 172, 162, 162, 175, 160, 161, 176, 161, 163, 178, 144, 147, 158, 141, 140, 154, 134, 134, 147, 126, 124, 134, 111, 108, 118, 94, 91, 102, 79, 77, 86, 67, 64, 73, 57, 53, 62, 47, 44, 51, 39, 38, 43, 34, 33, 37, 31, 30, 33, 26, 26, 29, 22, 21, 25, 18, 18, 20, 26, 25, 30, 76, 74, 82, 120, 118, 126, 115, 111, 117, 131, 124, 127, 146, 139, 145, 154, 148, 154, 158, 152, 160, 160, 154, 163, 166, 160, 169, 169, 163, 172, 163, 161, 173, 157, 159, 173, 160, 162, 175, 161, 162, 178, 164, 166, 181, 149, 152, 164, 148, 148, 161, 146, 147, 162, 143, 144, 157, 139, 138, 152, 128, 125, 139, 114, 112, 124, 100, 98, 110, 88, 87, 99, 78, 77, 87, 72, 69, 79, 67, 65, 73, 65, 62, 69, 62, 59, 67, 64, 62, 69, 70, 67, 74, 81, 76, 83, 97, 92, 98, 118, 114, 119, 147, 141, 145, 158, 151, 157, 159, 153, 161, 164, 157, 167, 162, 157, 167, 160, 156, 166, 168, 164, 174, 167, 165, 177, 165, 165, 178, 164, 166, 180, 165, 168, 183, 166, 168, 184, 172, 174, 187, 150, 154, 168, 151, 155, 168, 157, 158, 173, 158, 158, 173, 153, 153, 168, 148, 148, 163, 141, 140, 155, 131, 130, 145, 126, 125, 139, 118, 116, 129, 109, 106, 118, 103, 100, 112, 99, 96, 107, 100, 95, 105, 107, 101, 110, 115, 109, 121, 123, 117, 128, 136, 129, 139, 153, 146, 155, 158, 152, 161, 160, 156, 165, 162, 156, 165, 164, 158, 164, 158, 154, 165, 157, 155, 168, 161, 160, 173, 163, 163, 178, 164, 164, 178, 165, 166, 180, 162, 164, 178, 163, 165, 179, 168, 170, 184], \"height\": 32, \"channels\": 3, \"width\": 32, \"type\": \"image\", \"id\": 140365507235920}, {\"format\": \"raw\", \"value\": [89, 95, 50, 83, 84, 43, 69, 70, 42, 64, 69, 39, 55, 63, 29, 64, 72, 36, 66, 75, 36, 72, 81, 38, 85, 93, 49, 84, 86, 43, 95, 92, 50, 88, 85, 40, 91, 92, 44, 81, 87, 44, 75, 85, 45, 83, 95, 55, 75, 84, 39, 76, 84, 34, 91, 98, 48, 97, 96, 53, 100, 90, 48, 108, 96, 51, 69, 75, 34, 78, 88, 46, 87, 90, 43, 89, 93, 44, 80, 88, 41, 77, 87, 47, 56, 63, 38, 28, 33, 19, 25, 28, 20, 11, 14, 6, 81, 81, 48, 74, 73, 43, 46, 49, 30, 64, 71, 47, 69, 75, 45, 51, 57, 26, 55, 61, 30, 60, 66, 36, 74, 81, 48, 95, 98, 60, 104, 102, 58, 101, 101, 50, 98, 101, 50, 74, 80, 40, 67, 77, 39, 79, 92, 50, 77, 85, 40, 79, 87, 39, 85, 90, 46, 86, 83, 47, 100, 89, 54, 111, 96, 59, 72, 70, 39, 69, 71, 39, 79, 78, 38, 83, 83, 42, 87, 89, 48, 82, 83, 45, 53, 55, 29, 27, 31, 16, 20, 27, 15, 16, 19, 7, 88, 86, 52, 68, 68, 36, 48, 52, 31, 63, 71, 45, 71, 77, 42, 71, 77, 40, 70, 76, 40, 68, 73, 43, 50, 58, 32, 67, 72, 39, 92, 94, 49, 102, 106, 52, 94, 101, 47, 78, 85, 42, 80, 90, 46, 75, 89, 40, 81, 91, 40, 86, 92, 41, 80, 81, 36, 73, 66, 30, 100, 85, 51, 112, 93, 59, 92, 85, 50, 82, 83, 42, 81, 83, 35, 82, 84, 36, 91, 92, 48, 84, 84, 50, 50, 48, 25, 33, 27, 13, 30, 23, 12, 40, 34, 22, 98, 100, 59, 74, 74, 37, 64, 68, 42, 63, 70, 41, 71, 77, 38, 81, 88, 41, 80, 87, 40, 89, 94, 55, 70, 78, 51, 56, 65, 32, 69, 74, 28, 102, 109, 54, 98, 106, 53, 73, 80, 32, 81, 93, 40, 83, 97, 42, 85, 94, 43, 88, 99, 48, 88, 102, 52, 92, 98, 58, 100, 96, 62, 101, 93, 58, 84, 90, 45, 83, 98, 45, 77, 96, 40, 74, 91, 38, 78, 93, 50, 76, 90, 62, 57, 66, 46, 41, 45, 29, 32, 31, 13, 49, 43, 26, 82, 86, 48, 83, 82, 49, 52, 52, 31, 57, 60, 37, 81, 84, 53, 89, 95, 49, 88, 94, 45, 77, 82, 41, 97, 106, 77, 84, 95, 60, 85, 93, 44, 98, 107, 54, 92, 101, 54, 85, 92, 48, 78, 89, 42, 81, 94, 47, 79, 87, 50, 91, 94, 60, 101, 100, 66, 112, 104, 81, 118, 100, 85, 118, 95, 80, 107, 86, 64, 115, 102, 74, 101, 95, 67, 98, 90, 72, 104, 90, 82, 111, 93, 89, 103, 89, 84, 75, 68, 56, 53, 53, 31, 65, 60, 38, 80, 87, 49, 83, 82, 51, 45, 41, 26, 44, 42, 29, 60, 61, 40, 77, 79, 46, 92, 95, 52, 78, 80, 42, 67, 77, 45, 62, 74, 39, 82, 88, 43, 102, 107, 57, 99, 103, 61, 87, 94, 54, 81, 87, 53, 94, 93, 67, 101, 90, 78, 130, 102, 100, 153, 109, 111, 159, 108, 119, 173, 113, 128, 179, 112, 125, 178, 110, 121, 176, 111, 122, 160, 96, 114, 157, 94, 122, 169, 97, 134, 162, 99, 130, 143, 94, 120, 122, 93, 104, 97, 82, 67, 107, 98, 75, 89, 95, 51, 93, 90, 54, 63, 56, 39, 36, 32, 22, 44, 47, 30, 50, 53, 28, 82, 87, 44, 86, 90, 49, 64, 73, 39, 62, 71, 41, 77, 80, 42, 114, 112, 62, 107, 101, 60, 86, 83, 55, 101, 86, 79, 132, 97, 104, 157, 103, 125, 177, 107, 142, 189, 111, 147, 199, 114, 152, 204, 113, 149, 209, 112, 143, 206, 109, 138, 196, 102, 137, 171, 91, 131, 152, 102, 140, 162, 108, 153, 142, 108, 153, 137, 112, 158, 133, 121, 154, 118, 104, 99, 100, 89, 63, 102, 98, 56, 101, 89, 55, 87, 70, 54, 42, 34, 24, 52, 59, 40, 43, 51, 25, 66, 77, 32, 79, 90, 44, 66, 76, 46, 70, 77, 51, 90, 94, 49, 116, 115, 57, 104, 100, 60, 88, 92, 85, 92, 86, 105, 99, 79, 107, 108, 75, 112, 112, 72, 116, 111, 68, 105, 115, 69, 99, 120, 71, 99, 125, 71, 102, 156, 74, 111, 177, 95, 137, 135, 101, 141, 106, 114, 146, 123, 135, 170, 120, 130, 171, 114, 129, 172, 134, 148, 184, 133, 123, 129, 88, 71, 45, 112, 103, 65, 96, 81, 50, 87, 69, 50, 55, 45, 33, 38, 40, 24, 59, 63, 41, 74, 82, 42, 80, 88, 49, 73, 81, 54, 69, 77, 45, 89, 96, 44, 108, 111, 56, 134, 135, 108, 122, 137, 145, 68, 82, 111, 45, 56, 85, 45, 54, 85, 54, 59, 98, 47, 50, 81, 51, 57, 72, 73, 77, 93, 48, 53, 79, 81, 56, 87, 139, 109, 147, 117, 128, 168, 100, 116, 161, 124, 137, 183, 142, 143, 191, 116, 129, 173, 137, 157, 193, 143, 137, 151, 125, 102, 84, 116, 112, 72, 98, 88, 55, 82, 73, 49, 79, 69, 54, 67, 54, 48, 80, 69, 58, 89, 84, 56, 77, 74, 48, 70, 74, 42, 87, 96, 55, 106, 115, 69, 118, 124, 88, 165, 165, 162, 119, 118, 130, 77, 75, 101, 49, 50, 73, 51, 54, 75, 46, 50, 85, 36, 42, 77, 49, 57, 78, 65, 72, 92, 44, 52, 79, 85, 61, 95, 130, 109, 151, 112, 129, 173, 101, 111, 159, 111, 122, 165, 139, 144, 187, 120, 126, 165, 118, 125, 160, 142, 120, 142, 177, 142, 139, 103, 98, 57, 90, 80, 48, 84, 77, 49, 101, 91, 70, 142, 121, 112, 138, 121, 107, 112, 101, 73, 77, 69, 43, 77, 79, 44, 86, 93, 59, 102, 109, 84, 153, 160, 145, 138, 145, 149, 91, 99, 104, 61, 69, 85, 44, 54, 69, 58, 70, 84, 37, 49, 77, 26, 38, 72, 28, 39, 68, 35, 44, 67, 44, 47, 66, 107, 69, 101, 140, 117, 157, 112, 121, 161, 79, 84, 121, 72, 89, 114, 96, 125, 146, 101, 100, 125, 108, 76, 111, 169, 97, 130, 198, 132, 147, 111, 94, 58, 97, 78, 50, 101, 87, 60, 106, 93, 66, 146, 130, 105, 150, 138, 109, 131, 126, 83, 103, 103, 62, 88, 90, 59, 68, 71, 59, 121, 125, 125, 162, 170, 165, 111, 123, 121, 88, 103, 110, 55, 67, 90, 45, 55, 81, 46, 54, 82, 33, 43, 75, 29, 40, 72, 26, 31, 69, 58, 60, 86, 114, 106, 116, 130, 90, 113, 128, 121, 149, 98, 105, 135, 63, 69, 88, 64, 67, 79, 102, 93, 114, 145, 88, 115, 194, 97, 138, 235, 106, 149, 214, 113, 141, 119, 87, 55, 98, 77, 46, 108, 96, 63, 115, 101, 70, 136, 124, 96, 130, 120, 86, 122, 118, 75, 99, 102, 62, 66, 68, 40, 70, 69, 63, 143, 145, 154, 123, 131, 138, 101, 112, 115, 103, 112, 126, 85, 93, 117, 51, 60, 87, 37, 46, 75, 31, 38, 69, 33, 38, 69, 30, 31, 67, 89, 88, 113, 160, 145, 157, 138, 88, 109, 99, 92, 112, 103, 107, 129, 96, 91, 104, 114, 70, 86, 191, 90, 126, 223, 99, 133, 232, 99, 134, 242, 79, 121, 212, 86, 121, 125, 86, 56, 104, 79, 47, 104, 89, 54, 132, 108, 79, 148, 123, 100, 103, 96, 62, 77, 80, 45, 71, 70, 43, 76, 58, 42, 106, 80, 79, 105, 81, 98, 101, 81, 105, 96, 79, 99, 86, 70, 89, 72, 60, 80, 59, 51, 73, 58, 55, 78, 46, 42, 65, 42, 36, 61, 37, 34, 59, 77, 73, 94, 117, 101, 117, 129, 79, 100, 96, 73, 90, 120, 90, 113, 161, 90, 116, 214, 86, 118, 253, 72, 115, 235, 73, 102, 211, 70, 88, 223, 62, 89, 211, 95, 124, 118, 81, 51, 116, 80, 53, 104, 80, 51, 112, 85, 57, 132, 112, 79, 96, 95, 58, 66, 54, 28, 95, 47, 44, 157, 72, 88, 192, 94, 124, 188, 88, 131, 193, 94, 140, 190, 92, 134, 178, 87, 124, 160, 73, 110, 158, 74, 112, 160, 81, 119, 150, 78, 111, 136, 76, 102, 125, 70, 97, 126, 72, 98, 147, 88, 110, 164, 85, 109, 138, 56, 82, 169, 71, 99, 230, 81, 115, 234, 65, 92, 237, 55, 77, 238, 62, 80, 233, 67, 84, 222, 77, 94, 173, 97, 113, 130, 94, 66, 123, 89, 64, 94, 76, 50, 83, 72, 41, 119, 111, 70, 115, 84, 59, 136, 61, 64, 190, 71, 100, 221, 86, 127, 229, 94, 140, 233, 94, 148, 236, 93, 147, 239, 95, 144, 239, 94, 141, 237, 93, 140, 234, 91, 139, 230, 91, 138, 232, 93, 134, 230, 93, 128, 222, 91, 129, 220, 92, 130, 224, 95, 129, 228, 87, 123, 231, 79, 115, 230, 74, 102, 240, 65, 89, 215, 60, 69, 218, 59, 64, 237, 60, 74, 226, 62, 82, 140, 49, 57, 95, 69, 78, 127, 95, 67, 112, 86, 61, 81, 69, 45, 95, 76, 52, 142, 93, 72, 176, 76, 83, 215, 76, 108, 234, 84, 127, 236, 87, 133, 238, 86, 136, 240, 85, 137, 244, 84, 136, 245, 83, 133, 244, 85, 131, 243, 86, 130, 243, 86, 130, 243, 88, 131, 247, 87, 125, 248, 85, 121, 244, 87, 126, 246, 91, 129, 249, 92, 126, 250, 84, 117, 251, 69, 100, 242, 59, 82, 232, 59, 76, 210, 68, 74, 217, 60, 69, 212, 57, 72, 170, 60, 74, 71, 42, 44, 70, 67, 78, 129, 101, 72, 123, 96, 74, 111, 78, 64, 132, 64, 64, 193, 75, 93, 228, 77, 115, 240, 76, 124, 234, 83, 127, 235, 85, 128, 239, 82, 126, 241, 82, 126, 243, 82, 126, 245, 81, 127, 249, 80, 128, 250, 80, 126, 251, 84, 128, 253, 85, 127, 246, 83, 120, 241, 88, 122, 243, 92, 128, 243, 93, 125, 244, 89, 116, 243, 75, 96, 241, 61, 77, 246, 54, 71, 228, 65, 83, 203, 80, 90, 192, 61, 67, 200, 48, 67, 165, 77, 89, 106, 99, 100, 120, 110, 119, 113, 91, 62, 139, 105, 88, 145, 74, 77, 181, 61, 85, 227, 75, 115, 230, 75, 121, 236, 74, 123, 242, 74, 120, 246, 74, 118, 244, 74, 117, 244, 74, 118, 247, 75, 120, 247, 76, 121, 243, 80, 121, 241, 81, 121, 244, 83, 121, 245, 82, 118, 245, 83, 120, 247, 89, 128, 245, 89, 128, 244, 85, 120, 245, 79, 105, 245, 64, 82, 239, 59, 68, 240, 55, 68, 203, 66, 80, 183, 64, 80, 204, 47, 60, 202, 42, 63, 170, 106, 111, 162, 160, 159, 178, 149, 153, 133, 106, 88, 169, 135, 124, 168, 109, 117, 189, 81, 109, 223, 63, 102, 224, 62, 101, 232, 64, 103, 241, 64, 104, 252, 64, 104, 246, 68, 107, 245, 70, 113, 252, 70, 115, 251, 72, 111, 244, 78, 106, 239, 81, 109, 243, 77, 111, 245, 81, 114, 245, 87, 122, 250, 86, 126, 253, 85, 126, 243, 79, 119, 235, 68, 89, 243, 57, 77, 222, 59, 72, 205, 61, 68, 192, 56, 66, 204, 49, 65, 229, 42, 58, 198, 50, 67, 154, 108, 116, 164, 161, 161, 194, 168, 161, 199, 162, 157, 189, 170, 162, 150, 133, 135, 170, 118, 134, 183, 65, 90, 178, 41, 70, 196, 49, 81, 201, 53, 83, 223, 50, 81, 227, 55, 80, 232, 59, 86, 236, 65, 94, 229, 79, 103, 230, 77, 107, 234, 72, 110, 241, 80, 119, 243, 87, 120, 245, 87, 121, 245, 91, 123, 231, 83, 116, 154, 46, 70, 158, 38, 49, 214, 60, 71, 199, 60, 67, 202, 52, 62, 216, 50, 66, 224, 52, 70, 210, 55, 68, 152, 57, 62, 122, 105, 106, 164, 155, 153, 203, 174, 162, 189, 174, 170, 164, 156, 154, 108, 93, 101, 142, 98, 116, 150, 73, 92, 96, 24, 40, 108, 39, 52, 140, 63, 77, 153, 45, 69, 165, 43, 63, 183, 47, 64, 203, 81, 101, 216, 140, 159, 211, 132, 156, 208, 118, 145, 230, 148, 168, 233, 107, 132, 250, 76, 113, 244, 81, 113, 175, 73, 91, 56, 28, 33, 72, 17, 18, 182, 53, 58, 202, 55, 63, 215, 51, 65, 223, 51, 67, 204, 49, 65, 126, 32, 40, 68, 32, 25, 82, 91, 79, 163, 145, 136, 196, 157, 141, 177, 165, 170, 134, 129, 135, 63, 50, 63, 91, 50, 70, 123, 47, 72, 84, 18, 38, 73, 28, 39, 101, 75, 79, 64, 37, 50, 64, 24, 35, 112, 41, 51, 189, 127, 144, 202, 188, 205, 196, 183, 191, 198, 181, 186, 230, 223, 218, 228, 136, 148, 241, 66, 102, 213, 67, 95, 128, 79, 84, 64, 65, 67, 66, 30, 33, 188, 45, 58, 229, 52, 70, 219, 52, 67, 200, 64, 68, 159, 73, 69, 75, 37, 36, 58, 40, 30, 83, 76, 62, 152, 124, 107, 163, 125, 101, 194, 167, 183, 124, 119, 132, 37, 40, 50, 50, 41, 52, 82, 50, 65, 98, 55, 72, 99, 54, 70, 105, 64, 77, 82, 37, 49, 75, 23, 30, 119, 36, 46, 192, 104, 123, 192, 135, 155, 182, 127, 144, 197, 129, 150, 207, 148, 162, 190, 98, 113, 185, 61, 87, 131, 69, 78, 97, 85, 85, 113, 96, 108, 112, 52, 63, 212, 55, 75, 237, 57, 78, 203, 66, 73, 194, 126, 109, 189, 166, 142, 186, 169, 154, 180, 149, 131, 156, 118, 104, 154, 121, 96, 149, 119, 86, 135, 126, 137, 67, 71, 83, 25, 25, 35, 30, 23, 31, 79, 73, 80, 123, 122, 126, 119, 115, 118, 124, 109, 114, 121, 86, 92, 109, 83, 84, 91, 57, 63, 97, 55, 66, 100, 66, 75, 104, 61, 74, 116, 63, 85, 131, 79, 103, 122, 77, 94, 100, 68, 81, 82, 74, 77, 109, 104, 108, 175, 161, 171, 159, 94, 103, 203, 68, 82, 195, 100, 97, 192, 148, 129, 204, 175, 150, 218, 189, 166, 206, 181, 155, 172, 139, 107, 162, 120, 96, 145, 116, 84, 136, 111, 72, 50, 56, 70, 30, 39, 53, 24, 26, 38, 15, 11, 20, 50, 45, 50, 117, 111, 115, 137, 132, 133, 162, 159, 158, 157, 142, 148, 148, 144, 152, 63, 64, 75, 59, 57, 69, 64, 60, 68, 72, 63, 71, 80, 75, 85, 95, 86, 101, 83, 75, 89, 63, 67, 75, 77, 71, 79, 132, 124, 133, 185, 182, 187, 161, 123, 122, 182, 119, 112, 196, 161, 142, 198, 179, 152, 209, 185, 157, 199, 168, 140, 156, 127, 92, 143, 117, 76, 141, 111, 77, 144, 118, 82, 140, 114, 76, 31, 39, 60, 31, 37, 56, 26, 30, 48, 20, 20, 33, 22, 16, 21, 47, 38, 41, 62, 53, 54, 81, 74, 74, 103, 96, 101, 114, 110, 117, 42, 39, 47, 35, 32, 40, 41, 37, 44, 51, 42, 53, 63, 58, 68, 69, 66, 74, 66, 64, 72, 65, 64, 68, 76, 71, 76, 134, 128, 136, 180, 171, 173, 163, 142, 134, 190, 163, 147, 203, 181, 158, 210, 180, 154, 186, 152, 121, 158, 131, 94, 139, 114, 74, 136, 111, 71, 143, 117, 81, 152, 127, 92, 145, 117, 84, 31, 34, 52, 26, 29, 47, 27, 30, 49, 25, 26, 41, 21, 18, 25, 16, 14, 18, 20, 18, 20, 26, 23, 24, 29, 28, 31, 37, 37, 41, 28, 27, 32, 27, 27, 31, 35, 34, 38, 41, 36, 43, 61, 55, 63, 62, 59, 66, 58, 58, 65, 66, 65, 67, 74, 71, 70, 130, 126, 128, 165, 154, 151, 158, 141, 127, 205, 183, 162, 219, 195, 170, 188, 147, 122, 160, 117, 87, 149, 121, 82, 139, 112, 73, 139, 112, 74, 144, 116, 82, 149, 121, 88, 145, 118, 87, 83, 78, 91, 43, 43, 57, 26, 28, 45, 17, 19, 34, 12, 13, 21, 9, 9, 15, 11, 12, 16, 13, 14, 17, 15, 16, 19, 23, 24, 27, 29, 30, 33, 36, 37, 40, 47, 48, 50, 49, 46, 49, 58, 55, 59, 65, 63, 68, 64, 62, 69, 61, 59, 62, 71, 68, 68, 115, 110, 114, 135, 124, 122, 175, 157, 145, 215, 194, 170, 178, 149, 122, 166, 115, 91, 149, 102, 72, 139, 112, 73, 153, 124, 87, 157, 128, 93, 149, 118, 86, 147, 117, 86, 148, 120, 90, 166, 156, 165, 134, 127, 138, 93, 89, 102, 59, 57, 70, 32, 32, 40, 13, 13, 19, 3, 3, 8, 1, 1, 5, 4, 4, 6, 5, 5, 7, 7, 7, 9, 11, 11, 13, 18, 17, 19, 29, 25, 25, 44, 39, 39, 50, 45, 46, 55, 49, 51, 43, 36, 37, 67, 58, 63, 92, 82, 90, 120, 104, 106, 186, 162, 153, 186, 159, 134, 160, 127, 97, 166, 116, 89, 146, 101, 68, 136, 111, 71, 157, 130, 94, 156, 127, 94, 155, 126, 95, 145, 116, 86, 141, 116, 86, 178, 166, 173, 175, 164, 172, 169, 158, 166, 152, 143, 151, 124, 118, 126, 99, 93, 99, 74, 68, 72, 51, 45, 48, 33, 29, 30, 19, 16, 17, 12, 9, 10, 8, 5, 6, 7, 4, 5, 14, 7, 6, 45, 37, 34, 89, 80, 73, 70, 60, 52, 43, 31, 24, 66, 52, 50, 94, 79, 80, 136, 115, 111, 179, 149, 134, 174, 134, 107, 155, 121, 87, 156, 118, 84, 145, 108, 72, 143, 119, 79, 151, 127, 91, 150, 125, 91, 151, 125, 94, 144, 118, 88, 142, 119, 89, 178, 165, 172, 176, 162, 167, 176, 160, 164, 174, 159, 162, 173, 160, 167, 171, 158, 163, 160, 148, 150, 147, 135, 136, 130, 120, 123, 113, 105, 107, 99, 91, 94, 89, 80, 83, 85, 76, 78, 91, 81, 80, 124, 112, 106, 173, 160, 147, 160, 145, 127, 152, 135, 116, 147, 130, 113, 139, 120, 106, 159, 135, 115, 166, 133, 104, 175, 127, 97, 154, 121, 85, 141, 118, 77, 141, 115, 75, 137, 116, 76, 139, 118, 83, 142, 120, 88, 140, 119, 87, 140, 119, 89, 134, 114, 85], \"height\": 32, \"channels\": 3, \"width\": 32, \"type\": \"image\", \"id\": 140365507236240}], \"selected_variable\": {\"name\": [\"<SArray>\"], \"dtype\": \"Image\", \"view_component\": \"Images\", \"view_file\": \"sarray\", \"descriptives\": {\"rows\": 5}, \"type\": \"SArray\", \"view_components\": [\"Images\"]}}, e);\n",
       "                });\n",
       "            })();\n",
       "        "
      ]
     },
     "metadata": {},
     "output_type": "display_data"
    }
   ],
   "source": [
    "show_neighbors(8)"
   ]
  },
  {
   "cell_type": "code",
   "execution_count": 112,
   "metadata": {
    "collapsed": false
   },
   "outputs": [
    {
     "name": "stdout",
     "output_type": "stream",
     "text": [
      "PROGRESS: Starting pairwise querying.\n",
      "PROGRESS: +--------------+---------+-------------+--------------+\n",
      "PROGRESS: | Query points | # Pairs | % Complete. | Elapsed Time |\n",
      "PROGRESS: +--------------+---------+-------------+--------------+\n",
      "PROGRESS: | 0            | 1       | 0.0498753   | 7.509ms      |\n",
      "PROGRESS: | Done         |         | 100         | 111.73ms     |\n",
      "PROGRESS: +--------------+---------+-------------+--------------+\n"
     ]
    },
    {
     "data": {
      "application/javascript": [
       "$(\"head\").append($(\"<link/>\").attr({\n",
       "  rel:  \"stylesheet\",\n",
       "  type: \"text/css\",\n",
       "  href: \"//cdnjs.cloudflare.com/ajax/libs/font-awesome/4.1.0/css/font-awesome.min.css\"\n",
       "}));\n",
       "$(\"head\").append($(\"<link/>\").attr({\n",
       "  rel:  \"stylesheet\",\n",
       "  type: \"text/css\",\n",
       "  href: \"//dato.com/files/canvas/1.8.1/css/canvas.css\"\n",
       "}));\n",
       "\n",
       "            (function(){\n",
       "\n",
       "                var e = null;\n",
       "                if (typeof element == 'undefined') {\n",
       "                    var scripts = document.getElementsByTagName('script');\n",
       "                    var thisScriptTag = scripts[scripts.length-1];\n",
       "                    var parentDiv = thisScriptTag.parentNode;\n",
       "                    e = document.createElement('div');\n",
       "                    parentDiv.appendChild(e);\n",
       "                } else {\n",
       "                    e = element[0];\n",
       "                }\n",
       "\n",
       "                if (typeof requirejs !== 'undefined') {\n",
       "                    // disable load timeout; ipython_app.js is large and can take a while to load.\n",
       "                    requirejs.config({waitSeconds: 0});\n",
       "                }\n",
       "\n",
       "                require(['//dato.com/files/canvas/1.8.1/js/ipython_app.js'], function(IPythonApp){\n",
       "                    var app = new IPythonApp();\n",
       "                    app.attachView('sarray','Images', {\"ipython\": true, \"rows\": [{\"format\": \"raw\", \"value\": [96, 74, 72, 78, 73, 65, 92, 79, 73, 96, 84, 78, 89, 85, 76, 99, 92, 84, 112, 97, 92, 116, 99, 93, 101, 92, 83, 97, 96, 84, 105, 100, 96, 102, 93, 91, 106, 95, 91, 112, 99, 93, 109, 94, 87, 106, 88, 81, 116, 96, 89, 119, 99, 92, 115, 95, 89, 120, 100, 94, 124, 105, 98, 109, 96, 87, 94, 82, 73, 96, 84, 75, 111, 99, 90, 97, 85, 76, 85, 70, 62, 103, 86, 78, 103, 86, 78, 96, 79, 71, 94, 77, 69, 102, 86, 79, 124, 71, 79, 89, 72, 68, 87, 73, 68, 83, 75, 68, 79, 79, 68, 90, 86, 77, 100, 89, 83, 113, 98, 93, 112, 100, 94, 101, 93, 87, 100, 91, 86, 100, 88, 83, 111, 98, 91, 132, 117, 108, 119, 102, 92, 107, 88, 79, 126, 106, 99, 137, 117, 110, 113, 93, 86, 113, 93, 86, 117, 98, 90, 101, 87, 78, 111, 98, 89, 113, 100, 91, 111, 97, 88, 100, 87, 78, 103, 87, 78, 104, 86, 78, 104, 87, 79, 100, 83, 75, 105, 88, 80, 110, 94, 87, 130, 61, 74, 130, 68, 79, 94, 68, 67, 76, 63, 57, 80, 68, 61, 82, 77, 68, 89, 81, 74, 106, 94, 91, 114, 100, 100, 109, 95, 95, 108, 97, 93, 104, 92, 85, 115, 101, 93, 137, 121, 111, 108, 89, 79, 103, 84, 74, 115, 95, 88, 125, 105, 98, 111, 91, 85, 102, 82, 75, 110, 91, 84, 109, 93, 85, 115, 101, 92, 114, 99, 90, 113, 99, 90, 114, 99, 91, 117, 101, 92, 105, 88, 80, 108, 91, 83, 96, 79, 71, 98, 81, 73, 102, 87, 79, 106, 66, 69, 134, 59, 74, 132, 64, 77, 104, 65, 68, 86, 67, 63, 87, 76, 67, 86, 78, 71, 93, 85, 83, 93, 82, 85, 85, 72, 77, 101, 91, 90, 111, 102, 98, 111, 100, 94, 118, 103, 96, 106, 90, 82, 111, 92, 84, 114, 94, 87, 112, 92, 85, 109, 89, 82, 97, 77, 70, 110, 91, 83, 123, 105, 97, 115, 98, 90, 119, 101, 94, 113, 95, 88, 114, 97, 89, 120, 103, 95, 98, 81, 73, 103, 86, 78, 92, 75, 67, 96, 78, 70, 101, 85, 78, 87, 79, 72, 106, 65, 69, 133, 57, 73, 132, 69, 80, 109, 76, 75, 99, 78, 72, 87, 76, 71, 72, 68, 67, 50, 46, 51, 47, 41, 49, 69, 65, 68, 82, 77, 78, 87, 80, 79, 88, 79, 75, 92, 81, 76, 110, 94, 88, 119, 98, 91, 110, 90, 83, 105, 85, 78, 98, 78, 71, 110, 90, 83, 125, 106, 99, 118, 98, 91, 117, 98, 91, 109, 90, 83, 107, 88, 81, 111, 93, 85, 96, 79, 71, 110, 93, 85, 100, 83, 75, 102, 85, 77, 109, 93, 86, 85, 72, 66, 80, 73, 65, 90, 66, 64, 121, 61, 71, 131, 73, 80, 101, 71, 68, 65, 52, 49, 42, 41, 40, 32, 33, 38, 38, 38, 46, 44, 45, 51, 50, 51, 55, 55, 54, 57, 55, 52, 53, 70, 64, 64, 97, 84, 80, 108, 88, 82, 103, 83, 76, 111, 91, 84, 111, 91, 84, 109, 90, 83, 116, 97, 91, 120, 101, 94, 114, 94, 87, 112, 92, 85, 107, 88, 81, 108, 90, 82, 107, 90, 82, 116, 99, 91, 108, 91, 83, 108, 91, 82, 111, 96, 88, 87, 72, 67, 80, 77, 68, 80, 79, 69, 93, 65, 64, 100, 62, 65, 79, 58, 57, 53, 41, 42, 37, 35, 38, 34, 36, 44, 39, 42, 52, 30, 36, 42, 34, 39, 43, 45, 47, 50, 43, 43, 45, 54, 52, 52, 88, 78, 79, 99, 81, 81, 104, 85, 80, 119, 100, 93, 120, 105, 98, 109, 97, 92, 107, 94, 92, 121, 106, 104, 99, 83, 80, 98, 80, 75, 106, 88, 81, 110, 93, 84, 124, 107, 98, 130, 113, 104, 115, 98, 89, 108, 91, 82, 108, 92, 83, 86, 77, 70, 82, 73, 66, 82, 72, 65, 82, 73, 66, 79, 69, 64, 74, 61, 61, 61, 52, 55, 45, 41, 47, 33, 33, 43, 33, 37, 48, 24, 30, 37, 28, 35, 38, 40, 43, 46, 38, 39, 40, 39, 39, 37, 79, 72, 75, 109, 94, 97, 119, 100, 96, 130, 111, 103, 125, 112, 105, 118, 110, 105, 126, 116, 114, 118, 105, 104, 98, 84, 81, 94, 79, 75, 105, 88, 83, 104, 87, 80, 124, 107, 98, 146, 129, 121, 125, 108, 100, 105, 88, 80, 110, 93, 85, 85, 76, 69, 86, 77, 70, 94, 84, 77, 90, 81, 74, 92, 81, 77, 74, 63, 62, 50, 43, 45, 39, 36, 42, 32, 34, 44, 39, 43, 54, 31, 38, 45, 30, 36, 41, 36, 39, 43, 33, 33, 36, 33, 33, 33, 62, 54, 57, 115, 99, 100, 128, 108, 102, 119, 98, 89, 116, 99, 91, 113, 99, 93, 136, 118, 111, 125, 107, 100, 99, 82, 75, 107, 90, 85, 111, 95, 91, 102, 85, 79, 101, 84, 76, 125, 108, 100, 120, 103, 95, 104, 87, 79, 117, 100, 92, 90, 81, 74, 89, 80, 73, 92, 83, 76, 90, 81, 73, 87, 78, 73, 72, 62, 61, 45, 40, 41, 27, 26, 31, 26, 29, 38, 41, 47, 58, 50, 57, 66, 55, 61, 68, 46, 49, 55, 29, 29, 34, 33, 32, 35, 54, 48, 51, 103, 90, 90, 123, 104, 98, 118, 95, 87, 114, 95, 87, 107, 91, 84, 116, 95, 86, 121, 100, 90, 115, 96, 89, 120, 103, 98, 109, 93, 89, 97, 81, 75, 95, 78, 71, 102, 85, 79, 114, 97, 90, 113, 95, 89, 114, 97, 90, 94, 85, 78, 91, 82, 75, 89, 80, 73, 91, 82, 75, 88, 80, 74, 81, 74, 72, 50, 47, 47, 22, 23, 27, 25, 31, 39, 55, 63, 73, 65, 72, 82, 84, 90, 99, 47, 49, 57, 25, 25, 31, 35, 33, 38, 67, 65, 70, 89, 83, 85, 99, 85, 82, 110, 91, 85, 118, 100, 96, 116, 100, 98, 112, 95, 89, 122, 105, 99, 123, 106, 101, 122, 105, 100, 108, 92, 87, 99, 82, 78, 106, 88, 85, 107, 89, 85, 118, 100, 96, 121, 103, 99, 119, 101, 96, 93, 84, 77, 90, 81, 74, 88, 79, 72, 91, 81, 74, 89, 81, 75, 86, 81, 78, 58, 57, 56, 29, 31, 36, 34, 41, 49, 90, 99, 109, 80, 88, 99, 104, 109, 120, 54, 56, 66, 25, 24, 32, 40, 39, 45, 85, 88, 95, 79, 83, 89, 58, 52, 54, 73, 60, 59, 94, 81, 83, 106, 96, 101, 114, 107, 111, 123, 117, 118, 107, 96, 95, 108, 93, 89, 113, 95, 89, 113, 94, 91, 113, 95, 94, 113, 95, 94, 120, 102, 100, 123, 105, 104, 124, 106, 103, 88, 79, 72, 81, 72, 65, 82, 73, 66, 90, 81, 74, 89, 82, 76, 77, 73, 70, 68, 67, 67, 81, 85, 89, 68, 76, 84, 101, 112, 121, 130, 138, 150, 116, 121, 133, 53, 55, 66, 29, 29, 38, 49, 48, 56, 107, 114, 125, 95, 107, 117, 42, 43, 49, 42, 36, 41, 48, 40, 48, 73, 69, 81, 114, 119, 132, 134, 138, 148, 113, 108, 112, 112, 98, 95, 122, 103, 96, 118, 98, 95, 105, 87, 87, 114, 96, 95, 115, 97, 96, 110, 92, 92, 117, 99, 96, 85, 75, 66, 81, 71, 62, 86, 75, 67, 95, 84, 76, 92, 84, 77, 74, 69, 64, 64, 63, 62, 137, 140, 145, 162, 169, 179, 157, 167, 179, 176, 183, 193, 140, 145, 155, 103, 106, 116, 60, 61, 72, 58, 59, 70, 151, 160, 173, 123, 137, 150, 43, 48, 59, 42, 42, 53, 35, 36, 47, 100, 106, 119, 171, 183, 198, 141, 149, 162, 105, 103, 108, 124, 112, 109, 124, 105, 96, 119, 99, 93, 101, 83, 80, 110, 91, 88, 110, 90, 86, 110, 89, 84, 115, 94, 87, 91, 78, 69, 95, 82, 73, 95, 83, 74, 100, 87, 78, 99, 89, 81, 91, 85, 79, 77, 74, 73, 154, 155, 161, 201, 206, 218, 204, 211, 226, 197, 203, 210, 200, 204, 210, 187, 190, 200, 117, 120, 132, 111, 115, 127, 198, 207, 219, 152, 164, 175, 50, 55, 67, 51, 54, 67, 52, 60, 71, 138, 152, 162, 185, 200, 214, 91, 100, 112, 44, 44, 49, 94, 84, 81, 122, 105, 97, 110, 93, 87, 98, 82, 78, 109, 92, 86, 116, 96, 89, 116, 93, 84, 112, 89, 79, 101, 88, 79, 99, 86, 78, 96, 83, 74, 102, 89, 80, 107, 96, 87, 128, 121, 114, 96, 92, 90, 133, 133, 138, 197, 201, 212, 209, 214, 228, 219, 218, 227, 217, 216, 223, 188, 188, 198, 135, 137, 149, 186, 190, 202, 224, 235, 245, 150, 161, 171, 52, 57, 69, 54, 57, 69, 66, 74, 85, 133, 147, 157, 131, 143, 156, 40, 48, 59, 23, 24, 29, 43, 35, 35, 104, 92, 87, 121, 108, 105, 105, 93, 92, 106, 92, 90, 113, 96, 92, 101, 83, 77, 114, 96, 88, 105, 92, 83, 99, 86, 77, 101, 88, 79, 106, 92, 83, 100, 88, 79, 118, 109, 100, 101, 95, 91, 122, 121, 124, 197, 200, 210, 212, 214, 228, 226, 217, 228, 231, 222, 232, 218, 214, 226, 197, 198, 211, 218, 224, 236, 214, 225, 235, 111, 120, 129, 41, 44, 55, 49, 50, 62, 56, 63, 73, 67, 78, 87, 63, 72, 82, 36, 42, 51, 28, 30, 35, 25, 22, 24, 62, 56, 56, 105, 100, 102, 97, 91, 95, 83, 76, 78, 92, 82, 82, 84, 72, 71, 106, 92, 88, 104, 91, 82, 103, 90, 81, 106, 93, 84, 116, 103, 94, 112, 99, 89, 104, 93, 83, 103, 95, 90, 117, 114, 115, 179, 180, 189, 209, 209, 222, 225, 207, 220, 220, 201, 214, 213, 203, 217, 220, 219, 232, 223, 230, 241, 187, 196, 206, 71, 78, 86, 33, 34, 44, 37, 36, 47, 39, 43, 52, 28, 37, 44, 32, 38, 46, 36, 41, 48, 32, 35, 42, 29, 31, 37, 41, 42, 48, 93, 95, 103, 102, 104, 114, 91, 91, 99, 89, 87, 93, 60, 56, 61, 71, 63, 63, 105, 92, 83, 102, 89, 80, 109, 96, 87, 126, 113, 104, 119, 106, 95, 94, 81, 70, 92, 82, 76, 95, 90, 90, 167, 167, 173, 203, 200, 212, 206, 180, 196, 186, 158, 175, 201, 186, 201, 230, 228, 240, 212, 220, 231, 143, 154, 162, 40, 45, 51, 30, 29, 37, 30, 28, 36, 27, 30, 37, 22, 28, 34, 28, 31, 37, 35, 37, 44, 40, 44, 52, 35, 42, 51, 49, 57, 68, 116, 125, 138, 140, 149, 164, 133, 140, 153, 114, 118, 130, 70, 72, 83, 65, 62, 67, 120, 107, 98, 109, 96, 87, 117, 104, 95, 115, 103, 93, 104, 90, 79, 92, 78, 66, 88, 77, 70, 102, 96, 95, 179, 178, 183, 201, 196, 207, 185, 153, 170, 194, 161, 179, 234, 216, 233, 222, 220, 233, 194, 204, 214, 133, 143, 150, 71, 75, 80, 62, 60, 67, 35, 31, 38, 22, 24, 30, 20, 26, 29, 26, 26, 30, 35, 36, 41, 40, 46, 54, 35, 44, 56, 79, 91, 106, 158, 172, 190, 175, 189, 207, 165, 177, 194, 145, 153, 169, 109, 117, 131, 84, 85, 93, 126, 112, 101, 111, 97, 87, 112, 98, 88, 107, 93, 83, 101, 88, 77, 97, 85, 75, 104, 95, 89, 162, 156, 155, 199, 198, 202, 172, 168, 174, 154, 129, 138, 193, 171, 184, 230, 223, 239, 204, 206, 220, 181, 187, 195, 161, 167, 173, 146, 151, 157, 117, 118, 126, 42, 42, 50, 20, 23, 31, 21, 26, 32, 28, 28, 33, 34, 37, 43, 50, 57, 67, 52, 64, 77, 117, 132, 148, 201, 218, 235, 197, 213, 230, 189, 203, 220, 185, 198, 213, 141, 153, 168, 98, 102, 110, 125, 109, 96, 116, 100, 88, 115, 100, 87, 105, 90, 77, 102, 89, 79, 110, 100, 93, 120, 113, 107, 186, 182, 178, 204, 203, 202, 134, 131, 130, 123, 110, 109, 196, 192, 198, 211, 219, 232, 182, 190, 203, 160, 159, 162, 147, 145, 148, 149, 153, 161, 145, 148, 156, 68, 71, 79, 21, 25, 33, 26, 30, 37, 32, 35, 41, 46, 49, 57, 122, 128, 139, 128, 138, 151, 159, 172, 186, 213, 226, 240, 207, 220, 233, 201, 214, 227, 191, 204, 216, 161, 174, 187, 119, 123, 130, 128, 112, 99, 124, 108, 95, 118, 102, 89, 114, 98, 85, 116, 101, 89, 121, 108, 97, 115, 104, 95, 128, 119, 112, 143, 136, 131, 117, 110, 106, 108, 99, 95, 185, 185, 189, 212, 221, 232, 175, 181, 191, 114, 109, 110, 107, 101, 101, 127, 126, 130, 128, 127, 131, 74, 73, 77, 32, 31, 35, 43, 42, 46, 56, 58, 63, 90, 92, 98, 162, 164, 170, 144, 146, 152, 149, 151, 157, 172, 177, 184, 179, 185, 193, 182, 188, 196, 164, 169, 177, 144, 150, 159, 114, 113, 116, 117, 101, 88, 125, 109, 96, 134, 118, 105, 134, 118, 105, 135, 118, 104, 128, 109, 94, 111, 94, 81, 102, 87, 76, 112, 99, 90, 121, 109, 102, 123, 115, 113, 201, 200, 204, 218, 222, 231, 147, 149, 155, 79, 72, 71, 84, 74, 71, 91, 82, 81, 94, 86, 84, 91, 83, 81, 76, 67, 66, 79, 73, 72, 104, 103, 107, 131, 130, 134, 120, 115, 116, 94, 85, 83, 100, 90, 86, 108, 102, 101, 124, 120, 121, 126, 123, 124, 108, 105, 105, 111, 108, 109, 107, 99, 98, 123, 107, 94, 132, 116, 103, 150, 134, 121, 144, 128, 115, 121, 102, 87, 117, 95, 77, 109, 90, 74, 109, 92, 78, 135, 120, 107, 122, 109, 99, 138, 134, 133, 220, 220, 224, 204, 205, 210, 112, 108, 110, 82, 72, 68, 90, 76, 70, 84, 70, 64, 99, 85, 79, 124, 110, 104, 111, 96, 90, 93, 81, 77, 86, 82, 84, 97, 93, 94, 103, 94, 91, 88, 74, 68, 96, 79, 70, 101, 88, 82, 103, 94, 89, 105, 95, 91, 98, 89, 84, 106, 97, 93, 112, 101, 95, 145, 129, 116, 136, 120, 107, 140, 124, 111, 129, 113, 100, 114, 95, 81, 115, 94, 77, 114, 95, 80, 110, 94, 81, 115, 100, 88, 123, 112, 104, 163, 161, 163, 223, 223, 226, 168, 165, 166, 92, 83, 81, 99, 87, 80, 106, 91, 84, 106, 91, 84, 114, 100, 93, 119, 105, 98, 106, 91, 84, 93, 80, 74, 80, 71, 70, 76, 67, 66, 88, 78, 74, 84, 71, 66, 100, 86, 79, 110, 96, 90, 101, 89, 83, 98, 85, 79, 104, 92, 86, 107, 95, 89, 110, 97, 90, 150, 134, 121, 145, 129, 116, 141, 125, 112, 139, 123, 110, 139, 122, 109, 130, 112, 98, 117, 102, 89, 114, 101, 90, 110, 99, 89, 147, 139, 133, 187, 187, 191, 188, 188, 191, 131, 124, 122, 104, 91, 86, 103, 88, 80, 105, 92, 85, 111, 100, 94, 107, 95, 89, 102, 91, 85, 90, 79, 73, 84, 72, 67, 88, 76, 71, 86, 75, 71, 81, 72, 69, 78, 71, 69, 93, 86, 85, 100, 89, 86, 93, 80, 75, 89, 76, 71, 100, 87, 82, 106, 93, 88, 107, 93, 87, 157, 141, 124, 150, 134, 118, 138, 122, 107, 148, 132, 119, 149, 133, 120, 137, 122, 108, 117, 104, 92, 116, 103, 93, 122, 111, 101, 137, 128, 121, 150, 147, 147, 132, 127, 127, 130, 119, 115, 125, 110, 103, 104, 87, 80, 107, 94, 88, 113, 103, 99, 106, 96, 92, 104, 95, 90, 109, 99, 95, 104, 93, 89, 93, 79, 74, 89, 77, 73, 80, 70, 68, 79, 73, 73, 88, 84, 85, 90, 81, 79, 85, 73, 68, 87, 75, 70, 97, 85, 80, 104, 92, 87, 101, 88, 83, 150, 136, 112, 147, 132, 112, 140, 125, 108, 140, 124, 110, 132, 117, 103, 129, 116, 101, 122, 109, 94, 121, 108, 94, 126, 114, 100, 132, 120, 106, 139, 127, 117, 127, 113, 105, 133, 118, 110, 129, 112, 105, 117, 100, 94, 120, 107, 102, 119, 110, 104, 106, 97, 91, 104, 95, 89, 120, 111, 105, 128, 118, 112, 97, 83, 81, 88, 75, 73, 84, 71, 70, 85, 73, 72, 89, 78, 77, 92, 80, 76, 95, 83, 77, 90, 77, 71, 94, 82, 76, 98, 85, 79, 91, 79, 74, 137, 123, 98, 144, 129, 108, 152, 137, 120, 130, 114, 99, 122, 107, 92, 133, 119, 104, 123, 108, 93, 124, 109, 94, 120, 106, 90, 120, 106, 91, 129, 114, 100, 128, 111, 100, 130, 113, 105, 123, 106, 99, 135, 118, 113, 127, 113, 107, 108, 99, 91, 108, 98, 90, 94, 85, 77, 99, 90, 82, 112, 101, 95, 98, 85, 83, 98, 84, 83, 100, 86, 85, 96, 82, 81, 88, 74, 73, 95, 82, 78, 103, 90, 84, 87, 74, 68, 88, 75, 69, 88, 75, 68, 86, 74, 69, 161, 145, 125, 154, 138, 121, 147, 131, 115, 134, 118, 103, 133, 117, 102, 145, 128, 114, 130, 113, 98, 126, 109, 95, 121, 104, 90, 117, 100, 85, 130, 114, 100, 131, 115, 104, 133, 116, 108, 129, 112, 104, 153, 136, 131, 143, 128, 122, 117, 105, 96, 123, 111, 102, 109, 98, 89, 101, 90, 81, 106, 94, 86, 106, 92, 89, 102, 88, 87, 105, 91, 90, 100, 86, 85, 91, 77, 76, 96, 82, 79, 98, 85, 79, 88, 75, 69, 106, 93, 87, 106, 93, 87, 107, 95, 90, 157, 141, 126, 144, 129, 113, 158, 142, 127, 149, 134, 118, 143, 126, 111, 145, 126, 112, 139, 120, 106, 124, 106, 92, 129, 111, 97, 122, 104, 90, 132, 116, 103, 148, 131, 120, 135, 118, 109, 140, 123, 116, 148, 131, 126, 126, 111, 104, 118, 105, 96, 120, 108, 99, 116, 103, 94, 108, 95, 86, 110, 97, 90, 103, 89, 87, 101, 87, 86, 104, 90, 89, 100, 86, 85, 94, 80, 79, 89, 76, 72, 91, 78, 72, 90, 77, 71, 112, 99, 93, 118, 105, 99, 106, 94, 90], \"height\": 32, \"channels\": 3, \"width\": 32, \"type\": \"image\", \"id\": 140365569293520}, {\"format\": \"raw\", \"value\": [96, 105, 112, 98, 107, 114, 100, 109, 116, 88, 96, 103, 88, 95, 103, 102, 109, 117, 104, 111, 119, 100, 108, 116, 103, 112, 119, 94, 103, 110, 89, 98, 105, 92, 100, 108, 96, 100, 111, 90, 97, 107, 90, 100, 110, 106, 119, 128, 87, 98, 109, 63, 75, 86, 92, 107, 117, 142, 160, 169, 143, 156, 165, 143, 154, 163, 149, 163, 171, 150, 166, 174, 150, 167, 174, 153, 167, 179, 148, 160, 174, 55, 66, 65, 20, 31, 13, 26, 34, 15, 22, 31, 18, 18, 29, 16, 89, 98, 105, 96, 105, 112, 94, 103, 110, 95, 103, 111, 96, 103, 111, 94, 101, 109, 105, 111, 119, 100, 108, 115, 99, 108, 115, 87, 96, 103, 91, 100, 107, 97, 106, 113, 89, 95, 104, 70, 76, 85, 55, 63, 71, 49, 58, 66, 48, 56, 66, 45, 53, 64, 43, 54, 63, 79, 93, 101, 73, 84, 92, 81, 91, 98, 125, 137, 144, 147, 162, 168, 149, 164, 171, 154, 167, 180, 143, 154, 168, 44, 55, 54, 26, 36, 20, 33, 38, 25, 20, 26, 17, 12, 22, 10, 93, 103, 110, 94, 103, 110, 92, 102, 108, 96, 104, 111, 101, 108, 116, 100, 107, 115, 103, 110, 118, 101, 109, 117, 100, 109, 116, 95, 104, 111, 90, 99, 106, 73, 81, 89, 57, 65, 72, 43, 49, 57, 34, 38, 46, 45, 48, 57, 48, 51, 62, 46, 50, 61, 37, 44, 54, 34, 43, 52, 42, 50, 58, 39, 47, 54, 63, 73, 79, 125, 138, 143, 149, 164, 170, 153, 166, 178, 140, 151, 165, 47, 58, 57, 26, 36, 21, 41, 43, 35, 25, 28, 23, 21, 28, 17, 93, 102, 109, 93, 102, 110, 97, 106, 114, 94, 102, 110, 93, 100, 108, 104, 111, 119, 103, 110, 118, 102, 110, 117, 99, 108, 115, 84, 93, 100, 60, 69, 76, 30, 39, 46, 31, 39, 43, 30, 36, 41, 29, 32, 38, 44, 43, 50, 42, 41, 51, 37, 37, 47, 35, 39, 48, 32, 38, 46, 40, 45, 52, 37, 44, 48, 35, 45, 48, 89, 101, 103, 146, 160, 164, 152, 166, 178, 135, 146, 161, 45, 57, 55, 36, 45, 31, 36, 36, 32, 28, 28, 27, 27, 31, 22, 98, 107, 114, 94, 102, 108, 91, 98, 104, 94, 101, 108, 97, 104, 112, 105, 112, 119, 105, 112, 119, 100, 107, 114, 83, 91, 98, 50, 58, 65, 30, 38, 45, 29, 37, 43, 23, 30, 34, 20, 24, 29, 24, 25, 30, 33, 31, 38, 32, 31, 39, 29, 29, 36, 39, 41, 48, 46, 50, 56, 42, 46, 51, 38, 43, 46, 37, 43, 46, 58, 65, 67, 132, 143, 148, 150, 165, 176, 129, 140, 154, 37, 47, 47, 33, 40, 29, 22, 22, 22, 25, 26, 24, 27, 32, 22, 101, 108, 115, 95, 98, 104, 97, 98, 103, 96, 101, 106, 99, 106, 112, 102, 109, 115, 101, 108, 114, 80, 87, 93, 53, 59, 65, 35, 40, 47, 29, 35, 41, 37, 42, 48, 36, 38, 43, 28, 29, 34, 22, 23, 28, 28, 28, 33, 27, 28, 33, 22, 23, 28, 33, 34, 40, 40, 41, 46, 37, 40, 43, 39, 42, 44, 45, 46, 48, 52, 49, 53, 114, 120, 125, 147, 164, 173, 124, 135, 146, 36, 42, 45, 24, 27, 23, 19, 20, 22, 26, 30, 24, 29, 38, 23, 102, 108, 115, 98, 101, 106, 100, 101, 105, 93, 98, 102, 93, 100, 105, 100, 107, 112, 86, 93, 99, 53, 59, 65, 35, 39, 45, 26, 29, 36, 30, 33, 40, 43, 46, 52, 43, 44, 49, 25, 26, 31, 16, 17, 22, 22, 23, 28, 26, 27, 32, 23, 24, 29, 25, 26, 31, 24, 25, 30, 31, 34, 37, 36, 39, 40, 47, 47, 49, 56, 53, 56, 87, 90, 94, 138, 152, 160, 118, 128, 138, 41, 47, 50, 25, 28, 25, 23, 24, 24, 29, 34, 24, 28, 38, 21, 103, 109, 117, 103, 106, 111, 98, 99, 104, 94, 97, 101, 95, 100, 104, 84, 89, 93, 56, 61, 65, 30, 34, 38, 22, 24, 29, 20, 23, 28, 37, 39, 44, 41, 43, 48, 33, 34, 39, 24, 25, 30, 17, 18, 23, 21, 22, 27, 29, 30, 35, 29, 30, 35, 29, 30, 35, 26, 27, 32, 33, 36, 39, 39, 41, 43, 45, 45, 47, 59, 56, 59, 66, 67, 70, 105, 114, 119, 108, 113, 122, 39, 41, 45, 26, 28, 26, 28, 31, 26, 32, 37, 24, 23, 32, 15, 103, 109, 117, 111, 114, 119, 105, 106, 111, 100, 101, 104, 95, 97, 100, 55, 57, 60, 27, 29, 32, 22, 24, 26, 17, 17, 20, 20, 20, 23, 31, 31, 34, 28, 29, 32, 33, 34, 39, 28, 29, 34, 19, 20, 25, 20, 21, 26, 27, 28, 33, 33, 34, 39, 34, 35, 40, 26, 27, 32, 37, 40, 43, 57, 59, 61, 66, 66, 68, 65, 62, 65, 65, 63, 65, 52, 54, 57, 54, 54, 62, 34, 34, 39, 28, 29, 27, 27, 30, 21, 28, 34, 18, 22, 32, 14, 105, 111, 119, 103, 106, 112, 102, 103, 107, 92, 93, 95, 81, 81, 83, 36, 37, 39, 25, 26, 28, 22, 23, 25, 15, 15, 17, 16, 15, 17, 20, 19, 21, 29, 29, 31, 36, 37, 42, 24, 26, 31, 22, 23, 28, 23, 24, 29, 30, 31, 36, 35, 36, 41, 42, 43, 48, 33, 34, 39, 38, 41, 44, 79, 81, 82, 108, 108, 110, 79, 76, 79, 59, 55, 56, 41, 39, 39, 27, 24, 31, 26, 25, 30, 24, 25, 22, 26, 29, 16, 29, 35, 16, 25, 35, 16, 103, 111, 116, 97, 101, 106, 86, 85, 87, 65, 63, 63, 55, 54, 56, 27, 28, 30, 20, 21, 24, 15, 17, 20, 11, 12, 14, 11, 12, 13, 16, 17, 17, 28, 30, 29, 32, 33, 36, 24, 25, 29, 25, 26, 30, 29, 30, 33, 32, 32, 37, 36, 35, 41, 42, 42, 48, 37, 36, 42, 52, 54, 58, 100, 103, 106, 116, 118, 121, 95, 96, 100, 59, 56, 58, 41, 37, 37, 30, 28, 33, 28, 29, 30, 22, 28, 19, 24, 32, 13, 32, 41, 20, 27, 38, 18, 97, 105, 109, 100, 104, 108, 79, 75, 74, 71, 65, 64, 46, 43, 44, 28, 27, 30, 19, 21, 25, 15, 18, 22, 12, 15, 18, 10, 13, 13, 17, 21, 18, 30, 34, 30, 28, 29, 30, 27, 28, 30, 30, 31, 33, 28, 28, 31, 30, 29, 34, 37, 35, 41, 46, 44, 51, 45, 44, 50, 91, 92, 98, 116, 120, 125, 117, 120, 125, 112, 115, 120, 90, 91, 94, 66, 63, 65, 48, 48, 51, 27, 32, 26, 25, 35, 19, 38, 50, 30, 34, 46, 25, 28, 41, 19, 98, 105, 109, 104, 108, 112, 76, 71, 71, 82, 76, 75, 61, 59, 60, 29, 28, 31, 25, 27, 31, 27, 29, 34, 31, 31, 35, 30, 31, 31, 30, 32, 29, 30, 32, 28, 25, 26, 27, 42, 43, 45, 44, 45, 47, 27, 28, 31, 32, 32, 36, 40, 40, 45, 55, 55, 61, 83, 83, 88, 117, 119, 124, 119, 122, 127, 123, 126, 131, 125, 128, 133, 119, 122, 125, 124, 125, 128, 96, 98, 101, 33, 38, 31, 33, 43, 26, 31, 41, 27, 27, 39, 20, 39, 52, 27, 98, 106, 110, 101, 105, 109, 70, 65, 65, 87, 81, 80, 77, 75, 76, 46, 45, 48, 38, 40, 45, 37, 38, 43, 41, 40, 44, 39, 38, 39, 55, 55, 53, 42, 42, 39, 19, 20, 22, 45, 46, 48, 53, 54, 56, 32, 34, 36, 29, 31, 35, 46, 49, 54, 90, 92, 97, 115, 117, 122, 118, 120, 126, 120, 123, 128, 128, 131, 136, 133, 136, 141, 133, 137, 141, 142, 147, 151, 107, 112, 114, 28, 35, 25, 30, 39, 20, 16, 26, 14, 26, 37, 19, 43, 55, 30, 95, 103, 107, 96, 101, 105, 56, 51, 51, 60, 53, 52, 68, 66, 67, 52, 51, 54, 34, 36, 40, 33, 34, 39, 37, 35, 39, 51, 49, 50, 65, 63, 62, 37, 36, 33, 16, 17, 19, 34, 35, 38, 39, 40, 42, 30, 31, 33, 35, 38, 42, 80, 84, 88, 116, 120, 125, 122, 126, 130, 110, 113, 118, 115, 118, 123, 136, 139, 144, 142, 145, 150, 144, 149, 154, 148, 157, 162, 105, 113, 115, 26, 33, 22, 24, 32, 12, 23, 33, 17, 26, 38, 19, 33, 45, 22, 94, 102, 105, 89, 93, 98, 45, 40, 41, 34, 28, 28, 37, 35, 37, 36, 35, 39, 35, 37, 41, 35, 35, 40, 37, 33, 38, 64, 60, 62, 56, 52, 52, 29, 27, 25, 18, 19, 20, 30, 31, 33, 35, 36, 37, 31, 32, 34, 56, 60, 63, 108, 112, 116, 123, 127, 132, 128, 133, 137, 127, 130, 135, 129, 132, 137, 143, 146, 151, 151, 154, 159, 150, 157, 163, 153, 164, 170, 105, 115, 115, 30, 38, 25, 36, 44, 21, 31, 43, 20, 26, 38, 16, 31, 43, 21, 102, 107, 111, 82, 84, 89, 39, 36, 41, 26, 23, 29, 41, 40, 46, 40, 39, 43, 55, 55, 56, 69, 69, 71, 32, 31, 34, 35, 34, 36, 33, 32, 34, 30, 30, 30, 23, 23, 24, 30, 30, 30, 35, 35, 35, 34, 34, 35, 75, 76, 80, 121, 123, 128, 129, 131, 136, 132, 133, 138, 136, 140, 144, 135, 142, 145, 145, 152, 156, 155, 160, 167, 154, 162, 170, 157, 167, 176, 106, 115, 113, 39, 48, 24, 54, 64, 35, 41, 55, 24, 30, 43, 18, 33, 45, 26, 102, 106, 110, 82, 83, 89, 63, 62, 68, 62, 61, 65, 66, 66, 66, 49, 49, 49, 49, 49, 49, 112, 112, 113, 63, 63, 65, 21, 21, 23, 24, 24, 26, 35, 35, 37, 28, 28, 28, 36, 36, 36, 44, 44, 44, 42, 42, 43, 87, 90, 95, 126, 129, 136, 135, 138, 145, 134, 137, 143, 135, 141, 144, 137, 145, 148, 146, 153, 158, 155, 162, 170, 157, 166, 174, 160, 169, 179, 108, 117, 114, 47, 57, 28, 54, 63, 35, 44, 53, 28, 44, 53, 31, 39, 47, 29, 99, 103, 108, 75, 76, 82, 86, 85, 91, 106, 106, 103, 90, 92, 83, 45, 46, 41, 60, 60, 60, 134, 134, 136, 96, 96, 98, 29, 29, 31, 28, 28, 30, 44, 44, 45, 32, 32, 32, 54, 54, 54, 64, 64, 64, 53, 54, 54, 97, 103, 108, 124, 132, 140, 138, 146, 153, 139, 147, 155, 137, 145, 149, 139, 147, 149, 148, 156, 161, 157, 164, 172, 156, 165, 172, 160, 169, 179, 105, 114, 111, 45, 55, 26, 48, 56, 31, 30, 33, 21, 34, 38, 22, 38, 42, 25, 89, 92, 97, 70, 71, 77, 69, 67, 74, 86, 86, 83, 93, 95, 87, 55, 55, 51, 91, 91, 91, 127, 127, 129, 109, 109, 111, 64, 64, 66, 39, 39, 41, 48, 48, 50, 35, 35, 35, 76, 76, 76, 73, 73, 72, 60, 61, 62, 101, 107, 111, 123, 132, 136, 138, 146, 150, 142, 149, 154, 142, 150, 153, 142, 150, 152, 151, 159, 164, 158, 165, 173, 158, 166, 174, 162, 171, 181, 96, 105, 102, 45, 55, 26, 57, 65, 41, 29, 32, 22, 27, 31, 12, 36, 40, 20, 86, 90, 95, 69, 71, 76, 58, 56, 63, 59, 58, 61, 55, 55, 56, 38, 38, 38, 81, 81, 81, 93, 93, 94, 97, 97, 99, 74, 74, 76, 53, 53, 55, 47, 47, 48, 43, 43, 43, 86, 86, 86, 76, 76, 76, 70, 71, 70, 108, 112, 112, 111, 116, 116, 127, 131, 131, 141, 146, 146, 144, 151, 152, 145, 154, 156, 154, 162, 167, 161, 168, 176, 161, 169, 177, 162, 171, 181, 88, 97, 94, 32, 43, 13, 48, 57, 31, 40, 49, 29, 39, 49, 19, 42, 52, 26, 84, 86, 90, 69, 69, 74, 76, 74, 80, 57, 56, 63, 38, 38, 44, 30, 30, 34, 57, 57, 58, 60, 60, 60, 54, 54, 56, 62, 61, 63, 61, 61, 63, 40, 41, 42, 53, 54, 53, 91, 92, 92, 77, 78, 78, 78, 79, 80, 121, 122, 121, 111, 112, 110, 107, 108, 105, 123, 123, 120, 136, 141, 141, 148, 156, 160, 156, 164, 169, 160, 167, 175, 153, 162, 170, 158, 167, 176, 87, 96, 91, 27, 36, 11, 29, 38, 13, 34, 44, 19, 46, 58, 25, 44, 56, 29, 84, 83, 86, 60, 59, 62, 98, 97, 100, 95, 94, 99, 54, 54, 59, 29, 29, 33, 48, 48, 52, 55, 54, 56, 42, 39, 40, 60, 60, 60, 63, 64, 64, 41, 44, 43, 54, 58, 56, 90, 93, 93, 76, 79, 82, 83, 86, 90, 131, 134, 137, 139, 142, 144, 130, 131, 131, 126, 124, 122, 142, 146, 149, 149, 158, 165, 157, 166, 173, 159, 168, 175, 157, 166, 174, 162, 171, 177, 80, 90, 82, 29, 38, 19, 31, 38, 19, 39, 43, 23, 36, 42, 21, 33, 40, 23, 92, 92, 94, 61, 61, 63, 93, 93, 95, 106, 106, 108, 63, 62, 65, 29, 29, 31, 35, 34, 37, 56, 54, 56, 53, 50, 51, 55, 54, 54, 55, 57, 57, 45, 50, 48, 56, 60, 58, 95, 99, 100, 78, 82, 85, 92, 96, 101, 138, 145, 152, 150, 158, 164, 152, 157, 162, 154, 157, 159, 155, 161, 166, 150, 159, 166, 160, 169, 176, 163, 172, 179, 163, 173, 181, 162, 172, 177, 71, 81, 72, 17, 25, 10, 50, 55, 37, 53, 56, 37, 36, 40, 23, 31, 37, 23, 96, 98, 100, 70, 72, 74, 108, 110, 111, 131, 130, 132, 66, 64, 65, 58, 55, 56, 51, 48, 50, 53, 50, 51, 58, 55, 56, 54, 53, 54, 56, 58, 57, 42, 46, 44, 69, 73, 71, 95, 99, 100, 80, 84, 87, 100, 104, 109, 142, 153, 162, 151, 163, 172, 152, 162, 169, 152, 160, 166, 153, 161, 167, 152, 161, 168, 161, 170, 177, 164, 173, 180, 165, 175, 183, 159, 168, 173, 69, 79, 70, 27, 36, 20, 42, 47, 30, 55, 57, 38, 50, 54, 36, 30, 37, 21, 93, 97, 98, 76, 80, 81, 110, 114, 115, 145, 144, 145, 96, 92, 91, 71, 67, 67, 57, 53, 52, 46, 42, 42, 53, 50, 51, 73, 73, 73, 61, 63, 62, 43, 47, 46, 82, 86, 84, 98, 102, 103, 81, 84, 87, 105, 109, 115, 145, 156, 165, 151, 164, 173, 152, 162, 170, 154, 162, 168, 152, 160, 166, 154, 163, 170, 162, 171, 178, 163, 172, 179, 165, 175, 183, 159, 169, 174, 64, 73, 64, 52, 60, 43, 39, 44, 27, 48, 50, 32, 43, 47, 29, 22, 29, 14, 91, 97, 97, 84, 89, 89, 97, 103, 103, 111, 110, 109, 90, 85, 82, 62, 58, 55, 55, 50, 47, 58, 53, 52, 72, 69, 70, 81, 81, 81, 52, 54, 53, 46, 50, 48, 87, 91, 89, 100, 104, 104, 84, 88, 91, 114, 118, 123, 150, 159, 167, 155, 164, 172, 154, 161, 167, 156, 161, 165, 154, 161, 167, 156, 165, 172, 164, 173, 180, 163, 172, 179, 163, 172, 180, 157, 167, 172, 68, 78, 69, 61, 70, 52, 61, 67, 49, 57, 59, 40, 52, 56, 38, 36, 42, 27, 94, 99, 101, 85, 90, 92, 89, 94, 96, 115, 116, 118, 98, 95, 96, 65, 61, 61, 61, 56, 54, 67, 63, 62, 68, 67, 66, 66, 66, 65, 53, 53, 52, 45, 48, 46, 87, 91, 91, 100, 102, 104, 88, 92, 96, 119, 126, 131, 152, 162, 170, 158, 168, 176, 155, 164, 171, 155, 163, 169, 157, 165, 172, 159, 168, 175, 165, 174, 181, 163, 172, 179, 163, 172, 180, 156, 165, 170, 74, 83, 74, 60, 67, 50, 53, 58, 40, 51, 55, 39, 47, 52, 35, 44, 50, 34, 93, 96, 101, 90, 93, 98, 81, 84, 90, 96, 98, 102, 108, 107, 110, 75, 72, 74, 61, 55, 57, 60, 56, 56, 64, 64, 62, 70, 70, 68, 62, 62, 60, 50, 51, 49, 88, 92, 92, 102, 102, 105, 92, 95, 100, 124, 134, 140, 151, 164, 172, 155, 168, 177, 155, 168, 177, 152, 165, 174, 156, 166, 174, 162, 171, 178, 166, 175, 183, 163, 172, 179, 165, 173, 182, 160, 167, 173, 89, 96, 88, 51, 56, 40, 44, 48, 31, 44, 50, 34, 51, 58, 42, 43, 50, 33, 96, 99, 104, 86, 89, 94, 81, 84, 89, 88, 90, 90, 81, 81, 78, 50, 47, 48, 44, 39, 42, 65, 61, 63, 73, 73, 71, 74, 74, 72, 59, 59, 57, 51, 52, 50, 95, 99, 100, 102, 102, 106, 95, 98, 104, 131, 141, 146, 157, 168, 175, 160, 170, 178, 157, 167, 175, 146, 156, 164, 150, 160, 167, 162, 171, 178, 166, 175, 182, 162, 171, 177, 166, 174, 183, 162, 169, 175, 79, 86, 78, 45, 50, 34, 52, 57, 39, 49, 57, 38, 54, 62, 44, 48, 55, 39, 97, 100, 105, 95, 98, 103, 98, 101, 107, 98, 101, 99, 68, 69, 63, 30, 28, 26, 41, 36, 36, 65, 62, 61, 65, 65, 63, 63, 63, 61, 52, 52, 50, 58, 60, 58, 103, 107, 107, 105, 105, 109, 101, 104, 110, 131, 141, 146, 154, 164, 170, 157, 166, 173, 143, 152, 159, 135, 144, 151, 154, 163, 170, 160, 169, 176, 164, 173, 180, 162, 171, 178, 165, 173, 181, 162, 169, 175, 66, 74, 66, 41, 46, 30, 59, 64, 46, 45, 53, 31, 49, 57, 38, 86, 93, 77, 106, 109, 114, 91, 94, 99, 99, 102, 107, 103, 105, 107, 100, 100, 99, 82, 80, 76, 74, 70, 62, 62, 59, 53, 52, 52, 50, 56, 56, 54, 49, 49, 47, 59, 61, 59, 103, 107, 108, 107, 107, 111, 106, 109, 115, 134, 144, 148, 151, 159, 164, 147, 154, 159, 141, 147, 153, 150, 157, 162, 160, 168, 175, 162, 171, 178, 165, 174, 181, 163, 173, 179, 165, 173, 182, 158, 166, 172, 63, 71, 62, 34, 39, 23, 50, 55, 36, 42, 50, 26, 60, 67, 47, 111, 117, 103], \"height\": 32, \"channels\": 3, \"width\": 32, \"type\": \"image\", \"id\": 140365569292816}, {\"format\": \"raw\", \"value\": [106, 110, 98, 100, 106, 93, 103, 110, 102, 110, 115, 112, 103, 111, 99, 80, 90, 72, 100, 108, 98, 104, 110, 108, 98, 104, 106, 80, 86, 91, 76, 83, 90, 71, 81, 91, 62, 78, 88, 64, 78, 84, 69, 79, 79, 67, 73, 69, 71, 74, 64, 90, 87, 78, 113, 106, 99, 105, 102, 94, 95, 95, 89, 112, 106, 101, 119, 111, 104, 98, 101, 94, 75, 87, 79, 74, 90, 79, 69, 87, 75, 57, 70, 60, 79, 85, 75, 118, 121, 105, 126, 123, 111, 126, 124, 114, 113, 120, 112, 101, 107, 95, 103, 107, 99, 114, 115, 109, 119, 121, 107, 106, 111, 92, 113, 120, 109, 96, 104, 105, 57, 67, 73, 37, 49, 59, 34, 50, 65, 29, 48, 64, 28, 50, 63, 32, 52, 63, 42, 58, 68, 60, 72, 81, 68, 75, 79, 77, 76, 80, 122, 116, 120, 136, 131, 134, 106, 107, 106, 117, 114, 110, 128, 120, 114, 117, 115, 110, 94, 101, 94, 74, 88, 76, 66, 81, 68, 53, 65, 54, 77, 84, 73, 114, 114, 102, 96, 95, 85, 82, 85, 75, 116, 124, 118, 107, 112, 101, 121, 123, 114, 144, 141, 133, 121, 117, 101, 120, 118, 101, 115, 120, 112, 52, 64, 68, 18, 34, 43, 26, 44, 58, 28, 49, 69, 17, 41, 61, 19, 45, 59, 15, 38, 54, 21, 40, 58, 68, 86, 105, 61, 76, 90, 41, 52, 64, 70, 76, 88, 92, 96, 107, 89, 94, 99, 99, 101, 99, 119, 114, 110, 109, 104, 102, 97, 100, 96, 75, 86, 76, 68, 79, 69, 54, 65, 55, 63, 71, 62, 99, 99, 91, 105, 107, 99, 78, 86, 76, 121, 125, 117, 108, 110, 98, 110, 108, 99, 143, 138, 128, 121, 113, 98, 107, 102, 88, 98, 104, 101, 28, 45, 52, 23, 42, 55, 30, 50, 66, 32, 53, 72, 22, 44, 64, 14, 37, 53, 5, 26, 44, 9, 28, 49, 106, 125, 145, 97, 116, 131, 32, 54, 66, 25, 46, 59, 30, 47, 63, 49, 59, 71, 56, 60, 65, 79, 79, 79, 83, 81, 82, 73, 75, 74, 70, 78, 73, 83, 90, 85, 83, 92, 86, 56, 66, 60, 79, 80, 77, 102, 108, 102, 87, 98, 89, 117, 115, 102, 138, 135, 121, 109, 106, 97, 118, 112, 103, 117, 108, 96, 103, 97, 87, 74, 84, 86, 29, 50, 62, 22, 43, 57, 19, 37, 51, 22, 37, 51, 20, 34, 49, 12, 28, 46, 4, 21, 39, 4, 19, 38, 132, 147, 162, 180, 194, 203, 58, 77, 89, 16, 39, 54, 14, 35, 55, 22, 34, 54, 20, 26, 39, 18, 24, 30, 23, 26, 31, 21, 25, 29, 36, 40, 41, 59, 61, 63, 68, 75, 75, 48, 59, 57, 60, 65, 65, 82, 93, 88, 74, 87, 79, 128, 120, 104, 152, 145, 131, 96, 92, 82, 112, 105, 96, 120, 110, 100, 108, 104, 99, 44, 58, 65, 19, 43, 58, 14, 34, 48, 3, 16, 28, 4, 12, 21, 11, 16, 27, 11, 20, 39, 5, 16, 34, 9, 23, 39, 141, 154, 165, 244, 248, 253, 150, 159, 168, 45, 63, 78, 12, 28, 51, 14, 23, 49, 15, 22, 41, 4, 15, 24, 2, 11, 20, 7, 13, 20, 7, 9, 15, 11, 11, 17, 8, 12, 17, 10, 19, 21, 14, 21, 22, 29, 42, 39, 57, 70, 64, 122, 114, 106, 110, 100, 90, 123, 115, 104, 147, 128, 114, 125, 109, 101, 82, 87, 92, 25, 44, 55, 17, 40, 55, 10, 28, 42, 2, 11, 20, 5, 9, 14, 7, 10, 18, 8, 15, 30, 4, 17, 31, 21, 38, 54, 141, 157, 172, 247, 250, 255, 241, 245, 245, 162, 173, 174, 36, 47, 61, 11, 16, 35, 13, 18, 31, 12, 22, 29, 16, 25, 31, 27, 32, 38, 7, 9, 15, 6, 8, 14, 3, 9, 12, 2, 10, 10, 3, 8, 9, 5, 8, 14, 21, 29, 31, 109, 104, 100, 98, 89, 82, 130, 124, 113, 149, 128, 115, 120, 104, 102, 39, 49, 60, 20, 42, 56, 17, 38, 52, 7, 21, 36, 4, 12, 21, 6, 11, 19, 9, 14, 25, 7, 13, 25, 4, 15, 26, 12, 27, 42, 75, 91, 111, 218, 223, 230, 253, 255, 253, 237, 245, 241, 135, 144, 152, 47, 48, 57, 38, 38, 40, 59, 63, 62, 46, 48, 46, 52, 52, 51, 30, 31, 32, 16, 19, 19, 10, 14, 15, 3, 9, 9, 5, 11, 10, 9, 11, 18, 11, 16, 21, 121, 120, 113, 122, 117, 110, 93, 91, 82, 103, 93, 87, 74, 69, 73, 18, 32, 45, 22, 45, 62, 14, 34, 50, 10, 20, 35, 8, 14, 26, 7, 15, 28, 8, 17, 33, 7, 12, 24, 3, 10, 18, 4, 14, 24, 30, 42, 60, 183, 188, 197, 252, 255, 255, 247, 253, 251, 208, 214, 220, 102, 101, 103, 81, 79, 74, 87, 89, 80, 84, 82, 72, 103, 100, 91, 80, 79, 72, 53, 53, 49, 34, 35, 34, 36, 40, 40, 21, 31, 29, 21, 27, 31, 45, 52, 55, 103, 105, 96, 97, 95, 89, 88, 91, 84, 88, 89, 90, 31, 37, 47, 23, 40, 57, 18, 42, 60, 10, 27, 44, 12, 18, 32, 10, 15, 28, 10, 19, 36, 6, 18, 39, 5, 10, 23, 5, 8, 13, 4, 10, 16, 23, 32, 47, 169, 176, 184, 253, 255, 255, 247, 250, 250, 219, 221, 224, 110, 111, 111, 66, 70, 63, 74, 81, 72, 98, 100, 91, 120, 117, 106, 103, 99, 87, 105, 102, 94, 83, 82, 78, 82, 84, 84, 60, 73, 70, 55, 68, 66, 81, 91, 91, 115, 116, 106, 91, 90, 86, 88, 92, 90, 58, 68, 75, 26, 40, 55, 26, 43, 61, 12, 32, 49, 4, 19, 35, 8, 14, 27, 10, 14, 26, 11, 21, 37, 13, 28, 48, 5, 14, 28, 5, 7, 11, 7, 9, 15, 20, 29, 43, 164, 173, 183, 249, 255, 255, 244, 245, 246, 196, 194, 194, 88, 92, 92, 63, 74, 72, 80, 92, 87, 89, 95, 90, 101, 99, 91, 93, 89, 76, 115, 112, 103, 118, 117, 112, 90, 92, 89, 81, 93, 91, 86, 101, 96, 88, 101, 97, 124, 122, 113, 98, 96, 94, 76, 79, 82, 35, 49, 62, 31, 50, 67, 17, 34, 50, 9, 25, 40, 6, 19, 33, 7, 15, 26, 7, 12, 22, 7, 16, 28, 37, 52, 69, 23, 35, 52, 4, 8, 13, 6, 9, 14, 16, 26, 40, 153, 164, 176, 243, 249, 255, 226, 226, 229, 148, 143, 140, 99, 102, 100, 83, 95, 93, 93, 103, 99, 82, 84, 81, 91, 87, 83, 96, 93, 84, 127, 126, 118, 131, 131, 124, 93, 96, 91, 85, 94, 93, 71, 87, 79, 78, 97, 88, 123, 116, 107, 108, 102, 102, 44, 46, 51, 18, 35, 51, 12, 34, 52, 7, 23, 38, 21, 33, 48, 9, 21, 34, 0, 9, 18, 3, 9, 16, 3, 11, 19, 35, 48, 62, 27, 41, 59, 6, 9, 15, 6, 9, 14, 11, 23, 39, 146, 159, 173, 235, 241, 250, 172, 169, 173, 115, 107, 104, 105, 103, 97, 81, 85, 79, 85, 86, 79, 97, 90, 83, 97, 88, 83, 69, 68, 62, 80, 82, 75, 85, 89, 79, 89, 92, 85, 92, 96, 96, 62, 77, 67, 61, 82, 71, 135, 122, 108, 124, 114, 108, 56, 61, 65, 42, 62, 79, 59, 78, 99, 89, 102, 117, 109, 122, 137, 72, 83, 99, 35, 41, 52, 9, 14, 19, 4, 9, 13, 15, 22, 32, 17, 26, 41, 10, 6, 9, 9, 8, 11, 19, 34, 50, 151, 164, 179, 189, 189, 196, 127, 119, 119, 107, 96, 94, 91, 83, 76, 98, 92, 82, 105, 95, 85, 96, 80, 71, 81, 67, 58, 70, 68, 59, 60, 69, 60, 48, 57, 48, 84, 87, 81, 93, 94, 94, 54, 61, 54, 64, 79, 69, 145, 133, 123, 120, 112, 109, 100, 108, 115, 113, 133, 151, 128, 145, 165, 165, 177, 190, 194, 208, 218, 183, 195, 210, 134, 141, 153, 21, 28, 33, 2, 8, 11, 10, 16, 26, 13, 20, 34, 8, 8, 15, 8, 11, 16, 40, 52, 65, 128, 136, 148, 112, 109, 113, 98, 87, 84, 88, 76, 73, 100, 92, 84, 90, 82, 71, 93, 82, 73, 91, 78, 71, 92, 80, 72, 78, 75, 65, 66, 76, 68, 66, 76, 70, 102, 105, 101, 90, 92, 91, 60, 64, 58, 65, 77, 68, 116, 112, 112, 99, 100, 108, 82, 94, 108, 55, 75, 93, 58, 74, 91, 64, 75, 87, 104, 116, 128, 141, 152, 168, 146, 154, 167, 51, 60, 67, 0, 10, 17, 6, 15, 27, 7, 16, 31, 7, 17, 31, 19, 28, 38, 72, 77, 83, 83, 85, 90, 71, 67, 67, 78, 67, 62, 83, 70, 63, 105, 97, 87, 80, 75, 64, 87, 83, 75, 95, 93, 90, 81, 76, 72, 74, 70, 65, 71, 77, 75, 67, 74, 71, 95, 99, 95, 83, 92, 89, 90, 97, 90, 86, 95, 87, 86, 91, 100, 70, 80, 96, 33, 49, 68, 34, 52, 70, 30, 43, 56, 11, 19, 29, 15, 25, 35, 69, 79, 92, 186, 194, 205, 123, 133, 141, 7, 19, 28, 8, 19, 32, 12, 21, 37, 24, 39, 59, 43, 55, 68, 103, 101, 102, 92, 89, 86, 69, 65, 61, 71, 63, 56, 85, 73, 64, 94, 86, 75, 73, 69, 59, 86, 86, 80, 98, 104, 103, 79, 80, 79, 102, 97, 96, 95, 97, 99, 82, 87, 86, 82, 88, 83, 69, 81, 77, 81, 89, 82, 75, 82, 74, 92, 104, 116, 52, 69, 91, 31, 49, 68, 34, 51, 64, 14, 25, 35, 6, 12, 19, 1, 8, 16, 90, 98, 108, 234, 240, 247, 182, 192, 198, 33, 45, 53, 16, 27, 41, 37, 45, 60, 66, 81, 99, 82, 92, 104, 95, 92, 90, 102, 98, 92, 85, 83, 79, 84, 80, 74, 110, 102, 92, 89, 81, 70, 83, 77, 70, 91, 91, 86, 87, 94, 91, 77, 79, 78, 112, 104, 105, 128, 127, 129, 115, 118, 115, 81, 88, 80, 74, 87, 82, 72, 80, 73, 67, 74, 67, 114, 130, 142, 35, 57, 79, 21, 38, 53, 21, 34, 44, 7, 16, 23, 6, 10, 14, 4, 9, 14, 67, 71, 79, 210, 213, 218, 224, 231, 234, 110, 121, 129, 65, 77, 90, 72, 79, 93, 88, 95, 107, 87, 90, 97, 98, 95, 95, 95, 93, 87, 83, 85, 80, 71, 73, 69, 81, 77, 69, 83, 74, 67, 118, 110, 105, 111, 107, 102, 85, 86, 80, 96, 94, 90, 110, 103, 102, 103, 100, 99, 96, 98, 91, 77, 85, 73, 78, 89, 84, 86, 93, 86, 80, 87, 80, 128, 144, 155, 27, 49, 69, 22, 37, 49, 3, 13, 21, 4, 13, 19, 7, 10, 13, 4, 7, 11, 16, 19, 25, 169, 168, 173, 251, 254, 255, 223, 231, 235, 175, 185, 196, 90, 93, 104, 64, 62, 67, 78, 75, 76, 94, 95, 94, 94, 95, 90, 83, 88, 85, 66, 72, 70, 64, 65, 58, 98, 89, 84, 138, 126, 122, 124, 114, 107, 105, 97, 89, 124, 117, 110, 122, 114, 112, 97, 93, 90, 92, 95, 85, 66, 75, 62, 69, 79, 74, 86, 92, 86, 60, 68, 60, 141, 149, 165, 68, 78, 93, 134, 142, 154, 51, 60, 70, 6, 15, 21, 5, 8, 13, 10, 11, 15, 7, 8, 17, 112, 113, 120, 250, 250, 248, 253, 255, 253, 226, 230, 235, 132, 123, 130, 107, 96, 96, 88, 83, 77, 78, 81, 75, 86, 88, 85, 98, 99, 98, 87, 91, 88, 82, 85, 79, 125, 118, 117, 156, 141, 141, 137, 119, 113, 134, 114, 106, 141, 122, 118, 112, 101, 99, 97, 95, 92, 84, 94, 87, 66, 84, 72, 57, 69, 60, 77, 82, 80, 66, 73, 66, 155, 161, 180, 76, 81, 95, 129, 133, 145, 112, 119, 131, 22, 29, 37, 6, 10, 17, 20, 22, 28, 13, 16, 25, 87, 92, 99, 238, 239, 235, 255, 255, 252, 216, 219, 221, 135, 129, 130, 149, 139, 134, 115, 105, 98, 85, 79, 74, 89, 88, 87, 88, 88, 87, 103, 104, 101, 89, 91, 85, 139, 132, 133, 136, 122, 122, 116, 99, 93, 131, 111, 103, 125, 107, 103, 98, 88, 86, 96, 96, 93, 79, 91, 86, 66, 83, 74, 54, 66, 56, 64, 68, 68, 76, 82, 75, 181, 191, 211, 97, 105, 119, 71, 76, 86, 82, 86, 100, 26, 32, 43, 21, 28, 36, 79, 85, 91, 26, 33, 41, 81, 89, 95, 233, 237, 234, 255, 255, 254, 201, 204, 204, 91, 90, 87, 130, 121, 115, 126, 113, 106, 105, 93, 90, 97, 93, 93, 90, 90, 89, 93, 92, 90, 87, 85, 81, 104, 95, 96, 90, 78, 77, 69, 58, 52, 94, 83, 75, 108, 99, 94, 94, 89, 87, 77, 78, 75, 79, 86, 84, 64, 75, 69, 54, 64, 56, 56, 60, 59, 73, 77, 69, 197, 211, 232, 159, 172, 186, 95, 101, 111, 54, 57, 73, 43, 49, 62, 55, 62, 73, 163, 171, 178, 81, 90, 98, 115, 125, 130, 241, 248, 245, 252, 255, 251, 210, 208, 207, 133, 122, 120, 121, 107, 100, 97, 86, 78, 103, 99, 93, 107, 106, 105, 105, 102, 103, 110, 106, 105, 91, 84, 82, 96, 87, 87, 85, 76, 74, 62, 56, 48, 61, 56, 48, 77, 72, 68, 86, 83, 81, 64, 64, 63, 86, 88, 90, 72, 78, 76, 58, 66, 59, 60, 62, 61, 79, 83, 73, 194, 209, 229, 175, 193, 207, 73, 83, 96, 37, 42, 61, 53, 60, 76, 102, 110, 123, 205, 213, 222, 183, 192, 199, 204, 213, 216, 247, 254, 253, 249, 250, 248, 215, 206, 206, 171, 146, 145, 139, 118, 112, 101, 94, 85, 94, 100, 92, 109, 110, 109, 125, 121, 121, 145, 137, 137, 105, 95, 94, 97, 88, 88, 62, 56, 53, 63, 58, 51, 78, 74, 69, 78, 73, 71, 96, 92, 91, 80, 78, 79, 90, 90, 93, 86, 90, 89, 72, 77, 72, 60, 60, 60, 79, 82, 71, 176, 192, 210, 187, 211, 226, 129, 146, 164, 65, 76, 97, 73, 84, 100, 154, 162, 178, 204, 210, 224, 227, 232, 242, 240, 246, 250, 247, 252, 253, 247, 244, 245, 172, 156, 156, 143, 118, 114, 127, 106, 98, 107, 99, 90, 92, 95, 89, 98, 98, 97, 114, 108, 110, 132, 122, 122, 103, 88, 89, 85, 77, 76, 68, 65, 61, 98, 92, 86, 117, 108, 107, 112, 101, 104, 124, 117, 119, 85, 81, 85, 88, 87, 92, 87, 91, 92, 87, 93, 88, 76, 76, 75, 74, 76, 63, 142, 156, 170, 187, 212, 227, 181, 203, 224, 162, 178, 200, 170, 184, 200, 184, 193, 210, 207, 211, 227, 236, 238, 248, 244, 246, 250, 250, 252, 255, 225, 219, 220, 150, 134, 133, 149, 135, 127, 156, 141, 131, 140, 127, 119, 100, 91, 87, 91, 87, 87, 94, 87, 87, 105, 93, 94, 103, 86, 87, 85, 77, 76, 87, 84, 80, 114, 106, 101, 118, 105, 106, 135, 121, 125, 121, 111, 114, 87, 83, 87, 85, 86, 90, 78, 84, 83, 80, 83, 80, 74, 73, 72, 55, 56, 44, 98, 103, 111, 172, 187, 205, 169, 190, 213, 173, 188, 211, 187, 199, 219, 209, 218, 235, 227, 232, 248, 227, 229, 240, 242, 243, 246, 253, 252, 253, 183, 177, 176, 117, 104, 103, 164, 149, 149, 152, 141, 135, 128, 116, 106, 108, 92, 83, 98, 90, 85, 94, 86, 81, 88, 76, 71, 81, 66, 64, 83, 78, 77, 92, 88, 87, 119, 108, 106, 106, 94, 91, 113, 104, 101, 99, 96, 94, 88, 89, 89, 79, 84, 81, 89, 94, 88, 95, 93, 95, 82, 80, 80, 56, 58, 49, 67, 67, 68, 141, 149, 165, 171, 190, 210, 161, 176, 197, 167, 177, 197, 195, 203, 221, 211, 217, 234, 209, 213, 224, 241, 242, 245, 245, 241, 242, 148, 137, 135, 79, 63, 61, 92, 78, 80, 86, 78, 74, 83, 75, 67, 87, 74, 66, 93, 85, 79, 95, 86, 79, 85, 72, 64, 76, 64, 60, 74, 71, 69, 80, 77, 76, 131, 121, 119, 123, 115, 110, 94, 92, 85, 79, 82, 77, 78, 84, 80, 85, 90, 81, 97, 98, 88, 96, 92, 94, 108, 106, 105, 104, 105, 100, 57, 55, 49, 79, 84, 93, 130, 143, 160, 109, 122, 138, 117, 126, 140, 151, 157, 171, 201, 206, 219, 232, 238, 245, 248, 250, 254, 224, 218, 220, 150, 134, 130, 123, 102, 97, 85, 72, 71, 76, 69, 67, 92, 85, 84, 92, 83, 82, 82, 76, 71, 109, 99, 92, 124, 109, 102, 117, 106, 102, 72, 70, 68, 68, 68, 66, 100, 96, 93, 113, 110, 106, 78, 79, 74, 61, 68, 63, 60, 69, 63, 72, 75, 62, 82, 76, 62, 74, 67, 65, 88, 83, 83, 86, 84, 83, 53, 50, 39, 44, 47, 49, 69, 78, 90, 69, 80, 91, 63, 69, 78, 88, 90, 99, 167, 170, 177, 231, 237, 242, 229, 231, 237, 184, 177, 178, 160, 141, 136, 155, 132, 124, 112, 101, 98, 100, 91, 91, 129, 121, 125, 102, 96, 101, 72, 69, 65, 97, 85, 78, 107, 90, 84, 117, 106, 101, 83, 81, 78, 71, 72, 70, 73, 75, 71, 81, 82, 78, 70, 73, 71, 55, 64, 61, 55, 67, 60, 78, 79, 66, 97, 86, 70, 96, 87, 81, 96, 89, 86, 64, 58, 59, 70, 67, 56, 57, 61, 57, 57, 65, 71, 48, 57, 62, 77, 77, 82, 96, 89, 95, 103, 100, 102, 150, 153, 155, 141, 143, 147, 117, 110, 109, 137, 120, 113, 134, 113, 105, 131, 119, 117, 134, 121, 122, 126, 116, 121, 94, 90, 95, 68, 67, 63, 87, 75, 68, 94, 74, 69, 75, 64, 60, 77, 74, 71, 74, 74, 71, 64, 69, 66, 77, 80, 79, 88, 90, 90, 71, 80, 78, 60, 74, 69, 76, 78, 68, 106, 93, 80, 95, 84, 75, 109, 101, 95, 85, 77, 75], \"height\": 32, \"channels\": 3, \"width\": 32, \"type\": \"image\", \"id\": 140365569292496}, {\"format\": \"raw\", \"value\": [192, 182, 173, 178, 169, 158, 166, 156, 144, 164, 155, 142, 161, 149, 138, 162, 147, 140, 166, 152, 147, 152, 139, 138, 148, 136, 138, 134, 123, 115, 118, 106, 93, 132, 119, 109, 168, 156, 142, 178, 168, 143, 182, 169, 141, 191, 173, 147, 173, 156, 127, 152, 135, 103, 148, 132, 99, 158, 144, 105, 170, 160, 113, 167, 154, 108, 173, 155, 113, 178, 155, 115, 162, 137, 102, 149, 124, 96, 151, 130, 97, 152, 138, 96, 150, 143, 92, 147, 144, 86, 161, 161, 91, 168, 166, 95, 188, 180, 169, 173, 165, 154, 174, 166, 155, 184, 175, 165, 167, 157, 145, 165, 153, 143, 162, 149, 141, 157, 143, 138, 134, 120, 117, 141, 129, 118, 127, 115, 101, 114, 101, 92, 166, 154, 142, 192, 181, 159, 184, 171, 145, 167, 149, 125, 153, 135, 109, 143, 126, 98, 151, 135, 103, 171, 156, 121, 176, 162, 123, 163, 147, 109, 164, 144, 108, 168, 146, 110, 157, 133, 100, 139, 115, 86, 135, 116, 82, 149, 137, 96, 148, 142, 94, 152, 150, 95, 158, 160, 95, 175, 175, 111, 180, 174, 162, 172, 165, 155, 160, 153, 145, 176, 169, 163, 180, 174, 164, 166, 158, 146, 138, 128, 118, 142, 131, 122, 150, 137, 130, 134, 122, 108, 135, 123, 109, 143, 130, 122, 168, 155, 146, 151, 140, 122, 151, 137, 116, 142, 124, 104, 148, 130, 108, 136, 119, 94, 153, 136, 108, 173, 156, 127, 166, 148, 119, 153, 134, 105, 156, 136, 105, 164, 144, 111, 153, 132, 99, 138, 116, 86, 133, 115, 81, 146, 135, 96, 143, 139, 94, 148, 147, 97, 154, 156, 99, 169, 169, 112, 185, 181, 168, 171, 166, 157, 156, 150, 146, 166, 160, 158, 158, 154, 148, 148, 145, 135, 139, 132, 123, 134, 123, 115, 150, 136, 128, 157, 144, 130, 155, 143, 129, 164, 151, 143, 138, 125, 118, 122, 110, 97, 140, 125, 109, 141, 122, 107, 153, 134, 116, 139, 121, 100, 156, 139, 115, 169, 150, 126, 162, 140, 117, 158, 137, 111, 156, 136, 106, 161, 143, 109, 147, 129, 95, 139, 120, 88, 137, 121, 87, 139, 130, 91, 139, 135, 94, 144, 143, 98, 155, 154, 104, 166, 163, 111, 184, 182, 168, 157, 155, 147, 133, 129, 127, 129, 125, 127, 118, 118, 117, 122, 121, 119, 134, 129, 125, 136, 125, 120, 139, 124, 119, 167, 154, 140, 180, 168, 153, 157, 144, 137, 121, 108, 103, 123, 111, 102, 141, 125, 114, 152, 132, 120, 154, 135, 121, 141, 123, 105, 160, 142, 122, 166, 145, 125, 164, 138, 118, 158, 136, 110, 148, 129, 97, 156, 141, 102, 157, 142, 103, 146, 129, 95, 140, 126, 92, 137, 129, 92, 140, 137, 99, 145, 144, 103, 154, 149, 102, 157, 149, 98, 159, 159, 145, 106, 105, 97, 72, 70, 70, 65, 63, 68, 65, 67, 72, 80, 81, 85, 96, 92, 95, 114, 103, 104, 138, 123, 122, 160, 146, 134, 175, 164, 149, 177, 164, 159, 151, 137, 135, 140, 127, 122, 146, 130, 123, 156, 136, 128, 148, 128, 117, 147, 128, 114, 165, 147, 131, 168, 146, 128, 161, 134, 113, 144, 122, 95, 150, 133, 97, 153, 140, 96, 158, 145, 101, 153, 137, 102, 142, 129, 95, 135, 128, 93, 141, 139, 103, 146, 145, 107, 150, 140, 93, 150, 136, 85, 116, 116, 107, 47, 46, 44, 35, 33, 37, 38, 36, 42, 33, 33, 41, 36, 36, 43, 50, 46, 52, 66, 57, 62, 86, 73, 77, 113, 102, 98, 134, 125, 119, 156, 145, 144, 162, 150, 151, 154, 141, 139, 137, 122, 117, 129, 112, 106, 140, 123, 114, 143, 126, 116, 172, 156, 144, 168, 150, 136, 157, 136, 120, 137, 117, 96, 125, 108, 79, 147, 133, 92, 151, 136, 91, 154, 136, 99, 141, 127, 98, 120, 111, 86, 132, 126, 99, 144, 137, 104, 152, 138, 91, 158, 139, 89, 81, 81, 79, 26, 24, 30, 31, 30, 37, 35, 34, 40, 28, 26, 31, 21, 17, 24, 24, 19, 25, 33, 27, 33, 43, 36, 41, 56, 51, 57, 74, 69, 75, 97, 90, 96, 123, 112, 116, 139, 127, 128, 128, 116, 114, 87, 74, 71, 110, 97, 94, 139, 126, 122, 170, 158, 153, 162, 150, 145, 151, 139, 133, 110, 95, 88, 90, 73, 58, 150, 131, 102, 154, 133, 94, 155, 133, 95, 130, 113, 91, 100, 87, 75, 118, 104, 89, 150, 134, 107, 163, 145, 99, 161, 138, 89, 58, 58, 58, 22, 21, 30, 31, 30, 39, 33, 32, 37, 28, 24, 29, 19, 14, 20, 14, 9, 15, 22, 17, 23, 31, 26, 32, 35, 32, 40, 45, 42, 51, 61, 54, 62, 75, 65, 70, 103, 91, 93, 110, 98, 100, 63, 51, 54, 78, 67, 69, 117, 106, 109, 137, 126, 129, 128, 117, 119, 109, 100, 102, 77, 63, 65, 85, 67, 61, 146, 126, 105, 164, 140, 108, 162, 136, 104, 121, 100, 82, 85, 69, 59, 114, 97, 81, 169, 150, 120, 166, 146, 102, 163, 137, 92, 39, 39, 39, 18, 17, 25, 25, 24, 33, 24, 23, 28, 20, 16, 21, 17, 12, 18, 11, 6, 12, 15, 10, 16, 24, 19, 25, 30, 26, 33, 35, 31, 39, 50, 43, 50, 52, 42, 48, 64, 52, 57, 75, 63, 70, 57, 47, 55, 72, 61, 69, 84, 73, 81, 82, 71, 80, 73, 63, 71, 72, 63, 70, 73, 60, 67, 95, 78, 78, 143, 123, 108, 161, 138, 112, 146, 117, 92, 125, 103, 86, 106, 89, 75, 133, 115, 94, 175, 156, 123, 157, 136, 95, 169, 141, 100, 30, 30, 30, 15, 14, 22, 21, 20, 29, 18, 17, 23, 16, 13, 18, 17, 12, 18, 13, 8, 14, 12, 7, 13, 17, 12, 18, 22, 19, 24, 29, 26, 30, 39, 33, 39, 43, 33, 40, 54, 42, 49, 58, 47, 57, 58, 49, 61, 78, 69, 81, 78, 69, 81, 69, 59, 71, 65, 57, 68, 76, 68, 79, 83, 71, 81, 105, 89, 92, 159, 140, 129, 156, 133, 111, 135, 108, 86, 123, 103, 83, 132, 118, 97, 158, 143, 116, 162, 145, 109, 162, 143, 104, 175, 148, 110, 22, 22, 23, 14, 13, 22, 20, 19, 28, 19, 18, 23, 19, 15, 20, 18, 13, 19, 18, 13, 19, 18, 13, 19, 17, 12, 18, 17, 14, 17, 24, 21, 23, 32, 26, 30, 37, 27, 35, 50, 37, 47, 58, 47, 58, 72, 65, 76, 76, 69, 80, 99, 91, 103, 138, 131, 142, 143, 137, 148, 96, 90, 100, 75, 65, 75, 122, 108, 111, 168, 151, 139, 151, 132, 109, 142, 121, 94, 136, 122, 96, 141, 134, 105, 149, 139, 109, 156, 144, 110, 165, 152, 115, 163, 140, 105, 19, 19, 19, 15, 14, 22, 19, 17, 26, 19, 18, 23, 21, 18, 23, 20, 15, 21, 26, 21, 27, 30, 25, 31, 24, 18, 24, 16, 14, 15, 21, 18, 18, 26, 20, 24, 31, 21, 30, 47, 33, 46, 74, 64, 76, 97, 93, 101, 59, 55, 63, 105, 100, 109, 200, 196, 204, 216, 213, 220, 116, 113, 120, 61, 53, 60, 112, 99, 99, 162, 148, 133, 153, 138, 110, 159, 146, 111, 150, 146, 110, 128, 129, 93, 131, 129, 98, 164, 158, 129, 155, 150, 114, 154, 139, 105, 27, 27, 27, 17, 16, 25, 14, 13, 22, 16, 16, 21, 21, 18, 22, 24, 20, 25, 30, 26, 31, 32, 27, 33, 25, 19, 25, 17, 14, 15, 20, 18, 16, 24, 18, 21, 28, 18, 27, 44, 31, 44, 108, 100, 110, 99, 97, 102, 38, 35, 40, 83, 81, 85, 176, 174, 179, 227, 225, 229, 152, 150, 154, 87, 80, 84, 84, 73, 69, 159, 145, 127, 162, 148, 116, 157, 151, 110, 148, 150, 107, 121, 129, 89, 131, 135, 104, 137, 137, 112, 149, 149, 114, 168, 159, 124, 34, 33, 33, 22, 20, 30, 16, 16, 27, 17, 19, 26, 18, 21, 21, 22, 24, 22, 26, 26, 27, 27, 25, 27, 22, 18, 22, 18, 15, 18, 24, 22, 23, 25, 22, 23, 25, 21, 23, 55, 49, 52, 157, 153, 157, 99, 98, 102, 38, 36, 41, 85, 84, 88, 144, 143, 147, 220, 219, 223, 160, 159, 164, 107, 100, 106, 105, 90, 89, 150, 130, 113, 150, 129, 100, 163, 149, 119, 159, 150, 119, 144, 140, 108, 152, 149, 118, 137, 133, 103, 157, 153, 117, 170, 160, 124, 46, 43, 43, 27, 26, 35, 23, 24, 36, 21, 25, 33, 17, 23, 23, 22, 26, 24, 29, 31, 31, 30, 29, 31, 27, 23, 28, 24, 21, 26, 26, 24, 28, 26, 24, 26, 27, 25, 26, 62, 61, 60, 183, 181, 183, 131, 130, 135, 56, 55, 60, 102, 101, 106, 156, 155, 160, 227, 228, 232, 221, 222, 227, 200, 192, 199, 179, 163, 163, 169, 147, 130, 160, 137, 110, 159, 141, 118, 165, 151, 127, 177, 165, 138, 158, 150, 118, 150, 143, 108, 149, 140, 103, 168, 156, 118, 75, 71, 70, 32, 30, 38, 28, 28, 38, 22, 25, 32, 17, 21, 25, 23, 25, 29, 30, 30, 34, 30, 27, 33, 29, 24, 30, 29, 24, 31, 28, 24, 30, 24, 20, 26, 27, 22, 28, 48, 43, 49, 167, 164, 169, 186, 186, 189, 145, 145, 147, 200, 200, 203, 209, 209, 212, 199, 201, 203, 234, 237, 239, 228, 224, 226, 189, 178, 173, 157, 141, 122, 157, 139, 113, 145, 131, 108, 166, 155, 130, 162, 154, 125, 129, 124, 91, 127, 123, 87, 136, 128, 90, 158, 146, 108, 114, 109, 105, 49, 44, 52, 39, 37, 47, 32, 32, 38, 19, 20, 27, 23, 22, 31, 28, 25, 33, 31, 26, 33, 31, 24, 31, 35, 27, 33, 37, 30, 37, 29, 22, 30, 25, 18, 28, 37, 29, 41, 146, 142, 149, 227, 227, 228, 217, 217, 218, 221, 221, 222, 181, 180, 181, 146, 147, 148, 228, 231, 230, 206, 204, 201, 177, 169, 159, 170, 157, 137, 169, 155, 130, 174, 162, 138, 169, 160, 134, 147, 140, 111, 141, 137, 104, 134, 131, 95, 158, 150, 111, 164, 152, 112, 112, 105, 100, 59, 53, 59, 57, 54, 63, 67, 66, 71, 49, 48, 57, 40, 38, 48, 43, 38, 46, 45, 38, 43, 48, 39, 42, 56, 47, 48, 60, 51, 54, 46, 36, 43, 35, 26, 35, 32, 21, 35, 132, 126, 134, 231, 231, 231, 223, 223, 223, 212, 212, 211, 174, 174, 173, 152, 151, 151, 207, 205, 203, 182, 178, 170, 158, 150, 135, 147, 135, 115, 156, 143, 121, 156, 142, 119, 169, 158, 133, 167, 159, 131, 152, 148, 115, 145, 141, 104, 162, 154, 112, 167, 155, 112, 85, 76, 70, 56, 48, 53, 51, 46, 54, 74, 72, 75, 102, 100, 107, 93, 90, 98, 79, 73, 77, 77, 69, 68, 87, 77, 73, 104, 95, 88, 115, 106, 102, 84, 74, 74, 65, 54, 60, 40, 28, 40, 131, 124, 131, 235, 235, 233, 229, 230, 227, 224, 224, 222, 218, 219, 217, 215, 212, 211, 177, 168, 165, 159, 148, 137, 161, 148, 130, 154, 138, 120, 155, 138, 120, 131, 112, 92, 135, 118, 95, 147, 134, 107, 137, 127, 96, 137, 129, 94, 156, 148, 104, 163, 152, 107, 80, 70, 63, 62, 53, 56, 55, 49, 55, 55, 51, 54, 93, 90, 95, 130, 126, 130, 106, 100, 99, 110, 101, 94, 116, 107, 95, 129, 119, 106, 142, 132, 121, 132, 122, 116, 99, 87, 89, 52, 39, 47, 142, 135, 139, 234, 235, 231, 235, 235, 231, 234, 235, 231, 233, 234, 229, 220, 214, 212, 155, 138, 136, 129, 112, 99, 140, 123, 103, 148, 129, 112, 151, 129, 115, 159, 135, 116, 158, 136, 114, 147, 127, 102, 153, 137, 108, 167, 154, 120, 168, 159, 115, 161, 151, 104, 96, 84, 75, 77, 67, 67, 68, 61, 64, 60, 55, 55, 65, 59, 61, 89, 82, 83, 95, 87, 83, 99, 90, 82, 100, 90, 79, 120, 108, 95, 129, 117, 106, 132, 121, 114, 93, 83, 82, 69, 60, 65, 176, 172, 172, 234, 235, 229, 232, 232, 226, 231, 229, 223, 205, 202, 195, 170, 160, 155, 163, 143, 137, 141, 122, 106, 141, 120, 100, 141, 118, 103, 125, 100, 87, 130, 104, 86, 144, 118, 100, 154, 129, 110, 165, 141, 117, 176, 155, 124, 160, 147, 105, 152, 139, 93, 127, 111, 101, 103, 91, 84, 88, 79, 75, 72, 66, 61, 64, 55, 54, 75, 64, 64, 83, 71, 70, 80, 68, 65, 88, 76, 72, 110, 93, 90, 110, 93, 91, 101, 88, 87, 98, 91, 92, 114, 111, 115, 201, 203, 201, 227, 230, 221, 217, 216, 206, 191, 184, 174, 156, 143, 134, 129, 114, 102, 158, 141, 126, 157, 139, 121, 138, 118, 100, 155, 132, 116, 138, 115, 98, 116, 94, 74, 112, 88, 73, 144, 116, 104, 153, 124, 104, 160, 133, 102, 156, 137, 99, 159, 141, 96, 142, 125, 113, 121, 108, 98, 106, 96, 88, 88, 81, 74, 80, 70, 65, 80, 67, 62, 82, 69, 64, 81, 68, 63, 87, 74, 69, 100, 84, 81, 92, 76, 74, 74, 63, 62, 104, 99, 99, 163, 163, 164, 213, 216, 212, 205, 206, 196, 176, 172, 161, 153, 142, 131, 145, 129, 117, 142, 125, 110, 140, 126, 106, 152, 136, 117, 137, 118, 100, 149, 128, 111, 130, 107, 89, 137, 113, 95, 154, 129, 115, 153, 127, 111, 144, 118, 92, 155, 132, 96, 155, 137, 101, 161, 146, 102, 151, 134, 121, 128, 114, 102, 111, 99, 90, 96, 85, 78, 94, 82, 72, 94, 81, 70, 99, 86, 75, 89, 76, 65, 84, 71, 60, 92, 78, 70, 80, 68, 62, 64, 56, 51, 71, 68, 64, 136, 137, 135, 210, 210, 204, 193, 189, 179, 152, 144, 133, 156, 143, 131, 154, 136, 123, 153, 136, 119, 146, 134, 112, 148, 133, 112, 144, 127, 106, 138, 119, 99, 128, 105, 87, 163, 135, 120, 162, 135, 119, 134, 111, 89, 146, 127, 92, 165, 150, 108, 160, 148, 112, 163, 153, 110, 175, 159, 143, 141, 126, 113, 111, 96, 86, 98, 82, 74, 95, 80, 68, 100, 86, 71, 110, 96, 81, 105, 91, 76, 95, 81, 66, 91, 79, 66, 83, 72, 62, 75, 66, 58, 67, 61, 54, 98, 95, 90, 156, 150, 143, 161, 150, 140, 141, 129, 118, 157, 142, 128, 169, 150, 136, 153, 137, 119, 149, 140, 115, 145, 133, 109, 150, 134, 111, 145, 128, 105, 156, 133, 115, 156, 126, 114, 134, 108, 90, 131, 111, 84, 154, 141, 102, 170, 160, 119, 167, 157, 125, 167, 158, 118, 180, 165, 147, 144, 127, 112, 109, 91, 80, 109, 89, 81, 109, 92, 79, 102, 85, 70, 98, 81, 66, 109, 92, 77, 113, 97, 82, 99, 84, 69, 98, 85, 72, 91, 80, 69, 85, 75, 66, 104, 95, 88, 127, 114, 106, 123, 107, 97, 130, 113, 101, 155, 136, 122, 181, 161, 145, 150, 135, 114, 144, 137, 110, 140, 130, 104, 147, 134, 109, 165, 150, 126, 161, 141, 121, 141, 114, 101, 143, 120, 101, 151, 133, 105, 152, 138, 106, 148, 136, 106, 155, 143, 117, 159, 148, 112, 164, 150, 130, 144, 126, 111, 121, 100, 88, 118, 94, 86, 116, 95, 85, 106, 88, 76, 98, 79, 68, 104, 85, 73, 102, 83, 72, 103, 85, 72, 116, 98, 84, 100, 83, 70, 98, 79, 70, 109, 89, 83, 135, 114, 107, 134, 111, 102, 127, 105, 93, 149, 128, 113, 169, 148, 131, 148, 133, 110, 146, 141, 112, 145, 138, 110, 149, 139, 111, 171, 158, 131, 157, 141, 119, 134, 115, 99, 154, 136, 115, 160, 143, 118, 128, 110, 90, 101, 82, 69, 125, 107, 90, 152, 136, 106, 161, 147, 126, 149, 131, 114, 137, 114, 102, 126, 100, 91, 117, 94, 87, 111, 91, 84, 108, 88, 81, 113, 93, 85, 105, 85, 77, 122, 101, 88, 128, 106, 91, 101, 78, 65, 101, 75, 65, 111, 84, 77, 139, 112, 105, 148, 121, 112, 143, 118, 106, 147, 125, 109, 144, 122, 103, 150, 135, 111, 148, 143, 113, 155, 149, 120, 150, 140, 112, 153, 141, 113, 152, 139, 115, 119, 107, 89, 136, 122, 100, 152, 135, 114, 128, 105, 97, 106, 80, 81, 131, 107, 96, 157, 136, 109, 161, 150, 126, 152, 137, 116, 146, 127, 109, 144, 122, 106, 136, 114, 102, 118, 97, 88, 108, 87, 77, 113, 92, 82, 115, 93, 84, 135, 114, 100, 129, 108, 92, 102, 80, 65, 103, 80, 66, 121, 96, 85, 147, 122, 109, 155, 130, 114, 150, 127, 109, 140, 120, 99, 138, 121, 98, 153, 138, 113, 149, 139, 111, 154, 143, 116, 140, 127, 103, 140, 125, 103, 137, 122, 105, 109, 94, 86, 112, 96, 85, 135, 115, 101, 139, 114, 104, 129, 103, 94, 146, 124, 102, 161, 140, 109, 173, 162, 137, 165, 152, 129, 160, 144, 122, 153, 135, 114, 140, 119, 104, 132, 110, 98, 126, 104, 91, 120, 98, 86, 122, 100, 88, 139, 118, 103, 130, 111, 94, 118, 98, 81, 116, 97, 80, 128, 108, 92, 153, 131, 113, 164, 141, 121, 146, 126, 103, 140, 123, 97, 145, 130, 103, 151, 137, 109, 157, 142, 116, 145, 130, 105, 124, 107, 86, 137, 120, 102, 123, 106, 93, 104, 85, 82, 107, 87, 80, 123, 102, 88, 137, 113, 96, 139, 115, 92, 150, 130, 97, 160, 141, 105, 182, 172, 147, 178, 165, 141, 174, 159, 136, 157, 140, 118, 145, 125, 108, 150, 128, 114, 148, 127, 113, 139, 118, 104, 135, 114, 100, 135, 115, 100, 136, 117, 100, 139, 120, 103, 128, 109, 92, 130, 112, 95, 151, 130, 112, 162, 141, 120, 150, 131, 107, 152, 137, 110, 152, 140, 109, 152, 139, 109, 166, 150, 123, 142, 125, 100, 108, 91, 69, 129, 111, 93, 121, 102, 87, 104, 85, 74, 114, 95, 81, 130, 109, 89, 134, 110, 86, 141, 117, 89, 155, 136, 102, 176, 158, 122], \"height\": 32, \"channels\": 3, \"width\": 32, \"type\": \"image\", \"id\": 140365507236240}, {\"format\": \"raw\", \"value\": [99, 80, 73, 81, 67, 58, 66, 57, 47, 82, 75, 64, 95, 89, 75, 99, 90, 74, 114, 101, 82, 116, 101, 81, 93, 88, 71, 75, 77, 63, 60, 65, 53, 49, 59, 48, 55, 62, 51, 84, 81, 67, 87, 84, 70, 77, 74, 61, 70, 67, 54, 59, 60, 49, 92, 87, 74, 194, 180, 166, 156, 142, 131, 69, 61, 60, 39, 36, 47, 40, 38, 47, 39, 39, 44, 38, 38, 41, 45, 44, 45, 48, 46, 45, 50, 48, 45, 61, 60, 53, 67, 65, 57, 66, 64, 57, 95, 75, 67, 80, 62, 54, 92, 76, 67, 110, 97, 86, 114, 105, 91, 119, 108, 93, 112, 99, 83, 115, 102, 86, 88, 85, 70, 67, 71, 58, 55, 60, 50, 41, 48, 40, 46, 53, 44, 62, 66, 54, 69, 74, 62, 59, 63, 51, 57, 61, 49, 63, 64, 54, 96, 90, 77, 157, 143, 128, 114, 102, 90, 57, 51, 49, 36, 34, 45, 45, 43, 52, 49, 47, 52, 51, 48, 52, 63, 57, 59, 55, 47, 49, 52, 45, 43, 69, 63, 58, 67, 62, 55, 70, 64, 60, 93, 79, 66, 112, 95, 83, 138, 116, 106, 114, 94, 84, 100, 88, 74, 115, 103, 89, 89, 77, 65, 87, 77, 64, 80, 81, 68, 66, 72, 60, 69, 74, 65, 55, 58, 53, 56, 61, 55, 60, 69, 59, 53, 62, 52, 54, 63, 53, 60, 68, 59, 71, 71, 63, 98, 87, 76, 108, 94, 79, 89, 80, 67, 59, 56, 52, 47, 47, 52, 48, 46, 49, 48, 42, 44, 65, 56, 56, 85, 75, 74, 82, 72, 70, 68, 58, 52, 85, 76, 67, 80, 71, 61, 80, 70, 64, 93, 89, 70, 104, 91, 76, 126, 105, 92, 113, 91, 79, 100, 85, 71, 96, 82, 71, 90, 79, 69, 78, 70, 61, 75, 79, 68, 64, 72, 62, 64, 68, 62, 61, 62, 60, 56, 58, 56, 55, 61, 56, 52, 58, 53, 57, 64, 59, 50, 55, 51, 63, 60, 54, 118, 105, 95, 111, 97, 82, 74, 67, 54, 58, 59, 50, 56, 59, 53, 56, 55, 48, 62, 55, 47, 90, 77, 69, 103, 89, 80, 97, 83, 72, 84, 71, 57, 94, 82, 64, 93, 81, 63, 88, 74, 62, 91, 99, 75, 85, 80, 60, 110, 93, 77, 117, 96, 82, 105, 88, 74, 86, 72, 61, 82, 71, 64, 80, 73, 67, 67, 73, 64, 44, 54, 45, 52, 56, 51, 58, 56, 57, 44, 42, 44, 47, 48, 48, 51, 52, 53, 54, 55, 56, 56, 57, 57, 72, 65, 61, 118, 104, 94, 119, 105, 90, 89, 83, 70, 83, 86, 75, 87, 93, 76, 97, 97, 80, 113, 105, 87, 127, 113, 94, 129, 113, 94, 126, 111, 91, 119, 104, 81, 118, 104, 77, 127, 113, 86, 119, 104, 84, 93, 97, 73, 107, 100, 78, 114, 99, 82, 99, 81, 68, 92, 74, 63, 116, 101, 93, 141, 124, 118, 122, 101, 94, 82, 67, 60, 43, 39, 35, 49, 50, 49, 53, 55, 53, 52, 50, 45, 74, 70, 64, 75, 74, 69, 87, 84, 78, 117, 110, 101, 122, 111, 100, 125, 112, 99, 120, 109, 96, 110, 105, 96, 95, 99, 89, 94, 103, 85, 116, 120, 99, 147, 144, 119, 162, 154, 127, 162, 150, 127, 165, 150, 130, 159, 144, 122, 156, 142, 118, 161, 146, 122, 166, 149, 130, 103, 97, 76, 118, 104, 82, 108, 96, 78, 97, 84, 71, 124, 105, 96, 214, 199, 194, 221, 196, 190, 152, 112, 101, 116, 77, 68, 83, 60, 58, 62, 57, 57, 71, 74, 66, 100, 99, 83, 107, 103, 88, 114, 114, 103, 131, 128, 114, 143, 132, 112, 138, 125, 105, 139, 130, 113, 128, 122, 109, 108, 105, 98, 70, 73, 66, 59, 70, 55, 98, 106, 86, 134, 136, 111, 169, 167, 136, 191, 181, 158, 194, 181, 164, 188, 175, 157, 187, 174, 157, 191, 176, 160, 187, 169, 155, 104, 94, 76, 113, 101, 79, 103, 99, 80, 92, 84, 69, 140, 119, 105, 215, 196, 187, 147, 114, 105, 123, 76, 62, 130, 85, 71, 125, 95, 86, 84, 69, 62, 100, 94, 83, 91, 86, 71, 85, 81, 67, 96, 96, 85, 98, 95, 81, 114, 103, 83, 117, 102, 83, 122, 111, 94, 106, 100, 88, 84, 84, 76, 59, 64, 56, 60, 70, 56, 73, 79, 61, 92, 93, 70, 137, 133, 106, 177, 165, 142, 186, 170, 150, 189, 174, 154, 187, 172, 152, 177, 162, 143, 175, 163, 145, 99, 87, 72, 99, 90, 70, 90, 91, 73, 74, 71, 54, 122, 102, 84, 182, 158, 147, 113, 75, 63, 124, 71, 55, 138, 89, 72, 144, 107, 92, 119, 94, 81, 116, 101, 89, 93, 83, 71, 103, 96, 82, 103, 100, 89, 102, 96, 83, 106, 92, 73, 121, 100, 82, 156, 139, 124, 134, 125, 113, 111, 110, 103, 71, 76, 68, 71, 79, 64, 75, 79, 62, 97, 95, 76, 121, 114, 94, 139, 124, 105, 148, 130, 112, 171, 154, 136, 159, 142, 124, 139, 124, 105, 159, 152, 130, 89, 81, 66, 93, 86, 67, 82, 84, 67, 73, 72, 57, 116, 99, 82, 196, 175, 164, 137, 98, 89, 117, 62, 48, 114, 64, 47, 127, 86, 68, 152, 120, 104, 154, 135, 126, 119, 106, 99, 125, 109, 99, 169, 157, 150, 185, 171, 161, 123, 100, 84, 123, 92, 78, 183, 154, 144, 222, 206, 198, 220, 215, 210, 145, 146, 138, 73, 78, 63, 77, 78, 64, 101, 96, 82, 123, 112, 99, 127, 109, 98, 133, 112, 102, 139, 118, 107, 146, 124, 114, 154, 136, 123, 141, 138, 113, 85, 84, 69, 94, 88, 70, 72, 70, 57, 79, 78, 66, 99, 91, 76, 202, 188, 180, 181, 148, 143, 116, 63, 55, 102, 56, 42, 115, 74, 56, 140, 105, 90, 196, 178, 174, 157, 143, 143, 85, 57, 51, 135, 111, 108, 214, 189, 183, 140, 104, 93, 122, 75, 66, 141, 97, 91, 197, 169, 165, 255, 241, 240, 222, 217, 211, 99, 103, 86, 89, 88, 74, 112, 104, 94, 137, 123, 115, 144, 121, 119, 133, 107, 108, 129, 103, 104, 139, 112, 114, 142, 122, 117, 122, 122, 95, 89, 91, 75, 99, 92, 76, 82, 75, 63, 87, 77, 66, 124, 111, 98, 198, 184, 179, 155, 126, 121, 127, 76, 65, 130, 84, 68, 132, 94, 78, 112, 81, 71, 153, 139, 140, 153, 138, 144, 72, 40, 40, 99, 66, 64, 182, 148, 142, 139, 101, 92, 104, 62, 59, 92, 50, 48, 140, 103, 98, 201, 173, 171, 163, 145, 144, 112, 110, 98, 112, 109, 95, 141, 132, 121, 162, 147, 140, 162, 140, 141, 152, 127, 130, 143, 119, 121, 141, 116, 117, 137, 117, 111, 118, 115, 88, 104, 103, 85, 98, 90, 75, 86, 75, 62, 101, 80, 66, 115, 88, 75, 106, 93, 87, 103, 80, 70, 142, 92, 71, 140, 90, 67, 118, 82, 68, 87, 66, 63, 133, 121, 125, 161, 145, 152, 80, 49, 53, 110, 73, 68, 131, 95, 86, 97, 69, 62, 66, 46, 51, 58, 31, 30, 137, 99, 87, 149, 109, 101, 85, 52, 54, 109, 93, 92, 140, 133, 118, 140, 133, 115, 154, 139, 130, 157, 139, 137, 160, 142, 138, 151, 132, 124, 139, 120, 109, 139, 122, 106, 129, 121, 95, 108, 103, 87, 95, 87, 71, 94, 82, 68, 102, 84, 69, 89, 70, 56, 77, 71, 62, 123, 104, 91, 156, 111, 87, 142, 94, 70, 103, 70, 57, 87, 69, 67, 165, 154, 158, 176, 159, 162, 88, 54, 54, 105, 68, 62, 97, 65, 57, 66, 42, 40, 55, 32, 36, 81, 49, 45, 159, 121, 105, 138, 100, 89, 79, 48, 47, 107, 89, 88, 155, 147, 133, 119, 113, 95, 159, 145, 134, 173, 156, 147, 161, 146, 134, 138, 124, 108, 128, 114, 95, 130, 118, 95, 119, 112, 87, 110, 101, 86, 93, 82, 68, 99, 87, 73, 88, 76, 61, 70, 66, 50, 92, 94, 80, 180, 167, 151, 189, 151, 129, 149, 107, 85, 104, 76, 63, 134, 118, 115, 226, 217, 219, 187, 168, 166, 90, 54, 47, 100, 67, 59, 103, 76, 72, 54, 33, 33, 77, 43, 43, 108, 66, 58, 192, 157, 140, 213, 185, 174, 147, 124, 121, 124, 107, 103, 156, 147, 136, 117, 110, 96, 162, 149, 136, 177, 162, 146, 157, 146, 125, 124, 114, 92, 109, 102, 77, 105, 100, 74, 100, 97, 75, 106, 91, 78, 103, 90, 76, 111, 99, 85, 96, 86, 73, 82, 80, 67, 72, 74, 60, 155, 145, 127, 218, 189, 169, 178, 144, 124, 126, 102, 89, 190, 177, 174, 254, 246, 245, 216, 198, 192, 103, 73, 62, 128, 102, 96, 124, 102, 99, 75, 51, 50, 99, 59, 54, 139, 99, 88, 236, 212, 200, 255, 243, 236, 227, 210, 208, 186, 170, 165, 167, 158, 150, 139, 131, 120, 158, 144, 130, 157, 143, 123, 140, 131, 106, 114, 109, 85, 99, 98, 74, 99, 101, 78, 98, 97, 80, 101, 82, 70, 101, 86, 73, 105, 94, 80, 100, 90, 79, 93, 82, 76, 77, 72, 59, 128, 119, 101, 214, 196, 176, 211, 185, 167, 178, 157, 145, 222, 212, 207, 251, 243, 239, 237, 221, 213, 151, 130, 120, 175, 156, 153, 175, 153, 151, 123, 91, 85, 104, 64, 53, 175, 146, 134, 254, 243, 237, 253, 246, 248, 244, 229, 233, 215, 200, 192, 198, 189, 183, 152, 144, 136, 140, 127, 111, 146, 133, 111, 129, 122, 99, 101, 100, 79, 86, 91, 72, 96, 103, 86, 89, 89, 75, 105, 84, 73, 90, 73, 61, 79, 67, 53, 82, 65, 57, 95, 73, 71, 87, 74, 62, 115, 107, 88, 201, 191, 172, 231, 211, 194, 220, 202, 190, 245, 236, 230, 245, 235, 229, 231, 217, 208, 199, 186, 178, 214, 202, 201, 185, 164, 162, 124, 89, 80, 91, 58, 44, 163, 144, 134, 251, 245, 243, 255, 250, 255, 237, 225, 230, 202, 187, 179, 218, 208, 205, 187, 179, 173, 115, 102, 87, 142, 130, 109, 113, 107, 87, 90, 90, 72, 79, 86, 71, 81, 89, 76, 87, 86, 74, 107, 87, 79, 90, 72, 63, 92, 68, 62, 109, 78, 69, 114, 86, 70, 92, 79, 60, 101, 96, 79, 180, 175, 161, 229, 217, 201, 223, 209, 193, 237, 225, 213, 247, 234, 225, 231, 217, 208, 224, 213, 204, 195, 185, 182, 120, 108, 108, 78, 63, 63, 59, 44, 39, 124, 113, 107, 236, 228, 225, 255, 247, 247, 247, 234, 233, 215, 202, 198, 213, 202, 199, 240, 231, 227, 170, 159, 152, 116, 107, 87, 116, 110, 85, 101, 96, 76, 82, 79, 64, 81, 79, 65, 88, 91, 69, 92, 79, 69, 79, 67, 57, 87, 65, 59, 120, 89, 78, 125, 98, 77, 111, 100, 79, 83, 81, 64, 133, 131, 119, 216, 207, 192, 230, 218, 201, 233, 220, 206, 249, 238, 228, 246, 235, 226, 236, 226, 218, 163, 154, 150, 69, 63, 65, 44, 40, 46, 36, 31, 35, 82, 74, 75, 197, 188, 185, 250, 239, 232, 245, 232, 223, 213, 203, 197, 190, 179, 173, 225, 215, 209, 227, 218, 212, 148, 139, 121, 138, 129, 106, 116, 106, 87, 92, 81, 68, 87, 78, 64, 89, 92, 66, 90, 85, 73, 85, 82, 69, 87, 77, 67, 112, 92, 80, 121, 100, 81, 113, 106, 86, 87, 88, 72, 105, 104, 92, 189, 181, 166, 226, 215, 199, 229, 218, 206, 242, 231, 222, 252, 243, 235, 249, 241, 234, 182, 175, 172, 61, 56, 59, 32, 29, 36, 34, 29, 39, 52, 45, 53, 135, 127, 125, 223, 214, 202, 219, 209, 195, 184, 176, 167, 165, 157, 148, 194, 186, 177, 224, 216, 207, 187, 176, 162, 124, 109, 94, 110, 95, 83, 105, 90, 79, 94, 82, 70, 91, 92, 70, 92, 92, 78, 79, 84, 69, 66, 66, 53, 90, 79, 66, 102, 89, 73, 101, 101, 82, 87, 91, 75, 97, 97, 84, 165, 159, 144, 215, 207, 192, 208, 199, 189, 211, 202, 195, 248, 241, 235, 247, 241, 235, 191, 186, 185, 73, 71, 75, 30, 29, 38, 32, 29, 42, 37, 32, 43, 69, 62, 62, 171, 163, 151, 210, 203, 187, 185, 180, 172, 128, 122, 115, 146, 140, 133, 190, 185, 178, 171, 159, 152, 92, 77, 69, 97, 82, 74, 100, 85, 76, 91, 79, 68, 92, 91, 71, 90, 89, 75, 72, 77, 62, 68, 70, 56, 83, 78, 66, 83, 77, 63, 86, 90, 74, 84, 91, 75, 90, 92, 77, 155, 151, 137, 244, 239, 227, 193, 187, 178, 153, 146, 140, 234, 230, 225, 242, 238, 234, 162, 159, 159, 59, 59, 65, 28, 30, 40, 30, 30, 42, 34, 31, 40, 34, 29, 30, 121, 115, 108, 227, 221, 213, 162, 157, 158, 68, 64, 65, 67, 63, 64, 137, 133, 134, 117, 109, 109, 61, 51, 49, 90, 81, 76, 96, 87, 79, 91, 84, 72, 94, 90, 73, 89, 83, 71, 75, 77, 62, 75, 77, 62, 88, 84, 72, 81, 79, 67, 78, 86, 71, 78, 88, 71, 78, 81, 65, 145, 143, 130, 252, 249, 238, 171, 166, 159, 125, 120, 115, 228, 224, 220, 237, 234, 231, 128, 127, 128, 42, 43, 50, 28, 30, 42, 31, 32, 40, 35, 35, 39, 38, 35, 37, 129, 124, 123, 229, 225, 226, 93, 89, 97, 38, 35, 44, 40, 36, 45, 76, 72, 81, 67, 62, 67, 60, 56, 55, 81, 77, 73, 79, 77, 67, 80, 77, 65, 82, 76, 62, 107, 90, 79, 96, 87, 73, 93, 86, 71, 95, 88, 74, 84, 81, 69, 77, 85, 69, 76, 88, 69, 74, 80, 63, 142, 141, 129, 243, 241, 232, 136, 134, 128, 105, 104, 100, 224, 223, 219, 232, 231, 227, 111, 109, 114, 37, 36, 48, 30, 30, 44, 31, 32, 40, 63, 61, 63, 122, 115, 115, 198, 193, 195, 229, 227, 232, 73, 71, 76, 31, 27, 32, 49, 41, 47, 68, 59, 64, 78, 69, 68, 90, 82, 76, 91, 84, 76, 78, 71, 61, 78, 71, 59, 81, 73, 62, 131, 106, 94, 127, 108, 94, 118, 103, 88, 108, 96, 81, 80, 76, 61, 80, 87, 69, 77, 89, 69, 72, 80, 62, 142, 140, 129, 235, 231, 224, 140, 138, 134, 88, 89, 87, 209, 211, 206, 220, 219, 212, 96, 93, 100, 33, 29, 44, 32, 28, 42, 30, 29, 36, 84, 77, 75, 203, 192, 186, 249, 243, 241, 239, 237, 239, 102, 99, 95, 55, 47, 43, 86, 73, 69, 98, 82, 78, 103, 88, 79, 100, 88, 76, 101, 88, 77, 95, 82, 71, 99, 87, 76, 92, 82, 73, 120, 100, 86, 128, 110, 96, 112, 97, 82, 101, 89, 74, 94, 88, 72, 90, 95, 75, 94, 101, 80, 120, 121, 103, 190, 183, 171, 202, 196, 186, 95, 90, 83, 82, 81, 75, 212, 212, 205, 164, 161, 152, 56, 51, 54, 34, 29, 39, 38, 33, 40, 54, 46, 45, 84, 71, 63, 171, 154, 144, 241, 228, 221, 234, 225, 219, 135, 124, 114, 98, 84, 75, 101, 84, 77, 98, 79, 73, 96, 81, 74, 97, 85, 77, 106, 93, 86, 96, 83, 76, 89, 77, 70, 76, 67, 60, 124, 108, 93, 119, 103, 88, 110, 95, 80, 107, 94, 78, 111, 105, 86, 95, 96, 75, 117, 118, 97, 194, 188, 169, 226, 215, 200, 172, 161, 149, 96, 87, 77, 157, 152, 143, 232, 229, 218, 132, 128, 116, 47, 41, 39, 50, 43, 45, 66, 59, 57, 90, 77, 67, 96, 79, 65, 148, 130, 116, 192, 175, 162, 185, 169, 156, 147, 130, 116, 117, 100, 88, 94, 75, 67, 87, 68, 62, 87, 74, 69, 83, 72, 69, 88, 77, 73, 85, 74, 70, 82, 72, 68, 90, 84, 78, 128, 116, 100, 120, 107, 91, 120, 104, 89, 113, 99, 83, 108, 101, 81, 99, 97, 75, 115, 111, 89, 169, 156, 138, 176, 159, 143, 145, 131, 115, 143, 130, 117, 196, 186, 175, 202, 194, 181, 125, 118, 103, 80, 72, 66, 85, 76, 71, 92, 84, 73, 103, 87, 70, 108, 91, 75, 111, 97, 84, 128, 111, 96, 167, 147, 130, 163, 144, 129, 120, 103, 91, 89, 73, 66, 80, 65, 62, 67, 57, 55, 59, 50, 50, 64, 55, 54, 79, 70, 69, 100, 92, 91, 117, 112, 109, 111, 104, 86, 113, 101, 85, 117, 100, 86, 115, 99, 83, 102, 93, 71, 99, 95, 70, 137, 128, 105, 153, 133, 114, 143, 121, 103, 136, 118, 99, 136, 120, 104, 144, 131, 117, 140, 130, 114, 126, 117, 100, 116, 106, 96, 106, 97, 86, 103, 95, 75, 124, 109, 87, 135, 121, 107, 121, 113, 103, 139, 127, 113, 173, 155, 137, 160, 143, 129, 116, 102, 94, 79, 68, 66, 70, 62, 65, 56, 49, 52, 65, 58, 61, 81, 74, 77, 81, 74, 77, 88, 82, 84, 97, 95, 93, 95, 92, 72, 98, 92, 74, 104, 95, 77, 107, 98, 81, 99, 94, 75, 93, 90, 69, 128, 121, 101, 136, 121, 102, 134, 118, 98, 127, 113, 93, 133, 119, 101, 138, 126, 109, 125, 116, 99, 120, 114, 95, 124, 114, 101, 122, 112, 98, 130, 122, 101, 135, 125, 103, 126, 118, 104, 121, 116, 108, 125, 116, 103, 132, 118, 101, 126, 115, 102, 104, 95, 88, 74, 69, 70, 62, 60, 65, 62, 60, 65, 67, 63, 68, 76, 73, 78, 64, 61, 66, 70, 67, 71, 79, 79, 79, 96, 99, 76, 92, 97, 74, 91, 97, 73, 87, 93, 73, 87, 89, 76, 79, 82, 67, 92, 95, 77, 100, 101, 82, 102, 103, 81, 106, 105, 83, 113, 110, 89, 117, 111, 91, 110, 106, 86, 108, 108, 88, 124, 116, 99, 131, 120, 104, 131, 125, 106, 120, 119, 98, 110, 110, 95, 111, 108, 99, 118, 112, 100, 112, 104, 88, 107, 100, 89, 85, 80, 74, 60, 59, 58, 56, 55, 60, 54, 56, 62, 48, 50, 57, 50, 52, 59, 54, 55, 62, 67, 69, 74, 71, 74, 76], \"height\": 32, \"channels\": 3, \"width\": 32, \"type\": \"image\", \"id\": 140365507236560}], \"selected_variable\": {\"name\": [\"<SArray>\"], \"dtype\": \"Image\", \"view_component\": \"Images\", \"view_file\": \"sarray\", \"descriptives\": {\"rows\": 5}, \"type\": \"SArray\", \"view_components\": [\"Images\"]}}, e);\n",
       "                });\n",
       "            })();\n",
       "        "
      ]
     },
     "metadata": {},
     "output_type": "display_data"
    }
   ],
   "source": [
    "show_neighbors(98)"
   ]
  },
  {
   "cell_type": "markdown",
   "metadata": {
    "collapsed": true
   },
   "source": [
    "## Assignment"
   ]
  },
  {
   "cell_type": "code",
   "execution_count": 116,
   "metadata": {
    "collapsed": false
   },
   "outputs": [
    {
     "data": {
      "text/plain": [
       "\n",
       "+------------------+-------+----------+\n",
       "|       item       | value | is exact |\n",
       "+------------------+-------+----------+\n",
       "|      Length      |  2005 |   Yes    |\n",
       "| # Missing Values |   0   |   Yes    |\n",
       "| # unique values  |   4   |    No    |\n",
       "+------------------+-------+----------+\n",
       "\n",
       "Most frequent items:\n",
       "+-------+------------+-----+-----+------+\n",
       "| value | automobile | cat | dog | bird |\n",
       "+-------+------------+-----+-----+------+\n",
       "| count |    509     | 509 | 509 | 478  |\n",
       "+-------+------------+-----+-----+------+\n"
      ]
     },
     "execution_count": 116,
     "metadata": {},
     "output_type": "execute_result"
    }
   ],
   "source": [
    "image_train[\"label\"].sketch_summary()"
   ]
  },
  {
   "cell_type": "code",
   "execution_count": 117,
   "metadata": {
    "collapsed": true
   },
   "outputs": [],
   "source": [
    "cat = image_train[image_train[\"label\"] == \"cat\"]"
   ]
  },
  {
   "cell_type": "code",
   "execution_count": 118,
   "metadata": {
    "collapsed": false
   },
   "outputs": [],
   "source": [
    "dog = image_train[image_train[\"label\"] == \"dog\"]"
   ]
  },
  {
   "cell_type": "code",
   "execution_count": 119,
   "metadata": {
    "collapsed": true
   },
   "outputs": [],
   "source": [
    "car = image_train[image_train[\"label\"] == \"automobile\"] "
   ]
  },
  {
   "cell_type": "code",
   "execution_count": 120,
   "metadata": {
    "collapsed": true
   },
   "outputs": [],
   "source": [
    "bird = image_train[image_train[\"label\"] == \"bird\"]"
   ]
  },
  {
   "cell_type": "code",
   "execution_count": 121,
   "metadata": {
    "collapsed": false
   },
   "outputs": [
    {
     "name": "stdout",
     "output_type": "stream",
     "text": [
      "PROGRESS: Starting brute force nearest neighbors model training.\n"
     ]
    }
   ],
   "source": [
    "cat_model = graphlab.nearest_neighbors.create(cat, features=['deep_features'],\n",
    "                                             label='id')"
   ]
  },
  {
   "cell_type": "code",
   "execution_count": 122,
   "metadata": {
    "collapsed": false
   },
   "outputs": [
    {
     "name": "stdout",
     "output_type": "stream",
     "text": [
      "PROGRESS: Starting brute force nearest neighbors model training.\n"
     ]
    }
   ],
   "source": [
    "dog_model = graphlab.nearest_neighbors.create(dog, features=['deep_features'],\n",
    "                                             label='id')"
   ]
  },
  {
   "cell_type": "code",
   "execution_count": 123,
   "metadata": {
    "collapsed": false
   },
   "outputs": [
    {
     "name": "stdout",
     "output_type": "stream",
     "text": [
      "PROGRESS: Starting brute force nearest neighbors model training.\n"
     ]
    }
   ],
   "source": [
    "car_model = graphlab.nearest_neighbors.create(car, features=['deep_features'],\n",
    "                                             label='id')"
   ]
  },
  {
   "cell_type": "code",
   "execution_count": 124,
   "metadata": {
    "collapsed": false
   },
   "outputs": [
    {
     "name": "stdout",
     "output_type": "stream",
     "text": [
      "PROGRESS: Starting brute force nearest neighbors model training.\n"
     ]
    }
   ],
   "source": [
    "bird_model = graphlab.nearest_neighbors.create(bird, features=['deep_features'],\n",
    "                                             label='id')"
   ]
  },
  {
   "cell_type": "code",
   "execution_count": 128,
   "metadata": {
    "collapsed": true
   },
   "outputs": [],
   "source": [
    "show_cats = lambda i: get_images_from_ids(cat_model.query(image_test[i:i+1]))['image'].show()"
   ]
  },
  {
   "cell_type": "markdown",
   "metadata": {},
   "source": [
    "Nearest cat image:"
   ]
  },
  {
   "cell_type": "code",
   "execution_count": 135,
   "metadata": {
    "collapsed": false
   },
   "outputs": [
    {
     "name": "stdout",
     "output_type": "stream",
     "text": [
      "PROGRESS: Starting pairwise querying.\n",
      "PROGRESS: +--------------+---------+-------------+--------------+\n",
      "PROGRESS: | Query points | # Pairs | % Complete. | Elapsed Time |\n",
      "PROGRESS: +--------------+---------+-------------+--------------+\n",
      "PROGRESS: | 0            | 1       | 0.196464    | 5.919ms      |\n",
      "PROGRESS: | Done         |         | 100         | 49.929ms     |\n",
      "PROGRESS: +--------------+---------+-------------+--------------+\n"
     ]
    },
    {
     "data": {
      "text/html": [
       "<div style=\"max-height:1000px;max-width:1500px;overflow:auto;\"><table frame=\"box\" rules=\"cols\">\n",
       "    <tr>\n",
       "        <th style=\"padding-left: 1em; padding-right: 1em; text-align: center\">query_label</th>\n",
       "        <th style=\"padding-left: 1em; padding-right: 1em; text-align: center\">reference_label</th>\n",
       "        <th style=\"padding-left: 1em; padding-right: 1em; text-align: center\">distance</th>\n",
       "        <th style=\"padding-left: 1em; padding-right: 1em; text-align: center\">rank</th>\n",
       "    </tr>\n",
       "    <tr>\n",
       "        <td style=\"padding-left: 1em; padding-right: 1em; text-align: center; vertical-align: top\">0</td>\n",
       "        <td style=\"padding-left: 1em; padding-right: 1em; text-align: center; vertical-align: top\">16289</td>\n",
       "        <td style=\"padding-left: 1em; padding-right: 1em; text-align: center; vertical-align: top\">34.623719208</td>\n",
       "        <td style=\"padding-left: 1em; padding-right: 1em; text-align: center; vertical-align: top\">1</td>\n",
       "    </tr>\n",
       "    <tr>\n",
       "        <td style=\"padding-left: 1em; padding-right: 1em; text-align: center; vertical-align: top\">0</td>\n",
       "        <td style=\"padding-left: 1em; padding-right: 1em; text-align: center; vertical-align: top\">45646</td>\n",
       "        <td style=\"padding-left: 1em; padding-right: 1em; text-align: center; vertical-align: top\">36.0068799284</td>\n",
       "        <td style=\"padding-left: 1em; padding-right: 1em; text-align: center; vertical-align: top\">2</td>\n",
       "    </tr>\n",
       "    <tr>\n",
       "        <td style=\"padding-left: 1em; padding-right: 1em; text-align: center; vertical-align: top\">0</td>\n",
       "        <td style=\"padding-left: 1em; padding-right: 1em; text-align: center; vertical-align: top\">32139</td>\n",
       "        <td style=\"padding-left: 1em; padding-right: 1em; text-align: center; vertical-align: top\">36.5200813436</td>\n",
       "        <td style=\"padding-left: 1em; padding-right: 1em; text-align: center; vertical-align: top\">3</td>\n",
       "    </tr>\n",
       "    <tr>\n",
       "        <td style=\"padding-left: 1em; padding-right: 1em; text-align: center; vertical-align: top\">0</td>\n",
       "        <td style=\"padding-left: 1em; padding-right: 1em; text-align: center; vertical-align: top\">25713</td>\n",
       "        <td style=\"padding-left: 1em; padding-right: 1em; text-align: center; vertical-align: top\">36.7548502521</td>\n",
       "        <td style=\"padding-left: 1em; padding-right: 1em; text-align: center; vertical-align: top\">4</td>\n",
       "    </tr>\n",
       "    <tr>\n",
       "        <td style=\"padding-left: 1em; padding-right: 1em; text-align: center; vertical-align: top\">0</td>\n",
       "        <td style=\"padding-left: 1em; padding-right: 1em; text-align: center; vertical-align: top\">331</td>\n",
       "        <td style=\"padding-left: 1em; padding-right: 1em; text-align: center; vertical-align: top\">36.8731228168</td>\n",
       "        <td style=\"padding-left: 1em; padding-right: 1em; text-align: center; vertical-align: top\">5</td>\n",
       "    </tr>\n",
       "</table>\n",
       "[5 rows x 4 columns]<br/>\n",
       "</div>"
      ],
      "text/plain": [
       "Columns:\n",
       "\tquery_label\tint\n",
       "\treference_label\tint\n",
       "\tdistance\tfloat\n",
       "\trank\tint\n",
       "\n",
       "Rows: 5\n",
       "\n",
       "Data:\n",
       "+-------------+-----------------+---------------+------+\n",
       "| query_label | reference_label |    distance   | rank |\n",
       "+-------------+-----------------+---------------+------+\n",
       "|      0      |      16289      |  34.623719208 |  1   |\n",
       "|      0      |      45646      | 36.0068799284 |  2   |\n",
       "|      0      |      32139      | 36.5200813436 |  3   |\n",
       "|      0      |      25713      | 36.7548502521 |  4   |\n",
       "|      0      |       331       | 36.8731228168 |  5   |\n",
       "+-------------+-----------------+---------------+------+\n",
       "[5 rows x 4 columns]"
      ]
     },
     "execution_count": 135,
     "metadata": {},
     "output_type": "execute_result"
    }
   ],
   "source": [
    "cat_nearest = cat_model.query(image_test[0:1])\n",
    "cat_nearest"
   ]
  },
  {
   "cell_type": "code",
   "execution_count": 139,
   "metadata": {
    "collapsed": false
   },
   "outputs": [
    {
     "data": {
      "application/javascript": [
       "$(\"head\").append($(\"<link/>\").attr({\n",
       "  rel:  \"stylesheet\",\n",
       "  type: \"text/css\",\n",
       "  href: \"//cdnjs.cloudflare.com/ajax/libs/font-awesome/4.1.0/css/font-awesome.min.css\"\n",
       "}));\n",
       "$(\"head\").append($(\"<link/>\").attr({\n",
       "  rel:  \"stylesheet\",\n",
       "  type: \"text/css\",\n",
       "  href: \"//dato.com/files/canvas/1.8.1/css/canvas.css\"\n",
       "}));\n",
       "\n",
       "            (function(){\n",
       "\n",
       "                var e = null;\n",
       "                if (typeof element == 'undefined') {\n",
       "                    var scripts = document.getElementsByTagName('script');\n",
       "                    var thisScriptTag = scripts[scripts.length-1];\n",
       "                    var parentDiv = thisScriptTag.parentNode;\n",
       "                    e = document.createElement('div');\n",
       "                    parentDiv.appendChild(e);\n",
       "                } else {\n",
       "                    e = element[0];\n",
       "                }\n",
       "\n",
       "                if (typeof requirejs !== 'undefined') {\n",
       "                    // disable load timeout; ipython_app.js is large and can take a while to load.\n",
       "                    requirejs.config({waitSeconds: 0});\n",
       "                }\n",
       "\n",
       "                require(['//dato.com/files/canvas/1.8.1/js/ipython_app.js'], function(IPythonApp){\n",
       "                    var app = new IPythonApp();\n",
       "                    app.attachView('sarray','Images', {\"ipython\": true, \"rows\": [{\"format\": \"raw\", \"value\": [215, 219, 231, 215, 219, 232, 216, 219, 233, 214, 217, 230, 213, 216, 230, 209, 215, 226, 208, 217, 221, 206, 215, 219, 201, 208, 217, 197, 203, 218, 194, 200, 221, 199, 204, 221, 142, 128, 131, 76, 46, 46, 81, 55, 57, 147, 136, 139, 160, 149, 154, 152, 141, 144, 156, 147, 150, 159, 148, 154, 160, 153, 157, 164, 156, 160, 160, 154, 158, 158, 151, 156, 159, 149, 157, 159, 150, 156, 157, 147, 154, 156, 145, 153, 152, 142, 149, 147, 137, 143, 141, 131, 136, 142, 131, 136, 215, 219, 231, 215, 219, 232, 215, 219, 232, 213, 217, 229, 212, 216, 229, 212, 214, 217, 206, 215, 217, 203, 211, 219, 197, 205, 218, 194, 201, 218, 196, 201, 218, 178, 180, 192, 92, 56, 55, 77, 50, 49, 112, 98, 100, 173, 162, 169, 162, 153, 157, 160, 152, 154, 164, 157, 159, 164, 155, 160, 165, 158, 163, 165, 155, 162, 167, 160, 166, 164, 155, 162, 160, 148, 155, 153, 142, 149, 160, 150, 159, 162, 154, 162, 157, 151, 156, 152, 143, 148, 139, 129, 133, 135, 124, 128, 215, 219, 231, 215, 219, 231, 214, 218, 230, 214, 218, 229, 214, 217, 227, 216, 211, 207, 207, 213, 215, 200, 207, 218, 195, 202, 220, 193, 201, 216, 196, 202, 216, 125, 101, 101, 79, 49, 48, 88, 67, 67, 157, 147, 152, 168, 160, 166, 164, 155, 158, 170, 163, 168, 169, 164, 166, 169, 160, 165, 169, 162, 167, 167, 159, 167, 166, 156, 164, 166, 155, 163, 163, 153, 158, 160, 150, 157, 160, 151, 158, 159, 150, 156, 157, 148, 155, 155, 145, 152, 152, 141, 147, 143, 131, 135, 216, 220, 232, 215, 219, 231, 214, 218, 230, 214, 218, 230, 214, 217, 227, 216, 213, 207, 205, 210, 216, 199, 203, 219, 196, 202, 219, 194, 204, 220, 164, 155, 162, 89, 54, 48, 77, 52, 52, 126, 110, 113, 173, 162, 168, 167, 159, 163, 170, 162, 166, 172, 163, 168, 171, 164, 168, 171, 163, 168, 171, 162, 169, 169, 161, 167, 165, 153, 160, 165, 154, 160, 163, 153, 158, 166, 155, 162, 165, 154, 160, 155, 144, 149, 156, 144, 151, 153, 143, 151, 151, 140, 148, 143, 131, 137, 217, 221, 233, 215, 219, 231, 215, 219, 231, 215, 219, 231, 217, 219, 229, 221, 222, 219, 199, 203, 211, 195, 202, 217, 198, 202, 220, 190, 193, 206, 109, 80, 77, 78, 50, 49, 94, 72, 74, 163, 154, 155, 166, 157, 158, 169, 158, 158, 173, 163, 167, 170, 158, 161, 172, 161, 168, 173, 166, 170, 173, 163, 170, 171, 161, 164, 169, 155, 160, 170, 158, 162, 162, 151, 157, 162, 151, 157, 167, 156, 164, 164, 153, 160, 158, 147, 153, 157, 146, 151, 149, 138, 144, 143, 132, 137, 217, 221, 233, 215, 219, 231, 214, 218, 230, 213, 217, 229, 222, 224, 232, 228, 227, 233, 192, 196, 211, 196, 202, 220, 196, 209, 225, 150, 128, 133, 80, 48, 46, 76, 51, 56, 144, 129, 134, 167, 158, 161, 165, 155, 156, 173, 161, 163, 175, 164, 168, 173, 162, 168, 175, 167, 171, 175, 165, 167, 174, 162, 169, 168, 157, 159, 156, 145, 146, 171, 159, 162, 168, 157, 163, 167, 156, 163, 167, 155, 165, 168, 157, 165, 159, 147, 155, 151, 140, 144, 145, 133, 137, 149, 137, 141, 217, 221, 233, 216, 220, 232, 214, 218, 230, 215, 219, 231, 166, 167, 174, 200, 198, 206, 194, 201, 218, 194, 200, 219, 177, 173, 184, 93, 65, 61, 75, 53, 53, 120, 100, 97, 172, 162, 166, 169, 158, 161, 167, 154, 156, 177, 166, 169, 181, 171, 175, 174, 166, 173, 175, 166, 172, 171, 160, 164, 173, 163, 171, 136, 125, 129, 101, 91, 88, 155, 141, 141, 175, 164, 169, 174, 162, 170, 167, 156, 165, 165, 154, 162, 161, 150, 157, 150, 138, 143, 148, 136, 140, 147, 135, 139, 217, 221, 233, 216, 220, 232, 215, 219, 231, 217, 221, 234, 113, 108, 113, 140, 130, 127, 163, 161, 169, 144, 143, 149, 153, 139, 139, 139, 122, 116, 132, 114, 102, 164, 147, 139, 161, 150, 142, 150, 138, 130, 135, 122, 116, 152, 138, 134, 149, 132, 127, 175, 162, 161, 180, 168, 175, 176, 164, 170, 177, 171, 180, 136, 126, 130, 87, 76, 68, 137, 121, 119, 178, 168, 173, 173, 162, 169, 168, 157, 164, 163, 152, 158, 158, 146, 151, 160, 147, 155, 163, 150, 158, 160, 147, 154, 218, 220, 233, 216, 219, 232, 215, 219, 232, 208, 212, 224, 92, 82, 85, 96, 78, 69, 111, 99, 93, 129, 116, 110, 167, 156, 155, 179, 168, 171, 171, 161, 158, 157, 137, 124, 120, 103, 92, 117, 98, 86, 102, 86, 81, 127, 108, 96, 147, 122, 108, 139, 122, 116, 168, 157, 155, 155, 145, 145, 200, 199, 207, 157, 149, 147, 116, 102, 91, 150, 137, 137, 176, 166, 170, 173, 162, 168, 169, 156, 164, 159, 147, 153, 159, 146, 150, 164, 151, 158, 166, 153, 161, 159, 145, 153, 217, 219, 232, 216, 218, 231, 217, 218, 229, 193, 195, 207, 95, 79, 74, 110, 88, 80, 154, 138, 132, 181, 165, 159, 207, 200, 205, 205, 207, 219, 199, 200, 209, 159, 138, 131, 143, 118, 101, 137, 110, 93, 115, 98, 91, 118, 103, 92, 184, 166, 159, 125, 113, 114, 149, 132, 126, 117, 101, 102, 213, 214, 226, 172, 170, 179, 133, 121, 123, 157, 143, 143, 147, 131, 129, 174, 158, 166, 169, 156, 165, 162, 149, 157, 168, 156, 164, 166, 154, 162, 162, 151, 158, 158, 146, 154, 218, 220, 233, 216, 218, 232, 216, 220, 234, 174, 176, 187, 90, 73, 70, 148, 125, 109, 194, 169, 157, 215, 204, 208, 220, 221, 230, 220, 223, 231, 218, 216, 224, 174, 154, 152, 162, 140, 127, 127, 100, 84, 146, 120, 103, 147, 124, 116, 169, 145, 133, 138, 122, 113, 148, 134, 124, 123, 103, 97, 154, 143, 141, 153, 143, 144, 133, 124, 127, 151, 136, 137, 140, 119, 111, 156, 139, 134, 175, 164, 169, 175, 160, 169, 170, 156, 165, 164, 151, 158, 156, 144, 150, 158, 146, 152, 218, 220, 233, 214, 218, 231, 216, 219, 233, 173, 164, 169, 134, 106, 90, 184, 152, 131, 205, 184, 171, 218, 214, 222, 221, 222, 232, 225, 226, 235, 218, 220, 231, 187, 172, 169, 156, 136, 127, 140, 116, 102, 147, 115, 98, 126, 99, 84, 171, 135, 105, 105, 81, 71, 132, 112, 105, 95, 80, 75, 130, 118, 114, 140, 127, 123, 128, 115, 114, 140, 125, 124, 159, 143, 139, 126, 113, 112, 165, 156, 163, 159, 144, 150, 163, 147, 148, 161, 145, 149, 161, 145, 149, 163, 148, 151, 217, 219, 232, 214, 218, 230, 218, 216, 229, 152, 133, 128, 169, 146, 138, 194, 172, 157, 201, 173, 151, 210, 197, 193, 215, 213, 223, 216, 218, 226, 203, 201, 209, 157, 129, 111, 145, 112, 92, 141, 114, 99, 133, 104, 90, 114, 84, 72, 183, 145, 108, 135, 106, 86, 143, 110, 95, 110, 95, 93, 200, 199, 207, 153, 147, 148, 129, 112, 111, 119, 102, 100, 144, 131, 127, 152, 145, 156, 188, 186, 198, 108, 92, 95, 99, 83, 78, 160, 140, 141, 176, 157, 168, 153, 134, 136, 218, 220, 233, 217, 219, 232, 209, 210, 222, 141, 114, 104, 212, 201, 202, 212, 206, 208, 184, 150, 123, 193, 164, 138, 202, 187, 180, 209, 207, 215, 200, 193, 196, 146, 111, 92, 141, 107, 88, 120, 97, 84, 86, 68, 60, 117, 87, 74, 163, 126, 95, 140, 103, 84, 139, 102, 78, 169, 141, 129, 218, 219, 228, 131, 123, 125, 104, 88, 81, 98, 83, 76, 122, 105, 97, 143, 138, 161, 209, 208, 226, 154, 141, 139, 99, 80, 73, 153, 127, 129, 156, 139, 144, 135, 116, 116, 219, 221, 234, 216, 218, 232, 204, 204, 219, 154, 126, 110, 213, 204, 206, 217, 214, 217, 170, 136, 110, 157, 118, 88, 170, 135, 108, 197, 174, 168, 170, 142, 125, 143, 103, 83, 122, 90, 75, 98, 76, 68, 68, 55, 55, 76, 59, 56, 118, 84, 71, 111, 79, 63, 107, 76, 63, 158, 121, 101, 196, 192, 200, 115, 101, 104, 106, 90, 83, 103, 87, 77, 128, 107, 97, 111, 97, 127, 206, 205, 220, 206, 209, 220, 157, 142, 127, 113, 91, 76, 121, 105, 101, 164, 149, 152, 220, 221, 234, 215, 218, 232, 208, 209, 223, 159, 136, 126, 213, 211, 218, 204, 202, 208, 140, 115, 102, 132, 104, 88, 148, 112, 93, 160, 124, 97, 136, 92, 70, 122, 86, 69, 97, 73, 60, 101, 74, 64, 84, 63, 60, 67, 53, 52, 82, 62, 57, 92, 71, 60, 82, 59, 53, 145, 116, 103, 125, 116, 120, 105, 91, 87, 92, 77, 76, 94, 76, 73, 119, 96, 84, 131, 113, 124, 207, 209, 223, 217, 219, 236, 157, 150, 150, 127, 115, 114, 138, 122, 119, 173, 160, 166, 219, 221, 234, 218, 223, 235, 173, 164, 171, 129, 109, 105, 219, 218, 228, 186, 179, 188, 102, 86, 85, 96, 82, 77, 108, 88, 76, 136, 106, 91, 129, 93, 74, 105, 73, 61, 79, 60, 55, 76, 57, 54, 73, 55, 54, 74, 55, 53, 71, 57, 55, 88, 70, 68, 84, 66, 63, 79, 66, 70, 76, 65, 70, 99, 87, 86, 67, 53, 55, 102, 84, 78, 118, 94, 83, 150, 132, 131, 211, 204, 220, 213, 184, 201, 202, 191, 208, 177, 176, 188, 146, 130, 133, 170, 157, 160, 219, 221, 233, 211, 210, 220, 116, 88, 81, 132, 117, 117, 226, 229, 238, 171, 156, 160, 104, 84, 77, 96, 80, 77, 95, 83, 77, 105, 87, 80, 119, 94, 77, 95, 70, 60, 72, 56, 54, 68, 54, 55, 75, 56, 53, 77, 60, 55, 78, 65, 63, 95, 79, 77, 79, 65, 65, 51, 40, 52, 84, 74, 81, 94, 83, 86, 74, 60, 60, 127, 109, 101, 125, 102, 92, 140, 120, 118, 207, 199, 211, 216, 198, 214, 195, 188, 197, 183, 180, 187, 146, 132, 139, 169, 153, 163, 222, 227, 240, 167, 132, 134, 121, 81, 62, 101, 85, 78, 172, 167, 178, 163, 155, 154, 127, 115, 110, 130, 116, 114, 125, 113, 112, 111, 95, 90, 117, 98, 88, 79, 63, 58, 63, 51, 52, 71, 56, 55, 88, 69, 62, 90, 72, 69, 90, 75, 73, 101, 87, 79, 70, 58, 61, 55, 45, 56, 109, 100, 107, 68, 56, 59, 86, 72, 72, 133, 116, 110, 130, 109, 101, 113, 94, 92, 210, 210, 217, 221, 228, 244, 177, 167, 158, 122, 107, 95, 140, 123, 124, 168, 151, 161, 201, 189, 197, 125, 74, 57, 137, 92, 70, 99, 73, 63, 69, 58, 67, 117, 113, 124, 138, 134, 143, 123, 113, 115, 124, 112, 112, 152, 136, 134, 114, 97, 90, 76, 60, 57, 64, 52, 54, 82, 68, 66, 96, 80, 73, 104, 90, 85, 77, 66, 65, 68, 56, 58, 65, 55, 62, 63, 53, 64, 83, 74, 81, 78, 66, 67, 117, 104, 103, 120, 105, 102, 90, 71, 67, 113, 97, 98, 222, 223, 233, 211, 207, 217, 150, 131, 121, 127, 101, 90, 145, 122, 128, 165, 147, 150, 149, 103, 96, 116, 73, 57, 133, 95, 73, 122, 85, 68, 65, 55, 58, 73, 68, 72, 122, 118, 130, 121, 114, 121, 107, 95, 98, 136, 121, 117, 102, 87, 81, 75, 59, 57, 77, 64, 66, 92, 79, 77, 87, 74, 70, 100, 89, 86, 79, 69, 66, 66, 50, 55, 51, 39, 48, 63, 53, 60, 89, 78, 82, 104, 92, 93, 94, 83, 81, 93, 80, 81, 127, 110, 113, 162, 149, 155, 199, 193, 203, 141, 122, 124, 104, 83, 79, 151, 126, 128, 168, 146, 155, 160, 140, 144, 118, 60, 49, 113, 84, 73, 131, 92, 70, 126, 97, 72, 90, 77, 71, 70, 62, 64, 74, 67, 71, 91, 85, 89, 87, 77, 78, 103, 90, 86, 78, 66, 65, 74, 61, 61, 88, 75, 76, 98, 85, 83, 93, 82, 83, 87, 76, 78, 87, 73, 70, 83, 64, 58, 52, 39, 44, 60, 49, 53, 81, 69, 71, 93, 80, 80, 117, 104, 102, 164, 150, 155, 188, 172, 179, 188, 174, 182, 171, 157, 162, 134, 117, 120, 143, 124, 126, 172, 153, 156, 169, 151, 157, 167, 147, 154, 100, 62, 57, 106, 83, 73, 111, 83, 67, 118, 97, 89, 167, 154, 161, 153, 145, 150, 118, 109, 114, 78, 69, 74, 87, 78, 80, 86, 76, 76, 77, 65, 65, 76, 62, 60, 87, 72, 71, 125, 112, 111, 158, 149, 153, 174, 164, 169, 158, 145, 152, 119, 105, 106, 75, 62, 65, 86, 75, 79, 131, 117, 121, 169, 155, 157, 174, 158, 161, 180, 164, 168, 182, 165, 170, 185, 169, 172, 189, 174, 177, 190, 174, 181, 186, 169, 179, 178, 159, 165, 174, 158, 161, 178, 161, 167, 90, 71, 67, 84, 66, 64, 92, 73, 70, 163, 145, 150, 187, 175, 181, 191, 181, 188, 191, 179, 189, 181, 170, 178, 174, 165, 171, 159, 148, 153, 128, 117, 121, 139, 128, 129, 163, 151, 155, 189, 177, 183, 191, 179, 185, 191, 178, 186, 193, 180, 191, 191, 180, 188, 171, 160, 163, 175, 162, 165, 187, 170, 174, 188, 171, 177, 185, 168, 174, 186, 170, 175, 186, 169, 175, 187, 171, 175, 186, 169, 174, 186, 170, 176, 185, 170, 177, 180, 161, 167, 176, 159, 163, 176, 159, 166, 75, 61, 60, 70, 60, 54, 138, 124, 124, 195, 182, 186, 195, 183, 184, 195, 183, 187, 191, 179, 184, 186, 174, 175, 189, 177, 179, 195, 184, 188, 194, 183, 188, 194, 182, 185, 196, 184, 190, 195, 183, 191, 195, 182, 189, 191, 179, 184, 189, 178, 184, 191, 179, 185, 193, 180, 183, 186, 169, 172, 183, 165, 169, 186, 168, 174, 190, 173, 179, 188, 172, 177, 188, 171, 176, 192, 175, 181, 193, 177, 182, 191, 175, 181, 188, 173, 179, 181, 163, 167, 181, 164, 168, 182, 165, 173, 65, 57, 56, 126, 114, 115, 191, 176, 178, 195, 183, 184, 201, 187, 193, 202, 188, 197, 200, 186, 192, 192, 175, 177, 189, 172, 176, 196, 181, 188, 193, 179, 185, 193, 178, 182, 195, 180, 187, 199, 186, 194, 197, 185, 191, 193, 182, 188, 191, 178, 183, 190, 175, 180, 190, 173, 177, 187, 168, 172, 182, 165, 168, 183, 165, 168, 184, 167, 170, 186, 170, 173, 184, 168, 172, 186, 170, 176, 188, 173, 179, 186, 171, 176, 185, 168, 173, 180, 161, 165, 184, 167, 171, 185, 168, 177, 87, 78, 82, 186, 171, 175, 202, 186, 189, 203, 192, 196, 201, 188, 194, 199, 184, 191, 200, 188, 192, 203, 191, 194, 195, 180, 184, 199, 185, 192, 199, 186, 193, 198, 186, 193, 200, 186, 192, 199, 187, 193, 199, 188, 192, 195, 183, 187, 193, 176, 181, 191, 173, 178, 192, 174, 180, 188, 171, 175, 184, 168, 171, 180, 163, 166, 182, 163, 165, 187, 171, 172, 187, 170, 172, 186, 169, 174, 185, 169, 176, 186, 170, 176, 185, 168, 174, 182, 163, 167, 187, 170, 177, 185, 169, 178, 150, 139, 143, 195, 180, 182, 196, 182, 181, 203, 190, 191, 204, 189, 193, 204, 186, 191, 195, 178, 179, 198, 185, 186, 198, 183, 187, 203, 189, 196, 202, 190, 196, 199, 188, 194, 202, 188, 195, 196, 183, 189, 197, 184, 188, 191, 177, 181, 193, 176, 182, 194, 180, 185, 195, 180, 186, 195, 180, 184, 192, 177, 181, 186, 168, 171, 183, 164, 166, 186, 169, 172, 190, 172, 175, 191, 173, 176, 186, 170, 175, 187, 170, 176, 185, 168, 174, 186, 167, 171, 189, 171, 178, 189, 173, 181, 190, 177, 181, 200, 183, 186, 202, 187, 188, 204, 189, 194, 203, 190, 195, 203, 190, 193, 199, 183, 182, 197, 182, 181, 203, 189, 192, 204, 191, 197, 199, 186, 191, 196, 182, 186, 203, 189, 195, 198, 183, 188, 196, 181, 185, 195, 179, 184, 196, 182, 186, 198, 186, 190, 199, 184, 190, 193, 178, 183, 190, 175, 178, 187, 169, 170, 190, 171, 173, 190, 174, 178, 190, 172, 176, 184, 167, 169, 185, 169, 174, 189, 172, 178, 186, 168, 174, 187, 168, 171, 185, 166, 171, 191, 173, 180, 200, 186, 189, 201, 185, 187, 201, 184, 188, 206, 191, 198, 204, 192, 197, 203, 191, 195, 199, 185, 185, 197, 180, 179, 202, 188, 191, 204, 191, 196, 202, 187, 190, 195, 180, 181, 198, 184, 190, 198, 183, 187, 199, 184, 186, 194, 179, 181, 192, 180, 181, 193, 178, 181, 193, 176, 181, 190, 172, 176, 184, 167, 169, 185, 167, 167, 187, 170, 170, 190, 175, 178, 191, 172, 177, 192, 174, 179, 193, 176, 182, 193, 176, 182, 186, 168, 174, 181, 162, 164, 177, 157, 160, 183, 164, 168, 204, 190, 194, 198, 182, 182, 195, 177, 175, 203, 188, 188, 203, 189, 191, 203, 186, 190, 201, 181, 184, 195, 177, 174, 203, 189, 191, 204, 191, 197, 202, 188, 191, 193, 178, 178, 192, 177, 181, 197, 182, 186, 199, 185, 187, 192, 176, 176, 184, 168, 168, 189, 171, 172, 188, 168, 170, 187, 168, 169, 185, 166, 166, 185, 166, 166, 186, 169, 169, 190, 173, 176, 192, 174, 179, 195, 179, 185, 195, 179, 186, 194, 178, 184, 187, 169, 175, 182, 163, 165, 177, 158, 160, 187, 169, 173, 206, 192, 195, 203, 187, 187, 195, 176, 172, 196, 175, 172, 198, 182, 180, 195, 178, 175, 193, 172, 169, 191, 171, 166, 198, 182, 181, 201, 187, 194, 199, 185, 190, 190, 173, 174, 190, 175, 175, 194, 179, 185, 193, 179, 182, 186, 168, 167, 187, 167, 167, 187, 167, 168, 187, 167, 169, 186, 166, 164, 186, 166, 165, 183, 163, 163, 188, 169, 169, 191, 172, 174, 193, 177, 183, 196, 182, 188, 193, 178, 185, 192, 176, 184, 187, 170, 176, 188, 170, 173, 192, 173, 177, 194, 178, 187], \"height\": 32, \"channels\": 3, \"width\": 32, \"type\": \"image\", \"id\": 140365507239888}], \"selected_variable\": {\"name\": [\"<SArray>\"], \"dtype\": \"Image\", \"view_component\": \"Images\", \"view_file\": \"sarray\", \"descriptives\": {\"rows\": 1}, \"type\": \"SArray\", \"view_components\": [\"Images\"]}}, e);\n",
       "                });\n",
       "            })();\n",
       "        "
      ]
     },
     "metadata": {},
     "output_type": "display_data"
    }
   ],
   "source": [
    "image_train[image_train[\"id\"] == 16289][\"image\"].show()"
   ]
  },
  {
   "cell_type": "markdown",
   "metadata": {},
   "source": [
    "Nearest dog image:"
   ]
  },
  {
   "cell_type": "code",
   "execution_count": 140,
   "metadata": {
    "collapsed": false
   },
   "outputs": [
    {
     "name": "stdout",
     "output_type": "stream",
     "text": [
      "PROGRESS: Starting pairwise querying.\n",
      "PROGRESS: +--------------+---------+-------------+--------------+\n",
      "PROGRESS: | Query points | # Pairs | % Complete. | Elapsed Time |\n",
      "PROGRESS: +--------------+---------+-------------+--------------+\n",
      "PROGRESS: | 0            | 1       | 0.196464    | 7.438ms      |\n",
      "PROGRESS: | Done         |         | 100         | 50.397ms     |\n",
      "PROGRESS: +--------------+---------+-------------+--------------+\n"
     ]
    },
    {
     "data": {
      "text/html": [
       "<div style=\"max-height:1000px;max-width:1500px;overflow:auto;\"><table frame=\"box\" rules=\"cols\">\n",
       "    <tr>\n",
       "        <th style=\"padding-left: 1em; padding-right: 1em; text-align: center\">query_label</th>\n",
       "        <th style=\"padding-left: 1em; padding-right: 1em; text-align: center\">reference_label</th>\n",
       "        <th style=\"padding-left: 1em; padding-right: 1em; text-align: center\">distance</th>\n",
       "        <th style=\"padding-left: 1em; padding-right: 1em; text-align: center\">rank</th>\n",
       "    </tr>\n",
       "    <tr>\n",
       "        <td style=\"padding-left: 1em; padding-right: 1em; text-align: center; vertical-align: top\">0</td>\n",
       "        <td style=\"padding-left: 1em; padding-right: 1em; text-align: center; vertical-align: top\">16976</td>\n",
       "        <td style=\"padding-left: 1em; padding-right: 1em; text-align: center; vertical-align: top\">37.4642628784</td>\n",
       "        <td style=\"padding-left: 1em; padding-right: 1em; text-align: center; vertical-align: top\">1</td>\n",
       "    </tr>\n",
       "    <tr>\n",
       "        <td style=\"padding-left: 1em; padding-right: 1em; text-align: center; vertical-align: top\">0</td>\n",
       "        <td style=\"padding-left: 1em; padding-right: 1em; text-align: center; vertical-align: top\">13387</td>\n",
       "        <td style=\"padding-left: 1em; padding-right: 1em; text-align: center; vertical-align: top\">37.5666832169</td>\n",
       "        <td style=\"padding-left: 1em; padding-right: 1em; text-align: center; vertical-align: top\">2</td>\n",
       "    </tr>\n",
       "    <tr>\n",
       "        <td style=\"padding-left: 1em; padding-right: 1em; text-align: center; vertical-align: top\">0</td>\n",
       "        <td style=\"padding-left: 1em; padding-right: 1em; text-align: center; vertical-align: top\">35867</td>\n",
       "        <td style=\"padding-left: 1em; padding-right: 1em; text-align: center; vertical-align: top\">37.6047267079</td>\n",
       "        <td style=\"padding-left: 1em; padding-right: 1em; text-align: center; vertical-align: top\">3</td>\n",
       "    </tr>\n",
       "    <tr>\n",
       "        <td style=\"padding-left: 1em; padding-right: 1em; text-align: center; vertical-align: top\">0</td>\n",
       "        <td style=\"padding-left: 1em; padding-right: 1em; text-align: center; vertical-align: top\">44603</td>\n",
       "        <td style=\"padding-left: 1em; padding-right: 1em; text-align: center; vertical-align: top\">37.7065585153</td>\n",
       "        <td style=\"padding-left: 1em; padding-right: 1em; text-align: center; vertical-align: top\">4</td>\n",
       "    </tr>\n",
       "    <tr>\n",
       "        <td style=\"padding-left: 1em; padding-right: 1em; text-align: center; vertical-align: top\">0</td>\n",
       "        <td style=\"padding-left: 1em; padding-right: 1em; text-align: center; vertical-align: top\">6094</td>\n",
       "        <td style=\"padding-left: 1em; padding-right: 1em; text-align: center; vertical-align: top\">38.5113254907</td>\n",
       "        <td style=\"padding-left: 1em; padding-right: 1em; text-align: center; vertical-align: top\">5</td>\n",
       "    </tr>\n",
       "</table>\n",
       "[5 rows x 4 columns]<br/>\n",
       "</div>"
      ],
      "text/plain": [
       "Columns:\n",
       "\tquery_label\tint\n",
       "\treference_label\tint\n",
       "\tdistance\tfloat\n",
       "\trank\tint\n",
       "\n",
       "Rows: 5\n",
       "\n",
       "Data:\n",
       "+-------------+-----------------+---------------+------+\n",
       "| query_label | reference_label |    distance   | rank |\n",
       "+-------------+-----------------+---------------+------+\n",
       "|      0      |      16976      | 37.4642628784 |  1   |\n",
       "|      0      |      13387      | 37.5666832169 |  2   |\n",
       "|      0      |      35867      | 37.6047267079 |  3   |\n",
       "|      0      |      44603      | 37.7065585153 |  4   |\n",
       "|      0      |       6094      | 38.5113254907 |  5   |\n",
       "+-------------+-----------------+---------------+------+\n",
       "[5 rows x 4 columns]"
      ]
     },
     "execution_count": 140,
     "metadata": {},
     "output_type": "execute_result"
    }
   ],
   "source": [
    "dog_nearest = dog_model.query(image_test[0:1])\n",
    "dog_nearest"
   ]
  },
  {
   "cell_type": "code",
   "execution_count": 143,
   "metadata": {
    "collapsed": false
   },
   "outputs": [
    {
     "data": {
      "application/javascript": [
       "$(\"head\").append($(\"<link/>\").attr({\n",
       "  rel:  \"stylesheet\",\n",
       "  type: \"text/css\",\n",
       "  href: \"//cdnjs.cloudflare.com/ajax/libs/font-awesome/4.1.0/css/font-awesome.min.css\"\n",
       "}));\n",
       "$(\"head\").append($(\"<link/>\").attr({\n",
       "  rel:  \"stylesheet\",\n",
       "  type: \"text/css\",\n",
       "  href: \"//dato.com/files/canvas/1.8.1/css/canvas.css\"\n",
       "}));\n",
       "\n",
       "            (function(){\n",
       "\n",
       "                var e = null;\n",
       "                if (typeof element == 'undefined') {\n",
       "                    var scripts = document.getElementsByTagName('script');\n",
       "                    var thisScriptTag = scripts[scripts.length-1];\n",
       "                    var parentDiv = thisScriptTag.parentNode;\n",
       "                    e = document.createElement('div');\n",
       "                    parentDiv.appendChild(e);\n",
       "                } else {\n",
       "                    e = element[0];\n",
       "                }\n",
       "\n",
       "                if (typeof requirejs !== 'undefined') {\n",
       "                    // disable load timeout; ipython_app.js is large and can take a while to load.\n",
       "                    requirejs.config({waitSeconds: 0});\n",
       "                }\n",
       "\n",
       "                require(['//dato.com/files/canvas/1.8.1/js/ipython_app.js'], function(IPythonApp){\n",
       "                    var app = new IPythonApp();\n",
       "                    app.attachView('sarray','Images', {\"ipython\": true, \"rows\": [{\"format\": \"raw\", \"value\": [16, 17, 11, 18, 19, 13, 20, 21, 15, 24, 25, 19, 26, 27, 21, 22, 23, 17, 19, 20, 14, 19, 20, 15, 16, 17, 12, 12, 13, 8, 11, 12, 8, 28, 17, 6, 88, 44, 8, 84, 41, 13, 84, 46, 31, 91, 51, 34, 97, 56, 36, 101, 61, 40, 85, 51, 33, 74, 45, 28, 79, 47, 29, 92, 54, 35, 96, 53, 33, 103, 58, 34, 86, 48, 27, 86, 52, 34, 107, 68, 51, 90, 61, 48, 101, 93, 92, 116, 130, 145, 103, 110, 123, 98, 94, 100, 12, 13, 9, 15, 16, 12, 20, 21, 17, 23, 24, 19, 27, 28, 22, 24, 25, 19, 20, 21, 15, 21, 22, 16, 16, 17, 12, 13, 14, 9, 12, 13, 9, 25, 15, 5, 81, 41, 10, 80, 41, 14, 83, 45, 25, 100, 55, 33, 108, 61, 39, 100, 57, 36, 67, 31, 16, 62, 30, 19, 75, 39, 25, 99, 57, 37, 112, 65, 43, 99, 55, 31, 74, 38, 19, 80, 45, 29, 102, 62, 43, 98, 66, 53, 105, 95, 95, 114, 126, 142, 102, 108, 123, 97, 92, 99, 19, 19, 17, 22, 22, 20, 20, 20, 17, 23, 25, 19, 28, 29, 23, 26, 27, 21, 21, 22, 16, 21, 22, 16, 16, 17, 12, 16, 16, 11, 14, 16, 12, 23, 18, 13, 78, 45, 25, 102, 68, 50, 94, 59, 39, 102, 57, 34, 108, 61, 37, 112, 67, 43, 100, 61, 40, 105, 64, 45, 111, 66, 47, 114, 67, 46, 124, 75, 52, 103, 61, 36, 81, 46, 29, 78, 43, 28, 102, 61, 40, 99, 72, 61, 108, 103, 105, 118, 133, 149, 103, 109, 123, 96, 94, 100, 23, 23, 21, 70, 70, 69, 64, 63, 60, 29, 29, 24, 25, 26, 21, 26, 27, 22, 22, 23, 17, 22, 23, 18, 18, 19, 14, 16, 16, 12, 15, 17, 15, 46, 44, 46, 112, 84, 75, 106, 78, 70, 96, 65, 52, 105, 64, 42, 107, 64, 38, 118, 73, 46, 121, 80, 52, 123, 82, 55, 122, 80, 53, 120, 80, 53, 121, 82, 54, 107, 67, 41, 87, 52, 37, 82, 45, 30, 101, 59, 37, 83, 63, 54, 84, 85, 88, 108, 123, 135, 88, 93, 102, 77, 77, 82, 29, 28, 28, 78, 77, 81, 116, 104, 102, 104, 94, 91, 37, 35, 32, 25, 25, 21, 24, 23, 20, 23, 23, 20, 19, 19, 17, 16, 15, 14, 22, 23, 24, 97, 90, 89, 151, 118, 108, 111, 87, 81, 111, 85, 77, 111, 70, 48, 110, 66, 40, 114, 70, 43, 115, 72, 45, 119, 80, 51, 123, 78, 50, 114, 71, 46, 113, 72, 43, 110, 66, 40, 86, 49, 34, 81, 41, 24, 97, 54, 32, 70, 49, 41, 49, 44, 44, 61, 62, 66, 56, 54, 60, 52, 49, 51, 29, 28, 28, 49, 48, 52, 108, 92, 88, 156, 139, 128, 90, 83, 72, 31, 30, 21, 23, 23, 18, 40, 39, 34, 60, 57, 53, 68, 63, 60, 66, 61, 58, 130, 111, 102, 135, 95, 80, 122, 95, 86, 126, 105, 100, 103, 70, 55, 94, 60, 40, 92, 58, 39, 94, 59, 40, 99, 61, 38, 101, 57, 33, 93, 51, 28, 91, 51, 29, 87, 47, 25, 74, 40, 25, 73, 41, 28, 88, 53, 40, 63, 45, 40, 51, 44, 43, 52, 49, 49, 53, 49, 52, 53, 48, 49, 27, 26, 24, 56, 56, 59, 105, 88, 82, 137, 105, 88, 139, 114, 97, 109, 95, 84, 98, 87, 81, 117, 110, 105, 162, 153, 146, 158, 144, 136, 117, 100, 89, 127, 96, 79, 128, 84, 67, 123, 93, 80, 129, 113, 109, 92, 75, 69, 55, 38, 29, 55, 38, 30, 63, 44, 34, 83, 53, 38, 94, 61, 42, 101, 63, 38, 92, 59, 37, 103, 71, 49, 89, 59, 37, 63, 44, 36, 67, 47, 46, 55, 41, 40, 52, 48, 46, 55, 53, 53, 58, 54, 55, 58, 54, 54, 26, 25, 22, 64, 64, 65, 99, 82, 75, 130, 92, 76, 161, 127, 112, 164, 140, 131, 168, 149, 144, 173, 160, 154, 211, 196, 186, 172, 149, 136, 122, 93, 75, 144, 106, 87, 143, 101, 87, 135, 104, 89, 120, 108, 106, 90, 85, 87, 38, 33, 34, 31, 26, 28, 46, 38, 38, 86, 67, 59, 106, 87, 72, 140, 105, 73, 129, 99, 69, 138, 113, 82, 147, 118, 81, 65, 57, 45, 49, 42, 45, 50, 41, 41, 54, 53, 51, 60, 60, 58, 63, 58, 58, 64, 59, 58, 31, 31, 27, 67, 66, 66, 116, 99, 93, 143, 114, 102, 181, 158, 147, 194, 179, 171, 196, 182, 177, 198, 185, 177, 206, 187, 174, 156, 127, 109, 131, 97, 75, 162, 126, 108, 152, 115, 104, 151, 120, 104, 125, 115, 112, 79, 79, 84, 37, 37, 41, 21, 22, 26, 24, 23, 26, 58, 49, 44, 103, 93, 77, 160, 127, 88, 149, 121, 83, 144, 120, 79, 177, 149, 99, 85, 82, 64, 41, 40, 45, 51, 47, 49, 56, 56, 56, 63, 62, 61, 66, 61, 61, 68, 64, 63, 29, 29, 29, 70, 66, 66, 118, 103, 100, 160, 141, 133, 180, 168, 159, 185, 172, 167, 206, 195, 192, 196, 183, 172, 174, 153, 133, 141, 112, 90, 148, 123, 105, 175, 150, 137, 172, 139, 123, 178, 150, 133, 142, 130, 126, 65, 65, 67, 29, 30, 32, 19, 20, 23, 18, 18, 21, 57, 52, 45, 142, 124, 100, 186, 156, 120, 166, 145, 104, 175, 158, 118, 185, 168, 126, 87, 81, 67, 42, 44, 50, 47, 49, 57, 46, 46, 52, 60, 59, 62, 69, 65, 67, 70, 67, 66, 51, 51, 52, 77, 72, 74, 117, 103, 102, 156, 142, 135, 156, 147, 137, 138, 123, 114, 154, 140, 131, 159, 141, 132, 136, 110, 98, 126, 99, 87, 166, 147, 140, 201, 184, 176, 183, 158, 143, 201, 177, 163, 142, 130, 126, 46, 46, 47, 18, 19, 21, 17, 18, 20, 22, 22, 25, 43, 38, 34, 138, 119, 97, 166, 136, 107, 185, 162, 122, 157, 147, 114, 173, 168, 135, 98, 94, 82, 46, 47, 49, 50, 53, 62, 45, 45, 53, 51, 49, 54, 70, 66, 69, 76, 72, 72, 60, 58, 59, 79, 74, 77, 127, 115, 116, 143, 132, 126, 143, 136, 124, 143, 125, 112, 128, 110, 94, 105, 86, 72, 127, 100, 88, 142, 123, 110, 167, 151, 144, 209, 197, 190, 176, 159, 148, 195, 175, 165, 149, 137, 134, 44, 42, 45, 23, 24, 28, 30, 31, 34, 33, 33, 38, 42, 37, 39, 74, 60, 50, 121, 95, 74, 177, 144, 103, 173, 147, 109, 193, 179, 144, 124, 119, 108, 46, 50, 52, 52, 55, 63, 45, 45, 53, 43, 42, 46, 68, 64, 67, 80, 76, 75, 59, 56, 56, 71, 68, 70, 131, 121, 123, 147, 135, 130, 137, 128, 117, 150, 130, 119, 128, 110, 95, 94, 77, 63, 140, 112, 103, 156, 143, 129, 162, 146, 136, 196, 181, 173, 182, 167, 156, 175, 158, 148, 132, 120, 114, 50, 49, 51, 32, 34, 38, 39, 40, 44, 44, 44, 50, 48, 46, 53, 44, 41, 40, 98, 80, 65, 176, 139, 97, 150, 117, 83, 145, 128, 101, 101, 98, 94, 45, 50, 56, 48, 52, 61, 42, 42, 50, 39, 38, 42, 68, 64, 67, 87, 80, 81, 65, 61, 60, 73, 69, 71, 135, 125, 127, 149, 134, 128, 113, 101, 92, 111, 92, 85, 129, 114, 105, 116, 105, 101, 128, 103, 105, 112, 99, 95, 134, 111, 105, 195, 174, 167, 193, 177, 167, 167, 151, 140, 118, 108, 99, 51, 50, 52, 40, 41, 47, 42, 43, 49, 50, 51, 56, 47, 50, 58, 52, 56, 60, 114, 101, 90, 180, 144, 101, 126, 103, 83, 94, 89, 82, 69, 70, 75, 55, 57, 65, 53, 55, 64, 40, 41, 48, 37, 36, 40, 69, 65, 66, 90, 82, 83, 71, 66, 67, 88, 80, 81, 119, 107, 106, 130, 115, 104, 135, 119, 112, 128, 114, 108, 152, 144, 142, 158, 152, 152, 140, 124, 124, 114, 93, 91, 159, 125, 110, 200, 176, 164, 198, 182, 173, 170, 156, 149, 114, 107, 104, 53, 53, 58, 46, 49, 56, 44, 47, 54, 46, 49, 55, 39, 40, 46, 57, 58, 65, 132, 119, 107, 190, 152, 106, 178, 140, 102, 133, 115, 102, 68, 67, 68, 54, 58, 68, 46, 50, 60, 31, 36, 40, 37, 38, 39, 69, 63, 63, 92, 83, 83, 78, 73, 74, 89, 80, 80, 87, 76, 74, 94, 81, 71, 121, 103, 98, 141, 126, 119, 146, 138, 137, 160, 150, 152, 164, 144, 143, 168, 141, 138, 179, 140, 125, 200, 172, 156, 197, 177, 164, 167, 152, 145, 106, 101, 102, 54, 56, 62, 53, 57, 64, 49, 52, 59, 43, 46, 53, 42, 45, 51, 63, 64, 72, 105, 93, 84, 156, 126, 89, 152, 121, 90, 123, 108, 101, 71, 73, 75, 73, 79, 91, 50, 54, 66, 34, 39, 45, 36, 37, 39, 70, 64, 64, 98, 89, 90, 85, 79, 81, 89, 81, 80, 65, 57, 54, 72, 61, 55, 130, 111, 108, 167, 149, 140, 132, 122, 119, 128, 121, 124, 170, 154, 149, 199, 178, 172, 205, 175, 163, 207, 177, 161, 192, 169, 152, 154, 141, 132, 86, 84, 88, 53, 56, 63, 57, 60, 67, 51, 54, 61, 47, 51, 57, 49, 53, 60, 54, 55, 61, 75, 66, 60, 114, 96, 74, 139, 124, 111, 136, 130, 134, 95, 99, 105, 90, 96, 108, 64, 69, 81, 43, 49, 56, 40, 41, 44, 71, 65, 66, 106, 96, 97, 90, 83, 84, 90, 82, 82, 73, 66, 63, 97, 87, 84, 164, 142, 141, 165, 144, 132, 97, 87, 82, 88, 83, 87, 181, 166, 159, 206, 189, 180, 201, 179, 170, 218, 194, 183, 193, 174, 159, 137, 127, 119, 67, 67, 74, 51, 54, 62, 55, 58, 65, 52, 55, 62, 50, 53, 60, 46, 49, 53, 47, 44, 44, 93, 83, 77, 130, 118, 109, 140, 129, 123, 152, 145, 150, 144, 145, 148, 103, 106, 115, 71, 74, 87, 47, 53, 61, 45, 46, 51, 78, 72, 75, 116, 107, 108, 88, 79, 81, 90, 84, 83, 93, 88, 85, 105, 97, 96, 148, 127, 125, 152, 128, 116, 81, 66, 61, 77, 65, 70, 164, 141, 136, 186, 162, 155, 191, 166, 161, 211, 190, 185, 184, 169, 158, 117, 110, 103, 57, 58, 66, 52, 55, 65, 55, 58, 65, 54, 57, 64, 49, 52, 59, 42, 42, 45, 69, 61, 56, 129, 116, 109, 162, 150, 146, 124, 112, 108, 142, 129, 129, 161, 155, 153, 107, 107, 113, 67, 71, 83, 50, 56, 65, 45, 46, 52, 89, 83, 85, 122, 112, 114, 96, 87, 88, 99, 90, 91, 105, 98, 97, 107, 100, 98, 115, 99, 96, 121, 96, 90, 98, 74, 67, 102, 83, 79, 132, 107, 103, 153, 126, 121, 175, 148, 142, 189, 163, 156, 158, 142, 137, 89, 86, 84, 50, 52, 58, 47, 50, 60, 47, 50, 59, 47, 49, 57, 43, 43, 50, 46, 45, 49, 85, 77, 75, 151, 136, 132, 162, 148, 144, 125, 114, 112, 145, 129, 122, 151, 138, 131, 115, 115, 120, 77, 84, 94, 62, 70, 79, 51, 53, 59, 94, 88, 88, 121, 110, 112, 106, 97, 98, 108, 99, 100, 111, 102, 103, 95, 89, 86, 72, 59, 56, 115, 95, 91, 139, 118, 112, 152, 131, 121, 186, 162, 153, 178, 154, 147, 165, 146, 138, 158, 140, 137, 107, 98, 98, 53, 54, 57, 43, 47, 54, 42, 46, 55, 41, 44, 53, 36, 37, 44, 36, 36, 42, 46, 46, 49, 87, 81, 81, 158, 146, 145, 171, 159, 158, 131, 121, 118, 165, 148, 140, 171, 155, 147, 131, 127, 129, 83, 86, 92, 63, 67, 74, 60, 60, 65, 104, 97, 97, 120, 110, 112, 104, 95, 96, 107, 98, 99, 111, 103, 103, 107, 102, 99, 100, 89, 86, 136, 122, 120, 149, 135, 131, 181, 162, 152, 228, 206, 197, 194, 176, 169, 157, 147, 141, 101, 95, 96, 56, 56, 60, 44, 50, 54, 43, 47, 54, 44, 46, 54, 44, 45, 52, 37, 36, 42, 38, 37, 42, 46, 45, 48, 77, 72, 71, 146, 136, 134, 182, 173, 173, 143, 133, 129, 168, 151, 142, 185, 168, 160, 143, 134, 131, 92, 87, 89, 61, 59, 63, 73, 70, 75, 114, 106, 108, 123, 112, 115, 104, 95, 96, 108, 99, 100, 115, 106, 107, 114, 108, 106, 113, 104, 102, 84, 74, 74, 76, 70, 68, 149, 139, 138, 168, 155, 156, 136, 126, 126, 96, 93, 92, 48, 48, 51, 44, 48, 52, 44, 49, 53, 44, 46, 51, 49, 50, 57, 46, 46, 53, 44, 42, 48, 41, 39, 43, 54, 51, 49, 79, 71, 66, 115, 104, 99, 150, 141, 139, 163, 151, 146, 174, 156, 146, 174, 157, 146, 166, 151, 145, 132, 120, 118, 85, 77, 79, 94, 89, 93, 125, 116, 118, 126, 115, 118, 108, 99, 100, 111, 102, 103, 113, 104, 105, 115, 109, 107, 114, 106, 105, 86, 78, 78, 81, 78, 78, 76, 73, 79, 59, 55, 63, 73, 69, 75, 64, 65, 67, 42, 45, 48, 48, 52, 56, 49, 51, 53, 52, 50, 52, 59, 57, 62, 55, 54, 60, 47, 46, 51, 42, 39, 41, 64, 56, 50, 107, 95, 86, 130, 116, 108, 128, 117, 111, 168, 155, 148, 189, 173, 164, 171, 153, 143, 169, 151, 142, 170, 155, 149, 117, 107, 107, 104, 97, 102, 127, 118, 122, 129, 118, 122, 107, 98, 99, 110, 101, 102, 111, 102, 103, 115, 107, 105, 118, 110, 108, 119, 111, 109, 120, 114, 112, 79, 76, 77, 40, 38, 44, 64, 62, 68, 48, 49, 50, 42, 43, 47, 53, 52, 57, 71, 68, 69, 93, 87, 87, 70, 64, 66, 59, 57, 62, 57, 56, 61, 57, 51, 51, 93, 79, 73, 134, 117, 109, 151, 134, 126, 135, 118, 111, 152, 138, 131, 188, 176, 170, 182, 167, 160, 169, 150, 138, 178, 163, 154, 137, 128, 127, 118, 111, 115, 131, 121, 127, 131, 122, 125, 109, 100, 101, 112, 103, 104, 112, 103, 104, 117, 109, 107, 120, 112, 110, 121, 113, 110, 123, 115, 113, 108, 103, 102, 64, 60, 63, 61, 58, 61, 50, 50, 50, 63, 62, 64, 95, 92, 94, 97, 90, 89, 125, 116, 113, 103, 94, 93, 86, 80, 81, 79, 73, 75, 83, 74, 73, 126, 111, 109, 155, 137, 135, 164, 147, 145, 148, 131, 129, 147, 132, 126, 171, 158, 151, 177, 161, 152, 166, 144, 131, 172, 150, 140, 153, 138, 134, 130, 120, 120, 132, 122, 123, 135, 125, 128, 111, 102, 103, 110, 101, 103, 114, 105, 106, 119, 111, 110, 120, 112, 110, 122, 114, 112, 125, 117, 115, 125, 117, 117, 97, 90, 90, 58, 53, 52, 64, 61, 60, 87, 82, 82, 131, 124, 123, 112, 102, 98, 125, 113, 107, 133, 119, 114, 137, 123, 118, 100, 88, 85, 103, 92, 91, 139, 125, 127, 154, 138, 141, 155, 139, 142, 154, 138, 140, 156, 140, 136, 180, 162, 154, 176, 155, 144, 150, 126, 114, 144, 118, 107, 139, 120, 114, 128, 116, 114, 131, 121, 119, 133, 123, 125, 111, 102, 103, 111, 102, 104, 116, 107, 108, 119, 111, 109, 121, 113, 111, 125, 117, 115, 129, 121, 119, 130, 120, 120, 115, 106, 103, 93, 86, 81, 102, 96, 94, 118, 110, 108, 152, 141, 138, 142, 128, 122, 139, 123, 114, 136, 117, 108, 141, 120, 111, 116, 98, 90, 117, 104, 101, 144, 130, 131, 152, 137, 138, 152, 137, 139, 144, 129, 130, 145, 129, 124, 152, 130, 121, 135, 108, 96, 117, 92, 80, 125, 104, 93, 124, 108, 102, 131, 119, 119, 137, 124, 124, 133, 123, 125, 112, 103, 104, 112, 103, 104, 117, 108, 109, 119, 111, 110, 124, 116, 114, 126, 118, 117, 127, 119, 117, 129, 116, 115, 139, 128, 122, 127, 118, 111, 119, 111, 106, 133, 121, 115, 154, 139, 131, 154, 137, 128, 148, 130, 119, 140, 118, 105, 129, 104, 92, 124, 103, 93, 131, 117, 113, 147, 134, 133, 147, 134, 133, 146, 134, 133, 148, 135, 134, 145, 130, 127, 142, 120, 113, 129, 104, 95, 127, 105, 97, 137, 122, 115, 136, 124, 121, 136, 125, 127, 138, 125, 127, 133, 123, 126, 111, 101, 102, 112, 103, 104, 117, 108, 109, 121, 112, 113, 124, 115, 116, 123, 114, 115, 126, 117, 117, 126, 113, 109, 131, 118, 111, 131, 119, 110, 121, 110, 99, 141, 123, 111, 150, 129, 116, 158, 138, 125, 156, 134, 121, 148, 123, 108, 131, 107, 94, 119, 101, 92, 144, 130, 125, 147, 136, 135, 143, 133, 132, 143, 133, 131, 144, 133, 132, 144, 130, 130, 147, 132, 131, 145, 130, 129, 142, 127, 127, 139, 128, 128, 138, 129, 129, 137, 127, 128, 132, 122, 123, 133, 123, 126, 109, 100, 101, 110, 101, 102, 114, 105, 106, 116, 107, 109, 119, 110, 111, 121, 112, 113, 122, 113, 113, 124, 115, 113, 125, 113, 108, 128, 114, 105, 122, 105, 93, 129, 107, 94, 134, 111, 97, 149, 126, 112, 155, 132, 118, 144, 120, 108, 135, 114, 104, 136, 119, 112, 145, 131, 128, 144, 134, 133, 143, 133, 133, 141, 131, 131, 141, 131, 130, 143, 130, 131, 142, 129, 130, 140, 127, 128, 138, 125, 126, 136, 125, 127, 133, 123, 124, 133, 123, 123, 129, 119, 120, 128, 119, 121, 105, 96, 97, 107, 98, 99, 111, 102, 103, 114, 105, 106, 119, 110, 111, 120, 111, 112, 118, 109, 110, 119, 113, 113, 126, 117, 114, 123, 108, 100, 123, 103, 92, 121, 98, 86, 124, 101, 89, 130, 107, 95, 129, 106, 94, 131, 111, 103, 139, 121, 115, 146, 131, 128, 142, 129, 128, 142, 132, 133, 143, 133, 134, 141, 131, 132, 141, 131, 132, 138, 127, 129, 138, 126, 128, 135, 123, 126, 132, 121, 123, 133, 122, 124, 130, 120, 121, 128, 118, 119, 127, 117, 118, 127, 117, 120], \"height\": 32, \"channels\": 3, \"width\": 32, \"type\": \"image\", \"id\": 140365507239696}], \"selected_variable\": {\"name\": [\"<SArray>\"], \"dtype\": \"Image\", \"view_component\": \"Images\", \"view_file\": \"sarray\", \"descriptives\": {\"rows\": 1}, \"type\": \"SArray\", \"view_components\": [\"Images\"]}}, e);\n",
       "                });\n",
       "            })();\n",
       "        "
      ]
     },
     "metadata": {},
     "output_type": "display_data"
    }
   ],
   "source": [
    "image_train[image_train[\"id\"] == 16976][\"image\"].show()"
   ]
  },
  {
   "cell_type": "code",
   "execution_count": null,
   "metadata": {
    "collapsed": true
   },
   "outputs": [],
   "source": []
  },
  {
   "cell_type": "code",
   "execution_count": 141,
   "metadata": {
    "collapsed": false
   },
   "outputs": [
    {
     "data": {
      "text/plain": [
       "36.15573070978294"
      ]
     },
     "execution_count": 141,
     "metadata": {},
     "output_type": "execute_result"
    }
   ],
   "source": [
    "cat_nearest[0:5][\"distance\"].mean()"
   ]
  },
  {
   "cell_type": "code",
   "execution_count": 142,
   "metadata": {
    "collapsed": false
   },
   "outputs": [
    {
     "data": {
      "text/plain": [
       "37.77071136184156"
      ]
     },
     "execution_count": 142,
     "metadata": {},
     "output_type": "execute_result"
    }
   ],
   "source": [
    "dog_nearest[0:5][\"distance\"].mean()"
   ]
  },
  {
   "cell_type": "markdown",
   "metadata": {},
   "source": [
    "## Part 4"
   ]
  },
  {
   "cell_type": "code",
   "execution_count": 41,
   "metadata": {
    "collapsed": true
   },
   "outputs": [],
   "source": [
    "image_test = graphlab.SFrame(\"image_test_data/\")"
   ]
  },
  {
   "cell_type": "code",
   "execution_count": 42,
   "metadata": {
    "collapsed": true
   },
   "outputs": [],
   "source": [
    "image_test_cat = image_test[image_test[\"label\"] == \"cat\"]"
   ]
  },
  {
   "cell_type": "code",
   "execution_count": 43,
   "metadata": {
    "collapsed": true
   },
   "outputs": [],
   "source": [
    "image_test_dog = image_test[image_test[\"label\"] == \"dog\"]"
   ]
  },
  {
   "cell_type": "code",
   "execution_count": 44,
   "metadata": {
    "collapsed": true
   },
   "outputs": [],
   "source": [
    "image_test_car = image_test[image_test[\"label\"] == \"automobile\"]"
   ]
  },
  {
   "cell_type": "code",
   "execution_count": 45,
   "metadata": {
    "collapsed": true
   },
   "outputs": [],
   "source": [
    "image_test_bird = image_test[image_test[\"label\"] == \"bird\"]"
   ]
  },
  {
   "cell_type": "code",
   "execution_count": 46,
   "metadata": {
    "collapsed": false
   },
   "outputs": [
    {
     "name": "stdout",
     "output_type": "stream",
     "text": [
      "PROGRESS: Starting blockwise querying.\n",
      "PROGRESS: max rows per data block: 7668\n",
      "PROGRESS: number of reference data blocks: 4\n",
      "PROGRESS: number of query data blocks: 1\n",
      "PROGRESS: +--------------+---------+-------------+--------------+\n",
      "PROGRESS: | Query points | # Pairs | % Complete. | Elapsed Time |\n",
      "PROGRESS: +--------------+---------+-------------+--------------+\n",
      "PROGRESS: | 1000         | 127000  | 24.9509     | 222.804ms    |\n",
      "PROGRESS: | Done         | 509000  | 100         | 235.616ms    |\n",
      "PROGRESS: +--------------+---------+-------------+--------------+\n"
     ]
    }
   ],
   "source": [
    "dog_cat_neighbours = cat_model.query(image_test_dog, k=1)"
   ]
  },
  {
   "cell_type": "code",
   "execution_count": 47,
   "metadata": {
    "collapsed": false
   },
   "outputs": [
    {
     "name": "stdout",
     "output_type": "stream",
     "text": [
      "PROGRESS: Starting blockwise querying.\n",
      "PROGRESS: max rows per data block: 7668\n",
      "PROGRESS: number of reference data blocks: 4\n",
      "PROGRESS: number of query data blocks: 1\n",
      "PROGRESS: +--------------+---------+-------------+--------------+\n",
      "PROGRESS: | Query points | # Pairs | % Complete. | Elapsed Time |\n",
      "PROGRESS: +--------------+---------+-------------+--------------+\n",
      "PROGRESS: | 1000         | 127000  | 24.9509     | 224.838ms    |\n",
      "PROGRESS: | Done         | 509000  | 100         | 243.739ms    |\n",
      "PROGRESS: +--------------+---------+-------------+--------------+\n"
     ]
    }
   ],
   "source": [
    "dog_car_neighbours = car_model.query(image_test_dog, k=1)"
   ]
  },
  {
   "cell_type": "code",
   "execution_count": 49,
   "metadata": {
    "collapsed": false
   },
   "outputs": [
    {
     "name": "stdout",
     "output_type": "stream",
     "text": [
      "PROGRESS: Starting blockwise querying.\n",
      "PROGRESS: max rows per data block: 7668\n",
      "PROGRESS: number of reference data blocks: 4\n",
      "PROGRESS: number of query data blocks: 1\n",
      "PROGRESS: +--------------+---------+-------------+--------------+\n",
      "PROGRESS: | Query points | # Pairs | % Complete. | Elapsed Time |\n",
      "PROGRESS: +--------------+---------+-------------+--------------+\n",
      "PROGRESS: | 1000         | 119000  | 24.8954     | 223.706ms    |\n",
      "PROGRESS: | Done         | 478000  | 100         | 238.398ms    |\n",
      "PROGRESS: +--------------+---------+-------------+--------------+\n"
     ]
    }
   ],
   "source": [
    "dog_bird_neighbours = bird_model.query(image_test_dog, k=1)"
   ]
  },
  {
   "cell_type": "code",
   "execution_count": 50,
   "metadata": {
    "collapsed": false
   },
   "outputs": [
    {
     "name": "stdout",
     "output_type": "stream",
     "text": [
      "PROGRESS: Starting blockwise querying.\n",
      "PROGRESS: max rows per data block: 7668\n",
      "PROGRESS: number of reference data blocks: 4\n",
      "PROGRESS: number of query data blocks: 1\n",
      "PROGRESS: +--------------+---------+-------------+--------------+\n",
      "PROGRESS: | Query points | # Pairs | % Complete. | Elapsed Time |\n",
      "PROGRESS: +--------------+---------+-------------+--------------+\n",
      "PROGRESS: | 1000         | 127000  | 24.9509     | 210.445ms    |\n",
      "PROGRESS: | Done         | 509000  | 100         | 243.066ms    |\n",
      "PROGRESS: +--------------+---------+-------------+--------------+\n"
     ]
    }
   ],
   "source": [
    "dog_dog_neighbours = dog_model.query(image_test_dog, k=1)"
   ]
  },
  {
   "cell_type": "code",
   "execution_count": 51,
   "metadata": {
    "collapsed": false
   },
   "outputs": [
    {
     "data": {
      "text/html": [
       "<div style=\"max-height:1000px;max-width:1500px;overflow:auto;\"><table frame=\"box\" rules=\"cols\">\n",
       "    <tr>\n",
       "        <th style=\"padding-left: 1em; padding-right: 1em; text-align: center\">query_label</th>\n",
       "        <th style=\"padding-left: 1em; padding-right: 1em; text-align: center\">reference_label</th>\n",
       "        <th style=\"padding-left: 1em; padding-right: 1em; text-align: center\">distance</th>\n",
       "        <th style=\"padding-left: 1em; padding-right: 1em; text-align: center\">rank</th>\n",
       "    </tr>\n",
       "    <tr>\n",
       "        <td style=\"padding-left: 1em; padding-right: 1em; text-align: center; vertical-align: top\">0</td>\n",
       "        <td style=\"padding-left: 1em; padding-right: 1em; text-align: center; vertical-align: top\">49803</td>\n",
       "        <td style=\"padding-left: 1em; padding-right: 1em; text-align: center; vertical-align: top\">33.4773590373</td>\n",
       "        <td style=\"padding-left: 1em; padding-right: 1em; text-align: center; vertical-align: top\">1</td>\n",
       "    </tr>\n",
       "    <tr>\n",
       "        <td style=\"padding-left: 1em; padding-right: 1em; text-align: center; vertical-align: top\">1</td>\n",
       "        <td style=\"padding-left: 1em; padding-right: 1em; text-align: center; vertical-align: top\">5755</td>\n",
       "        <td style=\"padding-left: 1em; padding-right: 1em; text-align: center; vertical-align: top\">32.8458495684</td>\n",
       "        <td style=\"padding-left: 1em; padding-right: 1em; text-align: center; vertical-align: top\">1</td>\n",
       "    </tr>\n",
       "    <tr>\n",
       "        <td style=\"padding-left: 1em; padding-right: 1em; text-align: center; vertical-align: top\">2</td>\n",
       "        <td style=\"padding-left: 1em; padding-right: 1em; text-align: center; vertical-align: top\">20715</td>\n",
       "        <td style=\"padding-left: 1em; padding-right: 1em; text-align: center; vertical-align: top\">35.0397073189</td>\n",
       "        <td style=\"padding-left: 1em; padding-right: 1em; text-align: center; vertical-align: top\">1</td>\n",
       "    </tr>\n",
       "    <tr>\n",
       "        <td style=\"padding-left: 1em; padding-right: 1em; text-align: center; vertical-align: top\">3</td>\n",
       "        <td style=\"padding-left: 1em; padding-right: 1em; text-align: center; vertical-align: top\">13387</td>\n",
       "        <td style=\"padding-left: 1em; padding-right: 1em; text-align: center; vertical-align: top\">33.9010327697</td>\n",
       "        <td style=\"padding-left: 1em; padding-right: 1em; text-align: center; vertical-align: top\">1</td>\n",
       "    </tr>\n",
       "    <tr>\n",
       "        <td style=\"padding-left: 1em; padding-right: 1em; text-align: center; vertical-align: top\">4</td>\n",
       "        <td style=\"padding-left: 1em; padding-right: 1em; text-align: center; vertical-align: top\">12089</td>\n",
       "        <td style=\"padding-left: 1em; padding-right: 1em; text-align: center; vertical-align: top\">37.4849250909</td>\n",
       "        <td style=\"padding-left: 1em; padding-right: 1em; text-align: center; vertical-align: top\">1</td>\n",
       "    </tr>\n",
       "    <tr>\n",
       "        <td style=\"padding-left: 1em; padding-right: 1em; text-align: center; vertical-align: top\">5</td>\n",
       "        <td style=\"padding-left: 1em; padding-right: 1em; text-align: center; vertical-align: top\">6094</td>\n",
       "        <td style=\"padding-left: 1em; padding-right: 1em; text-align: center; vertical-align: top\">34.945165344</td>\n",
       "        <td style=\"padding-left: 1em; padding-right: 1em; text-align: center; vertical-align: top\">1</td>\n",
       "    </tr>\n",
       "    <tr>\n",
       "        <td style=\"padding-left: 1em; padding-right: 1em; text-align: center; vertical-align: top\">6</td>\n",
       "        <td style=\"padding-left: 1em; padding-right: 1em; text-align: center; vertical-align: top\">3431</td>\n",
       "        <td style=\"padding-left: 1em; padding-right: 1em; text-align: center; vertical-align: top\">39.0957278345</td>\n",
       "        <td style=\"padding-left: 1em; padding-right: 1em; text-align: center; vertical-align: top\">1</td>\n",
       "    </tr>\n",
       "    <tr>\n",
       "        <td style=\"padding-left: 1em; padding-right: 1em; text-align: center; vertical-align: top\">7</td>\n",
       "        <td style=\"padding-left: 1em; padding-right: 1em; text-align: center; vertical-align: top\">6184</td>\n",
       "        <td style=\"padding-left: 1em; padding-right: 1em; text-align: center; vertical-align: top\">37.7696131032</td>\n",
       "        <td style=\"padding-left: 1em; padding-right: 1em; text-align: center; vertical-align: top\">1</td>\n",
       "    </tr>\n",
       "    <tr>\n",
       "        <td style=\"padding-left: 1em; padding-right: 1em; text-align: center; vertical-align: top\">8</td>\n",
       "        <td style=\"padding-left: 1em; padding-right: 1em; text-align: center; vertical-align: top\">2167</td>\n",
       "        <td style=\"padding-left: 1em; padding-right: 1em; text-align: center; vertical-align: top\">35.1089144603</td>\n",
       "        <td style=\"padding-left: 1em; padding-right: 1em; text-align: center; vertical-align: top\">1</td>\n",
       "    </tr>\n",
       "    <tr>\n",
       "        <td style=\"padding-left: 1em; padding-right: 1em; text-align: center; vertical-align: top\">9</td>\n",
       "        <td style=\"padding-left: 1em; padding-right: 1em; text-align: center; vertical-align: top\">7776</td>\n",
       "        <td style=\"padding-left: 1em; padding-right: 1em; text-align: center; vertical-align: top\">43.2422832585</td>\n",
       "        <td style=\"padding-left: 1em; padding-right: 1em; text-align: center; vertical-align: top\">1</td>\n",
       "    </tr>\n",
       "</table>\n",
       "[10 rows x 4 columns]<br/>\n",
       "</div>"
      ],
      "text/plain": [
       "Columns:\n",
       "\tquery_label\tint\n",
       "\treference_label\tint\n",
       "\tdistance\tfloat\n",
       "\trank\tint\n",
       "\n",
       "Rows: 10\n",
       "\n",
       "Data:\n",
       "+-------------+-----------------+---------------+------+\n",
       "| query_label | reference_label |    distance   | rank |\n",
       "+-------------+-----------------+---------------+------+\n",
       "|      0      |      49803      | 33.4773590373 |  1   |\n",
       "|      1      |       5755      | 32.8458495684 |  1   |\n",
       "|      2      |      20715      | 35.0397073189 |  1   |\n",
       "|      3      |      13387      | 33.9010327697 |  1   |\n",
       "|      4      |      12089      | 37.4849250909 |  1   |\n",
       "|      5      |       6094      |  34.945165344 |  1   |\n",
       "|      6      |       3431      | 39.0957278345 |  1   |\n",
       "|      7      |       6184      | 37.7696131032 |  1   |\n",
       "|      8      |       2167      | 35.1089144603 |  1   |\n",
       "|      9      |       7776      | 43.2422832585 |  1   |\n",
       "+-------------+-----------------+---------------+------+\n",
       "[10 rows x 4 columns]"
      ]
     },
     "execution_count": 51,
     "metadata": {},
     "output_type": "execute_result"
    }
   ],
   "source": [
    "dog_dog_neighbours.head()"
   ]
  },
  {
   "cell_type": "code",
   "execution_count": 52,
   "metadata": {
    "collapsed": true
   },
   "outputs": [],
   "source": [
    "dog_distances = graphlab.SFrame({\"dog-dog\": dog_dog_neighbours[\"distance\"], \"dog-cat\": dog_cat_neighbours[\"distance\"],\n",
    "                                \"dog-car\": dog_car_neighbours[\"distance\"], \"dog-bird\": dog_bird_neighbours[\"distance\"]})"
   ]
  },
  {
   "cell_type": "code",
   "execution_count": 53,
   "metadata": {
    "collapsed": false
   },
   "outputs": [
    {
     "data": {
      "text/html": [
       "<div style=\"max-height:1000px;max-width:1500px;overflow:auto;\"><table frame=\"box\" rules=\"cols\">\n",
       "    <tr>\n",
       "        <th style=\"padding-left: 1em; padding-right: 1em; text-align: center\">dog-bird</th>\n",
       "        <th style=\"padding-left: 1em; padding-right: 1em; text-align: center\">dog-car</th>\n",
       "        <th style=\"padding-left: 1em; padding-right: 1em; text-align: center\">dog-cat</th>\n",
       "        <th style=\"padding-left: 1em; padding-right: 1em; text-align: center\">dog-dog</th>\n",
       "    </tr>\n",
       "    <tr>\n",
       "        <td style=\"padding-left: 1em; padding-right: 1em; text-align: center; vertical-align: top\">41.7538647304</td>\n",
       "        <td style=\"padding-left: 1em; padding-right: 1em; text-align: center; vertical-align: top\">41.9579761457</td>\n",
       "        <td style=\"padding-left: 1em; padding-right: 1em; text-align: center; vertical-align: top\">36.4196077068</td>\n",
       "        <td style=\"padding-left: 1em; padding-right: 1em; text-align: center; vertical-align: top\">33.4773590373</td>\n",
       "    </tr>\n",
       "    <tr>\n",
       "        <td style=\"padding-left: 1em; padding-right: 1em; text-align: center; vertical-align: top\">41.3382958925</td>\n",
       "        <td style=\"padding-left: 1em; padding-right: 1em; text-align: center; vertical-align: top\">46.0021331807</td>\n",
       "        <td style=\"padding-left: 1em; padding-right: 1em; text-align: center; vertical-align: top\">38.8353268874</td>\n",
       "        <td style=\"padding-left: 1em; padding-right: 1em; text-align: center; vertical-align: top\">32.8458495684</td>\n",
       "    </tr>\n",
       "    <tr>\n",
       "        <td style=\"padding-left: 1em; padding-right: 1em; text-align: center; vertical-align: top\">38.6157590853</td>\n",
       "        <td style=\"padding-left: 1em; padding-right: 1em; text-align: center; vertical-align: top\">42.9462290692</td>\n",
       "        <td style=\"padding-left: 1em; padding-right: 1em; text-align: center; vertical-align: top\">36.9763410854</td>\n",
       "        <td style=\"padding-left: 1em; padding-right: 1em; text-align: center; vertical-align: top\">35.0397073189</td>\n",
       "    </tr>\n",
       "    <tr>\n",
       "        <td style=\"padding-left: 1em; padding-right: 1em; text-align: center; vertical-align: top\">37.0892269954</td>\n",
       "        <td style=\"padding-left: 1em; padding-right: 1em; text-align: center; vertical-align: top\">41.6866060048</td>\n",
       "        <td style=\"padding-left: 1em; padding-right: 1em; text-align: center; vertical-align: top\">34.5750072914</td>\n",
       "        <td style=\"padding-left: 1em; padding-right: 1em; text-align: center; vertical-align: top\">33.9010327697</td>\n",
       "    </tr>\n",
       "    <tr>\n",
       "        <td style=\"padding-left: 1em; padding-right: 1em; text-align: center; vertical-align: top\">38.272288694</td>\n",
       "        <td style=\"padding-left: 1em; padding-right: 1em; text-align: center; vertical-align: top\">39.2269664935</td>\n",
       "        <td style=\"padding-left: 1em; padding-right: 1em; text-align: center; vertical-align: top\">34.778824791</td>\n",
       "        <td style=\"padding-left: 1em; padding-right: 1em; text-align: center; vertical-align: top\">37.4849250909</td>\n",
       "    </tr>\n",
       "    <tr>\n",
       "        <td style=\"padding-left: 1em; padding-right: 1em; text-align: center; vertical-align: top\">39.1462089236</td>\n",
       "        <td style=\"padding-left: 1em; padding-right: 1em; text-align: center; vertical-align: top\">40.5845117698</td>\n",
       "        <td style=\"padding-left: 1em; padding-right: 1em; text-align: center; vertical-align: top\">35.1171578292</td>\n",
       "        <td style=\"padding-left: 1em; padding-right: 1em; text-align: center; vertical-align: top\">34.945165344</td>\n",
       "    </tr>\n",
       "    <tr>\n",
       "        <td style=\"padding-left: 1em; padding-right: 1em; text-align: center; vertical-align: top\">40.523040106</td>\n",
       "        <td style=\"padding-left: 1em; padding-right: 1em; text-align: center; vertical-align: top\">45.1067352961</td>\n",
       "        <td style=\"padding-left: 1em; padding-right: 1em; text-align: center; vertical-align: top\">40.6095830913</td>\n",
       "        <td style=\"padding-left: 1em; padding-right: 1em; text-align: center; vertical-align: top\">39.0957278345</td>\n",
       "    </tr>\n",
       "    <tr>\n",
       "        <td style=\"padding-left: 1em; padding-right: 1em; text-align: center; vertical-align: top\">38.1947918393</td>\n",
       "        <td style=\"padding-left: 1em; padding-right: 1em; text-align: center; vertical-align: top\">41.3221140974</td>\n",
       "        <td style=\"padding-left: 1em; padding-right: 1em; text-align: center; vertical-align: top\">39.9036867306</td>\n",
       "        <td style=\"padding-left: 1em; padding-right: 1em; text-align: center; vertical-align: top\">37.7696131032</td>\n",
       "    </tr>\n",
       "    <tr>\n",
       "        <td style=\"padding-left: 1em; padding-right: 1em; text-align: center; vertical-align: top\">40.1567131661</td>\n",
       "        <td style=\"padding-left: 1em; padding-right: 1em; text-align: center; vertical-align: top\">41.8244654995</td>\n",
       "        <td style=\"padding-left: 1em; padding-right: 1em; text-align: center; vertical-align: top\">38.0674700168</td>\n",
       "        <td style=\"padding-left: 1em; padding-right: 1em; text-align: center; vertical-align: top\">35.1089144603</td>\n",
       "    </tr>\n",
       "    <tr>\n",
       "        <td style=\"padding-left: 1em; padding-right: 1em; text-align: center; vertical-align: top\">45.5597962603</td>\n",
       "        <td style=\"padding-left: 1em; padding-right: 1em; text-align: center; vertical-align: top\">45.4976929401</td>\n",
       "        <td style=\"padding-left: 1em; padding-right: 1em; text-align: center; vertical-align: top\">42.7258732951</td>\n",
       "        <td style=\"padding-left: 1em; padding-right: 1em; text-align: center; vertical-align: top\">43.2422832585</td>\n",
       "    </tr>\n",
       "</table>\n",
       "[10 rows x 4 columns]<br/>\n",
       "</div>"
      ],
      "text/plain": [
       "Columns:\n",
       "\tdog-bird\tfloat\n",
       "\tdog-car\tfloat\n",
       "\tdog-cat\tfloat\n",
       "\tdog-dog\tfloat\n",
       "\n",
       "Rows: 10\n",
       "\n",
       "Data:\n",
       "+---------------+---------------+---------------+---------------+\n",
       "|    dog-bird   |    dog-car    |    dog-cat    |    dog-dog    |\n",
       "+---------------+---------------+---------------+---------------+\n",
       "| 41.7538647304 | 41.9579761457 | 36.4196077068 | 33.4773590373 |\n",
       "| 41.3382958925 | 46.0021331807 | 38.8353268874 | 32.8458495684 |\n",
       "| 38.6157590853 | 42.9462290692 | 36.9763410854 | 35.0397073189 |\n",
       "| 37.0892269954 | 41.6866060048 | 34.5750072914 | 33.9010327697 |\n",
       "|  38.272288694 | 39.2269664935 |  34.778824791 | 37.4849250909 |\n",
       "| 39.1462089236 | 40.5845117698 | 35.1171578292 |  34.945165344 |\n",
       "|  40.523040106 | 45.1067352961 | 40.6095830913 | 39.0957278345 |\n",
       "| 38.1947918393 | 41.3221140974 | 39.9036867306 | 37.7696131032 |\n",
       "| 40.1567131661 | 41.8244654995 | 38.0674700168 | 35.1089144603 |\n",
       "| 45.5597962603 | 45.4976929401 | 42.7258732951 | 43.2422832585 |\n",
       "+---------------+---------------+---------------+---------------+\n",
       "[10 rows x 4 columns]"
      ]
     },
     "execution_count": 53,
     "metadata": {},
     "output_type": "execute_result"
    }
   ],
   "source": [
    "dog_distances.head()"
   ]
  },
  {
   "cell_type": "code",
   "execution_count": 63,
   "metadata": {
    "collapsed": false
   },
   "outputs": [
    {
     "data": {
      "text/plain": [
       "'dog-dog'"
      ]
     },
     "execution_count": 63,
     "metadata": {},
     "output_type": "execute_result"
    }
   ],
   "source": [
    "min(dog_distances[0], key=dog_distances[0].get)"
   ]
  },
  {
   "cell_type": "code",
   "execution_count": 77,
   "metadata": {
    "collapsed": false
   },
   "outputs": [
    {
     "data": {
      "text/plain": [
       "dict"
      ]
     },
     "execution_count": 77,
     "metadata": {},
     "output_type": "execute_result"
    }
   ],
   "source": [
    "type(dog_distances[0])"
   ]
  },
  {
   "cell_type": "code",
   "execution_count": 76,
   "metadata": {
    "collapsed": false
   },
   "outputs": [
    {
     "data": {
      "text/plain": [
       "{'dog-bird': 41.753864730351246,\n",
       " 'dog-car': 41.957976145712024,\n",
       " 'dog-cat': 36.41960770675437,\n",
       " 'dog-dog': 33.47735903726335}"
      ]
     },
     "execution_count": 76,
     "metadata": {},
     "output_type": "execute_result"
    }
   ],
   "source": [
    "dog_distances[0]"
   ]
  },
  {
   "cell_type": "code",
   "execution_count": null,
   "metadata": {
    "collapsed": true
   },
   "outputs": [],
   "source": [
    "dog_distances[0].get"
   ]
  },
  {
   "cell_type": "code",
   "execution_count": 78,
   "metadata": {
    "collapsed": true
   },
   "outputs": [],
   "source": [
    "def is_dog_correct(row):\n",
    "    if min(row, key=row.get) == \"dog-dog\":\n",
    "        return 1\n",
    "    else: \n",
    "        return 0    "
   ]
  },
  {
   "cell_type": "code",
   "execution_count": 81,
   "metadata": {
    "collapsed": false
   },
   "outputs": [
    {
     "data": {
      "text/plain": [
       "678"
      ]
     },
     "execution_count": 81,
     "metadata": {},
     "output_type": "execute_result"
    }
   ],
   "source": [
    "dog_distances.apply(is_dog_correct).sum()"
   ]
  },
  {
   "cell_type": "code",
   "execution_count": 144,
   "metadata": {
    "collapsed": false
   },
   "outputs": [
    {
     "data": {
      "text/plain": [
       "<bound method SFrame.num_rows of Columns:\n",
       "\tdog-bird\tfloat\n",
       "\tdog-car\tfloat\n",
       "\tdog-cat\tfloat\n",
       "\tdog-dog\tfloat\n",
       "\n",
       "Rows: 1000\n",
       "\n",
       "Data:\n",
       "+---------------+---------------+---------------+---------------+\n",
       "|    dog-bird   |    dog-car    |    dog-cat    |    dog-dog    |\n",
       "+---------------+---------------+---------------+---------------+\n",
       "| 41.7538647304 | 41.9579761457 | 36.4196077068 | 33.4773590373 |\n",
       "| 41.3382958925 | 46.0021331807 | 38.8353268874 | 32.8458495684 |\n",
       "| 38.6157590853 | 42.9462290692 | 36.9763410854 | 35.0397073189 |\n",
       "| 37.0892269954 | 41.6866060048 | 34.5750072914 | 33.9010327697 |\n",
       "|  38.272288694 | 39.2269664935 |  34.778824791 | 37.4849250909 |\n",
       "| 39.1462089236 | 40.5845117698 | 35.1171578292 |  34.945165344 |\n",
       "|  40.523040106 | 45.1067352961 | 40.6095830913 | 39.0957278345 |\n",
       "| 38.1947918393 | 41.3221140974 | 39.9036867306 | 37.7696131032 |\n",
       "| 40.1567131661 | 41.8244654995 | 38.0674700168 | 35.1089144603 |\n",
       "| 45.5597962603 | 45.4976929401 | 42.7258732951 | 43.2422832585 |\n",
       "+---------------+---------------+---------------+---------------+\n",
       "[1000 rows x 4 columns]\n",
       "Note: Only the head of the SFrame is printed.\n",
       "You can use print_rows(num_rows=m, num_columns=n) to print more rows and columns.>"
      ]
     },
     "execution_count": 144,
     "metadata": {},
     "output_type": "execute_result"
    }
   ],
   "source": [
    "dog_distances.num_rows"
   ]
  },
  {
   "cell_type": "code",
   "execution_count": 91,
   "metadata": {
    "collapsed": true
   },
   "outputs": [],
   "source": [
    "def is_cat_correct(row):\n",
    "    if min(row, key=row.get) == \"cat-cat\":\n",
    "        return 1\n",
    "    else: \n",
    "        return 0    "
   ]
  },
  {
   "cell_type": "code",
   "execution_count": 85,
   "metadata": {
    "collapsed": false
   },
   "outputs": [
    {
     "name": "stdout",
     "output_type": "stream",
     "text": [
      "PROGRESS: Starting blockwise querying.\n",
      "PROGRESS: max rows per data block: 7668\n",
      "PROGRESS: number of reference data blocks: 4\n",
      "PROGRESS: number of query data blocks: 1\n",
      "PROGRESS: +--------------+---------+-------------+--------------+\n",
      "PROGRESS: | Query points | # Pairs | % Complete. | Elapsed Time |\n",
      "PROGRESS: +--------------+---------+-------------+--------------+\n",
      "PROGRESS: | 1000         | 127000  | 24.9509     | 217.745ms    |\n",
      "PROGRESS: | Done         | 509000  | 100         | 246.815ms    |\n",
      "PROGRESS: +--------------+---------+-------------+--------------+\n"
     ]
    }
   ],
   "source": [
    "cat_cat_neighbours = cat_model.query(image_test_cat, k=1)"
   ]
  },
  {
   "cell_type": "code",
   "execution_count": 86,
   "metadata": {
    "collapsed": false
   },
   "outputs": [
    {
     "name": "stdout",
     "output_type": "stream",
     "text": [
      "PROGRESS: Starting blockwise querying.\n",
      "PROGRESS: max rows per data block: 7668\n",
      "PROGRESS: number of reference data blocks: 4\n",
      "PROGRESS: number of query data blocks: 1\n",
      "PROGRESS: +--------------+---------+-------------+--------------+\n",
      "PROGRESS: | Query points | # Pairs | % Complete. | Elapsed Time |\n",
      "PROGRESS: +--------------+---------+-------------+--------------+\n",
      "PROGRESS: | 1000         | 127000  | 24.9509     | 213.448ms    |\n",
      "PROGRESS: | Done         | 509000  | 100         | 238.609ms    |\n",
      "PROGRESS: +--------------+---------+-------------+--------------+\n"
     ]
    }
   ],
   "source": [
    "cat_dog_neighbours = dog_model.query(image_test_cat, k=1)"
   ]
  },
  {
   "cell_type": "code",
   "execution_count": 87,
   "metadata": {
    "collapsed": false
   },
   "outputs": [
    {
     "name": "stdout",
     "output_type": "stream",
     "text": [
      "PROGRESS: Starting blockwise querying.\n",
      "PROGRESS: max rows per data block: 7668\n",
      "PROGRESS: number of reference data blocks: 4\n",
      "PROGRESS: number of query data blocks: 1\n",
      "PROGRESS: +--------------+---------+-------------+--------------+\n",
      "PROGRESS: | Query points | # Pairs | % Complete. | Elapsed Time |\n",
      "PROGRESS: +--------------+---------+-------------+--------------+\n",
      "PROGRESS: | 1000         | 128000  | 25.1473     | 227.037ms    |\n",
      "PROGRESS: | Done         | 509000  | 100         | 246.725ms    |\n",
      "PROGRESS: +--------------+---------+-------------+--------------+\n"
     ]
    }
   ],
   "source": [
    "cat_car_neighbours = car_model.query(image_test_cat, k=1)"
   ]
  },
  {
   "cell_type": "code",
   "execution_count": 88,
   "metadata": {
    "collapsed": false
   },
   "outputs": [
    {
     "name": "stdout",
     "output_type": "stream",
     "text": [
      "PROGRESS: Starting blockwise querying.\n",
      "PROGRESS: max rows per data block: 7668\n",
      "PROGRESS: number of reference data blocks: 4\n",
      "PROGRESS: number of query data blocks: 1\n",
      "PROGRESS: +--------------+---------+-------------+--------------+\n",
      "PROGRESS: | Query points | # Pairs | % Complete. | Elapsed Time |\n",
      "PROGRESS: +--------------+---------+-------------+--------------+\n",
      "PROGRESS: | 1000         | 120000  | 25.1046     | 209.398ms    |\n",
      "PROGRESS: | Done         | 478000  | 100         | 240.065ms    |\n",
      "PROGRESS: +--------------+---------+-------------+--------------+\n"
     ]
    }
   ],
   "source": [
    "cat_bird_neighbours = bird_model.query(image_test_cat, k=1)"
   ]
  },
  {
   "cell_type": "code",
   "execution_count": 89,
   "metadata": {
    "collapsed": true
   },
   "outputs": [],
   "source": [
    "cat_distances = graphlab.SFrame({\"cat-cat\": cat_cat_neighbours[\"distance\"], \"cat-dog\": cat_dog_neighbours[\"distance\"],\n",
    "                                \"cat-car\": cat_car_neighbours[\"distance\"], \"cat-bird\": cat_bird_neighbours[\"distance\"]})"
   ]
  },
  {
   "cell_type": "code",
   "execution_count": 92,
   "metadata": {
    "collapsed": false
   },
   "outputs": [
    {
     "data": {
      "text/plain": [
       "548"
      ]
     },
     "execution_count": 92,
     "metadata": {},
     "output_type": "execute_result"
    }
   ],
   "source": [
    "cat_distances.apply(is_cat_correct).sum()"
   ]
  },
  {
   "cell_type": "code",
   "execution_count": null,
   "metadata": {
    "collapsed": true
   },
   "outputs": [],
   "source": []
  }
 ],
 "metadata": {
  "kernelspec": {
   "display_name": "Python 2",
   "language": "python",
   "name": "python2"
  },
  "language_info": {
   "codemirror_mode": {
    "name": "ipython",
    "version": 2
   },
   "file_extension": ".py",
   "mimetype": "text/x-python",
   "name": "python",
   "nbconvert_exporter": "python",
   "pygments_lexer": "ipython2",
   "version": "2.7.11"
  }
 },
 "nbformat": 4,
 "nbformat_minor": 0
}
